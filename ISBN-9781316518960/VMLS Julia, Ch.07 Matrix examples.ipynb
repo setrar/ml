{
 "cells": [
  {
   "cell_type": "code",
   "execution_count": 1,
   "metadata": {},
   "outputs": [],
   "source": [
    "using LinearAlgebra"
   ]
  },
  {
   "cell_type": "markdown",
   "metadata": {},
   "source": [
    "## Chapter 7\n",
    "# Matrix examples\n",
    "### 7.1 Geometric transformations\n",
    "\n",
    "Let’s create a rotation matrix, and use it to rotate a set of points $π/3$ radians ($60^{\\circ}$). The result is in Figure 7.1."
   ]
  },
  {
   "cell_type": "code",
   "execution_count": 2,
   "metadata": {},
   "outputs": [
    {
     "data": {
      "text/plain": [
       "2×2 Matrix{Float64}:\n",
       " 0.5       -0.866025\n",
       " 0.866025   0.5"
      ]
     },
     "execution_count": 2,
     "metadata": {},
     "output_type": "execute_result"
    }
   ],
   "source": [
    "Rot(theta) = [cos(theta) -sin(theta); sin(theta) cos(theta)];\n",
    "R = Rot(pi/3)"
   ]
  },
  {
   "cell_type": "code",
   "execution_count": 3,
   "metadata": {},
   "outputs": [
    {
     "data": {
      "image/png": "[encoded data removed]",
      "image/svg+xml": [
       "<?xml version=\"1.0\" encoding=\"utf-8\"?>\n",
       "<svg xmlns=\"http://www.w3.org/2000/svg\" xmlns:xlink=\"http://www.w3.org/1999/xlink\" width=\"500\" height=\"500\" viewBox=\"0 0 2000 2000\">\n",
       "<defs>\n",
       "  <clipPath id=\"clip510\">\n",
       "    <rect x=\"0\" y=\"0\" width=\"2000\" height=\"2000\"/>\n",
       "  </clipPath>\n",
       "</defs>\n",
       "<path clip-path=\"url(#clip510)\" d=\"M0 2000 L2000 2000 L2000 0 L0 0  Z\" fill=\"#ffffff\" fill-rule=\"evenodd\" fill-opacity=\"1\"/>\n",
       "<defs>\n",
       "  <clipPath id=\"clip511\">\n",
       "    <rect x=\"400\" y=\"199\" width=\"1401\" height=\"1401\"/>\n",
       "  </clipPath>\n",
       "</defs>\n",
       "<path clip-path=\"url(#clip510)\" d=\"M152.112 1865.17 L1952.76 1865.17 L1952.76 47.2441 L152.112 47.2441  Z\" fill=\"#ffffff\" fill-rule=\"evenodd\" fill-opacity=\"1\"/>\n",
       "<defs>\n",
       "  <clipPath id=\"clip512\">\n",
       "    <rect x=\"152\" y=\"47\" width=\"1802\" height=\"1819\"/>\n",
       "  </clipPath>\n",
       "</defs>\n",
       "<polyline clip-path=\"url(#clip512)\" style=\"stroke:#000000; stroke-linecap:round; stroke-linejoin:round; stroke-width:2; stroke-opacity:0.1; fill:none\" points=\"233.96,1865.17 233.96,47.2441 \"/>\n",
       "<polyline clip-path=\"url(#clip512)\" style=\"stroke:#000000; stroke-linecap:round; stroke-linejoin:round; stroke-width:2; stroke-opacity:0.1; fill:none\" points=\"643.197,1865.17 643.197,47.2441 \"/>\n",
       "<polyline clip-path=\"url(#clip512)\" style=\"stroke:#000000; stroke-linecap:round; stroke-linejoin:round; stroke-width:2; stroke-opacity:0.1; fill:none\" points=\"1052.43,1865.17 1052.43,47.2441 \"/>\n",
       "<polyline clip-path=\"url(#clip512)\" style=\"stroke:#000000; stroke-linecap:round; stroke-linejoin:round; stroke-width:2; stroke-opacity:0.1; fill:none\" points=\"1461.67,1865.17 1461.67,47.2441 \"/>\n",
       "<polyline clip-path=\"url(#clip512)\" style=\"stroke:#000000; stroke-linecap:round; stroke-linejoin:round; stroke-width:2; stroke-opacity:0.1; fill:none\" points=\"1870.91,1865.17 1870.91,47.2441 \"/>\n",
       "<polyline clip-path=\"url(#clip510)\" style=\"stroke:#000000; stroke-linecap:round; stroke-linejoin:round; stroke-width:4; stroke-opacity:1; fill:none\" points=\"152.112,1865.17 1952.76,1865.17 \"/>\n",
       "<polyline clip-path=\"url(#clip510)\" style=\"stroke:#000000; stroke-linecap:round; stroke-linejoin:round; stroke-width:4; stroke-opacity:1; fill:none\" points=\"233.96,1865.17 233.96,1846.27 \"/>\n",
       "<polyline clip-path=\"url(#clip510)\" style=\"stroke:#000000; stroke-linecap:round; stroke-linejoin:round; stroke-width:4; stroke-opacity:1; fill:none\" points=\"643.197,1865.17 643.197,1846.27 \"/>\n",
       "<polyline clip-path=\"url(#clip510)\" style=\"stroke:#000000; stroke-linecap:round; stroke-linejoin:round; stroke-width:4; stroke-opacity:1; fill:none\" points=\"1052.43,1865.17 1052.43,1846.27 \"/>\n",
       "<polyline clip-path=\"url(#clip510)\" style=\"stroke:#000000; stroke-linecap:round; stroke-linejoin:round; stroke-width:4; stroke-opacity:1; fill:none\" points=\"1461.67,1865.17 1461.67,1846.27 \"/>\n",
       "<polyline clip-path=\"url(#clip510)\" style=\"stroke:#000000; stroke-linecap:round; stroke-linejoin:round; stroke-width:4; stroke-opacity:1; fill:none\" points=\"1870.91,1865.17 1870.91,1846.27 \"/>\n",
       "<path clip-path=\"url(#clip510)\" d=\"M211.344 1892.89 Q207.733 1892.89 205.904 1896.45 Q204.099 1899.99 204.099 1907.12 Q204.099 1914.23 205.904 1917.79 Q207.733 1921.34 211.344 1921.34 Q214.978 1921.34 216.784 1917.79 Q218.612 1914.23 218.612 1907.12 Q218.612 1899.99 216.784 1896.45 Q214.978 1892.89 211.344 1892.89 M211.344 1889.18 Q217.154 1889.18 220.21 1893.79 Q223.288 1898.37 223.288 1907.12 Q223.288 1915.85 220.21 1920.46 Q217.154 1925.04 211.344 1925.04 Q205.534 1925.04 202.455 1920.46 Q199.4 1915.85 199.4 1907.12 Q199.4 1898.37 202.455 1893.79 Q205.534 1889.18 211.344 1889.18 Z\" fill=\"#000000\" fill-rule=\"nonzero\" fill-opacity=\"1\" /><path clip-path=\"url(#clip510)\" d=\"M231.506 1918.49 L236.39 1918.49 L236.39 1924.37 L231.506 1924.37 L231.506 1918.49 Z\" fill=\"#000000\" fill-rule=\"nonzero\" fill-opacity=\"1\" /><path clip-path=\"url(#clip510)\" d=\"M256.575 1892.89 Q252.964 1892.89 251.135 1896.45 Q249.33 1899.99 249.33 1907.12 Q249.33 1914.23 251.135 1917.79 Q252.964 1921.34 256.575 1921.34 Q260.209 1921.34 262.015 1917.79 Q263.844 1914.23 263.844 1907.12 Q263.844 1899.99 262.015 1896.45 Q260.209 1892.89 256.575 1892.89 M256.575 1889.18 Q262.385 1889.18 265.441 1893.79 Q268.52 1898.37 268.52 1907.12 Q268.52 1915.85 265.441 1920.46 Q262.385 1925.04 256.575 1925.04 Q250.765 1925.04 247.686 1920.46 Q244.631 1915.85 244.631 1907.12 Q244.631 1898.37 247.686 1893.79 Q250.765 1889.18 256.575 1889.18 Z\" fill=\"#000000\" fill-rule=\"nonzero\" fill-opacity=\"1\" /><path clip-path=\"url(#clip510)\" d=\"M621.079 1892.89 Q617.468 1892.89 615.639 1896.45 Q613.834 1899.99 613.834 1907.12 Q613.834 1914.23 615.639 1917.79 Q617.468 1921.34 621.079 1921.34 Q624.713 1921.34 626.519 1917.79 Q628.347 1914.23 628.347 1907.12 Q628.347 1899.99 626.519 1896.45 Q624.713 1892.89 621.079 1892.89 M621.079 1889.18 Q626.889 1889.18 629.945 1893.79 Q633.023 1898.37 633.023 1907.12 Q633.023 1915.85 629.945 1920.46 Q626.889 1925.04 621.079 1925.04 Q615.269 1925.04 612.19 1920.46 Q609.134 1915.85 609.134 1907.12 Q609.134 1898.37 612.19 1893.79 Q615.269 1889.18 621.079 1889.18 Z\" fill=\"#000000\" fill-rule=\"nonzero\" fill-opacity=\"1\" /><path clip-path=\"url(#clip510)\" d=\"M641.241 1918.49 L646.125 1918.49 L646.125 1924.37 L641.241 1924.37 L641.241 1918.49 Z\" fill=\"#000000\" fill-rule=\"nonzero\" fill-opacity=\"1\" /><path clip-path=\"url(#clip510)\" d=\"M656.356 1889.81 L674.713 1889.81 L674.713 1893.74 L660.639 1893.74 L660.639 1902.22 Q661.657 1901.87 662.676 1901.71 Q663.694 1901.52 664.713 1901.52 Q670.5 1901.52 673.879 1904.69 Q677.259 1907.86 677.259 1913.28 Q677.259 1918.86 673.787 1921.96 Q670.315 1925.04 663.995 1925.04 Q661.819 1925.04 659.551 1924.67 Q657.306 1924.3 654.898 1923.56 L654.898 1918.86 Q656.981 1919.99 659.204 1920.55 Q661.426 1921.1 663.903 1921.1 Q667.907 1921.1 670.245 1919 Q672.583 1916.89 672.583 1913.28 Q672.583 1909.67 670.245 1907.56 Q667.907 1905.46 663.903 1905.46 Q662.028 1905.46 660.153 1905.87 Q658.301 1906.29 656.356 1907.17 L656.356 1889.81 Z\" fill=\"#000000\" fill-rule=\"nonzero\" fill-opacity=\"1\" /><path clip-path=\"url(#clip510)\" d=\"M1019.59 1920.43 L1027.23 1920.43 L1027.23 1894.07 L1018.92 1895.73 L1018.92 1891.47 L1027.18 1889.81 L1031.86 1889.81 L1031.86 1920.43 L1039.49 1920.43 L1039.49 1924.37 L1019.59 1924.37 L1019.59 1920.43 Z\" fill=\"#000000\" fill-rule=\"nonzero\" fill-opacity=\"1\" /><path clip-path=\"url(#clip510)\" d=\"M1048.94 1918.49 L1053.82 1918.49 L1053.82 1924.37 L1048.94 1924.37 L1048.94 1918.49 Z\" fill=\"#000000\" fill-rule=\"nonzero\" fill-opacity=\"1\" /><path clip-path=\"url(#clip510)\" d=\"M1074.01 1892.89 Q1070.4 1892.89 1068.57 1896.45 Q1066.76 1899.99 1066.76 1907.12 Q1066.76 1914.23 1068.57 1917.79 Q1070.4 1921.34 1074.01 1921.34 Q1077.64 1921.34 1079.45 1917.79 Q1081.28 1914.23 1081.28 1907.12 Q1081.28 1899.99 1079.45 1896.45 Q1077.64 1892.89 1074.01 1892.89 M1074.01 1889.18 Q1079.82 1889.18 1082.87 1893.79 Q1085.95 1898.37 1085.95 1907.12 Q1085.95 1915.85 1082.87 1920.46 Q1079.82 1925.04 1074.01 1925.04 Q1068.2 1925.04 1065.12 1920.46 Q1062.06 1915.85 1062.06 1907.12 Q1062.06 1898.37 1065.12 1893.79 Q1068.2 1889.18 1074.01 1889.18 Z\" fill=\"#000000\" fill-rule=\"nonzero\" fill-opacity=\"1\" /><path clip-path=\"url(#clip510)\" d=\"M1429.32 1920.43 L1436.96 1920.43 L1436.96 1894.07 L1428.65 1895.73 L1428.65 1891.47 L1436.91 1889.81 L1441.59 1889.81 L1441.59 1920.43 L1449.23 1920.43 L1449.23 1924.37 L1429.32 1924.37 L1429.32 1920.43 Z\" fill=\"#000000\" fill-rule=\"nonzero\" fill-opacity=\"1\" /><path clip-path=\"url(#clip510)\" d=\"M1458.67 1918.49 L1463.56 1918.49 L1463.56 1924.37 L1458.67 1924.37 L1458.67 1918.49 Z\" fill=\"#000000\" fill-rule=\"nonzero\" fill-opacity=\"1\" /><path clip-path=\"url(#clip510)\" d=\"M1473.79 1889.81 L1492.15 1889.81 L1492.15 1893.74 L1478.07 1893.74 L1478.07 1902.22 Q1479.09 1901.87 1480.11 1901.71 Q1481.13 1901.52 1482.15 1901.52 Q1487.93 1901.52 1491.31 1904.69 Q1494.69 1907.86 1494.69 1913.28 Q1494.69 1918.86 1491.22 1921.96 Q1487.75 1925.04 1481.43 1925.04 Q1479.25 1925.04 1476.98 1924.67 Q1474.74 1924.3 1472.33 1923.56 L1472.33 1918.86 Q1474.41 1919.99 1476.64 1920.55 Q1478.86 1921.1 1481.34 1921.1 Q1485.34 1921.1 1487.68 1919 Q1490.02 1916.89 1490.02 1913.28 Q1490.02 1909.67 1487.68 1907.56 Q1485.34 1905.46 1481.34 1905.46 Q1479.46 1905.46 1477.59 1905.87 Q1475.73 1906.29 1473.79 1907.17 L1473.79 1889.81 Z\" fill=\"#000000\" fill-rule=\"nonzero\" fill-opacity=\"1\" /><path clip-path=\"url(#clip510)\" d=\"M1842.15 1920.43 L1858.47 1920.43 L1858.47 1924.37 L1836.52 1924.37 L1836.52 1920.43 Q1839.18 1917.68 1843.77 1913.05 Q1848.37 1908.4 1849.55 1907.05 Q1851.8 1904.53 1852.68 1902.79 Q1853.58 1901.03 1853.58 1899.34 Q1853.58 1896.59 1851.64 1894.85 Q1849.72 1893.12 1846.61 1893.12 Q1844.42 1893.12 1841.96 1893.88 Q1839.53 1894.65 1836.75 1896.2 L1836.75 1891.47 Q1839.58 1890.34 1842.03 1889.76 Q1844.48 1889.18 1846.52 1889.18 Q1851.89 1889.18 1855.09 1891.87 Q1858.28 1894.55 1858.28 1899.04 Q1858.28 1901.17 1857.47 1903.09 Q1856.68 1904.99 1854.58 1907.59 Q1854 1908.26 1850.9 1911.47 Q1847.8 1914.67 1842.15 1920.43 Z\" fill=\"#000000\" fill-rule=\"nonzero\" fill-opacity=\"1\" /><path clip-path=\"url(#clip510)\" d=\"M1868.28 1918.49 L1873.17 1918.49 L1873.17 1924.37 L1868.28 1924.37 L1868.28 1918.49 Z\" fill=\"#000000\" fill-rule=\"nonzero\" fill-opacity=\"1\" /><path clip-path=\"url(#clip510)\" d=\"M1893.35 1892.89 Q1889.74 1892.89 1887.91 1896.45 Q1886.11 1899.99 1886.11 1907.12 Q1886.11 1914.23 1887.91 1917.79 Q1889.74 1921.34 1893.35 1921.34 Q1896.98 1921.34 1898.79 1917.79 Q1900.62 1914.23 1900.62 1907.12 Q1900.62 1899.99 1898.79 1896.45 Q1896.98 1892.89 1893.35 1892.89 M1893.35 1889.18 Q1899.16 1889.18 1902.22 1893.79 Q1905.29 1898.37 1905.29 1907.12 Q1905.29 1915.85 1902.22 1920.46 Q1899.16 1925.04 1893.35 1925.04 Q1887.54 1925.04 1884.46 1920.46 Q1881.41 1915.85 1881.41 1907.12 Q1881.41 1898.37 1884.46 1893.79 Q1887.54 1889.18 1893.35 1889.18 Z\" fill=\"#000000\" fill-rule=\"nonzero\" fill-opacity=\"1\" /><polyline clip-path=\"url(#clip512)\" style=\"stroke:#000000; stroke-linecap:round; stroke-linejoin:round; stroke-width:2; stroke-opacity:0.1; fill:none\" points=\"152.112,1782.53 1952.76,1782.53 \"/>\n",
       "<polyline clip-path=\"url(#clip512)\" style=\"stroke:#000000; stroke-linecap:round; stroke-linejoin:round; stroke-width:2; stroke-opacity:0.1; fill:none\" points=\"152.112,1369.37 1952.76,1369.37 \"/>\n",
       "<polyline clip-path=\"url(#clip512)\" style=\"stroke:#000000; stroke-linecap:round; stroke-linejoin:round; stroke-width:2; stroke-opacity:0.1; fill:none\" points=\"152.112,956.206 1952.76,956.206 \"/>\n",
       "<polyline clip-path=\"url(#clip512)\" style=\"stroke:#000000; stroke-linecap:round; stroke-linejoin:round; stroke-width:2; stroke-opacity:0.1; fill:none\" points=\"152.112,543.041 1952.76,543.041 \"/>\n",
       "<polyline clip-path=\"url(#clip512)\" style=\"stroke:#000000; stroke-linecap:round; stroke-linejoin:round; stroke-width:2; stroke-opacity:0.1; fill:none\" points=\"152.112,129.877 1952.76,129.877 \"/>\n",
       "<polyline clip-path=\"url(#clip510)\" style=\"stroke:#000000; stroke-linecap:round; stroke-linejoin:round; stroke-width:4; stroke-opacity:1; fill:none\" points=\"152.112,1865.17 152.112,47.2441 \"/>\n",
       "<polyline clip-path=\"url(#clip510)\" style=\"stroke:#000000; stroke-linecap:round; stroke-linejoin:round; stroke-width:4; stroke-opacity:1; fill:none\" points=\"152.112,1782.53 171.01,1782.53 \"/>\n",
       "<polyline clip-path=\"url(#clip510)\" style=\"stroke:#000000; stroke-linecap:round; stroke-linejoin:round; stroke-width:4; stroke-opacity:1; fill:none\" points=\"152.112,1369.37 171.01,1369.37 \"/>\n",
       "<polyline clip-path=\"url(#clip510)\" style=\"stroke:#000000; stroke-linecap:round; stroke-linejoin:round; stroke-width:4; stroke-opacity:1; fill:none\" points=\"152.112,956.206 171.01,956.206 \"/>\n",
       "<polyline clip-path=\"url(#clip510)\" style=\"stroke:#000000; stroke-linecap:round; stroke-linejoin:round; stroke-width:4; stroke-opacity:1; fill:none\" points=\"152.112,543.041 171.01,543.041 \"/>\n",
       "<polyline clip-path=\"url(#clip510)\" style=\"stroke:#000000; stroke-linecap:round; stroke-linejoin:round; stroke-width:4; stroke-opacity:1; fill:none\" points=\"152.112,129.877 171.01,129.877 \"/>\n",
       "<path clip-path=\"url(#clip510)\" d=\"M64.9365 1768.33 Q61.3254 1768.33 59.4967 1771.9 Q57.6912 1775.44 57.6912 1782.57 Q57.6912 1789.68 59.4967 1793.24 Q61.3254 1796.78 64.9365 1796.78 Q68.5707 1796.78 70.3763 1793.24 Q72.205 1789.68 72.205 1782.57 Q72.205 1775.44 70.3763 1771.9 Q68.5707 1768.33 64.9365 1768.33 M64.9365 1764.63 Q70.7467 1764.63 73.8022 1769.24 Q76.8809 1773.82 76.8809 1782.57 Q76.8809 1791.3 73.8022 1795.9 Q70.7467 1800.49 64.9365 1800.49 Q59.1264 1800.49 56.0477 1795.9 Q52.9921 1791.3 52.9921 1782.57 Q52.9921 1773.82 56.0477 1769.24 Q59.1264 1764.63 64.9365 1764.63 Z\" fill=\"#000000\" fill-rule=\"nonzero\" fill-opacity=\"1\" /><path clip-path=\"url(#clip510)\" d=\"M85.0984 1793.94 L89.9827 1793.94 L89.9827 1799.81 L85.0984 1799.81 L85.0984 1793.94 Z\" fill=\"#000000\" fill-rule=\"nonzero\" fill-opacity=\"1\" /><path clip-path=\"url(#clip510)\" d=\"M110.168 1768.33 Q106.557 1768.33 104.728 1771.9 Q102.922 1775.44 102.922 1782.57 Q102.922 1789.68 104.728 1793.24 Q106.557 1796.78 110.168 1796.78 Q113.802 1796.78 115.608 1793.24 Q117.436 1789.68 117.436 1782.57 Q117.436 1775.44 115.608 1771.9 Q113.802 1768.33 110.168 1768.33 M110.168 1764.63 Q115.978 1764.63 119.033 1769.24 Q122.112 1773.82 122.112 1782.57 Q122.112 1791.3 119.033 1795.9 Q115.978 1800.49 110.168 1800.49 Q104.358 1800.49 101.279 1795.9 Q98.2234 1791.3 98.2234 1782.57 Q98.2234 1773.82 101.279 1769.24 Q104.358 1764.63 110.168 1764.63 Z\" fill=\"#000000\" fill-rule=\"nonzero\" fill-opacity=\"1\" /><path clip-path=\"url(#clip510)\" d=\"M65.9319 1355.17 Q62.3208 1355.17 60.4921 1358.73 Q58.6865 1362.28 58.6865 1369.41 Q58.6865 1376.51 60.4921 1380.08 Q62.3208 1383.62 65.9319 1383.62 Q69.5661 1383.62 71.3717 1380.08 Q73.2004 1376.51 73.2004 1369.41 Q73.2004 1362.28 71.3717 1358.73 Q69.5661 1355.17 65.9319 1355.17 M65.9319 1351.47 Q71.742 1351.47 74.7976 1356.07 Q77.8763 1360.66 77.8763 1369.41 Q77.8763 1378.13 74.7976 1382.74 Q71.742 1387.32 65.9319 1387.32 Q60.1217 1387.32 57.043 1382.74 Q53.9875 1378.13 53.9875 1369.41 Q53.9875 1360.66 57.043 1356.07 Q60.1217 1351.47 65.9319 1351.47 Z\" fill=\"#000000\" fill-rule=\"nonzero\" fill-opacity=\"1\" /><path clip-path=\"url(#clip510)\" d=\"M86.0938 1380.77 L90.978 1380.77 L90.978 1386.65 L86.0938 1386.65 L86.0938 1380.77 Z\" fill=\"#000000\" fill-rule=\"nonzero\" fill-opacity=\"1\" /><path clip-path=\"url(#clip510)\" d=\"M101.209 1352.09 L119.566 1352.09 L119.566 1356.03 L105.492 1356.03 L105.492 1364.5 Q106.51 1364.15 107.529 1363.99 Q108.547 1363.8 109.566 1363.8 Q115.353 1363.8 118.733 1366.97 Q122.112 1370.15 122.112 1375.56 Q122.112 1381.14 118.64 1384.24 Q115.168 1387.32 108.848 1387.32 Q106.672 1387.32 104.404 1386.95 Q102.159 1386.58 99.7511 1385.84 L99.7511 1381.14 Q101.834 1382.28 104.057 1382.83 Q106.279 1383.39 108.756 1383.39 Q112.76 1383.39 115.098 1381.28 Q117.436 1379.17 117.436 1375.56 Q117.436 1371.95 115.098 1369.85 Q112.76 1367.74 108.756 1367.74 Q106.881 1367.74 105.006 1368.16 Q103.154 1368.57 101.209 1369.45 L101.209 1352.09 Z\" fill=\"#000000\" fill-rule=\"nonzero\" fill-opacity=\"1\" /><path clip-path=\"url(#clip510)\" d=\"M55.7467 969.551 L63.3856 969.551 L63.3856 943.185 L55.0754 944.852 L55.0754 940.593 L63.3393 938.926 L68.0152 938.926 L68.0152 969.551 L75.654 969.551 L75.654 973.486 L55.7467 973.486 L55.7467 969.551 Z\" fill=\"#000000\" fill-rule=\"nonzero\" fill-opacity=\"1\" /><path clip-path=\"url(#clip510)\" d=\"M85.0984 967.606 L89.9827 967.606 L89.9827 973.486 L85.0984 973.486 L85.0984 967.606 Z\" fill=\"#000000\" fill-rule=\"nonzero\" fill-opacity=\"1\" /><path clip-path=\"url(#clip510)\" d=\"M110.168 942.005 Q106.557 942.005 104.728 945.569 Q102.922 949.111 102.922 956.241 Q102.922 963.347 104.728 966.912 Q106.557 970.454 110.168 970.454 Q113.802 970.454 115.608 966.912 Q117.436 963.347 117.436 956.241 Q117.436 949.111 115.608 945.569 Q113.802 942.005 110.168 942.005 M110.168 938.301 Q115.978 938.301 119.033 942.907 Q122.112 947.491 122.112 956.241 Q122.112 964.968 119.033 969.574 Q115.978 974.157 110.168 974.157 Q104.358 974.157 101.279 969.574 Q98.2234 964.968 98.2234 956.241 Q98.2234 947.491 101.279 942.907 Q104.358 938.301 110.168 938.301 Z\" fill=\"#000000\" fill-rule=\"nonzero\" fill-opacity=\"1\" /><path clip-path=\"url(#clip510)\" d=\"M56.7421 556.386 L64.381 556.386 L64.381 530.021 L56.0708 531.687 L56.0708 527.428 L64.3347 525.761 L69.0106 525.761 L69.0106 556.386 L76.6494 556.386 L76.6494 560.321 L56.7421 560.321 L56.7421 556.386 Z\" fill=\"#000000\" fill-rule=\"nonzero\" fill-opacity=\"1\" /><path clip-path=\"url(#clip510)\" d=\"M86.0938 554.442 L90.978 554.442 L90.978 560.321 L86.0938 560.321 L86.0938 554.442 Z\" fill=\"#000000\" fill-rule=\"nonzero\" fill-opacity=\"1\" /><path clip-path=\"url(#clip510)\" d=\"M101.209 525.761 L119.566 525.761 L119.566 529.697 L105.492 529.697 L105.492 538.169 Q106.51 537.822 107.529 537.66 Q108.547 537.474 109.566 537.474 Q115.353 537.474 118.733 540.646 Q122.112 543.817 122.112 549.234 Q122.112 554.812 118.64 557.914 Q115.168 560.993 108.848 560.993 Q106.672 560.993 104.404 560.622 Q102.159 560.252 99.7511 559.511 L99.7511 554.812 Q101.834 555.947 104.057 556.502 Q106.279 557.058 108.756 557.058 Q112.76 557.058 115.098 554.951 Q117.436 552.845 117.436 549.234 Q117.436 545.622 115.098 543.516 Q112.76 541.41 108.756 541.41 Q106.881 541.41 105.006 541.826 Q103.154 542.243 101.209 543.123 L101.209 525.761 Z\" fill=\"#000000\" fill-rule=\"nonzero\" fill-opacity=\"1\" /><path clip-path=\"url(#clip510)\" d=\"M58.9643 143.222 L75.2837 143.222 L75.2837 147.157 L53.3393 147.157 L53.3393 143.222 Q56.0014 140.467 60.5847 135.838 Q65.1911 131.185 66.3717 129.842 Q68.617 127.319 69.4967 125.583 Q70.3994 123.824 70.3994 122.134 Q70.3994 119.379 68.455 117.643 Q66.5337 115.907 63.4319 115.907 Q61.2328 115.907 58.7791 116.671 Q56.3486 117.435 53.5708 118.986 L53.5708 114.264 Q56.3949 113.129 58.8486 112.551 Q61.3023 111.972 63.3393 111.972 Q68.7096 111.972 71.9041 114.657 Q75.0985 117.342 75.0985 121.833 Q75.0985 123.963 74.2883 125.884 Q73.5013 127.782 71.3948 130.375 Q70.8161 131.046 67.7143 134.264 Q64.6124 137.458 58.9643 143.222 Z\" fill=\"#000000\" fill-rule=\"nonzero\" fill-opacity=\"1\" /><path clip-path=\"url(#clip510)\" d=\"M85.0984 141.277 L89.9827 141.277 L89.9827 147.157 L85.0984 147.157 L85.0984 141.277 Z\" fill=\"#000000\" fill-rule=\"nonzero\" fill-opacity=\"1\" /><path clip-path=\"url(#clip510)\" d=\"M110.168 115.676 Q106.557 115.676 104.728 119.24 Q102.922 122.782 102.922 129.912 Q102.922 137.018 104.728 140.583 Q106.557 144.125 110.168 144.125 Q113.802 144.125 115.608 140.583 Q117.436 137.018 117.436 129.912 Q117.436 122.782 115.608 119.24 Q113.802 115.676 110.168 115.676 M110.168 111.972 Q115.978 111.972 119.033 116.578 Q122.112 121.162 122.112 129.912 Q122.112 138.639 119.033 143.245 Q115.978 147.828 110.168 147.828 Q104.358 147.828 101.279 143.245 Q98.2234 138.639 98.2234 129.912 Q98.2234 121.162 101.279 116.578 Q104.358 111.972 110.168 111.972 Z\" fill=\"#000000\" fill-rule=\"nonzero\" fill-opacity=\"1\" /><circle clip-path=\"url(#clip512)\" cx=\"1052.43\" cy=\"1782.53\" r=\"14.4\" fill=\"#009af9\" fill-rule=\"evenodd\" fill-opacity=\"1\" stroke=\"#000000\" stroke-opacity=\"1\" stroke-width=\"4\"/>\n",
       "<circle clip-path=\"url(#clip512)\" cx=\"1461.67\" cy=\"1782.53\" r=\"14.4\" fill=\"#009af9\" fill-rule=\"evenodd\" fill-opacity=\"1\" stroke=\"#000000\" stroke-opacity=\"1\" stroke-width=\"4\"/>\n",
       "<circle clip-path=\"url(#clip512)\" cx=\"1870.91\" cy=\"1782.53\" r=\"14.4\" fill=\"#009af9\" fill-rule=\"evenodd\" fill-opacity=\"1\" stroke=\"#000000\" stroke-opacity=\"1\" stroke-width=\"4\"/>\n",
       "<circle clip-path=\"url(#clip512)\" cx=\"1052.43\" cy=\"1575.95\" r=\"14.4\" fill=\"#009af9\" fill-rule=\"evenodd\" fill-opacity=\"1\" stroke=\"#000000\" stroke-opacity=\"1\" stroke-width=\"4\"/>\n",
       "<circle clip-path=\"url(#clip512)\" cx=\"1461.67\" cy=\"1575.95\" r=\"14.4\" fill=\"#009af9\" fill-rule=\"evenodd\" fill-opacity=\"1\" stroke=\"#000000\" stroke-opacity=\"1\" stroke-width=\"4\"/>\n",
       "<circle clip-path=\"url(#clip512)\" cx=\"1052.43\" cy=\"1369.37\" r=\"14.4\" fill=\"#009af9\" fill-rule=\"evenodd\" fill-opacity=\"1\" stroke=\"#000000\" stroke-opacity=\"1\" stroke-width=\"4\"/>\n",
       "<circle clip-path=\"url(#clip512)\" cx=\"643.197\" cy=\"1066.91\" r=\"14.4\" fill=\"#e26f46\" fill-rule=\"evenodd\" fill-opacity=\"1\" stroke=\"#000000\" stroke-opacity=\"1\" stroke-width=\"4\"/>\n",
       "<circle clip-path=\"url(#clip512)\" cx=\"847.815\" cy=\"709.102\" r=\"14.4\" fill=\"#e26f46\" fill-rule=\"evenodd\" fill-opacity=\"1\" stroke=\"#000000\" stroke-opacity=\"1\" stroke-width=\"4\"/>\n",
       "<circle clip-path=\"url(#clip512)\" cx=\"1052.43\" cy=\"351.291\" r=\"14.4\" fill=\"#e26f46\" fill-rule=\"evenodd\" fill-opacity=\"1\" stroke=\"#000000\" stroke-opacity=\"1\" stroke-width=\"4\"/>\n",
       "<circle clip-path=\"url(#clip512)\" cx=\"465.992\" cy=\"963.622\" r=\"14.4\" fill=\"#e26f46\" fill-rule=\"evenodd\" fill-opacity=\"1\" stroke=\"#000000\" stroke-opacity=\"1\" stroke-width=\"4\"/>\n",
       "<circle clip-path=\"url(#clip512)\" cx=\"670.61\" cy=\"605.811\" r=\"14.4\" fill=\"#e26f46\" fill-rule=\"evenodd\" fill-opacity=\"1\" stroke=\"#000000\" stroke-opacity=\"1\" stroke-width=\"4\"/>\n",
       "<circle clip-path=\"url(#clip512)\" cx=\"288.787\" cy=\"860.331\" r=\"14.4\" fill=\"#e26f46\" fill-rule=\"evenodd\" fill-opacity=\"1\" stroke=\"#000000\" stroke-opacity=\"1\" stroke-width=\"4\"/>\n",
       "</svg>\n"
      ],
      "text/html": [
       "<?xml version=\"1.0\" encoding=\"utf-8\"?>\n",
       "<svg xmlns=\"http://www.w3.org/2000/svg\" xmlns:xlink=\"http://www.w3.org/1999/xlink\" width=\"500\" height=\"500\" viewBox=\"0 0 2000 2000\">\n",
       "<defs>\n",
       "  <clipPath id=\"clip560\">\n",
       "    <rect x=\"0\" y=\"0\" width=\"2000\" height=\"2000\"/>\n",
       "  </clipPath>\n",
       "</defs>\n",
       "<path clip-path=\"url(#clip560)\" d=\"M0 2000 L2000 2000 L2000 0 L0 0  Z\" fill=\"#ffffff\" fill-rule=\"evenodd\" fill-opacity=\"1\"/>\n",
       "<defs>\n",
       "  <clipPath id=\"clip561\">\n",
       "    <rect x=\"400\" y=\"199\" width=\"1401\" height=\"1401\"/>\n",
       "  </clipPath>\n",
       "</defs>\n",
       "<path clip-path=\"url(#clip560)\" d=\"M152.112 1865.17 L1952.76 1865.17 L1952.76 47.2441 L152.112 47.2441  Z\" fill=\"#ffffff\" fill-rule=\"evenodd\" fill-opacity=\"1\"/>\n",
       "<defs>\n",
       "  <clipPath id=\"clip562\">\n",
       "    <rect x=\"152\" y=\"47\" width=\"1802\" height=\"1819\"/>\n",
       "  </clipPath>\n",
       "</defs>\n",
       "<polyline clip-path=\"url(#clip562)\" style=\"stroke:#000000; stroke-linecap:round; stroke-linejoin:round; stroke-width:2; stroke-opacity:0.1; fill:none\" points=\"233.96,1865.17 233.96,47.2441 \"/>\n",
       "<polyline clip-path=\"url(#clip562)\" style=\"stroke:#000000; stroke-linecap:round; stroke-linejoin:round; stroke-width:2; stroke-opacity:0.1; fill:none\" points=\"643.197,1865.17 643.197,47.2441 \"/>\n",
       "<polyline clip-path=\"url(#clip562)\" style=\"stroke:#000000; stroke-linecap:round; stroke-linejoin:round; stroke-width:2; stroke-opacity:0.1; fill:none\" points=\"1052.43,1865.17 1052.43,47.2441 \"/>\n",
       "<polyline clip-path=\"url(#clip562)\" style=\"stroke:#000000; stroke-linecap:round; stroke-linejoin:round; stroke-width:2; stroke-opacity:0.1; fill:none\" points=\"1461.67,1865.17 1461.67,47.2441 \"/>\n",
       "<polyline clip-path=\"url(#clip562)\" style=\"stroke:#000000; stroke-linecap:round; stroke-linejoin:round; stroke-width:2; stroke-opacity:0.1; fill:none\" points=\"1870.91,1865.17 1870.91,47.2441 \"/>\n",
       "<polyline clip-path=\"url(#clip560)\" style=\"stroke:#000000; stroke-linecap:round; stroke-linejoin:round; stroke-width:4; stroke-opacity:1; fill:none\" points=\"152.112,1865.17 1952.76,1865.17 \"/>\n",
       "<polyline clip-path=\"url(#clip560)\" style=\"stroke:#000000; stroke-linecap:round; stroke-linejoin:round; stroke-width:4; stroke-opacity:1; fill:none\" points=\"233.96,1865.17 233.96,1846.27 \"/>\n",
       "<polyline clip-path=\"url(#clip560)\" style=\"stroke:#000000; stroke-linecap:round; stroke-linejoin:round; stroke-width:4; stroke-opacity:1; fill:none\" points=\"643.197,1865.17 643.197,1846.27 \"/>\n",
       "<polyline clip-path=\"url(#clip560)\" style=\"stroke:#000000; stroke-linecap:round; stroke-linejoin:round; stroke-width:4; stroke-opacity:1; fill:none\" points=\"1052.43,1865.17 1052.43,1846.27 \"/>\n",
       "<polyline clip-path=\"url(#clip560)\" style=\"stroke:#000000; stroke-linecap:round; stroke-linejoin:round; stroke-width:4; stroke-opacity:1; fill:none\" points=\"1461.67,1865.17 1461.67,1846.27 \"/>\n",
       "<polyline clip-path=\"url(#clip560)\" style=\"stroke:#000000; stroke-linecap:round; stroke-linejoin:round; stroke-width:4; stroke-opacity:1; fill:none\" points=\"1870.91,1865.17 1870.91,1846.27 \"/>\n",
       "<path clip-path=\"url(#clip560)\" d=\"M211.344 1892.89 Q207.733 1892.89 205.904 1896.45 Q204.099 1899.99 204.099 1907.12 Q204.099 1914.23 205.904 1917.79 Q207.733 1921.34 211.344 1921.34 Q214.978 1921.34 216.784 1917.79 Q218.612 1914.23 218.612 1907.12 Q218.612 1899.99 216.784 1896.45 Q214.978 1892.89 211.344 1892.89 M211.344 1889.18 Q217.154 1889.18 220.21 1893.79 Q223.288 1898.37 223.288 1907.12 Q223.288 1915.85 220.21 1920.46 Q217.154 1925.04 211.344 1925.04 Q205.534 1925.04 202.455 1920.46 Q199.4 1915.85 199.4 1907.12 Q199.4 1898.37 202.455 1893.79 Q205.534 1889.18 211.344 1889.18 Z\" fill=\"#000000\" fill-rule=\"nonzero\" fill-opacity=\"1\" /><path clip-path=\"url(#clip560)\" d=\"M231.506 1918.49 L236.39 1918.49 L236.39 1924.37 L231.506 1924.37 L231.506 1918.49 Z\" fill=\"#000000\" fill-rule=\"nonzero\" fill-opacity=\"1\" /><path clip-path=\"url(#clip560)\" d=\"M256.575 1892.89 Q252.964 1892.89 251.135 1896.45 Q249.33 1899.99 249.33 1907.12 Q249.33 1914.23 251.135 1917.79 Q252.964 1921.34 256.575 1921.34 Q260.209 1921.34 262.015 1917.79 Q263.844 1914.23 263.844 1907.12 Q263.844 1899.99 262.015 1896.45 Q260.209 1892.89 256.575 1892.89 M256.575 1889.18 Q262.385 1889.18 265.441 1893.79 Q268.52 1898.37 268.52 1907.12 Q268.52 1915.85 265.441 1920.46 Q262.385 1925.04 256.575 1925.04 Q250.765 1925.04 247.686 1920.46 Q244.631 1915.85 244.631 1907.12 Q244.631 1898.37 247.686 1893.79 Q250.765 1889.18 256.575 1889.18 Z\" fill=\"#000000\" fill-rule=\"nonzero\" fill-opacity=\"1\" /><path clip-path=\"url(#clip560)\" d=\"M621.079 1892.89 Q617.468 1892.89 615.639 1896.45 Q613.834 1899.99 613.834 1907.12 Q613.834 1914.23 615.639 1917.79 Q617.468 1921.34 621.079 1921.34 Q624.713 1921.34 626.519 1917.79 Q628.347 1914.23 628.347 1907.12 Q628.347 1899.99 626.519 1896.45 Q624.713 1892.89 621.079 1892.89 M621.079 1889.18 Q626.889 1889.18 629.945 1893.79 Q633.023 1898.37 633.023 1907.12 Q633.023 1915.85 629.945 1920.46 Q626.889 1925.04 621.079 1925.04 Q615.269 1925.04 612.19 1920.46 Q609.134 1915.85 609.134 1907.12 Q609.134 1898.37 612.19 1893.79 Q615.269 1889.18 621.079 1889.18 Z\" fill=\"#000000\" fill-rule=\"nonzero\" fill-opacity=\"1\" /><path clip-path=\"url(#clip560)\" d=\"M641.241 1918.49 L646.125 1918.49 L646.125 1924.37 L641.241 1924.37 L641.241 1918.49 Z\" fill=\"#000000\" fill-rule=\"nonzero\" fill-opacity=\"1\" /><path clip-path=\"url(#clip560)\" d=\"M656.356 1889.81 L674.713 1889.81 L674.713 1893.74 L660.639 1893.74 L660.639 1902.22 Q661.657 1901.87 662.676 1901.71 Q663.694 1901.52 664.713 1901.52 Q670.5 1901.52 673.879 1904.69 Q677.259 1907.86 677.259 1913.28 Q677.259 1918.86 673.787 1921.96 Q670.315 1925.04 663.995 1925.04 Q661.819 1925.04 659.551 1924.67 Q657.306 1924.3 654.898 1923.56 L654.898 1918.86 Q656.981 1919.99 659.204 1920.55 Q661.426 1921.1 663.903 1921.1 Q667.907 1921.1 670.245 1919 Q672.583 1916.89 672.583 1913.28 Q672.583 1909.67 670.245 1907.56 Q667.907 1905.46 663.903 1905.46 Q662.028 1905.46 660.153 1905.87 Q658.301 1906.29 656.356 1907.17 L656.356 1889.81 Z\" fill=\"#000000\" fill-rule=\"nonzero\" fill-opacity=\"1\" /><path clip-path=\"url(#clip560)\" d=\"M1019.59 1920.43 L1027.23 1920.43 L1027.23 1894.07 L1018.92 1895.73 L1018.92 1891.47 L1027.18 1889.81 L1031.86 1889.81 L1031.86 1920.43 L1039.49 1920.43 L1039.49 1924.37 L1019.59 1924.37 L1019.59 1920.43 Z\" fill=\"#000000\" fill-rule=\"nonzero\" fill-opacity=\"1\" /><path clip-path=\"url(#clip560)\" d=\"M1048.94 1918.49 L1053.82 1918.49 L1053.82 1924.37 L1048.94 1924.37 L1048.94 1918.49 Z\" fill=\"#000000\" fill-rule=\"nonzero\" fill-opacity=\"1\" /><path clip-path=\"url(#clip560)\" d=\"M1074.01 1892.89 Q1070.4 1892.89 1068.57 1896.45 Q1066.76 1899.99 1066.76 1907.12 Q1066.76 1914.23 1068.57 1917.79 Q1070.4 1921.34 1074.01 1921.34 Q1077.64 1921.34 1079.45 1917.79 Q1081.28 1914.23 1081.28 1907.12 Q1081.28 1899.99 1079.45 1896.45 Q1077.64 1892.89 1074.01 1892.89 M1074.01 1889.18 Q1079.82 1889.18 1082.87 1893.79 Q1085.95 1898.37 1085.95 1907.12 Q1085.95 1915.85 1082.87 1920.46 Q1079.82 1925.04 1074.01 1925.04 Q1068.2 1925.04 1065.12 1920.46 Q1062.06 1915.85 1062.06 1907.12 Q1062.06 1898.37 1065.12 1893.79 Q1068.2 1889.18 1074.01 1889.18 Z\" fill=\"#000000\" fill-rule=\"nonzero\" fill-opacity=\"1\" /><path clip-path=\"url(#clip560)\" d=\"M1429.32 1920.43 L1436.96 1920.43 L1436.96 1894.07 L1428.65 1895.73 L1428.65 1891.47 L1436.91 1889.81 L1441.59 1889.81 L1441.59 1920.43 L1449.23 1920.43 L1449.23 1924.37 L1429.32 1924.37 L1429.32 1920.43 Z\" fill=\"#000000\" fill-rule=\"nonzero\" fill-opacity=\"1\" /><path clip-path=\"url(#clip560)\" d=\"M1458.67 1918.49 L1463.56 1918.49 L1463.56 1924.37 L1458.67 1924.37 L1458.67 1918.49 Z\" fill=\"#000000\" fill-rule=\"nonzero\" fill-opacity=\"1\" /><path clip-path=\"url(#clip560)\" d=\"M1473.79 1889.81 L1492.15 1889.81 L1492.15 1893.74 L1478.07 1893.74 L1478.07 1902.22 Q1479.09 1901.87 1480.11 1901.71 Q1481.13 1901.52 1482.15 1901.52 Q1487.93 1901.52 1491.31 1904.69 Q1494.69 1907.86 1494.69 1913.28 Q1494.69 1918.86 1491.22 1921.96 Q1487.75 1925.04 1481.43 1925.04 Q1479.25 1925.04 1476.98 1924.67 Q1474.74 1924.3 1472.33 1923.56 L1472.33 1918.86 Q1474.41 1919.99 1476.64 1920.55 Q1478.86 1921.1 1481.34 1921.1 Q1485.34 1921.1 1487.68 1919 Q1490.02 1916.89 1490.02 1913.28 Q1490.02 1909.67 1487.68 1907.56 Q1485.34 1905.46 1481.34 1905.46 Q1479.46 1905.46 1477.59 1905.87 Q1475.73 1906.29 1473.79 1907.17 L1473.79 1889.81 Z\" fill=\"#000000\" fill-rule=\"nonzero\" fill-opacity=\"1\" /><path clip-path=\"url(#clip560)\" d=\"M1842.15 1920.43 L1858.47 1920.43 L1858.47 1924.37 L1836.52 1924.37 L1836.52 1920.43 Q1839.18 1917.68 1843.77 1913.05 Q1848.37 1908.4 1849.55 1907.05 Q1851.8 1904.53 1852.68 1902.79 Q1853.58 1901.03 1853.58 1899.34 Q1853.58 1896.59 1851.64 1894.85 Q1849.72 1893.12 1846.61 1893.12 Q1844.42 1893.12 1841.96 1893.88 Q1839.53 1894.65 1836.75 1896.2 L1836.75 1891.47 Q1839.58 1890.34 1842.03 1889.76 Q1844.48 1889.18 1846.52 1889.18 Q1851.89 1889.18 1855.09 1891.87 Q1858.28 1894.55 1858.28 1899.04 Q1858.28 1901.17 1857.47 1903.09 Q1856.68 1904.99 1854.58 1907.59 Q1854 1908.26 1850.9 1911.47 Q1847.8 1914.67 1842.15 1920.43 Z\" fill=\"#000000\" fill-rule=\"nonzero\" fill-opacity=\"1\" /><path clip-path=\"url(#clip560)\" d=\"M1868.28 1918.49 L1873.17 1918.49 L1873.17 1924.37 L1868.28 1924.37 L1868.28 1918.49 Z\" fill=\"#000000\" fill-rule=\"nonzero\" fill-opacity=\"1\" /><path clip-path=\"url(#clip560)\" d=\"M1893.35 1892.89 Q1889.74 1892.89 1887.91 1896.45 Q1886.11 1899.99 1886.11 1907.12 Q1886.11 1914.23 1887.91 1917.79 Q1889.74 1921.34 1893.35 1921.34 Q1896.98 1921.34 1898.79 1917.79 Q1900.62 1914.23 1900.62 1907.12 Q1900.62 1899.99 1898.79 1896.45 Q1896.98 1892.89 1893.35 1892.89 M1893.35 1889.18 Q1899.16 1889.18 1902.22 1893.79 Q1905.29 1898.37 1905.29 1907.12 Q1905.29 1915.85 1902.22 1920.46 Q1899.16 1925.04 1893.35 1925.04 Q1887.54 1925.04 1884.46 1920.46 Q1881.41 1915.85 1881.41 1907.12 Q1881.41 1898.37 1884.46 1893.79 Q1887.54 1889.18 1893.35 1889.18 Z\" fill=\"#000000\" fill-rule=\"nonzero\" fill-opacity=\"1\" /><polyline clip-path=\"url(#clip562)\" style=\"stroke:#000000; stroke-linecap:round; stroke-linejoin:round; stroke-width:2; stroke-opacity:0.1; fill:none\" points=\"152.112,1782.53 1952.76,1782.53 \"/>\n",
       "<polyline clip-path=\"url(#clip562)\" style=\"stroke:#000000; stroke-linecap:round; stroke-linejoin:round; stroke-width:2; stroke-opacity:0.1; fill:none\" points=\"152.112,1369.37 1952.76,1369.37 \"/>\n",
       "<polyline clip-path=\"url(#clip562)\" style=\"stroke:#000000; stroke-linecap:round; stroke-linejoin:round; stroke-width:2; stroke-opacity:0.1; fill:none\" points=\"152.112,956.206 1952.76,956.206 \"/>\n",
       "<polyline clip-path=\"url(#clip562)\" style=\"stroke:#000000; stroke-linecap:round; stroke-linejoin:round; stroke-width:2; stroke-opacity:0.1; fill:none\" points=\"152.112,543.041 1952.76,543.041 \"/>\n",
       "<polyline clip-path=\"url(#clip562)\" style=\"stroke:#000000; stroke-linecap:round; stroke-linejoin:round; stroke-width:2; stroke-opacity:0.1; fill:none\" points=\"152.112,129.877 1952.76,129.877 \"/>\n",
       "<polyline clip-path=\"url(#clip560)\" style=\"stroke:#000000; stroke-linecap:round; stroke-linejoin:round; stroke-width:4; stroke-opacity:1; fill:none\" points=\"152.112,1865.17 152.112,47.2441 \"/>\n",
       "<polyline clip-path=\"url(#clip560)\" style=\"stroke:#000000; stroke-linecap:round; stroke-linejoin:round; stroke-width:4; stroke-opacity:1; fill:none\" points=\"152.112,1782.53 171.01,1782.53 \"/>\n",
       "<polyline clip-path=\"url(#clip560)\" style=\"stroke:#000000; stroke-linecap:round; stroke-linejoin:round; stroke-width:4; stroke-opacity:1; fill:none\" points=\"152.112,1369.37 171.01,1369.37 \"/>\n",
       "<polyline clip-path=\"url(#clip560)\" style=\"stroke:#000000; stroke-linecap:round; stroke-linejoin:round; stroke-width:4; stroke-opacity:1; fill:none\" points=\"152.112,956.206 171.01,956.206 \"/>\n",
       "<polyline clip-path=\"url(#clip560)\" style=\"stroke:#000000; stroke-linecap:round; stroke-linejoin:round; stroke-width:4; stroke-opacity:1; fill:none\" points=\"152.112,543.041 171.01,543.041 \"/>\n",
       "<polyline clip-path=\"url(#clip560)\" style=\"stroke:#000000; stroke-linecap:round; stroke-linejoin:round; stroke-width:4; stroke-opacity:1; fill:none\" points=\"152.112,129.877 171.01,129.877 \"/>\n",
       "<path clip-path=\"url(#clip560)\" d=\"M64.9365 1768.33 Q61.3254 1768.33 59.4967 1771.9 Q57.6912 1775.44 57.6912 1782.57 Q57.6912 1789.68 59.4967 1793.24 Q61.3254 1796.78 64.9365 1796.78 Q68.5707 1796.78 70.3763 1793.24 Q72.205 1789.68 72.205 1782.57 Q72.205 1775.44 70.3763 1771.9 Q68.5707 1768.33 64.9365 1768.33 M64.9365 1764.63 Q70.7467 1764.63 73.8022 1769.24 Q76.8809 1773.82 76.8809 1782.57 Q76.8809 1791.3 73.8022 1795.9 Q70.7467 1800.49 64.9365 1800.49 Q59.1264 1800.49 56.0477 1795.9 Q52.9921 1791.3 52.9921 1782.57 Q52.9921 1773.82 56.0477 1769.24 Q59.1264 1764.63 64.9365 1764.63 Z\" fill=\"#000000\" fill-rule=\"nonzero\" fill-opacity=\"1\" /><path clip-path=\"url(#clip560)\" d=\"M85.0984 1793.94 L89.9827 1793.94 L89.9827 1799.81 L85.0984 1799.81 L85.0984 1793.94 Z\" fill=\"#000000\" fill-rule=\"nonzero\" fill-opacity=\"1\" /><path clip-path=\"url(#clip560)\" d=\"M110.168 1768.33 Q106.557 1768.33 104.728 1771.9 Q102.922 1775.44 102.922 1782.57 Q102.922 1789.68 104.728 1793.24 Q106.557 1796.78 110.168 1796.78 Q113.802 1796.78 115.608 1793.24 Q117.436 1789.68 117.436 1782.57 Q117.436 1775.44 115.608 1771.9 Q113.802 1768.33 110.168 1768.33 M110.168 1764.63 Q115.978 1764.63 119.033 1769.24 Q122.112 1773.82 122.112 1782.57 Q122.112 1791.3 119.033 1795.9 Q115.978 1800.49 110.168 1800.49 Q104.358 1800.49 101.279 1795.9 Q98.2234 1791.3 98.2234 1782.57 Q98.2234 1773.82 101.279 1769.24 Q104.358 1764.63 110.168 1764.63 Z\" fill=\"#000000\" fill-rule=\"nonzero\" fill-opacity=\"1\" /><path clip-path=\"url(#clip560)\" d=\"M65.9319 1355.17 Q62.3208 1355.17 60.4921 1358.73 Q58.6865 1362.28 58.6865 1369.41 Q58.6865 1376.51 60.4921 1380.08 Q62.3208 1383.62 65.9319 1383.62 Q69.5661 1383.62 71.3717 1380.08 Q73.2004 1376.51 73.2004 1369.41 Q73.2004 1362.28 71.3717 1358.73 Q69.5661 1355.17 65.9319 1355.17 M65.9319 1351.47 Q71.742 1351.47 74.7976 1356.07 Q77.8763 1360.66 77.8763 1369.41 Q77.8763 1378.13 74.7976 1382.74 Q71.742 1387.32 65.9319 1387.32 Q60.1217 1387.32 57.043 1382.74 Q53.9875 1378.13 53.9875 1369.41 Q53.9875 1360.66 57.043 1356.07 Q60.1217 1351.47 65.9319 1351.47 Z\" fill=\"#000000\" fill-rule=\"nonzero\" fill-opacity=\"1\" /><path clip-path=\"url(#clip560)\" d=\"M86.0938 1380.77 L90.978 1380.77 L90.978 1386.65 L86.0938 1386.65 L86.0938 1380.77 Z\" fill=\"#000000\" fill-rule=\"nonzero\" fill-opacity=\"1\" /><path clip-path=\"url(#clip560)\" d=\"M101.209 1352.09 L119.566 1352.09 L119.566 1356.03 L105.492 1356.03 L105.492 1364.5 Q106.51 1364.15 107.529 1363.99 Q108.547 1363.8 109.566 1363.8 Q115.353 1363.8 118.733 1366.97 Q122.112 1370.15 122.112 1375.56 Q122.112 1381.14 118.64 1384.24 Q115.168 1387.32 108.848 1387.32 Q106.672 1387.32 104.404 1386.95 Q102.159 1386.58 99.7511 1385.84 L99.7511 1381.14 Q101.834 1382.28 104.057 1382.83 Q106.279 1383.39 108.756 1383.39 Q112.76 1383.39 115.098 1381.28 Q117.436 1379.17 117.436 1375.56 Q117.436 1371.95 115.098 1369.85 Q112.76 1367.74 108.756 1367.74 Q106.881 1367.74 105.006 1368.16 Q103.154 1368.57 101.209 1369.45 L101.209 1352.09 Z\" fill=\"#000000\" fill-rule=\"nonzero\" fill-opacity=\"1\" /><path clip-path=\"url(#clip560)\" d=\"M55.7467 969.551 L63.3856 969.551 L63.3856 943.185 L55.0754 944.852 L55.0754 940.593 L63.3393 938.926 L68.0152 938.926 L68.0152 969.551 L75.654 969.551 L75.654 973.486 L55.7467 973.486 L55.7467 969.551 Z\" fill=\"#000000\" fill-rule=\"nonzero\" fill-opacity=\"1\" /><path clip-path=\"url(#clip560)\" d=\"M85.0984 967.606 L89.9827 967.606 L89.9827 973.486 L85.0984 973.486 L85.0984 967.606 Z\" fill=\"#000000\" fill-rule=\"nonzero\" fill-opacity=\"1\" /><path clip-path=\"url(#clip560)\" d=\"M110.168 942.005 Q106.557 942.005 104.728 945.569 Q102.922 949.111 102.922 956.241 Q102.922 963.347 104.728 966.912 Q106.557 970.454 110.168 970.454 Q113.802 970.454 115.608 966.912 Q117.436 963.347 117.436 956.241 Q117.436 949.111 115.608 945.569 Q113.802 942.005 110.168 942.005 M110.168 938.301 Q115.978 938.301 119.033 942.907 Q122.112 947.491 122.112 956.241 Q122.112 964.968 119.033 969.574 Q115.978 974.157 110.168 974.157 Q104.358 974.157 101.279 969.574 Q98.2234 964.968 98.2234 956.241 Q98.2234 947.491 101.279 942.907 Q104.358 938.301 110.168 938.301 Z\" fill=\"#000000\" fill-rule=\"nonzero\" fill-opacity=\"1\" /><path clip-path=\"url(#clip560)\" d=\"M56.7421 556.386 L64.381 556.386 L64.381 530.021 L56.0708 531.687 L56.0708 527.428 L64.3347 525.761 L69.0106 525.761 L69.0106 556.386 L76.6494 556.386 L76.6494 560.321 L56.7421 560.321 L56.7421 556.386 Z\" fill=\"#000000\" fill-rule=\"nonzero\" fill-opacity=\"1\" /><path clip-path=\"url(#clip560)\" d=\"M86.0938 554.442 L90.978 554.442 L90.978 560.321 L86.0938 560.321 L86.0938 554.442 Z\" fill=\"#000000\" fill-rule=\"nonzero\" fill-opacity=\"1\" /><path clip-path=\"url(#clip560)\" d=\"M101.209 525.761 L119.566 525.761 L119.566 529.697 L105.492 529.697 L105.492 538.169 Q106.51 537.822 107.529 537.66 Q108.547 537.474 109.566 537.474 Q115.353 537.474 118.733 540.646 Q122.112 543.817 122.112 549.234 Q122.112 554.812 118.64 557.914 Q115.168 560.993 108.848 560.993 Q106.672 560.993 104.404 560.622 Q102.159 560.252 99.7511 559.511 L99.7511 554.812 Q101.834 555.947 104.057 556.502 Q106.279 557.058 108.756 557.058 Q112.76 557.058 115.098 554.951 Q117.436 552.845 117.436 549.234 Q117.436 545.622 115.098 543.516 Q112.76 541.41 108.756 541.41 Q106.881 541.41 105.006 541.826 Q103.154 542.243 101.209 543.123 L101.209 525.761 Z\" fill=\"#000000\" fill-rule=\"nonzero\" fill-opacity=\"1\" /><path clip-path=\"url(#clip560)\" d=\"M58.9643 143.222 L75.2837 143.222 L75.2837 147.157 L53.3393 147.157 L53.3393 143.222 Q56.0014 140.467 60.5847 135.838 Q65.1911 131.185 66.3717 129.842 Q68.617 127.319 69.4967 125.583 Q70.3994 123.824 70.3994 122.134 Q70.3994 119.379 68.455 117.643 Q66.5337 115.907 63.4319 115.907 Q61.2328 115.907 58.7791 116.671 Q56.3486 117.435 53.5708 118.986 L53.5708 114.264 Q56.3949 113.129 58.8486 112.551 Q61.3023 111.972 63.3393 111.972 Q68.7096 111.972 71.9041 114.657 Q75.0985 117.342 75.0985 121.833 Q75.0985 123.963 74.2883 125.884 Q73.5013 127.782 71.3948 130.375 Q70.8161 131.046 67.7143 134.264 Q64.6124 137.458 58.9643 143.222 Z\" fill=\"#000000\" fill-rule=\"nonzero\" fill-opacity=\"1\" /><path clip-path=\"url(#clip560)\" d=\"M85.0984 141.277 L89.9827 141.277 L89.9827 147.157 L85.0984 147.157 L85.0984 141.277 Z\" fill=\"#000000\" fill-rule=\"nonzero\" fill-opacity=\"1\" /><path clip-path=\"url(#clip560)\" d=\"M110.168 115.676 Q106.557 115.676 104.728 119.24 Q102.922 122.782 102.922 129.912 Q102.922 137.018 104.728 140.583 Q106.557 144.125 110.168 144.125 Q113.802 144.125 115.608 140.583 Q117.436 137.018 117.436 129.912 Q117.436 122.782 115.608 119.24 Q113.802 115.676 110.168 115.676 M110.168 111.972 Q115.978 111.972 119.033 116.578 Q122.112 121.162 122.112 129.912 Q122.112 138.639 119.033 143.245 Q115.978 147.828 110.168 147.828 Q104.358 147.828 101.279 143.245 Q98.2234 138.639 98.2234 129.912 Q98.2234 121.162 101.279 116.578 Q104.358 111.972 110.168 111.972 Z\" fill=\"#000000\" fill-rule=\"nonzero\" fill-opacity=\"1\" /><circle clip-path=\"url(#clip562)\" cx=\"1052.43\" cy=\"1782.53\" r=\"14.4\" fill=\"#009af9\" fill-rule=\"evenodd\" fill-opacity=\"1\" stroke=\"#000000\" stroke-opacity=\"1\" stroke-width=\"4\"/>\n",
       "<circle clip-path=\"url(#clip562)\" cx=\"1461.67\" cy=\"1782.53\" r=\"14.4\" fill=\"#009af9\" fill-rule=\"evenodd\" fill-opacity=\"1\" stroke=\"#000000\" stroke-opacity=\"1\" stroke-width=\"4\"/>\n",
       "<circle clip-path=\"url(#clip562)\" cx=\"1870.91\" cy=\"1782.53\" r=\"14.4\" fill=\"#009af9\" fill-rule=\"evenodd\" fill-opacity=\"1\" stroke=\"#000000\" stroke-opacity=\"1\" stroke-width=\"4\"/>\n",
       "<circle clip-path=\"url(#clip562)\" cx=\"1052.43\" cy=\"1575.95\" r=\"14.4\" fill=\"#009af9\" fill-rule=\"evenodd\" fill-opacity=\"1\" stroke=\"#000000\" stroke-opacity=\"1\" stroke-width=\"4\"/>\n",
       "<circle clip-path=\"url(#clip562)\" cx=\"1461.67\" cy=\"1575.95\" r=\"14.4\" fill=\"#009af9\" fill-rule=\"evenodd\" fill-opacity=\"1\" stroke=\"#000000\" stroke-opacity=\"1\" stroke-width=\"4\"/>\n",
       "<circle clip-path=\"url(#clip562)\" cx=\"1052.43\" cy=\"1369.37\" r=\"14.4\" fill=\"#009af9\" fill-rule=\"evenodd\" fill-opacity=\"1\" stroke=\"#000000\" stroke-opacity=\"1\" stroke-width=\"4\"/>\n",
       "<circle clip-path=\"url(#clip562)\" cx=\"643.197\" cy=\"1066.91\" r=\"14.4\" fill=\"#e26f46\" fill-rule=\"evenodd\" fill-opacity=\"1\" stroke=\"#000000\" stroke-opacity=\"1\" stroke-width=\"4\"/>\n",
       "<circle clip-path=\"url(#clip562)\" cx=\"847.815\" cy=\"709.102\" r=\"14.4\" fill=\"#e26f46\" fill-rule=\"evenodd\" fill-opacity=\"1\" stroke=\"#000000\" stroke-opacity=\"1\" stroke-width=\"4\"/>\n",
       "<circle clip-path=\"url(#clip562)\" cx=\"1052.43\" cy=\"351.291\" r=\"14.4\" fill=\"#e26f46\" fill-rule=\"evenodd\" fill-opacity=\"1\" stroke=\"#000000\" stroke-opacity=\"1\" stroke-width=\"4\"/>\n",
       "<circle clip-path=\"url(#clip562)\" cx=\"465.992\" cy=\"963.622\" r=\"14.4\" fill=\"#e26f46\" fill-rule=\"evenodd\" fill-opacity=\"1\" stroke=\"#000000\" stroke-opacity=\"1\" stroke-width=\"4\"/>\n",
       "<circle clip-path=\"url(#clip562)\" cx=\"670.61\" cy=\"605.811\" r=\"14.4\" fill=\"#e26f46\" fill-rule=\"evenodd\" fill-opacity=\"1\" stroke=\"#000000\" stroke-opacity=\"1\" stroke-width=\"4\"/>\n",
       "<circle clip-path=\"url(#clip562)\" cx=\"288.787\" cy=\"860.331\" r=\"14.4\" fill=\"#e26f46\" fill-rule=\"evenodd\" fill-opacity=\"1\" stroke=\"#000000\" stroke-opacity=\"1\" stroke-width=\"4\"/>\n",
       "</svg>\n"
      ]
     },
     "execution_count": 3,
     "metadata": {},
     "output_type": "execute_result"
    }
   ],
   "source": [
    "# Create a list of 2-D points\n",
    "points = [ [1,0], [1.5,0], [2,0], [1,0.25], [1.5, 0.25], [1,.5] ];\n",
    "# Now rotate them.\n",
    "rpoints = [ R*p for p in points ];\n",
    "# Show the two sets of points.\n",
    "using Plots\n",
    "scatter([c[1] for c in points], [c[2] for c in points])\n",
    "scatter!([c[1] for c in rpoints], [c[2] for c in rpoints])\n",
    "plot!(lims = (-0.1, 2.1), size = (500,500), legend = false)"
   ]
  },
  {
   "cell_type": "markdown",
   "metadata": {},
   "source": [
    "**Figure 7.1** Counterclockwise rotation by 60 degrees applied to six points.\n",
    "\n",
    "### 7.2 Selectors\n",
    "**Reverser matrix.** The reverser matrix can be created from an identity matrix by reversing the order of its rows. The Julia command reverse can be used for this purpose. `(reverse(A,dims=1)` reverses the order of the rows of a matrix; `flipdim(A,dims=2)` reverses the order of the columns.) Multiplying a vector with a reverser matrix is the same as reversing the order of its entries directly."
   ]
  },
  {
   "cell_type": "code",
   "execution_count": 4,
   "metadata": {},
   "outputs": [
    {
     "data": {
      "text/plain": [
       "reverser (generic function with 1 method)"
      ]
     },
     "execution_count": 4,
     "metadata": {},
     "output_type": "execute_result"
    }
   ],
   "source": [
    "reverser(n) = reverse(Matrix(I(5)), dims = 1)"
   ]
  },
  {
   "cell_type": "code",
   "execution_count": 5,
   "metadata": {},
   "outputs": [
    {
     "data": {
      "text/plain": [
       "5×5 Matrix{Bool}:\n",
       " 0  0  0  0  1\n",
       " 0  0  0  1  0\n",
       " 0  0  1  0  0\n",
       " 0  1  0  0  0\n",
       " 1  0  0  0  0"
      ]
     },
     "execution_count": 5,
     "metadata": {},
     "output_type": "execute_result"
    }
   ],
   "source": [
    "A = reverser(5)"
   ]
  },
  {
   "cell_type": "code",
   "execution_count": 6,
   "metadata": {},
   "outputs": [
    {
     "data": {
      "text/plain": [
       "5-element Vector{Float64}:\n",
       " 5.0\n",
       " 4.0\n",
       " 3.0\n",
       " 2.0\n",
       " 1.0"
      ]
     },
     "execution_count": 6,
     "metadata": {},
     "output_type": "execute_result"
    }
   ],
   "source": [
    "x = [1., 2., 3., 4., 5.];\n",
    "A*x # Reverse x by multiplying with reverser matrix."
   ]
  },
  {
   "cell_type": "code",
   "execution_count": 7,
   "metadata": {},
   "outputs": [
    {
     "data": {
      "text/plain": [
       "5-element Vector{Float64}:\n",
       " 5.0\n",
       " 4.0\n",
       " 3.0\n",
       " 2.0\n",
       " 1.0"
      ]
     },
     "execution_count": 7,
     "metadata": {},
     "output_type": "execute_result"
    }
   ],
   "source": [
    "reverse(x) # Reverse x directly."
   ]
  },
  {
   "cell_type": "markdown",
   "metadata": {},
   "source": [
    "**Permutation matrix.** Let’s create a permutation matrix and use it to permute the entries of a vector. In Julia, there is no reason to create a matrix to carry out the permutation, since we can do the same thing directly by passing in the permuted indexes to the vector."
   ]
  },
  {
   "cell_type": "code",
   "execution_count": 8,
   "metadata": {},
   "outputs": [
    {
     "data": {
      "text/plain": [
       "3-element Vector{Float64}:\n",
       "  2.4\n",
       "  0.2\n",
       " -1.7"
      ]
     },
     "execution_count": 8,
     "metadata": {},
     "output_type": "execute_result"
    }
   ],
   "source": [
    "A = [0 0 1; 1 0 0; 0 1 0]\n",
    "x = [0.2, -1.7, 2.4]\n",
    "A*x # Permutes entries of x to [x[3],x[1],x[2]]\n",
    "x[[3,1,2]] # Same thing using permuted indices"
   ]
  },
  {
   "cell_type": "markdown",
   "metadata": {},
   "source": [
    "### 7.3 Incidence matrix\n",
    "**Incidence matrix of a graph.** We create the incidence matrix of the network shown in Figure [7.3](https://web.stanford.edu/~boyd/vmls/vmls.pdf#figure.7.3) in VMLS. "
   ]
  },
  {
   "cell_type": "code",
   "execution_count": 9,
   "metadata": {},
   "outputs": [
    {
     "data": {
      "text/plain": [
       "4×5 Matrix{Int64}:\n",
       " -1  -1   0   1   0\n",
       "  1   0  -1   0   0\n",
       "  0   0   1  -1  -1\n",
       "  0   1   0   0   1"
      ]
     },
     "execution_count": 9,
     "metadata": {},
     "output_type": "execute_result"
    }
   ],
   "source": [
    " A = [ -1 -1 0 1 0; 1 0 -1 0 0 ; 0 0 1 -1 -1 ; 0 1 0 0 1]"
   ]
  },
  {
   "cell_type": "code",
   "execution_count": 10,
   "metadata": {},
   "outputs": [
    {
     "data": {
      "text/plain": [
       "5-element Vector{Int64}:\n",
       "  1\n",
       " -1\n",
       "  1\n",
       "  0\n",
       "  1"
      ]
     },
     "execution_count": 10,
     "metadata": {},
     "output_type": "execute_result"
    }
   ],
   "source": [
    "xcirc = [1, -1, 1, 0, 1] # A circulation"
   ]
  },
  {
   "cell_type": "code",
   "execution_count": 11,
   "metadata": {},
   "outputs": [
    {
     "data": {
      "text/plain": [
       "4-element Vector{Int64}:\n",
       " 0\n",
       " 0\n",
       " 0\n",
       " 0"
      ]
     },
     "execution_count": 11,
     "metadata": {},
     "output_type": "execute_result"
    }
   ],
   "source": [
    "A*xcirc"
   ]
  },
  {
   "cell_type": "code",
   "execution_count": 12,
   "metadata": {},
   "outputs": [
    {
     "data": {
      "text/plain": [
       "4-element Vector{Float64}:\n",
       " 1.1102230246251565e-16\n",
       " 0.0\n",
       " 0.0\n",
       " 0.0"
      ]
     },
     "execution_count": 12,
     "metadata": {},
     "output_type": "execute_result"
    }
   ],
   "source": [
    "s = [1,0,-1,0]; # A source vector\n",
    "x = [0.6, 0.3, 0.6, -0.1, -0.3]; # A flow vector\n",
    "A*x + s # Total incoming flow at each node"
   ]
  },
  {
   "cell_type": "markdown",
   "metadata": {},
   "source": [
    "**Dirichlet energy.** On page [135](https://web.stanford.edu/~boyd/vmls/vmls.pdf#section*.172) of VMLS we compute the Dirichlet energy of two potential vectors associated with the graph of Figure [7.2](https://web.stanford.edu/~boyd/vmls/vmls.pdf#figure.7.2) in VMLS."
   ]
  },
  {
   "cell_type": "code",
   "execution_count": 13,
   "metadata": {},
   "outputs": [
    {
     "data": {
      "text/plain": [
       "4×5 Matrix{Int64}:\n",
       " -1  -1   0   1   0\n",
       "  1   0  -1   0   0\n",
       "  0   0   1  -1  -1\n",
       "  0   1   0   0   1"
      ]
     },
     "execution_count": 13,
     "metadata": {},
     "output_type": "execute_result"
    }
   ],
   "source": [
    "A = [ -1 -1 0 1 0 ; 1 0 -1 0 0 ; 0 0 1 -1 -1; 0 1 0 0 1 ]"
   ]
  },
  {
   "cell_type": "code",
   "execution_count": 14,
   "metadata": {},
   "outputs": [
    {
     "data": {
      "text/plain": [
       "4-element Vector{Int64}:\n",
       " 1\n",
       " 2\n",
       " 2\n",
       " 1"
      ]
     },
     "execution_count": 14,
     "metadata": {},
     "output_type": "execute_result"
    }
   ],
   "source": [
    "vsmooth = [ 1, 2, 2, 1 ]"
   ]
  },
  {
   "cell_type": "code",
   "execution_count": 15,
   "metadata": {},
   "outputs": [
    {
     "data": {
      "text/plain": [
       "4-element Vector{Int64}:\n",
       "  1\n",
       " -1\n",
       "  2\n",
       " -1"
      ]
     },
     "execution_count": 15,
     "metadata": {},
     "output_type": "execute_result"
    }
   ],
   "source": [
    "vrough = [ 1, -1, 2, -1 ]"
   ]
  },
  {
   "cell_type": "code",
   "execution_count": 16,
   "metadata": {},
   "outputs": [
    {
     "data": {
      "text/plain": [
       "(2.9999999999999996, 27.0)"
      ]
     },
     "execution_count": 16,
     "metadata": {},
     "output_type": "execute_result"
    }
   ],
   "source": [
    "norm(A'*vsmooth)^2, norm(A'*vrough)^2 # Dirichlet energy of vsmooth and vrough"
   ]
  },
  {
   "cell_type": "markdown",
   "metadata": {},
   "source": [
    "### 7.4 Convolution\n",
    "The Julia package `DSP` (Digital Signal Processing) includes a convolution function `conv`. After adding this package, the command `conv(a,b)` can be used to compute the convolution of the vectors `a` and `b`. Let’s use this to find the coefficients of the polynomial \n",
    "$$\n",
    "p(x) = (1 + x)(2 − x+ x^2)(1 + x− 2x^2) = 2 + 3x− 3x^2 − x^3 + x^4 − 2x^5.\n",
    "$$"
   ]
  },
  {
   "cell_type": "code",
   "execution_count": 17,
   "metadata": {},
   "outputs": [],
   "source": [
    "# import Pkg; Pkg.add(\"DSP\")"
   ]
  },
  {
   "cell_type": "code",
   "execution_count": 18,
   "metadata": {},
   "outputs": [
    {
     "data": {
      "text/plain": [
       "6-element Vector{Int64}:\n",
       "  2\n",
       "  3\n",
       " -3\n",
       " -1\n",
       "  1\n",
       " -2"
      ]
     },
     "execution_count": 18,
     "metadata": {},
     "output_type": "execute_result"
    }
   ],
   "source": [
    "using DSP\n",
    "a = [1,1]; # coefficients of 1+x\n",
    "b = [2,-1,1]; # coefficients of 2-x+x^2\n",
    "c = [1,1,-2]; # coefficients of 1+x-2x^2\n",
    "d = conv(conv(a,b),c) # coefficients of product"
   ]
  },
  {
   "cell_type": "markdown",
   "metadata": {},
   "source": [
    "Let’s write a function that creates a $Toeplitz$ matrix, and check it against the\n",
    "`conv` function. We will also check that Julia is using the very efficient method for\n",
    "computing the convolution.\n",
    "\n",
    "To construct the $Toeplitz$ matrix $T(b)$ defined in equation ([7.3](https://web.stanford.edu/~boyd/vmls/vmls.pdf#equation.7.4.3)) of VMLS, we\n",
    "first create a zero matrix of the correct dimensions $((n + m − 1) × n)$ and then\n",
    "add the coefficients bi one by one. Single-index indexing comes in handy for this\n",
    "purpose. The single-index indexes of the elements $b_i$ in the matrix $T (b)$ are $i,\n",
    "i+m+ n, i+ 2(m+ n), . . . , i+ (n− 1)(m+ n)$. "
   ]
  },
  {
   "cell_type": "code",
   "execution_count": 19,
   "metadata": {},
   "outputs": [
    {
     "data": {
      "text/plain": [
       "6×4 Matrix{Float64}:\n",
       " -1.0   0.0   0.0   0.0\n",
       "  2.0  -1.0   0.0   0.0\n",
       "  3.0   2.0  -1.0   0.0\n",
       "  0.0   3.0   2.0  -1.0\n",
       "  0.0   0.0   3.0   2.0\n",
       "  0.0   0.0   0.0   3.0"
      ]
     },
     "execution_count": 19,
     "metadata": {},
     "output_type": "execute_result"
    }
   ],
   "source": [
    "function toeplitz(b,n)\n",
    "    m = length(b)\n",
    "    T = zeros(n+m-1,n)\n",
    "    for i=1:m\n",
    "        T[i : n+m : end] .= b[i]\n",
    "    end\n",
    "    return T\n",
    "end\n",
    "b = [-1,2,3]; a = [-2,3,-1,1];\n",
    "Tb = toeplitz(b, length(a))"
   ]
  },
  {
   "cell_type": "code",
   "execution_count": 20,
   "metadata": {},
   "outputs": [
    {
     "data": {
      "text/plain": [
       "([2.0, -7.0, 1.0, 6.0, -1.0, 3.0], [2, -7, 1, 6, -1, 3])"
      ]
     },
     "execution_count": 20,
     "metadata": {},
     "output_type": "execute_result"
    }
   ],
   "source": [
    "Tb*a, conv(b,a)"
   ]
  },
  {
   "cell_type": "code",
   "execution_count": 21,
   "metadata": {},
   "outputs": [
    {
     "name": "stdout",
     "output_type": "stream",
     "text": [
      "  0.032792 seconds (20.70 k allocations: 62.338 MiB, 14.52% gc time, 43.21% compilation time)\n",
      "  0.006600 seconds (91 allocations: 160.578 KiB, 37.68% compilation time)\n"
     ]
    },
    {
     "data": {
      "text/plain": [
       "2.631172520988348e-12"
      ]
     },
     "execution_count": 21,
     "metadata": {},
     "output_type": "execute_result"
    }
   ],
   "source": [
    "m = 2000; n = 2000;\n",
    "b = randn(n); a=randn(m);\n",
    "@time ctoep = toeplitz(b,n)*a;\n",
    "@time cconv = conv(a,b);\n",
    "norm(ctoep - cconv)"
   ]
  }
 ],
 "metadata": {
  "kernelspec": {
   "display_name": "Julia 1.9.3",
   "language": "julia",
   "name": "julia-1.9"
  },
  "language_info": {
   "file_extension": ".jl",
   "mimetype": "application/julia",
   "name": "julia",
   "version": "1.10.3"
  }
 },
 "nbformat": 4,
 "nbformat_minor": 4
}
