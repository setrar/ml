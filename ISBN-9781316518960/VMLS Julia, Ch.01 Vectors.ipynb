{
 "cells": [
  {
   "cell_type": "markdown",
   "metadata": {},
   "source": [
    "# 1.1 Vectors"
   ]
  },
  {
   "cell_type": "markdown",
   "metadata": {},
   "source": [
    "Vectors in Julia are represented by one-dimensional Array objects. A vector is constructed by giving the list of elements surrounded by square brackets, with the elmeents separated by commas or semicolons. The assignment operator = is used to give a name to the array. The ```length``` function returns the size (dimension)."
   ]
  },
  {
   "cell_type": "code",
   "execution_count": 1,
   "metadata": {},
   "outputs": [
    {
     "data": {
      "text/plain": [
       "4-element Vector{Float64}:\n",
       " -1.1\n",
       "  0.0\n",
       "  3.9\n",
       " -7.2"
      ]
     },
     "execution_count": 1,
     "metadata": {},
     "output_type": "execute_result"
    }
   ],
   "source": [
    "x = [-1.1, 0.0, 3.9, -7.2]"
   ]
  },
  {
   "cell_type": "code",
   "execution_count": 2,
   "metadata": {},
   "outputs": [
    {
     "data": {
      "text/plain": [
       "4"
      ]
     },
     "execution_count": 2,
     "metadata": {},
     "output_type": "execute_result"
    }
   ],
   "source": [
    "length(x)"
   ]
  },
  {
   "cell_type": "code",
   "execution_count": 3,
   "metadata": {},
   "outputs": [
    {
     "data": {
      "text/plain": [
       "4-element Vector{Float64}:\n",
       " -1.1\n",
       "  0.0\n",
       "  3.6\n",
       " -7.2"
      ]
     },
     "execution_count": 3,
     "metadata": {},
     "output_type": "execute_result"
    }
   ],
   "source": [
    "y = [-1.1; 0.0; 3.6; -7.2] #Using semicolons"
   ]
  },
  {
   "cell_type": "code",
   "execution_count": 4,
   "metadata": {},
   "outputs": [
    {
     "data": {
      "text/plain": [
       "4"
      ]
     },
     "execution_count": 4,
     "metadata": {},
     "output_type": "execute_result"
    }
   ],
   "source": [
    "length(y)"
   ]
  },
  {
   "cell_type": "markdown",
   "metadata": {},
   "source": [
    "The ```Array{Float64,1}``` displayed by Julia above each array tells us that the array is one-dimensional and its entries are floating point numbers that use 64 bits.\n",
    "\n",
    "**Some common mistakes.** Don't forget the commas or semicolons between entries, and be sure to use square brackets and not parentheses. Otherwise you'll get things that make sense in Julia, but are not vectors."
   ]
  },
  {
   "cell_type": "code",
   "execution_count": 5,
   "metadata": {},
   "outputs": [
    {
     "data": {
      "text/plain": [
       "(1, 2)"
      ]
     },
     "execution_count": 5,
     "metadata": {},
     "output_type": "execute_result"
    }
   ],
   "source": [
    "a = [ 1 2 ]\n",
    "b = ( 1, 2 )"
   ]
  },
  {
   "cell_type": "markdown",
   "metadata": {},
   "source": [
    "Here ```a``` is a row vector, which we will encounter later; ```b``` is a tuple or list consisting of two scalars. "
   ]
  },
  {
   "cell_type": "markdown",
   "metadata": {},
   "source": [
    "**Indexing.**  A specific element $x_i$ is retrieved by the expression ```x[i]``` where ```i``` is the index (which runs to 1 to $n$, for an $n$-vector). Array indexing can also be used on the left-hand side of an assignment, to change the value of a specific element. "
   ]
  },
  {
   "cell_type": "code",
   "execution_count": 6,
   "metadata": {},
   "outputs": [
    {
     "data": {
      "text/plain": [
       "3.6"
      ]
     },
     "execution_count": 6,
     "metadata": {},
     "output_type": "execute_result"
    }
   ],
   "source": [
    "x = [ -1.1, 0.0, 3.6, -7.2 ];\n",
    "x[3]"
   ]
  },
  {
   "cell_type": "code",
   "execution_count": 7,
   "metadata": {},
   "outputs": [
    {
     "data": {
      "text/plain": [
       "4-element Vector{Float64}:\n",
       " -1.1\n",
       "  0.0\n",
       "  4.0\n",
       " -7.2"
      ]
     },
     "execution_count": 7,
     "metadata": {},
     "output_type": "execute_result"
    }
   ],
   "source": [
    "x[3] = 4.0\n",
    "x"
   ]
  },
  {
   "cell_type": "markdown",
   "metadata": {},
   "source": [
    "The special index ```end``` refers to the last index of a vector. In the example above, ```x[end]``` and ```x[length(x)]``` both give the last entry ```-7.2```.\n",
    "\n",
    "**Assignment versus copying**. Matlab or Octave users may be surprised by the behavior of an assignment ```y = x``` if ```x``` is an array. This expression gives a new name (or reference) ```y``` to the *same* array already referenced by ```x```. It does not create a new copy of the array ```x```."
   ]
  },
  {
   "cell_type": "code",
   "execution_count": 8,
   "metadata": {},
   "outputs": [
    {
     "data": {
      "text/plain": [
       "4-element Vector{Float64}:\n",
       " -1.1\n",
       "  0.0\n",
       "  4.0\n",
       " -7.2"
      ]
     },
     "execution_count": 8,
     "metadata": {},
     "output_type": "execute_result"
    }
   ],
   "source": [
    "x = [ -1.1, 0.0, 3.6, -7.2 ];\n",
    "y = x\n",
    "x[3] = 4.0\n",
    "y #The assignment to x[3] also changes y[3]"
   ]
  },
  {
   "cell_type": "code",
   "execution_count": 9,
   "metadata": {},
   "outputs": [
    {
     "data": {
      "text/plain": [
       "4-element Vector{Float64}:\n",
       "  2.0\n",
       "  0.0\n",
       "  4.0\n",
       " -7.2"
      ]
     },
     "execution_count": 9,
     "metadata": {},
     "output_type": "execute_result"
    }
   ],
   "source": [
    "y[1] = 2.0\n",
    "x"
   ]
  },
  {
   "cell_type": "markdown",
   "metadata": {},
   "source": [
    "To create a new copy of an array, the function ```copy``` should be used."
   ]
  },
  {
   "cell_type": "code",
   "execution_count": 10,
   "metadata": {},
   "outputs": [
    {
     "data": {
      "text/plain": [
       "4-element Vector{Float64}:\n",
       " -1.1\n",
       "  0.0\n",
       "  3.6\n",
       " -7.2"
      ]
     },
     "execution_count": 10,
     "metadata": {},
     "output_type": "execute_result"
    }
   ],
   "source": [
    "x = [ -1.1, 0.0, 3.6, -7.2 ];\n",
    "y = copy(x)\n",
    "x[3] = 4.0\n",
    "y"
   ]
  },
  {
   "cell_type": "code",
   "execution_count": 11,
   "metadata": {},
   "outputs": [
    {
     "data": {
      "text/plain": [
       "4-element Vector{Float64}:\n",
       " -1.1\n",
       "  0.0\n",
       "  4.0\n",
       " -7.2"
      ]
     },
     "execution_count": 11,
     "metadata": {},
     "output_type": "execute_result"
    }
   ],
   "source": [
    "y[1] = 2.0\n",
    "x"
   ]
  },
  {
   "cell_type": "markdown",
   "metadata": {},
   "source": [
    "**Vector equality.** Equality of vectors is checked using the relational operator ```==```. For two vectors (arrays) ```a``` and ```b```, the Julia expression ```a==b``` evaluates to ```true``` if the vectors (arrays) are equal, *i.e.*, they have the same length and identical entries, and ```false``` otherwise."
   ]
  },
  {
   "cell_type": "code",
   "execution_count": 12,
   "metadata": {},
   "outputs": [
    {
     "data": {
      "text/plain": [
       "false"
      ]
     },
     "execution_count": 12,
     "metadata": {},
     "output_type": "execute_result"
    }
   ],
   "source": [
    "x = [ -1.1, 0.0, 3.6, -7.2 ];\n",
    "y = copy(x)\n",
    "y[3] = 4.0\n",
    "y == x"
   ]
  },
  {
   "cell_type": "code",
   "execution_count": 13,
   "metadata": {},
   "outputs": [
    {
     "data": {
      "text/plain": [
       "true"
      ]
     },
     "execution_count": 13,
     "metadata": {},
     "output_type": "execute_result"
    }
   ],
   "source": [
    "z = x\n",
    "z[3] = 4.0\n",
    "z == x"
   ]
  },
  {
   "cell_type": "markdown",
   "metadata": {},
   "source": [
    "**Scalars versus 1-vectors.** In the mathematical notation used in VMLS we consider a 1-vector to be the same as a number. But in Julia, 1-vectors are not the same as scalars (numbers). Julia distinguishes between the 1-vector (array) ```[ 1.3 ]``` and the number ```1.3```."
   ]
  },
  {
   "cell_type": "code",
   "execution_count": 14,
   "metadata": {},
   "outputs": [
    {
     "data": {
      "text/plain": [
       "1-element Vector{Float64}:\n",
       " 1.3"
      ]
     },
     "execution_count": 14,
     "metadata": {},
     "output_type": "execute_result"
    }
   ],
   "source": [
    "x = [1.3]"
   ]
  },
  {
   "cell_type": "code",
   "execution_count": 15,
   "metadata": {},
   "outputs": [
    {
     "data": {
      "text/plain": [
       "1.3"
      ]
     },
     "execution_count": 15,
     "metadata": {},
     "output_type": "execute_result"
    }
   ],
   "source": [
    "y = 1.3"
   ]
  },
  {
   "cell_type": "code",
   "execution_count": 16,
   "metadata": {},
   "outputs": [
    {
     "data": {
      "text/plain": [
       "false"
      ]
     },
     "execution_count": 16,
     "metadata": {},
     "output_type": "execute_result"
    }
   ],
   "source": [
    "x == y"
   ]
  },
  {
   "cell_type": "code",
   "execution_count": 17,
   "metadata": {},
   "outputs": [
    {
     "data": {
      "text/plain": [
       "true"
      ]
     },
     "execution_count": 17,
     "metadata": {},
     "output_type": "execute_result"
    }
   ],
   "source": [
    "x[1] == y"
   ]
  },
  {
   "cell_type": "markdown",
   "metadata": {},
   "source": [
    "In the last line, ```x[1]``` is the first (and only) entry of ```x```, which is indeed the number ```1.3```.\n",
    "\n",
    "**Block or stacked vectors.** To construct a block vector in Julia, you can use ```vcat``` (vertical concatenate) or the semicolon (;) operator. Let's construct the block vector $z = (x,y)$ with $x = (1,-2)$ and $y = (1,1,0)$ using the two methods."
   ]
  },
  {
   "cell_type": "code",
   "execution_count": 18,
   "metadata": {},
   "outputs": [
    {
     "data": {
      "text/plain": [
       "5-element Vector{Int64}:\n",
       "  1\n",
       " -2\n",
       "  1\n",
       "  1\n",
       "  0"
      ]
     },
     "execution_count": 18,
     "metadata": {},
     "output_type": "execute_result"
    }
   ],
   "source": [
    "x = [ 1,-2]; y = [1,1,0];\n",
    "z = [x; y] # Concatenate using semicolon"
   ]
  },
  {
   "cell_type": "code",
   "execution_count": 19,
   "metadata": {},
   "outputs": [
    {
     "data": {
      "text/plain": [
       "5-element Vector{Int64}:\n",
       "  1\n",
       " -2\n",
       "  1\n",
       "  1\n",
       "  0"
      ]
     },
     "execution_count": 19,
     "metadata": {},
     "output_type": "execute_result"
    }
   ],
   "source": [
    "z = vcat(x,y)"
   ]
  },
  {
   "cell_type": "markdown",
   "metadata": {},
   "source": [
    "As in mathematical notation, you can stack vectors with scalars, *e.g.*, ```[1;x;0]``` create (1,x,0).\n",
    "\n",
    "**Some common mistakes.** There are a few Julia operations that look similar but do not construct a block or stacked vector. For example, ```z = (x,y)``` creates a list or tuple of the two vectors; ```z = [x,y]``` creates an array of the two vectors. Both of these are valid Julia expressions, but neither of them is the stacked vector ```[x;y]```.\n",
    "\n",
    "**Subvectors and slicing.** As in the mathematical notation used in VMLS, the Julia expression ```r:s``` denotes the idnex range $r, r + 1,...,s$. (It is assumed here that ```r``` and ```s``` are positive integers with ```r``` the smaller of the two.) In VMLS we use $x_{r:s}$ to denote the slice of the vector x from index r to s. In Julia you can extract a subvector or slice of a vector using an index range as the argument. You can also use index ranges to assign a slice of a vector."
   ]
  },
  {
   "cell_type": "code",
   "execution_count": 20,
   "metadata": {},
   "outputs": [
    {
     "data": {
      "text/plain": [
       "3-element Vector{Int64}:\n",
       " 4\n",
       " 3\n",
       " 0"
      ]
     },
     "execution_count": 20,
     "metadata": {},
     "output_type": "execute_result"
    }
   ],
   "source": [
    "x = [9,4,3,0,5]\n",
    "y = x[2:4]"
   ]
  },
  {
   "cell_type": "code",
   "execution_count": 21,
   "metadata": {},
   "outputs": [
    {
     "data": {
      "text/plain": [
       "5-element Vector{Int64}:\n",
       "  9\n",
       "  4\n",
       "  3\n",
       " -2\n",
       " -3"
      ]
     },
     "execution_count": 21,
     "metadata": {},
     "output_type": "execute_result"
    }
   ],
   "source": [
    "x[4:5] = [-2, -3]; #Re-assign the 4 and 5 entries of x\n",
    "x"
   ]
  },
  {
   "cell_type": "markdown",
   "metadata": {},
   "source": [
    "**Julia indexing into arrays.** Julia slicing and subjectoring is much more general than the mathematical notation we use in VMLS. For example, one can use a number range with a third argument, that gives the stride, which is the increment between successive indexes. For example, the index range ```1:2:5``` is the list of numbers ```1,3,5```. The expressiong ```x[1:2:5]``` extracts the 3-vector ```[9,3,5```, i.e., the first, third, and fifth entries of x defined above. You can also use an index range that runs backward. For any vector ```z```, the Julia expressiong ```z[end:-1:1]``` is the reversed vector, i.e., the vector with the same coefficients, but in opposite order. \n",
    "\n",
    "**Vector of first differences.** Let's use slicing to create the (n-1)-vector d defined by $d_i = x_{i+1} - x_i$ for $i = 1,...,n - 1$, where x is an n-vector. The vector d is called the vector of (first) differences of x."
   ]
  },
  {
   "cell_type": "code",
   "execution_count": 22,
   "metadata": {},
   "outputs": [
    {
     "data": {
      "text/plain": [
       "4-element Vector{Int64}:\n",
       " -1\n",
       "  0\n",
       " -2\n",
       "  4"
      ]
     },
     "execution_count": 22,
     "metadata": {},
     "output_type": "execute_result"
    }
   ],
   "source": [
    "x = [1,0,0,-2,2];\n",
    "d = x[2:end] - x[1:end-1]"
   ]
  },
  {
   "cell_type": "markdown",
   "metadata": {},
   "source": [
    "**List of vectors.** An ordered list of n-vectors might be denoted in VMLS as $a_1,...,a_k$ or $a^{(1)},...,a^{(k)}$ or just as $a,b,c$. There are several ways to represent lists of vectors in Julia. If we give the elements of the list, separated by commas, and surrounded by square brackets, we form a one-dimensional array of vectors. If instead we use parentheses as delimiters, we obtain a tuple, or list. "
   ]
  },
  {
   "cell_type": "code",
   "execution_count": 23,
   "metadata": {},
   "outputs": [
    {
     "data": {
      "text/plain": [
       "3-element Vector{Vector{Float64}}:\n",
       " [1.0, 0.0]\n",
       " [1.0, -1.0]\n",
       " [0.0, 1.0]"
      ]
     },
     "execution_count": 23,
     "metadata": {},
     "output_type": "execute_result"
    }
   ],
   "source": [
    "x = [1.0, 0]; y = [1.0,-1.0]; z = [0,1.0];\n",
    "list = [x,y,z]"
   ]
  },
  {
   "cell_type": "code",
   "execution_count": 24,
   "metadata": {},
   "outputs": [
    {
     "data": {
      "text/plain": [
       "2-element Vector{Float64}:\n",
       "  1.0\n",
       " -1.0"
      ]
     },
     "execution_count": 24,
     "metadata": {},
     "output_type": "execute_result"
    }
   ],
   "source": [
    "list[2] #Second element of list"
   ]
  },
  {
   "cell_type": "code",
   "execution_count": 25,
   "metadata": {},
   "outputs": [
    {
     "data": {
      "text/plain": [
       "([1.0, 0.0], [1.0, -1.0], [0.0, 1.0])"
      ]
     },
     "execution_count": 25,
     "metadata": {},
     "output_type": "execute_result"
    }
   ],
   "source": [
    "list = (x,y,z)"
   ]
  },
  {
   "cell_type": "code",
   "execution_count": 26,
   "metadata": {},
   "outputs": [
    {
     "data": {
      "text/plain": [
       "2-element Vector{Float64}:\n",
       " 0.0\n",
       " 1.0"
      ]
     },
     "execution_count": 26,
     "metadata": {},
     "output_type": "execute_result"
    }
   ],
   "source": [
    "list[3]"
   ]
  },
  {
   "cell_type": "markdown",
   "metadata": {},
   "source": [
    "Note the difference between ```[x,y,z]``` (an array of arrays) and ```[x;y;z]``` (an array of numbers, obtained by concatenation). To extract the ith vector from the list of vectors, use ```list[i]```. To get the jth element or coefficient of the ith vector in the list, use ```list[i][j]```.\n",
    "\n",
    "**Zero vectors**. In Julia a zero vector of dimension n is created using ```zeros(n)```."
   ]
  },
  {
   "cell_type": "code",
   "execution_count": 27,
   "metadata": {},
   "outputs": [
    {
     "data": {
      "text/plain": [
       "3-element Vector{Float64}:\n",
       " 0.0\n",
       " 0.0\n",
       " 0.0"
      ]
     },
     "execution_count": 27,
     "metadata": {},
     "output_type": "execute_result"
    }
   ],
   "source": [
    "zeros(3)"
   ]
  },
  {
   "cell_type": "markdown",
   "metadata": {},
   "source": [
    "The expression ```zeros(length(a))``` creates a vector with the same size as the vector ```a```.\n",
    "\n",
    "**Unit vectors**. There is no built-in Julia function for creating $e_i$, the ith unit vector of length n. THe following code creates $e_i$, with i = 2 and n = 4."
   ]
  },
  {
   "cell_type": "code",
   "execution_count": 28,
   "metadata": {},
   "outputs": [
    {
     "data": {
      "text/plain": [
       "4-element Vector{Float64}:\n",
       " 0.0\n",
       " 1.0\n",
       " 0.0\n",
       " 0.0"
      ]
     },
     "execution_count": 28,
     "metadata": {},
     "output_type": "execute_result"
    }
   ],
   "source": [
    "i = 2; n = 4;\n",
    "ei = zeros(n); #Create a zero vector\n",
    "ei[i] = 1; #Set ith entry to 1\n",
    "ei"
   ]
  },
  {
   "cell_type": "markdown",
   "metadata": {},
   "source": [
    "Here's another way to create $e_i$ using concatenation, using a Julia inline function."
   ]
  },
  {
   "cell_type": "code",
   "execution_count": 29,
   "metadata": {},
   "outputs": [
    {
     "data": {
      "text/plain": [
       "unit_vector (generic function with 1 method)"
      ]
     },
     "execution_count": 29,
     "metadata": {},
     "output_type": "execute_result"
    }
   ],
   "source": [
    "unit_vector(i,n) = [zeros(i-1); 1; zeros(n-i)]"
   ]
  },
  {
   "cell_type": "code",
   "execution_count": 30,
   "metadata": {},
   "outputs": [
    {
     "data": {
      "text/plain": [
       "4-element Vector{Float64}:\n",
       " 0.0\n",
       " 1.0\n",
       " 0.0\n",
       " 0.0"
      ]
     },
     "execution_count": 30,
     "metadata": {},
     "output_type": "execute_result"
    }
   ],
   "source": [
    "unit_vector(2,4)"
   ]
  },
  {
   "cell_type": "markdown",
   "metadata": {},
   "source": [
    "**Ones vector.** In Julia, the ones vector of dimension n, denoted $\\textbf1_n$ or just $\\textbf1$ in VMLS, is created using ```ones(n)```."
   ]
  },
  {
   "cell_type": "code",
   "execution_count": 31,
   "metadata": {},
   "outputs": [
    {
     "data": {
      "text/plain": [
       "2-element Vector{Float64}:\n",
       " 1.0\n",
       " 1.0"
      ]
     },
     "execution_count": 31,
     "metadata": {},
     "output_type": "execute_result"
    }
   ],
   "source": [
    "ones(2)"
   ]
  },
  {
   "cell_type": "markdown",
   "metadata": {},
   "source": [
    "**Random vectors.** We do not use or refer to random vectors in VMLS, which does not assume a background in probability. However, it is sometimes useful to generate random vectors, for example to test an identity or some algorithm. In Julia, ```rand(n)``` generates a random vector of length n with entries that are between 0 and 1. Each time this function is called or evaluated, it gives a different vector. The variant ```randn(n)``` (with the extra 'n' for normal) gives an n-vector with entries that come from a normal (Gaussian) distribution. They can be positive or negative, with typical values on the order of one. Remember that every time you evaluate these functions, you get a different random vector. In particular, you will obtain different entries in the vectors below when you run the code."
   ]
  },
  {
   "cell_type": "code",
   "execution_count": 32,
   "metadata": {},
   "outputs": [
    {
     "data": {
      "text/plain": [
       "2-element Vector{Float64}:\n",
       " 0.5095231797625139\n",
       " 0.9228219575125371"
      ]
     },
     "execution_count": 32,
     "metadata": {},
     "output_type": "execute_result"
    }
   ],
   "source": [
    "rand(2)"
   ]
  },
  {
   "cell_type": "code",
   "execution_count": 33,
   "metadata": {},
   "outputs": [
    {
     "data": {
      "text/plain": [
       "2-element Vector{Float64}:\n",
       " 0.5276073822268361\n",
       " 0.44667442344110675"
      ]
     },
     "execution_count": 33,
     "metadata": {},
     "output_type": "execute_result"
    }
   ],
   "source": [
    "rand(2)"
   ]
  },
  {
   "cell_type": "markdown",
   "metadata": {},
   "source": [
    "**Plotting**. There are several external packages for creating plots in Julia. One such package is Plots.jl, which you must add (install) via Julia's package manager control system; see page ix. Assuming the Plots package has been installed, you import it into Julia for use, using the command ```using Plots```. (This can take some time.) After that you can access the Julia commands that create or manipulate plots. \n",
    "\n",
    "For example, we can plot the temperature time series in Figure 1.3 of VMLS using the code below; the last line saves the plot in a file ```temperature.pdf```. The result is shown in Figure 1.1."
   ]
  },
  {
   "cell_type": "code",
   "execution_count": 34,
   "metadata": {},
   "outputs": [],
   "source": [
    "using Plots #Only need to do this once per session"
   ]
  },
  {
   "cell_type": "code",
   "execution_count": 35,
   "metadata": {},
   "outputs": [],
   "source": [
    "temps = [71, 71, 68, 69, 68, 69,68, 74, 77, 82, 85, 86, 88, 86, 85, 86, 84, 79, 77, 75, 73, 71, 70, 70, 69, 69, 69, 69, 67, 68, 68, 73, 76, 77, 82, 84, 84, 81, 80, 78, 79, 78, 73, 72, 70, 70, 68, 67];"
   ]
  },
  {
   "cell_type": "code",
   "execution_count": 36,
   "metadata": {},
   "outputs": [
    {
     "data": {
      "image/png": "[encoded data removed]",
      "image/svg+xml": [
       "<?xml version=\"1.0\" encoding=\"utf-8\"?>\n",
       "<svg xmlns=\"http://www.w3.org/2000/svg\" xmlns:xlink=\"http://www.w3.org/1999/xlink\" width=\"600\" height=\"400\" viewBox=\"0 0 2400 1600\">\n",
       "<defs>\n",
       "  <clipPath id=\"clip300\">\n",
       "    <rect x=\"0\" y=\"0\" width=\"2400\" height=\"1600\"/>\n",
       "  </clipPath>\n",
       "</defs>\n",
       "<path clip-path=\"url(#clip300)\" d=\"M0 1600 L2400 1600 L2400 8.88178e-14 L0 8.88178e-14  Z\" fill=\"#ffffff\" fill-rule=\"evenodd\" fill-opacity=\"1\"/>\n",
       "<defs>\n",
       "  <clipPath id=\"clip301\">\n",
       "    <rect x=\"480\" y=\"0\" width=\"1681\" height=\"1600\"/>\n",
       "  </clipPath>\n",
       "</defs>\n",
       "<path clip-path=\"url(#clip300)\" d=\"M140.95 1486.45 L2352.76 1486.45 L2352.76 47.2441 L140.95 47.2441  Z\" fill=\"#ffffff\" fill-rule=\"evenodd\" fill-opacity=\"1\"/>\n",
       "<defs>\n",
       "  <clipPath id=\"clip302\">\n",
       "    <rect x=\"140\" y=\"47\" width=\"2213\" height=\"1440\"/>\n",
       "  </clipPath>\n",
       "</defs>\n",
       "<polyline clip-path=\"url(#clip300)\" style=\"stroke:#000000; stroke-linecap:round; stroke-linejoin:round; stroke-width:4; stroke-opacity:1; fill:none\" points=\"140.95,1486.45 2352.76,1486.45 \"/>\n",
       "<polyline clip-path=\"url(#clip300)\" style=\"stroke:#000000; stroke-linecap:round; stroke-linejoin:round; stroke-width:4; stroke-opacity:1; fill:none\" points=\"159.153,1486.45 159.153,1467.55 \"/>\n",
       "<polyline clip-path=\"url(#clip300)\" style=\"stroke:#000000; stroke-linecap:round; stroke-linejoin:round; stroke-width:4; stroke-opacity:1; fill:none\" points=\"603.112,1486.45 603.112,1467.55 \"/>\n",
       "<polyline clip-path=\"url(#clip300)\" style=\"stroke:#000000; stroke-linecap:round; stroke-linejoin:round; stroke-width:4; stroke-opacity:1; fill:none\" points=\"1047.07,1486.45 1047.07,1467.55 \"/>\n",
       "<polyline clip-path=\"url(#clip300)\" style=\"stroke:#000000; stroke-linecap:round; stroke-linejoin:round; stroke-width:4; stroke-opacity:1; fill:none\" points=\"1491.03,1486.45 1491.03,1467.55 \"/>\n",
       "<polyline clip-path=\"url(#clip300)\" style=\"stroke:#000000; stroke-linecap:round; stroke-linejoin:round; stroke-width:4; stroke-opacity:1; fill:none\" points=\"1934.99,1486.45 1934.99,1467.55 \"/>\n",
       "<path clip-path=\"url(#clip300)\" d=\"M159.153 1517.37 Q155.541 1517.37 153.713 1520.93 Q151.907 1524.47 151.907 1531.6 Q151.907 1538.71 153.713 1542.27 Q155.541 1545.82 159.153 1545.82 Q162.787 1545.82 164.592 1542.27 Q166.421 1538.71 166.421 1531.6 Q166.421 1524.47 164.592 1520.93 Q162.787 1517.37 159.153 1517.37 M159.153 1513.66 Q164.963 1513.66 168.018 1518.27 Q171.097 1522.85 171.097 1531.6 Q171.097 1540.33 168.018 1544.94 Q164.963 1549.52 159.153 1549.52 Q153.342 1549.52 150.264 1544.94 Q147.208 1540.33 147.208 1531.6 Q147.208 1522.85 150.264 1518.27 Q153.342 1513.66 159.153 1513.66 Z\" fill=\"#000000\" fill-rule=\"nonzero\" fill-opacity=\"1\" /><path clip-path=\"url(#clip300)\" d=\"M577.8 1544.91 L585.438 1544.91 L585.438 1518.55 L577.128 1520.21 L577.128 1515.95 L585.392 1514.29 L590.068 1514.29 L590.068 1544.91 L597.707 1544.91 L597.707 1548.85 L577.8 1548.85 L577.8 1544.91 Z\" fill=\"#000000\" fill-rule=\"nonzero\" fill-opacity=\"1\" /><path clip-path=\"url(#clip300)\" d=\"M617.151 1517.37 Q613.54 1517.37 611.711 1520.93 Q609.906 1524.47 609.906 1531.6 Q609.906 1538.71 611.711 1542.27 Q613.54 1545.82 617.151 1545.82 Q620.785 1545.82 622.591 1542.27 Q624.42 1538.71 624.42 1531.6 Q624.42 1524.47 622.591 1520.93 Q620.785 1517.37 617.151 1517.37 M617.151 1513.66 Q622.961 1513.66 626.017 1518.27 Q629.096 1522.85 629.096 1531.6 Q629.096 1540.33 626.017 1544.94 Q622.961 1549.52 617.151 1549.52 Q611.341 1549.52 608.262 1544.94 Q605.207 1540.33 605.207 1531.6 Q605.207 1522.85 608.262 1518.27 Q611.341 1513.66 617.151 1513.66 Z\" fill=\"#000000\" fill-rule=\"nonzero\" fill-opacity=\"1\" /><path clip-path=\"url(#clip300)\" d=\"M1025.84 1544.91 L1042.16 1544.91 L1042.16 1548.85 L1020.22 1548.85 L1020.22 1544.91 Q1022.88 1542.16 1027.46 1537.53 Q1032.07 1532.88 1033.25 1531.53 Q1035.5 1529.01 1036.38 1527.27 Q1037.28 1525.51 1037.28 1523.82 Q1037.28 1521.07 1035.34 1519.33 Q1033.41 1517.6 1030.31 1517.6 Q1028.11 1517.6 1025.66 1518.36 Q1023.23 1519.13 1020.45 1520.68 L1020.45 1515.95 Q1023.28 1514.82 1025.73 1514.24 Q1028.18 1513.66 1030.22 1513.66 Q1035.59 1513.66 1038.78 1516.35 Q1041.98 1519.03 1041.98 1523.52 Q1041.98 1525.65 1041.17 1527.57 Q1040.38 1529.47 1038.28 1532.07 Q1037.7 1532.74 1034.59 1535.95 Q1031.49 1539.15 1025.84 1544.91 Z\" fill=\"#000000\" fill-rule=\"nonzero\" fill-opacity=\"1\" /><path clip-path=\"url(#clip300)\" d=\"M1061.98 1517.37 Q1058.37 1517.37 1056.54 1520.93 Q1054.73 1524.47 1054.73 1531.6 Q1054.73 1538.71 1056.54 1542.27 Q1058.37 1545.82 1061.98 1545.82 Q1065.61 1545.82 1067.42 1542.27 Q1069.25 1538.71 1069.25 1531.6 Q1069.25 1524.47 1067.42 1520.93 Q1065.61 1517.37 1061.98 1517.37 M1061.98 1513.66 Q1067.79 1513.66 1070.84 1518.27 Q1073.92 1522.85 1073.92 1531.6 Q1073.92 1540.33 1070.84 1544.94 Q1067.79 1549.52 1061.98 1549.52 Q1056.17 1549.52 1053.09 1544.94 Q1050.03 1540.33 1050.03 1531.6 Q1050.03 1522.85 1053.09 1518.27 Q1056.17 1513.66 1061.98 1513.66 Z\" fill=\"#000000\" fill-rule=\"nonzero\" fill-opacity=\"1\" /><path clip-path=\"url(#clip300)\" d=\"M1479.87 1530.21 Q1483.23 1530.93 1485.1 1533.2 Q1487 1535.47 1487 1538.8 Q1487 1543.92 1483.48 1546.72 Q1479.97 1549.52 1473.48 1549.52 Q1471.31 1549.52 1468.99 1549.08 Q1466.7 1548.66 1464.25 1547.81 L1464.25 1543.29 Q1466.19 1544.43 1468.51 1545.01 Q1470.82 1545.58 1473.35 1545.58 Q1477.74 1545.58 1480.04 1543.85 Q1482.35 1542.11 1482.35 1538.8 Q1482.35 1535.75 1480.2 1534.03 Q1478.07 1532.3 1474.25 1532.3 L1470.22 1532.3 L1470.22 1528.45 L1474.43 1528.45 Q1477.88 1528.45 1479.71 1527.09 Q1481.54 1525.7 1481.54 1523.11 Q1481.54 1520.45 1479.64 1519.03 Q1477.77 1517.6 1474.25 1517.6 Q1472.33 1517.6 1470.13 1518.01 Q1467.93 1518.43 1465.29 1519.31 L1465.29 1515.14 Q1467.95 1514.4 1470.27 1514.03 Q1472.6 1513.66 1474.67 1513.66 Q1479.99 1513.66 1483.09 1516.09 Q1486.19 1518.5 1486.19 1522.62 Q1486.19 1525.49 1484.55 1527.48 Q1482.91 1529.45 1479.87 1530.21 Z\" fill=\"#000000\" fill-rule=\"nonzero\" fill-opacity=\"1\" /><path clip-path=\"url(#clip300)\" d=\"M1505.87 1517.37 Q1502.26 1517.37 1500.43 1520.93 Q1498.62 1524.47 1498.62 1531.6 Q1498.62 1538.71 1500.43 1542.27 Q1502.26 1545.82 1505.87 1545.82 Q1509.5 1545.82 1511.31 1542.27 Q1513.14 1538.71 1513.14 1531.6 Q1513.14 1524.47 1511.31 1520.93 Q1509.5 1517.37 1505.87 1517.37 M1505.87 1513.66 Q1511.68 1513.66 1514.73 1518.27 Q1517.81 1522.85 1517.81 1531.6 Q1517.81 1540.33 1514.73 1544.94 Q1511.68 1549.52 1505.87 1549.52 Q1500.06 1549.52 1496.98 1544.94 Q1493.92 1540.33 1493.92 1531.6 Q1493.92 1522.85 1496.98 1518.27 Q1500.06 1513.66 1505.87 1513.66 Z\" fill=\"#000000\" fill-rule=\"nonzero\" fill-opacity=\"1\" /><path clip-path=\"url(#clip300)\" d=\"M1923.16 1518.36 L1911.36 1536.81 L1923.16 1536.81 L1923.16 1518.36 M1921.93 1514.29 L1927.81 1514.29 L1927.81 1536.81 L1932.74 1536.81 L1932.74 1540.7 L1927.81 1540.7 L1927.81 1548.85 L1923.16 1548.85 L1923.16 1540.7 L1907.56 1540.7 L1907.56 1536.19 L1921.93 1514.29 Z\" fill=\"#000000\" fill-rule=\"nonzero\" fill-opacity=\"1\" /><path clip-path=\"url(#clip300)\" d=\"M1950.48 1517.37 Q1946.87 1517.37 1945.04 1520.93 Q1943.23 1524.47 1943.23 1531.6 Q1943.23 1538.71 1945.04 1542.27 Q1946.87 1545.82 1950.48 1545.82 Q1954.11 1545.82 1955.92 1542.27 Q1957.74 1538.71 1957.74 1531.6 Q1957.74 1524.47 1955.92 1520.93 Q1954.11 1517.37 1950.48 1517.37 M1950.48 1513.66 Q1956.29 1513.66 1959.34 1518.27 Q1962.42 1522.85 1962.42 1531.6 Q1962.42 1540.33 1959.34 1544.94 Q1956.29 1549.52 1950.48 1549.52 Q1944.67 1549.52 1941.59 1544.94 Q1938.53 1540.33 1938.53 1531.6 Q1938.53 1522.85 1941.59 1518.27 Q1944.67 1513.66 1950.48 1513.66 Z\" fill=\"#000000\" fill-rule=\"nonzero\" fill-opacity=\"1\" /><polyline clip-path=\"url(#clip300)\" style=\"stroke:#000000; stroke-linecap:round; stroke-linejoin:round; stroke-width:4; stroke-opacity:1; fill:none\" points=\"140.95,1486.45 140.95,47.2441 \"/>\n",
       "<polyline clip-path=\"url(#clip300)\" style=\"stroke:#000000; stroke-linecap:round; stroke-linejoin:round; stroke-width:4; stroke-opacity:1; fill:none\" points=\"140.95,1251.75 159.848,1251.75 \"/>\n",
       "<polyline clip-path=\"url(#clip300)\" style=\"stroke:#000000; stroke-linecap:round; stroke-linejoin:round; stroke-width:4; stroke-opacity:1; fill:none\" points=\"140.95,928.482 159.848,928.482 \"/>\n",
       "<polyline clip-path=\"url(#clip300)\" style=\"stroke:#000000; stroke-linecap:round; stroke-linejoin:round; stroke-width:4; stroke-opacity:1; fill:none\" points=\"140.95,605.21 159.848,605.21 \"/>\n",
       "<polyline clip-path=\"url(#clip300)\" style=\"stroke:#000000; stroke-linecap:round; stroke-linejoin:round; stroke-width:4; stroke-opacity:1; fill:none\" points=\"140.95,281.939 159.848,281.939 \"/>\n",
       "<path clip-path=\"url(#clip300)\" d=\"M51.6634 1234.47 L73.8855 1234.47 L73.8855 1236.46 L61.3393 1269.03 L56.4551 1269.03 L68.2606 1238.41 L51.6634 1238.41 L51.6634 1234.47 Z\" fill=\"#000000\" fill-rule=\"nonzero\" fill-opacity=\"1\" /><path clip-path=\"url(#clip300)\" d=\"M93.0058 1237.55 Q89.3947 1237.55 87.566 1241.12 Q85.7605 1244.66 85.7605 1251.79 Q85.7605 1258.89 87.566 1262.46 Q89.3947 1266 93.0058 1266 Q96.64 1266 98.4456 1262.46 Q100.274 1258.89 100.274 1251.79 Q100.274 1244.66 98.4456 1241.12 Q96.64 1237.55 93.0058 1237.55 M93.0058 1233.85 Q98.8159 1233.85 101.871 1238.45 Q104.95 1243.04 104.95 1251.79 Q104.95 1260.51 101.871 1265.12 Q98.8159 1269.7 93.0058 1269.7 Q87.1956 1269.7 84.1169 1265.12 Q81.0614 1260.51 81.0614 1251.79 Q81.0614 1243.04 84.1169 1238.45 Q87.1956 1233.85 93.0058 1233.85 Z\" fill=\"#000000\" fill-rule=\"nonzero\" fill-opacity=\"1\" /><path clip-path=\"url(#clip300)\" d=\"M52.6588 911.202 L74.8809 911.202 L74.8809 913.192 L62.3347 945.762 L57.4504 945.762 L69.2559 915.137 L52.6588 915.137 L52.6588 911.202 Z\" fill=\"#000000\" fill-rule=\"nonzero\" fill-opacity=\"1\" /><path clip-path=\"url(#clip300)\" d=\"M84.0475 911.202 L102.404 911.202 L102.404 915.137 L88.3299 915.137 L88.3299 923.609 Q89.3484 923.262 90.3669 923.1 Q91.3854 922.915 92.4039 922.915 Q98.1909 922.915 101.571 926.086 Q104.95 929.257 104.95 934.674 Q104.95 940.252 101.478 943.354 Q98.0058 946.433 91.6864 946.433 Q89.5104 946.433 87.2419 946.063 Q84.9966 945.692 82.5892 944.951 L82.5892 940.252 Q84.6725 941.387 86.8947 941.942 Q89.1169 942.498 91.5938 942.498 Q95.5984 942.498 97.9363 940.391 Q100.274 938.285 100.274 934.674 Q100.274 931.063 97.9363 928.956 Q95.5984 926.85 91.5938 926.85 Q89.7188 926.85 87.8438 927.266 Q85.9919 927.683 84.0475 928.563 L84.0475 911.202 Z\" fill=\"#000000\" fill-rule=\"nonzero\" fill-opacity=\"1\" /><path clip-path=\"url(#clip300)\" d=\"M62.8439 606.078 Q59.5106 606.078 57.5893 607.861 Q55.6912 609.643 55.6912 612.768 Q55.6912 615.893 57.5893 617.676 Q59.5106 619.458 62.8439 619.458 Q66.1772 619.458 68.0985 617.676 Q70.0198 615.87 70.0198 612.768 Q70.0198 609.643 68.0985 607.861 Q66.2004 606.078 62.8439 606.078 M58.168 604.088 Q55.1588 603.347 53.469 601.287 Q51.8023 599.227 51.8023 596.264 Q51.8023 592.12 54.7421 589.713 Q57.7051 587.305 62.8439 587.305 Q68.0059 587.305 70.9457 589.713 Q73.8855 592.12 73.8855 596.264 Q73.8855 599.227 72.1957 601.287 Q70.5291 603.347 67.543 604.088 Q70.9226 604.875 72.7976 607.166 Q74.6957 609.458 74.6957 612.768 Q74.6957 617.791 71.617 620.476 Q68.5615 623.162 62.8439 623.162 Q57.1264 623.162 54.0477 620.476 Q50.9921 617.791 50.9921 612.768 Q50.9921 609.458 52.8903 607.166 Q54.7884 604.875 58.168 604.088 M56.4551 596.703 Q56.4551 599.389 58.1217 600.893 Q59.8115 602.398 62.8439 602.398 Q65.8532 602.398 67.543 600.893 Q69.2559 599.389 69.2559 596.703 Q69.2559 594.018 67.543 592.514 Q65.8532 591.009 62.8439 591.009 Q59.8115 591.009 58.1217 592.514 Q56.4551 594.018 56.4551 596.703 Z\" fill=\"#000000\" fill-rule=\"nonzero\" fill-opacity=\"1\" /><path clip-path=\"url(#clip300)\" d=\"M93.0058 591.009 Q89.3947 591.009 87.566 594.574 Q85.7605 598.115 85.7605 605.245 Q85.7605 612.352 87.566 615.916 Q89.3947 619.458 93.0058 619.458 Q96.64 619.458 98.4456 615.916 Q100.274 612.352 100.274 605.245 Q100.274 598.115 98.4456 594.574 Q96.64 591.009 93.0058 591.009 M93.0058 587.305 Q98.8159 587.305 101.871 591.912 Q104.95 596.495 104.95 605.245 Q104.95 613.972 101.871 618.578 Q98.8159 623.162 93.0058 623.162 Q87.1956 623.162 84.1169 618.578 Q81.0614 613.972 81.0614 605.245 Q81.0614 596.495 84.1169 591.912 Q87.1956 587.305 93.0058 587.305 Z\" fill=\"#000000\" fill-rule=\"nonzero\" fill-opacity=\"1\" /><path clip-path=\"url(#clip300)\" d=\"M63.8393 282.807 Q60.506 282.807 58.5847 284.589 Q56.6865 286.372 56.6865 289.497 Q56.6865 292.622 58.5847 294.404 Q60.506 296.187 63.8393 296.187 Q67.1726 296.187 69.0939 294.404 Q71.0152 292.599 71.0152 289.497 Q71.0152 286.372 69.0939 284.589 Q67.1957 282.807 63.8393 282.807 M59.1634 280.816 Q56.1541 280.076 54.4643 278.015 Q52.7977 275.955 52.7977 272.992 Q52.7977 268.849 55.7375 266.441 Q58.7004 264.034 63.8393 264.034 Q69.0013 264.034 71.9411 266.441 Q74.8809 268.849 74.8809 272.992 Q74.8809 275.955 73.1911 278.015 Q71.5244 280.076 68.5383 280.816 Q71.9179 281.603 73.7929 283.895 Q75.6911 286.187 75.6911 289.497 Q75.6911 294.52 72.6124 297.205 Q69.5568 299.89 63.8393 299.89 Q58.1217 299.89 55.043 297.205 Q51.9875 294.52 51.9875 289.497 Q51.9875 286.187 53.8856 283.895 Q55.7838 281.603 59.1634 280.816 M57.4504 273.432 Q57.4504 276.117 59.1171 277.622 Q60.8069 279.127 63.8393 279.127 Q66.8485 279.127 68.5383 277.622 Q70.2513 276.117 70.2513 273.432 Q70.2513 270.747 68.5383 269.242 Q66.8485 267.738 63.8393 267.738 Q60.8069 267.738 59.1171 269.242 Q57.4504 270.747 57.4504 273.432 Z\" fill=\"#000000\" fill-rule=\"nonzero\" fill-opacity=\"1\" /><path clip-path=\"url(#clip300)\" d=\"M84.0475 264.659 L102.404 264.659 L102.404 268.594 L88.3299 268.594 L88.3299 277.066 Q89.3484 276.719 90.3669 276.557 Q91.3854 276.372 92.4039 276.372 Q98.1909 276.372 101.571 279.543 Q104.95 282.715 104.95 288.131 Q104.95 293.71 101.478 296.812 Q98.0058 299.89 91.6864 299.89 Q89.5104 299.89 87.2419 299.52 Q84.9966 299.15 82.5892 298.409 L82.5892 293.71 Q84.6725 294.844 86.8947 295.4 Q89.1169 295.955 91.5938 295.955 Q95.5984 295.955 97.9363 293.849 Q100.274 291.742 100.274 288.131 Q100.274 284.52 97.9363 282.414 Q95.5984 280.307 91.5938 280.307 Q89.7188 280.307 87.8438 280.724 Q85.9919 281.14 84.0475 282.02 L84.0475 264.659 Z\" fill=\"#000000\" fill-rule=\"nonzero\" fill-opacity=\"1\" /><polyline clip-path=\"url(#clip302)\" style=\"stroke:#009af9; stroke-linecap:round; stroke-linejoin:round; stroke-width:4; stroke-opacity:1; fill:none\" points=\"203.548,1187.1 247.944,1187.1 292.34,1381.06 336.736,1316.41 381.132,1381.06 425.528,1316.41 469.924,1381.06 514.32,993.136 558.716,799.173 603.112,475.902 647.508,281.939 691.904,217.285 736.3,87.9763 780.696,217.285 825.092,281.939 869.488,217.285 913.883,346.593 958.279,669.865 1002.68,799.173 1047.07,928.482 1091.47,1057.79 1135.86,1187.1 1180.26,1251.75 1224.66,1251.75 1269.05,1316.41 1313.45,1316.41 1357.84,1316.41 1402.24,1316.41 1446.63,1445.72 1491.03,1381.06 1535.43,1381.06 1579.82,1057.79 1624.22,863.827 1668.61,799.173 1713.01,475.902 1757.41,346.593 1801.8,346.593 1846.2,540.556 1890.59,605.21 1934.99,734.519 1979.39,669.865 2023.78,734.519 2068.18,1057.79 2112.57,1122.44 2156.97,1251.75 2201.37,1251.75 2245.76,1381.06 2290.16,1445.72 \"/>\n",
       "<circle clip-path=\"url(#clip302)\" cx=\"203.548\" cy=\"1187.1\" r=\"14.4\" fill=\"#009af9\" fill-rule=\"evenodd\" fill-opacity=\"1\" stroke=\"#000000\" stroke-opacity=\"1\" stroke-width=\"3.2\"/>\n",
       "<circle clip-path=\"url(#clip302)\" cx=\"247.944\" cy=\"1187.1\" r=\"14.4\" fill=\"#009af9\" fill-rule=\"evenodd\" fill-opacity=\"1\" stroke=\"#000000\" stroke-opacity=\"1\" stroke-width=\"3.2\"/>\n",
       "<circle clip-path=\"url(#clip302)\" cx=\"292.34\" cy=\"1381.06\" r=\"14.4\" fill=\"#009af9\" fill-rule=\"evenodd\" fill-opacity=\"1\" stroke=\"#000000\" stroke-opacity=\"1\" stroke-width=\"3.2\"/>\n",
       "<circle clip-path=\"url(#clip302)\" cx=\"336.736\" cy=\"1316.41\" r=\"14.4\" fill=\"#009af9\" fill-rule=\"evenodd\" fill-opacity=\"1\" stroke=\"#000000\" stroke-opacity=\"1\" stroke-width=\"3.2\"/>\n",
       "<circle clip-path=\"url(#clip302)\" cx=\"381.132\" cy=\"1381.06\" r=\"14.4\" fill=\"#009af9\" fill-rule=\"evenodd\" fill-opacity=\"1\" stroke=\"#000000\" stroke-opacity=\"1\" stroke-width=\"3.2\"/>\n",
       "<circle clip-path=\"url(#clip302)\" cx=\"425.528\" cy=\"1316.41\" r=\"14.4\" fill=\"#009af9\" fill-rule=\"evenodd\" fill-opacity=\"1\" stroke=\"#000000\" stroke-opacity=\"1\" stroke-width=\"3.2\"/>\n",
       "<circle clip-path=\"url(#clip302)\" cx=\"469.924\" cy=\"1381.06\" r=\"14.4\" fill=\"#009af9\" fill-rule=\"evenodd\" fill-opacity=\"1\" stroke=\"#000000\" stroke-opacity=\"1\" stroke-width=\"3.2\"/>\n",
       "<circle clip-path=\"url(#clip302)\" cx=\"514.32\" cy=\"993.136\" r=\"14.4\" fill=\"#009af9\" fill-rule=\"evenodd\" fill-opacity=\"1\" stroke=\"#000000\" stroke-opacity=\"1\" stroke-width=\"3.2\"/>\n",
       "<circle clip-path=\"url(#clip302)\" cx=\"558.716\" cy=\"799.173\" r=\"14.4\" fill=\"#009af9\" fill-rule=\"evenodd\" fill-opacity=\"1\" stroke=\"#000000\" stroke-opacity=\"1\" stroke-width=\"3.2\"/>\n",
       "<circle clip-path=\"url(#clip302)\" cx=\"603.112\" cy=\"475.902\" r=\"14.4\" fill=\"#009af9\" fill-rule=\"evenodd\" fill-opacity=\"1\" stroke=\"#000000\" stroke-opacity=\"1\" stroke-width=\"3.2\"/>\n",
       "<circle clip-path=\"url(#clip302)\" cx=\"647.508\" cy=\"281.939\" r=\"14.4\" fill=\"#009af9\" fill-rule=\"evenodd\" fill-opacity=\"1\" stroke=\"#000000\" stroke-opacity=\"1\" stroke-width=\"3.2\"/>\n",
       "<circle clip-path=\"url(#clip302)\" cx=\"691.904\" cy=\"217.285\" r=\"14.4\" fill=\"#009af9\" fill-rule=\"evenodd\" fill-opacity=\"1\" stroke=\"#000000\" stroke-opacity=\"1\" stroke-width=\"3.2\"/>\n",
       "<circle clip-path=\"url(#clip302)\" cx=\"736.3\" cy=\"87.9763\" r=\"14.4\" fill=\"#009af9\" fill-rule=\"evenodd\" fill-opacity=\"1\" stroke=\"#000000\" stroke-opacity=\"1\" stroke-width=\"3.2\"/>\n",
       "<circle clip-path=\"url(#clip302)\" cx=\"780.696\" cy=\"217.285\" r=\"14.4\" fill=\"#009af9\" fill-rule=\"evenodd\" fill-opacity=\"1\" stroke=\"#000000\" stroke-opacity=\"1\" stroke-width=\"3.2\"/>\n",
       "<circle clip-path=\"url(#clip302)\" cx=\"825.092\" cy=\"281.939\" r=\"14.4\" fill=\"#009af9\" fill-rule=\"evenodd\" fill-opacity=\"1\" stroke=\"#000000\" stroke-opacity=\"1\" stroke-width=\"3.2\"/>\n",
       "<circle clip-path=\"url(#clip302)\" cx=\"869.488\" cy=\"217.285\" r=\"14.4\" fill=\"#009af9\" fill-rule=\"evenodd\" fill-opacity=\"1\" stroke=\"#000000\" stroke-opacity=\"1\" stroke-width=\"3.2\"/>\n",
       "<circle clip-path=\"url(#clip302)\" cx=\"913.883\" cy=\"346.593\" r=\"14.4\" fill=\"#009af9\" fill-rule=\"evenodd\" fill-opacity=\"1\" stroke=\"#000000\" stroke-opacity=\"1\" stroke-width=\"3.2\"/>\n",
       "<circle clip-path=\"url(#clip302)\" cx=\"958.279\" cy=\"669.865\" r=\"14.4\" fill=\"#009af9\" fill-rule=\"evenodd\" fill-opacity=\"1\" stroke=\"#000000\" stroke-opacity=\"1\" stroke-width=\"3.2\"/>\n",
       "<circle clip-path=\"url(#clip302)\" cx=\"1002.68\" cy=\"799.173\" r=\"14.4\" fill=\"#009af9\" fill-rule=\"evenodd\" fill-opacity=\"1\" stroke=\"#000000\" stroke-opacity=\"1\" stroke-width=\"3.2\"/>\n",
       "<circle clip-path=\"url(#clip302)\" cx=\"1047.07\" cy=\"928.482\" r=\"14.4\" fill=\"#009af9\" fill-rule=\"evenodd\" fill-opacity=\"1\" stroke=\"#000000\" stroke-opacity=\"1\" stroke-width=\"3.2\"/>\n",
       "<circle clip-path=\"url(#clip302)\" cx=\"1091.47\" cy=\"1057.79\" r=\"14.4\" fill=\"#009af9\" fill-rule=\"evenodd\" fill-opacity=\"1\" stroke=\"#000000\" stroke-opacity=\"1\" stroke-width=\"3.2\"/>\n",
       "<circle clip-path=\"url(#clip302)\" cx=\"1135.86\" cy=\"1187.1\" r=\"14.4\" fill=\"#009af9\" fill-rule=\"evenodd\" fill-opacity=\"1\" stroke=\"#000000\" stroke-opacity=\"1\" stroke-width=\"3.2\"/>\n",
       "<circle clip-path=\"url(#clip302)\" cx=\"1180.26\" cy=\"1251.75\" r=\"14.4\" fill=\"#009af9\" fill-rule=\"evenodd\" fill-opacity=\"1\" stroke=\"#000000\" stroke-opacity=\"1\" stroke-width=\"3.2\"/>\n",
       "<circle clip-path=\"url(#clip302)\" cx=\"1224.66\" cy=\"1251.75\" r=\"14.4\" fill=\"#009af9\" fill-rule=\"evenodd\" fill-opacity=\"1\" stroke=\"#000000\" stroke-opacity=\"1\" stroke-width=\"3.2\"/>\n",
       "<circle clip-path=\"url(#clip302)\" cx=\"1269.05\" cy=\"1316.41\" r=\"14.4\" fill=\"#009af9\" fill-rule=\"evenodd\" fill-opacity=\"1\" stroke=\"#000000\" stroke-opacity=\"1\" stroke-width=\"3.2\"/>\n",
       "<circle clip-path=\"url(#clip302)\" cx=\"1313.45\" cy=\"1316.41\" r=\"14.4\" fill=\"#009af9\" fill-rule=\"evenodd\" fill-opacity=\"1\" stroke=\"#000000\" stroke-opacity=\"1\" stroke-width=\"3.2\"/>\n",
       "<circle clip-path=\"url(#clip302)\" cx=\"1357.84\" cy=\"1316.41\" r=\"14.4\" fill=\"#009af9\" fill-rule=\"evenodd\" fill-opacity=\"1\" stroke=\"#000000\" stroke-opacity=\"1\" stroke-width=\"3.2\"/>\n",
       "<circle clip-path=\"url(#clip302)\" cx=\"1402.24\" cy=\"1316.41\" r=\"14.4\" fill=\"#009af9\" fill-rule=\"evenodd\" fill-opacity=\"1\" stroke=\"#000000\" stroke-opacity=\"1\" stroke-width=\"3.2\"/>\n",
       "<circle clip-path=\"url(#clip302)\" cx=\"1446.63\" cy=\"1445.72\" r=\"14.4\" fill=\"#009af9\" fill-rule=\"evenodd\" fill-opacity=\"1\" stroke=\"#000000\" stroke-opacity=\"1\" stroke-width=\"3.2\"/>\n",
       "<circle clip-path=\"url(#clip302)\" cx=\"1491.03\" cy=\"1381.06\" r=\"14.4\" fill=\"#009af9\" fill-rule=\"evenodd\" fill-opacity=\"1\" stroke=\"#000000\" stroke-opacity=\"1\" stroke-width=\"3.2\"/>\n",
       "<circle clip-path=\"url(#clip302)\" cx=\"1535.43\" cy=\"1381.06\" r=\"14.4\" fill=\"#009af9\" fill-rule=\"evenodd\" fill-opacity=\"1\" stroke=\"#000000\" stroke-opacity=\"1\" stroke-width=\"3.2\"/>\n",
       "<circle clip-path=\"url(#clip302)\" cx=\"1579.82\" cy=\"1057.79\" r=\"14.4\" fill=\"#009af9\" fill-rule=\"evenodd\" fill-opacity=\"1\" stroke=\"#000000\" stroke-opacity=\"1\" stroke-width=\"3.2\"/>\n",
       "<circle clip-path=\"url(#clip302)\" cx=\"1624.22\" cy=\"863.827\" r=\"14.4\" fill=\"#009af9\" fill-rule=\"evenodd\" fill-opacity=\"1\" stroke=\"#000000\" stroke-opacity=\"1\" stroke-width=\"3.2\"/>\n",
       "<circle clip-path=\"url(#clip302)\" cx=\"1668.61\" cy=\"799.173\" r=\"14.4\" fill=\"#009af9\" fill-rule=\"evenodd\" fill-opacity=\"1\" stroke=\"#000000\" stroke-opacity=\"1\" stroke-width=\"3.2\"/>\n",
       "<circle clip-path=\"url(#clip302)\" cx=\"1713.01\" cy=\"475.902\" r=\"14.4\" fill=\"#009af9\" fill-rule=\"evenodd\" fill-opacity=\"1\" stroke=\"#000000\" stroke-opacity=\"1\" stroke-width=\"3.2\"/>\n",
       "<circle clip-path=\"url(#clip302)\" cx=\"1757.41\" cy=\"346.593\" r=\"14.4\" fill=\"#009af9\" fill-rule=\"evenodd\" fill-opacity=\"1\" stroke=\"#000000\" stroke-opacity=\"1\" stroke-width=\"3.2\"/>\n",
       "<circle clip-path=\"url(#clip302)\" cx=\"1801.8\" cy=\"346.593\" r=\"14.4\" fill=\"#009af9\" fill-rule=\"evenodd\" fill-opacity=\"1\" stroke=\"#000000\" stroke-opacity=\"1\" stroke-width=\"3.2\"/>\n",
       "<circle clip-path=\"url(#clip302)\" cx=\"1846.2\" cy=\"540.556\" r=\"14.4\" fill=\"#009af9\" fill-rule=\"evenodd\" fill-opacity=\"1\" stroke=\"#000000\" stroke-opacity=\"1\" stroke-width=\"3.2\"/>\n",
       "<circle clip-path=\"url(#clip302)\" cx=\"1890.59\" cy=\"605.21\" r=\"14.4\" fill=\"#009af9\" fill-rule=\"evenodd\" fill-opacity=\"1\" stroke=\"#000000\" stroke-opacity=\"1\" stroke-width=\"3.2\"/>\n",
       "<circle clip-path=\"url(#clip302)\" cx=\"1934.99\" cy=\"734.519\" r=\"14.4\" fill=\"#009af9\" fill-rule=\"evenodd\" fill-opacity=\"1\" stroke=\"#000000\" stroke-opacity=\"1\" stroke-width=\"3.2\"/>\n",
       "<circle clip-path=\"url(#clip302)\" cx=\"1979.39\" cy=\"669.865\" r=\"14.4\" fill=\"#009af9\" fill-rule=\"evenodd\" fill-opacity=\"1\" stroke=\"#000000\" stroke-opacity=\"1\" stroke-width=\"3.2\"/>\n",
       "<circle clip-path=\"url(#clip302)\" cx=\"2023.78\" cy=\"734.519\" r=\"14.4\" fill=\"#009af9\" fill-rule=\"evenodd\" fill-opacity=\"1\" stroke=\"#000000\" stroke-opacity=\"1\" stroke-width=\"3.2\"/>\n",
       "<circle clip-path=\"url(#clip302)\" cx=\"2068.18\" cy=\"1057.79\" r=\"14.4\" fill=\"#009af9\" fill-rule=\"evenodd\" fill-opacity=\"1\" stroke=\"#000000\" stroke-opacity=\"1\" stroke-width=\"3.2\"/>\n",
       "<circle clip-path=\"url(#clip302)\" cx=\"2112.57\" cy=\"1122.44\" r=\"14.4\" fill=\"#009af9\" fill-rule=\"evenodd\" fill-opacity=\"1\" stroke=\"#000000\" stroke-opacity=\"1\" stroke-width=\"3.2\"/>\n",
       "<circle clip-path=\"url(#clip302)\" cx=\"2156.97\" cy=\"1251.75\" r=\"14.4\" fill=\"#009af9\" fill-rule=\"evenodd\" fill-opacity=\"1\" stroke=\"#000000\" stroke-opacity=\"1\" stroke-width=\"3.2\"/>\n",
       "<circle clip-path=\"url(#clip302)\" cx=\"2201.37\" cy=\"1251.75\" r=\"14.4\" fill=\"#009af9\" fill-rule=\"evenodd\" fill-opacity=\"1\" stroke=\"#000000\" stroke-opacity=\"1\" stroke-width=\"3.2\"/>\n",
       "<circle clip-path=\"url(#clip302)\" cx=\"2245.76\" cy=\"1381.06\" r=\"14.4\" fill=\"#009af9\" fill-rule=\"evenodd\" fill-opacity=\"1\" stroke=\"#000000\" stroke-opacity=\"1\" stroke-width=\"3.2\"/>\n",
       "<circle clip-path=\"url(#clip302)\" cx=\"2290.16\" cy=\"1445.72\" r=\"14.4\" fill=\"#009af9\" fill-rule=\"evenodd\" fill-opacity=\"1\" stroke=\"#000000\" stroke-opacity=\"1\" stroke-width=\"3.2\"/>\n",
       "</svg>\n"
      ],
      "text/html": [
       "<?xml version=\"1.0\" encoding=\"utf-8\"?>\n",
       "<svg xmlns=\"http://www.w3.org/2000/svg\" xmlns:xlink=\"http://www.w3.org/1999/xlink\" width=\"600\" height=\"400\" viewBox=\"0 0 2400 1600\">\n",
       "<defs>\n",
       "  <clipPath id=\"clip350\">\n",
       "    <rect x=\"0\" y=\"0\" width=\"2400\" height=\"1600\"/>\n",
       "  </clipPath>\n",
       "</defs>\n",
       "<path clip-path=\"url(#clip350)\" d=\"M0 1600 L2400 1600 L2400 8.88178e-14 L0 8.88178e-14  Z\" fill=\"#ffffff\" fill-rule=\"evenodd\" fill-opacity=\"1\"/>\n",
       "<defs>\n",
       "  <clipPath id=\"clip351\">\n",
       "    <rect x=\"480\" y=\"0\" width=\"1681\" height=\"1600\"/>\n",
       "  </clipPath>\n",
       "</defs>\n",
       "<path clip-path=\"url(#clip350)\" d=\"M140.95 1486.45 L2352.76 1486.45 L2352.76 47.2441 L140.95 47.2441  Z\" fill=\"#ffffff\" fill-rule=\"evenodd\" fill-opacity=\"1\"/>\n",
       "<defs>\n",
       "  <clipPath id=\"clip352\">\n",
       "    <rect x=\"140\" y=\"47\" width=\"2213\" height=\"1440\"/>\n",
       "  </clipPath>\n",
       "</defs>\n",
       "<polyline clip-path=\"url(#clip350)\" style=\"stroke:#000000; stroke-linecap:round; stroke-linejoin:round; stroke-width:4; stroke-opacity:1; fill:none\" points=\"140.95,1486.45 2352.76,1486.45 \"/>\n",
       "<polyline clip-path=\"url(#clip350)\" style=\"stroke:#000000; stroke-linecap:round; stroke-linejoin:round; stroke-width:4; stroke-opacity:1; fill:none\" points=\"159.153,1486.45 159.153,1467.55 \"/>\n",
       "<polyline clip-path=\"url(#clip350)\" style=\"stroke:#000000; stroke-linecap:round; stroke-linejoin:round; stroke-width:4; stroke-opacity:1; fill:none\" points=\"603.112,1486.45 603.112,1467.55 \"/>\n",
       "<polyline clip-path=\"url(#clip350)\" style=\"stroke:#000000; stroke-linecap:round; stroke-linejoin:round; stroke-width:4; stroke-opacity:1; fill:none\" points=\"1047.07,1486.45 1047.07,1467.55 \"/>\n",
       "<polyline clip-path=\"url(#clip350)\" style=\"stroke:#000000; stroke-linecap:round; stroke-linejoin:round; stroke-width:4; stroke-opacity:1; fill:none\" points=\"1491.03,1486.45 1491.03,1467.55 \"/>\n",
       "<polyline clip-path=\"url(#clip350)\" style=\"stroke:#000000; stroke-linecap:round; stroke-linejoin:round; stroke-width:4; stroke-opacity:1; fill:none\" points=\"1934.99,1486.45 1934.99,1467.55 \"/>\n",
       "<path clip-path=\"url(#clip350)\" d=\"M159.153 1517.37 Q155.541 1517.37 153.713 1520.93 Q151.907 1524.47 151.907 1531.6 Q151.907 1538.71 153.713 1542.27 Q155.541 1545.82 159.153 1545.82 Q162.787 1545.82 164.592 1542.27 Q166.421 1538.71 166.421 1531.6 Q166.421 1524.47 164.592 1520.93 Q162.787 1517.37 159.153 1517.37 M159.153 1513.66 Q164.963 1513.66 168.018 1518.27 Q171.097 1522.85 171.097 1531.6 Q171.097 1540.33 168.018 1544.94 Q164.963 1549.52 159.153 1549.52 Q153.342 1549.52 150.264 1544.94 Q147.208 1540.33 147.208 1531.6 Q147.208 1522.85 150.264 1518.27 Q153.342 1513.66 159.153 1513.66 Z\" fill=\"#000000\" fill-rule=\"nonzero\" fill-opacity=\"1\" /><path clip-path=\"url(#clip350)\" d=\"M577.8 1544.91 L585.438 1544.91 L585.438 1518.55 L577.128 1520.21 L577.128 1515.95 L585.392 1514.29 L590.068 1514.29 L590.068 1544.91 L597.707 1544.91 L597.707 1548.85 L577.8 1548.85 L577.8 1544.91 Z\" fill=\"#000000\" fill-rule=\"nonzero\" fill-opacity=\"1\" /><path clip-path=\"url(#clip350)\" d=\"M617.151 1517.37 Q613.54 1517.37 611.711 1520.93 Q609.906 1524.47 609.906 1531.6 Q609.906 1538.71 611.711 1542.27 Q613.54 1545.82 617.151 1545.82 Q620.785 1545.82 622.591 1542.27 Q624.42 1538.71 624.42 1531.6 Q624.42 1524.47 622.591 1520.93 Q620.785 1517.37 617.151 1517.37 M617.151 1513.66 Q622.961 1513.66 626.017 1518.27 Q629.096 1522.85 629.096 1531.6 Q629.096 1540.33 626.017 1544.94 Q622.961 1549.52 617.151 1549.52 Q611.341 1549.52 608.262 1544.94 Q605.207 1540.33 605.207 1531.6 Q605.207 1522.85 608.262 1518.27 Q611.341 1513.66 617.151 1513.66 Z\" fill=\"#000000\" fill-rule=\"nonzero\" fill-opacity=\"1\" /><path clip-path=\"url(#clip350)\" d=\"M1025.84 1544.91 L1042.16 1544.91 L1042.16 1548.85 L1020.22 1548.85 L1020.22 1544.91 Q1022.88 1542.16 1027.46 1537.53 Q1032.07 1532.88 1033.25 1531.53 Q1035.5 1529.01 1036.38 1527.27 Q1037.28 1525.51 1037.28 1523.82 Q1037.28 1521.07 1035.34 1519.33 Q1033.41 1517.6 1030.31 1517.6 Q1028.11 1517.6 1025.66 1518.36 Q1023.23 1519.13 1020.45 1520.68 L1020.45 1515.95 Q1023.28 1514.82 1025.73 1514.24 Q1028.18 1513.66 1030.22 1513.66 Q1035.59 1513.66 1038.78 1516.35 Q1041.98 1519.03 1041.98 1523.52 Q1041.98 1525.65 1041.17 1527.57 Q1040.38 1529.47 1038.28 1532.07 Q1037.7 1532.74 1034.59 1535.95 Q1031.49 1539.15 1025.84 1544.91 Z\" fill=\"#000000\" fill-rule=\"nonzero\" fill-opacity=\"1\" /><path clip-path=\"url(#clip350)\" d=\"M1061.98 1517.37 Q1058.37 1517.37 1056.54 1520.93 Q1054.73 1524.47 1054.73 1531.6 Q1054.73 1538.71 1056.54 1542.27 Q1058.37 1545.82 1061.98 1545.82 Q1065.61 1545.82 1067.42 1542.27 Q1069.25 1538.71 1069.25 1531.6 Q1069.25 1524.47 1067.42 1520.93 Q1065.61 1517.37 1061.98 1517.37 M1061.98 1513.66 Q1067.79 1513.66 1070.84 1518.27 Q1073.92 1522.85 1073.92 1531.6 Q1073.92 1540.33 1070.84 1544.94 Q1067.79 1549.52 1061.98 1549.52 Q1056.17 1549.52 1053.09 1544.94 Q1050.03 1540.33 1050.03 1531.6 Q1050.03 1522.85 1053.09 1518.27 Q1056.17 1513.66 1061.98 1513.66 Z\" fill=\"#000000\" fill-rule=\"nonzero\" fill-opacity=\"1\" /><path clip-path=\"url(#clip350)\" d=\"M1479.87 1530.21 Q1483.23 1530.93 1485.1 1533.2 Q1487 1535.47 1487 1538.8 Q1487 1543.92 1483.48 1546.72 Q1479.97 1549.52 1473.48 1549.52 Q1471.31 1549.52 1468.99 1549.08 Q1466.7 1548.66 1464.25 1547.81 L1464.25 1543.29 Q1466.19 1544.43 1468.51 1545.01 Q1470.82 1545.58 1473.35 1545.58 Q1477.74 1545.58 1480.04 1543.85 Q1482.35 1542.11 1482.35 1538.8 Q1482.35 1535.75 1480.2 1534.03 Q1478.07 1532.3 1474.25 1532.3 L1470.22 1532.3 L1470.22 1528.45 L1474.43 1528.45 Q1477.88 1528.45 1479.71 1527.09 Q1481.54 1525.7 1481.54 1523.11 Q1481.54 1520.45 1479.64 1519.03 Q1477.77 1517.6 1474.25 1517.6 Q1472.33 1517.6 1470.13 1518.01 Q1467.93 1518.43 1465.29 1519.31 L1465.29 1515.14 Q1467.95 1514.4 1470.27 1514.03 Q1472.6 1513.66 1474.67 1513.66 Q1479.99 1513.66 1483.09 1516.09 Q1486.19 1518.5 1486.19 1522.62 Q1486.19 1525.49 1484.55 1527.48 Q1482.91 1529.45 1479.87 1530.21 Z\" fill=\"#000000\" fill-rule=\"nonzero\" fill-opacity=\"1\" /><path clip-path=\"url(#clip350)\" d=\"M1505.87 1517.37 Q1502.26 1517.37 1500.43 1520.93 Q1498.62 1524.47 1498.62 1531.6 Q1498.62 1538.71 1500.43 1542.27 Q1502.26 1545.82 1505.87 1545.82 Q1509.5 1545.82 1511.31 1542.27 Q1513.14 1538.71 1513.14 1531.6 Q1513.14 1524.47 1511.31 1520.93 Q1509.5 1517.37 1505.87 1517.37 M1505.87 1513.66 Q1511.68 1513.66 1514.73 1518.27 Q1517.81 1522.85 1517.81 1531.6 Q1517.81 1540.33 1514.73 1544.94 Q1511.68 1549.52 1505.87 1549.52 Q1500.06 1549.52 1496.98 1544.94 Q1493.92 1540.33 1493.92 1531.6 Q1493.92 1522.85 1496.98 1518.27 Q1500.06 1513.66 1505.87 1513.66 Z\" fill=\"#000000\" fill-rule=\"nonzero\" fill-opacity=\"1\" /><path clip-path=\"url(#clip350)\" d=\"M1923.16 1518.36 L1911.36 1536.81 L1923.16 1536.81 L1923.16 1518.36 M1921.93 1514.29 L1927.81 1514.29 L1927.81 1536.81 L1932.74 1536.81 L1932.74 1540.7 L1927.81 1540.7 L1927.81 1548.85 L1923.16 1548.85 L1923.16 1540.7 L1907.56 1540.7 L1907.56 1536.19 L1921.93 1514.29 Z\" fill=\"#000000\" fill-rule=\"nonzero\" fill-opacity=\"1\" /><path clip-path=\"url(#clip350)\" d=\"M1950.48 1517.37 Q1946.87 1517.37 1945.04 1520.93 Q1943.23 1524.47 1943.23 1531.6 Q1943.23 1538.71 1945.04 1542.27 Q1946.87 1545.82 1950.48 1545.82 Q1954.11 1545.82 1955.92 1542.27 Q1957.74 1538.71 1957.74 1531.6 Q1957.74 1524.47 1955.92 1520.93 Q1954.11 1517.37 1950.48 1517.37 M1950.48 1513.66 Q1956.29 1513.66 1959.34 1518.27 Q1962.42 1522.85 1962.42 1531.6 Q1962.42 1540.33 1959.34 1544.94 Q1956.29 1549.52 1950.48 1549.52 Q1944.67 1549.52 1941.59 1544.94 Q1938.53 1540.33 1938.53 1531.6 Q1938.53 1522.85 1941.59 1518.27 Q1944.67 1513.66 1950.48 1513.66 Z\" fill=\"#000000\" fill-rule=\"nonzero\" fill-opacity=\"1\" /><polyline clip-path=\"url(#clip350)\" style=\"stroke:#000000; stroke-linecap:round; stroke-linejoin:round; stroke-width:4; stroke-opacity:1; fill:none\" points=\"140.95,1486.45 140.95,47.2441 \"/>\n",
       "<polyline clip-path=\"url(#clip350)\" style=\"stroke:#000000; stroke-linecap:round; stroke-linejoin:round; stroke-width:4; stroke-opacity:1; fill:none\" points=\"140.95,1251.75 159.848,1251.75 \"/>\n",
       "<polyline clip-path=\"url(#clip350)\" style=\"stroke:#000000; stroke-linecap:round; stroke-linejoin:round; stroke-width:4; stroke-opacity:1; fill:none\" points=\"140.95,928.482 159.848,928.482 \"/>\n",
       "<polyline clip-path=\"url(#clip350)\" style=\"stroke:#000000; stroke-linecap:round; stroke-linejoin:round; stroke-width:4; stroke-opacity:1; fill:none\" points=\"140.95,605.21 159.848,605.21 \"/>\n",
       "<polyline clip-path=\"url(#clip350)\" style=\"stroke:#000000; stroke-linecap:round; stroke-linejoin:round; stroke-width:4; stroke-opacity:1; fill:none\" points=\"140.95,281.939 159.848,281.939 \"/>\n",
       "<path clip-path=\"url(#clip350)\" d=\"M51.6634 1234.47 L73.8855 1234.47 L73.8855 1236.46 L61.3393 1269.03 L56.4551 1269.03 L68.2606 1238.41 L51.6634 1238.41 L51.6634 1234.47 Z\" fill=\"#000000\" fill-rule=\"nonzero\" fill-opacity=\"1\" /><path clip-path=\"url(#clip350)\" d=\"M93.0058 1237.55 Q89.3947 1237.55 87.566 1241.12 Q85.7605 1244.66 85.7605 1251.79 Q85.7605 1258.89 87.566 1262.46 Q89.3947 1266 93.0058 1266 Q96.64 1266 98.4456 1262.46 Q100.274 1258.89 100.274 1251.79 Q100.274 1244.66 98.4456 1241.12 Q96.64 1237.55 93.0058 1237.55 M93.0058 1233.85 Q98.8159 1233.85 101.871 1238.45 Q104.95 1243.04 104.95 1251.79 Q104.95 1260.51 101.871 1265.12 Q98.8159 1269.7 93.0058 1269.7 Q87.1956 1269.7 84.1169 1265.12 Q81.0614 1260.51 81.0614 1251.79 Q81.0614 1243.04 84.1169 1238.45 Q87.1956 1233.85 93.0058 1233.85 Z\" fill=\"#000000\" fill-rule=\"nonzero\" fill-opacity=\"1\" /><path clip-path=\"url(#clip350)\" d=\"M52.6588 911.202 L74.8809 911.202 L74.8809 913.192 L62.3347 945.762 L57.4504 945.762 L69.2559 915.137 L52.6588 915.137 L52.6588 911.202 Z\" fill=\"#000000\" fill-rule=\"nonzero\" fill-opacity=\"1\" /><path clip-path=\"url(#clip350)\" d=\"M84.0475 911.202 L102.404 911.202 L102.404 915.137 L88.3299 915.137 L88.3299 923.609 Q89.3484 923.262 90.3669 923.1 Q91.3854 922.915 92.4039 922.915 Q98.1909 922.915 101.571 926.086 Q104.95 929.257 104.95 934.674 Q104.95 940.252 101.478 943.354 Q98.0058 946.433 91.6864 946.433 Q89.5104 946.433 87.2419 946.063 Q84.9966 945.692 82.5892 944.951 L82.5892 940.252 Q84.6725 941.387 86.8947 941.942 Q89.1169 942.498 91.5938 942.498 Q95.5984 942.498 97.9363 940.391 Q100.274 938.285 100.274 934.674 Q100.274 931.063 97.9363 928.956 Q95.5984 926.85 91.5938 926.85 Q89.7188 926.85 87.8438 927.266 Q85.9919 927.683 84.0475 928.563 L84.0475 911.202 Z\" fill=\"#000000\" fill-rule=\"nonzero\" fill-opacity=\"1\" /><path clip-path=\"url(#clip350)\" d=\"M62.8439 606.078 Q59.5106 606.078 57.5893 607.861 Q55.6912 609.643 55.6912 612.768 Q55.6912 615.893 57.5893 617.676 Q59.5106 619.458 62.8439 619.458 Q66.1772 619.458 68.0985 617.676 Q70.0198 615.87 70.0198 612.768 Q70.0198 609.643 68.0985 607.861 Q66.2004 606.078 62.8439 606.078 M58.168 604.088 Q55.1588 603.347 53.469 601.287 Q51.8023 599.227 51.8023 596.264 Q51.8023 592.12 54.7421 589.713 Q57.7051 587.305 62.8439 587.305 Q68.0059 587.305 70.9457 589.713 Q73.8855 592.12 73.8855 596.264 Q73.8855 599.227 72.1957 601.287 Q70.5291 603.347 67.543 604.088 Q70.9226 604.875 72.7976 607.166 Q74.6957 609.458 74.6957 612.768 Q74.6957 617.791 71.617 620.476 Q68.5615 623.162 62.8439 623.162 Q57.1264 623.162 54.0477 620.476 Q50.9921 617.791 50.9921 612.768 Q50.9921 609.458 52.8903 607.166 Q54.7884 604.875 58.168 604.088 M56.4551 596.703 Q56.4551 599.389 58.1217 600.893 Q59.8115 602.398 62.8439 602.398 Q65.8532 602.398 67.543 600.893 Q69.2559 599.389 69.2559 596.703 Q69.2559 594.018 67.543 592.514 Q65.8532 591.009 62.8439 591.009 Q59.8115 591.009 58.1217 592.514 Q56.4551 594.018 56.4551 596.703 Z\" fill=\"#000000\" fill-rule=\"nonzero\" fill-opacity=\"1\" /><path clip-path=\"url(#clip350)\" d=\"M93.0058 591.009 Q89.3947 591.009 87.566 594.574 Q85.7605 598.115 85.7605 605.245 Q85.7605 612.352 87.566 615.916 Q89.3947 619.458 93.0058 619.458 Q96.64 619.458 98.4456 615.916 Q100.274 612.352 100.274 605.245 Q100.274 598.115 98.4456 594.574 Q96.64 591.009 93.0058 591.009 M93.0058 587.305 Q98.8159 587.305 101.871 591.912 Q104.95 596.495 104.95 605.245 Q104.95 613.972 101.871 618.578 Q98.8159 623.162 93.0058 623.162 Q87.1956 623.162 84.1169 618.578 Q81.0614 613.972 81.0614 605.245 Q81.0614 596.495 84.1169 591.912 Q87.1956 587.305 93.0058 587.305 Z\" fill=\"#000000\" fill-rule=\"nonzero\" fill-opacity=\"1\" /><path clip-path=\"url(#clip350)\" d=\"M63.8393 282.807 Q60.506 282.807 58.5847 284.589 Q56.6865 286.372 56.6865 289.497 Q56.6865 292.622 58.5847 294.404 Q60.506 296.187 63.8393 296.187 Q67.1726 296.187 69.0939 294.404 Q71.0152 292.599 71.0152 289.497 Q71.0152 286.372 69.0939 284.589 Q67.1957 282.807 63.8393 282.807 M59.1634 280.816 Q56.1541 280.076 54.4643 278.015 Q52.7977 275.955 52.7977 272.992 Q52.7977 268.849 55.7375 266.441 Q58.7004 264.034 63.8393 264.034 Q69.0013 264.034 71.9411 266.441 Q74.8809 268.849 74.8809 272.992 Q74.8809 275.955 73.1911 278.015 Q71.5244 280.076 68.5383 280.816 Q71.9179 281.603 73.7929 283.895 Q75.6911 286.187 75.6911 289.497 Q75.6911 294.52 72.6124 297.205 Q69.5568 299.89 63.8393 299.89 Q58.1217 299.89 55.043 297.205 Q51.9875 294.52 51.9875 289.497 Q51.9875 286.187 53.8856 283.895 Q55.7838 281.603 59.1634 280.816 M57.4504 273.432 Q57.4504 276.117 59.1171 277.622 Q60.8069 279.127 63.8393 279.127 Q66.8485 279.127 68.5383 277.622 Q70.2513 276.117 70.2513 273.432 Q70.2513 270.747 68.5383 269.242 Q66.8485 267.738 63.8393 267.738 Q60.8069 267.738 59.1171 269.242 Q57.4504 270.747 57.4504 273.432 Z\" fill=\"#000000\" fill-rule=\"nonzero\" fill-opacity=\"1\" /><path clip-path=\"url(#clip350)\" d=\"M84.0475 264.659 L102.404 264.659 L102.404 268.594 L88.3299 268.594 L88.3299 277.066 Q89.3484 276.719 90.3669 276.557 Q91.3854 276.372 92.4039 276.372 Q98.1909 276.372 101.571 279.543 Q104.95 282.715 104.95 288.131 Q104.95 293.71 101.478 296.812 Q98.0058 299.89 91.6864 299.89 Q89.5104 299.89 87.2419 299.52 Q84.9966 299.15 82.5892 298.409 L82.5892 293.71 Q84.6725 294.844 86.8947 295.4 Q89.1169 295.955 91.5938 295.955 Q95.5984 295.955 97.9363 293.849 Q100.274 291.742 100.274 288.131 Q100.274 284.52 97.9363 282.414 Q95.5984 280.307 91.5938 280.307 Q89.7188 280.307 87.8438 280.724 Q85.9919 281.14 84.0475 282.02 L84.0475 264.659 Z\" fill=\"#000000\" fill-rule=\"nonzero\" fill-opacity=\"1\" /><polyline clip-path=\"url(#clip352)\" style=\"stroke:#009af9; stroke-linecap:round; stroke-linejoin:round; stroke-width:4; stroke-opacity:1; fill:none\" points=\"203.548,1187.1 247.944,1187.1 292.34,1381.06 336.736,1316.41 381.132,1381.06 425.528,1316.41 469.924,1381.06 514.32,993.136 558.716,799.173 603.112,475.902 647.508,281.939 691.904,217.285 736.3,87.9763 780.696,217.285 825.092,281.939 869.488,217.285 913.883,346.593 958.279,669.865 1002.68,799.173 1047.07,928.482 1091.47,1057.79 1135.86,1187.1 1180.26,1251.75 1224.66,1251.75 1269.05,1316.41 1313.45,1316.41 1357.84,1316.41 1402.24,1316.41 1446.63,1445.72 1491.03,1381.06 1535.43,1381.06 1579.82,1057.79 1624.22,863.827 1668.61,799.173 1713.01,475.902 1757.41,346.593 1801.8,346.593 1846.2,540.556 1890.59,605.21 1934.99,734.519 1979.39,669.865 2023.78,734.519 2068.18,1057.79 2112.57,1122.44 2156.97,1251.75 2201.37,1251.75 2245.76,1381.06 2290.16,1445.72 \"/>\n",
       "<circle clip-path=\"url(#clip352)\" cx=\"203.548\" cy=\"1187.1\" r=\"14.4\" fill=\"#009af9\" fill-rule=\"evenodd\" fill-opacity=\"1\" stroke=\"#000000\" stroke-opacity=\"1\" stroke-width=\"3.2\"/>\n",
       "<circle clip-path=\"url(#clip352)\" cx=\"247.944\" cy=\"1187.1\" r=\"14.4\" fill=\"#009af9\" fill-rule=\"evenodd\" fill-opacity=\"1\" stroke=\"#000000\" stroke-opacity=\"1\" stroke-width=\"3.2\"/>\n",
       "<circle clip-path=\"url(#clip352)\" cx=\"292.34\" cy=\"1381.06\" r=\"14.4\" fill=\"#009af9\" fill-rule=\"evenodd\" fill-opacity=\"1\" stroke=\"#000000\" stroke-opacity=\"1\" stroke-width=\"3.2\"/>\n",
       "<circle clip-path=\"url(#clip352)\" cx=\"336.736\" cy=\"1316.41\" r=\"14.4\" fill=\"#009af9\" fill-rule=\"evenodd\" fill-opacity=\"1\" stroke=\"#000000\" stroke-opacity=\"1\" stroke-width=\"3.2\"/>\n",
       "<circle clip-path=\"url(#clip352)\" cx=\"381.132\" cy=\"1381.06\" r=\"14.4\" fill=\"#009af9\" fill-rule=\"evenodd\" fill-opacity=\"1\" stroke=\"#000000\" stroke-opacity=\"1\" stroke-width=\"3.2\"/>\n",
       "<circle clip-path=\"url(#clip352)\" cx=\"425.528\" cy=\"1316.41\" r=\"14.4\" fill=\"#009af9\" fill-rule=\"evenodd\" fill-opacity=\"1\" stroke=\"#000000\" stroke-opacity=\"1\" stroke-width=\"3.2\"/>\n",
       "<circle clip-path=\"url(#clip352)\" cx=\"469.924\" cy=\"1381.06\" r=\"14.4\" fill=\"#009af9\" fill-rule=\"evenodd\" fill-opacity=\"1\" stroke=\"#000000\" stroke-opacity=\"1\" stroke-width=\"3.2\"/>\n",
       "<circle clip-path=\"url(#clip352)\" cx=\"514.32\" cy=\"993.136\" r=\"14.4\" fill=\"#009af9\" fill-rule=\"evenodd\" fill-opacity=\"1\" stroke=\"#000000\" stroke-opacity=\"1\" stroke-width=\"3.2\"/>\n",
       "<circle clip-path=\"url(#clip352)\" cx=\"558.716\" cy=\"799.173\" r=\"14.4\" fill=\"#009af9\" fill-rule=\"evenodd\" fill-opacity=\"1\" stroke=\"#000000\" stroke-opacity=\"1\" stroke-width=\"3.2\"/>\n",
       "<circle clip-path=\"url(#clip352)\" cx=\"603.112\" cy=\"475.902\" r=\"14.4\" fill=\"#009af9\" fill-rule=\"evenodd\" fill-opacity=\"1\" stroke=\"#000000\" stroke-opacity=\"1\" stroke-width=\"3.2\"/>\n",
       "<circle clip-path=\"url(#clip352)\" cx=\"647.508\" cy=\"281.939\" r=\"14.4\" fill=\"#009af9\" fill-rule=\"evenodd\" fill-opacity=\"1\" stroke=\"#000000\" stroke-opacity=\"1\" stroke-width=\"3.2\"/>\n",
       "<circle clip-path=\"url(#clip352)\" cx=\"691.904\" cy=\"217.285\" r=\"14.4\" fill=\"#009af9\" fill-rule=\"evenodd\" fill-opacity=\"1\" stroke=\"#000000\" stroke-opacity=\"1\" stroke-width=\"3.2\"/>\n",
       "<circle clip-path=\"url(#clip352)\" cx=\"736.3\" cy=\"87.9763\" r=\"14.4\" fill=\"#009af9\" fill-rule=\"evenodd\" fill-opacity=\"1\" stroke=\"#000000\" stroke-opacity=\"1\" stroke-width=\"3.2\"/>\n",
       "<circle clip-path=\"url(#clip352)\" cx=\"780.696\" cy=\"217.285\" r=\"14.4\" fill=\"#009af9\" fill-rule=\"evenodd\" fill-opacity=\"1\" stroke=\"#000000\" stroke-opacity=\"1\" stroke-width=\"3.2\"/>\n",
       "<circle clip-path=\"url(#clip352)\" cx=\"825.092\" cy=\"281.939\" r=\"14.4\" fill=\"#009af9\" fill-rule=\"evenodd\" fill-opacity=\"1\" stroke=\"#000000\" stroke-opacity=\"1\" stroke-width=\"3.2\"/>\n",
       "<circle clip-path=\"url(#clip352)\" cx=\"869.488\" cy=\"217.285\" r=\"14.4\" fill=\"#009af9\" fill-rule=\"evenodd\" fill-opacity=\"1\" stroke=\"#000000\" stroke-opacity=\"1\" stroke-width=\"3.2\"/>\n",
       "<circle clip-path=\"url(#clip352)\" cx=\"913.883\" cy=\"346.593\" r=\"14.4\" fill=\"#009af9\" fill-rule=\"evenodd\" fill-opacity=\"1\" stroke=\"#000000\" stroke-opacity=\"1\" stroke-width=\"3.2\"/>\n",
       "<circle clip-path=\"url(#clip352)\" cx=\"958.279\" cy=\"669.865\" r=\"14.4\" fill=\"#009af9\" fill-rule=\"evenodd\" fill-opacity=\"1\" stroke=\"#000000\" stroke-opacity=\"1\" stroke-width=\"3.2\"/>\n",
       "<circle clip-path=\"url(#clip352)\" cx=\"1002.68\" cy=\"799.173\" r=\"14.4\" fill=\"#009af9\" fill-rule=\"evenodd\" fill-opacity=\"1\" stroke=\"#000000\" stroke-opacity=\"1\" stroke-width=\"3.2\"/>\n",
       "<circle clip-path=\"url(#clip352)\" cx=\"1047.07\" cy=\"928.482\" r=\"14.4\" fill=\"#009af9\" fill-rule=\"evenodd\" fill-opacity=\"1\" stroke=\"#000000\" stroke-opacity=\"1\" stroke-width=\"3.2\"/>\n",
       "<circle clip-path=\"url(#clip352)\" cx=\"1091.47\" cy=\"1057.79\" r=\"14.4\" fill=\"#009af9\" fill-rule=\"evenodd\" fill-opacity=\"1\" stroke=\"#000000\" stroke-opacity=\"1\" stroke-width=\"3.2\"/>\n",
       "<circle clip-path=\"url(#clip352)\" cx=\"1135.86\" cy=\"1187.1\" r=\"14.4\" fill=\"#009af9\" fill-rule=\"evenodd\" fill-opacity=\"1\" stroke=\"#000000\" stroke-opacity=\"1\" stroke-width=\"3.2\"/>\n",
       "<circle clip-path=\"url(#clip352)\" cx=\"1180.26\" cy=\"1251.75\" r=\"14.4\" fill=\"#009af9\" fill-rule=\"evenodd\" fill-opacity=\"1\" stroke=\"#000000\" stroke-opacity=\"1\" stroke-width=\"3.2\"/>\n",
       "<circle clip-path=\"url(#clip352)\" cx=\"1224.66\" cy=\"1251.75\" r=\"14.4\" fill=\"#009af9\" fill-rule=\"evenodd\" fill-opacity=\"1\" stroke=\"#000000\" stroke-opacity=\"1\" stroke-width=\"3.2\"/>\n",
       "<circle clip-path=\"url(#clip352)\" cx=\"1269.05\" cy=\"1316.41\" r=\"14.4\" fill=\"#009af9\" fill-rule=\"evenodd\" fill-opacity=\"1\" stroke=\"#000000\" stroke-opacity=\"1\" stroke-width=\"3.2\"/>\n",
       "<circle clip-path=\"url(#clip352)\" cx=\"1313.45\" cy=\"1316.41\" r=\"14.4\" fill=\"#009af9\" fill-rule=\"evenodd\" fill-opacity=\"1\" stroke=\"#000000\" stroke-opacity=\"1\" stroke-width=\"3.2\"/>\n",
       "<circle clip-path=\"url(#clip352)\" cx=\"1357.84\" cy=\"1316.41\" r=\"14.4\" fill=\"#009af9\" fill-rule=\"evenodd\" fill-opacity=\"1\" stroke=\"#000000\" stroke-opacity=\"1\" stroke-width=\"3.2\"/>\n",
       "<circle clip-path=\"url(#clip352)\" cx=\"1402.24\" cy=\"1316.41\" r=\"14.4\" fill=\"#009af9\" fill-rule=\"evenodd\" fill-opacity=\"1\" stroke=\"#000000\" stroke-opacity=\"1\" stroke-width=\"3.2\"/>\n",
       "<circle clip-path=\"url(#clip352)\" cx=\"1446.63\" cy=\"1445.72\" r=\"14.4\" fill=\"#009af9\" fill-rule=\"evenodd\" fill-opacity=\"1\" stroke=\"#000000\" stroke-opacity=\"1\" stroke-width=\"3.2\"/>\n",
       "<circle clip-path=\"url(#clip352)\" cx=\"1491.03\" cy=\"1381.06\" r=\"14.4\" fill=\"#009af9\" fill-rule=\"evenodd\" fill-opacity=\"1\" stroke=\"#000000\" stroke-opacity=\"1\" stroke-width=\"3.2\"/>\n",
       "<circle clip-path=\"url(#clip352)\" cx=\"1535.43\" cy=\"1381.06\" r=\"14.4\" fill=\"#009af9\" fill-rule=\"evenodd\" fill-opacity=\"1\" stroke=\"#000000\" stroke-opacity=\"1\" stroke-width=\"3.2\"/>\n",
       "<circle clip-path=\"url(#clip352)\" cx=\"1579.82\" cy=\"1057.79\" r=\"14.4\" fill=\"#009af9\" fill-rule=\"evenodd\" fill-opacity=\"1\" stroke=\"#000000\" stroke-opacity=\"1\" stroke-width=\"3.2\"/>\n",
       "<circle clip-path=\"url(#clip352)\" cx=\"1624.22\" cy=\"863.827\" r=\"14.4\" fill=\"#009af9\" fill-rule=\"evenodd\" fill-opacity=\"1\" stroke=\"#000000\" stroke-opacity=\"1\" stroke-width=\"3.2\"/>\n",
       "<circle clip-path=\"url(#clip352)\" cx=\"1668.61\" cy=\"799.173\" r=\"14.4\" fill=\"#009af9\" fill-rule=\"evenodd\" fill-opacity=\"1\" stroke=\"#000000\" stroke-opacity=\"1\" stroke-width=\"3.2\"/>\n",
       "<circle clip-path=\"url(#clip352)\" cx=\"1713.01\" cy=\"475.902\" r=\"14.4\" fill=\"#009af9\" fill-rule=\"evenodd\" fill-opacity=\"1\" stroke=\"#000000\" stroke-opacity=\"1\" stroke-width=\"3.2\"/>\n",
       "<circle clip-path=\"url(#clip352)\" cx=\"1757.41\" cy=\"346.593\" r=\"14.4\" fill=\"#009af9\" fill-rule=\"evenodd\" fill-opacity=\"1\" stroke=\"#000000\" stroke-opacity=\"1\" stroke-width=\"3.2\"/>\n",
       "<circle clip-path=\"url(#clip352)\" cx=\"1801.8\" cy=\"346.593\" r=\"14.4\" fill=\"#009af9\" fill-rule=\"evenodd\" fill-opacity=\"1\" stroke=\"#000000\" stroke-opacity=\"1\" stroke-width=\"3.2\"/>\n",
       "<circle clip-path=\"url(#clip352)\" cx=\"1846.2\" cy=\"540.556\" r=\"14.4\" fill=\"#009af9\" fill-rule=\"evenodd\" fill-opacity=\"1\" stroke=\"#000000\" stroke-opacity=\"1\" stroke-width=\"3.2\"/>\n",
       "<circle clip-path=\"url(#clip352)\" cx=\"1890.59\" cy=\"605.21\" r=\"14.4\" fill=\"#009af9\" fill-rule=\"evenodd\" fill-opacity=\"1\" stroke=\"#000000\" stroke-opacity=\"1\" stroke-width=\"3.2\"/>\n",
       "<circle clip-path=\"url(#clip352)\" cx=\"1934.99\" cy=\"734.519\" r=\"14.4\" fill=\"#009af9\" fill-rule=\"evenodd\" fill-opacity=\"1\" stroke=\"#000000\" stroke-opacity=\"1\" stroke-width=\"3.2\"/>\n",
       "<circle clip-path=\"url(#clip352)\" cx=\"1979.39\" cy=\"669.865\" r=\"14.4\" fill=\"#009af9\" fill-rule=\"evenodd\" fill-opacity=\"1\" stroke=\"#000000\" stroke-opacity=\"1\" stroke-width=\"3.2\"/>\n",
       "<circle clip-path=\"url(#clip352)\" cx=\"2023.78\" cy=\"734.519\" r=\"14.4\" fill=\"#009af9\" fill-rule=\"evenodd\" fill-opacity=\"1\" stroke=\"#000000\" stroke-opacity=\"1\" stroke-width=\"3.2\"/>\n",
       "<circle clip-path=\"url(#clip352)\" cx=\"2068.18\" cy=\"1057.79\" r=\"14.4\" fill=\"#009af9\" fill-rule=\"evenodd\" fill-opacity=\"1\" stroke=\"#000000\" stroke-opacity=\"1\" stroke-width=\"3.2\"/>\n",
       "<circle clip-path=\"url(#clip352)\" cx=\"2112.57\" cy=\"1122.44\" r=\"14.4\" fill=\"#009af9\" fill-rule=\"evenodd\" fill-opacity=\"1\" stroke=\"#000000\" stroke-opacity=\"1\" stroke-width=\"3.2\"/>\n",
       "<circle clip-path=\"url(#clip352)\" cx=\"2156.97\" cy=\"1251.75\" r=\"14.4\" fill=\"#009af9\" fill-rule=\"evenodd\" fill-opacity=\"1\" stroke=\"#000000\" stroke-opacity=\"1\" stroke-width=\"3.2\"/>\n",
       "<circle clip-path=\"url(#clip352)\" cx=\"2201.37\" cy=\"1251.75\" r=\"14.4\" fill=\"#009af9\" fill-rule=\"evenodd\" fill-opacity=\"1\" stroke=\"#000000\" stroke-opacity=\"1\" stroke-width=\"3.2\"/>\n",
       "<circle clip-path=\"url(#clip352)\" cx=\"2245.76\" cy=\"1381.06\" r=\"14.4\" fill=\"#009af9\" fill-rule=\"evenodd\" fill-opacity=\"1\" stroke=\"#000000\" stroke-opacity=\"1\" stroke-width=\"3.2\"/>\n",
       "<circle clip-path=\"url(#clip352)\" cx=\"2290.16\" cy=\"1445.72\" r=\"14.4\" fill=\"#009af9\" fill-rule=\"evenodd\" fill-opacity=\"1\" stroke=\"#000000\" stroke-opacity=\"1\" stroke-width=\"3.2\"/>\n",
       "</svg>\n"
      ]
     },
     "execution_count": 36,
     "metadata": {},
     "output_type": "execute_result"
    }
   ],
   "source": [
    "plot(temps, marker = :circle, legend = false, grid = false)\n",
    "# savefig(\"temperature.pdf\")"
   ]
  },
  {
   "cell_type": "markdown",
   "metadata": {},
   "source": [
    "**Figure 1.1** Hourly temperature in downtown Los Angeles on August 5 and 6, 2015 (starting at 12:47AM, ending at 11:47PM)."
   ]
  },
  {
   "cell_type": "markdown",
   "metadata": {},
   "source": [
    "# 1.2 Vector addition"
   ]
  },
  {
   "cell_type": "markdown",
   "metadata": {},
   "source": [
    "**Vector addition and subtraction.** If ```x``` and ```y``` are vectors of the same size, ```x+y``` and ```x-y``` give their sum and difference, respectively."
   ]
  },
  {
   "cell_type": "code",
   "execution_count": 37,
   "metadata": {},
   "outputs": [
    {
     "data": {
      "text/plain": [
       "3-element Vector{Int64}:\n",
       " 1\n",
       " 9\n",
       " 3"
      ]
     },
     "execution_count": 37,
     "metadata": {},
     "output_type": "execute_result"
    }
   ],
   "source": [
    "[0, 7, 3] + [1, 2, 0] #Vector addition"
   ]
  },
  {
   "cell_type": "code",
   "execution_count": 38,
   "metadata": {},
   "outputs": [
    {
     "data": {
      "text/plain": [
       "2-element Vector{Int64}:\n",
       " 0\n",
       " 8"
      ]
     },
     "execution_count": 38,
     "metadata": {},
     "output_type": "execute_result"
    }
   ],
   "source": [
    "[1,9] - [1,1] #Vector subtraction"
   ]
  },
  {
   "cell_type": "markdown",
   "metadata": {},
   "source": [
    "# 1.3 Scalar-vector multiplication"
   ]
  },
  {
   "cell_type": "markdown",
   "metadata": {},
   "source": [
    "**Scalar-vector multiplication and division.** If ```a``` is a number and ```x``` a vector, you can express the scalar-vector product either as ```a*x``` or ```x*a```. (Julia actually allows you to write ```2.0x``` for ```2.0*x```. This is unambiguous because variable names cannot start with a number.) You can carry out scalar-vector division in a similar way, as ```x/a```, or the less familiar looking expression ```a\\x```."
   ]
  },
  {
   "cell_type": "code",
   "execution_count": 39,
   "metadata": {},
   "outputs": [
    {
     "data": {
      "text/plain": [
       "([0.0, 4.4, -2.2], [0.0, 4.4, -2.2])"
      ]
     },
     "execution_count": 39,
     "metadata": {},
     "output_type": "execute_result"
    }
   ],
   "source": [
    "x = [0, 2, -1]\n",
    "2.2*x, x*2.2 #Scalar-vector multiplication"
   ]
  },
  {
   "cell_type": "code",
   "execution_count": 40,
   "metadata": {},
   "outputs": [
    {
     "data": {
      "text/plain": [
       "([0.0, 0.6666666666666666, -0.3333333333333333], [0.0, 0.6666666666666666, -0.3333333333333333])"
      ]
     },
     "execution_count": 40,
     "metadata": {},
     "output_type": "execute_result"
    }
   ],
   "source": [
    "x/3, 3\\x #Scalar-vector division"
   ]
  },
  {
   "cell_type": "markdown",
   "metadata": {},
   "source": [
    "**Scalar-vector addition.** In Julia you can add a scalar ```a``` and a vector ```x``` using ```x .+ a```. The dot that precedes the plus symbol tells Julia to apply the operation to each element. (More on this below.) The meaning is that the scalar is added or subtracted to each element. (This is not standard mathematical notation; in VMLS we denote this as, e.g., $x+a1$, where $x$ is an n-vector and $a$ is a scalar.) In Julia you can also carry out scalar-vector addition with the scalar on the left."
   ]
  },
  {
   "cell_type": "code",
   "execution_count": 41,
   "metadata": {},
   "outputs": [
    {
     "data": {
      "text/plain": [
       "3-element Vector{Float64}:\n",
       " -0.2999999999999998\n",
       " -5.1\n",
       " -1.0999999999999999"
      ]
     },
     "execution_count": 41,
     "metadata": {},
     "output_type": "execute_result"
    }
   ],
   "source": [
    "[1.1, -3.7, 0.3] .- 1.4 #Vector-scalar subtraction"
   ]
  },
  {
   "cell_type": "code",
   "execution_count": 42,
   "metadata": {},
   "outputs": [
    {
     "data": {
      "text/plain": [
       "2-element Vector{Float64}:\n",
       "  1.7\n",
       " -0.30000000000000004"
      ]
     },
     "execution_count": 42,
     "metadata": {},
     "output_type": "execute_result"
    }
   ],
   "source": [
    "0.7 .+ [1, -1]"
   ]
  },
  {
   "cell_type": "markdown",
   "metadata": {},
   "source": [
    "**Elementwise operations.** Julia supports methods for carrying out an operation on every element or coefficient of a vector. To do this we add a period or dot before the operator. For example, if x and y are vectors of the same length, then ```x.*y, x./y, x.\\y, x.^y``` are elementwise vector-vector operations. They result in vectors of the same length as x and y, and $i$th element $x_iy_, x_i/y_i, y_i/x_i$, and $x^y_i$, respectively.\n",
    "\n",
    "As an example of elementwise division, let's find the 3-vector of asset returns ```r``` from the (vectors of) initial and final prices of assets (see page 22 in VMLS)."
   ]
  },
  {
   "cell_type": "code",
   "execution_count": 43,
   "metadata": {},
   "outputs": [
    {
     "data": {
      "text/plain": [
       "3-element Vector{Float64}:\n",
       "  0.04063205417607233\n",
       " -0.02239140170174653\n",
       "  0.006165228113440097"
      ]
     },
     "execution_count": 43,
     "metadata": {},
     "output_type": "execute_result"
    }
   ],
   "source": [
    "p_initial = [ 22.15, 89.32, 56.77 ];\n",
    "p_final = [ 23.05, 87.32, 57.12 ];\n",
    "r = (p_final - p_initial) ./ p_initial"
   ]
  },
  {
   "cell_type": "markdown",
   "metadata": {},
   "source": [
    "**Elementwise operations with a scalar.** Elementwise operations work when one of the arguments is a scalar, in which case it is interpreted as the scalar times a ones vector of the appropriate dimension. Scalar-vector addition, described above, is a special case of this. If ```a``` is a scalar and ```x``` is a vector then ```x.^a``` is a vector with ith element $x^a_i$, and ```a.^x``` is a vector with elements $a^{xi}$. Like scalar-vector addition, the dot notation for elementwise operations is not standard mathematical notation and we do not use it in VMLS. \n",
    "\n",
    "We can also use the period notation with a function that has a name, to let Julia know that the function should be applied elementwise. In this case we add the period *after* the function name to indicate that it should be applied elementwise. For example, if ```x``` is a vector, we can form ```sin.(x)``` to apply the $sine$ function to each element of ```x```.\n",
    "\n",
    "The equality test operator ```==``` (and other relational operators like ```<```,```>=```) can be made to work elementwise by preceding it with a period: ```x == y``` tells us whether or not ```x``` and ```y``` are the same vector; ```x.==y``` is a vector whose entries tell us whether the corresponding entries in ```x``` and ```y``` are the same. "
   ]
  },
  {
   "cell_type": "code",
   "execution_count": 44,
   "metadata": {},
   "outputs": [
    {
     "data": {
      "text/plain": [
       "3-element BitVector:\n",
       " 1\n",
       " 1\n",
       " 0"
      ]
     },
     "execution_count": 44,
     "metadata": {},
     "output_type": "execute_result"
    }
   ],
   "source": [
    "w = [1,2,2]; z = [1,2,3]\n",
    "w == z\n",
    "w .== z"
   ]
  },
  {
   "cell_type": "markdown",
   "metadata": {},
   "source": [
    "You can combine this with Julia's slicing to extract the subvector of entries that satisfy some logical condition. For example ```x[abs.(x).>1]``` gives the subvector of ```x``` consisting of the entries larger than one in magnitude. "
   ]
  },
  {
   "cell_type": "code",
   "execution_count": 45,
   "metadata": {},
   "outputs": [
    {
     "data": {
      "text/plain": [
       "4-element Vector{Float64}:\n",
       "  1.1\n",
       "  0.5\n",
       " -1.5\n",
       " -0.3"
      ]
     },
     "execution_count": 45,
     "metadata": {},
     "output_type": "execute_result"
    }
   ],
   "source": [
    "x = [1.1, .5, -1.5, -0.3]"
   ]
  },
  {
   "cell_type": "code",
   "execution_count": 46,
   "metadata": {},
   "outputs": [
    {
     "data": {
      "text/plain": [
       "2-element Vector{Float64}:\n",
       "  1.1\n",
       " -1.5"
      ]
     },
     "execution_count": 46,
     "metadata": {},
     "output_type": "execute_result"
    }
   ],
   "source": [
    "x[abs.(x) .> 1]"
   ]
  },
  {
   "cell_type": "markdown",
   "metadata": {},
   "source": [
    "Dot notation works with assignment too, allowing you to assign multiple entries of a vector to a scalar value. For example:"
   ]
  },
  {
   "cell_type": "code",
   "execution_count": 47,
   "metadata": {},
   "outputs": [
    {
     "data": {
      "text/plain": [
       "4-element Vector{Float64}:\n",
       " 0.5712180707559985\n",
       " 0.9474231562611544\n",
       " 0.5866603793037615\n",
       " 0.7305686921831211"
      ]
     },
     "execution_count": 47,
     "metadata": {},
     "output_type": "execute_result"
    }
   ],
   "source": [
    "x = rand(4)"
   ]
  },
  {
   "cell_type": "code",
   "execution_count": 48,
   "metadata": {},
   "outputs": [
    {
     "data": {
      "text/plain": [
       "4-element Vector{Float64}:\n",
       " -1.0\n",
       "  1.0\n",
       "  0.5866603793037615\n",
       "  0.7305686921831211"
      ]
     },
     "execution_count": 48,
     "metadata": {},
     "output_type": "execute_result"
    }
   ],
   "source": [
    "x[1:2] = [-1, 1]\n",
    "x"
   ]
  },
  {
   "cell_type": "code",
   "execution_count": 49,
   "metadata": {},
   "outputs": [
    {
     "data": {
      "text/plain": [
       "4-element Vector{Float64}:\n",
       " -1.0\n",
       "  1.3\n",
       "  1.3\n",
       "  0.7305686921831211"
      ]
     },
     "execution_count": 49,
     "metadata": {},
     "output_type": "execute_result"
    }
   ],
   "source": [
    "x[2:3] .= 1.3\n",
    "x"
   ]
  },
  {
   "cell_type": "markdown",
   "metadata": {},
   "source": [
    "**Linear combination.** You can form a linear combination in Julia using scalar-vector multiplication and addition."
   ]
  },
  {
   "cell_type": "code",
   "execution_count": 50,
   "metadata": {},
   "outputs": [
    {
     "data": {
      "text/plain": [
       "2-element Vector{Float64}:\n",
       " 4.0\n",
       " 5.0"
      ]
     },
     "execution_count": 50,
     "metadata": {},
     "output_type": "execute_result"
    }
   ],
   "source": [
    "a = [1, 2]; b = [ 3, 4]\n",
    "alpha = -0.5; beta = 1.5;\n",
    "c = alpha*a + beta*b"
   ]
  },
  {
   "cell_type": "markdown",
   "metadata": {},
   "source": [
    "To illustrate some additional Julia syntax, we create a function that takes a list of coefficients and a list of vectors as its arguments, and returns the linear combination. The lists can be represented by tuples or arrays. "
   ]
  },
  {
   "cell_type": "code",
   "execution_count": 51,
   "metadata": {},
   "outputs": [
    {
     "data": {
      "text/plain": [
       "lincomb (generic function with 1 method)"
      ]
     },
     "execution_count": 51,
     "metadata": {},
     "output_type": "execute_result"
    }
   ],
   "source": [
    "function lincomb(coeff,vectors)\n",
    "    n = length(vectors[1]) # Length of vectors\n",
    "    a = zeros(n)\n",
    "    for i = 1:length(vectors)\n",
    "        a = a + coeff[i] * vectors[i];\n",
    "    end\n",
    "    return a\n",
    "end"
   ]
  },
  {
   "cell_type": "code",
   "execution_count": 52,
   "metadata": {},
   "outputs": [
    {
     "data": {
      "text/plain": [
       "2-element Vector{Float64}:\n",
       " 4.0\n",
       " 5.0"
      ]
     },
     "execution_count": 52,
     "metadata": {},
     "output_type": "execute_result"
    }
   ],
   "source": [
    "lincomb((-0.5,1.5), ([1,2], [3,4]))"
   ]
  },
  {
   "cell_type": "markdown",
   "metadata": {},
   "source": [
    "A more concise definition of the function is as follows."
   ]
  },
  {
   "cell_type": "code",
   "execution_count": 53,
   "metadata": {},
   "outputs": [
    {
     "data": {
      "text/plain": [
       "2-element Vector{Float64}:\n",
       " 4.0\n",
       " 5.0"
      ]
     },
     "execution_count": 53,
     "metadata": {},
     "output_type": "execute_result"
    }
   ],
   "source": [
    "function lincomb(coeff,vectors)\n",
    "    return sum(coeff[i] * vectors[i] for i = 1:length(vectors))\n",
    "end\n",
    "lincomb((-0.5,1.5), ([1,2], [3,4]))"
   ]
  },
  {
   "cell_type": "markdown",
   "metadata": {},
   "source": [
    "**Checking properties.** Let's check the distributive property\n",
    "$$\\beta(a+b) = \\beta a+\\beta b,$$\n",
    "which holds for any two n-vectors $a$ and $b$, and any scalar $\\beta$. We'll do this for $n=3$, and randomly generated $a$, $b$, and $\\beta$. (This computation does not show that the property always holds; it only shows that it holds for the specific vectors chosen. But it's good to be skeptical and check identities with random arguments.) We use the ```lincomb``` function we just defined. "
   ]
  },
  {
   "cell_type": "code",
   "execution_count": 54,
   "metadata": {},
   "outputs": [
    {
     "data": {
      "text/plain": [
       "([0.6824327142805731, 0.30840586073118126, 0.8583883501149114], [0.1470871655481214, 0.11507173053950503, 0.018482554441231147], -0.10842003128315139)"
      ]
     },
     "execution_count": 54,
     "metadata": {},
     "output_type": "execute_result"
    }
   ],
   "source": [
    "a = rand(3)\n",
    "b = rand(3)\n",
    "beta = randn()\n",
    "a,b,beta"
   ]
  },
  {
   "cell_type": "code",
   "execution_count": 55,
   "metadata": {},
   "outputs": [
    {
     "data": {
      "text/plain": [
       "3-element Vector{Float64}:\n",
       " -0.08993657132102303\n",
       " -0.045913453693281404\n",
       " -0.09507037090326223"
      ]
     },
     "execution_count": 55,
     "metadata": {},
     "output_type": "execute_result"
    }
   ],
   "source": [
    "lhs = beta*(a+b)"
   ]
  },
  {
   "cell_type": "code",
   "execution_count": 56,
   "metadata": {},
   "outputs": [
    {
     "data": {
      "text/plain": [
       "3-element Vector{Float64}:\n",
       " -0.08993657132102303\n",
       " -0.045913453693281404\n",
       " -0.09507037090326224"
      ]
     },
     "execution_count": 56,
     "metadata": {},
     "output_type": "execute_result"
    }
   ],
   "source": [
    "rhs = beta*a + beta * b"
   ]
  },
  {
   "cell_type": "markdown",
   "metadata": {},
   "source": [
    "Although the two vectors lhs and rhs are displayed as the same, they might not be exactly the same, due to very small round-off errors in floating point computations. When we check an identity using random numbers, we can expect that the left-hand and right-hand sides of the identity are not exactly the same, but very close to each other."
   ]
  },
  {
   "cell_type": "markdown",
   "metadata": {},
   "source": [
    "# 1.4 Inner product"
   ]
  },
  {
   "cell_type": "markdown",
   "metadata": {},
   "source": [
    "Inner product. The inner product of n-vectors $x$ and $y$ is denoted as $x^Ty$. In Julia, the inner product of ```x``` and ```y``` is denoted as ```x'*y```."
   ]
  },
  {
   "cell_type": "code",
   "execution_count": 57,
   "metadata": {},
   "outputs": [
    {
     "data": {
      "text/plain": [
       "-7"
      ]
     },
     "execution_count": 57,
     "metadata": {},
     "output_type": "execute_result"
    }
   ],
   "source": [
    "x = [-1,2,2];\n",
    "y = [1, 0, -3];\n",
    "x'*y"
   ]
  },
  {
   "cell_type": "markdown",
   "metadata": {},
   "source": [
    "Net present value. As an example, the following code snippet finds the net present value (NPV) of a cash flow vector $c$, with per-period interest rate $r$."
   ]
  },
  {
   "cell_type": "code",
   "execution_count": 58,
   "metadata": {},
   "outputs": [
    {
     "data": {
      "text/plain": [
       "4-element Vector{Float64}:\n",
       " 1.0\n",
       " 0.9523809523809523\n",
       " 0.9070294784580498\n",
       " 0.863837598531476"
      ]
     },
     "execution_count": 58,
     "metadata": {},
     "output_type": "execute_result"
    }
   ],
   "source": [
    "c = [0.1,0.1,0.1,1.1]; #Cash flow vector\n",
    "n = length(c)\n",
    "r = 0.05; #5% per-period interest rate\n",
    "d = (1+r) .^ - (0:n-1)"
   ]
  },
  {
   "cell_type": "code",
   "execution_count": 59,
   "metadata": {},
   "outputs": [
    {
     "data": {
      "text/plain": [
       "1.236162401468524"
      ]
     },
     "execution_count": 59,
     "metadata": {},
     "output_type": "execute_result"
    }
   ],
   "source": [
    "NPV = c'*d"
   ]
  },
  {
   "cell_type": "markdown",
   "metadata": {},
   "source": [
    "In the fourth line, to get the vector ```d``` we raise the scalar ```1+r``` elementwise to the powers given in the array ```(0:n-1)```, which expands to ```[0,1,...,n-1]```.\n",
    "\n",
    "**Total school-age population.** Suppose that the 100-vector ``x`` gives the age distribution of some population, with $x_i$ the number of people of age ```i-1```, for $i = 1,...100$. The total number of people with age between 5 and 18 (inclusive) is given by $x_6+x_7+...+x_{18}+x_{19}$. We can express this as $s^Tx$, where $s$ is the vector with entries for ```i = 6,...,19``` and zero otherwise. In Julia, this is expressed as"
   ]
  },
  {
   "cell_type": "code",
   "execution_count": 60,
   "metadata": {},
   "outputs": [
    {
     "data": {
      "text/plain": [
       "191.0"
      ]
     },
     "execution_count": 60,
     "metadata": {},
     "output_type": "execute_result"
    }
   ],
   "source": [
    "s = [zeros(5); ones(14); zeros(81)]\n",
    "x_ages = [rand(5:18) for i = 1:100]\n",
    "school_age_pop = s'*x_ages"
   ]
  },
  {
   "cell_type": "markdown",
   "metadata": {},
   "source": [
    "Several other expressions can be used to evaluate this quantity, for example, the expression ```sum(x[6:19])```, using the Julia function ```sum```, which gives the sum of the entries of a vector. "
   ]
  },
  {
   "cell_type": "markdown",
   "metadata": {},
   "source": [
    "# 1.5 Complexity of vector computations\n",
    "**Floating point operators**. For any two numbers $a$ and $b$, we have $(a+b)(a-b) = a^2-b^2$. When a computer calculates the left-hand and right-hand side, for specific numbers $a$ and $b$, they need not be exactly the same, due to very small floating point roud-off errors. But they should be very nearly the same. Let's see an example of this. "
   ]
  },
  {
   "cell_type": "code",
   "execution_count": 61,
   "metadata": {},
   "outputs": [
    {
     "data": {
      "text/plain": [
       "0.7942105936337581"
      ]
     },
     "execution_count": 61,
     "metadata": {},
     "output_type": "execute_result"
    }
   ],
   "source": [
    "a = rand();b = rand();\n",
    "lhs = (a+b) * (a-b)"
   ]
  },
  {
   "cell_type": "code",
   "execution_count": 62,
   "metadata": {},
   "outputs": [
    {
     "data": {
      "text/plain": [
       "0.7942105936337582"
      ]
     },
     "execution_count": 62,
     "metadata": {},
     "output_type": "execute_result"
    }
   ],
   "source": [
    "rhs = a^2 - b^2"
   ]
  },
  {
   "cell_type": "code",
   "execution_count": 63,
   "metadata": {},
   "outputs": [
    {
     "data": {
      "text/plain": [
       "-1.1102230246251565e-16"
      ]
     },
     "execution_count": 63,
     "metadata": {},
     "output_type": "execute_result"
    }
   ],
   "source": [
    "lhs-rhs"
   ]
  },
  {
   "cell_type": "markdown",
   "metadata": {},
   "source": [
    "Here we see that the left-hand and right-hand sides are not exactly equal, but very close. [in this case they're equal but if we increased precision by ~2 decimal places we would see slight inequality]"
   ]
  },
  {
   "cell_type": "markdown",
   "metadata": {},
   "source": [
    "**Complexity**. You can time a Julia command by adding ```@time``` before the command. The timer is not very accurate for very small times, say, measured in microseconds $(10^{-6} seconds)$. Also, you should run the command more than once; it can be a lot faster on the second of subsequent runs. "
   ]
  },
  {
   "cell_type": "code",
   "execution_count": 64,
   "metadata": {},
   "outputs": [
    {
     "name": "stdout",
     "output_type": "stream",
     "text": [
      "  0.000058 seconds (2 allocations: 32 bytes)\n"
     ]
    },
    {
     "data": {
      "text/plain": [
       "-99.14344695153144"
      ]
     },
     "execution_count": 64,
     "metadata": {},
     "output_type": "execute_result"
    }
   ],
   "source": [
    "a = randn(10^5); b = randn(10^5)\n",
    "@time a'*b"
   ]
  },
  {
   "cell_type": "code",
   "execution_count": 65,
   "metadata": {},
   "outputs": [
    {
     "name": "stdout",
     "output_type": "stream",
     "text": [
      "  0.000060 seconds (2 allocations: 32 bytes)\n"
     ]
    },
    {
     "data": {
      "text/plain": [
       "-99.14344695153144"
      ]
     },
     "execution_count": 65,
     "metadata": {},
     "output_type": "execute_result"
    }
   ],
   "source": [
    "@time a'*b"
   ]
  },
  {
   "cell_type": "code",
   "execution_count": 66,
   "metadata": {},
   "outputs": [
    {
     "name": "stdout",
     "output_type": "stream",
     "text": [
      "  0.000609 seconds (2 allocations: 32 bytes)\n"
     ]
    },
    {
     "data": {
      "text/plain": [
       "-1410.3610720936983"
      ]
     },
     "execution_count": 66,
     "metadata": {},
     "output_type": "execute_result"
    }
   ],
   "source": [
    "c = randn(10^6); d = randn(10^6)\n",
    "@time c'*d"
   ]
  },
  {
   "cell_type": "code",
   "execution_count": 67,
   "metadata": {},
   "outputs": [
    {
     "name": "stdout",
     "output_type": "stream",
     "text": [
      "  0.000611 seconds (2 allocations: 32 bytes)\n"
     ]
    },
    {
     "data": {
      "text/plain": [
       "-1410.3610720936983"
      ]
     },
     "execution_count": 67,
     "metadata": {},
     "output_type": "execute_result"
    }
   ],
   "source": [
    "@time c'*d"
   ]
  },
  {
   "cell_type": "markdown",
   "metadata": {},
   "source": [
    "The first inner product, of a vector of length $10^5$, takes around $0.00017$ seconds; the second, with vectors of length $10^6$ (ten times bigger), product takes around $0.0018$ seconds, about $10$ longer. This is predicted by complexity of the inner product, which is $2n-1$ flops. The computer on which the computations were done is capable of around $2\\times10^6/0.001765$ flops per second, i.e., around $1$ Gflop/s. These timings, and the estimate of the computer speed, are very approximate. "
   ]
  },
  {
   "cell_type": "markdown",
   "metadata": {},
   "source": [
    "**Sparse vectors**. Functions for creating and manipulating sparse vectors are contained in the Julia package SparseArrays, so you need to install this package before you can use them; see page ix [in .pdf companion]."
   ]
  },
  {
   "cell_type": "markdown",
   "metadata": {},
   "source": [
    "Spare vectors are stored as sparse arrays, i.e., arrays in which only the nonzero elements are stored. In Julia you can create a sparse vector from lists of the indices and values using the ```sparsevec``` function. You can also first create a sparse vector of zeros (using ```spzeros(n)```) and then assign values to the nonzero entries. A sparse vector can be created from a non-sparse vector using ```sparse(x)```, which returns a sparse version of ```x```. ```nnz(x)``` gives the number of nonzero elmeents of a sparse vector. Sparse vectors are overloaded to work as you imagine; for example, all the usual vector operations work, and they are automatically recast as non-sparse vectors when appropriate. "
   ]
  },
  {
   "cell_type": "code",
   "execution_count": 68,
   "metadata": {},
   "outputs": [],
   "source": [
    "using SparseArrays #Please refer to installation instructions in the .pdf companion"
   ]
  },
  {
   "cell_type": "code",
   "execution_count": 69,
   "metadata": {},
   "outputs": [
    {
     "data": {
      "text/plain": [
       "1000000-element SparseVector{Float64, Int64} with 2 stored entries:\n",
       "  [123456]  =  1.0\n",
       "  [123457]  =  -1.0"
      ]
     },
     "execution_count": 69,
     "metadata": {},
     "output_type": "execute_result"
    }
   ],
   "source": [
    "a = sparsevec([123456, 123457],[1.0,-1.0], 10^6)"
   ]
  },
  {
   "cell_type": "code",
   "execution_count": 70,
   "metadata": {},
   "outputs": [
    {
     "data": {
      "text/plain": [
       "1000000"
      ]
     },
     "execution_count": 70,
     "metadata": {},
     "output_type": "execute_result"
    }
   ],
   "source": [
    "length(a)"
   ]
  },
  {
   "cell_type": "code",
   "execution_count": 71,
   "metadata": {},
   "outputs": [
    {
     "data": {
      "text/plain": [
       "2"
      ]
     },
     "execution_count": 71,
     "metadata": {},
     "output_type": "execute_result"
    }
   ],
   "source": [
    "nnz(a)"
   ]
  },
  {
   "cell_type": "code",
   "execution_count": 72,
   "metadata": {},
   "outputs": [
    {
     "name": "stdout",
     "output_type": "stream",
     "text": [
      "  0.003904 seconds (2.20 k allocations: 152.305 KiB, 98.71% compilation time)\n"
     ]
    },
    {
     "data": {
      "text/plain": [
       "1000000-element SparseVector{Float64, Int64} with 2 stored entries:\n",
       "  [123456]  =  2.0\n",
       "  [123457]  =  -2.0"
      ]
     },
     "execution_count": 72,
     "metadata": {},
     "output_type": "execute_result"
    }
   ],
   "source": [
    "b = randn(10^6) #An ordinary (non-sparse vector)\n",
    "@time 2*a #Computed efficiently!"
   ]
  },
  {
   "cell_type": "code",
   "execution_count": 73,
   "metadata": {},
   "outputs": [
    {
     "name": "stdout",
     "output_type": "stream",
     "text": [
      "  0.000983 seconds (2 allocations: 7.629 MiB)\n"
     ]
    },
    {
     "data": {
      "text/plain": [
       "1000000-element Vector{Float64}:\n",
       "  3.070506112365469\n",
       "  2.4911489327603475\n",
       " -0.4600114564436774\n",
       " -2.0008696785471436\n",
       "  3.946724790529075\n",
       "  2.96638908724688\n",
       " -3.708207076788539\n",
       "  1.061012720364151\n",
       " -0.47044045835543274\n",
       "  2.9544518412021232\n",
       "  1.4003122172123474\n",
       " -0.3823263274080892\n",
       " -1.5297852580691198\n",
       "  ⋮\n",
       "  0.15000738022996526\n",
       "  1.0611584702010373\n",
       "  0.707616541815374\n",
       "  1.262197358457997\n",
       "  0.7404101224148397\n",
       " -1.5736751261480793\n",
       " -1.4123898758641227\n",
       "  0.6264703251207326\n",
       " -1.2902179330240566\n",
       "  1.4975245241706308\n",
       " -0.946610779911856\n",
       "  0.019272967589162596"
      ]
     },
     "execution_count": 73,
     "metadata": {},
     "output_type": "execute_result"
    }
   ],
   "source": [
    "@time 2*b"
   ]
  },
  {
   "cell_type": "code",
   "execution_count": 74,
   "metadata": {},
   "outputs": [
    {
     "name": "stdout",
     "output_type": "stream",
     "text": [
      "  0.012286 seconds (10.72 k allocations: 748.672 KiB, 98.82% compilation time)\n"
     ]
    },
    {
     "data": {
      "text/plain": [
       "1.4623003161666688"
      ]
     },
     "execution_count": 74,
     "metadata": {},
     "output_type": "execute_result"
    }
   ],
   "source": [
    "@time a'*b"
   ]
  },
  {
   "cell_type": "code",
   "execution_count": 75,
   "metadata": {},
   "outputs": [
    {
     "name": "stdout",
     "output_type": "stream",
     "text": [
      "  0.000730 seconds (2 allocations: 32 bytes)\n"
     ]
    },
    {
     "data": {
      "text/plain": [
       "1.0000784754748435e6"
      ]
     },
     "execution_count": 75,
     "metadata": {},
     "output_type": "execute_result"
    }
   ],
   "source": [
    "@time b'*b"
   ]
  },
  {
   "cell_type": "code",
   "execution_count": 76,
   "metadata": {},
   "outputs": [
    {
     "name": "stdout",
     "output_type": "stream",
     "text": [
      "  0.123291 seconds (189.42 k allocations: 43.628 MiB, 5.34% gc time, 93.63% compilation time)\n"
     ]
    },
    {
     "data": {
      "text/plain": [
       "1000000-element SparseVector{Float64, Int64} with 1000000 stored entries:\n",
       "  [1      ]  =  1.53525\n",
       "  [2      ]  =  1.24557\n",
       "  [3      ]  =  -0.230006\n",
       "  [4      ]  =  -1.00043\n",
       "  [5      ]  =  1.97336\n",
       "  [6      ]  =  1.48319\n",
       "  [7      ]  =  -1.8541\n",
       "  [8      ]  =  0.530506\n",
       "  [9      ]  =  -0.23522\n",
       "  [10     ]  =  1.47723\n",
       "             ⋮\n",
       "  [999990 ]  =  0.530579\n",
       "  [999991 ]  =  0.353808\n",
       "  [999992 ]  =  0.631099\n",
       "  [999993 ]  =  0.370205\n",
       "  [999994 ]  =  -0.786838\n",
       "  [999995 ]  =  -0.706195\n",
       "  [999996 ]  =  0.313235\n",
       "  [999997 ]  =  -0.645109\n",
       "  [999998 ]  =  0.748762\n",
       "  [999999 ]  =  -0.473305\n",
       "  [1000000]  =  0.00963648"
      ]
     },
     "execution_count": 76,
     "metadata": {},
     "output_type": "execute_result"
    }
   ],
   "source": [
    "@time c = a + b"
   ]
  },
  {
   "cell_type": "markdown",
   "metadata": {},
   "source": [
    "In the last line, the sparse vector a is automatically converted to an ordinary vector (array) so it can be added to the random vector; the result is a (non-sparse) vector of length $10^6$. "
   ]
  }
 ],
 "metadata": {
  "@webio": {
   "lastCommId": null,
   "lastKernelId": null
  },
  "kernelspec": {
   "display_name": "Julia 1.9.3",
   "language": "julia",
   "name": "julia-1.9"
  },
  "language_info": {
   "file_extension": ".jl",
   "mimetype": "application/julia",
   "name": "julia",
   "version": "1.10.3"
  }
 },
 "nbformat": 4,
 "nbformat_minor": 4
}
