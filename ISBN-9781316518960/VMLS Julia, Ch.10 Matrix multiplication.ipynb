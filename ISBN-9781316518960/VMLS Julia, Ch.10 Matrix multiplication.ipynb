{
 "cells": [
  {
   "cell_type": "code",
   "execution_count": 1,
   "metadata": {},
   "outputs": [],
   "source": [
    "using VMLS\n",
    "using LinearAlgebra"
   ]
  },
  {
   "cell_type": "markdown",
   "metadata": {},
   "source": [
    "## Chapter 10\n",
    "# Matrix multiplication\n",
    "### 10.1 Matrix-matrix multiplication\n",
    "In Julia the product of matrices `A` and `B` is obtained with `A*B`. We calculate the matrix product on page [177](https://web.stanford.edu/~boyd/vmls/vmls.pdf#section.10.1) of VMLS. "
   ]
  },
  {
   "cell_type": "code",
   "execution_count": 2,
   "metadata": {},
   "outputs": [
    {
     "data": {
      "text/plain": [
       "2×3 Matrix{Float64}:\n",
       " -1.5   3.0  2.0\n",
       "  1.0  -1.0  0.0"
      ]
     },
     "execution_count": 2,
     "metadata": {},
     "output_type": "execute_result"
    }
   ],
   "source": [
    "A = [-1.5 3 2; 1 -1 0]"
   ]
  },
  {
   "cell_type": "code",
   "execution_count": 3,
   "metadata": {},
   "outputs": [
    {
     "data": {
      "text/plain": [
       "3×2 Matrix{Int64}:\n",
       " -1  -1\n",
       "  0  -2\n",
       "  1   0"
      ]
     },
     "execution_count": 3,
     "metadata": {},
     "output_type": "execute_result"
    }
   ],
   "source": [
    "B = [-1 -1; 0 -2; 1 0]"
   ]
  },
  {
   "cell_type": "code",
   "execution_count": 4,
   "metadata": {},
   "outputs": [
    {
     "data": {
      "text/plain": [
       "2×2 Matrix{Float64}:\n",
       "  3.5  -4.5\n",
       " -1.0   1.0"
      ]
     },
     "execution_count": 4,
     "metadata": {},
     "output_type": "execute_result"
    }
   ],
   "source": [
    "C = A*B"
   ]
  },
  {
   "cell_type": "markdown",
   "metadata": {},
   "source": [
    "**Gram matrix.** The Gram matrix of a matrix $A$ is the matrix $G = A^TA$. It is a symmetric matrix and the $i$, $j$ element $G_{ij}$ is the inner product of columns $i$ and $j$ of $A$."
   ]
  },
  {
   "cell_type": "code",
   "execution_count": 5,
   "metadata": {},
   "outputs": [
    {
     "data": {
      "text/plain": [
       "3×3 Matrix{Float64}:\n",
       "  8.16261  2.07027   -4.46503\n",
       "  2.07027  8.7209     0.566318\n",
       " -4.46503  0.566318   9.9152"
      ]
     },
     "execution_count": 5,
     "metadata": {},
     "output_type": "execute_result"
    }
   ],
   "source": [
    " A = randn(10,3);\n",
    " G = A'*A"
   ]
  },
  {
   "cell_type": "code",
   "execution_count": 6,
   "metadata": {},
   "outputs": [
    {
     "data": {
      "text/plain": [
       "8.720901253955297"
      ]
     },
     "execution_count": 6,
     "metadata": {},
     "output_type": "execute_result"
    }
   ],
   "source": [
    "# Gii is norm of column i, squared\n",
    "G[2,2]"
   ]
  },
  {
   "cell_type": "code",
   "execution_count": 7,
   "metadata": {},
   "outputs": [
    {
     "data": {
      "text/plain": [
       "8.720901253955297"
      ]
     },
     "execution_count": 7,
     "metadata": {},
     "output_type": "execute_result"
    }
   ],
   "source": [
    "norm(A[:,2])^2"
   ]
  },
  {
   "cell_type": "code",
   "execution_count": 8,
   "metadata": {},
   "outputs": [
    {
     "data": {
      "text/plain": [
       "(-4.465034441247831, -4.465034441247831)"
      ]
     },
     "execution_count": 8,
     "metadata": {},
     "output_type": "execute_result"
    }
   ],
   "source": [
    "# Gij is inner product of columns i and j\n",
    "G[1,3],A[:,1]'*A[:,3]"
   ]
  },
  {
   "cell_type": "markdown",
   "metadata": {},
   "source": [
    "**Complexity of matrix triple product.** Let’s check the associative property, which\n",
    "states that $(AB)C = A(BC)$ for any $m×n$ matrix $A$, any $n×p$ matrix $B$, and any\n",
    "$p × q$ matrix $B$. At the same time we will see that the left-hand and right-hand\n",
    "sides take very different amounts of time to compute."
   ]
  },
  {
   "cell_type": "code",
   "execution_count": 9,
   "metadata": {},
   "outputs": [
    {
     "name": "stdout",
     "output_type": "stream",
     "text": [
      "  0.152037 seconds (26.26 k allocations: 62.851 MiB, 5.88% gc time, 4.52% compilation time)\n",
      "  0.148874 seconds (4 allocations: 61.035 MiB, 8.07% gc time)\n",
      "  0.064387 seconds (4 allocations: 31.281 MiB, 78.29% gc time)\n",
      "  0.013695 seconds (4 allocations: 31.281 MiB)\n",
      "  0.021670 seconds (4.17 k allocations: 31.553 MiB, 8.32% gc time, 26.55% compilation time)\n"
     ]
    },
    {
     "data": {
      "text/plain": [
       "4.1836137034352076e-10"
      ]
     },
     "execution_count": 9,
     "metadata": {},
     "output_type": "execute_result"
    }
   ],
   "source": [
    "m = 2000; n = 50; q = 2000; p = 2000;\n",
    "A = randn(m,n); B = randn(n,p); C = randn(p,q);\n",
    "@time (A*B)*C\n",
    "@time (A*B)*C\n",
    "@time A*(B*C)\n",
    "@time A*(B*C)\n",
    "@time D = A*B*C; # evaluated as (A*B)*C or as A*(B*C)?\n",
    "\n",
    "LHS = (A*B)*C\n",
    "RHS = A*(B*C)\n",
    "norm(LHS-RHS)"
   ]
  },
  {
   "cell_type": "markdown",
   "metadata": {},
   "source": [
    "We see that evaluating `(A*B)*C` takes around 10 times as much time as evaluating `A*(B*C)`, which is predicted from the complexities. In the last line we deduce that `A*B*C` is evaluated left to right, as `(A*B)*C`. Note that for these particular matrices, this is the (much) slower order to multiply the matrices.\n",
    "\n",
    "### 10.2 Composition of linear functions\n",
    "**Second difference matrix.** We compute the second difference matrix on page [184](https://web.stanford.edu/\\\\%7Eboyd/vmls/vmls.pdf#section*.221) of VMLS.  "
   ]
  },
  {
   "cell_type": "code",
   "execution_count": 10,
   "metadata": {},
   "outputs": [
    {
     "data": {
      "text/plain": [
       "4×5 Matrix{Float64}:\n",
       " -1.0   1.0   0.0   0.0  0.0\n",
       "  0.0  -1.0   1.0   0.0  0.0\n",
       "  0.0   0.0  -1.0   1.0  0.0\n",
       "  0.0   0.0   0.0  -1.0  1.0"
      ]
     },
     "execution_count": 10,
     "metadata": {},
     "output_type": "execute_result"
    }
   ],
   "source": [
    "d(n) = [-eye(n-1) zeros(n-1)] + [zeros(n-1) eye(n-1)];\n",
    "d(5)"
   ]
  },
  {
   "cell_type": "code",
   "execution_count": 11,
   "metadata": {},
   "outputs": [
    {
     "data": {
      "text/plain": [
       "3×5 Matrix{Float64}:\n",
       " 1.0  -2.0   1.0   0.0  0.0\n",
       " 0.0   1.0  -2.0   1.0  0.0\n",
       " 0.0   0.0   1.0  -2.0  1.0"
      ]
     },
     "execution_count": 11,
     "metadata": {},
     "output_type": "execute_result"
    }
   ],
   "source": [
    "d(4)\n",
    "Delta = d(4)*d(5) # Second difference matrix"
   ]
  },
  {
   "cell_type": "markdown",
   "metadata": {},
   "source": [
    "### 10.3 Matrix power\n",
    "The $k$th power of a square matrix $A$ is denoted $A^k$. In Julia, this power is formed\n",
    "using `A^k`.\n",
    "\n",
    "Let’s form the adjacency matrix of the directed graph on VMLS page [186](https://web.stanford.edu/~boyd/vmls/vmls.pdf#section*.226). Then let’s find out how many cycles of length $8$ there are, starting from each node. (A cycle is a path that starts and stops at the same node.) "
   ]
  },
  {
   "cell_type": "code",
   "execution_count": 12,
   "metadata": {},
   "outputs": [
    {
     "data": {
      "text/plain": [
       "5×5 Matrix{Int64}:\n",
       " 0  1  0  0  1\n",
       " 1  0  1  0  0\n",
       " 0  0  1  1  1\n",
       " 1  0  0  0  0\n",
       " 0  0  0  1  0"
      ]
     },
     "execution_count": 12,
     "metadata": {},
     "output_type": "execute_result"
    }
   ],
   "source": [
    "A = [ 0 1 0 0 1; 1 0 1 0 0; 0 0 1 1 1; 1 0 0 0 0; 0 0 0 1 0]"
   ]
  },
  {
   "cell_type": "code",
   "execution_count": 13,
   "metadata": {},
   "outputs": [
    {
     "data": {
      "text/plain": [
       "5×5 Matrix{Int64}:\n",
       " 1  0  1  1  0\n",
       " 0  1  1  1  2\n",
       " 1  0  1  2  1\n",
       " 0  1  0  0  1\n",
       " 1  0  0  0  0"
      ]
     },
     "execution_count": 13,
     "metadata": {},
     "output_type": "execute_result"
    }
   ],
   "source": [
    "A^2"
   ]
  },
  {
   "cell_type": "code",
   "execution_count": 14,
   "metadata": {},
   "outputs": [
    {
     "data": {
      "text/plain": [
       "5×5 Matrix{Int64}:\n",
       " 18  11  15  20  20\n",
       " 25  14  21  28  26\n",
       " 24  14  20  27  26\n",
       " 11   6   9  12  11\n",
       "  6   4   5   7   7"
      ]
     },
     "execution_count": 14,
     "metadata": {},
     "output_type": "execute_result"
    }
   ],
   "source": [
    "A^8"
   ]
  },
  {
   "cell_type": "code",
   "execution_count": 15,
   "metadata": {},
   "outputs": [
    {
     "data": {
      "text/plain": [
       "5-element Vector{Int64}:\n",
       " 18\n",
       " 14\n",
       " 20\n",
       " 12\n",
       "  7"
      ]
     },
     "execution_count": 15,
     "metadata": {},
     "output_type": "execute_result"
    }
   ],
   "source": [
    "number_of_cycles = diag(A^8)"
   ]
  },
  {
   "cell_type": "markdown",
   "metadata": {},
   "source": [
    "**Population dynamics.** Let’s write the code for figure [10.2](https://web.stanford.edu/\\\\%7Eboyd/vmls/vmls.pdf#figure.10.2) in VMLS, which plots the contribution factor to the total US population in $2020$ (ignoring immigration), for each age in $2010$. The Julia plot is in figure 10.1. We can see that, not surprisingly, $20–25$ year olds have the highest contributing factor, around 1.5. This means that on average, each $20-25$ year old in $2010$ will be responsible for around $1.5$ people in $2020$. This takes into account any children they may have before then, and (as a very small effect) the few of them who will no longer be with us in $2020$."
   ]
  },
  {
   "cell_type": "code",
   "execution_count": 16,
   "metadata": {},
   "outputs": [
    {
     "data": {
      "image/png": "[encoded data removed]",
      "image/svg+xml": [
       "<?xml version=\"1.0\" encoding=\"utf-8\"?>\n",
       "<svg xmlns=\"http://www.w3.org/2000/svg\" xmlns:xlink=\"http://www.w3.org/1999/xlink\" width=\"600\" height=\"400\" viewBox=\"0 0 2400 1600\">\n",
       "<defs>\n",
       "  <clipPath id=\"clip070\">\n",
       "    <rect x=\"0\" y=\"0\" width=\"2400\" height=\"1600\"/>\n",
       "  </clipPath>\n",
       "</defs>\n",
       "<path clip-path=\"url(#clip070)\" d=\"M0 1600 L2400 1600 L2400 8.88178e-14 L0 8.88178e-14  Z\" fill=\"#ffffff\" fill-rule=\"evenodd\" fill-opacity=\"1\"/>\n",
       "<defs>\n",
       "  <clipPath id=\"clip071\">\n",
       "    <rect x=\"480\" y=\"0\" width=\"1681\" height=\"1600\"/>\n",
       "  </clipPath>\n",
       "</defs>\n",
       "<path clip-path=\"url(#clip070)\" d=\"M219.38 1423.18 L2352.76 1423.18 L2352.76 47.2441 L219.38 47.2441  Z\" fill=\"#ffffff\" fill-rule=\"evenodd\" fill-opacity=\"1\"/>\n",
       "<defs>\n",
       "  <clipPath id=\"clip072\">\n",
       "    <rect x=\"219\" y=\"47\" width=\"2134\" height=\"1377\"/>\n",
       "  </clipPath>\n",
       "</defs>\n",
       "<polyline clip-path=\"url(#clip072)\" style=\"stroke:#000000; stroke-linecap:round; stroke-linejoin:round; stroke-width:2; stroke-opacity:0.1; fill:none\" points=\"259.429,1423.18 259.429,47.2441 \"/>\n",
       "<polyline clip-path=\"url(#clip072)\" style=\"stroke:#000000; stroke-linecap:round; stroke-linejoin:round; stroke-width:2; stroke-opacity:0.1; fill:none\" points=\"767.666,1423.18 767.666,47.2441 \"/>\n",
       "<polyline clip-path=\"url(#clip072)\" style=\"stroke:#000000; stroke-linecap:round; stroke-linejoin:round; stroke-width:2; stroke-opacity:0.1; fill:none\" points=\"1275.9,1423.18 1275.9,47.2441 \"/>\n",
       "<polyline clip-path=\"url(#clip072)\" style=\"stroke:#000000; stroke-linecap:round; stroke-linejoin:round; stroke-width:2; stroke-opacity:0.1; fill:none\" points=\"1784.14,1423.18 1784.14,47.2441 \"/>\n",
       "<polyline clip-path=\"url(#clip072)\" style=\"stroke:#000000; stroke-linecap:round; stroke-linejoin:round; stroke-width:2; stroke-opacity:0.1; fill:none\" points=\"2292.38,1423.18 2292.38,47.2441 \"/>\n",
       "<polyline clip-path=\"url(#clip070)\" style=\"stroke:#000000; stroke-linecap:round; stroke-linejoin:round; stroke-width:4; stroke-opacity:1; fill:none\" points=\"219.38,1423.18 2352.76,1423.18 \"/>\n",
       "<polyline clip-path=\"url(#clip070)\" style=\"stroke:#000000; stroke-linecap:round; stroke-linejoin:round; stroke-width:4; stroke-opacity:1; fill:none\" points=\"259.429,1423.18 259.429,1404.28 \"/>\n",
       "<polyline clip-path=\"url(#clip070)\" style=\"stroke:#000000; stroke-linecap:round; stroke-linejoin:round; stroke-width:4; stroke-opacity:1; fill:none\" points=\"767.666,1423.18 767.666,1404.28 \"/>\n",
       "<polyline clip-path=\"url(#clip070)\" style=\"stroke:#000000; stroke-linecap:round; stroke-linejoin:round; stroke-width:4; stroke-opacity:1; fill:none\" points=\"1275.9,1423.18 1275.9,1404.28 \"/>\n",
       "<polyline clip-path=\"url(#clip070)\" style=\"stroke:#000000; stroke-linecap:round; stroke-linejoin:round; stroke-width:4; stroke-opacity:1; fill:none\" points=\"1784.14,1423.18 1784.14,1404.28 \"/>\n",
       "<polyline clip-path=\"url(#clip070)\" style=\"stroke:#000000; stroke-linecap:round; stroke-linejoin:round; stroke-width:4; stroke-opacity:1; fill:none\" points=\"2292.38,1423.18 2292.38,1404.28 \"/>\n",
       "<path clip-path=\"url(#clip070)\" d=\"M259.429 1454.1 Q255.818 1454.1 253.989 1457.66 Q252.184 1461.2 252.184 1468.33 Q252.184 1475.44 253.989 1479.01 Q255.818 1482.55 259.429 1482.55 Q263.063 1482.55 264.869 1479.01 Q266.698 1475.44 266.698 1468.33 Q266.698 1461.2 264.869 1457.66 Q263.063 1454.1 259.429 1454.1 M259.429 1450.39 Q265.239 1450.39 268.295 1455 Q271.374 1459.58 271.374 1468.33 Q271.374 1477.06 268.295 1481.67 Q265.239 1486.25 259.429 1486.25 Q253.619 1486.25 250.54 1481.67 Q247.485 1477.06 247.485 1468.33 Q247.485 1459.58 250.54 1455 Q253.619 1450.39 259.429 1450.39 Z\" fill=\"#000000\" fill-rule=\"nonzero\" fill-opacity=\"1\" /><path clip-path=\"url(#clip070)\" d=\"M746.937 1481.64 L763.257 1481.64 L763.257 1485.58 L741.312 1485.58 L741.312 1481.64 Q743.974 1478.89 748.558 1474.26 Q753.164 1469.61 754.345 1468.27 Q756.59 1465.74 757.47 1464.01 Q758.372 1462.25 758.372 1460.56 Q758.372 1457.8 756.428 1456.07 Q754.507 1454.33 751.405 1454.33 Q749.206 1454.33 746.752 1455.09 Q744.321 1455.86 741.544 1457.41 L741.544 1452.69 Q744.368 1451.55 746.821 1450.97 Q749.275 1450.39 751.312 1450.39 Q756.683 1450.39 759.877 1453.08 Q763.071 1455.77 763.071 1460.26 Q763.071 1462.39 762.261 1464.31 Q761.474 1466.2 759.368 1468.8 Q758.789 1469.47 755.687 1472.69 Q752.585 1475.88 746.937 1481.64 Z\" fill=\"#000000\" fill-rule=\"nonzero\" fill-opacity=\"1\" /><path clip-path=\"url(#clip070)\" d=\"M773.118 1451.02 L791.474 1451.02 L791.474 1454.96 L777.4 1454.96 L777.4 1463.43 Q778.419 1463.08 779.437 1462.92 Q780.456 1462.73 781.474 1462.73 Q787.261 1462.73 790.641 1465.9 Q794.02 1469.08 794.02 1474.49 Q794.02 1480.07 790.548 1483.17 Q787.076 1486.25 780.756 1486.25 Q778.581 1486.25 776.312 1485.88 Q774.067 1485.51 771.659 1484.77 L771.659 1480.07 Q773.743 1481.2 775.965 1481.76 Q778.187 1482.32 780.664 1482.32 Q784.668 1482.32 787.006 1480.21 Q789.344 1478.1 789.344 1474.49 Q789.344 1470.88 787.006 1468.77 Q784.668 1466.67 780.664 1466.67 Q778.789 1466.67 776.914 1467.08 Q775.062 1467.5 773.118 1468.38 L773.118 1451.02 Z\" fill=\"#000000\" fill-rule=\"nonzero\" fill-opacity=\"1\" /><path clip-path=\"url(#clip070)\" d=\"M1250.6 1451.02 L1268.96 1451.02 L1268.96 1454.96 L1254.88 1454.96 L1254.88 1463.43 Q1255.9 1463.08 1256.92 1462.92 Q1257.94 1462.73 1258.96 1462.73 Q1264.75 1462.73 1268.13 1465.9 Q1271.51 1469.08 1271.51 1474.49 Q1271.51 1480.07 1268.03 1483.17 Q1264.56 1486.25 1258.24 1486.25 Q1256.07 1486.25 1253.8 1485.88 Q1251.55 1485.51 1249.14 1484.77 L1249.14 1480.07 Q1251.23 1481.2 1253.45 1481.76 Q1255.67 1482.32 1258.15 1482.32 Q1262.15 1482.32 1264.49 1480.21 Q1266.83 1478.1 1266.83 1474.49 Q1266.83 1470.88 1264.49 1468.77 Q1262.15 1466.67 1258.15 1466.67 Q1256.27 1466.67 1254.4 1467.08 Q1252.55 1467.5 1250.6 1468.38 L1250.6 1451.02 Z\" fill=\"#000000\" fill-rule=\"nonzero\" fill-opacity=\"1\" /><path clip-path=\"url(#clip070)\" d=\"M1290.72 1454.1 Q1287.11 1454.1 1285.28 1457.66 Q1283.47 1461.2 1283.47 1468.33 Q1283.47 1475.44 1285.28 1479.01 Q1287.11 1482.55 1290.72 1482.55 Q1294.35 1482.55 1296.16 1479.01 Q1297.99 1475.44 1297.99 1468.33 Q1297.99 1461.2 1296.16 1457.66 Q1294.35 1454.1 1290.72 1454.1 M1290.72 1450.39 Q1296.53 1450.39 1299.58 1455 Q1302.66 1459.58 1302.66 1468.33 Q1302.66 1477.06 1299.58 1481.67 Q1296.53 1486.25 1290.72 1486.25 Q1284.91 1486.25 1281.83 1481.67 Q1278.77 1477.06 1278.77 1468.33 Q1278.77 1459.58 1281.83 1455 Q1284.91 1450.39 1290.72 1450.39 Z\" fill=\"#000000\" fill-rule=\"nonzero\" fill-opacity=\"1\" /><path clip-path=\"url(#clip070)\" d=\"M1757.99 1451.02 L1780.22 1451.02 L1780.22 1453.01 L1767.67 1485.58 L1762.79 1485.58 L1774.59 1454.96 L1757.99 1454.96 L1757.99 1451.02 Z\" fill=\"#000000\" fill-rule=\"nonzero\" fill-opacity=\"1\" /><path clip-path=\"url(#clip070)\" d=\"M1789.38 1451.02 L1807.74 1451.02 L1807.74 1454.96 L1793.67 1454.96 L1793.67 1463.43 Q1794.68 1463.08 1795.7 1462.92 Q1796.72 1462.73 1797.74 1462.73 Q1803.53 1462.73 1806.91 1465.9 Q1810.29 1469.08 1810.29 1474.49 Q1810.29 1480.07 1806.81 1483.17 Q1803.34 1486.25 1797.02 1486.25 Q1794.85 1486.25 1792.58 1485.88 Q1790.33 1485.51 1787.93 1484.77 L1787.93 1480.07 Q1790.01 1481.2 1792.23 1481.76 Q1794.45 1482.32 1796.93 1482.32 Q1800.93 1482.32 1803.27 1480.21 Q1805.61 1478.1 1805.61 1474.49 Q1805.61 1470.88 1803.27 1468.77 Q1800.93 1466.67 1796.93 1466.67 Q1795.05 1466.67 1793.18 1467.08 Q1791.33 1467.5 1789.38 1468.38 L1789.38 1451.02 Z\" fill=\"#000000\" fill-rule=\"nonzero\" fill-opacity=\"1\" /><path clip-path=\"url(#clip070)\" d=\"M2251.98 1481.64 L2259.62 1481.64 L2259.62 1455.28 L2251.31 1456.95 L2251.31 1452.69 L2259.58 1451.02 L2264.25 1451.02 L2264.25 1481.64 L2271.89 1481.64 L2271.89 1485.58 L2251.98 1485.58 L2251.98 1481.64 Z\" fill=\"#000000\" fill-rule=\"nonzero\" fill-opacity=\"1\" /><path clip-path=\"url(#clip070)\" d=\"M2291.34 1454.1 Q2287.72 1454.1 2285.9 1457.66 Q2284.09 1461.2 2284.09 1468.33 Q2284.09 1475.44 2285.9 1479.01 Q2287.72 1482.55 2291.34 1482.55 Q2294.97 1482.55 2296.78 1479.01 Q2298.6 1475.44 2298.6 1468.33 Q2298.6 1461.2 2296.78 1457.66 Q2294.97 1454.1 2291.34 1454.1 M2291.34 1450.39 Q2297.15 1450.39 2300.2 1455 Q2303.28 1459.58 2303.28 1468.33 Q2303.28 1477.06 2300.2 1481.67 Q2297.15 1486.25 2291.34 1486.25 Q2285.53 1486.25 2282.45 1481.67 Q2279.39 1477.06 2279.39 1468.33 Q2279.39 1459.58 2282.45 1455 Q2285.53 1450.39 2291.34 1450.39 Z\" fill=\"#000000\" fill-rule=\"nonzero\" fill-opacity=\"1\" /><path clip-path=\"url(#clip070)\" d=\"M2321.5 1454.1 Q2317.89 1454.1 2316.06 1457.66 Q2314.25 1461.2 2314.25 1468.33 Q2314.25 1475.44 2316.06 1479.01 Q2317.89 1482.55 2321.5 1482.55 Q2325.13 1482.55 2326.94 1479.01 Q2328.77 1475.44 2328.77 1468.33 Q2328.77 1461.2 2326.94 1457.66 Q2325.13 1454.1 2321.5 1454.1 M2321.5 1450.39 Q2327.31 1450.39 2330.36 1455 Q2333.44 1459.58 2333.44 1468.33 Q2333.44 1477.06 2330.36 1481.67 Q2327.31 1486.25 2321.5 1486.25 Q2315.69 1486.25 2312.61 1481.67 Q2309.55 1477.06 2309.55 1468.33 Q2309.55 1459.58 2312.61 1455 Q2315.69 1450.39 2321.5 1450.39 Z\" fill=\"#000000\" fill-rule=\"nonzero\" fill-opacity=\"1\" /><path clip-path=\"url(#clip070)\" d=\"M1246.79 1526.86 L1238.07 1550.51 L1255.54 1550.51 L1246.79 1526.86 M1243.16 1520.52 L1250.45 1520.52 L1268.56 1568.04 L1261.88 1568.04 L1257.55 1555.85 L1236.13 1555.85 L1231.8 1568.04 L1225.02 1568.04 L1243.16 1520.52 Z\" fill=\"#000000\" fill-rule=\"nonzero\" fill-opacity=\"1\" /><path clip-path=\"url(#clip070)\" d=\"M1298.7 1549.81 Q1298.7 1543.44 1296.06 1539.94 Q1293.45 1536.44 1288.71 1536.44 Q1284 1536.44 1281.36 1539.94 Q1278.75 1543.44 1278.75 1549.81 Q1278.75 1556.14 1281.36 1559.64 Q1284 1563.14 1288.71 1563.14 Q1293.45 1563.14 1296.06 1559.64 Q1298.7 1556.14 1298.7 1549.81 M1304.56 1563.62 Q1304.56 1572.72 1300.52 1577.15 Q1296.48 1581.6 1288.14 1581.6 Q1285.05 1581.6 1282.31 1581.13 Q1279.58 1580.68 1277 1579.72 L1277 1574.03 Q1279.58 1575.43 1282.09 1576.1 Q1284.6 1576.76 1287.21 1576.76 Q1292.97 1576.76 1295.84 1573.74 Q1298.7 1570.75 1298.7 1564.67 L1298.7 1561.77 Q1296.89 1564.92 1294.06 1566.48 Q1291.22 1568.04 1287.28 1568.04 Q1280.72 1568.04 1276.71 1563.05 Q1272.7 1558.05 1272.7 1549.81 Q1272.7 1541.53 1276.71 1536.53 Q1280.72 1531.54 1287.28 1531.54 Q1291.22 1531.54 1294.06 1533.1 Q1296.89 1534.66 1298.7 1537.81 L1298.7 1532.4 L1304.56 1532.4 L1304.56 1563.62 Z\" fill=\"#000000\" fill-rule=\"nonzero\" fill-opacity=\"1\" /><path clip-path=\"url(#clip070)\" d=\"M1347.12 1548.76 L1347.12 1551.62 L1320.19 1551.62 Q1320.57 1557.67 1323.82 1560.85 Q1327.1 1564 1332.92 1564 Q1336.29 1564 1339.44 1563.17 Q1342.63 1562.35 1345.75 1560.69 L1345.75 1566.23 Q1342.6 1567.57 1339.29 1568.27 Q1335.98 1568.97 1332.57 1568.97 Q1324.04 1568.97 1319.04 1564 Q1314.08 1559.04 1314.08 1550.57 Q1314.08 1541.82 1318.79 1536.69 Q1323.53 1531.54 1331.55 1531.54 Q1338.74 1531.54 1342.91 1536.18 Q1347.12 1540.8 1347.12 1548.76 M1341.26 1547.04 Q1341.2 1542.23 1338.55 1539.37 Q1335.94 1536.5 1331.61 1536.5 Q1326.71 1536.5 1323.75 1539.27 Q1320.82 1542.04 1320.38 1547.07 L1341.26 1547.04 Z\" fill=\"#000000\" fill-rule=\"nonzero\" fill-opacity=\"1\" /><polyline clip-path=\"url(#clip072)\" style=\"stroke:#000000; stroke-linecap:round; stroke-linejoin:round; stroke-width:2; stroke-opacity:0.1; fill:none\" points=\"219.38,1384.24 2352.76,1384.24 \"/>\n",
       "<polyline clip-path=\"url(#clip072)\" style=\"stroke:#000000; stroke-linecap:round; stroke-linejoin:round; stroke-width:2; stroke-opacity:0.1; fill:none\" points=\"219.38,950.465 2352.76,950.465 \"/>\n",
       "<polyline clip-path=\"url(#clip072)\" style=\"stroke:#000000; stroke-linecap:round; stroke-linejoin:round; stroke-width:2; stroke-opacity:0.1; fill:none\" points=\"219.38,516.692 2352.76,516.692 \"/>\n",
       "<polyline clip-path=\"url(#clip072)\" style=\"stroke:#000000; stroke-linecap:round; stroke-linejoin:round; stroke-width:2; stroke-opacity:0.1; fill:none\" points=\"219.38,82.9187 2352.76,82.9187 \"/>\n",
       "<polyline clip-path=\"url(#clip070)\" style=\"stroke:#000000; stroke-linecap:round; stroke-linejoin:round; stroke-width:4; stroke-opacity:1; fill:none\" points=\"219.38,1423.18 219.38,47.2441 \"/>\n",
       "<polyline clip-path=\"url(#clip070)\" style=\"stroke:#000000; stroke-linecap:round; stroke-linejoin:round; stroke-width:4; stroke-opacity:1; fill:none\" points=\"219.38,1384.24 238.278,1384.24 \"/>\n",
       "<polyline clip-path=\"url(#clip070)\" style=\"stroke:#000000; stroke-linecap:round; stroke-linejoin:round; stroke-width:4; stroke-opacity:1; fill:none\" points=\"219.38,950.465 238.278,950.465 \"/>\n",
       "<polyline clip-path=\"url(#clip070)\" style=\"stroke:#000000; stroke-linecap:round; stroke-linejoin:round; stroke-width:4; stroke-opacity:1; fill:none\" points=\"219.38,516.692 238.278,516.692 \"/>\n",
       "<polyline clip-path=\"url(#clip070)\" style=\"stroke:#000000; stroke-linecap:round; stroke-linejoin:round; stroke-width:4; stroke-opacity:1; fill:none\" points=\"219.38,82.9187 238.278,82.9187 \"/>\n",
       "<path clip-path=\"url(#clip070)\" d=\"M126.205 1370.04 Q122.593 1370.04 120.765 1373.6 Q118.959 1377.14 118.959 1384.27 Q118.959 1391.38 120.765 1394.94 Q122.593 1398.49 126.205 1398.49 Q129.839 1398.49 131.644 1394.94 Q133.473 1391.38 133.473 1384.27 Q133.473 1377.14 131.644 1373.6 Q129.839 1370.04 126.205 1370.04 M126.205 1366.33 Q132.015 1366.33 135.07 1370.94 Q138.149 1375.52 138.149 1384.27 Q138.149 1393 135.07 1397.61 Q132.015 1402.19 126.205 1402.19 Q120.394 1402.19 117.316 1397.61 Q114.26 1393 114.26 1384.27 Q114.26 1375.52 117.316 1370.94 Q120.394 1366.33 126.205 1366.33 Z\" fill=\"#000000\" fill-rule=\"nonzero\" fill-opacity=\"1\" /><path clip-path=\"url(#clip070)\" d=\"M146.366 1395.64 L151.251 1395.64 L151.251 1401.52 L146.366 1401.52 L146.366 1395.64 Z\" fill=\"#000000\" fill-rule=\"nonzero\" fill-opacity=\"1\" /><path clip-path=\"url(#clip070)\" d=\"M171.436 1370.04 Q167.825 1370.04 165.996 1373.6 Q164.19 1377.14 164.19 1384.27 Q164.19 1391.38 165.996 1394.94 Q167.825 1398.49 171.436 1398.49 Q175.07 1398.49 176.876 1394.94 Q178.704 1391.38 178.704 1384.27 Q178.704 1377.14 176.876 1373.6 Q175.07 1370.04 171.436 1370.04 M171.436 1366.33 Q177.246 1366.33 180.301 1370.94 Q183.38 1375.52 183.38 1384.27 Q183.38 1393 180.301 1397.61 Q177.246 1402.19 171.436 1402.19 Q165.626 1402.19 162.547 1397.61 Q159.491 1393 159.491 1384.27 Q159.491 1375.52 162.547 1370.94 Q165.626 1366.33 171.436 1366.33 Z\" fill=\"#000000\" fill-rule=\"nonzero\" fill-opacity=\"1\" /><path clip-path=\"url(#clip070)\" d=\"M127.2 936.264 Q123.589 936.264 121.76 939.829 Q119.955 943.37 119.955 950.5 Q119.955 957.606 121.76 961.171 Q123.589 964.713 127.2 964.713 Q130.834 964.713 132.64 961.171 Q134.468 957.606 134.468 950.5 Q134.468 943.37 132.64 939.829 Q130.834 936.264 127.2 936.264 M127.2 932.56 Q133.01 932.56 136.066 937.167 Q139.144 941.75 139.144 950.5 Q139.144 959.227 136.066 963.833 Q133.01 968.416 127.2 968.416 Q121.39 968.416 118.311 963.833 Q115.256 959.227 115.256 950.5 Q115.256 941.75 118.311 937.167 Q121.39 932.56 127.2 932.56 Z\" fill=\"#000000\" fill-rule=\"nonzero\" fill-opacity=\"1\" /><path clip-path=\"url(#clip070)\" d=\"M147.362 961.865 L152.246 961.865 L152.246 967.745 L147.362 967.745 L147.362 961.865 Z\" fill=\"#000000\" fill-rule=\"nonzero\" fill-opacity=\"1\" /><path clip-path=\"url(#clip070)\" d=\"M162.477 933.185 L180.834 933.185 L180.834 937.12 L166.76 937.12 L166.76 945.592 Q167.778 945.245 168.797 945.083 Q169.815 944.898 170.834 944.898 Q176.621 944.898 180.001 948.069 Q183.38 951.241 183.38 956.657 Q183.38 962.236 179.908 965.338 Q176.436 968.416 170.116 968.416 Q167.94 968.416 165.672 968.046 Q163.427 967.676 161.019 966.935 L161.019 962.236 Q163.102 963.37 165.325 963.926 Q167.547 964.481 170.024 964.481 Q174.028 964.481 176.366 962.375 Q178.704 960.268 178.704 956.657 Q178.704 953.046 176.366 950.94 Q174.028 948.833 170.024 948.833 Q168.149 948.833 166.274 949.25 Q164.422 949.666 162.477 950.546 L162.477 933.185 Z\" fill=\"#000000\" fill-rule=\"nonzero\" fill-opacity=\"1\" /><path clip-path=\"url(#clip070)\" d=\"M117.015 530.037 L124.654 530.037 L124.654 503.671 L116.343 505.338 L116.343 501.079 L124.607 499.412 L129.283 499.412 L129.283 530.037 L136.922 530.037 L136.922 533.972 L117.015 533.972 L117.015 530.037 Z\" fill=\"#000000\" fill-rule=\"nonzero\" fill-opacity=\"1\" /><path clip-path=\"url(#clip070)\" d=\"M146.366 528.092 L151.251 528.092 L151.251 533.972 L146.366 533.972 L146.366 528.092 Z\" fill=\"#000000\" fill-rule=\"nonzero\" fill-opacity=\"1\" /><path clip-path=\"url(#clip070)\" d=\"M171.436 502.491 Q167.825 502.491 165.996 506.055 Q164.19 509.597 164.19 516.727 Q164.19 523.833 165.996 527.398 Q167.825 530.939 171.436 530.939 Q175.07 530.939 176.876 527.398 Q178.704 523.833 178.704 516.727 Q178.704 509.597 176.876 506.055 Q175.07 502.491 171.436 502.491 M171.436 498.787 Q177.246 498.787 180.301 503.393 Q183.38 507.977 183.38 516.727 Q183.38 525.453 180.301 530.06 Q177.246 534.643 171.436 534.643 Q165.626 534.643 162.547 530.06 Q159.491 525.453 159.491 516.727 Q159.491 507.977 162.547 503.393 Q165.626 498.787 171.436 498.787 Z\" fill=\"#000000\" fill-rule=\"nonzero\" fill-opacity=\"1\" /><path clip-path=\"url(#clip070)\" d=\"M118.01 96.2635 L125.649 96.2635 L125.649 69.8979 L117.339 71.5646 L117.339 67.3053 L125.603 65.6387 L130.279 65.6387 L130.279 96.2635 L137.917 96.2635 L137.917 100.199 L118.01 100.199 L118.01 96.2635 Z\" fill=\"#000000\" fill-rule=\"nonzero\" fill-opacity=\"1\" /><path clip-path=\"url(#clip070)\" d=\"M147.362 94.3191 L152.246 94.3191 L152.246 100.199 L147.362 100.199 L147.362 94.3191 Z\" fill=\"#000000\" fill-rule=\"nonzero\" fill-opacity=\"1\" /><path clip-path=\"url(#clip070)\" d=\"M162.477 65.6387 L180.834 65.6387 L180.834 69.5738 L166.76 69.5738 L166.76 78.046 Q167.778 77.6988 168.797 77.5368 Q169.815 77.3516 170.834 77.3516 Q176.621 77.3516 180.001 80.5229 Q183.38 83.6941 183.38 89.1108 Q183.38 94.6895 179.908 97.7913 Q176.436 100.87 170.116 100.87 Q167.94 100.87 165.672 100.5 Q163.427 100.129 161.019 99.3885 L161.019 94.6895 Q163.102 95.8237 165.325 96.3793 Q167.547 96.9348 170.024 96.9348 Q174.028 96.9348 176.366 94.8283 Q178.704 92.7219 178.704 89.1108 Q178.704 85.4997 176.366 83.3932 Q174.028 81.2867 170.024 81.2867 Q168.149 81.2867 166.274 81.7034 Q164.422 82.1201 162.477 82.9997 L162.477 65.6387 Z\" fill=\"#000000\" fill-rule=\"nonzero\" fill-opacity=\"1\" /><path clip-path=\"url(#clip070)\" d=\"M16.4842 831.78 L16.4842 804.471 L21.895 804.471 L21.895 825.35 L35.8996 825.35 L35.8996 806.508 L41.3104 806.508 L41.3104 825.35 L64.0042 825.35 L64.0042 831.78 L16.4842 831.78 Z\" fill=\"#000000\" fill-rule=\"nonzero\" fill-opacity=\"1\" /><path clip-path=\"url(#clip070)\" d=\"M46.0847 784.323 Q46.0847 791.421 47.7079 794.158 Q49.3312 796.896 53.2461 796.896 Q56.3653 796.896 58.2114 794.859 Q60.0256 792.79 60.0256 789.257 Q60.0256 784.387 56.5881 781.459 Q53.1188 778.499 47.3897 778.499 L46.0847 778.499 L46.0847 784.323 M43.6657 772.642 L64.0042 772.642 L64.0042 778.499 L58.5933 778.499 Q61.8398 780.504 63.3994 783.496 Q64.9272 786.488 64.9272 790.816 Q64.9272 796.291 61.8716 799.537 Q58.7843 802.752 53.6281 802.752 Q47.6125 802.752 44.5569 798.742 Q41.5014 794.699 41.5014 786.711 L41.5014 778.499 L40.9285 778.499 Q36.8862 778.499 34.6901 781.172 Q32.4621 783.814 32.4621 788.62 Q32.4621 791.676 33.1941 794.572 Q33.9262 797.469 35.3903 800.142 L29.9795 800.142 Q28.7381 796.927 28.1334 793.904 Q27.4968 790.88 27.4968 788.016 Q27.4968 780.281 31.5072 776.462 Q35.5176 772.642 43.6657 772.642 Z\" fill=\"#000000\" fill-rule=\"nonzero\" fill-opacity=\"1\" /><path clip-path=\"url(#clip070)\" d=\"M29.7248 734.926 L35.1993 734.926 Q33.8307 737.408 33.1623 739.923 Q32.4621 742.405 32.4621 744.951 Q32.4621 750.649 36.0905 753.8 Q39.6872 756.951 46.212 756.951 Q52.7369 756.951 56.3653 753.8 Q59.9619 750.649 59.9619 744.951 Q59.9619 742.405 59.2935 739.923 Q58.5933 737.408 57.2247 734.926 L62.6355 734.926 Q63.7814 737.376 64.3543 740.018 Q64.9272 742.628 64.9272 745.588 Q64.9272 753.641 59.8664 758.383 Q54.8057 763.126 46.212 763.126 Q37.491 763.126 32.4939 758.351 Q27.4968 753.545 27.4968 745.206 Q27.4968 742.501 28.0697 739.923 Q28.6108 737.344 29.7248 734.926 Z\" fill=\"#000000\" fill-rule=\"nonzero\" fill-opacity=\"1\" /><path clip-path=\"url(#clip070)\" d=\"M18.2347 718.948 L28.3562 718.948 L28.3562 706.885 L32.9077 706.885 L32.9077 718.948 L52.2594 718.948 Q56.6199 718.948 57.8613 717.77 Q59.1026 716.56 59.1026 712.9 L59.1026 706.885 L64.0042 706.885 L64.0042 712.9 Q64.0042 719.68 61.4897 722.258 Q58.9434 724.836 52.2594 724.836 L32.9077 724.836 L32.9077 729.133 L28.3562 729.133 L28.3562 724.836 L18.2347 724.836 L18.2347 718.948 Z\" fill=\"#000000\" fill-rule=\"nonzero\" fill-opacity=\"1\" /><path clip-path=\"url(#clip070)\" d=\"M32.4621 685.368 Q32.4621 690.079 36.1542 692.816 Q39.8145 695.554 46.212 695.554 Q52.6095 695.554 56.3017 692.848 Q59.9619 690.111 59.9619 685.368 Q59.9619 680.69 56.2698 677.952 Q52.5777 675.215 46.212 675.215 Q39.8781 675.215 36.186 677.952 Q32.4621 680.69 32.4621 685.368 M27.4968 685.368 Q27.4968 677.73 32.4621 673.369 Q37.4273 669.009 46.212 669.009 Q54.9649 669.009 59.9619 673.369 Q64.9272 677.73 64.9272 685.368 Q64.9272 693.039 59.9619 697.4 Q54.9649 701.728 46.212 701.728 Q37.4273 701.728 32.4621 697.4 Q27.4968 693.039 27.4968 685.368 Z\" fill=\"#000000\" fill-rule=\"nonzero\" fill-opacity=\"1\" /><path clip-path=\"url(#clip070)\" d=\"M33.8307 638.644 Q33.2578 639.631 33.0032 640.809 Q32.7167 641.954 32.7167 643.355 Q32.7167 648.32 35.9632 650.994 Q39.1779 653.635 45.2253 653.635 L64.0042 653.635 L64.0042 659.524 L28.3562 659.524 L28.3562 653.635 L33.8944 653.635 Q30.6479 651.789 29.0883 648.829 Q27.4968 645.869 27.4968 641.636 Q27.4968 641.031 27.5923 640.299 Q27.656 639.567 27.8151 638.676 L33.8307 638.644 Z\" fill=\"#000000\" fill-rule=\"nonzero\" fill-opacity=\"1\" /><polyline clip-path=\"url(#clip072)\" style=\"stroke:#009af9; stroke-linecap:round; stroke-linejoin:round; stroke-width:4; stroke-opacity:1; fill:none\" points=\"279.759,523.51 300.088,518.027 320.418,517.586 340.747,517.293 361.077,517.077 381.406,516.94 401.736,502.235 422.065,487.736 442.395,473.331 462.724,459.072 483.054,444.892 503.383,406.815 523.712,368.976 544.042,331.172 564.371,293.386 584.701,255.625 605.03,224.476 625.36,193.286 645.689,161.977 666.019,130.517 686.348,98.9847 706.678,96.5073 727.007,93.9178 747.337,91.3422 767.666,88.7945 787.996,86.1857 808.325,113.665 828.655,141.094 848.984,168.62 869.314,196.18 889.643,223.833 909.973,261.389 930.302,299.022 950.632,336.816 970.961,374.735 991.291,412.916 1011.62,433.086 1031.95,453.489 1052.28,474.087 1072.61,494.846 1092.94,515.846 1113.27,522.334 1133.6,528.971 1153.93,535.81 1174.26,542.851 1194.59,549.984 1214.91,553.155 1235.24,556.55 1255.57,560.043 1275.9,563.798 1296.23,567.73 1316.56,571.395 1336.89,575.298 1357.22,579.395 1377.55,583.991 1397.88,589.456 1418.21,594.894 1438.54,600.726 1458.87,607.079 1479.2,614.268 1499.53,622.048 1519.86,630.559 1540.19,639.695 1560.52,649.841 1580.85,660.69 1601.17,672.046 1621.5,685.04 1641.83,699.485 1662.16,714.754 1682.49,731.363 1702.82,748.773 1723.15,768.2 1743.48,789.64 1763.81,812.79 1784.14,837.662 1804.47,865.064 1824.8,894.409 1845.13,925.349 1865.46,958.351 1885.79,992.449 1906.12,1029.09 1926.45,1067.53 1946.78,1104.25 1967.11,1141.81 1987.44,1178.11 2007.76,1211.63 2028.09,1243.03 2048.42,1270.94 2068.75,1294.53 2089.08,1315.64 2109.41,1384.24 2129.74,1384.24 2150.07,1384.24 2170.4,1384.24 2190.73,1384.24 2211.06,1384.24 2231.39,1384.24 2251.72,1384.24 2272.05,1384.24 2292.38,1384.24 \"/>\n",
       "</svg>\n"
      ],
      "text/html": [
       "<?xml version=\"1.0\" encoding=\"utf-8\"?>\n",
       "<svg xmlns=\"http://www.w3.org/2000/svg\" xmlns:xlink=\"http://www.w3.org/1999/xlink\" width=\"600\" height=\"400\" viewBox=\"0 0 2400 1600\">\n",
       "<defs>\n",
       "  <clipPath id=\"clip120\">\n",
       "    <rect x=\"0\" y=\"0\" width=\"2400\" height=\"1600\"/>\n",
       "  </clipPath>\n",
       "</defs>\n",
       "<path clip-path=\"url(#clip120)\" d=\"M0 1600 L2400 1600 L2400 8.88178e-14 L0 8.88178e-14  Z\" fill=\"#ffffff\" fill-rule=\"evenodd\" fill-opacity=\"1\"/>\n",
       "<defs>\n",
       "  <clipPath id=\"clip121\">\n",
       "    <rect x=\"480\" y=\"0\" width=\"1681\" height=\"1600\"/>\n",
       "  </clipPath>\n",
       "</defs>\n",
       "<path clip-path=\"url(#clip120)\" d=\"M219.38 1423.18 L2352.76 1423.18 L2352.76 47.2441 L219.38 47.2441  Z\" fill=\"#ffffff\" fill-rule=\"evenodd\" fill-opacity=\"1\"/>\n",
       "<defs>\n",
       "  <clipPath id=\"clip122\">\n",
       "    <rect x=\"219\" y=\"47\" width=\"2134\" height=\"1377\"/>\n",
       "  </clipPath>\n",
       "</defs>\n",
       "<polyline clip-path=\"url(#clip122)\" style=\"stroke:#000000; stroke-linecap:round; stroke-linejoin:round; stroke-width:2; stroke-opacity:0.1; fill:none\" points=\"259.429,1423.18 259.429,47.2441 \"/>\n",
       "<polyline clip-path=\"url(#clip122)\" style=\"stroke:#000000; stroke-linecap:round; stroke-linejoin:round; stroke-width:2; stroke-opacity:0.1; fill:none\" points=\"767.666,1423.18 767.666,47.2441 \"/>\n",
       "<polyline clip-path=\"url(#clip122)\" style=\"stroke:#000000; stroke-linecap:round; stroke-linejoin:round; stroke-width:2; stroke-opacity:0.1; fill:none\" points=\"1275.9,1423.18 1275.9,47.2441 \"/>\n",
       "<polyline clip-path=\"url(#clip122)\" style=\"stroke:#000000; stroke-linecap:round; stroke-linejoin:round; stroke-width:2; stroke-opacity:0.1; fill:none\" points=\"1784.14,1423.18 1784.14,47.2441 \"/>\n",
       "<polyline clip-path=\"url(#clip122)\" style=\"stroke:#000000; stroke-linecap:round; stroke-linejoin:round; stroke-width:2; stroke-opacity:0.1; fill:none\" points=\"2292.38,1423.18 2292.38,47.2441 \"/>\n",
       "<polyline clip-path=\"url(#clip120)\" style=\"stroke:#000000; stroke-linecap:round; stroke-linejoin:round; stroke-width:4; stroke-opacity:1; fill:none\" points=\"219.38,1423.18 2352.76,1423.18 \"/>\n",
       "<polyline clip-path=\"url(#clip120)\" style=\"stroke:#000000; stroke-linecap:round; stroke-linejoin:round; stroke-width:4; stroke-opacity:1; fill:none\" points=\"259.429,1423.18 259.429,1404.28 \"/>\n",
       "<polyline clip-path=\"url(#clip120)\" style=\"stroke:#000000; stroke-linecap:round; stroke-linejoin:round; stroke-width:4; stroke-opacity:1; fill:none\" points=\"767.666,1423.18 767.666,1404.28 \"/>\n",
       "<polyline clip-path=\"url(#clip120)\" style=\"stroke:#000000; stroke-linecap:round; stroke-linejoin:round; stroke-width:4; stroke-opacity:1; fill:none\" points=\"1275.9,1423.18 1275.9,1404.28 \"/>\n",
       "<polyline clip-path=\"url(#clip120)\" style=\"stroke:#000000; stroke-linecap:round; stroke-linejoin:round; stroke-width:4; stroke-opacity:1; fill:none\" points=\"1784.14,1423.18 1784.14,1404.28 \"/>\n",
       "<polyline clip-path=\"url(#clip120)\" style=\"stroke:#000000; stroke-linecap:round; stroke-linejoin:round; stroke-width:4; stroke-opacity:1; fill:none\" points=\"2292.38,1423.18 2292.38,1404.28 \"/>\n",
       "<path clip-path=\"url(#clip120)\" d=\"M259.429 1454.1 Q255.818 1454.1 253.989 1457.66 Q252.184 1461.2 252.184 1468.33 Q252.184 1475.44 253.989 1479.01 Q255.818 1482.55 259.429 1482.55 Q263.063 1482.55 264.869 1479.01 Q266.698 1475.44 266.698 1468.33 Q266.698 1461.2 264.869 1457.66 Q263.063 1454.1 259.429 1454.1 M259.429 1450.39 Q265.239 1450.39 268.295 1455 Q271.374 1459.58 271.374 1468.33 Q271.374 1477.06 268.295 1481.67 Q265.239 1486.25 259.429 1486.25 Q253.619 1486.25 250.54 1481.67 Q247.485 1477.06 247.485 1468.33 Q247.485 1459.58 250.54 1455 Q253.619 1450.39 259.429 1450.39 Z\" fill=\"#000000\" fill-rule=\"nonzero\" fill-opacity=\"1\" /><path clip-path=\"url(#clip120)\" d=\"M746.937 1481.64 L763.257 1481.64 L763.257 1485.58 L741.312 1485.58 L741.312 1481.64 Q743.974 1478.89 748.558 1474.26 Q753.164 1469.61 754.345 1468.27 Q756.59 1465.74 757.47 1464.01 Q758.372 1462.25 758.372 1460.56 Q758.372 1457.8 756.428 1456.07 Q754.507 1454.33 751.405 1454.33 Q749.206 1454.33 746.752 1455.09 Q744.321 1455.86 741.544 1457.41 L741.544 1452.69 Q744.368 1451.55 746.821 1450.97 Q749.275 1450.39 751.312 1450.39 Q756.683 1450.39 759.877 1453.08 Q763.071 1455.77 763.071 1460.26 Q763.071 1462.39 762.261 1464.31 Q761.474 1466.2 759.368 1468.8 Q758.789 1469.47 755.687 1472.69 Q752.585 1475.88 746.937 1481.64 Z\" fill=\"#000000\" fill-rule=\"nonzero\" fill-opacity=\"1\" /><path clip-path=\"url(#clip120)\" d=\"M773.118 1451.02 L791.474 1451.02 L791.474 1454.96 L777.4 1454.96 L777.4 1463.43 Q778.419 1463.08 779.437 1462.92 Q780.456 1462.73 781.474 1462.73 Q787.261 1462.73 790.641 1465.9 Q794.02 1469.08 794.02 1474.49 Q794.02 1480.07 790.548 1483.17 Q787.076 1486.25 780.756 1486.25 Q778.581 1486.25 776.312 1485.88 Q774.067 1485.51 771.659 1484.77 L771.659 1480.07 Q773.743 1481.2 775.965 1481.76 Q778.187 1482.32 780.664 1482.32 Q784.668 1482.32 787.006 1480.21 Q789.344 1478.1 789.344 1474.49 Q789.344 1470.88 787.006 1468.77 Q784.668 1466.67 780.664 1466.67 Q778.789 1466.67 776.914 1467.08 Q775.062 1467.5 773.118 1468.38 L773.118 1451.02 Z\" fill=\"#000000\" fill-rule=\"nonzero\" fill-opacity=\"1\" /><path clip-path=\"url(#clip120)\" d=\"M1250.6 1451.02 L1268.96 1451.02 L1268.96 1454.96 L1254.88 1454.96 L1254.88 1463.43 Q1255.9 1463.08 1256.92 1462.92 Q1257.94 1462.73 1258.96 1462.73 Q1264.75 1462.73 1268.13 1465.9 Q1271.51 1469.08 1271.51 1474.49 Q1271.51 1480.07 1268.03 1483.17 Q1264.56 1486.25 1258.24 1486.25 Q1256.07 1486.25 1253.8 1485.88 Q1251.55 1485.51 1249.14 1484.77 L1249.14 1480.07 Q1251.23 1481.2 1253.45 1481.76 Q1255.67 1482.32 1258.15 1482.32 Q1262.15 1482.32 1264.49 1480.21 Q1266.83 1478.1 1266.83 1474.49 Q1266.83 1470.88 1264.49 1468.77 Q1262.15 1466.67 1258.15 1466.67 Q1256.27 1466.67 1254.4 1467.08 Q1252.55 1467.5 1250.6 1468.38 L1250.6 1451.02 Z\" fill=\"#000000\" fill-rule=\"nonzero\" fill-opacity=\"1\" /><path clip-path=\"url(#clip120)\" d=\"M1290.72 1454.1 Q1287.11 1454.1 1285.28 1457.66 Q1283.47 1461.2 1283.47 1468.33 Q1283.47 1475.44 1285.28 1479.01 Q1287.11 1482.55 1290.72 1482.55 Q1294.35 1482.55 1296.16 1479.01 Q1297.99 1475.44 1297.99 1468.33 Q1297.99 1461.2 1296.16 1457.66 Q1294.35 1454.1 1290.72 1454.1 M1290.72 1450.39 Q1296.53 1450.39 1299.58 1455 Q1302.66 1459.58 1302.66 1468.33 Q1302.66 1477.06 1299.58 1481.67 Q1296.53 1486.25 1290.72 1486.25 Q1284.91 1486.25 1281.83 1481.67 Q1278.77 1477.06 1278.77 1468.33 Q1278.77 1459.58 1281.83 1455 Q1284.91 1450.39 1290.72 1450.39 Z\" fill=\"#000000\" fill-rule=\"nonzero\" fill-opacity=\"1\" /><path clip-path=\"url(#clip120)\" d=\"M1757.99 1451.02 L1780.22 1451.02 L1780.22 1453.01 L1767.67 1485.58 L1762.79 1485.58 L1774.59 1454.96 L1757.99 1454.96 L1757.99 1451.02 Z\" fill=\"#000000\" fill-rule=\"nonzero\" fill-opacity=\"1\" /><path clip-path=\"url(#clip120)\" d=\"M1789.38 1451.02 L1807.74 1451.02 L1807.74 1454.96 L1793.67 1454.96 L1793.67 1463.43 Q1794.68 1463.08 1795.7 1462.92 Q1796.72 1462.73 1797.74 1462.73 Q1803.53 1462.73 1806.91 1465.9 Q1810.29 1469.08 1810.29 1474.49 Q1810.29 1480.07 1806.81 1483.17 Q1803.34 1486.25 1797.02 1486.25 Q1794.85 1486.25 1792.58 1485.88 Q1790.33 1485.51 1787.93 1484.77 L1787.93 1480.07 Q1790.01 1481.2 1792.23 1481.76 Q1794.45 1482.32 1796.93 1482.32 Q1800.93 1482.32 1803.27 1480.21 Q1805.61 1478.1 1805.61 1474.49 Q1805.61 1470.88 1803.27 1468.77 Q1800.93 1466.67 1796.93 1466.67 Q1795.05 1466.67 1793.18 1467.08 Q1791.33 1467.5 1789.38 1468.38 L1789.38 1451.02 Z\" fill=\"#000000\" fill-rule=\"nonzero\" fill-opacity=\"1\" /><path clip-path=\"url(#clip120)\" d=\"M2251.98 1481.64 L2259.62 1481.64 L2259.62 1455.28 L2251.31 1456.95 L2251.31 1452.69 L2259.58 1451.02 L2264.25 1451.02 L2264.25 1481.64 L2271.89 1481.64 L2271.89 1485.58 L2251.98 1485.58 L2251.98 1481.64 Z\" fill=\"#000000\" fill-rule=\"nonzero\" fill-opacity=\"1\" /><path clip-path=\"url(#clip120)\" d=\"M2291.34 1454.1 Q2287.72 1454.1 2285.9 1457.66 Q2284.09 1461.2 2284.09 1468.33 Q2284.09 1475.44 2285.9 1479.01 Q2287.72 1482.55 2291.34 1482.55 Q2294.97 1482.55 2296.78 1479.01 Q2298.6 1475.44 2298.6 1468.33 Q2298.6 1461.2 2296.78 1457.66 Q2294.97 1454.1 2291.34 1454.1 M2291.34 1450.39 Q2297.15 1450.39 2300.2 1455 Q2303.28 1459.58 2303.28 1468.33 Q2303.28 1477.06 2300.2 1481.67 Q2297.15 1486.25 2291.34 1486.25 Q2285.53 1486.25 2282.45 1481.67 Q2279.39 1477.06 2279.39 1468.33 Q2279.39 1459.58 2282.45 1455 Q2285.53 1450.39 2291.34 1450.39 Z\" fill=\"#000000\" fill-rule=\"nonzero\" fill-opacity=\"1\" /><path clip-path=\"url(#clip120)\" d=\"M2321.5 1454.1 Q2317.89 1454.1 2316.06 1457.66 Q2314.25 1461.2 2314.25 1468.33 Q2314.25 1475.44 2316.06 1479.01 Q2317.89 1482.55 2321.5 1482.55 Q2325.13 1482.55 2326.94 1479.01 Q2328.77 1475.44 2328.77 1468.33 Q2328.77 1461.2 2326.94 1457.66 Q2325.13 1454.1 2321.5 1454.1 M2321.5 1450.39 Q2327.31 1450.39 2330.36 1455 Q2333.44 1459.58 2333.44 1468.33 Q2333.44 1477.06 2330.36 1481.67 Q2327.31 1486.25 2321.5 1486.25 Q2315.69 1486.25 2312.61 1481.67 Q2309.55 1477.06 2309.55 1468.33 Q2309.55 1459.58 2312.61 1455 Q2315.69 1450.39 2321.5 1450.39 Z\" fill=\"#000000\" fill-rule=\"nonzero\" fill-opacity=\"1\" /><path clip-path=\"url(#clip120)\" d=\"M1246.79 1526.86 L1238.07 1550.51 L1255.54 1550.51 L1246.79 1526.86 M1243.16 1520.52 L1250.45 1520.52 L1268.56 1568.04 L1261.88 1568.04 L1257.55 1555.85 L1236.13 1555.85 L1231.8 1568.04 L1225.02 1568.04 L1243.16 1520.52 Z\" fill=\"#000000\" fill-rule=\"nonzero\" fill-opacity=\"1\" /><path clip-path=\"url(#clip120)\" d=\"M1298.7 1549.81 Q1298.7 1543.44 1296.06 1539.94 Q1293.45 1536.44 1288.71 1536.44 Q1284 1536.44 1281.36 1539.94 Q1278.75 1543.44 1278.75 1549.81 Q1278.75 1556.14 1281.36 1559.64 Q1284 1563.14 1288.71 1563.14 Q1293.45 1563.14 1296.06 1559.64 Q1298.7 1556.14 1298.7 1549.81 M1304.56 1563.62 Q1304.56 1572.72 1300.52 1577.15 Q1296.48 1581.6 1288.14 1581.6 Q1285.05 1581.6 1282.31 1581.13 Q1279.58 1580.68 1277 1579.72 L1277 1574.03 Q1279.58 1575.43 1282.09 1576.1 Q1284.6 1576.76 1287.21 1576.76 Q1292.97 1576.76 1295.84 1573.74 Q1298.7 1570.75 1298.7 1564.67 L1298.7 1561.77 Q1296.89 1564.92 1294.06 1566.48 Q1291.22 1568.04 1287.28 1568.04 Q1280.72 1568.04 1276.71 1563.05 Q1272.7 1558.05 1272.7 1549.81 Q1272.7 1541.53 1276.71 1536.53 Q1280.72 1531.54 1287.28 1531.54 Q1291.22 1531.54 1294.06 1533.1 Q1296.89 1534.66 1298.7 1537.81 L1298.7 1532.4 L1304.56 1532.4 L1304.56 1563.62 Z\" fill=\"#000000\" fill-rule=\"nonzero\" fill-opacity=\"1\" /><path clip-path=\"url(#clip120)\" d=\"M1347.12 1548.76 L1347.12 1551.62 L1320.19 1551.62 Q1320.57 1557.67 1323.82 1560.85 Q1327.1 1564 1332.92 1564 Q1336.29 1564 1339.44 1563.17 Q1342.63 1562.35 1345.75 1560.69 L1345.75 1566.23 Q1342.6 1567.57 1339.29 1568.27 Q1335.98 1568.97 1332.57 1568.97 Q1324.04 1568.97 1319.04 1564 Q1314.08 1559.04 1314.08 1550.57 Q1314.08 1541.82 1318.79 1536.69 Q1323.53 1531.54 1331.55 1531.54 Q1338.74 1531.54 1342.91 1536.18 Q1347.12 1540.8 1347.12 1548.76 M1341.26 1547.04 Q1341.2 1542.23 1338.55 1539.37 Q1335.94 1536.5 1331.61 1536.5 Q1326.71 1536.5 1323.75 1539.27 Q1320.82 1542.04 1320.38 1547.07 L1341.26 1547.04 Z\" fill=\"#000000\" fill-rule=\"nonzero\" fill-opacity=\"1\" /><polyline clip-path=\"url(#clip122)\" style=\"stroke:#000000; stroke-linecap:round; stroke-linejoin:round; stroke-width:2; stroke-opacity:0.1; fill:none\" points=\"219.38,1384.24 2352.76,1384.24 \"/>\n",
       "<polyline clip-path=\"url(#clip122)\" style=\"stroke:#000000; stroke-linecap:round; stroke-linejoin:round; stroke-width:2; stroke-opacity:0.1; fill:none\" points=\"219.38,950.465 2352.76,950.465 \"/>\n",
       "<polyline clip-path=\"url(#clip122)\" style=\"stroke:#000000; stroke-linecap:round; stroke-linejoin:round; stroke-width:2; stroke-opacity:0.1; fill:none\" points=\"219.38,516.692 2352.76,516.692 \"/>\n",
       "<polyline clip-path=\"url(#clip122)\" style=\"stroke:#000000; stroke-linecap:round; stroke-linejoin:round; stroke-width:2; stroke-opacity:0.1; fill:none\" points=\"219.38,82.9187 2352.76,82.9187 \"/>\n",
       "<polyline clip-path=\"url(#clip120)\" style=\"stroke:#000000; stroke-linecap:round; stroke-linejoin:round; stroke-width:4; stroke-opacity:1; fill:none\" points=\"219.38,1423.18 219.38,47.2441 \"/>\n",
       "<polyline clip-path=\"url(#clip120)\" style=\"stroke:#000000; stroke-linecap:round; stroke-linejoin:round; stroke-width:4; stroke-opacity:1; fill:none\" points=\"219.38,1384.24 238.278,1384.24 \"/>\n",
       "<polyline clip-path=\"url(#clip120)\" style=\"stroke:#000000; stroke-linecap:round; stroke-linejoin:round; stroke-width:4; stroke-opacity:1; fill:none\" points=\"219.38,950.465 238.278,950.465 \"/>\n",
       "<polyline clip-path=\"url(#clip120)\" style=\"stroke:#000000; stroke-linecap:round; stroke-linejoin:round; stroke-width:4; stroke-opacity:1; fill:none\" points=\"219.38,516.692 238.278,516.692 \"/>\n",
       "<polyline clip-path=\"url(#clip120)\" style=\"stroke:#000000; stroke-linecap:round; stroke-linejoin:round; stroke-width:4; stroke-opacity:1; fill:none\" points=\"219.38,82.9187 238.278,82.9187 \"/>\n",
       "<path clip-path=\"url(#clip120)\" d=\"M126.205 1370.04 Q122.593 1370.04 120.765 1373.6 Q118.959 1377.14 118.959 1384.27 Q118.959 1391.38 120.765 1394.94 Q122.593 1398.49 126.205 1398.49 Q129.839 1398.49 131.644 1394.94 Q133.473 1391.38 133.473 1384.27 Q133.473 1377.14 131.644 1373.6 Q129.839 1370.04 126.205 1370.04 M126.205 1366.33 Q132.015 1366.33 135.07 1370.94 Q138.149 1375.52 138.149 1384.27 Q138.149 1393 135.07 1397.61 Q132.015 1402.19 126.205 1402.19 Q120.394 1402.19 117.316 1397.61 Q114.26 1393 114.26 1384.27 Q114.26 1375.52 117.316 1370.94 Q120.394 1366.33 126.205 1366.33 Z\" fill=\"#000000\" fill-rule=\"nonzero\" fill-opacity=\"1\" /><path clip-path=\"url(#clip120)\" d=\"M146.366 1395.64 L151.251 1395.64 L151.251 1401.52 L146.366 1401.52 L146.366 1395.64 Z\" fill=\"#000000\" fill-rule=\"nonzero\" fill-opacity=\"1\" /><path clip-path=\"url(#clip120)\" d=\"M171.436 1370.04 Q167.825 1370.04 165.996 1373.6 Q164.19 1377.14 164.19 1384.27 Q164.19 1391.38 165.996 1394.94 Q167.825 1398.49 171.436 1398.49 Q175.07 1398.49 176.876 1394.94 Q178.704 1391.38 178.704 1384.27 Q178.704 1377.14 176.876 1373.6 Q175.07 1370.04 171.436 1370.04 M171.436 1366.33 Q177.246 1366.33 180.301 1370.94 Q183.38 1375.52 183.38 1384.27 Q183.38 1393 180.301 1397.61 Q177.246 1402.19 171.436 1402.19 Q165.626 1402.19 162.547 1397.61 Q159.491 1393 159.491 1384.27 Q159.491 1375.52 162.547 1370.94 Q165.626 1366.33 171.436 1366.33 Z\" fill=\"#000000\" fill-rule=\"nonzero\" fill-opacity=\"1\" /><path clip-path=\"url(#clip120)\" d=\"M127.2 936.264 Q123.589 936.264 121.76 939.829 Q119.955 943.37 119.955 950.5 Q119.955 957.606 121.76 961.171 Q123.589 964.713 127.2 964.713 Q130.834 964.713 132.64 961.171 Q134.468 957.606 134.468 950.5 Q134.468 943.37 132.64 939.829 Q130.834 936.264 127.2 936.264 M127.2 932.56 Q133.01 932.56 136.066 937.167 Q139.144 941.75 139.144 950.5 Q139.144 959.227 136.066 963.833 Q133.01 968.416 127.2 968.416 Q121.39 968.416 118.311 963.833 Q115.256 959.227 115.256 950.5 Q115.256 941.75 118.311 937.167 Q121.39 932.56 127.2 932.56 Z\" fill=\"#000000\" fill-rule=\"nonzero\" fill-opacity=\"1\" /><path clip-path=\"url(#clip120)\" d=\"M147.362 961.865 L152.246 961.865 L152.246 967.745 L147.362 967.745 L147.362 961.865 Z\" fill=\"#000000\" fill-rule=\"nonzero\" fill-opacity=\"1\" /><path clip-path=\"url(#clip120)\" d=\"M162.477 933.185 L180.834 933.185 L180.834 937.12 L166.76 937.12 L166.76 945.592 Q167.778 945.245 168.797 945.083 Q169.815 944.898 170.834 944.898 Q176.621 944.898 180.001 948.069 Q183.38 951.241 183.38 956.657 Q183.38 962.236 179.908 965.338 Q176.436 968.416 170.116 968.416 Q167.94 968.416 165.672 968.046 Q163.427 967.676 161.019 966.935 L161.019 962.236 Q163.102 963.37 165.325 963.926 Q167.547 964.481 170.024 964.481 Q174.028 964.481 176.366 962.375 Q178.704 960.268 178.704 956.657 Q178.704 953.046 176.366 950.94 Q174.028 948.833 170.024 948.833 Q168.149 948.833 166.274 949.25 Q164.422 949.666 162.477 950.546 L162.477 933.185 Z\" fill=\"#000000\" fill-rule=\"nonzero\" fill-opacity=\"1\" /><path clip-path=\"url(#clip120)\" d=\"M117.015 530.037 L124.654 530.037 L124.654 503.671 L116.343 505.338 L116.343 501.079 L124.607 499.412 L129.283 499.412 L129.283 530.037 L136.922 530.037 L136.922 533.972 L117.015 533.972 L117.015 530.037 Z\" fill=\"#000000\" fill-rule=\"nonzero\" fill-opacity=\"1\" /><path clip-path=\"url(#clip120)\" d=\"M146.366 528.092 L151.251 528.092 L151.251 533.972 L146.366 533.972 L146.366 528.092 Z\" fill=\"#000000\" fill-rule=\"nonzero\" fill-opacity=\"1\" /><path clip-path=\"url(#clip120)\" d=\"M171.436 502.491 Q167.825 502.491 165.996 506.055 Q164.19 509.597 164.19 516.727 Q164.19 523.833 165.996 527.398 Q167.825 530.939 171.436 530.939 Q175.07 530.939 176.876 527.398 Q178.704 523.833 178.704 516.727 Q178.704 509.597 176.876 506.055 Q175.07 502.491 171.436 502.491 M171.436 498.787 Q177.246 498.787 180.301 503.393 Q183.38 507.977 183.38 516.727 Q183.38 525.453 180.301 530.06 Q177.246 534.643 171.436 534.643 Q165.626 534.643 162.547 530.06 Q159.491 525.453 159.491 516.727 Q159.491 507.977 162.547 503.393 Q165.626 498.787 171.436 498.787 Z\" fill=\"#000000\" fill-rule=\"nonzero\" fill-opacity=\"1\" /><path clip-path=\"url(#clip120)\" d=\"M118.01 96.2635 L125.649 96.2635 L125.649 69.8979 L117.339 71.5646 L117.339 67.3053 L125.603 65.6387 L130.279 65.6387 L130.279 96.2635 L137.917 96.2635 L137.917 100.199 L118.01 100.199 L118.01 96.2635 Z\" fill=\"#000000\" fill-rule=\"nonzero\" fill-opacity=\"1\" /><path clip-path=\"url(#clip120)\" d=\"M147.362 94.3191 L152.246 94.3191 L152.246 100.199 L147.362 100.199 L147.362 94.3191 Z\" fill=\"#000000\" fill-rule=\"nonzero\" fill-opacity=\"1\" /><path clip-path=\"url(#clip120)\" d=\"M162.477 65.6387 L180.834 65.6387 L180.834 69.5738 L166.76 69.5738 L166.76 78.046 Q167.778 77.6988 168.797 77.5368 Q169.815 77.3516 170.834 77.3516 Q176.621 77.3516 180.001 80.5229 Q183.38 83.6941 183.38 89.1108 Q183.38 94.6895 179.908 97.7913 Q176.436 100.87 170.116 100.87 Q167.94 100.87 165.672 100.5 Q163.427 100.129 161.019 99.3885 L161.019 94.6895 Q163.102 95.8237 165.325 96.3793 Q167.547 96.9348 170.024 96.9348 Q174.028 96.9348 176.366 94.8283 Q178.704 92.7219 178.704 89.1108 Q178.704 85.4997 176.366 83.3932 Q174.028 81.2867 170.024 81.2867 Q168.149 81.2867 166.274 81.7034 Q164.422 82.1201 162.477 82.9997 L162.477 65.6387 Z\" fill=\"#000000\" fill-rule=\"nonzero\" fill-opacity=\"1\" /><path clip-path=\"url(#clip120)\" d=\"M16.4842 831.78 L16.4842 804.471 L21.895 804.471 L21.895 825.35 L35.8996 825.35 L35.8996 806.508 L41.3104 806.508 L41.3104 825.35 L64.0042 825.35 L64.0042 831.78 L16.4842 831.78 Z\" fill=\"#000000\" fill-rule=\"nonzero\" fill-opacity=\"1\" /><path clip-path=\"url(#clip120)\" d=\"M46.0847 784.323 Q46.0847 791.421 47.7079 794.158 Q49.3312 796.896 53.2461 796.896 Q56.3653 796.896 58.2114 794.859 Q60.0256 792.79 60.0256 789.257 Q60.0256 784.387 56.5881 781.459 Q53.1188 778.499 47.3897 778.499 L46.0847 778.499 L46.0847 784.323 M43.6657 772.642 L64.0042 772.642 L64.0042 778.499 L58.5933 778.499 Q61.8398 780.504 63.3994 783.496 Q64.9272 786.488 64.9272 790.816 Q64.9272 796.291 61.8716 799.537 Q58.7843 802.752 53.6281 802.752 Q47.6125 802.752 44.5569 798.742 Q41.5014 794.699 41.5014 786.711 L41.5014 778.499 L40.9285 778.499 Q36.8862 778.499 34.6901 781.172 Q32.4621 783.814 32.4621 788.62 Q32.4621 791.676 33.1941 794.572 Q33.9262 797.469 35.3903 800.142 L29.9795 800.142 Q28.7381 796.927 28.1334 793.904 Q27.4968 790.88 27.4968 788.016 Q27.4968 780.281 31.5072 776.462 Q35.5176 772.642 43.6657 772.642 Z\" fill=\"#000000\" fill-rule=\"nonzero\" fill-opacity=\"1\" /><path clip-path=\"url(#clip120)\" d=\"M29.7248 734.926 L35.1993 734.926 Q33.8307 737.408 33.1623 739.923 Q32.4621 742.405 32.4621 744.951 Q32.4621 750.649 36.0905 753.8 Q39.6872 756.951 46.212 756.951 Q52.7369 756.951 56.3653 753.8 Q59.9619 750.649 59.9619 744.951 Q59.9619 742.405 59.2935 739.923 Q58.5933 737.408 57.2247 734.926 L62.6355 734.926 Q63.7814 737.376 64.3543 740.018 Q64.9272 742.628 64.9272 745.588 Q64.9272 753.641 59.8664 758.383 Q54.8057 763.126 46.212 763.126 Q37.491 763.126 32.4939 758.351 Q27.4968 753.545 27.4968 745.206 Q27.4968 742.501 28.0697 739.923 Q28.6108 737.344 29.7248 734.926 Z\" fill=\"#000000\" fill-rule=\"nonzero\" fill-opacity=\"1\" /><path clip-path=\"url(#clip120)\" d=\"M18.2347 718.948 L28.3562 718.948 L28.3562 706.885 L32.9077 706.885 L32.9077 718.948 L52.2594 718.948 Q56.6199 718.948 57.8613 717.77 Q59.1026 716.56 59.1026 712.9 L59.1026 706.885 L64.0042 706.885 L64.0042 712.9 Q64.0042 719.68 61.4897 722.258 Q58.9434 724.836 52.2594 724.836 L32.9077 724.836 L32.9077 729.133 L28.3562 729.133 L28.3562 724.836 L18.2347 724.836 L18.2347 718.948 Z\" fill=\"#000000\" fill-rule=\"nonzero\" fill-opacity=\"1\" /><path clip-path=\"url(#clip120)\" d=\"M32.4621 685.368 Q32.4621 690.079 36.1542 692.816 Q39.8145 695.554 46.212 695.554 Q52.6095 695.554 56.3017 692.848 Q59.9619 690.111 59.9619 685.368 Q59.9619 680.69 56.2698 677.952 Q52.5777 675.215 46.212 675.215 Q39.8781 675.215 36.186 677.952 Q32.4621 680.69 32.4621 685.368 M27.4968 685.368 Q27.4968 677.73 32.4621 673.369 Q37.4273 669.009 46.212 669.009 Q54.9649 669.009 59.9619 673.369 Q64.9272 677.73 64.9272 685.368 Q64.9272 693.039 59.9619 697.4 Q54.9649 701.728 46.212 701.728 Q37.4273 701.728 32.4621 697.4 Q27.4968 693.039 27.4968 685.368 Z\" fill=\"#000000\" fill-rule=\"nonzero\" fill-opacity=\"1\" /><path clip-path=\"url(#clip120)\" d=\"M33.8307 638.644 Q33.2578 639.631 33.0032 640.809 Q32.7167 641.954 32.7167 643.355 Q32.7167 648.32 35.9632 650.994 Q39.1779 653.635 45.2253 653.635 L64.0042 653.635 L64.0042 659.524 L28.3562 659.524 L28.3562 653.635 L33.8944 653.635 Q30.6479 651.789 29.0883 648.829 Q27.4968 645.869 27.4968 641.636 Q27.4968 641.031 27.5923 640.299 Q27.656 639.567 27.8151 638.676 L33.8307 638.644 Z\" fill=\"#000000\" fill-rule=\"nonzero\" fill-opacity=\"1\" /><polyline clip-path=\"url(#clip122)\" style=\"stroke:#009af9; stroke-linecap:round; stroke-linejoin:round; stroke-width:4; stroke-opacity:1; fill:none\" points=\"279.759,523.51 300.088,518.027 320.418,517.586 340.747,517.293 361.077,517.077 381.406,516.94 401.736,502.235 422.065,487.736 442.395,473.331 462.724,459.072 483.054,444.892 503.383,406.815 523.712,368.976 544.042,331.172 564.371,293.386 584.701,255.625 605.03,224.476 625.36,193.286 645.689,161.977 666.019,130.517 686.348,98.9847 706.678,96.5073 727.007,93.9178 747.337,91.3422 767.666,88.7945 787.996,86.1857 808.325,113.665 828.655,141.094 848.984,168.62 869.314,196.18 889.643,223.833 909.973,261.389 930.302,299.022 950.632,336.816 970.961,374.735 991.291,412.916 1011.62,433.086 1031.95,453.489 1052.28,474.087 1072.61,494.846 1092.94,515.846 1113.27,522.334 1133.6,528.971 1153.93,535.81 1174.26,542.851 1194.59,549.984 1214.91,553.155 1235.24,556.55 1255.57,560.043 1275.9,563.798 1296.23,567.73 1316.56,571.395 1336.89,575.298 1357.22,579.395 1377.55,583.991 1397.88,589.456 1418.21,594.894 1438.54,600.726 1458.87,607.079 1479.2,614.268 1499.53,622.048 1519.86,630.559 1540.19,639.695 1560.52,649.841 1580.85,660.69 1601.17,672.046 1621.5,685.04 1641.83,699.485 1662.16,714.754 1682.49,731.363 1702.82,748.773 1723.15,768.2 1743.48,789.64 1763.81,812.79 1784.14,837.662 1804.47,865.064 1824.8,894.409 1845.13,925.349 1865.46,958.351 1885.79,992.449 1906.12,1029.09 1926.45,1067.53 1946.78,1104.25 1967.11,1141.81 1987.44,1178.11 2007.76,1211.63 2028.09,1243.03 2048.42,1270.94 2068.75,1294.53 2089.08,1315.64 2109.41,1384.24 2129.74,1384.24 2150.07,1384.24 2170.4,1384.24 2190.73,1384.24 2211.06,1384.24 2231.39,1384.24 2251.72,1384.24 2272.05,1384.24 2292.38,1384.24 \"/>\n",
       "</svg>\n"
      ]
     },
     "execution_count": 16,
     "metadata": {},
     "output_type": "execute_result"
    }
   ],
   "source": [
    "D = population_data();\n",
    "birth = D[\"birth_rate\"];\n",
    "death = D[\"death_rate\"];\n",
    "# Dynamics matrix for populaion dynamics\n",
    "A = [birth'; diagonal(1 .- death[1:end-1]) zeros(length(death)-1)];\n",
    "# Contribution factor to total poulation in 2020\n",
    "# from each age in 2010\n",
    "cf = ones(100)'*(A^10); # Contribution factor\n",
    "using Plots\n",
    "plot(cf', legend = false, xlabel = \"Age\", ylabel = \"Factor\")"
   ]
  },
  {
   "cell_type": "markdown",
   "metadata": {},
   "source": [
    "**Figure 10.1** Contribution factor per age in $2010$ to the total population in $2020$. The value for age i− 1 is the ith component of the row vector 1TA10.\n",
    "\n",
    "### 10.4 QR factorization\n",
    "\n",
    "In Julia, the $QR$ factorization of a matrix $A$ can be found using `qr(A)`, which\n",
    "returns a tuple with the $Q$ and $R$ factors. However the matrix $Q$ is not returned as an array, but in a special compact format. It can be converted to a regular matrix\n",
    "variable using the command `Matrix(Q)`. Hence, the `QR` factorization as defined in\n",
    "VMLS is computed by a sequence of two commands:"
   ]
  },
  {
   "cell_type": "markdown",
   "metadata": {},
   "source": [
    "```julia\n",
    "Q,R = qr(A)\n",
    "Q = Matrix(Q)\n",
    "```"
   ]
  },
  {
   "cell_type": "markdown",
   "metadata": {},
   "source": [
    "The following example also illustates a second, but minor difference with the\n",
    "VMLS definition. The $R$ factor computed by Julia may have negative elements on\n",
    "the diagonal, as opposed to only positive elements if we follow the definition used\n",
    "in VMLS. The two definitions are equivalent, because if $R_{ii}$ is negative, one can\n",
    "change the sign of the ith row of R and the ith column of $Q$, to get an equivalent\n",
    "factorization with $R_{ii} > 0$. However this step is not needed in practice, since\n",
    "negative elements on the diagonal do not pose any problem in applications of the\n",
    "$QR$ factorization."
   ]
  },
  {
   "cell_type": "code",
   "execution_count": 17,
   "metadata": {},
   "outputs": [
    {
     "data": {
      "text/plain": [
       "4×4 Matrix{Float64}:\n",
       " 1.8133  0.293731   0.991008  -0.476016\n",
       " 0.0     1.39149   -1.84488    1.37847\n",
       " 0.0     0.0       -0.621614  -2.54939\n",
       " 0.0     0.0        0.0       -1.89053"
      ]
     },
     "execution_count": 17,
     "metadata": {},
     "output_type": "execute_result"
    }
   ],
   "source": [
    "A = randn(6,4);\n",
    "Q, R = qr(A);\n",
    "R"
   ]
  },
  {
   "cell_type": "code",
   "execution_count": 18,
   "metadata": {},
   "outputs": [
    {
     "data": {
      "text/plain": [
       "6×4 Matrix{Float64}:\n",
       " -0.749338    0.101943   -0.441243    0.335487\n",
       " -0.403518   -0.191517    0.839491    0.15281\n",
       "  0.271467   -0.567169   -0.123162    0.755841\n",
       "  0.293344    0.0684399  -0.142312   -0.0111915\n",
       " -0.335655   -0.500512   -0.253366   -0.394159\n",
       " -0.0570731   0.613231    0.0307105   0.370561"
      ]
     },
     "execution_count": 18,
     "metadata": {},
     "output_type": "execute_result"
    }
   ],
   "source": [
    "Q = Matrix(Q)"
   ]
  },
  {
   "cell_type": "code",
   "execution_count": 19,
   "metadata": {},
   "outputs": [
    {
     "data": {
      "text/plain": [
       "2.1944903339819665e-15"
      ]
     },
     "execution_count": 19,
     "metadata": {},
     "output_type": "execute_result"
    }
   ],
   "source": [
    "norm(Q*R-A)"
   ]
  },
  {
   "cell_type": "code",
   "execution_count": 20,
   "metadata": {},
   "outputs": [
    {
     "data": {
      "text/plain": [
       "4×4 Matrix{Float64}:\n",
       "  1.0          -9.5818e-17   1.00195e-16   3.76755e-17\n",
       " -9.5818e-17    1.0          2.08924e-16  -2.34846e-16\n",
       "  1.00195e-16   2.08924e-16  1.0           1.10593e-16\n",
       "  3.76755e-17  -2.34846e-16  1.10593e-16   1.0"
      ]
     },
     "execution_count": 20,
     "metadata": {},
     "output_type": "execute_result"
    }
   ],
   "source": [
    "Q'*Q"
   ]
  }
 ],
 "metadata": {
  "kernelspec": {
   "display_name": "Julia 1.9.3",
   "language": "julia",
   "name": "julia-1.9"
  },
  "language_info": {
   "file_extension": ".jl",
   "mimetype": "application/julia",
   "name": "julia",
   "version": "1.10.3"
  }
 },
 "nbformat": 4,
 "nbformat_minor": 4
}
