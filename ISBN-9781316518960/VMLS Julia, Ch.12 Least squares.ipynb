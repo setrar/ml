{
 "cells": [
  {
   "cell_type": "code",
   "execution_count": 1,
   "metadata": {},
   "outputs": [],
   "source": [
    "using VMLS\n",
    "using LinearAlgebra"
   ]
  },
  {
   "cell_type": "markdown",
   "metadata": {},
   "source": [
    "## Chapter 12\n",
    "# Least squares\n",
    "### 12.1 Least squares problem\n",
    "We take the small least squares problem of Figure [12.1](https://web.stanford.edu/~boyd/vmls/vmls.pdf#figure.12.1) in VMLS and check that $‖Ax̂− b‖$ is less than $‖Ax− b‖$ for some other value of $x$. "
   ]
  },
  {
   "cell_type": "code",
   "execution_count": 2,
   "metadata": {},
   "outputs": [
    {
     "data": {
      "text/plain": [
       "3-element Vector{Float64}:\n",
       " -0.33333333333333337\n",
       " -0.6666666666666666\n",
       "  0.33333333333333337"
      ]
     },
     "execution_count": 2,
     "metadata": {},
     "output_type": "execute_result"
    }
   ],
   "source": [
    "A = [ 2 0 ; -1 1 ; 0 2 ]\n",
    "b = [ 1, 0, -1 ]\n",
    "xhat = [ 1/3, -1/3 ]\n",
    "rhat = A*xhat -b"
   ]
  },
  {
   "cell_type": "code",
   "execution_count": 3,
   "metadata": {},
   "outputs": [
    {
     "data": {
      "text/plain": [
       "0.816496580927726"
      ]
     },
     "execution_count": 3,
     "metadata": {},
     "output_type": "execute_result"
    }
   ],
   "source": [
    "norm(rhat)"
   ]
  },
  {
   "cell_type": "code",
   "execution_count": 4,
   "metadata": {},
   "outputs": [
    {
     "data": {
      "text/plain": [
       "3-element Vector{Float64}:\n",
       "  0.0\n",
       " -1.0\n",
       "  0.0"
      ]
     },
     "execution_count": 4,
     "metadata": {},
     "output_type": "execute_result"
    }
   ],
   "source": [
    "x = [ 1/2, -1/2 ]\n",
    "r = A*x -b"
   ]
  },
  {
   "cell_type": "code",
   "execution_count": 5,
   "metadata": {},
   "outputs": [
    {
     "data": {
      "text/plain": [
       "1.0"
      ]
     },
     "execution_count": 5,
     "metadata": {},
     "output_type": "execute_result"
    }
   ],
   "source": [
    "norm(r)"
   ]
  },
  {
   "cell_type": "markdown",
   "metadata": {},
   "source": [
    "### 12.2 Solution\n",
    "**Least squares solution formula.** Let’s check the solution formulas ([12.5](https://web.stanford.edu/~boyd/vmls/vmls.pdf#equation.12.2.5) and\n",
    "[12.6](https://web.stanford.edu/~boyd/vmls/vmls.pdf#equation.12.2.6)) in VMLS, $x̂ = (A^TA)^{−1}A^T b = A^†b$ for the small example of Figure [12.1](https://web.stanford.edu/~boyd/vmls/vmls.pdf#figure.12.1)) (where $x̂ = (\\frac{1}{3},\\frac{1}{3})$)."
   ]
  },
  {
   "cell_type": "code",
   "execution_count": 6,
   "metadata": {},
   "outputs": [
    {
     "data": {
      "text/plain": [
       "2-element Vector{Float64}:\n",
       "  0.33333333333333337\n",
       " -0.33333333333333337"
      ]
     },
     "execution_count": 6,
     "metadata": {},
     "output_type": "execute_result"
    }
   ],
   "source": [
    "inv(A'*A)*A'*b"
   ]
  },
  {
   "cell_type": "code",
   "execution_count": 7,
   "metadata": {},
   "outputs": [
    {
     "data": {
      "text/plain": [
       "2-element Vector{Float64}:\n",
       "  0.3333333333333333\n",
       " -0.3333333333333335"
      ]
     },
     "execution_count": 7,
     "metadata": {},
     "output_type": "execute_result"
    }
   ],
   "source": [
    "pinv(A)*b"
   ]
  },
  {
   "cell_type": "code",
   "execution_count": 8,
   "metadata": {},
   "outputs": [
    {
     "data": {
      "text/plain": [
       "2-element Vector{Float64}:\n",
       " -2.220446049250313e-16\n",
       "  2.220446049250313e-16"
      ]
     },
     "execution_count": 8,
     "metadata": {},
     "output_type": "execute_result"
    }
   ],
   "source": [
    "(A'*A)*xhat - A'*b # Check that normal equations hold"
   ]
  },
  {
   "cell_type": "markdown",
   "metadata": {},
   "source": [
    "**Orthogonality principle.** Let’s check the orthogonality principle ([12.9](https://web.stanford.edu/~boyd/vmls/vmls.pdf#equation.12.2.9)), for the same example. "
   ]
  },
  {
   "cell_type": "code",
   "execution_count": 9,
   "metadata": {},
   "outputs": [
    {
     "data": {
      "text/plain": [
       "3.9227880203422196e-16"
      ]
     },
     "execution_count": 9,
     "metadata": {},
     "output_type": "execute_result"
    }
   ],
   "source": [
    "z = [-1.1, 2.3];\n",
    "(A*z)'*rhat"
   ]
  },
  {
   "cell_type": "code",
   "execution_count": 10,
   "metadata": {},
   "outputs": [
    {
     "data": {
      "text/plain": [
       "-6.809367884367626e-16"
      ]
     },
     "execution_count": 10,
     "metadata": {},
     "output_type": "execute_result"
    }
   ],
   "source": [
    "z = [5.3, -1.2];\n",
    "(A*z)'*rhat"
   ]
  },
  {
   "cell_type": "markdown",
   "metadata": {},
   "source": [
    "### 12.3 Solving least squares problems\n",
    "Julia uses the backslash operator to denote the least squares approximate solution: `xhat = A\\b`. (The same operator is used to solve square systems of linear equations, and we will see more uses of it in later chapters.)"
   ]
  },
  {
   "cell_type": "code",
   "execution_count": 11,
   "metadata": {},
   "outputs": [
    {
     "data": {
      "text/plain": [
       "(4.1924857341382694e-16, 6.848187576555047e-16, 4.3857381018590646e-16)"
      ]
     },
     "execution_count": 11,
     "metadata": {},
     "output_type": "execute_result"
    }
   ],
   "source": [
    "A = randn(100,20); b = randn(100);\n",
    "x1 = A\\b; # Least squares using backslash operator\n",
    "x2 = inv(A'*A)*(A'*b); # Using formula\n",
    "x3 = pinv(A)*b; # Using pseudo-inverse\n",
    "Q, R = qr(A);\n",
    "Q = Matrix(Q);\n",
    "x4 = R\\(Q'*b); # Using QR factorization\n",
    "norm(x1-x2),norm(x2-x3),norm(x3-x4)"
   ]
  },
  {
   "cell_type": "markdown",
   "metadata": {},
   "source": [
    "**Complexity.** The complexity of solving the least squares problem with $m × n$\n",
    "matrix $A$ is around $2mn^2$ flops. Let’s check this in Julia by solving a few least\n",
    "squares problems of different dimensions."
   ]
  },
  {
   "cell_type": "code",
   "execution_count": 12,
   "metadata": {},
   "outputs": [
    {
     "name": "stdout",
     "output_type": "stream",
     "text": [
      "  0.099346 seconds (3.01 k allocations: 8.010 MiB)\n",
      "  0.101466 seconds (3.01 k allocations: 8.010 MiB)\n",
      "  0.171683 seconds (3.01 k allocations: 15.654 MiB)\n",
      "  0.264406 seconds (6.01 k allocations: 15.971 MiB)\n"
     ]
    }
   ],
   "source": [
    "m = 2000; n = 500;\n",
    "A = randn(m,n); b = randn(m);\n",
    "@time x = A\\b;\n",
    "@time x = A\\b;\n",
    "m = 4000; n = 500;\n",
    "A = randn(m,n); b = randn(m);\n",
    "@time x = A\\b;\n",
    "m = 2000; n = 1000;\n",
    "A = randn(m,n); b = randn(m);\n",
    "@time x = A\\b;"
   ]
  },
  {
   "cell_type": "markdown",
   "metadata": {},
   "source": [
    "We can see that doubling $m$ approximately doubles the computation time, and\n",
    "doubling $n$ increases it by around a factor of four. The times above can be used to\n",
    "guess the speed of the computer on which it was carried out. For example, using\n",
    "the last problem solved, the number of flops is around $2mn2 = 4 · 10^9$, and it took\n",
    "around $0.4$ seconds. This suggests a speed of around $10 Gflop/sec$."
   ]
  },
  {
   "cell_type": "markdown",
   "metadata": {},
   "source": [
    "**Matrix least squares.** Let’s solve multiple least squares problems with the same\n",
    "matrix $A$ and different vector $b$."
   ]
  },
  {
   "cell_type": "code",
   "execution_count": 13,
   "metadata": {},
   "outputs": [
    {
     "data": {
      "text/plain": [
       "1.4749569398853528e-16"
      ]
     },
     "execution_count": 13,
     "metadata": {},
     "output_type": "execute_result"
    }
   ],
   "source": [
    "A = randn(1000,100); B = randn(1000,10);\n",
    "X = A\\B;\n",
    "# Check that third column of X is least squares solution\n",
    "# with third column of B\n",
    "x3 = A\\B[:,3];\n",
    "norm(X[:,3]-x3)"
   ]
  },
  {
   "cell_type": "markdown",
   "metadata": {},
   "source": [
    "### 12.4 Examples\n",
    "**Advertising purchases.** We work out the solution of the optimal advertising purchase problem on page [234](https://web.stanford.edu/~boyd/vmls/vmls.pdf#section*.284) of VMLS."
   ]
  },
  {
   "cell_type": "code",
   "execution_count": 14,
   "metadata": {},
   "outputs": [
    {
     "data": {
      "text/plain": [
       "3-element Vector{Float64}:\n",
       "   62.07662454385103\n",
       "   99.98500402826183\n",
       " 1442.8374625412218"
      ]
     },
     "execution_count": 14,
     "metadata": {},
     "output_type": "execute_result"
    }
   ],
   "source": [
    "R = [ 0.97 1.86 0.41;\n",
    "1.23 2.18 0.53;\n",
    "0.80 1.24 0.62;\n",
    "1.29 0.98 0.51;\n",
    "1.10 1.23 0.69;\n",
    "0.67 0.34 0.54;\n",
    "0.87 0.26 0.62;\n",
    "1.10 0.16 0.48;\n",
    "1.92 0.22 0.71;\n",
    "1.29 0.12 0.62];\n",
    "m, n = size(R);\n",
    "vdes = 1e3 * ones(m);\n",
    "s = R \\ vdes"
   ]
  },
  {
   "cell_type": "code",
   "execution_count": 15,
   "metadata": {},
   "outputs": [
    {
     "data": {
      "text/plain": [
       "132.63819026326527"
      ]
     },
     "execution_count": 15,
     "metadata": {},
     "output_type": "execute_result"
    }
   ],
   "source": [
    "rms(R*s - vdes)"
   ]
  },
  {
   "cell_type": "markdown",
   "metadata": {},
   "source": [
    "**Illumination.** The following code constructs and solves the illumination problem on page [234](https://web.stanford.edu/~boyd/vmls/vmls.pdf#section*.285), and plots two histograms with the pixel intensity distributions (Figure 12.1)."
   ]
  },
  {
   "cell_type": "code",
   "execution_count": 16,
   "metadata": {},
   "outputs": [
    {
     "data": {
      "text/plain": [
       "0.14039048134276055"
      ]
     },
     "execution_count": 16,
     "metadata": {},
     "output_type": "execute_result"
    }
   ],
   "source": [
    "n = 10; # number of lamps\n",
    "lamps = [ # x, y positions of lamps and height above floor\n",
    "    4.1 20.4 4;\n",
    "    14.1 21.3 3.5;\n",
    "    22.6 17.1 6;\n",
    "    5.5 12.3 4.0;\n",
    "    12.2 9.7 4.0;\n",
    "    15.3 13.8 6;\n",
    "    21.3 10.5 5.5;\n",
    "    3.9 3.3 5.0;\n",
    "    13.1 4.3 5.0;\n",
    "    20.3 4.2 4.5 ];\n",
    "N = 25; # grid size\n",
    "m = N*N; # number of pixels\n",
    "# construct m x 2 matrix with coordinates of pixel centers\n",
    "pixels = hcat( \n",
    "    reshape( collect(0.5: 1 : N) * ones(1,N), m, 1), \n",
    "    reshape( ones(N,1) * collect(0.5: 1 : N)', m, 1));\n",
    "# The m x n matrix A maps lamp powers to pixel intensities.\n",
    "# A[i,j] is inversely proportional to the squared distance of\n",
    "# lamp j to pixel i.\n",
    "A = zeros(m,n);\n",
    "for i=1:m\n",
    "    for j=1:n\n",
    "        A[i,j] = 1.0 / norm([pixels[i,:]; 0] - lamps[j,:])^2;\n",
    "        end;\n",
    "    end;\n",
    "A = (m/sum(A)) * A; # scale elements of A\n",
    "# Least squares solution\n",
    "x = A \\ ones(m,1);\n",
    "rms_ls = rms(A*x .- 1)"
   ]
  },
  {
   "cell_type": "code",
   "execution_count": 17,
   "metadata": {},
   "outputs": [
    {
     "data": {
      "image/png": "[encoded data removed]",
      "image/svg+xml": [
       "<?xml version=\"1.0\" encoding=\"utf-8\"?>\n",
       "<svg xmlns=\"http://www.w3.org/2000/svg\" xmlns:xlink=\"http://www.w3.org/1999/xlink\" width=\"600\" height=\"400\" viewBox=\"0 0 2400 1600\">\n",
       "<defs>\n",
       "  <clipPath id=\"clip040\">\n",
       "    <rect x=\"0\" y=\"0\" width=\"2400\" height=\"1600\"/>\n",
       "  </clipPath>\n",
       "</defs>\n",
       "<path clip-path=\"url(#clip040)\" d=\"M0 1600 L2400 1600 L2400 8.88178e-14 L0 8.88178e-14  Z\" fill=\"#ffffff\" fill-rule=\"evenodd\" fill-opacity=\"1\"/>\n",
       "<defs>\n",
       "  <clipPath id=\"clip041\">\n",
       "    <rect x=\"480\" y=\"0\" width=\"1681\" height=\"1600\"/>\n",
       "  </clipPath>\n",
       "</defs>\n",
       "<path clip-path=\"url(#clip040)\" d=\"M169.121 1486.45 L2352.76 1486.45 L2352.76 47.2441 L169.121 47.2441  Z\" fill=\"#ffffff\" fill-rule=\"evenodd\" fill-opacity=\"1\"/>\n",
       "<defs>\n",
       "  <clipPath id=\"clip042\">\n",
       "    <rect x=\"169\" y=\"47\" width=\"2185\" height=\"1440\"/>\n",
       "  </clipPath>\n",
       "</defs>\n",
       "<polyline clip-path=\"url(#clip042)\" style=\"stroke:#000000; stroke-linecap:round; stroke-linejoin:round; stroke-width:2; stroke-opacity:0.1; fill:none\" points=\"483.568,1486.45 483.568,47.2441 \"/>\n",
       "<polyline clip-path=\"url(#clip042)\" style=\"stroke:#000000; stroke-linecap:round; stroke-linejoin:round; stroke-width:2; stroke-opacity:0.1; fill:none\" points=\"872.253,1486.45 872.253,47.2441 \"/>\n",
       "<polyline clip-path=\"url(#clip042)\" style=\"stroke:#000000; stroke-linecap:round; stroke-linejoin:round; stroke-width:2; stroke-opacity:0.1; fill:none\" points=\"1260.94,1486.45 1260.94,47.2441 \"/>\n",
       "<polyline clip-path=\"url(#clip042)\" style=\"stroke:#000000; stroke-linecap:round; stroke-linejoin:round; stroke-width:2; stroke-opacity:0.1; fill:none\" points=\"1649.62,1486.45 1649.62,47.2441 \"/>\n",
       "<polyline clip-path=\"url(#clip042)\" style=\"stroke:#000000; stroke-linecap:round; stroke-linejoin:round; stroke-width:2; stroke-opacity:0.1; fill:none\" points=\"2038.31,1486.45 2038.31,47.2441 \"/>\n",
       "<polyline clip-path=\"url(#clip040)\" style=\"stroke:#000000; stroke-linecap:round; stroke-linejoin:round; stroke-width:4; stroke-opacity:1; fill:none\" points=\"169.121,1486.45 2352.76,1486.45 \"/>\n",
       "<polyline clip-path=\"url(#clip040)\" style=\"stroke:#000000; stroke-linecap:round; stroke-linejoin:round; stroke-width:4; stroke-opacity:1; fill:none\" points=\"483.568,1486.45 483.568,1467.55 \"/>\n",
       "<polyline clip-path=\"url(#clip040)\" style=\"stroke:#000000; stroke-linecap:round; stroke-linejoin:round; stroke-width:4; stroke-opacity:1; fill:none\" points=\"872.253,1486.45 872.253,1467.55 \"/>\n",
       "<polyline clip-path=\"url(#clip040)\" style=\"stroke:#000000; stroke-linecap:round; stroke-linejoin:round; stroke-width:4; stroke-opacity:1; fill:none\" points=\"1260.94,1486.45 1260.94,1467.55 \"/>\n",
       "<polyline clip-path=\"url(#clip040)\" style=\"stroke:#000000; stroke-linecap:round; stroke-linejoin:round; stroke-width:4; stroke-opacity:1; fill:none\" points=\"1649.62,1486.45 1649.62,1467.55 \"/>\n",
       "<polyline clip-path=\"url(#clip040)\" style=\"stroke:#000000; stroke-linecap:round; stroke-linejoin:round; stroke-width:4; stroke-opacity:1; fill:none\" points=\"2038.31,1486.45 2038.31,1467.55 \"/>\n",
       "<path clip-path=\"url(#clip040)\" d=\"M445.871 1517.37 Q442.26 1517.37 440.431 1520.93 Q438.626 1524.47 438.626 1531.6 Q438.626 1538.71 440.431 1542.27 Q442.26 1545.82 445.871 1545.82 Q449.505 1545.82 451.311 1542.27 Q453.14 1538.71 453.14 1531.6 Q453.14 1524.47 451.311 1520.93 Q449.505 1517.37 445.871 1517.37 M445.871 1513.66 Q451.681 1513.66 454.737 1518.27 Q457.816 1522.85 457.816 1531.6 Q457.816 1540.33 454.737 1544.94 Q451.681 1549.52 445.871 1549.52 Q440.061 1549.52 436.982 1544.94 Q433.927 1540.33 433.927 1531.6 Q433.927 1522.85 436.982 1518.27 Q440.061 1513.66 445.871 1513.66 Z\" fill=\"#000000\" fill-rule=\"nonzero\" fill-opacity=\"1\" /><path clip-path=\"url(#clip040)\" d=\"M466.033 1542.97 L470.917 1542.97 L470.917 1548.85 L466.033 1548.85 L466.033 1542.97 Z\" fill=\"#000000\" fill-rule=\"nonzero\" fill-opacity=\"1\" /><path clip-path=\"url(#clip040)\" d=\"M481.149 1514.29 L499.505 1514.29 L499.505 1518.22 L485.431 1518.22 L485.431 1526.7 Q486.45 1526.35 487.468 1526.19 Q488.487 1526 489.505 1526 Q495.292 1526 498.672 1529.17 Q502.052 1532.34 502.052 1537.76 Q502.052 1543.34 498.579 1546.44 Q495.107 1549.52 488.788 1549.52 Q486.612 1549.52 484.343 1549.15 Q482.098 1548.78 479.691 1548.04 L479.691 1543.34 Q481.774 1544.47 483.996 1545.03 Q486.218 1545.58 488.695 1545.58 Q492.7 1545.58 495.038 1543.48 Q497.376 1541.37 497.376 1537.76 Q497.376 1534.15 495.038 1532.04 Q492.7 1529.94 488.695 1529.94 Q486.82 1529.94 484.945 1530.35 Q483.093 1530.77 481.149 1531.65 L481.149 1514.29 Z\" fill=\"#000000\" fill-rule=\"nonzero\" fill-opacity=\"1\" /><path clip-path=\"url(#clip040)\" d=\"M521.264 1517.37 Q517.653 1517.37 515.825 1520.93 Q514.019 1524.47 514.019 1531.6 Q514.019 1538.71 515.825 1542.27 Q517.653 1545.82 521.264 1545.82 Q524.899 1545.82 526.704 1542.27 Q528.533 1538.71 528.533 1531.6 Q528.533 1524.47 526.704 1520.93 Q524.899 1517.37 521.264 1517.37 M521.264 1513.66 Q527.075 1513.66 530.13 1518.27 Q533.209 1522.85 533.209 1531.6 Q533.209 1540.33 530.13 1544.94 Q527.075 1549.52 521.264 1549.52 Q515.454 1549.52 512.376 1544.94 Q509.32 1540.33 509.32 1531.6 Q509.32 1522.85 512.376 1518.27 Q515.454 1513.66 521.264 1513.66 Z\" fill=\"#000000\" fill-rule=\"nonzero\" fill-opacity=\"1\" /><path clip-path=\"url(#clip040)\" d=\"M835.054 1517.37 Q831.443 1517.37 829.615 1520.93 Q827.809 1524.47 827.809 1531.6 Q827.809 1538.71 829.615 1542.27 Q831.443 1545.82 835.054 1545.82 Q838.689 1545.82 840.494 1542.27 Q842.323 1538.71 842.323 1531.6 Q842.323 1524.47 840.494 1520.93 Q838.689 1517.37 835.054 1517.37 M835.054 1513.66 Q840.864 1513.66 843.92 1518.27 Q846.999 1522.85 846.999 1531.6 Q846.999 1540.33 843.92 1544.94 Q840.864 1549.52 835.054 1549.52 Q829.244 1549.52 826.165 1544.94 Q823.11 1540.33 823.11 1531.6 Q823.11 1522.85 826.165 1518.27 Q829.244 1513.66 835.054 1513.66 Z\" fill=\"#000000\" fill-rule=\"nonzero\" fill-opacity=\"1\" /><path clip-path=\"url(#clip040)\" d=\"M855.216 1542.97 L860.1 1542.97 L860.1 1548.85 L855.216 1548.85 L855.216 1542.97 Z\" fill=\"#000000\" fill-rule=\"nonzero\" fill-opacity=\"1\" /><path clip-path=\"url(#clip040)\" d=\"M869.105 1514.29 L891.327 1514.29 L891.327 1516.28 L878.781 1548.85 L873.897 1548.85 L885.702 1518.22 L869.105 1518.22 L869.105 1514.29 Z\" fill=\"#000000\" fill-rule=\"nonzero\" fill-opacity=\"1\" /><path clip-path=\"url(#clip040)\" d=\"M900.494 1514.29 L918.85 1514.29 L918.85 1518.22 L904.776 1518.22 L904.776 1526.7 Q905.795 1526.35 906.813 1526.19 Q907.832 1526 908.85 1526 Q914.637 1526 918.017 1529.17 Q921.396 1532.34 921.396 1537.76 Q921.396 1543.34 917.924 1546.44 Q914.452 1549.52 908.133 1549.52 Q905.957 1549.52 903.688 1549.15 Q901.443 1548.78 899.035 1548.04 L899.035 1543.34 Q901.119 1544.47 903.341 1545.03 Q905.563 1545.58 908.04 1545.58 Q912.045 1545.58 914.383 1543.48 Q916.721 1541.37 916.721 1537.76 Q916.721 1534.15 914.383 1532.04 Q912.045 1529.94 908.04 1529.94 Q906.165 1529.94 904.29 1530.35 Q902.438 1530.77 900.494 1531.65 L900.494 1514.29 Z\" fill=\"#000000\" fill-rule=\"nonzero\" fill-opacity=\"1\" /><path clip-path=\"url(#clip040)\" d=\"M1213.01 1544.91 L1220.65 1544.91 L1220.65 1518.55 L1212.34 1520.21 L1212.34 1515.95 L1220.6 1514.29 L1225.28 1514.29 L1225.28 1544.91 L1232.92 1544.91 L1232.92 1548.85 L1213.01 1548.85 L1213.01 1544.91 Z\" fill=\"#000000\" fill-rule=\"nonzero\" fill-opacity=\"1\" /><path clip-path=\"url(#clip040)\" d=\"M1242.36 1542.97 L1247.25 1542.97 L1247.25 1548.85 L1242.36 1548.85 L1242.36 1542.97 Z\" fill=\"#000000\" fill-rule=\"nonzero\" fill-opacity=\"1\" /><path clip-path=\"url(#clip040)\" d=\"M1267.43 1517.37 Q1263.82 1517.37 1261.99 1520.93 Q1260.19 1524.47 1260.19 1531.6 Q1260.19 1538.71 1261.99 1542.27 Q1263.82 1545.82 1267.43 1545.82 Q1271.07 1545.82 1272.87 1542.27 Q1274.7 1538.71 1274.7 1531.6 Q1274.7 1524.47 1272.87 1520.93 Q1271.07 1517.37 1267.43 1517.37 M1267.43 1513.66 Q1273.24 1513.66 1276.3 1518.27 Q1279.38 1522.85 1279.38 1531.6 Q1279.38 1540.33 1276.3 1544.94 Q1273.24 1549.52 1267.43 1549.52 Q1261.62 1549.52 1258.54 1544.94 Q1255.49 1540.33 1255.49 1531.6 Q1255.49 1522.85 1258.54 1518.27 Q1261.62 1513.66 1267.43 1513.66 Z\" fill=\"#000000\" fill-rule=\"nonzero\" fill-opacity=\"1\" /><path clip-path=\"url(#clip040)\" d=\"M1297.59 1517.37 Q1293.98 1517.37 1292.15 1520.93 Q1290.35 1524.47 1290.35 1531.6 Q1290.35 1538.71 1292.15 1542.27 Q1293.98 1545.82 1297.59 1545.82 Q1301.23 1545.82 1303.03 1542.27 Q1304.86 1538.71 1304.86 1531.6 Q1304.86 1524.47 1303.03 1520.93 Q1301.23 1517.37 1297.59 1517.37 M1297.59 1513.66 Q1303.4 1513.66 1306.46 1518.27 Q1309.54 1522.85 1309.54 1531.6 Q1309.54 1540.33 1306.46 1544.94 Q1303.4 1549.52 1297.59 1549.52 Q1291.78 1549.52 1288.7 1544.94 Q1285.65 1540.33 1285.65 1531.6 Q1285.65 1522.85 1288.7 1518.27 Q1291.78 1513.66 1297.59 1513.66 Z\" fill=\"#000000\" fill-rule=\"nonzero\" fill-opacity=\"1\" /><path clip-path=\"url(#clip040)\" d=\"M1602.19 1544.91 L1609.83 1544.91 L1609.83 1518.55 L1601.52 1520.21 L1601.52 1515.95 L1609.79 1514.29 L1614.46 1514.29 L1614.46 1544.91 L1622.1 1544.91 L1622.1 1548.85 L1602.19 1548.85 L1602.19 1544.91 Z\" fill=\"#000000\" fill-rule=\"nonzero\" fill-opacity=\"1\" /><path clip-path=\"url(#clip040)\" d=\"M1631.55 1542.97 L1636.43 1542.97 L1636.43 1548.85 L1631.55 1548.85 L1631.55 1542.97 Z\" fill=\"#000000\" fill-rule=\"nonzero\" fill-opacity=\"1\" /><path clip-path=\"url(#clip040)\" d=\"M1650.64 1544.91 L1666.96 1544.91 L1666.96 1548.85 L1645.02 1548.85 L1645.02 1544.91 Q1647.68 1542.16 1652.26 1537.53 Q1656.87 1532.88 1658.05 1531.53 Q1660.3 1529.01 1661.17 1527.27 Q1662.08 1525.51 1662.08 1523.82 Q1662.08 1521.07 1660.13 1519.33 Q1658.21 1517.6 1655.11 1517.6 Q1652.91 1517.6 1650.46 1518.36 Q1648.03 1519.13 1645.25 1520.68 L1645.25 1515.95 Q1648.07 1514.82 1650.53 1514.24 Q1652.98 1513.66 1655.02 1513.66 Q1660.39 1513.66 1663.58 1516.35 Q1666.78 1519.03 1666.78 1523.52 Q1666.78 1525.65 1665.97 1527.57 Q1665.18 1529.47 1663.07 1532.07 Q1662.49 1532.74 1659.39 1535.95 Q1656.29 1539.15 1650.64 1544.91 Z\" fill=\"#000000\" fill-rule=\"nonzero\" fill-opacity=\"1\" /><path clip-path=\"url(#clip040)\" d=\"M1676.82 1514.29 L1695.18 1514.29 L1695.18 1518.22 L1681.11 1518.22 L1681.11 1526.7 Q1682.12 1526.35 1683.14 1526.19 Q1684.16 1526 1685.18 1526 Q1690.97 1526 1694.35 1529.17 Q1697.73 1532.34 1697.73 1537.76 Q1697.73 1543.34 1694.25 1546.44 Q1690.78 1549.52 1684.46 1549.52 Q1682.29 1549.52 1680.02 1549.15 Q1677.77 1548.78 1675.36 1548.04 L1675.36 1543.34 Q1677.45 1544.47 1679.67 1545.03 Q1681.89 1545.58 1684.37 1545.58 Q1688.37 1545.58 1690.71 1543.48 Q1693.05 1541.37 1693.05 1537.76 Q1693.05 1534.15 1690.71 1532.04 Q1688.37 1529.94 1684.37 1529.94 Q1682.49 1529.94 1680.62 1530.35 Q1678.77 1530.77 1676.82 1531.65 L1676.82 1514.29 Z\" fill=\"#000000\" fill-rule=\"nonzero\" fill-opacity=\"1\" /><path clip-path=\"url(#clip040)\" d=\"M1990.38 1544.91 L1998.02 1544.91 L1998.02 1518.55 L1989.71 1520.21 L1989.71 1515.95 L1997.97 1514.29 L2002.65 1514.29 L2002.65 1544.91 L2010.29 1544.91 L2010.29 1548.85 L1990.38 1548.85 L1990.38 1544.91 Z\" fill=\"#000000\" fill-rule=\"nonzero\" fill-opacity=\"1\" /><path clip-path=\"url(#clip040)\" d=\"M2019.73 1542.97 L2024.62 1542.97 L2024.62 1548.85 L2019.73 1548.85 L2019.73 1542.97 Z\" fill=\"#000000\" fill-rule=\"nonzero\" fill-opacity=\"1\" /><path clip-path=\"url(#clip040)\" d=\"M2034.85 1514.29 L2053.21 1514.29 L2053.21 1518.22 L2039.13 1518.22 L2039.13 1526.7 Q2040.15 1526.35 2041.17 1526.19 Q2042.19 1526 2043.21 1526 Q2048.99 1526 2052.37 1529.17 Q2055.75 1532.34 2055.75 1537.76 Q2055.75 1543.34 2052.28 1546.44 Q2048.81 1549.52 2042.49 1549.52 Q2040.31 1549.52 2038.04 1549.15 Q2035.8 1548.78 2033.39 1548.04 L2033.39 1543.34 Q2035.47 1544.47 2037.7 1545.03 Q2039.92 1545.58 2042.4 1545.58 Q2046.4 1545.58 2048.74 1543.48 Q2051.08 1541.37 2051.08 1537.76 Q2051.08 1534.15 2048.74 1532.04 Q2046.4 1529.94 2042.4 1529.94 Q2040.52 1529.94 2038.65 1530.35 Q2036.79 1530.77 2034.85 1531.65 L2034.85 1514.29 Z\" fill=\"#000000\" fill-rule=\"nonzero\" fill-opacity=\"1\" /><path clip-path=\"url(#clip040)\" d=\"M2074.96 1517.37 Q2071.35 1517.37 2069.52 1520.93 Q2067.72 1524.47 2067.72 1531.6 Q2067.72 1538.71 2069.52 1542.27 Q2071.35 1545.82 2074.96 1545.82 Q2078.6 1545.82 2080.4 1542.27 Q2082.23 1538.71 2082.23 1531.6 Q2082.23 1524.47 2080.4 1520.93 Q2078.6 1517.37 2074.96 1517.37 M2074.96 1513.66 Q2080.77 1513.66 2083.83 1518.27 Q2086.91 1522.85 2086.91 1531.6 Q2086.91 1540.33 2083.83 1544.94 Q2080.77 1549.52 2074.96 1549.52 Q2069.15 1549.52 2066.08 1544.94 Q2063.02 1540.33 2063.02 1531.6 Q2063.02 1522.85 2066.08 1518.27 Q2069.15 1513.66 2074.96 1513.66 Z\" fill=\"#000000\" fill-rule=\"nonzero\" fill-opacity=\"1\" /><polyline clip-path=\"url(#clip042)\" style=\"stroke:#000000; stroke-linecap:round; stroke-linejoin:round; stroke-width:2; stroke-opacity:0.1; fill:none\" points=\"169.121,1486.45 2352.76,1486.45 \"/>\n",
       "<polyline clip-path=\"url(#clip042)\" style=\"stroke:#000000; stroke-linecap:round; stroke-linejoin:round; stroke-width:2; stroke-opacity:0.1; fill:none\" points=\"169.121,1246.58 2352.76,1246.58 \"/>\n",
       "<polyline clip-path=\"url(#clip042)\" style=\"stroke:#000000; stroke-linecap:round; stroke-linejoin:round; stroke-width:2; stroke-opacity:0.1; fill:none\" points=\"169.121,1006.71 2352.76,1006.71 \"/>\n",
       "<polyline clip-path=\"url(#clip042)\" style=\"stroke:#000000; stroke-linecap:round; stroke-linejoin:round; stroke-width:2; stroke-opacity:0.1; fill:none\" points=\"169.121,766.846 2352.76,766.846 \"/>\n",
       "<polyline clip-path=\"url(#clip042)\" style=\"stroke:#000000; stroke-linecap:round; stroke-linejoin:round; stroke-width:2; stroke-opacity:0.1; fill:none\" points=\"169.121,526.979 2352.76,526.979 \"/>\n",
       "<polyline clip-path=\"url(#clip042)\" style=\"stroke:#000000; stroke-linecap:round; stroke-linejoin:round; stroke-width:2; stroke-opacity:0.1; fill:none\" points=\"169.121,287.111 2352.76,287.111 \"/>\n",
       "<polyline clip-path=\"url(#clip042)\" style=\"stroke:#000000; stroke-linecap:round; stroke-linejoin:round; stroke-width:2; stroke-opacity:0.1; fill:none\" points=\"169.121,47.2441 2352.76,47.2441 \"/>\n",
       "<polyline clip-path=\"url(#clip040)\" style=\"stroke:#000000; stroke-linecap:round; stroke-linejoin:round; stroke-width:4; stroke-opacity:1; fill:none\" points=\"169.121,1486.45 169.121,47.2441 \"/>\n",
       "<polyline clip-path=\"url(#clip040)\" style=\"stroke:#000000; stroke-linecap:round; stroke-linejoin:round; stroke-width:4; stroke-opacity:1; fill:none\" points=\"169.121,1486.45 188.019,1486.45 \"/>\n",
       "<polyline clip-path=\"url(#clip040)\" style=\"stroke:#000000; stroke-linecap:round; stroke-linejoin:round; stroke-width:4; stroke-opacity:1; fill:none\" points=\"169.121,1246.58 188.019,1246.58 \"/>\n",
       "<polyline clip-path=\"url(#clip040)\" style=\"stroke:#000000; stroke-linecap:round; stroke-linejoin:round; stroke-width:4; stroke-opacity:1; fill:none\" points=\"169.121,1006.71 188.019,1006.71 \"/>\n",
       "<polyline clip-path=\"url(#clip040)\" style=\"stroke:#000000; stroke-linecap:round; stroke-linejoin:round; stroke-width:4; stroke-opacity:1; fill:none\" points=\"169.121,766.846 188.019,766.846 \"/>\n",
       "<polyline clip-path=\"url(#clip040)\" style=\"stroke:#000000; stroke-linecap:round; stroke-linejoin:round; stroke-width:4; stroke-opacity:1; fill:none\" points=\"169.121,526.979 188.019,526.979 \"/>\n",
       "<polyline clip-path=\"url(#clip040)\" style=\"stroke:#000000; stroke-linecap:round; stroke-linejoin:round; stroke-width:4; stroke-opacity:1; fill:none\" points=\"169.121,287.111 188.019,287.111 \"/>\n",
       "<polyline clip-path=\"url(#clip040)\" style=\"stroke:#000000; stroke-linecap:round; stroke-linejoin:round; stroke-width:4; stroke-opacity:1; fill:none\" points=\"169.121,47.2441 188.019,47.2441 \"/>\n",
       "<path clip-path=\"url(#clip040)\" d=\"M121.177 1472.25 Q117.566 1472.25 115.737 1475.81 Q113.932 1479.35 113.932 1486.48 Q113.932 1493.59 115.737 1497.15 Q117.566 1500.7 121.177 1500.7 Q124.811 1500.7 126.617 1497.15 Q128.445 1493.59 128.445 1486.48 Q128.445 1479.35 126.617 1475.81 Q124.811 1472.25 121.177 1472.25 M121.177 1468.54 Q126.987 1468.54 130.043 1473.15 Q133.121 1477.73 133.121 1486.48 Q133.121 1495.21 130.043 1499.82 Q126.987 1504.4 121.177 1504.4 Q115.367 1504.4 112.288 1499.82 Q109.233 1495.21 109.233 1486.48 Q109.233 1477.73 112.288 1473.15 Q115.367 1468.54 121.177 1468.54 Z\" fill=\"#000000\" fill-rule=\"nonzero\" fill-opacity=\"1\" /><path clip-path=\"url(#clip040)\" d=\"M85.0429 1259.93 L101.362 1259.93 L101.362 1263.86 L79.4179 1263.86 L79.4179 1259.93 Q82.0799 1257.17 86.6632 1252.54 Q91.2697 1247.89 92.4502 1246.55 Q94.6956 1244.02 95.5752 1242.29 Q96.478 1240.53 96.478 1238.84 Q96.478 1236.08 94.5336 1234.35 Q92.6123 1232.61 89.5104 1232.61 Q87.3114 1232.61 84.8577 1233.37 Q82.4271 1234.14 79.6494 1235.69 L79.6494 1230.97 Q82.4734 1229.83 84.9271 1229.25 Q87.3808 1228.68 89.4178 1228.68 Q94.7882 1228.68 97.9826 1231.36 Q101.177 1234.05 101.177 1238.54 Q101.177 1240.67 100.367 1242.59 Q99.5798 1244.49 97.4734 1247.08 Q96.8947 1247.75 93.7928 1250.97 Q90.691 1254.16 85.0429 1259.93 Z\" fill=\"#000000\" fill-rule=\"nonzero\" fill-opacity=\"1\" /><path clip-path=\"url(#clip040)\" d=\"M121.177 1232.38 Q117.566 1232.38 115.737 1235.94 Q113.932 1239.49 113.932 1246.62 Q113.932 1253.72 115.737 1257.29 Q117.566 1260.83 121.177 1260.83 Q124.811 1260.83 126.617 1257.29 Q128.445 1253.72 128.445 1246.62 Q128.445 1239.49 126.617 1235.94 Q124.811 1232.38 121.177 1232.38 M121.177 1228.68 Q126.987 1228.68 130.043 1233.28 Q133.121 1237.87 133.121 1246.62 Q133.121 1255.34 130.043 1259.95 Q126.987 1264.53 121.177 1264.53 Q115.367 1264.53 112.288 1259.95 Q109.233 1255.34 109.233 1246.62 Q109.233 1237.87 112.288 1233.28 Q115.367 1228.68 121.177 1228.68 Z\" fill=\"#000000\" fill-rule=\"nonzero\" fill-opacity=\"1\" /><path clip-path=\"url(#clip040)\" d=\"M93.8623 993.507 L82.0568 1011.96 L93.8623 1011.96 L93.8623 993.507 M92.6354 989.433 L98.515 989.433 L98.515 1011.96 L103.446 1011.96 L103.446 1015.85 L98.515 1015.85 L98.515 1023.99 L93.8623 1023.99 L93.8623 1015.85 L78.2605 1015.85 L78.2605 1011.33 L92.6354 989.433 Z\" fill=\"#000000\" fill-rule=\"nonzero\" fill-opacity=\"1\" /><path clip-path=\"url(#clip040)\" d=\"M121.177 992.512 Q117.566 992.512 115.737 996.077 Q113.932 999.618 113.932 1006.75 Q113.932 1013.85 115.737 1017.42 Q117.566 1020.96 121.177 1020.96 Q124.811 1020.96 126.617 1017.42 Q128.445 1013.85 128.445 1006.75 Q128.445 999.618 126.617 996.077 Q124.811 992.512 121.177 992.512 M121.177 988.808 Q126.987 988.808 130.043 993.415 Q133.121 997.998 133.121 1006.75 Q133.121 1015.47 130.043 1020.08 Q126.987 1024.66 121.177 1024.66 Q115.367 1024.66 112.288 1020.08 Q109.233 1015.47 109.233 1006.75 Q109.233 997.998 112.288 993.415 Q115.367 988.808 121.177 988.808 Z\" fill=\"#000000\" fill-rule=\"nonzero\" fill-opacity=\"1\" /><path clip-path=\"url(#clip040)\" d=\"M91.5938 764.983 Q88.4456 764.983 86.5938 767.135 Q84.7651 769.288 84.7651 773.038 Q84.7651 776.765 86.5938 778.941 Q88.4456 781.094 91.5938 781.094 Q94.7419 781.094 96.5706 778.941 Q98.4224 776.765 98.4224 773.038 Q98.4224 769.288 96.5706 767.135 Q94.7419 764.983 91.5938 764.983 M100.876 750.33 L100.876 754.589 Q99.1169 753.756 97.3113 753.316 Q95.5289 752.876 93.7697 752.876 Q89.1401 752.876 86.6864 756.001 Q84.2558 759.126 83.9086 765.446 Q85.2743 763.432 87.3345 762.367 Q89.3947 761.279 91.8715 761.279 Q97.0798 761.279 100.089 764.45 Q103.121 767.598 103.121 773.038 Q103.121 778.362 99.9733 781.58 Q96.8252 784.797 91.5938 784.797 Q85.5984 784.797 82.4271 780.214 Q79.2559 775.608 79.2559 766.881 Q79.2559 758.686 83.1447 753.825 Q87.0336 748.941 93.5845 748.941 Q95.3437 748.941 97.1261 749.288 Q98.9317 749.635 100.876 750.33 Z\" fill=\"#000000\" fill-rule=\"nonzero\" fill-opacity=\"1\" /><path clip-path=\"url(#clip040)\" d=\"M121.177 752.645 Q117.566 752.645 115.737 756.209 Q113.932 759.751 113.932 766.881 Q113.932 773.987 115.737 777.552 Q117.566 781.094 121.177 781.094 Q124.811 781.094 126.617 777.552 Q128.445 773.987 128.445 766.881 Q128.445 759.751 126.617 756.209 Q124.811 752.645 121.177 752.645 M121.177 748.941 Q126.987 748.941 130.043 753.547 Q133.121 758.131 133.121 766.881 Q133.121 775.608 130.043 780.214 Q126.987 784.797 121.177 784.797 Q115.367 784.797 112.288 780.214 Q109.233 775.608 109.233 766.881 Q109.233 758.131 112.288 753.547 Q115.367 748.941 121.177 748.941 Z\" fill=\"#000000\" fill-rule=\"nonzero\" fill-opacity=\"1\" /><path clip-path=\"url(#clip040)\" d=\"M91.0151 527.847 Q87.6817 527.847 85.7605 529.629 Q83.8623 531.412 83.8623 534.537 Q83.8623 537.662 85.7605 539.444 Q87.6817 541.226 91.0151 541.226 Q94.3484 541.226 96.2697 539.444 Q98.1909 537.638 98.1909 534.537 Q98.1909 531.412 96.2697 529.629 Q94.3715 527.847 91.0151 527.847 M86.3392 525.856 Q83.3299 525.115 81.6401 523.055 Q79.9735 520.995 79.9735 518.032 Q79.9735 513.888 82.9133 511.481 Q85.8762 509.074 91.0151 509.074 Q96.1771 509.074 99.1169 511.481 Q102.057 513.888 102.057 518.032 Q102.057 520.995 100.367 523.055 Q98.7002 525.115 95.7141 525.856 Q99.0937 526.643 100.969 528.935 Q102.867 531.226 102.867 534.537 Q102.867 539.56 99.7882 542.245 Q96.7326 544.93 91.0151 544.93 Q85.2975 544.93 82.2188 542.245 Q79.1633 539.56 79.1633 534.537 Q79.1633 531.226 81.0614 528.935 Q82.9595 526.643 86.3392 525.856 M84.6262 518.472 Q84.6262 521.157 86.2929 522.662 Q87.9827 524.166 91.0151 524.166 Q94.0243 524.166 95.7141 522.662 Q97.4271 521.157 97.4271 518.472 Q97.4271 515.787 95.7141 514.282 Q94.0243 512.777 91.0151 512.777 Q87.9827 512.777 86.2929 514.282 Q84.6262 515.787 84.6262 518.472 Z\" fill=\"#000000\" fill-rule=\"nonzero\" fill-opacity=\"1\" /><path clip-path=\"url(#clip040)\" d=\"M121.177 512.777 Q117.566 512.777 115.737 516.342 Q113.932 519.884 113.932 527.013 Q113.932 534.12 115.737 537.685 Q117.566 541.226 121.177 541.226 Q124.811 541.226 126.617 537.685 Q128.445 534.12 128.445 527.013 Q128.445 519.884 126.617 516.342 Q124.811 512.777 121.177 512.777 M121.177 509.074 Q126.987 509.074 130.043 513.68 Q133.121 518.263 133.121 527.013 Q133.121 535.74 130.043 540.347 Q126.987 544.93 121.177 544.93 Q115.367 544.93 112.288 540.347 Q109.233 535.74 109.233 527.013 Q109.233 518.263 112.288 513.68 Q115.367 509.074 121.177 509.074 Z\" fill=\"#000000\" fill-rule=\"nonzero\" fill-opacity=\"1\" /><path clip-path=\"url(#clip040)\" d=\"M51.6634 300.456 L59.3023 300.456 L59.3023 274.091 L50.9921 275.757 L50.9921 271.498 L59.256 269.831 L63.9319 269.831 L63.9319 300.456 L71.5707 300.456 L71.5707 304.391 L51.6634 304.391 L51.6634 300.456 Z\" fill=\"#000000\" fill-rule=\"nonzero\" fill-opacity=\"1\" /><path clip-path=\"url(#clip040)\" d=\"M91.0151 272.91 Q87.404 272.91 85.5753 276.475 Q83.7697 280.017 83.7697 287.146 Q83.7697 294.253 85.5753 297.817 Q87.404 301.359 91.0151 301.359 Q94.6493 301.359 96.4548 297.817 Q98.2835 294.253 98.2835 287.146 Q98.2835 280.017 96.4548 276.475 Q94.6493 272.91 91.0151 272.91 M91.0151 269.206 Q96.8252 269.206 99.8808 273.813 Q102.959 278.396 102.959 287.146 Q102.959 295.873 99.8808 300.479 Q96.8252 305.063 91.0151 305.063 Q85.2049 305.063 82.1262 300.479 Q79.0707 295.873 79.0707 287.146 Q79.0707 278.396 82.1262 273.813 Q85.2049 269.206 91.0151 269.206 Z\" fill=\"#000000\" fill-rule=\"nonzero\" fill-opacity=\"1\" /><path clip-path=\"url(#clip040)\" d=\"M121.177 272.91 Q117.566 272.91 115.737 276.475 Q113.932 280.017 113.932 287.146 Q113.932 294.253 115.737 297.817 Q117.566 301.359 121.177 301.359 Q124.811 301.359 126.617 297.817 Q128.445 294.253 128.445 287.146 Q128.445 280.017 126.617 276.475 Q124.811 272.91 121.177 272.91 M121.177 269.206 Q126.987 269.206 130.043 273.813 Q133.121 278.396 133.121 287.146 Q133.121 295.873 130.043 300.479 Q126.987 305.063 121.177 305.063 Q115.367 305.063 112.288 300.479 Q109.233 295.873 109.233 287.146 Q109.233 278.396 112.288 273.813 Q115.367 269.206 121.177 269.206 Z\" fill=\"#000000\" fill-rule=\"nonzero\" fill-opacity=\"1\" /><path clip-path=\"url(#clip040)\" d=\"M51.6634 60.5889 L59.3023 60.5889 L59.3023 34.2233 L50.9921 35.89 L50.9921 31.6308 L59.256 29.9641 L63.9319 29.9641 L63.9319 60.5889 L71.5707 60.5889 L71.5707 64.5241 L51.6634 64.5241 L51.6634 60.5889 Z\" fill=\"#000000\" fill-rule=\"nonzero\" fill-opacity=\"1\" /><path clip-path=\"url(#clip040)\" d=\"M85.0429 60.5889 L101.362 60.5889 L101.362 64.5241 L79.4179 64.5241 L79.4179 60.5889 Q82.0799 57.8343 86.6632 53.2047 Q91.2697 48.552 92.4502 47.2094 Q94.6956 44.6862 95.5752 42.9501 Q96.478 41.1909 96.478 39.5011 Q96.478 36.7465 94.5336 35.0104 Q92.6123 33.2743 89.5104 33.2743 Q87.3114 33.2743 84.8577 34.0381 Q82.4271 34.802 79.6494 36.3529 L79.6494 31.6308 Q82.4734 30.4965 84.9271 29.9178 Q87.3808 29.3391 89.4178 29.3391 Q94.7882 29.3391 97.9826 32.0243 Q101.177 34.7094 101.177 39.2002 Q101.177 41.3298 100.367 43.2511 Q99.5798 45.1492 97.4734 47.7418 Q96.8947 48.4131 93.7928 51.6306 Q90.691 54.8251 85.0429 60.5889 Z\" fill=\"#000000\" fill-rule=\"nonzero\" fill-opacity=\"1\" /><path clip-path=\"url(#clip040)\" d=\"M121.177 33.0428 Q117.566 33.0428 115.737 36.6076 Q113.932 40.1492 113.932 47.2788 Q113.932 54.3853 115.737 57.9501 Q117.566 61.4917 121.177 61.4917 Q124.811 61.4917 126.617 57.9501 Q128.445 54.3853 128.445 47.2788 Q128.445 40.1492 126.617 36.6076 Q124.811 33.0428 121.177 33.0428 M121.177 29.3391 Q126.987 29.3391 130.043 33.9456 Q133.121 38.5289 133.121 47.2788 Q133.121 56.0056 130.043 60.6121 Q126.987 65.1954 121.177 65.1954 Q115.367 65.1954 112.288 60.6121 Q109.233 56.0056 109.233 47.2788 Q109.233 38.5289 112.288 33.9456 Q115.367 29.3391 121.177 29.3391 Z\" fill=\"#000000\" fill-rule=\"nonzero\" fill-opacity=\"1\" /><path clip-path=\"url(#clip042)\" d=\"M289.225 1486.45 L289.225 1486.45 L366.962 1486.45 L366.962 1486.45 L289.225 1486.45 L289.225 1486.45  Z\" fill=\"#009af9\" fill-rule=\"evenodd\" fill-opacity=\"1\"/>\n",
       "<polyline clip-path=\"url(#clip042)\" style=\"stroke:#000000; stroke-linecap:round; stroke-linejoin:round; stroke-width:4; stroke-opacity:1; fill:none\" points=\"289.225,1486.45 289.225,1486.45 366.962,1486.45 289.225,1486.45 \"/>\n",
       "<path clip-path=\"url(#clip042)\" d=\"M366.962 1486.45 L366.962 1486.45 L444.699 1486.45 L444.699 1486.45 L366.962 1486.45 L366.962 1486.45  Z\" fill=\"#009af9\" fill-rule=\"evenodd\" fill-opacity=\"1\"/>\n",
       "<polyline clip-path=\"url(#clip042)\" style=\"stroke:#000000; stroke-linecap:round; stroke-linejoin:round; stroke-width:4; stroke-opacity:1; fill:none\" points=\"366.962,1486.45 366.962,1486.45 444.699,1486.45 366.962,1486.45 \"/>\n",
       "<path clip-path=\"url(#clip042)\" d=\"M444.699 1486.45 L444.699 1486.45 L522.436 1486.45 L522.436 1486.45 L444.699 1486.45 L444.699 1486.45  Z\" fill=\"#009af9\" fill-rule=\"evenodd\" fill-opacity=\"1\"/>\n",
       "<polyline clip-path=\"url(#clip042)\" style=\"stroke:#000000; stroke-linecap:round; stroke-linejoin:round; stroke-width:4; stroke-opacity:1; fill:none\" points=\"444.699,1486.45 444.699,1486.45 522.436,1486.45 444.699,1486.45 \"/>\n",
       "<path clip-path=\"url(#clip042)\" d=\"M522.436 1438.47 L522.436 1486.45 L600.173 1486.45 L600.173 1438.47 L522.436 1438.47 L522.436 1438.47  Z\" fill=\"#009af9\" fill-rule=\"evenodd\" fill-opacity=\"1\"/>\n",
       "<polyline clip-path=\"url(#clip042)\" style=\"stroke:#000000; stroke-linecap:round; stroke-linejoin:round; stroke-width:4; stroke-opacity:1; fill:none\" points=\"522.436,1438.47 522.436,1486.45 600.173,1486.45 600.173,1438.47 522.436,1438.47 \"/>\n",
       "<path clip-path=\"url(#clip042)\" d=\"M600.173 1438.47 L600.173 1486.45 L677.911 1486.45 L677.911 1438.47 L600.173 1438.47 L600.173 1438.47  Z\" fill=\"#009af9\" fill-rule=\"evenodd\" fill-opacity=\"1\"/>\n",
       "<polyline clip-path=\"url(#clip042)\" style=\"stroke:#000000; stroke-linecap:round; stroke-linejoin:round; stroke-width:4; stroke-opacity:1; fill:none\" points=\"600.173,1438.47 600.173,1486.45 677.911,1486.45 677.911,1438.47 600.173,1438.47 \"/>\n",
       "<path clip-path=\"url(#clip042)\" d=\"M677.911 1402.49 L677.911 1486.45 L755.648 1486.45 L755.648 1402.49 L677.911 1402.49 L677.911 1402.49  Z\" fill=\"#009af9\" fill-rule=\"evenodd\" fill-opacity=\"1\"/>\n",
       "<polyline clip-path=\"url(#clip042)\" style=\"stroke:#000000; stroke-linecap:round; stroke-linejoin:round; stroke-width:4; stroke-opacity:1; fill:none\" points=\"677.911,1402.49 677.911,1486.45 755.648,1486.45 755.648,1402.49 677.911,1402.49 \"/>\n",
       "<path clip-path=\"url(#clip042)\" d=\"M755.648 1222.59 L755.648 1486.45 L833.385 1486.45 L833.385 1222.59 L755.648 1222.59 L755.648 1222.59  Z\" fill=\"#009af9\" fill-rule=\"evenodd\" fill-opacity=\"1\"/>\n",
       "<polyline clip-path=\"url(#clip042)\" style=\"stroke:#000000; stroke-linecap:round; stroke-linejoin:round; stroke-width:4; stroke-opacity:1; fill:none\" points=\"755.648,1222.59 755.648,1486.45 833.385,1486.45 833.385,1222.59 755.648,1222.59 \"/>\n",
       "<path clip-path=\"url(#clip042)\" d=\"M833.385 1270.57 L833.385 1486.45 L911.122 1486.45 L911.122 1270.57 L833.385 1270.57 L833.385 1270.57  Z\" fill=\"#009af9\" fill-rule=\"evenodd\" fill-opacity=\"1\"/>\n",
       "<polyline clip-path=\"url(#clip042)\" style=\"stroke:#000000; stroke-linecap:round; stroke-linejoin:round; stroke-width:4; stroke-opacity:1; fill:none\" points=\"833.385,1270.57 833.385,1486.45 911.122,1486.45 911.122,1270.57 833.385,1270.57 \"/>\n",
       "<path clip-path=\"url(#clip042)\" d=\"M911.122 910.766 L911.122 1486.45 L988.859 1486.45 L988.859 910.766 L911.122 910.766 L911.122 910.766  Z\" fill=\"#009af9\" fill-rule=\"evenodd\" fill-opacity=\"1\"/>\n",
       "<polyline clip-path=\"url(#clip042)\" style=\"stroke:#000000; stroke-linecap:round; stroke-linejoin:round; stroke-width:4; stroke-opacity:1; fill:none\" points=\"911.122,910.766 911.122,1486.45 988.859,1486.45 988.859,910.766 911.122,910.766 \"/>\n",
       "<path clip-path=\"url(#clip042)\" d=\"M988.859 1186.61 L988.859 1486.45 L1066.6 1486.45 L1066.6 1186.61 L988.859 1186.61 L988.859 1186.61  Z\" fill=\"#009af9\" fill-rule=\"evenodd\" fill-opacity=\"1\"/>\n",
       "<polyline clip-path=\"url(#clip042)\" style=\"stroke:#000000; stroke-linecap:round; stroke-linejoin:round; stroke-width:4; stroke-opacity:1; fill:none\" points=\"988.859,1186.61 988.859,1486.45 1066.6,1486.45 1066.6,1186.61 988.859,1186.61 \"/>\n",
       "<path clip-path=\"url(#clip042)\" d=\"M1066.6 970.733 L1066.6 1486.45 L1144.33 1486.45 L1144.33 970.733 L1066.6 970.733 L1066.6 970.733  Z\" fill=\"#009af9\" fill-rule=\"evenodd\" fill-opacity=\"1\"/>\n",
       "<polyline clip-path=\"url(#clip042)\" style=\"stroke:#000000; stroke-linecap:round; stroke-linejoin:round; stroke-width:4; stroke-opacity:1; fill:none\" points=\"1066.6,970.733 1066.6,1486.45 1144.33,1486.45 1144.33,970.733 1066.6,970.733 \"/>\n",
       "<path clip-path=\"url(#clip042)\" d=\"M1144.33 383.058 L1144.33 1486.45 L1222.07 1486.45 L1222.07 383.058 L1144.33 383.058 L1144.33 383.058  Z\" fill=\"#009af9\" fill-rule=\"evenodd\" fill-opacity=\"1\"/>\n",
       "<polyline clip-path=\"url(#clip042)\" style=\"stroke:#000000; stroke-linecap:round; stroke-linejoin:round; stroke-width:4; stroke-opacity:1; fill:none\" points=\"1144.33,383.058 1144.33,1486.45 1222.07,1486.45 1222.07,383.058 1144.33,383.058 \"/>\n",
       "<path clip-path=\"url(#clip042)\" d=\"M1222.07 143.191 L1222.07 1486.45 L1299.81 1486.45 L1299.81 143.191 L1222.07 143.191 L1222.07 143.191  Z\" fill=\"#009af9\" fill-rule=\"evenodd\" fill-opacity=\"1\"/>\n",
       "<polyline clip-path=\"url(#clip042)\" style=\"stroke:#000000; stroke-linecap:round; stroke-linejoin:round; stroke-width:4; stroke-opacity:1; fill:none\" points=\"1222.07,143.191 1222.07,1486.45 1299.81,1486.45 1299.81,143.191 1222.07,143.191 \"/>\n",
       "<path clip-path=\"url(#clip042)\" d=\"M1299.81 299.105 L1299.81 1486.45 L1377.54 1486.45 L1377.54 299.105 L1299.81 299.105 L1299.81 299.105  Z\" fill=\"#009af9\" fill-rule=\"evenodd\" fill-opacity=\"1\"/>\n",
       "<polyline clip-path=\"url(#clip042)\" style=\"stroke:#000000; stroke-linecap:round; stroke-linejoin:round; stroke-width:4; stroke-opacity:1; fill:none\" points=\"1299.81,299.105 1299.81,1486.45 1377.54,1486.45 1377.54,299.105 1299.81,299.105 \"/>\n",
       "<path clip-path=\"url(#clip042)\" d=\"M1377.54 718.873 L1377.54 1486.45 L1455.28 1486.45 L1455.28 718.873 L1377.54 718.873 L1377.54 718.873  Z\" fill=\"#009af9\" fill-rule=\"evenodd\" fill-opacity=\"1\"/>\n",
       "<polyline clip-path=\"url(#clip042)\" style=\"stroke:#000000; stroke-linecap:round; stroke-linejoin:round; stroke-width:4; stroke-opacity:1; fill:none\" points=\"1377.54,718.873 1377.54,1486.45 1455.28,1486.45 1455.28,718.873 1377.54,718.873 \"/>\n",
       "<path clip-path=\"url(#clip042)\" d=\"M1455.28 934.753 L1455.28 1486.45 L1533.02 1486.45 L1533.02 934.753 L1455.28 934.753 L1455.28 934.753  Z\" fill=\"#009af9\" fill-rule=\"evenodd\" fill-opacity=\"1\"/>\n",
       "<polyline clip-path=\"url(#clip042)\" style=\"stroke:#000000; stroke-linecap:round; stroke-linejoin:round; stroke-width:4; stroke-opacity:1; fill:none\" points=\"1455.28,934.753 1455.28,1486.45 1533.02,1486.45 1533.02,934.753 1455.28,934.753 \"/>\n",
       "<path clip-path=\"url(#clip042)\" d=\"M1533.02 1162.63 L1533.02 1486.45 L1610.76 1486.45 L1610.76 1162.63 L1533.02 1162.63 L1533.02 1162.63  Z\" fill=\"#009af9\" fill-rule=\"evenodd\" fill-opacity=\"1\"/>\n",
       "<polyline clip-path=\"url(#clip042)\" style=\"stroke:#000000; stroke-linecap:round; stroke-linejoin:round; stroke-width:4; stroke-opacity:1; fill:none\" points=\"1533.02,1162.63 1533.02,1486.45 1610.76,1486.45 1610.76,1162.63 1533.02,1162.63 \"/>\n",
       "<path clip-path=\"url(#clip042)\" d=\"M1610.76 1366.51 L1610.76 1486.45 L1688.49 1486.45 L1688.49 1366.51 L1610.76 1366.51 L1610.76 1366.51  Z\" fill=\"#009af9\" fill-rule=\"evenodd\" fill-opacity=\"1\"/>\n",
       "<polyline clip-path=\"url(#clip042)\" style=\"stroke:#000000; stroke-linecap:round; stroke-linejoin:round; stroke-width:4; stroke-opacity:1; fill:none\" points=\"1610.76,1366.51 1610.76,1486.45 1688.49,1486.45 1688.49,1366.51 1610.76,1366.51 \"/>\n",
       "<path clip-path=\"url(#clip042)\" d=\"M1688.49 1462.46 L1688.49 1486.45 L1766.23 1486.45 L1766.23 1462.46 L1688.49 1462.46 L1688.49 1462.46  Z\" fill=\"#009af9\" fill-rule=\"evenodd\" fill-opacity=\"1\"/>\n",
       "<polyline clip-path=\"url(#clip042)\" style=\"stroke:#000000; stroke-linecap:round; stroke-linejoin:round; stroke-width:4; stroke-opacity:1; fill:none\" points=\"1688.49,1462.46 1688.49,1486.45 1766.23,1486.45 1766.23,1462.46 1688.49,1462.46 \"/>\n",
       "<path clip-path=\"url(#clip042)\" d=\"M1766.23 1462.46 L1766.23 1486.45 L1843.97 1486.45 L1843.97 1462.46 L1766.23 1462.46 L1766.23 1462.46  Z\" fill=\"#009af9\" fill-rule=\"evenodd\" fill-opacity=\"1\"/>\n",
       "<polyline clip-path=\"url(#clip042)\" style=\"stroke:#000000; stroke-linecap:round; stroke-linejoin:round; stroke-width:4; stroke-opacity:1; fill:none\" points=\"1766.23,1462.46 1766.23,1486.45 1843.97,1486.45 1843.97,1462.46 1766.23,1462.46 \"/>\n",
       "<path clip-path=\"url(#clip042)\" d=\"M1843.97 1486.45 L1843.97 1486.45 L1921.7 1486.45 L1921.7 1486.45 L1843.97 1486.45 L1843.97 1486.45  Z\" fill=\"#009af9\" fill-rule=\"evenodd\" fill-opacity=\"1\"/>\n",
       "<polyline clip-path=\"url(#clip042)\" style=\"stroke:#000000; stroke-linecap:round; stroke-linejoin:round; stroke-width:4; stroke-opacity:1; fill:none\" points=\"1843.97,1486.45 1843.97,1486.45 1921.7,1486.45 1843.97,1486.45 \"/>\n",
       "<path clip-path=\"url(#clip042)\" d=\"M1921.7 1486.45 L1921.7 1486.45 L1999.44 1486.45 L1999.44 1486.45 L1921.7 1486.45 L1921.7 1486.45  Z\" fill=\"#009af9\" fill-rule=\"evenodd\" fill-opacity=\"1\"/>\n",
       "<polyline clip-path=\"url(#clip042)\" style=\"stroke:#000000; stroke-linecap:round; stroke-linejoin:round; stroke-width:4; stroke-opacity:1; fill:none\" points=\"1921.7,1486.45 1921.7,1486.45 1999.44,1486.45 1921.7,1486.45 \"/>\n",
       "<path clip-path=\"url(#clip042)\" d=\"M1999.44 1486.45 L1999.44 1486.45 L2077.18 1486.45 L2077.18 1486.45 L1999.44 1486.45 L1999.44 1486.45  Z\" fill=\"#009af9\" fill-rule=\"evenodd\" fill-opacity=\"1\"/>\n",
       "<polyline clip-path=\"url(#clip042)\" style=\"stroke:#000000; stroke-linecap:round; stroke-linejoin:round; stroke-width:4; stroke-opacity:1; fill:none\" points=\"1999.44,1486.45 1999.44,1486.45 2077.18,1486.45 1999.44,1486.45 \"/>\n",
       "<path clip-path=\"url(#clip042)\" d=\"M2077.18 1486.45 L2077.18 1486.45 L2154.92 1486.45 L2154.92 1486.45 L2077.18 1486.45 L2077.18 1486.45  Z\" fill=\"#009af9\" fill-rule=\"evenodd\" fill-opacity=\"1\"/>\n",
       "<polyline clip-path=\"url(#clip042)\" style=\"stroke:#000000; stroke-linecap:round; stroke-linejoin:round; stroke-width:4; stroke-opacity:1; fill:none\" points=\"2077.18,1486.45 2077.18,1486.45 2154.92,1486.45 2077.18,1486.45 \"/>\n",
       "<path clip-path=\"url(#clip042)\" d=\"M2154.92 1486.45 L2154.92 1486.45 L2232.65 1486.45 L2232.65 1486.45 L2154.92 1486.45 L2154.92 1486.45  Z\" fill=\"#009af9\" fill-rule=\"evenodd\" fill-opacity=\"1\"/>\n",
       "<polyline clip-path=\"url(#clip042)\" style=\"stroke:#000000; stroke-linecap:round; stroke-linejoin:round; stroke-width:4; stroke-opacity:1; fill:none\" points=\"2154.92,1486.45 2154.92,1486.45 2232.65,1486.45 2154.92,1486.45 \"/>\n",
       "<circle clip-path=\"url(#clip042)\" style=\"fill:#009af9; stroke:none; fill-opacity:0\" cx=\"328.094\" cy=\"1486.45\" r=\"2\"/>\n",
       "<circle clip-path=\"url(#clip042)\" style=\"fill:#009af9; stroke:none; fill-opacity:0\" cx=\"405.831\" cy=\"1486.45\" r=\"2\"/>\n",
       "<circle clip-path=\"url(#clip042)\" style=\"fill:#009af9; stroke:none; fill-opacity:0\" cx=\"483.568\" cy=\"1486.45\" r=\"2\"/>\n",
       "<circle clip-path=\"url(#clip042)\" style=\"fill:#009af9; stroke:none; fill-opacity:0\" cx=\"561.305\" cy=\"1438.47\" r=\"2\"/>\n",
       "<circle clip-path=\"url(#clip042)\" style=\"fill:#009af9; stroke:none; fill-opacity:0\" cx=\"639.042\" cy=\"1438.47\" r=\"2\"/>\n",
       "<circle clip-path=\"url(#clip042)\" style=\"fill:#009af9; stroke:none; fill-opacity:0\" cx=\"716.779\" cy=\"1402.49\" r=\"2\"/>\n",
       "<circle clip-path=\"url(#clip042)\" style=\"fill:#009af9; stroke:none; fill-opacity:0\" cx=\"794.516\" cy=\"1222.59\" r=\"2\"/>\n",
       "<circle clip-path=\"url(#clip042)\" style=\"fill:#009af9; stroke:none; fill-opacity:0\" cx=\"872.253\" cy=\"1270.57\" r=\"2\"/>\n",
       "<circle clip-path=\"url(#clip042)\" style=\"fill:#009af9; stroke:none; fill-opacity:0\" cx=\"949.99\" cy=\"910.766\" r=\"2\"/>\n",
       "<circle clip-path=\"url(#clip042)\" style=\"fill:#009af9; stroke:none; fill-opacity:0\" cx=\"1027.73\" cy=\"1186.61\" r=\"2\"/>\n",
       "<circle clip-path=\"url(#clip042)\" style=\"fill:#009af9; stroke:none; fill-opacity:0\" cx=\"1105.46\" cy=\"970.733\" r=\"2\"/>\n",
       "<circle clip-path=\"url(#clip042)\" style=\"fill:#009af9; stroke:none; fill-opacity:0\" cx=\"1183.2\" cy=\"383.058\" r=\"2\"/>\n",
       "<circle clip-path=\"url(#clip042)\" style=\"fill:#009af9; stroke:none; fill-opacity:0\" cx=\"1260.94\" cy=\"143.191\" r=\"2\"/>\n",
       "<circle clip-path=\"url(#clip042)\" style=\"fill:#009af9; stroke:none; fill-opacity:0\" cx=\"1338.68\" cy=\"299.105\" r=\"2\"/>\n",
       "<circle clip-path=\"url(#clip042)\" style=\"fill:#009af9; stroke:none; fill-opacity:0\" cx=\"1416.41\" cy=\"718.873\" r=\"2\"/>\n",
       "<circle clip-path=\"url(#clip042)\" style=\"fill:#009af9; stroke:none; fill-opacity:0\" cx=\"1494.15\" cy=\"934.753\" r=\"2\"/>\n",
       "<circle clip-path=\"url(#clip042)\" style=\"fill:#009af9; stroke:none; fill-opacity:0\" cx=\"1571.89\" cy=\"1162.63\" r=\"2\"/>\n",
       "<circle clip-path=\"url(#clip042)\" style=\"fill:#009af9; stroke:none; fill-opacity:0\" cx=\"1649.62\" cy=\"1366.51\" r=\"2\"/>\n",
       "<circle clip-path=\"url(#clip042)\" style=\"fill:#009af9; stroke:none; fill-opacity:0\" cx=\"1727.36\" cy=\"1462.46\" r=\"2\"/>\n",
       "<circle clip-path=\"url(#clip042)\" style=\"fill:#009af9; stroke:none; fill-opacity:0\" cx=\"1805.1\" cy=\"1462.46\" r=\"2\"/>\n",
       "<circle clip-path=\"url(#clip042)\" style=\"fill:#009af9; stroke:none; fill-opacity:0\" cx=\"1882.84\" cy=\"1486.45\" r=\"2\"/>\n",
       "<circle clip-path=\"url(#clip042)\" style=\"fill:#009af9; stroke:none; fill-opacity:0\" cx=\"1960.57\" cy=\"1486.45\" r=\"2\"/>\n",
       "<circle clip-path=\"url(#clip042)\" style=\"fill:#009af9; stroke:none; fill-opacity:0\" cx=\"2038.31\" cy=\"1486.45\" r=\"2\"/>\n",
       "<circle clip-path=\"url(#clip042)\" style=\"fill:#009af9; stroke:none; fill-opacity:0\" cx=\"2116.05\" cy=\"1486.45\" r=\"2\"/>\n",
       "<circle clip-path=\"url(#clip042)\" style=\"fill:#009af9; stroke:none; fill-opacity:0\" cx=\"2193.78\" cy=\"1486.45\" r=\"2\"/>\n",
       "</svg>\n"
      ],
      "text/html": [
       "<?xml version=\"1.0\" encoding=\"utf-8\"?>\n",
       "<svg xmlns=\"http://www.w3.org/2000/svg\" xmlns:xlink=\"http://www.w3.org/1999/xlink\" width=\"600\" height=\"400\" viewBox=\"0 0 2400 1600\">\n",
       "<defs>\n",
       "  <clipPath id=\"clip090\">\n",
       "    <rect x=\"0\" y=\"0\" width=\"2400\" height=\"1600\"/>\n",
       "  </clipPath>\n",
       "</defs>\n",
       "<path clip-path=\"url(#clip090)\" d=\"M0 1600 L2400 1600 L2400 8.88178e-14 L0 8.88178e-14  Z\" fill=\"#ffffff\" fill-rule=\"evenodd\" fill-opacity=\"1\"/>\n",
       "<defs>\n",
       "  <clipPath id=\"clip091\">\n",
       "    <rect x=\"480\" y=\"0\" width=\"1681\" height=\"1600\"/>\n",
       "  </clipPath>\n",
       "</defs>\n",
       "<path clip-path=\"url(#clip090)\" d=\"M169.121 1486.45 L2352.76 1486.45 L2352.76 47.2441 L169.121 47.2441  Z\" fill=\"#ffffff\" fill-rule=\"evenodd\" fill-opacity=\"1\"/>\n",
       "<defs>\n",
       "  <clipPath id=\"clip092\">\n",
       "    <rect x=\"169\" y=\"47\" width=\"2185\" height=\"1440\"/>\n",
       "  </clipPath>\n",
       "</defs>\n",
       "<polyline clip-path=\"url(#clip092)\" style=\"stroke:#000000; stroke-linecap:round; stroke-linejoin:round; stroke-width:2; stroke-opacity:0.1; fill:none\" points=\"483.568,1486.45 483.568,47.2441 \"/>\n",
       "<polyline clip-path=\"url(#clip092)\" style=\"stroke:#000000; stroke-linecap:round; stroke-linejoin:round; stroke-width:2; stroke-opacity:0.1; fill:none\" points=\"872.253,1486.45 872.253,47.2441 \"/>\n",
       "<polyline clip-path=\"url(#clip092)\" style=\"stroke:#000000; stroke-linecap:round; stroke-linejoin:round; stroke-width:2; stroke-opacity:0.1; fill:none\" points=\"1260.94,1486.45 1260.94,47.2441 \"/>\n",
       "<polyline clip-path=\"url(#clip092)\" style=\"stroke:#000000; stroke-linecap:round; stroke-linejoin:round; stroke-width:2; stroke-opacity:0.1; fill:none\" points=\"1649.62,1486.45 1649.62,47.2441 \"/>\n",
       "<polyline clip-path=\"url(#clip092)\" style=\"stroke:#000000; stroke-linecap:round; stroke-linejoin:round; stroke-width:2; stroke-opacity:0.1; fill:none\" points=\"2038.31,1486.45 2038.31,47.2441 \"/>\n",
       "<polyline clip-path=\"url(#clip090)\" style=\"stroke:#000000; stroke-linecap:round; stroke-linejoin:round; stroke-width:4; stroke-opacity:1; fill:none\" points=\"169.121,1486.45 2352.76,1486.45 \"/>\n",
       "<polyline clip-path=\"url(#clip090)\" style=\"stroke:#000000; stroke-linecap:round; stroke-linejoin:round; stroke-width:4; stroke-opacity:1; fill:none\" points=\"483.568,1486.45 483.568,1467.55 \"/>\n",
       "<polyline clip-path=\"url(#clip090)\" style=\"stroke:#000000; stroke-linecap:round; stroke-linejoin:round; stroke-width:4; stroke-opacity:1; fill:none\" points=\"872.253,1486.45 872.253,1467.55 \"/>\n",
       "<polyline clip-path=\"url(#clip090)\" style=\"stroke:#000000; stroke-linecap:round; stroke-linejoin:round; stroke-width:4; stroke-opacity:1; fill:none\" points=\"1260.94,1486.45 1260.94,1467.55 \"/>\n",
       "<polyline clip-path=\"url(#clip090)\" style=\"stroke:#000000; stroke-linecap:round; stroke-linejoin:round; stroke-width:4; stroke-opacity:1; fill:none\" points=\"1649.62,1486.45 1649.62,1467.55 \"/>\n",
       "<polyline clip-path=\"url(#clip090)\" style=\"stroke:#000000; stroke-linecap:round; stroke-linejoin:round; stroke-width:4; stroke-opacity:1; fill:none\" points=\"2038.31,1486.45 2038.31,1467.55 \"/>\n",
       "<path clip-path=\"url(#clip090)\" d=\"M445.871 1517.37 Q442.26 1517.37 440.431 1520.93 Q438.626 1524.47 438.626 1531.6 Q438.626 1538.71 440.431 1542.27 Q442.26 1545.82 445.871 1545.82 Q449.505 1545.82 451.311 1542.27 Q453.14 1538.71 453.14 1531.6 Q453.14 1524.47 451.311 1520.93 Q449.505 1517.37 445.871 1517.37 M445.871 1513.66 Q451.681 1513.66 454.737 1518.27 Q457.816 1522.85 457.816 1531.6 Q457.816 1540.33 454.737 1544.94 Q451.681 1549.52 445.871 1549.52 Q440.061 1549.52 436.982 1544.94 Q433.927 1540.33 433.927 1531.6 Q433.927 1522.85 436.982 1518.27 Q440.061 1513.66 445.871 1513.66 Z\" fill=\"#000000\" fill-rule=\"nonzero\" fill-opacity=\"1\" /><path clip-path=\"url(#clip090)\" d=\"M466.033 1542.97 L470.917 1542.97 L470.917 1548.85 L466.033 1548.85 L466.033 1542.97 Z\" fill=\"#000000\" fill-rule=\"nonzero\" fill-opacity=\"1\" /><path clip-path=\"url(#clip090)\" d=\"M481.149 1514.29 L499.505 1514.29 L499.505 1518.22 L485.431 1518.22 L485.431 1526.7 Q486.45 1526.35 487.468 1526.19 Q488.487 1526 489.505 1526 Q495.292 1526 498.672 1529.17 Q502.052 1532.34 502.052 1537.76 Q502.052 1543.34 498.579 1546.44 Q495.107 1549.52 488.788 1549.52 Q486.612 1549.52 484.343 1549.15 Q482.098 1548.78 479.691 1548.04 L479.691 1543.34 Q481.774 1544.47 483.996 1545.03 Q486.218 1545.58 488.695 1545.58 Q492.7 1545.58 495.038 1543.48 Q497.376 1541.37 497.376 1537.76 Q497.376 1534.15 495.038 1532.04 Q492.7 1529.94 488.695 1529.94 Q486.82 1529.94 484.945 1530.35 Q483.093 1530.77 481.149 1531.65 L481.149 1514.29 Z\" fill=\"#000000\" fill-rule=\"nonzero\" fill-opacity=\"1\" /><path clip-path=\"url(#clip090)\" d=\"M521.264 1517.37 Q517.653 1517.37 515.825 1520.93 Q514.019 1524.47 514.019 1531.6 Q514.019 1538.71 515.825 1542.27 Q517.653 1545.82 521.264 1545.82 Q524.899 1545.82 526.704 1542.27 Q528.533 1538.71 528.533 1531.6 Q528.533 1524.47 526.704 1520.93 Q524.899 1517.37 521.264 1517.37 M521.264 1513.66 Q527.075 1513.66 530.13 1518.27 Q533.209 1522.85 533.209 1531.6 Q533.209 1540.33 530.13 1544.94 Q527.075 1549.52 521.264 1549.52 Q515.454 1549.52 512.376 1544.94 Q509.32 1540.33 509.32 1531.6 Q509.32 1522.85 512.376 1518.27 Q515.454 1513.66 521.264 1513.66 Z\" fill=\"#000000\" fill-rule=\"nonzero\" fill-opacity=\"1\" /><path clip-path=\"url(#clip090)\" d=\"M835.054 1517.37 Q831.443 1517.37 829.615 1520.93 Q827.809 1524.47 827.809 1531.6 Q827.809 1538.71 829.615 1542.27 Q831.443 1545.82 835.054 1545.82 Q838.689 1545.82 840.494 1542.27 Q842.323 1538.71 842.323 1531.6 Q842.323 1524.47 840.494 1520.93 Q838.689 1517.37 835.054 1517.37 M835.054 1513.66 Q840.864 1513.66 843.92 1518.27 Q846.999 1522.85 846.999 1531.6 Q846.999 1540.33 843.92 1544.94 Q840.864 1549.52 835.054 1549.52 Q829.244 1549.52 826.165 1544.94 Q823.11 1540.33 823.11 1531.6 Q823.11 1522.85 826.165 1518.27 Q829.244 1513.66 835.054 1513.66 Z\" fill=\"#000000\" fill-rule=\"nonzero\" fill-opacity=\"1\" /><path clip-path=\"url(#clip090)\" d=\"M855.216 1542.97 L860.1 1542.97 L860.1 1548.85 L855.216 1548.85 L855.216 1542.97 Z\" fill=\"#000000\" fill-rule=\"nonzero\" fill-opacity=\"1\" /><path clip-path=\"url(#clip090)\" d=\"M869.105 1514.29 L891.327 1514.29 L891.327 1516.28 L878.781 1548.85 L873.897 1548.85 L885.702 1518.22 L869.105 1518.22 L869.105 1514.29 Z\" fill=\"#000000\" fill-rule=\"nonzero\" fill-opacity=\"1\" /><path clip-path=\"url(#clip090)\" d=\"M900.494 1514.29 L918.85 1514.29 L918.85 1518.22 L904.776 1518.22 L904.776 1526.7 Q905.795 1526.35 906.813 1526.19 Q907.832 1526 908.85 1526 Q914.637 1526 918.017 1529.17 Q921.396 1532.34 921.396 1537.76 Q921.396 1543.34 917.924 1546.44 Q914.452 1549.52 908.133 1549.52 Q905.957 1549.52 903.688 1549.15 Q901.443 1548.78 899.035 1548.04 L899.035 1543.34 Q901.119 1544.47 903.341 1545.03 Q905.563 1545.58 908.04 1545.58 Q912.045 1545.58 914.383 1543.48 Q916.721 1541.37 916.721 1537.76 Q916.721 1534.15 914.383 1532.04 Q912.045 1529.94 908.04 1529.94 Q906.165 1529.94 904.29 1530.35 Q902.438 1530.77 900.494 1531.65 L900.494 1514.29 Z\" fill=\"#000000\" fill-rule=\"nonzero\" fill-opacity=\"1\" /><path clip-path=\"url(#clip090)\" d=\"M1213.01 1544.91 L1220.65 1544.91 L1220.65 1518.55 L1212.34 1520.21 L1212.34 1515.95 L1220.6 1514.29 L1225.28 1514.29 L1225.28 1544.91 L1232.92 1544.91 L1232.92 1548.85 L1213.01 1548.85 L1213.01 1544.91 Z\" fill=\"#000000\" fill-rule=\"nonzero\" fill-opacity=\"1\" /><path clip-path=\"url(#clip090)\" d=\"M1242.36 1542.97 L1247.25 1542.97 L1247.25 1548.85 L1242.36 1548.85 L1242.36 1542.97 Z\" fill=\"#000000\" fill-rule=\"nonzero\" fill-opacity=\"1\" /><path clip-path=\"url(#clip090)\" d=\"M1267.43 1517.37 Q1263.82 1517.37 1261.99 1520.93 Q1260.19 1524.47 1260.19 1531.6 Q1260.19 1538.71 1261.99 1542.27 Q1263.82 1545.82 1267.43 1545.82 Q1271.07 1545.82 1272.87 1542.27 Q1274.7 1538.71 1274.7 1531.6 Q1274.7 1524.47 1272.87 1520.93 Q1271.07 1517.37 1267.43 1517.37 M1267.43 1513.66 Q1273.24 1513.66 1276.3 1518.27 Q1279.38 1522.85 1279.38 1531.6 Q1279.38 1540.33 1276.3 1544.94 Q1273.24 1549.52 1267.43 1549.52 Q1261.62 1549.52 1258.54 1544.94 Q1255.49 1540.33 1255.49 1531.6 Q1255.49 1522.85 1258.54 1518.27 Q1261.62 1513.66 1267.43 1513.66 Z\" fill=\"#000000\" fill-rule=\"nonzero\" fill-opacity=\"1\" /><path clip-path=\"url(#clip090)\" d=\"M1297.59 1517.37 Q1293.98 1517.37 1292.15 1520.93 Q1290.35 1524.47 1290.35 1531.6 Q1290.35 1538.71 1292.15 1542.27 Q1293.98 1545.82 1297.59 1545.82 Q1301.23 1545.82 1303.03 1542.27 Q1304.86 1538.71 1304.86 1531.6 Q1304.86 1524.47 1303.03 1520.93 Q1301.23 1517.37 1297.59 1517.37 M1297.59 1513.66 Q1303.4 1513.66 1306.46 1518.27 Q1309.54 1522.85 1309.54 1531.6 Q1309.54 1540.33 1306.46 1544.94 Q1303.4 1549.52 1297.59 1549.52 Q1291.78 1549.52 1288.7 1544.94 Q1285.65 1540.33 1285.65 1531.6 Q1285.65 1522.85 1288.7 1518.27 Q1291.78 1513.66 1297.59 1513.66 Z\" fill=\"#000000\" fill-rule=\"nonzero\" fill-opacity=\"1\" /><path clip-path=\"url(#clip090)\" d=\"M1602.19 1544.91 L1609.83 1544.91 L1609.83 1518.55 L1601.52 1520.21 L1601.52 1515.95 L1609.79 1514.29 L1614.46 1514.29 L1614.46 1544.91 L1622.1 1544.91 L1622.1 1548.85 L1602.19 1548.85 L1602.19 1544.91 Z\" fill=\"#000000\" fill-rule=\"nonzero\" fill-opacity=\"1\" /><path clip-path=\"url(#clip090)\" d=\"M1631.55 1542.97 L1636.43 1542.97 L1636.43 1548.85 L1631.55 1548.85 L1631.55 1542.97 Z\" fill=\"#000000\" fill-rule=\"nonzero\" fill-opacity=\"1\" /><path clip-path=\"url(#clip090)\" d=\"M1650.64 1544.91 L1666.96 1544.91 L1666.96 1548.85 L1645.02 1548.85 L1645.02 1544.91 Q1647.68 1542.16 1652.26 1537.53 Q1656.87 1532.88 1658.05 1531.53 Q1660.3 1529.01 1661.17 1527.27 Q1662.08 1525.51 1662.08 1523.82 Q1662.08 1521.07 1660.13 1519.33 Q1658.21 1517.6 1655.11 1517.6 Q1652.91 1517.6 1650.46 1518.36 Q1648.03 1519.13 1645.25 1520.68 L1645.25 1515.95 Q1648.07 1514.82 1650.53 1514.24 Q1652.98 1513.66 1655.02 1513.66 Q1660.39 1513.66 1663.58 1516.35 Q1666.78 1519.03 1666.78 1523.52 Q1666.78 1525.65 1665.97 1527.57 Q1665.18 1529.47 1663.07 1532.07 Q1662.49 1532.74 1659.39 1535.95 Q1656.29 1539.15 1650.64 1544.91 Z\" fill=\"#000000\" fill-rule=\"nonzero\" fill-opacity=\"1\" /><path clip-path=\"url(#clip090)\" d=\"M1676.82 1514.29 L1695.18 1514.29 L1695.18 1518.22 L1681.11 1518.22 L1681.11 1526.7 Q1682.12 1526.35 1683.14 1526.19 Q1684.16 1526 1685.18 1526 Q1690.97 1526 1694.35 1529.17 Q1697.73 1532.34 1697.73 1537.76 Q1697.73 1543.34 1694.25 1546.44 Q1690.78 1549.52 1684.46 1549.52 Q1682.29 1549.52 1680.02 1549.15 Q1677.77 1548.78 1675.36 1548.04 L1675.36 1543.34 Q1677.45 1544.47 1679.67 1545.03 Q1681.89 1545.58 1684.37 1545.58 Q1688.37 1545.58 1690.71 1543.48 Q1693.05 1541.37 1693.05 1537.76 Q1693.05 1534.15 1690.71 1532.04 Q1688.37 1529.94 1684.37 1529.94 Q1682.49 1529.94 1680.62 1530.35 Q1678.77 1530.77 1676.82 1531.65 L1676.82 1514.29 Z\" fill=\"#000000\" fill-rule=\"nonzero\" fill-opacity=\"1\" /><path clip-path=\"url(#clip090)\" d=\"M1990.38 1544.91 L1998.02 1544.91 L1998.02 1518.55 L1989.71 1520.21 L1989.71 1515.95 L1997.97 1514.29 L2002.65 1514.29 L2002.65 1544.91 L2010.29 1544.91 L2010.29 1548.85 L1990.38 1548.85 L1990.38 1544.91 Z\" fill=\"#000000\" fill-rule=\"nonzero\" fill-opacity=\"1\" /><path clip-path=\"url(#clip090)\" d=\"M2019.73 1542.97 L2024.62 1542.97 L2024.62 1548.85 L2019.73 1548.85 L2019.73 1542.97 Z\" fill=\"#000000\" fill-rule=\"nonzero\" fill-opacity=\"1\" /><path clip-path=\"url(#clip090)\" d=\"M2034.85 1514.29 L2053.21 1514.29 L2053.21 1518.22 L2039.13 1518.22 L2039.13 1526.7 Q2040.15 1526.35 2041.17 1526.19 Q2042.19 1526 2043.21 1526 Q2048.99 1526 2052.37 1529.17 Q2055.75 1532.34 2055.75 1537.76 Q2055.75 1543.34 2052.28 1546.44 Q2048.81 1549.52 2042.49 1549.52 Q2040.31 1549.52 2038.04 1549.15 Q2035.8 1548.78 2033.39 1548.04 L2033.39 1543.34 Q2035.47 1544.47 2037.7 1545.03 Q2039.92 1545.58 2042.4 1545.58 Q2046.4 1545.58 2048.74 1543.48 Q2051.08 1541.37 2051.08 1537.76 Q2051.08 1534.15 2048.74 1532.04 Q2046.4 1529.94 2042.4 1529.94 Q2040.52 1529.94 2038.65 1530.35 Q2036.79 1530.77 2034.85 1531.65 L2034.85 1514.29 Z\" fill=\"#000000\" fill-rule=\"nonzero\" fill-opacity=\"1\" /><path clip-path=\"url(#clip090)\" d=\"M2074.96 1517.37 Q2071.35 1517.37 2069.52 1520.93 Q2067.72 1524.47 2067.72 1531.6 Q2067.72 1538.71 2069.52 1542.27 Q2071.35 1545.82 2074.96 1545.82 Q2078.6 1545.82 2080.4 1542.27 Q2082.23 1538.71 2082.23 1531.6 Q2082.23 1524.47 2080.4 1520.93 Q2078.6 1517.37 2074.96 1517.37 M2074.96 1513.66 Q2080.77 1513.66 2083.83 1518.27 Q2086.91 1522.85 2086.91 1531.6 Q2086.91 1540.33 2083.83 1544.94 Q2080.77 1549.52 2074.96 1549.52 Q2069.15 1549.52 2066.08 1544.94 Q2063.02 1540.33 2063.02 1531.6 Q2063.02 1522.85 2066.08 1518.27 Q2069.15 1513.66 2074.96 1513.66 Z\" fill=\"#000000\" fill-rule=\"nonzero\" fill-opacity=\"1\" /><polyline clip-path=\"url(#clip092)\" style=\"stroke:#000000; stroke-linecap:round; stroke-linejoin:round; stroke-width:2; stroke-opacity:0.1; fill:none\" points=\"169.121,1486.45 2352.76,1486.45 \"/>\n",
       "<polyline clip-path=\"url(#clip092)\" style=\"stroke:#000000; stroke-linecap:round; stroke-linejoin:round; stroke-width:2; stroke-opacity:0.1; fill:none\" points=\"169.121,1246.58 2352.76,1246.58 \"/>\n",
       "<polyline clip-path=\"url(#clip092)\" style=\"stroke:#000000; stroke-linecap:round; stroke-linejoin:round; stroke-width:2; stroke-opacity:0.1; fill:none\" points=\"169.121,1006.71 2352.76,1006.71 \"/>\n",
       "<polyline clip-path=\"url(#clip092)\" style=\"stroke:#000000; stroke-linecap:round; stroke-linejoin:round; stroke-width:2; stroke-opacity:0.1; fill:none\" points=\"169.121,766.846 2352.76,766.846 \"/>\n",
       "<polyline clip-path=\"url(#clip092)\" style=\"stroke:#000000; stroke-linecap:round; stroke-linejoin:round; stroke-width:2; stroke-opacity:0.1; fill:none\" points=\"169.121,526.979 2352.76,526.979 \"/>\n",
       "<polyline clip-path=\"url(#clip092)\" style=\"stroke:#000000; stroke-linecap:round; stroke-linejoin:round; stroke-width:2; stroke-opacity:0.1; fill:none\" points=\"169.121,287.111 2352.76,287.111 \"/>\n",
       "<polyline clip-path=\"url(#clip092)\" style=\"stroke:#000000; stroke-linecap:round; stroke-linejoin:round; stroke-width:2; stroke-opacity:0.1; fill:none\" points=\"169.121,47.2441 2352.76,47.2441 \"/>\n",
       "<polyline clip-path=\"url(#clip090)\" style=\"stroke:#000000; stroke-linecap:round; stroke-linejoin:round; stroke-width:4; stroke-opacity:1; fill:none\" points=\"169.121,1486.45 169.121,47.2441 \"/>\n",
       "<polyline clip-path=\"url(#clip090)\" style=\"stroke:#000000; stroke-linecap:round; stroke-linejoin:round; stroke-width:4; stroke-opacity:1; fill:none\" points=\"169.121,1486.45 188.019,1486.45 \"/>\n",
       "<polyline clip-path=\"url(#clip090)\" style=\"stroke:#000000; stroke-linecap:round; stroke-linejoin:round; stroke-width:4; stroke-opacity:1; fill:none\" points=\"169.121,1246.58 188.019,1246.58 \"/>\n",
       "<polyline clip-path=\"url(#clip090)\" style=\"stroke:#000000; stroke-linecap:round; stroke-linejoin:round; stroke-width:4; stroke-opacity:1; fill:none\" points=\"169.121,1006.71 188.019,1006.71 \"/>\n",
       "<polyline clip-path=\"url(#clip090)\" style=\"stroke:#000000; stroke-linecap:round; stroke-linejoin:round; stroke-width:4; stroke-opacity:1; fill:none\" points=\"169.121,766.846 188.019,766.846 \"/>\n",
       "<polyline clip-path=\"url(#clip090)\" style=\"stroke:#000000; stroke-linecap:round; stroke-linejoin:round; stroke-width:4; stroke-opacity:1; fill:none\" points=\"169.121,526.979 188.019,526.979 \"/>\n",
       "<polyline clip-path=\"url(#clip090)\" style=\"stroke:#000000; stroke-linecap:round; stroke-linejoin:round; stroke-width:4; stroke-opacity:1; fill:none\" points=\"169.121,287.111 188.019,287.111 \"/>\n",
       "<polyline clip-path=\"url(#clip090)\" style=\"stroke:#000000; stroke-linecap:round; stroke-linejoin:round; stroke-width:4; stroke-opacity:1; fill:none\" points=\"169.121,47.2441 188.019,47.2441 \"/>\n",
       "<path clip-path=\"url(#clip090)\" d=\"M121.177 1472.25 Q117.566 1472.25 115.737 1475.81 Q113.932 1479.35 113.932 1486.48 Q113.932 1493.59 115.737 1497.15 Q117.566 1500.7 121.177 1500.7 Q124.811 1500.7 126.617 1497.15 Q128.445 1493.59 128.445 1486.48 Q128.445 1479.35 126.617 1475.81 Q124.811 1472.25 121.177 1472.25 M121.177 1468.54 Q126.987 1468.54 130.043 1473.15 Q133.121 1477.73 133.121 1486.48 Q133.121 1495.21 130.043 1499.82 Q126.987 1504.4 121.177 1504.4 Q115.367 1504.4 112.288 1499.82 Q109.233 1495.21 109.233 1486.48 Q109.233 1477.73 112.288 1473.15 Q115.367 1468.54 121.177 1468.54 Z\" fill=\"#000000\" fill-rule=\"nonzero\" fill-opacity=\"1\" /><path clip-path=\"url(#clip090)\" d=\"M85.0429 1259.93 L101.362 1259.93 L101.362 1263.86 L79.4179 1263.86 L79.4179 1259.93 Q82.0799 1257.17 86.6632 1252.54 Q91.2697 1247.89 92.4502 1246.55 Q94.6956 1244.02 95.5752 1242.29 Q96.478 1240.53 96.478 1238.84 Q96.478 1236.08 94.5336 1234.35 Q92.6123 1232.61 89.5104 1232.61 Q87.3114 1232.61 84.8577 1233.37 Q82.4271 1234.14 79.6494 1235.69 L79.6494 1230.97 Q82.4734 1229.83 84.9271 1229.25 Q87.3808 1228.68 89.4178 1228.68 Q94.7882 1228.68 97.9826 1231.36 Q101.177 1234.05 101.177 1238.54 Q101.177 1240.67 100.367 1242.59 Q99.5798 1244.49 97.4734 1247.08 Q96.8947 1247.75 93.7928 1250.97 Q90.691 1254.16 85.0429 1259.93 Z\" fill=\"#000000\" fill-rule=\"nonzero\" fill-opacity=\"1\" /><path clip-path=\"url(#clip090)\" d=\"M121.177 1232.38 Q117.566 1232.38 115.737 1235.94 Q113.932 1239.49 113.932 1246.62 Q113.932 1253.72 115.737 1257.29 Q117.566 1260.83 121.177 1260.83 Q124.811 1260.83 126.617 1257.29 Q128.445 1253.72 128.445 1246.62 Q128.445 1239.49 126.617 1235.94 Q124.811 1232.38 121.177 1232.38 M121.177 1228.68 Q126.987 1228.68 130.043 1233.28 Q133.121 1237.87 133.121 1246.62 Q133.121 1255.34 130.043 1259.95 Q126.987 1264.53 121.177 1264.53 Q115.367 1264.53 112.288 1259.95 Q109.233 1255.34 109.233 1246.62 Q109.233 1237.87 112.288 1233.28 Q115.367 1228.68 121.177 1228.68 Z\" fill=\"#000000\" fill-rule=\"nonzero\" fill-opacity=\"1\" /><path clip-path=\"url(#clip090)\" d=\"M93.8623 993.507 L82.0568 1011.96 L93.8623 1011.96 L93.8623 993.507 M92.6354 989.433 L98.515 989.433 L98.515 1011.96 L103.446 1011.96 L103.446 1015.85 L98.515 1015.85 L98.515 1023.99 L93.8623 1023.99 L93.8623 1015.85 L78.2605 1015.85 L78.2605 1011.33 L92.6354 989.433 Z\" fill=\"#000000\" fill-rule=\"nonzero\" fill-opacity=\"1\" /><path clip-path=\"url(#clip090)\" d=\"M121.177 992.512 Q117.566 992.512 115.737 996.077 Q113.932 999.618 113.932 1006.75 Q113.932 1013.85 115.737 1017.42 Q117.566 1020.96 121.177 1020.96 Q124.811 1020.96 126.617 1017.42 Q128.445 1013.85 128.445 1006.75 Q128.445 999.618 126.617 996.077 Q124.811 992.512 121.177 992.512 M121.177 988.808 Q126.987 988.808 130.043 993.415 Q133.121 997.998 133.121 1006.75 Q133.121 1015.47 130.043 1020.08 Q126.987 1024.66 121.177 1024.66 Q115.367 1024.66 112.288 1020.08 Q109.233 1015.47 109.233 1006.75 Q109.233 997.998 112.288 993.415 Q115.367 988.808 121.177 988.808 Z\" fill=\"#000000\" fill-rule=\"nonzero\" fill-opacity=\"1\" /><path clip-path=\"url(#clip090)\" d=\"M91.5938 764.983 Q88.4456 764.983 86.5938 767.135 Q84.7651 769.288 84.7651 773.038 Q84.7651 776.765 86.5938 778.941 Q88.4456 781.094 91.5938 781.094 Q94.7419 781.094 96.5706 778.941 Q98.4224 776.765 98.4224 773.038 Q98.4224 769.288 96.5706 767.135 Q94.7419 764.983 91.5938 764.983 M100.876 750.33 L100.876 754.589 Q99.1169 753.756 97.3113 753.316 Q95.5289 752.876 93.7697 752.876 Q89.1401 752.876 86.6864 756.001 Q84.2558 759.126 83.9086 765.446 Q85.2743 763.432 87.3345 762.367 Q89.3947 761.279 91.8715 761.279 Q97.0798 761.279 100.089 764.45 Q103.121 767.598 103.121 773.038 Q103.121 778.362 99.9733 781.58 Q96.8252 784.797 91.5938 784.797 Q85.5984 784.797 82.4271 780.214 Q79.2559 775.608 79.2559 766.881 Q79.2559 758.686 83.1447 753.825 Q87.0336 748.941 93.5845 748.941 Q95.3437 748.941 97.1261 749.288 Q98.9317 749.635 100.876 750.33 Z\" fill=\"#000000\" fill-rule=\"nonzero\" fill-opacity=\"1\" /><path clip-path=\"url(#clip090)\" d=\"M121.177 752.645 Q117.566 752.645 115.737 756.209 Q113.932 759.751 113.932 766.881 Q113.932 773.987 115.737 777.552 Q117.566 781.094 121.177 781.094 Q124.811 781.094 126.617 777.552 Q128.445 773.987 128.445 766.881 Q128.445 759.751 126.617 756.209 Q124.811 752.645 121.177 752.645 M121.177 748.941 Q126.987 748.941 130.043 753.547 Q133.121 758.131 133.121 766.881 Q133.121 775.608 130.043 780.214 Q126.987 784.797 121.177 784.797 Q115.367 784.797 112.288 780.214 Q109.233 775.608 109.233 766.881 Q109.233 758.131 112.288 753.547 Q115.367 748.941 121.177 748.941 Z\" fill=\"#000000\" fill-rule=\"nonzero\" fill-opacity=\"1\" /><path clip-path=\"url(#clip090)\" d=\"M91.0151 527.847 Q87.6817 527.847 85.7605 529.629 Q83.8623 531.412 83.8623 534.537 Q83.8623 537.662 85.7605 539.444 Q87.6817 541.226 91.0151 541.226 Q94.3484 541.226 96.2697 539.444 Q98.1909 537.638 98.1909 534.537 Q98.1909 531.412 96.2697 529.629 Q94.3715 527.847 91.0151 527.847 M86.3392 525.856 Q83.3299 525.115 81.6401 523.055 Q79.9735 520.995 79.9735 518.032 Q79.9735 513.888 82.9133 511.481 Q85.8762 509.074 91.0151 509.074 Q96.1771 509.074 99.1169 511.481 Q102.057 513.888 102.057 518.032 Q102.057 520.995 100.367 523.055 Q98.7002 525.115 95.7141 525.856 Q99.0937 526.643 100.969 528.935 Q102.867 531.226 102.867 534.537 Q102.867 539.56 99.7882 542.245 Q96.7326 544.93 91.0151 544.93 Q85.2975 544.93 82.2188 542.245 Q79.1633 539.56 79.1633 534.537 Q79.1633 531.226 81.0614 528.935 Q82.9595 526.643 86.3392 525.856 M84.6262 518.472 Q84.6262 521.157 86.2929 522.662 Q87.9827 524.166 91.0151 524.166 Q94.0243 524.166 95.7141 522.662 Q97.4271 521.157 97.4271 518.472 Q97.4271 515.787 95.7141 514.282 Q94.0243 512.777 91.0151 512.777 Q87.9827 512.777 86.2929 514.282 Q84.6262 515.787 84.6262 518.472 Z\" fill=\"#000000\" fill-rule=\"nonzero\" fill-opacity=\"1\" /><path clip-path=\"url(#clip090)\" d=\"M121.177 512.777 Q117.566 512.777 115.737 516.342 Q113.932 519.884 113.932 527.013 Q113.932 534.12 115.737 537.685 Q117.566 541.226 121.177 541.226 Q124.811 541.226 126.617 537.685 Q128.445 534.12 128.445 527.013 Q128.445 519.884 126.617 516.342 Q124.811 512.777 121.177 512.777 M121.177 509.074 Q126.987 509.074 130.043 513.68 Q133.121 518.263 133.121 527.013 Q133.121 535.74 130.043 540.347 Q126.987 544.93 121.177 544.93 Q115.367 544.93 112.288 540.347 Q109.233 535.74 109.233 527.013 Q109.233 518.263 112.288 513.68 Q115.367 509.074 121.177 509.074 Z\" fill=\"#000000\" fill-rule=\"nonzero\" fill-opacity=\"1\" /><path clip-path=\"url(#clip090)\" d=\"M51.6634 300.456 L59.3023 300.456 L59.3023 274.091 L50.9921 275.757 L50.9921 271.498 L59.256 269.831 L63.9319 269.831 L63.9319 300.456 L71.5707 300.456 L71.5707 304.391 L51.6634 304.391 L51.6634 300.456 Z\" fill=\"#000000\" fill-rule=\"nonzero\" fill-opacity=\"1\" /><path clip-path=\"url(#clip090)\" d=\"M91.0151 272.91 Q87.404 272.91 85.5753 276.475 Q83.7697 280.017 83.7697 287.146 Q83.7697 294.253 85.5753 297.817 Q87.404 301.359 91.0151 301.359 Q94.6493 301.359 96.4548 297.817 Q98.2835 294.253 98.2835 287.146 Q98.2835 280.017 96.4548 276.475 Q94.6493 272.91 91.0151 272.91 M91.0151 269.206 Q96.8252 269.206 99.8808 273.813 Q102.959 278.396 102.959 287.146 Q102.959 295.873 99.8808 300.479 Q96.8252 305.063 91.0151 305.063 Q85.2049 305.063 82.1262 300.479 Q79.0707 295.873 79.0707 287.146 Q79.0707 278.396 82.1262 273.813 Q85.2049 269.206 91.0151 269.206 Z\" fill=\"#000000\" fill-rule=\"nonzero\" fill-opacity=\"1\" /><path clip-path=\"url(#clip090)\" d=\"M121.177 272.91 Q117.566 272.91 115.737 276.475 Q113.932 280.017 113.932 287.146 Q113.932 294.253 115.737 297.817 Q117.566 301.359 121.177 301.359 Q124.811 301.359 126.617 297.817 Q128.445 294.253 128.445 287.146 Q128.445 280.017 126.617 276.475 Q124.811 272.91 121.177 272.91 M121.177 269.206 Q126.987 269.206 130.043 273.813 Q133.121 278.396 133.121 287.146 Q133.121 295.873 130.043 300.479 Q126.987 305.063 121.177 305.063 Q115.367 305.063 112.288 300.479 Q109.233 295.873 109.233 287.146 Q109.233 278.396 112.288 273.813 Q115.367 269.206 121.177 269.206 Z\" fill=\"#000000\" fill-rule=\"nonzero\" fill-opacity=\"1\" /><path clip-path=\"url(#clip090)\" d=\"M51.6634 60.5889 L59.3023 60.5889 L59.3023 34.2233 L50.9921 35.89 L50.9921 31.6308 L59.256 29.9641 L63.9319 29.9641 L63.9319 60.5889 L71.5707 60.5889 L71.5707 64.5241 L51.6634 64.5241 L51.6634 60.5889 Z\" fill=\"#000000\" fill-rule=\"nonzero\" fill-opacity=\"1\" /><path clip-path=\"url(#clip090)\" d=\"M85.0429 60.5889 L101.362 60.5889 L101.362 64.5241 L79.4179 64.5241 L79.4179 60.5889 Q82.0799 57.8343 86.6632 53.2047 Q91.2697 48.552 92.4502 47.2094 Q94.6956 44.6862 95.5752 42.9501 Q96.478 41.1909 96.478 39.5011 Q96.478 36.7465 94.5336 35.0104 Q92.6123 33.2743 89.5104 33.2743 Q87.3114 33.2743 84.8577 34.0381 Q82.4271 34.802 79.6494 36.3529 L79.6494 31.6308 Q82.4734 30.4965 84.9271 29.9178 Q87.3808 29.3391 89.4178 29.3391 Q94.7882 29.3391 97.9826 32.0243 Q101.177 34.7094 101.177 39.2002 Q101.177 41.3298 100.367 43.2511 Q99.5798 45.1492 97.4734 47.7418 Q96.8947 48.4131 93.7928 51.6306 Q90.691 54.8251 85.0429 60.5889 Z\" fill=\"#000000\" fill-rule=\"nonzero\" fill-opacity=\"1\" /><path clip-path=\"url(#clip090)\" d=\"M121.177 33.0428 Q117.566 33.0428 115.737 36.6076 Q113.932 40.1492 113.932 47.2788 Q113.932 54.3853 115.737 57.9501 Q117.566 61.4917 121.177 61.4917 Q124.811 61.4917 126.617 57.9501 Q128.445 54.3853 128.445 47.2788 Q128.445 40.1492 126.617 36.6076 Q124.811 33.0428 121.177 33.0428 M121.177 29.3391 Q126.987 29.3391 130.043 33.9456 Q133.121 38.5289 133.121 47.2788 Q133.121 56.0056 130.043 60.6121 Q126.987 65.1954 121.177 65.1954 Q115.367 65.1954 112.288 60.6121 Q109.233 56.0056 109.233 47.2788 Q109.233 38.5289 112.288 33.9456 Q115.367 29.3391 121.177 29.3391 Z\" fill=\"#000000\" fill-rule=\"nonzero\" fill-opacity=\"1\" /><path clip-path=\"url(#clip092)\" d=\"M289.225 1486.45 L289.225 1486.45 L366.962 1486.45 L366.962 1486.45 L289.225 1486.45 L289.225 1486.45  Z\" fill=\"#009af9\" fill-rule=\"evenodd\" fill-opacity=\"1\"/>\n",
       "<polyline clip-path=\"url(#clip092)\" style=\"stroke:#000000; stroke-linecap:round; stroke-linejoin:round; stroke-width:4; stroke-opacity:1; fill:none\" points=\"289.225,1486.45 289.225,1486.45 366.962,1486.45 289.225,1486.45 \"/>\n",
       "<path clip-path=\"url(#clip092)\" d=\"M366.962 1486.45 L366.962 1486.45 L444.699 1486.45 L444.699 1486.45 L366.962 1486.45 L366.962 1486.45  Z\" fill=\"#009af9\" fill-rule=\"evenodd\" fill-opacity=\"1\"/>\n",
       "<polyline clip-path=\"url(#clip092)\" style=\"stroke:#000000; stroke-linecap:round; stroke-linejoin:round; stroke-width:4; stroke-opacity:1; fill:none\" points=\"366.962,1486.45 366.962,1486.45 444.699,1486.45 366.962,1486.45 \"/>\n",
       "<path clip-path=\"url(#clip092)\" d=\"M444.699 1486.45 L444.699 1486.45 L522.436 1486.45 L522.436 1486.45 L444.699 1486.45 L444.699 1486.45  Z\" fill=\"#009af9\" fill-rule=\"evenodd\" fill-opacity=\"1\"/>\n",
       "<polyline clip-path=\"url(#clip092)\" style=\"stroke:#000000; stroke-linecap:round; stroke-linejoin:round; stroke-width:4; stroke-opacity:1; fill:none\" points=\"444.699,1486.45 444.699,1486.45 522.436,1486.45 444.699,1486.45 \"/>\n",
       "<path clip-path=\"url(#clip092)\" d=\"M522.436 1438.47 L522.436 1486.45 L600.173 1486.45 L600.173 1438.47 L522.436 1438.47 L522.436 1438.47  Z\" fill=\"#009af9\" fill-rule=\"evenodd\" fill-opacity=\"1\"/>\n",
       "<polyline clip-path=\"url(#clip092)\" style=\"stroke:#000000; stroke-linecap:round; stroke-linejoin:round; stroke-width:4; stroke-opacity:1; fill:none\" points=\"522.436,1438.47 522.436,1486.45 600.173,1486.45 600.173,1438.47 522.436,1438.47 \"/>\n",
       "<path clip-path=\"url(#clip092)\" d=\"M600.173 1438.47 L600.173 1486.45 L677.911 1486.45 L677.911 1438.47 L600.173 1438.47 L600.173 1438.47  Z\" fill=\"#009af9\" fill-rule=\"evenodd\" fill-opacity=\"1\"/>\n",
       "<polyline clip-path=\"url(#clip092)\" style=\"stroke:#000000; stroke-linecap:round; stroke-linejoin:round; stroke-width:4; stroke-opacity:1; fill:none\" points=\"600.173,1438.47 600.173,1486.45 677.911,1486.45 677.911,1438.47 600.173,1438.47 \"/>\n",
       "<path clip-path=\"url(#clip092)\" d=\"M677.911 1402.49 L677.911 1486.45 L755.648 1486.45 L755.648 1402.49 L677.911 1402.49 L677.911 1402.49  Z\" fill=\"#009af9\" fill-rule=\"evenodd\" fill-opacity=\"1\"/>\n",
       "<polyline clip-path=\"url(#clip092)\" style=\"stroke:#000000; stroke-linecap:round; stroke-linejoin:round; stroke-width:4; stroke-opacity:1; fill:none\" points=\"677.911,1402.49 677.911,1486.45 755.648,1486.45 755.648,1402.49 677.911,1402.49 \"/>\n",
       "<path clip-path=\"url(#clip092)\" d=\"M755.648 1222.59 L755.648 1486.45 L833.385 1486.45 L833.385 1222.59 L755.648 1222.59 L755.648 1222.59  Z\" fill=\"#009af9\" fill-rule=\"evenodd\" fill-opacity=\"1\"/>\n",
       "<polyline clip-path=\"url(#clip092)\" style=\"stroke:#000000; stroke-linecap:round; stroke-linejoin:round; stroke-width:4; stroke-opacity:1; fill:none\" points=\"755.648,1222.59 755.648,1486.45 833.385,1486.45 833.385,1222.59 755.648,1222.59 \"/>\n",
       "<path clip-path=\"url(#clip092)\" d=\"M833.385 1270.57 L833.385 1486.45 L911.122 1486.45 L911.122 1270.57 L833.385 1270.57 L833.385 1270.57  Z\" fill=\"#009af9\" fill-rule=\"evenodd\" fill-opacity=\"1\"/>\n",
       "<polyline clip-path=\"url(#clip092)\" style=\"stroke:#000000; stroke-linecap:round; stroke-linejoin:round; stroke-width:4; stroke-opacity:1; fill:none\" points=\"833.385,1270.57 833.385,1486.45 911.122,1486.45 911.122,1270.57 833.385,1270.57 \"/>\n",
       "<path clip-path=\"url(#clip092)\" d=\"M911.122 910.766 L911.122 1486.45 L988.859 1486.45 L988.859 910.766 L911.122 910.766 L911.122 910.766  Z\" fill=\"#009af9\" fill-rule=\"evenodd\" fill-opacity=\"1\"/>\n",
       "<polyline clip-path=\"url(#clip092)\" style=\"stroke:#000000; stroke-linecap:round; stroke-linejoin:round; stroke-width:4; stroke-opacity:1; fill:none\" points=\"911.122,910.766 911.122,1486.45 988.859,1486.45 988.859,910.766 911.122,910.766 \"/>\n",
       "<path clip-path=\"url(#clip092)\" d=\"M988.859 1186.61 L988.859 1486.45 L1066.6 1486.45 L1066.6 1186.61 L988.859 1186.61 L988.859 1186.61  Z\" fill=\"#009af9\" fill-rule=\"evenodd\" fill-opacity=\"1\"/>\n",
       "<polyline clip-path=\"url(#clip092)\" style=\"stroke:#000000; stroke-linecap:round; stroke-linejoin:round; stroke-width:4; stroke-opacity:1; fill:none\" points=\"988.859,1186.61 988.859,1486.45 1066.6,1486.45 1066.6,1186.61 988.859,1186.61 \"/>\n",
       "<path clip-path=\"url(#clip092)\" d=\"M1066.6 970.733 L1066.6 1486.45 L1144.33 1486.45 L1144.33 970.733 L1066.6 970.733 L1066.6 970.733  Z\" fill=\"#009af9\" fill-rule=\"evenodd\" fill-opacity=\"1\"/>\n",
       "<polyline clip-path=\"url(#clip092)\" style=\"stroke:#000000; stroke-linecap:round; stroke-linejoin:round; stroke-width:4; stroke-opacity:1; fill:none\" points=\"1066.6,970.733 1066.6,1486.45 1144.33,1486.45 1144.33,970.733 1066.6,970.733 \"/>\n",
       "<path clip-path=\"url(#clip092)\" d=\"M1144.33 383.058 L1144.33 1486.45 L1222.07 1486.45 L1222.07 383.058 L1144.33 383.058 L1144.33 383.058  Z\" fill=\"#009af9\" fill-rule=\"evenodd\" fill-opacity=\"1\"/>\n",
       "<polyline clip-path=\"url(#clip092)\" style=\"stroke:#000000; stroke-linecap:round; stroke-linejoin:round; stroke-width:4; stroke-opacity:1; fill:none\" points=\"1144.33,383.058 1144.33,1486.45 1222.07,1486.45 1222.07,383.058 1144.33,383.058 \"/>\n",
       "<path clip-path=\"url(#clip092)\" d=\"M1222.07 143.191 L1222.07 1486.45 L1299.81 1486.45 L1299.81 143.191 L1222.07 143.191 L1222.07 143.191  Z\" fill=\"#009af9\" fill-rule=\"evenodd\" fill-opacity=\"1\"/>\n",
       "<polyline clip-path=\"url(#clip092)\" style=\"stroke:#000000; stroke-linecap:round; stroke-linejoin:round; stroke-width:4; stroke-opacity:1; fill:none\" points=\"1222.07,143.191 1222.07,1486.45 1299.81,1486.45 1299.81,143.191 1222.07,143.191 \"/>\n",
       "<path clip-path=\"url(#clip092)\" d=\"M1299.81 299.105 L1299.81 1486.45 L1377.54 1486.45 L1377.54 299.105 L1299.81 299.105 L1299.81 299.105  Z\" fill=\"#009af9\" fill-rule=\"evenodd\" fill-opacity=\"1\"/>\n",
       "<polyline clip-path=\"url(#clip092)\" style=\"stroke:#000000; stroke-linecap:round; stroke-linejoin:round; stroke-width:4; stroke-opacity:1; fill:none\" points=\"1299.81,299.105 1299.81,1486.45 1377.54,1486.45 1377.54,299.105 1299.81,299.105 \"/>\n",
       "<path clip-path=\"url(#clip092)\" d=\"M1377.54 718.873 L1377.54 1486.45 L1455.28 1486.45 L1455.28 718.873 L1377.54 718.873 L1377.54 718.873  Z\" fill=\"#009af9\" fill-rule=\"evenodd\" fill-opacity=\"1\"/>\n",
       "<polyline clip-path=\"url(#clip092)\" style=\"stroke:#000000; stroke-linecap:round; stroke-linejoin:round; stroke-width:4; stroke-opacity:1; fill:none\" points=\"1377.54,718.873 1377.54,1486.45 1455.28,1486.45 1455.28,718.873 1377.54,718.873 \"/>\n",
       "<path clip-path=\"url(#clip092)\" d=\"M1455.28 934.753 L1455.28 1486.45 L1533.02 1486.45 L1533.02 934.753 L1455.28 934.753 L1455.28 934.753  Z\" fill=\"#009af9\" fill-rule=\"evenodd\" fill-opacity=\"1\"/>\n",
       "<polyline clip-path=\"url(#clip092)\" style=\"stroke:#000000; stroke-linecap:round; stroke-linejoin:round; stroke-width:4; stroke-opacity:1; fill:none\" points=\"1455.28,934.753 1455.28,1486.45 1533.02,1486.45 1533.02,934.753 1455.28,934.753 \"/>\n",
       "<path clip-path=\"url(#clip092)\" d=\"M1533.02 1162.63 L1533.02 1486.45 L1610.76 1486.45 L1610.76 1162.63 L1533.02 1162.63 L1533.02 1162.63  Z\" fill=\"#009af9\" fill-rule=\"evenodd\" fill-opacity=\"1\"/>\n",
       "<polyline clip-path=\"url(#clip092)\" style=\"stroke:#000000; stroke-linecap:round; stroke-linejoin:round; stroke-width:4; stroke-opacity:1; fill:none\" points=\"1533.02,1162.63 1533.02,1486.45 1610.76,1486.45 1610.76,1162.63 1533.02,1162.63 \"/>\n",
       "<path clip-path=\"url(#clip092)\" d=\"M1610.76 1366.51 L1610.76 1486.45 L1688.49 1486.45 L1688.49 1366.51 L1610.76 1366.51 L1610.76 1366.51  Z\" fill=\"#009af9\" fill-rule=\"evenodd\" fill-opacity=\"1\"/>\n",
       "<polyline clip-path=\"url(#clip092)\" style=\"stroke:#000000; stroke-linecap:round; stroke-linejoin:round; stroke-width:4; stroke-opacity:1; fill:none\" points=\"1610.76,1366.51 1610.76,1486.45 1688.49,1486.45 1688.49,1366.51 1610.76,1366.51 \"/>\n",
       "<path clip-path=\"url(#clip092)\" d=\"M1688.49 1462.46 L1688.49 1486.45 L1766.23 1486.45 L1766.23 1462.46 L1688.49 1462.46 L1688.49 1462.46  Z\" fill=\"#009af9\" fill-rule=\"evenodd\" fill-opacity=\"1\"/>\n",
       "<polyline clip-path=\"url(#clip092)\" style=\"stroke:#000000; stroke-linecap:round; stroke-linejoin:round; stroke-width:4; stroke-opacity:1; fill:none\" points=\"1688.49,1462.46 1688.49,1486.45 1766.23,1486.45 1766.23,1462.46 1688.49,1462.46 \"/>\n",
       "<path clip-path=\"url(#clip092)\" d=\"M1766.23 1462.46 L1766.23 1486.45 L1843.97 1486.45 L1843.97 1462.46 L1766.23 1462.46 L1766.23 1462.46  Z\" fill=\"#009af9\" fill-rule=\"evenodd\" fill-opacity=\"1\"/>\n",
       "<polyline clip-path=\"url(#clip092)\" style=\"stroke:#000000; stroke-linecap:round; stroke-linejoin:round; stroke-width:4; stroke-opacity:1; fill:none\" points=\"1766.23,1462.46 1766.23,1486.45 1843.97,1486.45 1843.97,1462.46 1766.23,1462.46 \"/>\n",
       "<path clip-path=\"url(#clip092)\" d=\"M1843.97 1486.45 L1843.97 1486.45 L1921.7 1486.45 L1921.7 1486.45 L1843.97 1486.45 L1843.97 1486.45  Z\" fill=\"#009af9\" fill-rule=\"evenodd\" fill-opacity=\"1\"/>\n",
       "<polyline clip-path=\"url(#clip092)\" style=\"stroke:#000000; stroke-linecap:round; stroke-linejoin:round; stroke-width:4; stroke-opacity:1; fill:none\" points=\"1843.97,1486.45 1843.97,1486.45 1921.7,1486.45 1843.97,1486.45 \"/>\n",
       "<path clip-path=\"url(#clip092)\" d=\"M1921.7 1486.45 L1921.7 1486.45 L1999.44 1486.45 L1999.44 1486.45 L1921.7 1486.45 L1921.7 1486.45  Z\" fill=\"#009af9\" fill-rule=\"evenodd\" fill-opacity=\"1\"/>\n",
       "<polyline clip-path=\"url(#clip092)\" style=\"stroke:#000000; stroke-linecap:round; stroke-linejoin:round; stroke-width:4; stroke-opacity:1; fill:none\" points=\"1921.7,1486.45 1921.7,1486.45 1999.44,1486.45 1921.7,1486.45 \"/>\n",
       "<path clip-path=\"url(#clip092)\" d=\"M1999.44 1486.45 L1999.44 1486.45 L2077.18 1486.45 L2077.18 1486.45 L1999.44 1486.45 L1999.44 1486.45  Z\" fill=\"#009af9\" fill-rule=\"evenodd\" fill-opacity=\"1\"/>\n",
       "<polyline clip-path=\"url(#clip092)\" style=\"stroke:#000000; stroke-linecap:round; stroke-linejoin:round; stroke-width:4; stroke-opacity:1; fill:none\" points=\"1999.44,1486.45 1999.44,1486.45 2077.18,1486.45 1999.44,1486.45 \"/>\n",
       "<path clip-path=\"url(#clip092)\" d=\"M2077.18 1486.45 L2077.18 1486.45 L2154.92 1486.45 L2154.92 1486.45 L2077.18 1486.45 L2077.18 1486.45  Z\" fill=\"#009af9\" fill-rule=\"evenodd\" fill-opacity=\"1\"/>\n",
       "<polyline clip-path=\"url(#clip092)\" style=\"stroke:#000000; stroke-linecap:round; stroke-linejoin:round; stroke-width:4; stroke-opacity:1; fill:none\" points=\"2077.18,1486.45 2077.18,1486.45 2154.92,1486.45 2077.18,1486.45 \"/>\n",
       "<path clip-path=\"url(#clip092)\" d=\"M2154.92 1486.45 L2154.92 1486.45 L2232.65 1486.45 L2232.65 1486.45 L2154.92 1486.45 L2154.92 1486.45  Z\" fill=\"#009af9\" fill-rule=\"evenodd\" fill-opacity=\"1\"/>\n",
       "<polyline clip-path=\"url(#clip092)\" style=\"stroke:#000000; stroke-linecap:round; stroke-linejoin:round; stroke-width:4; stroke-opacity:1; fill:none\" points=\"2154.92,1486.45 2154.92,1486.45 2232.65,1486.45 2154.92,1486.45 \"/>\n",
       "<circle clip-path=\"url(#clip092)\" style=\"fill:#009af9; stroke:none; fill-opacity:0\" cx=\"328.094\" cy=\"1486.45\" r=\"2\"/>\n",
       "<circle clip-path=\"url(#clip092)\" style=\"fill:#009af9; stroke:none; fill-opacity:0\" cx=\"405.831\" cy=\"1486.45\" r=\"2\"/>\n",
       "<circle clip-path=\"url(#clip092)\" style=\"fill:#009af9; stroke:none; fill-opacity:0\" cx=\"483.568\" cy=\"1486.45\" r=\"2\"/>\n",
       "<circle clip-path=\"url(#clip092)\" style=\"fill:#009af9; stroke:none; fill-opacity:0\" cx=\"561.305\" cy=\"1438.47\" r=\"2\"/>\n",
       "<circle clip-path=\"url(#clip092)\" style=\"fill:#009af9; stroke:none; fill-opacity:0\" cx=\"639.042\" cy=\"1438.47\" r=\"2\"/>\n",
       "<circle clip-path=\"url(#clip092)\" style=\"fill:#009af9; stroke:none; fill-opacity:0\" cx=\"716.779\" cy=\"1402.49\" r=\"2\"/>\n",
       "<circle clip-path=\"url(#clip092)\" style=\"fill:#009af9; stroke:none; fill-opacity:0\" cx=\"794.516\" cy=\"1222.59\" r=\"2\"/>\n",
       "<circle clip-path=\"url(#clip092)\" style=\"fill:#009af9; stroke:none; fill-opacity:0\" cx=\"872.253\" cy=\"1270.57\" r=\"2\"/>\n",
       "<circle clip-path=\"url(#clip092)\" style=\"fill:#009af9; stroke:none; fill-opacity:0\" cx=\"949.99\" cy=\"910.766\" r=\"2\"/>\n",
       "<circle clip-path=\"url(#clip092)\" style=\"fill:#009af9; stroke:none; fill-opacity:0\" cx=\"1027.73\" cy=\"1186.61\" r=\"2\"/>\n",
       "<circle clip-path=\"url(#clip092)\" style=\"fill:#009af9; stroke:none; fill-opacity:0\" cx=\"1105.46\" cy=\"970.733\" r=\"2\"/>\n",
       "<circle clip-path=\"url(#clip092)\" style=\"fill:#009af9; stroke:none; fill-opacity:0\" cx=\"1183.2\" cy=\"383.058\" r=\"2\"/>\n",
       "<circle clip-path=\"url(#clip092)\" style=\"fill:#009af9; stroke:none; fill-opacity:0\" cx=\"1260.94\" cy=\"143.191\" r=\"2\"/>\n",
       "<circle clip-path=\"url(#clip092)\" style=\"fill:#009af9; stroke:none; fill-opacity:0\" cx=\"1338.68\" cy=\"299.105\" r=\"2\"/>\n",
       "<circle clip-path=\"url(#clip092)\" style=\"fill:#009af9; stroke:none; fill-opacity:0\" cx=\"1416.41\" cy=\"718.873\" r=\"2\"/>\n",
       "<circle clip-path=\"url(#clip092)\" style=\"fill:#009af9; stroke:none; fill-opacity:0\" cx=\"1494.15\" cy=\"934.753\" r=\"2\"/>\n",
       "<circle clip-path=\"url(#clip092)\" style=\"fill:#009af9; stroke:none; fill-opacity:0\" cx=\"1571.89\" cy=\"1162.63\" r=\"2\"/>\n",
       "<circle clip-path=\"url(#clip092)\" style=\"fill:#009af9; stroke:none; fill-opacity:0\" cx=\"1649.62\" cy=\"1366.51\" r=\"2\"/>\n",
       "<circle clip-path=\"url(#clip092)\" style=\"fill:#009af9; stroke:none; fill-opacity:0\" cx=\"1727.36\" cy=\"1462.46\" r=\"2\"/>\n",
       "<circle clip-path=\"url(#clip092)\" style=\"fill:#009af9; stroke:none; fill-opacity:0\" cx=\"1805.1\" cy=\"1462.46\" r=\"2\"/>\n",
       "<circle clip-path=\"url(#clip092)\" style=\"fill:#009af9; stroke:none; fill-opacity:0\" cx=\"1882.84\" cy=\"1486.45\" r=\"2\"/>\n",
       "<circle clip-path=\"url(#clip092)\" style=\"fill:#009af9; stroke:none; fill-opacity:0\" cx=\"1960.57\" cy=\"1486.45\" r=\"2\"/>\n",
       "<circle clip-path=\"url(#clip092)\" style=\"fill:#009af9; stroke:none; fill-opacity:0\" cx=\"2038.31\" cy=\"1486.45\" r=\"2\"/>\n",
       "<circle clip-path=\"url(#clip092)\" style=\"fill:#009af9; stroke:none; fill-opacity:0\" cx=\"2116.05\" cy=\"1486.45\" r=\"2\"/>\n",
       "<circle clip-path=\"url(#clip092)\" style=\"fill:#009af9; stroke:none; fill-opacity:0\" cx=\"2193.78\" cy=\"1486.45\" r=\"2\"/>\n",
       "</svg>\n"
      ]
     },
     "execution_count": 17,
     "metadata": {},
     "output_type": "execute_result"
    }
   ],
   "source": [
    "using Plots\n",
    "histogram(A*x, bins = (0.375:0.05:1.625), legend = false, ylim = (0,120))"
   ]
  },
  {
   "cell_type": "code",
   "execution_count": 18,
   "metadata": {},
   "outputs": [
    {
     "data": {
      "text/plain": [
       "0.24174131853807876"
      ]
     },
     "execution_count": 18,
     "metadata": {},
     "output_type": "execute_result"
    }
   ],
   "source": [
    "# Intensity if all lamp powers are one\n",
    "rms_uniform = rms(A*ones(n,1) .- 1)"
   ]
  },
  {
   "cell_type": "code",
   "execution_count": 19,
   "metadata": {},
   "outputs": [
    {
     "data": {
      "image/png": "[encoded data removed]",
      "image/svg+xml": [
       "<?xml version=\"1.0\" encoding=\"utf-8\"?>\n",
       "<svg xmlns=\"http://www.w3.org/2000/svg\" xmlns:xlink=\"http://www.w3.org/1999/xlink\" width=\"600\" height=\"400\" viewBox=\"0 0 2400 1600\">\n",
       "<defs>\n",
       "  <clipPath id=\"clip130\">\n",
       "    <rect x=\"0\" y=\"0\" width=\"2400\" height=\"1600\"/>\n",
       "  </clipPath>\n",
       "</defs>\n",
       "<path clip-path=\"url(#clip130)\" d=\"M0 1600 L2400 1600 L2400 8.88178e-14 L0 8.88178e-14  Z\" fill=\"#ffffff\" fill-rule=\"evenodd\" fill-opacity=\"1\"/>\n",
       "<defs>\n",
       "  <clipPath id=\"clip131\">\n",
       "    <rect x=\"480\" y=\"0\" width=\"1681\" height=\"1600\"/>\n",
       "  </clipPath>\n",
       "</defs>\n",
       "<path clip-path=\"url(#clip130)\" d=\"M169.121 1486.45 L2352.76 1486.45 L2352.76 47.2441 L169.121 47.2441  Z\" fill=\"#ffffff\" fill-rule=\"evenodd\" fill-opacity=\"1\"/>\n",
       "<defs>\n",
       "  <clipPath id=\"clip132\">\n",
       "    <rect x=\"169\" y=\"47\" width=\"2185\" height=\"1440\"/>\n",
       "  </clipPath>\n",
       "</defs>\n",
       "<polyline clip-path=\"url(#clip132)\" style=\"stroke:#000000; stroke-linecap:round; stroke-linejoin:round; stroke-width:2; stroke-opacity:0.1; fill:none\" points=\"483.568,1486.45 483.568,47.2441 \"/>\n",
       "<polyline clip-path=\"url(#clip132)\" style=\"stroke:#000000; stroke-linecap:round; stroke-linejoin:round; stroke-width:2; stroke-opacity:0.1; fill:none\" points=\"872.253,1486.45 872.253,47.2441 \"/>\n",
       "<polyline clip-path=\"url(#clip132)\" style=\"stroke:#000000; stroke-linecap:round; stroke-linejoin:round; stroke-width:2; stroke-opacity:0.1; fill:none\" points=\"1260.94,1486.45 1260.94,47.2441 \"/>\n",
       "<polyline clip-path=\"url(#clip132)\" style=\"stroke:#000000; stroke-linecap:round; stroke-linejoin:round; stroke-width:2; stroke-opacity:0.1; fill:none\" points=\"1649.62,1486.45 1649.62,47.2441 \"/>\n",
       "<polyline clip-path=\"url(#clip132)\" style=\"stroke:#000000; stroke-linecap:round; stroke-linejoin:round; stroke-width:2; stroke-opacity:0.1; fill:none\" points=\"2038.31,1486.45 2038.31,47.2441 \"/>\n",
       "<polyline clip-path=\"url(#clip130)\" style=\"stroke:#000000; stroke-linecap:round; stroke-linejoin:round; stroke-width:4; stroke-opacity:1; fill:none\" points=\"169.121,1486.45 2352.76,1486.45 \"/>\n",
       "<polyline clip-path=\"url(#clip130)\" style=\"stroke:#000000; stroke-linecap:round; stroke-linejoin:round; stroke-width:4; stroke-opacity:1; fill:none\" points=\"483.568,1486.45 483.568,1467.55 \"/>\n",
       "<polyline clip-path=\"url(#clip130)\" style=\"stroke:#000000; stroke-linecap:round; stroke-linejoin:round; stroke-width:4; stroke-opacity:1; fill:none\" points=\"872.253,1486.45 872.253,1467.55 \"/>\n",
       "<polyline clip-path=\"url(#clip130)\" style=\"stroke:#000000; stroke-linecap:round; stroke-linejoin:round; stroke-width:4; stroke-opacity:1; fill:none\" points=\"1260.94,1486.45 1260.94,1467.55 \"/>\n",
       "<polyline clip-path=\"url(#clip130)\" style=\"stroke:#000000; stroke-linecap:round; stroke-linejoin:round; stroke-width:4; stroke-opacity:1; fill:none\" points=\"1649.62,1486.45 1649.62,1467.55 \"/>\n",
       "<polyline clip-path=\"url(#clip130)\" style=\"stroke:#000000; stroke-linecap:round; stroke-linejoin:round; stroke-width:4; stroke-opacity:1; fill:none\" points=\"2038.31,1486.45 2038.31,1467.55 \"/>\n",
       "<path clip-path=\"url(#clip130)\" d=\"M445.871 1517.37 Q442.26 1517.37 440.431 1520.93 Q438.626 1524.47 438.626 1531.6 Q438.626 1538.71 440.431 1542.27 Q442.26 1545.82 445.871 1545.82 Q449.505 1545.82 451.311 1542.27 Q453.14 1538.71 453.14 1531.6 Q453.14 1524.47 451.311 1520.93 Q449.505 1517.37 445.871 1517.37 M445.871 1513.66 Q451.681 1513.66 454.737 1518.27 Q457.816 1522.85 457.816 1531.6 Q457.816 1540.33 454.737 1544.94 Q451.681 1549.52 445.871 1549.52 Q440.061 1549.52 436.982 1544.94 Q433.927 1540.33 433.927 1531.6 Q433.927 1522.85 436.982 1518.27 Q440.061 1513.66 445.871 1513.66 Z\" fill=\"#000000\" fill-rule=\"nonzero\" fill-opacity=\"1\" /><path clip-path=\"url(#clip130)\" d=\"M466.033 1542.97 L470.917 1542.97 L470.917 1548.85 L466.033 1548.85 L466.033 1542.97 Z\" fill=\"#000000\" fill-rule=\"nonzero\" fill-opacity=\"1\" /><path clip-path=\"url(#clip130)\" d=\"M481.149 1514.29 L499.505 1514.29 L499.505 1518.22 L485.431 1518.22 L485.431 1526.7 Q486.45 1526.35 487.468 1526.19 Q488.487 1526 489.505 1526 Q495.292 1526 498.672 1529.17 Q502.052 1532.34 502.052 1537.76 Q502.052 1543.34 498.579 1546.44 Q495.107 1549.52 488.788 1549.52 Q486.612 1549.52 484.343 1549.15 Q482.098 1548.78 479.691 1548.04 L479.691 1543.34 Q481.774 1544.47 483.996 1545.03 Q486.218 1545.58 488.695 1545.58 Q492.7 1545.58 495.038 1543.48 Q497.376 1541.37 497.376 1537.76 Q497.376 1534.15 495.038 1532.04 Q492.7 1529.94 488.695 1529.94 Q486.82 1529.94 484.945 1530.35 Q483.093 1530.77 481.149 1531.65 L481.149 1514.29 Z\" fill=\"#000000\" fill-rule=\"nonzero\" fill-opacity=\"1\" /><path clip-path=\"url(#clip130)\" d=\"M521.264 1517.37 Q517.653 1517.37 515.825 1520.93 Q514.019 1524.47 514.019 1531.6 Q514.019 1538.71 515.825 1542.27 Q517.653 1545.82 521.264 1545.82 Q524.899 1545.82 526.704 1542.27 Q528.533 1538.71 528.533 1531.6 Q528.533 1524.47 526.704 1520.93 Q524.899 1517.37 521.264 1517.37 M521.264 1513.66 Q527.075 1513.66 530.13 1518.27 Q533.209 1522.85 533.209 1531.6 Q533.209 1540.33 530.13 1544.94 Q527.075 1549.52 521.264 1549.52 Q515.454 1549.52 512.376 1544.94 Q509.32 1540.33 509.32 1531.6 Q509.32 1522.85 512.376 1518.27 Q515.454 1513.66 521.264 1513.66 Z\" fill=\"#000000\" fill-rule=\"nonzero\" fill-opacity=\"1\" /><path clip-path=\"url(#clip130)\" d=\"M835.054 1517.37 Q831.443 1517.37 829.615 1520.93 Q827.809 1524.47 827.809 1531.6 Q827.809 1538.71 829.615 1542.27 Q831.443 1545.82 835.054 1545.82 Q838.689 1545.82 840.494 1542.27 Q842.323 1538.71 842.323 1531.6 Q842.323 1524.47 840.494 1520.93 Q838.689 1517.37 835.054 1517.37 M835.054 1513.66 Q840.864 1513.66 843.92 1518.27 Q846.999 1522.85 846.999 1531.6 Q846.999 1540.33 843.92 1544.94 Q840.864 1549.52 835.054 1549.52 Q829.244 1549.52 826.165 1544.94 Q823.11 1540.33 823.11 1531.6 Q823.11 1522.85 826.165 1518.27 Q829.244 1513.66 835.054 1513.66 Z\" fill=\"#000000\" fill-rule=\"nonzero\" fill-opacity=\"1\" /><path clip-path=\"url(#clip130)\" d=\"M855.216 1542.97 L860.1 1542.97 L860.1 1548.85 L855.216 1548.85 L855.216 1542.97 Z\" fill=\"#000000\" fill-rule=\"nonzero\" fill-opacity=\"1\" /><path clip-path=\"url(#clip130)\" d=\"M869.105 1514.29 L891.327 1514.29 L891.327 1516.28 L878.781 1548.85 L873.897 1548.85 L885.702 1518.22 L869.105 1518.22 L869.105 1514.29 Z\" fill=\"#000000\" fill-rule=\"nonzero\" fill-opacity=\"1\" /><path clip-path=\"url(#clip130)\" d=\"M900.494 1514.29 L918.85 1514.29 L918.85 1518.22 L904.776 1518.22 L904.776 1526.7 Q905.795 1526.35 906.813 1526.19 Q907.832 1526 908.85 1526 Q914.637 1526 918.017 1529.17 Q921.396 1532.34 921.396 1537.76 Q921.396 1543.34 917.924 1546.44 Q914.452 1549.52 908.133 1549.52 Q905.957 1549.52 903.688 1549.15 Q901.443 1548.78 899.035 1548.04 L899.035 1543.34 Q901.119 1544.47 903.341 1545.03 Q905.563 1545.58 908.04 1545.58 Q912.045 1545.58 914.383 1543.48 Q916.721 1541.37 916.721 1537.76 Q916.721 1534.15 914.383 1532.04 Q912.045 1529.94 908.04 1529.94 Q906.165 1529.94 904.29 1530.35 Q902.438 1530.77 900.494 1531.65 L900.494 1514.29 Z\" fill=\"#000000\" fill-rule=\"nonzero\" fill-opacity=\"1\" /><path clip-path=\"url(#clip130)\" d=\"M1213.01 1544.91 L1220.65 1544.91 L1220.65 1518.55 L1212.34 1520.21 L1212.34 1515.95 L1220.6 1514.29 L1225.28 1514.29 L1225.28 1544.91 L1232.92 1544.91 L1232.92 1548.85 L1213.01 1548.85 L1213.01 1544.91 Z\" fill=\"#000000\" fill-rule=\"nonzero\" fill-opacity=\"1\" /><path clip-path=\"url(#clip130)\" d=\"M1242.36 1542.97 L1247.25 1542.97 L1247.25 1548.85 L1242.36 1548.85 L1242.36 1542.97 Z\" fill=\"#000000\" fill-rule=\"nonzero\" fill-opacity=\"1\" /><path clip-path=\"url(#clip130)\" d=\"M1267.43 1517.37 Q1263.82 1517.37 1261.99 1520.93 Q1260.19 1524.47 1260.19 1531.6 Q1260.19 1538.71 1261.99 1542.27 Q1263.82 1545.82 1267.43 1545.82 Q1271.07 1545.82 1272.87 1542.27 Q1274.7 1538.71 1274.7 1531.6 Q1274.7 1524.47 1272.87 1520.93 Q1271.07 1517.37 1267.43 1517.37 M1267.43 1513.66 Q1273.24 1513.66 1276.3 1518.27 Q1279.38 1522.85 1279.38 1531.6 Q1279.38 1540.33 1276.3 1544.94 Q1273.24 1549.52 1267.43 1549.52 Q1261.62 1549.52 1258.54 1544.94 Q1255.49 1540.33 1255.49 1531.6 Q1255.49 1522.85 1258.54 1518.27 Q1261.62 1513.66 1267.43 1513.66 Z\" fill=\"#000000\" fill-rule=\"nonzero\" fill-opacity=\"1\" /><path clip-path=\"url(#clip130)\" d=\"M1297.59 1517.37 Q1293.98 1517.37 1292.15 1520.93 Q1290.35 1524.47 1290.35 1531.6 Q1290.35 1538.71 1292.15 1542.27 Q1293.98 1545.82 1297.59 1545.82 Q1301.23 1545.82 1303.03 1542.27 Q1304.86 1538.71 1304.86 1531.6 Q1304.86 1524.47 1303.03 1520.93 Q1301.23 1517.37 1297.59 1517.37 M1297.59 1513.66 Q1303.4 1513.66 1306.46 1518.27 Q1309.54 1522.85 1309.54 1531.6 Q1309.54 1540.33 1306.46 1544.94 Q1303.4 1549.52 1297.59 1549.52 Q1291.78 1549.52 1288.7 1544.94 Q1285.65 1540.33 1285.65 1531.6 Q1285.65 1522.85 1288.7 1518.27 Q1291.78 1513.66 1297.59 1513.66 Z\" fill=\"#000000\" fill-rule=\"nonzero\" fill-opacity=\"1\" /><path clip-path=\"url(#clip130)\" d=\"M1602.19 1544.91 L1609.83 1544.91 L1609.83 1518.55 L1601.52 1520.21 L1601.52 1515.95 L1609.79 1514.29 L1614.46 1514.29 L1614.46 1544.91 L1622.1 1544.91 L1622.1 1548.85 L1602.19 1548.85 L1602.19 1544.91 Z\" fill=\"#000000\" fill-rule=\"nonzero\" fill-opacity=\"1\" /><path clip-path=\"url(#clip130)\" d=\"M1631.55 1542.97 L1636.43 1542.97 L1636.43 1548.85 L1631.55 1548.85 L1631.55 1542.97 Z\" fill=\"#000000\" fill-rule=\"nonzero\" fill-opacity=\"1\" /><path clip-path=\"url(#clip130)\" d=\"M1650.64 1544.91 L1666.96 1544.91 L1666.96 1548.85 L1645.02 1548.85 L1645.02 1544.91 Q1647.68 1542.16 1652.26 1537.53 Q1656.87 1532.88 1658.05 1531.53 Q1660.3 1529.01 1661.17 1527.27 Q1662.08 1525.51 1662.08 1523.82 Q1662.08 1521.07 1660.13 1519.33 Q1658.21 1517.6 1655.11 1517.6 Q1652.91 1517.6 1650.46 1518.36 Q1648.03 1519.13 1645.25 1520.68 L1645.25 1515.95 Q1648.07 1514.82 1650.53 1514.24 Q1652.98 1513.66 1655.02 1513.66 Q1660.39 1513.66 1663.58 1516.35 Q1666.78 1519.03 1666.78 1523.52 Q1666.78 1525.65 1665.97 1527.57 Q1665.18 1529.47 1663.07 1532.07 Q1662.49 1532.74 1659.39 1535.95 Q1656.29 1539.15 1650.64 1544.91 Z\" fill=\"#000000\" fill-rule=\"nonzero\" fill-opacity=\"1\" /><path clip-path=\"url(#clip130)\" d=\"M1676.82 1514.29 L1695.18 1514.29 L1695.18 1518.22 L1681.11 1518.22 L1681.11 1526.7 Q1682.12 1526.35 1683.14 1526.19 Q1684.16 1526 1685.18 1526 Q1690.97 1526 1694.35 1529.17 Q1697.73 1532.34 1697.73 1537.76 Q1697.73 1543.34 1694.25 1546.44 Q1690.78 1549.52 1684.46 1549.52 Q1682.29 1549.52 1680.02 1549.15 Q1677.77 1548.78 1675.36 1548.04 L1675.36 1543.34 Q1677.45 1544.47 1679.67 1545.03 Q1681.89 1545.58 1684.37 1545.58 Q1688.37 1545.58 1690.71 1543.48 Q1693.05 1541.37 1693.05 1537.76 Q1693.05 1534.15 1690.71 1532.04 Q1688.37 1529.94 1684.37 1529.94 Q1682.49 1529.94 1680.62 1530.35 Q1678.77 1530.77 1676.82 1531.65 L1676.82 1514.29 Z\" fill=\"#000000\" fill-rule=\"nonzero\" fill-opacity=\"1\" /><path clip-path=\"url(#clip130)\" d=\"M1990.38 1544.91 L1998.02 1544.91 L1998.02 1518.55 L1989.71 1520.21 L1989.71 1515.95 L1997.97 1514.29 L2002.65 1514.29 L2002.65 1544.91 L2010.29 1544.91 L2010.29 1548.85 L1990.38 1548.85 L1990.38 1544.91 Z\" fill=\"#000000\" fill-rule=\"nonzero\" fill-opacity=\"1\" /><path clip-path=\"url(#clip130)\" d=\"M2019.73 1542.97 L2024.62 1542.97 L2024.62 1548.85 L2019.73 1548.85 L2019.73 1542.97 Z\" fill=\"#000000\" fill-rule=\"nonzero\" fill-opacity=\"1\" /><path clip-path=\"url(#clip130)\" d=\"M2034.85 1514.29 L2053.21 1514.29 L2053.21 1518.22 L2039.13 1518.22 L2039.13 1526.7 Q2040.15 1526.35 2041.17 1526.19 Q2042.19 1526 2043.21 1526 Q2048.99 1526 2052.37 1529.17 Q2055.75 1532.34 2055.75 1537.76 Q2055.75 1543.34 2052.28 1546.44 Q2048.81 1549.52 2042.49 1549.52 Q2040.31 1549.52 2038.04 1549.15 Q2035.8 1548.78 2033.39 1548.04 L2033.39 1543.34 Q2035.47 1544.47 2037.7 1545.03 Q2039.92 1545.58 2042.4 1545.58 Q2046.4 1545.58 2048.74 1543.48 Q2051.08 1541.37 2051.08 1537.76 Q2051.08 1534.15 2048.74 1532.04 Q2046.4 1529.94 2042.4 1529.94 Q2040.52 1529.94 2038.65 1530.35 Q2036.79 1530.77 2034.85 1531.65 L2034.85 1514.29 Z\" fill=\"#000000\" fill-rule=\"nonzero\" fill-opacity=\"1\" /><path clip-path=\"url(#clip130)\" d=\"M2074.96 1517.37 Q2071.35 1517.37 2069.52 1520.93 Q2067.72 1524.47 2067.72 1531.6 Q2067.72 1538.71 2069.52 1542.27 Q2071.35 1545.82 2074.96 1545.82 Q2078.6 1545.82 2080.4 1542.27 Q2082.23 1538.71 2082.23 1531.6 Q2082.23 1524.47 2080.4 1520.93 Q2078.6 1517.37 2074.96 1517.37 M2074.96 1513.66 Q2080.77 1513.66 2083.83 1518.27 Q2086.91 1522.85 2086.91 1531.6 Q2086.91 1540.33 2083.83 1544.94 Q2080.77 1549.52 2074.96 1549.52 Q2069.15 1549.52 2066.08 1544.94 Q2063.02 1540.33 2063.02 1531.6 Q2063.02 1522.85 2066.08 1518.27 Q2069.15 1513.66 2074.96 1513.66 Z\" fill=\"#000000\" fill-rule=\"nonzero\" fill-opacity=\"1\" /><polyline clip-path=\"url(#clip132)\" style=\"stroke:#000000; stroke-linecap:round; stroke-linejoin:round; stroke-width:2; stroke-opacity:0.1; fill:none\" points=\"169.121,1486.45 2352.76,1486.45 \"/>\n",
       "<polyline clip-path=\"url(#clip132)\" style=\"stroke:#000000; stroke-linecap:round; stroke-linejoin:round; stroke-width:2; stroke-opacity:0.1; fill:none\" points=\"169.121,1246.58 2352.76,1246.58 \"/>\n",
       "<polyline clip-path=\"url(#clip132)\" style=\"stroke:#000000; stroke-linecap:round; stroke-linejoin:round; stroke-width:2; stroke-opacity:0.1; fill:none\" points=\"169.121,1006.71 2352.76,1006.71 \"/>\n",
       "<polyline clip-path=\"url(#clip132)\" style=\"stroke:#000000; stroke-linecap:round; stroke-linejoin:round; stroke-width:2; stroke-opacity:0.1; fill:none\" points=\"169.121,766.846 2352.76,766.846 \"/>\n",
       "<polyline clip-path=\"url(#clip132)\" style=\"stroke:#000000; stroke-linecap:round; stroke-linejoin:round; stroke-width:2; stroke-opacity:0.1; fill:none\" points=\"169.121,526.979 2352.76,526.979 \"/>\n",
       "<polyline clip-path=\"url(#clip132)\" style=\"stroke:#000000; stroke-linecap:round; stroke-linejoin:round; stroke-width:2; stroke-opacity:0.1; fill:none\" points=\"169.121,287.111 2352.76,287.111 \"/>\n",
       "<polyline clip-path=\"url(#clip132)\" style=\"stroke:#000000; stroke-linecap:round; stroke-linejoin:round; stroke-width:2; stroke-opacity:0.1; fill:none\" points=\"169.121,47.2441 2352.76,47.2441 \"/>\n",
       "<polyline clip-path=\"url(#clip130)\" style=\"stroke:#000000; stroke-linecap:round; stroke-linejoin:round; stroke-width:4; stroke-opacity:1; fill:none\" points=\"169.121,1486.45 169.121,47.2441 \"/>\n",
       "<polyline clip-path=\"url(#clip130)\" style=\"stroke:#000000; stroke-linecap:round; stroke-linejoin:round; stroke-width:4; stroke-opacity:1; fill:none\" points=\"169.121,1486.45 188.019,1486.45 \"/>\n",
       "<polyline clip-path=\"url(#clip130)\" style=\"stroke:#000000; stroke-linecap:round; stroke-linejoin:round; stroke-width:4; stroke-opacity:1; fill:none\" points=\"169.121,1246.58 188.019,1246.58 \"/>\n",
       "<polyline clip-path=\"url(#clip130)\" style=\"stroke:#000000; stroke-linecap:round; stroke-linejoin:round; stroke-width:4; stroke-opacity:1; fill:none\" points=\"169.121,1006.71 188.019,1006.71 \"/>\n",
       "<polyline clip-path=\"url(#clip130)\" style=\"stroke:#000000; stroke-linecap:round; stroke-linejoin:round; stroke-width:4; stroke-opacity:1; fill:none\" points=\"169.121,766.846 188.019,766.846 \"/>\n",
       "<polyline clip-path=\"url(#clip130)\" style=\"stroke:#000000; stroke-linecap:round; stroke-linejoin:round; stroke-width:4; stroke-opacity:1; fill:none\" points=\"169.121,526.979 188.019,526.979 \"/>\n",
       "<polyline clip-path=\"url(#clip130)\" style=\"stroke:#000000; stroke-linecap:round; stroke-linejoin:round; stroke-width:4; stroke-opacity:1; fill:none\" points=\"169.121,287.111 188.019,287.111 \"/>\n",
       "<polyline clip-path=\"url(#clip130)\" style=\"stroke:#000000; stroke-linecap:round; stroke-linejoin:round; stroke-width:4; stroke-opacity:1; fill:none\" points=\"169.121,47.2441 188.019,47.2441 \"/>\n",
       "<path clip-path=\"url(#clip130)\" d=\"M121.177 1472.25 Q117.566 1472.25 115.737 1475.81 Q113.932 1479.35 113.932 1486.48 Q113.932 1493.59 115.737 1497.15 Q117.566 1500.7 121.177 1500.7 Q124.811 1500.7 126.617 1497.15 Q128.445 1493.59 128.445 1486.48 Q128.445 1479.35 126.617 1475.81 Q124.811 1472.25 121.177 1472.25 M121.177 1468.54 Q126.987 1468.54 130.043 1473.15 Q133.121 1477.73 133.121 1486.48 Q133.121 1495.21 130.043 1499.82 Q126.987 1504.4 121.177 1504.4 Q115.367 1504.4 112.288 1499.82 Q109.233 1495.21 109.233 1486.48 Q109.233 1477.73 112.288 1473.15 Q115.367 1468.54 121.177 1468.54 Z\" fill=\"#000000\" fill-rule=\"nonzero\" fill-opacity=\"1\" /><path clip-path=\"url(#clip130)\" d=\"M85.0429 1259.93 L101.362 1259.93 L101.362 1263.86 L79.4179 1263.86 L79.4179 1259.93 Q82.0799 1257.17 86.6632 1252.54 Q91.2697 1247.89 92.4502 1246.55 Q94.6956 1244.02 95.5752 1242.29 Q96.478 1240.53 96.478 1238.84 Q96.478 1236.08 94.5336 1234.35 Q92.6123 1232.61 89.5104 1232.61 Q87.3114 1232.61 84.8577 1233.37 Q82.4271 1234.14 79.6494 1235.69 L79.6494 1230.97 Q82.4734 1229.83 84.9271 1229.25 Q87.3808 1228.68 89.4178 1228.68 Q94.7882 1228.68 97.9826 1231.36 Q101.177 1234.05 101.177 1238.54 Q101.177 1240.67 100.367 1242.59 Q99.5798 1244.49 97.4734 1247.08 Q96.8947 1247.75 93.7928 1250.97 Q90.691 1254.16 85.0429 1259.93 Z\" fill=\"#000000\" fill-rule=\"nonzero\" fill-opacity=\"1\" /><path clip-path=\"url(#clip130)\" d=\"M121.177 1232.38 Q117.566 1232.38 115.737 1235.94 Q113.932 1239.49 113.932 1246.62 Q113.932 1253.72 115.737 1257.29 Q117.566 1260.83 121.177 1260.83 Q124.811 1260.83 126.617 1257.29 Q128.445 1253.72 128.445 1246.62 Q128.445 1239.49 126.617 1235.94 Q124.811 1232.38 121.177 1232.38 M121.177 1228.68 Q126.987 1228.68 130.043 1233.28 Q133.121 1237.87 133.121 1246.62 Q133.121 1255.34 130.043 1259.95 Q126.987 1264.53 121.177 1264.53 Q115.367 1264.53 112.288 1259.95 Q109.233 1255.34 109.233 1246.62 Q109.233 1237.87 112.288 1233.28 Q115.367 1228.68 121.177 1228.68 Z\" fill=\"#000000\" fill-rule=\"nonzero\" fill-opacity=\"1\" /><path clip-path=\"url(#clip130)\" d=\"M93.8623 993.507 L82.0568 1011.96 L93.8623 1011.96 L93.8623 993.507 M92.6354 989.433 L98.515 989.433 L98.515 1011.96 L103.446 1011.96 L103.446 1015.85 L98.515 1015.85 L98.515 1023.99 L93.8623 1023.99 L93.8623 1015.85 L78.2605 1015.85 L78.2605 1011.33 L92.6354 989.433 Z\" fill=\"#000000\" fill-rule=\"nonzero\" fill-opacity=\"1\" /><path clip-path=\"url(#clip130)\" d=\"M121.177 992.512 Q117.566 992.512 115.737 996.077 Q113.932 999.618 113.932 1006.75 Q113.932 1013.85 115.737 1017.42 Q117.566 1020.96 121.177 1020.96 Q124.811 1020.96 126.617 1017.42 Q128.445 1013.85 128.445 1006.75 Q128.445 999.618 126.617 996.077 Q124.811 992.512 121.177 992.512 M121.177 988.808 Q126.987 988.808 130.043 993.415 Q133.121 997.998 133.121 1006.75 Q133.121 1015.47 130.043 1020.08 Q126.987 1024.66 121.177 1024.66 Q115.367 1024.66 112.288 1020.08 Q109.233 1015.47 109.233 1006.75 Q109.233 997.998 112.288 993.415 Q115.367 988.808 121.177 988.808 Z\" fill=\"#000000\" fill-rule=\"nonzero\" fill-opacity=\"1\" /><path clip-path=\"url(#clip130)\" d=\"M91.5938 764.983 Q88.4456 764.983 86.5938 767.135 Q84.7651 769.288 84.7651 773.038 Q84.7651 776.765 86.5938 778.941 Q88.4456 781.094 91.5938 781.094 Q94.7419 781.094 96.5706 778.941 Q98.4224 776.765 98.4224 773.038 Q98.4224 769.288 96.5706 767.135 Q94.7419 764.983 91.5938 764.983 M100.876 750.33 L100.876 754.589 Q99.1169 753.756 97.3113 753.316 Q95.5289 752.876 93.7697 752.876 Q89.1401 752.876 86.6864 756.001 Q84.2558 759.126 83.9086 765.446 Q85.2743 763.432 87.3345 762.367 Q89.3947 761.279 91.8715 761.279 Q97.0798 761.279 100.089 764.45 Q103.121 767.598 103.121 773.038 Q103.121 778.362 99.9733 781.58 Q96.8252 784.797 91.5938 784.797 Q85.5984 784.797 82.4271 780.214 Q79.2559 775.608 79.2559 766.881 Q79.2559 758.686 83.1447 753.825 Q87.0336 748.941 93.5845 748.941 Q95.3437 748.941 97.1261 749.288 Q98.9317 749.635 100.876 750.33 Z\" fill=\"#000000\" fill-rule=\"nonzero\" fill-opacity=\"1\" /><path clip-path=\"url(#clip130)\" d=\"M121.177 752.645 Q117.566 752.645 115.737 756.209 Q113.932 759.751 113.932 766.881 Q113.932 773.987 115.737 777.552 Q117.566 781.094 121.177 781.094 Q124.811 781.094 126.617 777.552 Q128.445 773.987 128.445 766.881 Q128.445 759.751 126.617 756.209 Q124.811 752.645 121.177 752.645 M121.177 748.941 Q126.987 748.941 130.043 753.547 Q133.121 758.131 133.121 766.881 Q133.121 775.608 130.043 780.214 Q126.987 784.797 121.177 784.797 Q115.367 784.797 112.288 780.214 Q109.233 775.608 109.233 766.881 Q109.233 758.131 112.288 753.547 Q115.367 748.941 121.177 748.941 Z\" fill=\"#000000\" fill-rule=\"nonzero\" fill-opacity=\"1\" /><path clip-path=\"url(#clip130)\" d=\"M91.0151 527.847 Q87.6817 527.847 85.7605 529.629 Q83.8623 531.412 83.8623 534.537 Q83.8623 537.662 85.7605 539.444 Q87.6817 541.226 91.0151 541.226 Q94.3484 541.226 96.2697 539.444 Q98.1909 537.638 98.1909 534.537 Q98.1909 531.412 96.2697 529.629 Q94.3715 527.847 91.0151 527.847 M86.3392 525.856 Q83.3299 525.115 81.6401 523.055 Q79.9735 520.995 79.9735 518.032 Q79.9735 513.888 82.9133 511.481 Q85.8762 509.074 91.0151 509.074 Q96.1771 509.074 99.1169 511.481 Q102.057 513.888 102.057 518.032 Q102.057 520.995 100.367 523.055 Q98.7002 525.115 95.7141 525.856 Q99.0937 526.643 100.969 528.935 Q102.867 531.226 102.867 534.537 Q102.867 539.56 99.7882 542.245 Q96.7326 544.93 91.0151 544.93 Q85.2975 544.93 82.2188 542.245 Q79.1633 539.56 79.1633 534.537 Q79.1633 531.226 81.0614 528.935 Q82.9595 526.643 86.3392 525.856 M84.6262 518.472 Q84.6262 521.157 86.2929 522.662 Q87.9827 524.166 91.0151 524.166 Q94.0243 524.166 95.7141 522.662 Q97.4271 521.157 97.4271 518.472 Q97.4271 515.787 95.7141 514.282 Q94.0243 512.777 91.0151 512.777 Q87.9827 512.777 86.2929 514.282 Q84.6262 515.787 84.6262 518.472 Z\" fill=\"#000000\" fill-rule=\"nonzero\" fill-opacity=\"1\" /><path clip-path=\"url(#clip130)\" d=\"M121.177 512.777 Q117.566 512.777 115.737 516.342 Q113.932 519.884 113.932 527.013 Q113.932 534.12 115.737 537.685 Q117.566 541.226 121.177 541.226 Q124.811 541.226 126.617 537.685 Q128.445 534.12 128.445 527.013 Q128.445 519.884 126.617 516.342 Q124.811 512.777 121.177 512.777 M121.177 509.074 Q126.987 509.074 130.043 513.68 Q133.121 518.263 133.121 527.013 Q133.121 535.74 130.043 540.347 Q126.987 544.93 121.177 544.93 Q115.367 544.93 112.288 540.347 Q109.233 535.74 109.233 527.013 Q109.233 518.263 112.288 513.68 Q115.367 509.074 121.177 509.074 Z\" fill=\"#000000\" fill-rule=\"nonzero\" fill-opacity=\"1\" /><path clip-path=\"url(#clip130)\" d=\"M51.6634 300.456 L59.3023 300.456 L59.3023 274.091 L50.9921 275.757 L50.9921 271.498 L59.256 269.831 L63.9319 269.831 L63.9319 300.456 L71.5707 300.456 L71.5707 304.391 L51.6634 304.391 L51.6634 300.456 Z\" fill=\"#000000\" fill-rule=\"nonzero\" fill-opacity=\"1\" /><path clip-path=\"url(#clip130)\" d=\"M91.0151 272.91 Q87.404 272.91 85.5753 276.475 Q83.7697 280.017 83.7697 287.146 Q83.7697 294.253 85.5753 297.817 Q87.404 301.359 91.0151 301.359 Q94.6493 301.359 96.4548 297.817 Q98.2835 294.253 98.2835 287.146 Q98.2835 280.017 96.4548 276.475 Q94.6493 272.91 91.0151 272.91 M91.0151 269.206 Q96.8252 269.206 99.8808 273.813 Q102.959 278.396 102.959 287.146 Q102.959 295.873 99.8808 300.479 Q96.8252 305.063 91.0151 305.063 Q85.2049 305.063 82.1262 300.479 Q79.0707 295.873 79.0707 287.146 Q79.0707 278.396 82.1262 273.813 Q85.2049 269.206 91.0151 269.206 Z\" fill=\"#000000\" fill-rule=\"nonzero\" fill-opacity=\"1\" /><path clip-path=\"url(#clip130)\" d=\"M121.177 272.91 Q117.566 272.91 115.737 276.475 Q113.932 280.017 113.932 287.146 Q113.932 294.253 115.737 297.817 Q117.566 301.359 121.177 301.359 Q124.811 301.359 126.617 297.817 Q128.445 294.253 128.445 287.146 Q128.445 280.017 126.617 276.475 Q124.811 272.91 121.177 272.91 M121.177 269.206 Q126.987 269.206 130.043 273.813 Q133.121 278.396 133.121 287.146 Q133.121 295.873 130.043 300.479 Q126.987 305.063 121.177 305.063 Q115.367 305.063 112.288 300.479 Q109.233 295.873 109.233 287.146 Q109.233 278.396 112.288 273.813 Q115.367 269.206 121.177 269.206 Z\" fill=\"#000000\" fill-rule=\"nonzero\" fill-opacity=\"1\" /><path clip-path=\"url(#clip130)\" d=\"M51.6634 60.5889 L59.3023 60.5889 L59.3023 34.2233 L50.9921 35.89 L50.9921 31.6308 L59.256 29.9641 L63.9319 29.9641 L63.9319 60.5889 L71.5707 60.5889 L71.5707 64.5241 L51.6634 64.5241 L51.6634 60.5889 Z\" fill=\"#000000\" fill-rule=\"nonzero\" fill-opacity=\"1\" /><path clip-path=\"url(#clip130)\" d=\"M85.0429 60.5889 L101.362 60.5889 L101.362 64.5241 L79.4179 64.5241 L79.4179 60.5889 Q82.0799 57.8343 86.6632 53.2047 Q91.2697 48.552 92.4502 47.2094 Q94.6956 44.6862 95.5752 42.9501 Q96.478 41.1909 96.478 39.5011 Q96.478 36.7465 94.5336 35.0104 Q92.6123 33.2743 89.5104 33.2743 Q87.3114 33.2743 84.8577 34.0381 Q82.4271 34.802 79.6494 36.3529 L79.6494 31.6308 Q82.4734 30.4965 84.9271 29.9178 Q87.3808 29.3391 89.4178 29.3391 Q94.7882 29.3391 97.9826 32.0243 Q101.177 34.7094 101.177 39.2002 Q101.177 41.3298 100.367 43.2511 Q99.5798 45.1492 97.4734 47.7418 Q96.8947 48.4131 93.7928 51.6306 Q90.691 54.8251 85.0429 60.5889 Z\" fill=\"#000000\" fill-rule=\"nonzero\" fill-opacity=\"1\" /><path clip-path=\"url(#clip130)\" d=\"M121.177 33.0428 Q117.566 33.0428 115.737 36.6076 Q113.932 40.1492 113.932 47.2788 Q113.932 54.3853 115.737 57.9501 Q117.566 61.4917 121.177 61.4917 Q124.811 61.4917 126.617 57.9501 Q128.445 54.3853 128.445 47.2788 Q128.445 40.1492 126.617 36.6076 Q124.811 33.0428 121.177 33.0428 M121.177 29.3391 Q126.987 29.3391 130.043 33.9456 Q133.121 38.5289 133.121 47.2788 Q133.121 56.0056 130.043 60.6121 Q126.987 65.1954 121.177 65.1954 Q115.367 65.1954 112.288 60.6121 Q109.233 56.0056 109.233 47.2788 Q109.233 38.5289 112.288 33.9456 Q115.367 29.3391 121.177 29.3391 Z\" fill=\"#000000\" fill-rule=\"nonzero\" fill-opacity=\"1\" /><path clip-path=\"url(#clip132)\" d=\"M289.225 1474.45 L289.225 1486.45 L366.962 1486.45 L366.962 1474.45 L289.225 1474.45 L289.225 1474.45  Z\" fill=\"#009af9\" fill-rule=\"evenodd\" fill-opacity=\"1\"/>\n",
       "<polyline clip-path=\"url(#clip132)\" style=\"stroke:#000000; stroke-linecap:round; stroke-linejoin:round; stroke-width:4; stroke-opacity:1; fill:none\" points=\"289.225,1474.45 289.225,1486.45 366.962,1486.45 366.962,1474.45 289.225,1474.45 \"/>\n",
       "<path clip-path=\"url(#clip132)\" d=\"M366.962 1438.47 L366.962 1486.45 L444.699 1486.45 L444.699 1438.47 L366.962 1438.47 L366.962 1438.47  Z\" fill=\"#009af9\" fill-rule=\"evenodd\" fill-opacity=\"1\"/>\n",
       "<polyline clip-path=\"url(#clip132)\" style=\"stroke:#000000; stroke-linecap:round; stroke-linejoin:round; stroke-width:4; stroke-opacity:1; fill:none\" points=\"366.962,1438.47 366.962,1486.45 444.699,1486.45 444.699,1438.47 366.962,1438.47 \"/>\n",
       "<path clip-path=\"url(#clip132)\" d=\"M444.699 1402.49 L444.699 1486.45 L522.436 1486.45 L522.436 1402.49 L444.699 1402.49 L444.699 1402.49  Z\" fill=\"#009af9\" fill-rule=\"evenodd\" fill-opacity=\"1\"/>\n",
       "<polyline clip-path=\"url(#clip132)\" style=\"stroke:#000000; stroke-linecap:round; stroke-linejoin:round; stroke-width:4; stroke-opacity:1; fill:none\" points=\"444.699,1402.49 444.699,1486.45 522.436,1486.45 522.436,1402.49 444.699,1402.49 \"/>\n",
       "<path clip-path=\"url(#clip132)\" d=\"M522.436 1390.5 L522.436 1486.45 L600.173 1486.45 L600.173 1390.5 L522.436 1390.5 L522.436 1390.5  Z\" fill=\"#009af9\" fill-rule=\"evenodd\" fill-opacity=\"1\"/>\n",
       "<polyline clip-path=\"url(#clip132)\" style=\"stroke:#000000; stroke-linecap:round; stroke-linejoin:round; stroke-width:4; stroke-opacity:1; fill:none\" points=\"522.436,1390.5 522.436,1486.45 600.173,1486.45 600.173,1390.5 522.436,1390.5 \"/>\n",
       "<path clip-path=\"url(#clip132)\" d=\"M600.173 1318.54 L600.173 1486.45 L677.911 1486.45 L677.911 1318.54 L600.173 1318.54 L600.173 1318.54  Z\" fill=\"#009af9\" fill-rule=\"evenodd\" fill-opacity=\"1\"/>\n",
       "<polyline clip-path=\"url(#clip132)\" style=\"stroke:#000000; stroke-linecap:round; stroke-linejoin:round; stroke-width:4; stroke-opacity:1; fill:none\" points=\"600.173,1318.54 600.173,1486.45 677.911,1486.45 677.911,1318.54 600.173,1318.54 \"/>\n",
       "<path clip-path=\"url(#clip132)\" d=\"M677.911 1198.61 L677.911 1486.45 L755.648 1486.45 L755.648 1198.61 L677.911 1198.61 L677.911 1198.61  Z\" fill=\"#009af9\" fill-rule=\"evenodd\" fill-opacity=\"1\"/>\n",
       "<polyline clip-path=\"url(#clip132)\" style=\"stroke:#000000; stroke-linecap:round; stroke-linejoin:round; stroke-width:4; stroke-opacity:1; fill:none\" points=\"677.911,1198.61 677.911,1486.45 755.648,1486.45 755.648,1198.61 677.911,1198.61 \"/>\n",
       "<path clip-path=\"url(#clip132)\" d=\"M755.648 1078.67 L755.648 1486.45 L833.385 1486.45 L833.385 1078.67 L755.648 1078.67 L755.648 1078.67  Z\" fill=\"#009af9\" fill-rule=\"evenodd\" fill-opacity=\"1\"/>\n",
       "<polyline clip-path=\"url(#clip132)\" style=\"stroke:#000000; stroke-linecap:round; stroke-linejoin:round; stroke-width:4; stroke-opacity:1; fill:none\" points=\"755.648,1078.67 755.648,1486.45 833.385,1486.45 833.385,1078.67 755.648,1078.67 \"/>\n",
       "<path clip-path=\"url(#clip132)\" d=\"M833.385 1138.64 L833.385 1486.45 L911.122 1486.45 L911.122 1138.64 L833.385 1138.64 L833.385 1138.64  Z\" fill=\"#009af9\" fill-rule=\"evenodd\" fill-opacity=\"1\"/>\n",
       "<polyline clip-path=\"url(#clip132)\" style=\"stroke:#000000; stroke-linecap:round; stroke-linejoin:round; stroke-width:4; stroke-opacity:1; fill:none\" points=\"833.385,1138.64 833.385,1486.45 911.122,1486.45 911.122,1138.64 833.385,1138.64 \"/>\n",
       "<path clip-path=\"url(#clip132)\" d=\"M911.122 862.793 L911.122 1486.45 L988.859 1486.45 L988.859 862.793 L911.122 862.793 L911.122 862.793  Z\" fill=\"#009af9\" fill-rule=\"evenodd\" fill-opacity=\"1\"/>\n",
       "<polyline clip-path=\"url(#clip132)\" style=\"stroke:#000000; stroke-linecap:round; stroke-linejoin:round; stroke-width:4; stroke-opacity:1; fill:none\" points=\"911.122,862.793 911.122,1486.45 988.859,1486.45 988.859,862.793 911.122,862.793 \"/>\n",
       "<path clip-path=\"url(#clip132)\" d=\"M988.859 1138.64 L988.859 1486.45 L1066.6 1486.45 L1066.6 1138.64 L988.859 1138.64 L988.859 1138.64  Z\" fill=\"#009af9\" fill-rule=\"evenodd\" fill-opacity=\"1\"/>\n",
       "<polyline clip-path=\"url(#clip132)\" style=\"stroke:#000000; stroke-linecap:round; stroke-linejoin:round; stroke-width:4; stroke-opacity:1; fill:none\" points=\"988.859,1138.64 988.859,1486.45 1066.6,1486.45 1066.6,1138.64 988.859,1138.64 \"/>\n",
       "<path clip-path=\"url(#clip132)\" d=\"M1066.6 922.76 L1066.6 1486.45 L1144.33 1486.45 L1144.33 922.76 L1066.6 922.76 L1066.6 922.76  Z\" fill=\"#009af9\" fill-rule=\"evenodd\" fill-opacity=\"1\"/>\n",
       "<polyline clip-path=\"url(#clip132)\" style=\"stroke:#000000; stroke-linecap:round; stroke-linejoin:round; stroke-width:4; stroke-opacity:1; fill:none\" points=\"1066.6,922.76 1066.6,1486.45 1144.33,1486.45 1144.33,922.76 1066.6,922.76 \"/>\n",
       "<path clip-path=\"url(#clip132)\" d=\"M1144.33 1102.66 L1144.33 1486.45 L1222.07 1486.45 L1222.07 1102.66 L1144.33 1102.66 L1144.33 1102.66  Z\" fill=\"#009af9\" fill-rule=\"evenodd\" fill-opacity=\"1\"/>\n",
       "<polyline clip-path=\"url(#clip132)\" style=\"stroke:#000000; stroke-linecap:round; stroke-linejoin:round; stroke-width:4; stroke-opacity:1; fill:none\" points=\"1144.33,1102.66 1144.33,1486.45 1222.07,1486.45 1222.07,1102.66 1144.33,1102.66 \"/>\n",
       "<path clip-path=\"url(#clip132)\" d=\"M1222.07 934.753 L1222.07 1486.45 L1299.81 1486.45 L1299.81 934.753 L1222.07 934.753 L1222.07 934.753  Z\" fill=\"#009af9\" fill-rule=\"evenodd\" fill-opacity=\"1\"/>\n",
       "<polyline clip-path=\"url(#clip132)\" style=\"stroke:#000000; stroke-linecap:round; stroke-linejoin:round; stroke-width:4; stroke-opacity:1; fill:none\" points=\"1222.07,934.753 1222.07,1486.45 1299.81,1486.45 1299.81,934.753 1222.07,934.753 \"/>\n",
       "<path clip-path=\"url(#clip132)\" d=\"M1299.81 994.72 L1299.81 1486.45 L1377.54 1486.45 L1377.54 994.72 L1299.81 994.72 L1299.81 994.72  Z\" fill=\"#009af9\" fill-rule=\"evenodd\" fill-opacity=\"1\"/>\n",
       "<polyline clip-path=\"url(#clip132)\" style=\"stroke:#000000; stroke-linecap:round; stroke-linejoin:round; stroke-width:4; stroke-opacity:1; fill:none\" points=\"1299.81,994.72 1299.81,1486.45 1377.54,1486.45 1377.54,994.72 1299.81,994.72 \"/>\n",
       "<path clip-path=\"url(#clip132)\" d=\"M1377.54 946.746 L1377.54 1486.45 L1455.28 1486.45 L1455.28 946.746 L1377.54 946.746 L1377.54 946.746  Z\" fill=\"#009af9\" fill-rule=\"evenodd\" fill-opacity=\"1\"/>\n",
       "<polyline clip-path=\"url(#clip132)\" style=\"stroke:#000000; stroke-linecap:round; stroke-linejoin:round; stroke-width:4; stroke-opacity:1; fill:none\" points=\"1377.54,946.746 1377.54,1486.45 1455.28,1486.45 1455.28,946.746 1377.54,946.746 \"/>\n",
       "<path clip-path=\"url(#clip132)\" d=\"M1455.28 886.78 L1455.28 1486.45 L1533.02 1486.45 L1533.02 886.78 L1455.28 886.78 L1455.28 886.78  Z\" fill=\"#009af9\" fill-rule=\"evenodd\" fill-opacity=\"1\"/>\n",
       "<polyline clip-path=\"url(#clip132)\" style=\"stroke:#000000; stroke-linecap:round; stroke-linejoin:round; stroke-width:4; stroke-opacity:1; fill:none\" points=\"1455.28,886.78 1455.28,1486.45 1533.02,1486.45 1533.02,886.78 1455.28,886.78 \"/>\n",
       "<path clip-path=\"url(#clip132)\" d=\"M1533.02 946.746 L1533.02 1486.45 L1610.76 1486.45 L1610.76 946.746 L1533.02 946.746 L1533.02 946.746  Z\" fill=\"#009af9\" fill-rule=\"evenodd\" fill-opacity=\"1\"/>\n",
       "<polyline clip-path=\"url(#clip132)\" style=\"stroke:#000000; stroke-linecap:round; stroke-linejoin:round; stroke-width:4; stroke-opacity:1; fill:none\" points=\"1533.02,946.746 1533.02,1486.45 1610.76,1486.45 1610.76,946.746 1533.02,946.746 \"/>\n",
       "<path clip-path=\"url(#clip132)\" d=\"M1610.76 1090.67 L1610.76 1486.45 L1688.49 1486.45 L1688.49 1090.67 L1610.76 1090.67 L1610.76 1090.67  Z\" fill=\"#009af9\" fill-rule=\"evenodd\" fill-opacity=\"1\"/>\n",
       "<polyline clip-path=\"url(#clip132)\" style=\"stroke:#000000; stroke-linecap:round; stroke-linejoin:round; stroke-width:4; stroke-opacity:1; fill:none\" points=\"1610.76,1090.67 1610.76,1486.45 1688.49,1486.45 1688.49,1090.67 1610.76,1090.67 \"/>\n",
       "<path clip-path=\"url(#clip132)\" d=\"M1688.49 1138.64 L1688.49 1486.45 L1766.23 1486.45 L1766.23 1138.64 L1688.49 1138.64 L1688.49 1138.64  Z\" fill=\"#009af9\" fill-rule=\"evenodd\" fill-opacity=\"1\"/>\n",
       "<polyline clip-path=\"url(#clip132)\" style=\"stroke:#000000; stroke-linecap:round; stroke-linejoin:round; stroke-width:4; stroke-opacity:1; fill:none\" points=\"1688.49,1138.64 1688.49,1486.45 1766.23,1486.45 1766.23,1138.64 1688.49,1138.64 \"/>\n",
       "<path clip-path=\"url(#clip132)\" d=\"M1766.23 1246.58 L1766.23 1486.45 L1843.97 1486.45 L1843.97 1246.58 L1766.23 1246.58 L1766.23 1246.58  Z\" fill=\"#009af9\" fill-rule=\"evenodd\" fill-opacity=\"1\"/>\n",
       "<polyline clip-path=\"url(#clip132)\" style=\"stroke:#000000; stroke-linecap:round; stroke-linejoin:round; stroke-width:4; stroke-opacity:1; fill:none\" points=\"1766.23,1246.58 1766.23,1486.45 1843.97,1486.45 1843.97,1246.58 1766.23,1246.58 \"/>\n",
       "<path clip-path=\"url(#clip132)\" d=\"M1843.97 1330.53 L1843.97 1486.45 L1921.7 1486.45 L1921.7 1330.53 L1843.97 1330.53 L1843.97 1330.53  Z\" fill=\"#009af9\" fill-rule=\"evenodd\" fill-opacity=\"1\"/>\n",
       "<polyline clip-path=\"url(#clip132)\" style=\"stroke:#000000; stroke-linecap:round; stroke-linejoin:round; stroke-width:4; stroke-opacity:1; fill:none\" points=\"1843.97,1330.53 1843.97,1486.45 1921.7,1486.45 1921.7,1330.53 1843.97,1330.53 \"/>\n",
       "<path clip-path=\"url(#clip132)\" d=\"M1921.7 1390.5 L1921.7 1486.45 L1999.44 1486.45 L1999.44 1390.5 L1921.7 1390.5 L1921.7 1390.5  Z\" fill=\"#009af9\" fill-rule=\"evenodd\" fill-opacity=\"1\"/>\n",
       "<polyline clip-path=\"url(#clip132)\" style=\"stroke:#000000; stroke-linecap:round; stroke-linejoin:round; stroke-width:4; stroke-opacity:1; fill:none\" points=\"1921.7,1390.5 1921.7,1486.45 1999.44,1486.45 1999.44,1390.5 1921.7,1390.5 \"/>\n",
       "<path clip-path=\"url(#clip132)\" d=\"M1999.44 1402.49 L1999.44 1486.45 L2077.18 1486.45 L2077.18 1402.49 L1999.44 1402.49 L1999.44 1402.49  Z\" fill=\"#009af9\" fill-rule=\"evenodd\" fill-opacity=\"1\"/>\n",
       "<polyline clip-path=\"url(#clip132)\" style=\"stroke:#000000; stroke-linecap:round; stroke-linejoin:round; stroke-width:4; stroke-opacity:1; fill:none\" points=\"1999.44,1402.49 1999.44,1486.45 2077.18,1486.45 2077.18,1402.49 1999.44,1402.49 \"/>\n",
       "<path clip-path=\"url(#clip132)\" d=\"M2077.18 1414.49 L2077.18 1486.45 L2154.92 1486.45 L2154.92 1414.49 L2077.18 1414.49 L2077.18 1414.49  Z\" fill=\"#009af9\" fill-rule=\"evenodd\" fill-opacity=\"1\"/>\n",
       "<polyline clip-path=\"url(#clip132)\" style=\"stroke:#000000; stroke-linecap:round; stroke-linejoin:round; stroke-width:4; stroke-opacity:1; fill:none\" points=\"2077.18,1414.49 2077.18,1486.45 2154.92,1486.45 2154.92,1414.49 2077.18,1414.49 \"/>\n",
       "<path clip-path=\"url(#clip132)\" d=\"M2154.92 1474.45 L2154.92 1486.45 L2232.65 1486.45 L2232.65 1474.45 L2154.92 1474.45 L2154.92 1474.45  Z\" fill=\"#009af9\" fill-rule=\"evenodd\" fill-opacity=\"1\"/>\n",
       "<polyline clip-path=\"url(#clip132)\" style=\"stroke:#000000; stroke-linecap:round; stroke-linejoin:round; stroke-width:4; stroke-opacity:1; fill:none\" points=\"2154.92,1474.45 2154.92,1486.45 2232.65,1486.45 2232.65,1474.45 2154.92,1474.45 \"/>\n",
       "<circle clip-path=\"url(#clip132)\" style=\"fill:#009af9; stroke:none; fill-opacity:0\" cx=\"328.094\" cy=\"1474.45\" r=\"2\"/>\n",
       "<circle clip-path=\"url(#clip132)\" style=\"fill:#009af9; stroke:none; fill-opacity:0\" cx=\"405.831\" cy=\"1438.47\" r=\"2\"/>\n",
       "<circle clip-path=\"url(#clip132)\" style=\"fill:#009af9; stroke:none; fill-opacity:0\" cx=\"483.568\" cy=\"1402.49\" r=\"2\"/>\n",
       "<circle clip-path=\"url(#clip132)\" style=\"fill:#009af9; stroke:none; fill-opacity:0\" cx=\"561.305\" cy=\"1390.5\" r=\"2\"/>\n",
       "<circle clip-path=\"url(#clip132)\" style=\"fill:#009af9; stroke:none; fill-opacity:0\" cx=\"639.042\" cy=\"1318.54\" r=\"2\"/>\n",
       "<circle clip-path=\"url(#clip132)\" style=\"fill:#009af9; stroke:none; fill-opacity:0\" cx=\"716.779\" cy=\"1198.61\" r=\"2\"/>\n",
       "<circle clip-path=\"url(#clip132)\" style=\"fill:#009af9; stroke:none; fill-opacity:0\" cx=\"794.516\" cy=\"1078.67\" r=\"2\"/>\n",
       "<circle clip-path=\"url(#clip132)\" style=\"fill:#009af9; stroke:none; fill-opacity:0\" cx=\"872.253\" cy=\"1138.64\" r=\"2\"/>\n",
       "<circle clip-path=\"url(#clip132)\" style=\"fill:#009af9; stroke:none; fill-opacity:0\" cx=\"949.99\" cy=\"862.793\" r=\"2\"/>\n",
       "<circle clip-path=\"url(#clip132)\" style=\"fill:#009af9; stroke:none; fill-opacity:0\" cx=\"1027.73\" cy=\"1138.64\" r=\"2\"/>\n",
       "<circle clip-path=\"url(#clip132)\" style=\"fill:#009af9; stroke:none; fill-opacity:0\" cx=\"1105.46\" cy=\"922.76\" r=\"2\"/>\n",
       "<circle clip-path=\"url(#clip132)\" style=\"fill:#009af9; stroke:none; fill-opacity:0\" cx=\"1183.2\" cy=\"1102.66\" r=\"2\"/>\n",
       "<circle clip-path=\"url(#clip132)\" style=\"fill:#009af9; stroke:none; fill-opacity:0\" cx=\"1260.94\" cy=\"934.753\" r=\"2\"/>\n",
       "<circle clip-path=\"url(#clip132)\" style=\"fill:#009af9; stroke:none; fill-opacity:0\" cx=\"1338.68\" cy=\"994.72\" r=\"2\"/>\n",
       "<circle clip-path=\"url(#clip132)\" style=\"fill:#009af9; stroke:none; fill-opacity:0\" cx=\"1416.41\" cy=\"946.746\" r=\"2\"/>\n",
       "<circle clip-path=\"url(#clip132)\" style=\"fill:#009af9; stroke:none; fill-opacity:0\" cx=\"1494.15\" cy=\"886.78\" r=\"2\"/>\n",
       "<circle clip-path=\"url(#clip132)\" style=\"fill:#009af9; stroke:none; fill-opacity:0\" cx=\"1571.89\" cy=\"946.746\" r=\"2\"/>\n",
       "<circle clip-path=\"url(#clip132)\" style=\"fill:#009af9; stroke:none; fill-opacity:0\" cx=\"1649.62\" cy=\"1090.67\" r=\"2\"/>\n",
       "<circle clip-path=\"url(#clip132)\" style=\"fill:#009af9; stroke:none; fill-opacity:0\" cx=\"1727.36\" cy=\"1138.64\" r=\"2\"/>\n",
       "<circle clip-path=\"url(#clip132)\" style=\"fill:#009af9; stroke:none; fill-opacity:0\" cx=\"1805.1\" cy=\"1246.58\" r=\"2\"/>\n",
       "<circle clip-path=\"url(#clip132)\" style=\"fill:#009af9; stroke:none; fill-opacity:0\" cx=\"1882.84\" cy=\"1330.53\" r=\"2\"/>\n",
       "<circle clip-path=\"url(#clip132)\" style=\"fill:#009af9; stroke:none; fill-opacity:0\" cx=\"1960.57\" cy=\"1390.5\" r=\"2\"/>\n",
       "<circle clip-path=\"url(#clip132)\" style=\"fill:#009af9; stroke:none; fill-opacity:0\" cx=\"2038.31\" cy=\"1402.49\" r=\"2\"/>\n",
       "<circle clip-path=\"url(#clip132)\" style=\"fill:#009af9; stroke:none; fill-opacity:0\" cx=\"2116.05\" cy=\"1414.49\" r=\"2\"/>\n",
       "<circle clip-path=\"url(#clip132)\" style=\"fill:#009af9; stroke:none; fill-opacity:0\" cx=\"2193.78\" cy=\"1474.45\" r=\"2\"/>\n",
       "</svg>\n"
      ],
      "text/html": [
       "<?xml version=\"1.0\" encoding=\"utf-8\"?>\n",
       "<svg xmlns=\"http://www.w3.org/2000/svg\" xmlns:xlink=\"http://www.w3.org/1999/xlink\" width=\"600\" height=\"400\" viewBox=\"0 0 2400 1600\">\n",
       "<defs>\n",
       "  <clipPath id=\"clip180\">\n",
       "    <rect x=\"0\" y=\"0\" width=\"2400\" height=\"1600\"/>\n",
       "  </clipPath>\n",
       "</defs>\n",
       "<path clip-path=\"url(#clip180)\" d=\"M0 1600 L2400 1600 L2400 8.88178e-14 L0 8.88178e-14  Z\" fill=\"#ffffff\" fill-rule=\"evenodd\" fill-opacity=\"1\"/>\n",
       "<defs>\n",
       "  <clipPath id=\"clip181\">\n",
       "    <rect x=\"480\" y=\"0\" width=\"1681\" height=\"1600\"/>\n",
       "  </clipPath>\n",
       "</defs>\n",
       "<path clip-path=\"url(#clip180)\" d=\"M169.121 1486.45 L2352.76 1486.45 L2352.76 47.2441 L169.121 47.2441  Z\" fill=\"#ffffff\" fill-rule=\"evenodd\" fill-opacity=\"1\"/>\n",
       "<defs>\n",
       "  <clipPath id=\"clip182\">\n",
       "    <rect x=\"169\" y=\"47\" width=\"2185\" height=\"1440\"/>\n",
       "  </clipPath>\n",
       "</defs>\n",
       "<polyline clip-path=\"url(#clip182)\" style=\"stroke:#000000; stroke-linecap:round; stroke-linejoin:round; stroke-width:2; stroke-opacity:0.1; fill:none\" points=\"483.568,1486.45 483.568,47.2441 \"/>\n",
       "<polyline clip-path=\"url(#clip182)\" style=\"stroke:#000000; stroke-linecap:round; stroke-linejoin:round; stroke-width:2; stroke-opacity:0.1; fill:none\" points=\"872.253,1486.45 872.253,47.2441 \"/>\n",
       "<polyline clip-path=\"url(#clip182)\" style=\"stroke:#000000; stroke-linecap:round; stroke-linejoin:round; stroke-width:2; stroke-opacity:0.1; fill:none\" points=\"1260.94,1486.45 1260.94,47.2441 \"/>\n",
       "<polyline clip-path=\"url(#clip182)\" style=\"stroke:#000000; stroke-linecap:round; stroke-linejoin:round; stroke-width:2; stroke-opacity:0.1; fill:none\" points=\"1649.62,1486.45 1649.62,47.2441 \"/>\n",
       "<polyline clip-path=\"url(#clip182)\" style=\"stroke:#000000; stroke-linecap:round; stroke-linejoin:round; stroke-width:2; stroke-opacity:0.1; fill:none\" points=\"2038.31,1486.45 2038.31,47.2441 \"/>\n",
       "<polyline clip-path=\"url(#clip180)\" style=\"stroke:#000000; stroke-linecap:round; stroke-linejoin:round; stroke-width:4; stroke-opacity:1; fill:none\" points=\"169.121,1486.45 2352.76,1486.45 \"/>\n",
       "<polyline clip-path=\"url(#clip180)\" style=\"stroke:#000000; stroke-linecap:round; stroke-linejoin:round; stroke-width:4; stroke-opacity:1; fill:none\" points=\"483.568,1486.45 483.568,1467.55 \"/>\n",
       "<polyline clip-path=\"url(#clip180)\" style=\"stroke:#000000; stroke-linecap:round; stroke-linejoin:round; stroke-width:4; stroke-opacity:1; fill:none\" points=\"872.253,1486.45 872.253,1467.55 \"/>\n",
       "<polyline clip-path=\"url(#clip180)\" style=\"stroke:#000000; stroke-linecap:round; stroke-linejoin:round; stroke-width:4; stroke-opacity:1; fill:none\" points=\"1260.94,1486.45 1260.94,1467.55 \"/>\n",
       "<polyline clip-path=\"url(#clip180)\" style=\"stroke:#000000; stroke-linecap:round; stroke-linejoin:round; stroke-width:4; stroke-opacity:1; fill:none\" points=\"1649.62,1486.45 1649.62,1467.55 \"/>\n",
       "<polyline clip-path=\"url(#clip180)\" style=\"stroke:#000000; stroke-linecap:round; stroke-linejoin:round; stroke-width:4; stroke-opacity:1; fill:none\" points=\"2038.31,1486.45 2038.31,1467.55 \"/>\n",
       "<path clip-path=\"url(#clip180)\" d=\"M445.871 1517.37 Q442.26 1517.37 440.431 1520.93 Q438.626 1524.47 438.626 1531.6 Q438.626 1538.71 440.431 1542.27 Q442.26 1545.82 445.871 1545.82 Q449.505 1545.82 451.311 1542.27 Q453.14 1538.71 453.14 1531.6 Q453.14 1524.47 451.311 1520.93 Q449.505 1517.37 445.871 1517.37 M445.871 1513.66 Q451.681 1513.66 454.737 1518.27 Q457.816 1522.85 457.816 1531.6 Q457.816 1540.33 454.737 1544.94 Q451.681 1549.52 445.871 1549.52 Q440.061 1549.52 436.982 1544.94 Q433.927 1540.33 433.927 1531.6 Q433.927 1522.85 436.982 1518.27 Q440.061 1513.66 445.871 1513.66 Z\" fill=\"#000000\" fill-rule=\"nonzero\" fill-opacity=\"1\" /><path clip-path=\"url(#clip180)\" d=\"M466.033 1542.97 L470.917 1542.97 L470.917 1548.85 L466.033 1548.85 L466.033 1542.97 Z\" fill=\"#000000\" fill-rule=\"nonzero\" fill-opacity=\"1\" /><path clip-path=\"url(#clip180)\" d=\"M481.149 1514.29 L499.505 1514.29 L499.505 1518.22 L485.431 1518.22 L485.431 1526.7 Q486.45 1526.35 487.468 1526.19 Q488.487 1526 489.505 1526 Q495.292 1526 498.672 1529.17 Q502.052 1532.34 502.052 1537.76 Q502.052 1543.34 498.579 1546.44 Q495.107 1549.52 488.788 1549.52 Q486.612 1549.52 484.343 1549.15 Q482.098 1548.78 479.691 1548.04 L479.691 1543.34 Q481.774 1544.47 483.996 1545.03 Q486.218 1545.58 488.695 1545.58 Q492.7 1545.58 495.038 1543.48 Q497.376 1541.37 497.376 1537.76 Q497.376 1534.15 495.038 1532.04 Q492.7 1529.94 488.695 1529.94 Q486.82 1529.94 484.945 1530.35 Q483.093 1530.77 481.149 1531.65 L481.149 1514.29 Z\" fill=\"#000000\" fill-rule=\"nonzero\" fill-opacity=\"1\" /><path clip-path=\"url(#clip180)\" d=\"M521.264 1517.37 Q517.653 1517.37 515.825 1520.93 Q514.019 1524.47 514.019 1531.6 Q514.019 1538.71 515.825 1542.27 Q517.653 1545.82 521.264 1545.82 Q524.899 1545.82 526.704 1542.27 Q528.533 1538.71 528.533 1531.6 Q528.533 1524.47 526.704 1520.93 Q524.899 1517.37 521.264 1517.37 M521.264 1513.66 Q527.075 1513.66 530.13 1518.27 Q533.209 1522.85 533.209 1531.6 Q533.209 1540.33 530.13 1544.94 Q527.075 1549.52 521.264 1549.52 Q515.454 1549.52 512.376 1544.94 Q509.32 1540.33 509.32 1531.6 Q509.32 1522.85 512.376 1518.27 Q515.454 1513.66 521.264 1513.66 Z\" fill=\"#000000\" fill-rule=\"nonzero\" fill-opacity=\"1\" /><path clip-path=\"url(#clip180)\" d=\"M835.054 1517.37 Q831.443 1517.37 829.615 1520.93 Q827.809 1524.47 827.809 1531.6 Q827.809 1538.71 829.615 1542.27 Q831.443 1545.82 835.054 1545.82 Q838.689 1545.82 840.494 1542.27 Q842.323 1538.71 842.323 1531.6 Q842.323 1524.47 840.494 1520.93 Q838.689 1517.37 835.054 1517.37 M835.054 1513.66 Q840.864 1513.66 843.92 1518.27 Q846.999 1522.85 846.999 1531.6 Q846.999 1540.33 843.92 1544.94 Q840.864 1549.52 835.054 1549.52 Q829.244 1549.52 826.165 1544.94 Q823.11 1540.33 823.11 1531.6 Q823.11 1522.85 826.165 1518.27 Q829.244 1513.66 835.054 1513.66 Z\" fill=\"#000000\" fill-rule=\"nonzero\" fill-opacity=\"1\" /><path clip-path=\"url(#clip180)\" d=\"M855.216 1542.97 L860.1 1542.97 L860.1 1548.85 L855.216 1548.85 L855.216 1542.97 Z\" fill=\"#000000\" fill-rule=\"nonzero\" fill-opacity=\"1\" /><path clip-path=\"url(#clip180)\" d=\"M869.105 1514.29 L891.327 1514.29 L891.327 1516.28 L878.781 1548.85 L873.897 1548.85 L885.702 1518.22 L869.105 1518.22 L869.105 1514.29 Z\" fill=\"#000000\" fill-rule=\"nonzero\" fill-opacity=\"1\" /><path clip-path=\"url(#clip180)\" d=\"M900.494 1514.29 L918.85 1514.29 L918.85 1518.22 L904.776 1518.22 L904.776 1526.7 Q905.795 1526.35 906.813 1526.19 Q907.832 1526 908.85 1526 Q914.637 1526 918.017 1529.17 Q921.396 1532.34 921.396 1537.76 Q921.396 1543.34 917.924 1546.44 Q914.452 1549.52 908.133 1549.52 Q905.957 1549.52 903.688 1549.15 Q901.443 1548.78 899.035 1548.04 L899.035 1543.34 Q901.119 1544.47 903.341 1545.03 Q905.563 1545.58 908.04 1545.58 Q912.045 1545.58 914.383 1543.48 Q916.721 1541.37 916.721 1537.76 Q916.721 1534.15 914.383 1532.04 Q912.045 1529.94 908.04 1529.94 Q906.165 1529.94 904.29 1530.35 Q902.438 1530.77 900.494 1531.65 L900.494 1514.29 Z\" fill=\"#000000\" fill-rule=\"nonzero\" fill-opacity=\"1\" /><path clip-path=\"url(#clip180)\" d=\"M1213.01 1544.91 L1220.65 1544.91 L1220.65 1518.55 L1212.34 1520.21 L1212.34 1515.95 L1220.6 1514.29 L1225.28 1514.29 L1225.28 1544.91 L1232.92 1544.91 L1232.92 1548.85 L1213.01 1548.85 L1213.01 1544.91 Z\" fill=\"#000000\" fill-rule=\"nonzero\" fill-opacity=\"1\" /><path clip-path=\"url(#clip180)\" d=\"M1242.36 1542.97 L1247.25 1542.97 L1247.25 1548.85 L1242.36 1548.85 L1242.36 1542.97 Z\" fill=\"#000000\" fill-rule=\"nonzero\" fill-opacity=\"1\" /><path clip-path=\"url(#clip180)\" d=\"M1267.43 1517.37 Q1263.82 1517.37 1261.99 1520.93 Q1260.19 1524.47 1260.19 1531.6 Q1260.19 1538.71 1261.99 1542.27 Q1263.82 1545.82 1267.43 1545.82 Q1271.07 1545.82 1272.87 1542.27 Q1274.7 1538.71 1274.7 1531.6 Q1274.7 1524.47 1272.87 1520.93 Q1271.07 1517.37 1267.43 1517.37 M1267.43 1513.66 Q1273.24 1513.66 1276.3 1518.27 Q1279.38 1522.85 1279.38 1531.6 Q1279.38 1540.33 1276.3 1544.94 Q1273.24 1549.52 1267.43 1549.52 Q1261.62 1549.52 1258.54 1544.94 Q1255.49 1540.33 1255.49 1531.6 Q1255.49 1522.85 1258.54 1518.27 Q1261.62 1513.66 1267.43 1513.66 Z\" fill=\"#000000\" fill-rule=\"nonzero\" fill-opacity=\"1\" /><path clip-path=\"url(#clip180)\" d=\"M1297.59 1517.37 Q1293.98 1517.37 1292.15 1520.93 Q1290.35 1524.47 1290.35 1531.6 Q1290.35 1538.71 1292.15 1542.27 Q1293.98 1545.82 1297.59 1545.82 Q1301.23 1545.82 1303.03 1542.27 Q1304.86 1538.71 1304.86 1531.6 Q1304.86 1524.47 1303.03 1520.93 Q1301.23 1517.37 1297.59 1517.37 M1297.59 1513.66 Q1303.4 1513.66 1306.46 1518.27 Q1309.54 1522.85 1309.54 1531.6 Q1309.54 1540.33 1306.46 1544.94 Q1303.4 1549.52 1297.59 1549.52 Q1291.78 1549.52 1288.7 1544.94 Q1285.65 1540.33 1285.65 1531.6 Q1285.65 1522.85 1288.7 1518.27 Q1291.78 1513.66 1297.59 1513.66 Z\" fill=\"#000000\" fill-rule=\"nonzero\" fill-opacity=\"1\" /><path clip-path=\"url(#clip180)\" d=\"M1602.19 1544.91 L1609.83 1544.91 L1609.83 1518.55 L1601.52 1520.21 L1601.52 1515.95 L1609.79 1514.29 L1614.46 1514.29 L1614.46 1544.91 L1622.1 1544.91 L1622.1 1548.85 L1602.19 1548.85 L1602.19 1544.91 Z\" fill=\"#000000\" fill-rule=\"nonzero\" fill-opacity=\"1\" /><path clip-path=\"url(#clip180)\" d=\"M1631.55 1542.97 L1636.43 1542.97 L1636.43 1548.85 L1631.55 1548.85 L1631.55 1542.97 Z\" fill=\"#000000\" fill-rule=\"nonzero\" fill-opacity=\"1\" /><path clip-path=\"url(#clip180)\" d=\"M1650.64 1544.91 L1666.96 1544.91 L1666.96 1548.85 L1645.02 1548.85 L1645.02 1544.91 Q1647.68 1542.16 1652.26 1537.53 Q1656.87 1532.88 1658.05 1531.53 Q1660.3 1529.01 1661.17 1527.27 Q1662.08 1525.51 1662.08 1523.82 Q1662.08 1521.07 1660.13 1519.33 Q1658.21 1517.6 1655.11 1517.6 Q1652.91 1517.6 1650.46 1518.36 Q1648.03 1519.13 1645.25 1520.68 L1645.25 1515.95 Q1648.07 1514.82 1650.53 1514.24 Q1652.98 1513.66 1655.02 1513.66 Q1660.39 1513.66 1663.58 1516.35 Q1666.78 1519.03 1666.78 1523.52 Q1666.78 1525.65 1665.97 1527.57 Q1665.18 1529.47 1663.07 1532.07 Q1662.49 1532.74 1659.39 1535.95 Q1656.29 1539.15 1650.64 1544.91 Z\" fill=\"#000000\" fill-rule=\"nonzero\" fill-opacity=\"1\" /><path clip-path=\"url(#clip180)\" d=\"M1676.82 1514.29 L1695.18 1514.29 L1695.18 1518.22 L1681.11 1518.22 L1681.11 1526.7 Q1682.12 1526.35 1683.14 1526.19 Q1684.16 1526 1685.18 1526 Q1690.97 1526 1694.35 1529.17 Q1697.73 1532.34 1697.73 1537.76 Q1697.73 1543.34 1694.25 1546.44 Q1690.78 1549.52 1684.46 1549.52 Q1682.29 1549.52 1680.02 1549.15 Q1677.77 1548.78 1675.36 1548.04 L1675.36 1543.34 Q1677.45 1544.47 1679.67 1545.03 Q1681.89 1545.58 1684.37 1545.58 Q1688.37 1545.58 1690.71 1543.48 Q1693.05 1541.37 1693.05 1537.76 Q1693.05 1534.15 1690.71 1532.04 Q1688.37 1529.94 1684.37 1529.94 Q1682.49 1529.94 1680.62 1530.35 Q1678.77 1530.77 1676.82 1531.65 L1676.82 1514.29 Z\" fill=\"#000000\" fill-rule=\"nonzero\" fill-opacity=\"1\" /><path clip-path=\"url(#clip180)\" d=\"M1990.38 1544.91 L1998.02 1544.91 L1998.02 1518.55 L1989.71 1520.21 L1989.71 1515.95 L1997.97 1514.29 L2002.65 1514.29 L2002.65 1544.91 L2010.29 1544.91 L2010.29 1548.85 L1990.38 1548.85 L1990.38 1544.91 Z\" fill=\"#000000\" fill-rule=\"nonzero\" fill-opacity=\"1\" /><path clip-path=\"url(#clip180)\" d=\"M2019.73 1542.97 L2024.62 1542.97 L2024.62 1548.85 L2019.73 1548.85 L2019.73 1542.97 Z\" fill=\"#000000\" fill-rule=\"nonzero\" fill-opacity=\"1\" /><path clip-path=\"url(#clip180)\" d=\"M2034.85 1514.29 L2053.21 1514.29 L2053.21 1518.22 L2039.13 1518.22 L2039.13 1526.7 Q2040.15 1526.35 2041.17 1526.19 Q2042.19 1526 2043.21 1526 Q2048.99 1526 2052.37 1529.17 Q2055.75 1532.34 2055.75 1537.76 Q2055.75 1543.34 2052.28 1546.44 Q2048.81 1549.52 2042.49 1549.52 Q2040.31 1549.52 2038.04 1549.15 Q2035.8 1548.78 2033.39 1548.04 L2033.39 1543.34 Q2035.47 1544.47 2037.7 1545.03 Q2039.92 1545.58 2042.4 1545.58 Q2046.4 1545.58 2048.74 1543.48 Q2051.08 1541.37 2051.08 1537.76 Q2051.08 1534.15 2048.74 1532.04 Q2046.4 1529.94 2042.4 1529.94 Q2040.52 1529.94 2038.65 1530.35 Q2036.79 1530.77 2034.85 1531.65 L2034.85 1514.29 Z\" fill=\"#000000\" fill-rule=\"nonzero\" fill-opacity=\"1\" /><path clip-path=\"url(#clip180)\" d=\"M2074.96 1517.37 Q2071.35 1517.37 2069.52 1520.93 Q2067.72 1524.47 2067.72 1531.6 Q2067.72 1538.71 2069.52 1542.27 Q2071.35 1545.82 2074.96 1545.82 Q2078.6 1545.82 2080.4 1542.27 Q2082.23 1538.71 2082.23 1531.6 Q2082.23 1524.47 2080.4 1520.93 Q2078.6 1517.37 2074.96 1517.37 M2074.96 1513.66 Q2080.77 1513.66 2083.83 1518.27 Q2086.91 1522.85 2086.91 1531.6 Q2086.91 1540.33 2083.83 1544.94 Q2080.77 1549.52 2074.96 1549.52 Q2069.15 1549.52 2066.08 1544.94 Q2063.02 1540.33 2063.02 1531.6 Q2063.02 1522.85 2066.08 1518.27 Q2069.15 1513.66 2074.96 1513.66 Z\" fill=\"#000000\" fill-rule=\"nonzero\" fill-opacity=\"1\" /><polyline clip-path=\"url(#clip182)\" style=\"stroke:#000000; stroke-linecap:round; stroke-linejoin:round; stroke-width:2; stroke-opacity:0.1; fill:none\" points=\"169.121,1486.45 2352.76,1486.45 \"/>\n",
       "<polyline clip-path=\"url(#clip182)\" style=\"stroke:#000000; stroke-linecap:round; stroke-linejoin:round; stroke-width:2; stroke-opacity:0.1; fill:none\" points=\"169.121,1246.58 2352.76,1246.58 \"/>\n",
       "<polyline clip-path=\"url(#clip182)\" style=\"stroke:#000000; stroke-linecap:round; stroke-linejoin:round; stroke-width:2; stroke-opacity:0.1; fill:none\" points=\"169.121,1006.71 2352.76,1006.71 \"/>\n",
       "<polyline clip-path=\"url(#clip182)\" style=\"stroke:#000000; stroke-linecap:round; stroke-linejoin:round; stroke-width:2; stroke-opacity:0.1; fill:none\" points=\"169.121,766.846 2352.76,766.846 \"/>\n",
       "<polyline clip-path=\"url(#clip182)\" style=\"stroke:#000000; stroke-linecap:round; stroke-linejoin:round; stroke-width:2; stroke-opacity:0.1; fill:none\" points=\"169.121,526.979 2352.76,526.979 \"/>\n",
       "<polyline clip-path=\"url(#clip182)\" style=\"stroke:#000000; stroke-linecap:round; stroke-linejoin:round; stroke-width:2; stroke-opacity:0.1; fill:none\" points=\"169.121,287.111 2352.76,287.111 \"/>\n",
       "<polyline clip-path=\"url(#clip182)\" style=\"stroke:#000000; stroke-linecap:round; stroke-linejoin:round; stroke-width:2; stroke-opacity:0.1; fill:none\" points=\"169.121,47.2441 2352.76,47.2441 \"/>\n",
       "<polyline clip-path=\"url(#clip180)\" style=\"stroke:#000000; stroke-linecap:round; stroke-linejoin:round; stroke-width:4; stroke-opacity:1; fill:none\" points=\"169.121,1486.45 169.121,47.2441 \"/>\n",
       "<polyline clip-path=\"url(#clip180)\" style=\"stroke:#000000; stroke-linecap:round; stroke-linejoin:round; stroke-width:4; stroke-opacity:1; fill:none\" points=\"169.121,1486.45 188.019,1486.45 \"/>\n",
       "<polyline clip-path=\"url(#clip180)\" style=\"stroke:#000000; stroke-linecap:round; stroke-linejoin:round; stroke-width:4; stroke-opacity:1; fill:none\" points=\"169.121,1246.58 188.019,1246.58 \"/>\n",
       "<polyline clip-path=\"url(#clip180)\" style=\"stroke:#000000; stroke-linecap:round; stroke-linejoin:round; stroke-width:4; stroke-opacity:1; fill:none\" points=\"169.121,1006.71 188.019,1006.71 \"/>\n",
       "<polyline clip-path=\"url(#clip180)\" style=\"stroke:#000000; stroke-linecap:round; stroke-linejoin:round; stroke-width:4; stroke-opacity:1; fill:none\" points=\"169.121,766.846 188.019,766.846 \"/>\n",
       "<polyline clip-path=\"url(#clip180)\" style=\"stroke:#000000; stroke-linecap:round; stroke-linejoin:round; stroke-width:4; stroke-opacity:1; fill:none\" points=\"169.121,526.979 188.019,526.979 \"/>\n",
       "<polyline clip-path=\"url(#clip180)\" style=\"stroke:#000000; stroke-linecap:round; stroke-linejoin:round; stroke-width:4; stroke-opacity:1; fill:none\" points=\"169.121,287.111 188.019,287.111 \"/>\n",
       "<polyline clip-path=\"url(#clip180)\" style=\"stroke:#000000; stroke-linecap:round; stroke-linejoin:round; stroke-width:4; stroke-opacity:1; fill:none\" points=\"169.121,47.2441 188.019,47.2441 \"/>\n",
       "<path clip-path=\"url(#clip180)\" d=\"M121.177 1472.25 Q117.566 1472.25 115.737 1475.81 Q113.932 1479.35 113.932 1486.48 Q113.932 1493.59 115.737 1497.15 Q117.566 1500.7 121.177 1500.7 Q124.811 1500.7 126.617 1497.15 Q128.445 1493.59 128.445 1486.48 Q128.445 1479.35 126.617 1475.81 Q124.811 1472.25 121.177 1472.25 M121.177 1468.54 Q126.987 1468.54 130.043 1473.15 Q133.121 1477.73 133.121 1486.48 Q133.121 1495.21 130.043 1499.82 Q126.987 1504.4 121.177 1504.4 Q115.367 1504.4 112.288 1499.82 Q109.233 1495.21 109.233 1486.48 Q109.233 1477.73 112.288 1473.15 Q115.367 1468.54 121.177 1468.54 Z\" fill=\"#000000\" fill-rule=\"nonzero\" fill-opacity=\"1\" /><path clip-path=\"url(#clip180)\" d=\"M85.0429 1259.93 L101.362 1259.93 L101.362 1263.86 L79.4179 1263.86 L79.4179 1259.93 Q82.0799 1257.17 86.6632 1252.54 Q91.2697 1247.89 92.4502 1246.55 Q94.6956 1244.02 95.5752 1242.29 Q96.478 1240.53 96.478 1238.84 Q96.478 1236.08 94.5336 1234.35 Q92.6123 1232.61 89.5104 1232.61 Q87.3114 1232.61 84.8577 1233.37 Q82.4271 1234.14 79.6494 1235.69 L79.6494 1230.97 Q82.4734 1229.83 84.9271 1229.25 Q87.3808 1228.68 89.4178 1228.68 Q94.7882 1228.68 97.9826 1231.36 Q101.177 1234.05 101.177 1238.54 Q101.177 1240.67 100.367 1242.59 Q99.5798 1244.49 97.4734 1247.08 Q96.8947 1247.75 93.7928 1250.97 Q90.691 1254.16 85.0429 1259.93 Z\" fill=\"#000000\" fill-rule=\"nonzero\" fill-opacity=\"1\" /><path clip-path=\"url(#clip180)\" d=\"M121.177 1232.38 Q117.566 1232.38 115.737 1235.94 Q113.932 1239.49 113.932 1246.62 Q113.932 1253.72 115.737 1257.29 Q117.566 1260.83 121.177 1260.83 Q124.811 1260.83 126.617 1257.29 Q128.445 1253.72 128.445 1246.62 Q128.445 1239.49 126.617 1235.94 Q124.811 1232.38 121.177 1232.38 M121.177 1228.68 Q126.987 1228.68 130.043 1233.28 Q133.121 1237.87 133.121 1246.62 Q133.121 1255.34 130.043 1259.95 Q126.987 1264.53 121.177 1264.53 Q115.367 1264.53 112.288 1259.95 Q109.233 1255.34 109.233 1246.62 Q109.233 1237.87 112.288 1233.28 Q115.367 1228.68 121.177 1228.68 Z\" fill=\"#000000\" fill-rule=\"nonzero\" fill-opacity=\"1\" /><path clip-path=\"url(#clip180)\" d=\"M93.8623 993.507 L82.0568 1011.96 L93.8623 1011.96 L93.8623 993.507 M92.6354 989.433 L98.515 989.433 L98.515 1011.96 L103.446 1011.96 L103.446 1015.85 L98.515 1015.85 L98.515 1023.99 L93.8623 1023.99 L93.8623 1015.85 L78.2605 1015.85 L78.2605 1011.33 L92.6354 989.433 Z\" fill=\"#000000\" fill-rule=\"nonzero\" fill-opacity=\"1\" /><path clip-path=\"url(#clip180)\" d=\"M121.177 992.512 Q117.566 992.512 115.737 996.077 Q113.932 999.618 113.932 1006.75 Q113.932 1013.85 115.737 1017.42 Q117.566 1020.96 121.177 1020.96 Q124.811 1020.96 126.617 1017.42 Q128.445 1013.85 128.445 1006.75 Q128.445 999.618 126.617 996.077 Q124.811 992.512 121.177 992.512 M121.177 988.808 Q126.987 988.808 130.043 993.415 Q133.121 997.998 133.121 1006.75 Q133.121 1015.47 130.043 1020.08 Q126.987 1024.66 121.177 1024.66 Q115.367 1024.66 112.288 1020.08 Q109.233 1015.47 109.233 1006.75 Q109.233 997.998 112.288 993.415 Q115.367 988.808 121.177 988.808 Z\" fill=\"#000000\" fill-rule=\"nonzero\" fill-opacity=\"1\" /><path clip-path=\"url(#clip180)\" d=\"M91.5938 764.983 Q88.4456 764.983 86.5938 767.135 Q84.7651 769.288 84.7651 773.038 Q84.7651 776.765 86.5938 778.941 Q88.4456 781.094 91.5938 781.094 Q94.7419 781.094 96.5706 778.941 Q98.4224 776.765 98.4224 773.038 Q98.4224 769.288 96.5706 767.135 Q94.7419 764.983 91.5938 764.983 M100.876 750.33 L100.876 754.589 Q99.1169 753.756 97.3113 753.316 Q95.5289 752.876 93.7697 752.876 Q89.1401 752.876 86.6864 756.001 Q84.2558 759.126 83.9086 765.446 Q85.2743 763.432 87.3345 762.367 Q89.3947 761.279 91.8715 761.279 Q97.0798 761.279 100.089 764.45 Q103.121 767.598 103.121 773.038 Q103.121 778.362 99.9733 781.58 Q96.8252 784.797 91.5938 784.797 Q85.5984 784.797 82.4271 780.214 Q79.2559 775.608 79.2559 766.881 Q79.2559 758.686 83.1447 753.825 Q87.0336 748.941 93.5845 748.941 Q95.3437 748.941 97.1261 749.288 Q98.9317 749.635 100.876 750.33 Z\" fill=\"#000000\" fill-rule=\"nonzero\" fill-opacity=\"1\" /><path clip-path=\"url(#clip180)\" d=\"M121.177 752.645 Q117.566 752.645 115.737 756.209 Q113.932 759.751 113.932 766.881 Q113.932 773.987 115.737 777.552 Q117.566 781.094 121.177 781.094 Q124.811 781.094 126.617 777.552 Q128.445 773.987 128.445 766.881 Q128.445 759.751 126.617 756.209 Q124.811 752.645 121.177 752.645 M121.177 748.941 Q126.987 748.941 130.043 753.547 Q133.121 758.131 133.121 766.881 Q133.121 775.608 130.043 780.214 Q126.987 784.797 121.177 784.797 Q115.367 784.797 112.288 780.214 Q109.233 775.608 109.233 766.881 Q109.233 758.131 112.288 753.547 Q115.367 748.941 121.177 748.941 Z\" fill=\"#000000\" fill-rule=\"nonzero\" fill-opacity=\"1\" /><path clip-path=\"url(#clip180)\" d=\"M91.0151 527.847 Q87.6817 527.847 85.7605 529.629 Q83.8623 531.412 83.8623 534.537 Q83.8623 537.662 85.7605 539.444 Q87.6817 541.226 91.0151 541.226 Q94.3484 541.226 96.2697 539.444 Q98.1909 537.638 98.1909 534.537 Q98.1909 531.412 96.2697 529.629 Q94.3715 527.847 91.0151 527.847 M86.3392 525.856 Q83.3299 525.115 81.6401 523.055 Q79.9735 520.995 79.9735 518.032 Q79.9735 513.888 82.9133 511.481 Q85.8762 509.074 91.0151 509.074 Q96.1771 509.074 99.1169 511.481 Q102.057 513.888 102.057 518.032 Q102.057 520.995 100.367 523.055 Q98.7002 525.115 95.7141 525.856 Q99.0937 526.643 100.969 528.935 Q102.867 531.226 102.867 534.537 Q102.867 539.56 99.7882 542.245 Q96.7326 544.93 91.0151 544.93 Q85.2975 544.93 82.2188 542.245 Q79.1633 539.56 79.1633 534.537 Q79.1633 531.226 81.0614 528.935 Q82.9595 526.643 86.3392 525.856 M84.6262 518.472 Q84.6262 521.157 86.2929 522.662 Q87.9827 524.166 91.0151 524.166 Q94.0243 524.166 95.7141 522.662 Q97.4271 521.157 97.4271 518.472 Q97.4271 515.787 95.7141 514.282 Q94.0243 512.777 91.0151 512.777 Q87.9827 512.777 86.2929 514.282 Q84.6262 515.787 84.6262 518.472 Z\" fill=\"#000000\" fill-rule=\"nonzero\" fill-opacity=\"1\" /><path clip-path=\"url(#clip180)\" d=\"M121.177 512.777 Q117.566 512.777 115.737 516.342 Q113.932 519.884 113.932 527.013 Q113.932 534.12 115.737 537.685 Q117.566 541.226 121.177 541.226 Q124.811 541.226 126.617 537.685 Q128.445 534.12 128.445 527.013 Q128.445 519.884 126.617 516.342 Q124.811 512.777 121.177 512.777 M121.177 509.074 Q126.987 509.074 130.043 513.68 Q133.121 518.263 133.121 527.013 Q133.121 535.74 130.043 540.347 Q126.987 544.93 121.177 544.93 Q115.367 544.93 112.288 540.347 Q109.233 535.74 109.233 527.013 Q109.233 518.263 112.288 513.68 Q115.367 509.074 121.177 509.074 Z\" fill=\"#000000\" fill-rule=\"nonzero\" fill-opacity=\"1\" /><path clip-path=\"url(#clip180)\" d=\"M51.6634 300.456 L59.3023 300.456 L59.3023 274.091 L50.9921 275.757 L50.9921 271.498 L59.256 269.831 L63.9319 269.831 L63.9319 300.456 L71.5707 300.456 L71.5707 304.391 L51.6634 304.391 L51.6634 300.456 Z\" fill=\"#000000\" fill-rule=\"nonzero\" fill-opacity=\"1\" /><path clip-path=\"url(#clip180)\" d=\"M91.0151 272.91 Q87.404 272.91 85.5753 276.475 Q83.7697 280.017 83.7697 287.146 Q83.7697 294.253 85.5753 297.817 Q87.404 301.359 91.0151 301.359 Q94.6493 301.359 96.4548 297.817 Q98.2835 294.253 98.2835 287.146 Q98.2835 280.017 96.4548 276.475 Q94.6493 272.91 91.0151 272.91 M91.0151 269.206 Q96.8252 269.206 99.8808 273.813 Q102.959 278.396 102.959 287.146 Q102.959 295.873 99.8808 300.479 Q96.8252 305.063 91.0151 305.063 Q85.2049 305.063 82.1262 300.479 Q79.0707 295.873 79.0707 287.146 Q79.0707 278.396 82.1262 273.813 Q85.2049 269.206 91.0151 269.206 Z\" fill=\"#000000\" fill-rule=\"nonzero\" fill-opacity=\"1\" /><path clip-path=\"url(#clip180)\" d=\"M121.177 272.91 Q117.566 272.91 115.737 276.475 Q113.932 280.017 113.932 287.146 Q113.932 294.253 115.737 297.817 Q117.566 301.359 121.177 301.359 Q124.811 301.359 126.617 297.817 Q128.445 294.253 128.445 287.146 Q128.445 280.017 126.617 276.475 Q124.811 272.91 121.177 272.91 M121.177 269.206 Q126.987 269.206 130.043 273.813 Q133.121 278.396 133.121 287.146 Q133.121 295.873 130.043 300.479 Q126.987 305.063 121.177 305.063 Q115.367 305.063 112.288 300.479 Q109.233 295.873 109.233 287.146 Q109.233 278.396 112.288 273.813 Q115.367 269.206 121.177 269.206 Z\" fill=\"#000000\" fill-rule=\"nonzero\" fill-opacity=\"1\" /><path clip-path=\"url(#clip180)\" d=\"M51.6634 60.5889 L59.3023 60.5889 L59.3023 34.2233 L50.9921 35.89 L50.9921 31.6308 L59.256 29.9641 L63.9319 29.9641 L63.9319 60.5889 L71.5707 60.5889 L71.5707 64.5241 L51.6634 64.5241 L51.6634 60.5889 Z\" fill=\"#000000\" fill-rule=\"nonzero\" fill-opacity=\"1\" /><path clip-path=\"url(#clip180)\" d=\"M85.0429 60.5889 L101.362 60.5889 L101.362 64.5241 L79.4179 64.5241 L79.4179 60.5889 Q82.0799 57.8343 86.6632 53.2047 Q91.2697 48.552 92.4502 47.2094 Q94.6956 44.6862 95.5752 42.9501 Q96.478 41.1909 96.478 39.5011 Q96.478 36.7465 94.5336 35.0104 Q92.6123 33.2743 89.5104 33.2743 Q87.3114 33.2743 84.8577 34.0381 Q82.4271 34.802 79.6494 36.3529 L79.6494 31.6308 Q82.4734 30.4965 84.9271 29.9178 Q87.3808 29.3391 89.4178 29.3391 Q94.7882 29.3391 97.9826 32.0243 Q101.177 34.7094 101.177 39.2002 Q101.177 41.3298 100.367 43.2511 Q99.5798 45.1492 97.4734 47.7418 Q96.8947 48.4131 93.7928 51.6306 Q90.691 54.8251 85.0429 60.5889 Z\" fill=\"#000000\" fill-rule=\"nonzero\" fill-opacity=\"1\" /><path clip-path=\"url(#clip180)\" d=\"M121.177 33.0428 Q117.566 33.0428 115.737 36.6076 Q113.932 40.1492 113.932 47.2788 Q113.932 54.3853 115.737 57.9501 Q117.566 61.4917 121.177 61.4917 Q124.811 61.4917 126.617 57.9501 Q128.445 54.3853 128.445 47.2788 Q128.445 40.1492 126.617 36.6076 Q124.811 33.0428 121.177 33.0428 M121.177 29.3391 Q126.987 29.3391 130.043 33.9456 Q133.121 38.5289 133.121 47.2788 Q133.121 56.0056 130.043 60.6121 Q126.987 65.1954 121.177 65.1954 Q115.367 65.1954 112.288 60.6121 Q109.233 56.0056 109.233 47.2788 Q109.233 38.5289 112.288 33.9456 Q115.367 29.3391 121.177 29.3391 Z\" fill=\"#000000\" fill-rule=\"nonzero\" fill-opacity=\"1\" /><path clip-path=\"url(#clip182)\" d=\"M289.225 1474.45 L289.225 1486.45 L366.962 1486.45 L366.962 1474.45 L289.225 1474.45 L289.225 1474.45  Z\" fill=\"#009af9\" fill-rule=\"evenodd\" fill-opacity=\"1\"/>\n",
       "<polyline clip-path=\"url(#clip182)\" style=\"stroke:#000000; stroke-linecap:round; stroke-linejoin:round; stroke-width:4; stroke-opacity:1; fill:none\" points=\"289.225,1474.45 289.225,1486.45 366.962,1486.45 366.962,1474.45 289.225,1474.45 \"/>\n",
       "<path clip-path=\"url(#clip182)\" d=\"M366.962 1438.47 L366.962 1486.45 L444.699 1486.45 L444.699 1438.47 L366.962 1438.47 L366.962 1438.47  Z\" fill=\"#009af9\" fill-rule=\"evenodd\" fill-opacity=\"1\"/>\n",
       "<polyline clip-path=\"url(#clip182)\" style=\"stroke:#000000; stroke-linecap:round; stroke-linejoin:round; stroke-width:4; stroke-opacity:1; fill:none\" points=\"366.962,1438.47 366.962,1486.45 444.699,1486.45 444.699,1438.47 366.962,1438.47 \"/>\n",
       "<path clip-path=\"url(#clip182)\" d=\"M444.699 1402.49 L444.699 1486.45 L522.436 1486.45 L522.436 1402.49 L444.699 1402.49 L444.699 1402.49  Z\" fill=\"#009af9\" fill-rule=\"evenodd\" fill-opacity=\"1\"/>\n",
       "<polyline clip-path=\"url(#clip182)\" style=\"stroke:#000000; stroke-linecap:round; stroke-linejoin:round; stroke-width:4; stroke-opacity:1; fill:none\" points=\"444.699,1402.49 444.699,1486.45 522.436,1486.45 522.436,1402.49 444.699,1402.49 \"/>\n",
       "<path clip-path=\"url(#clip182)\" d=\"M522.436 1390.5 L522.436 1486.45 L600.173 1486.45 L600.173 1390.5 L522.436 1390.5 L522.436 1390.5  Z\" fill=\"#009af9\" fill-rule=\"evenodd\" fill-opacity=\"1\"/>\n",
       "<polyline clip-path=\"url(#clip182)\" style=\"stroke:#000000; stroke-linecap:round; stroke-linejoin:round; stroke-width:4; stroke-opacity:1; fill:none\" points=\"522.436,1390.5 522.436,1486.45 600.173,1486.45 600.173,1390.5 522.436,1390.5 \"/>\n",
       "<path clip-path=\"url(#clip182)\" d=\"M600.173 1318.54 L600.173 1486.45 L677.911 1486.45 L677.911 1318.54 L600.173 1318.54 L600.173 1318.54  Z\" fill=\"#009af9\" fill-rule=\"evenodd\" fill-opacity=\"1\"/>\n",
       "<polyline clip-path=\"url(#clip182)\" style=\"stroke:#000000; stroke-linecap:round; stroke-linejoin:round; stroke-width:4; stroke-opacity:1; fill:none\" points=\"600.173,1318.54 600.173,1486.45 677.911,1486.45 677.911,1318.54 600.173,1318.54 \"/>\n",
       "<path clip-path=\"url(#clip182)\" d=\"M677.911 1198.61 L677.911 1486.45 L755.648 1486.45 L755.648 1198.61 L677.911 1198.61 L677.911 1198.61  Z\" fill=\"#009af9\" fill-rule=\"evenodd\" fill-opacity=\"1\"/>\n",
       "<polyline clip-path=\"url(#clip182)\" style=\"stroke:#000000; stroke-linecap:round; stroke-linejoin:round; stroke-width:4; stroke-opacity:1; fill:none\" points=\"677.911,1198.61 677.911,1486.45 755.648,1486.45 755.648,1198.61 677.911,1198.61 \"/>\n",
       "<path clip-path=\"url(#clip182)\" d=\"M755.648 1078.67 L755.648 1486.45 L833.385 1486.45 L833.385 1078.67 L755.648 1078.67 L755.648 1078.67  Z\" fill=\"#009af9\" fill-rule=\"evenodd\" fill-opacity=\"1\"/>\n",
       "<polyline clip-path=\"url(#clip182)\" style=\"stroke:#000000; stroke-linecap:round; stroke-linejoin:round; stroke-width:4; stroke-opacity:1; fill:none\" points=\"755.648,1078.67 755.648,1486.45 833.385,1486.45 833.385,1078.67 755.648,1078.67 \"/>\n",
       "<path clip-path=\"url(#clip182)\" d=\"M833.385 1138.64 L833.385 1486.45 L911.122 1486.45 L911.122 1138.64 L833.385 1138.64 L833.385 1138.64  Z\" fill=\"#009af9\" fill-rule=\"evenodd\" fill-opacity=\"1\"/>\n",
       "<polyline clip-path=\"url(#clip182)\" style=\"stroke:#000000; stroke-linecap:round; stroke-linejoin:round; stroke-width:4; stroke-opacity:1; fill:none\" points=\"833.385,1138.64 833.385,1486.45 911.122,1486.45 911.122,1138.64 833.385,1138.64 \"/>\n",
       "<path clip-path=\"url(#clip182)\" d=\"M911.122 862.793 L911.122 1486.45 L988.859 1486.45 L988.859 862.793 L911.122 862.793 L911.122 862.793  Z\" fill=\"#009af9\" fill-rule=\"evenodd\" fill-opacity=\"1\"/>\n",
       "<polyline clip-path=\"url(#clip182)\" style=\"stroke:#000000; stroke-linecap:round; stroke-linejoin:round; stroke-width:4; stroke-opacity:1; fill:none\" points=\"911.122,862.793 911.122,1486.45 988.859,1486.45 988.859,862.793 911.122,862.793 \"/>\n",
       "<path clip-path=\"url(#clip182)\" d=\"M988.859 1138.64 L988.859 1486.45 L1066.6 1486.45 L1066.6 1138.64 L988.859 1138.64 L988.859 1138.64  Z\" fill=\"#009af9\" fill-rule=\"evenodd\" fill-opacity=\"1\"/>\n",
       "<polyline clip-path=\"url(#clip182)\" style=\"stroke:#000000; stroke-linecap:round; stroke-linejoin:round; stroke-width:4; stroke-opacity:1; fill:none\" points=\"988.859,1138.64 988.859,1486.45 1066.6,1486.45 1066.6,1138.64 988.859,1138.64 \"/>\n",
       "<path clip-path=\"url(#clip182)\" d=\"M1066.6 922.76 L1066.6 1486.45 L1144.33 1486.45 L1144.33 922.76 L1066.6 922.76 L1066.6 922.76  Z\" fill=\"#009af9\" fill-rule=\"evenodd\" fill-opacity=\"1\"/>\n",
       "<polyline clip-path=\"url(#clip182)\" style=\"stroke:#000000; stroke-linecap:round; stroke-linejoin:round; stroke-width:4; stroke-opacity:1; fill:none\" points=\"1066.6,922.76 1066.6,1486.45 1144.33,1486.45 1144.33,922.76 1066.6,922.76 \"/>\n",
       "<path clip-path=\"url(#clip182)\" d=\"M1144.33 1102.66 L1144.33 1486.45 L1222.07 1486.45 L1222.07 1102.66 L1144.33 1102.66 L1144.33 1102.66  Z\" fill=\"#009af9\" fill-rule=\"evenodd\" fill-opacity=\"1\"/>\n",
       "<polyline clip-path=\"url(#clip182)\" style=\"stroke:#000000; stroke-linecap:round; stroke-linejoin:round; stroke-width:4; stroke-opacity:1; fill:none\" points=\"1144.33,1102.66 1144.33,1486.45 1222.07,1486.45 1222.07,1102.66 1144.33,1102.66 \"/>\n",
       "<path clip-path=\"url(#clip182)\" d=\"M1222.07 934.753 L1222.07 1486.45 L1299.81 1486.45 L1299.81 934.753 L1222.07 934.753 L1222.07 934.753  Z\" fill=\"#009af9\" fill-rule=\"evenodd\" fill-opacity=\"1\"/>\n",
       "<polyline clip-path=\"url(#clip182)\" style=\"stroke:#000000; stroke-linecap:round; stroke-linejoin:round; stroke-width:4; stroke-opacity:1; fill:none\" points=\"1222.07,934.753 1222.07,1486.45 1299.81,1486.45 1299.81,934.753 1222.07,934.753 \"/>\n",
       "<path clip-path=\"url(#clip182)\" d=\"M1299.81 994.72 L1299.81 1486.45 L1377.54 1486.45 L1377.54 994.72 L1299.81 994.72 L1299.81 994.72  Z\" fill=\"#009af9\" fill-rule=\"evenodd\" fill-opacity=\"1\"/>\n",
       "<polyline clip-path=\"url(#clip182)\" style=\"stroke:#000000; stroke-linecap:round; stroke-linejoin:round; stroke-width:4; stroke-opacity:1; fill:none\" points=\"1299.81,994.72 1299.81,1486.45 1377.54,1486.45 1377.54,994.72 1299.81,994.72 \"/>\n",
       "<path clip-path=\"url(#clip182)\" d=\"M1377.54 946.746 L1377.54 1486.45 L1455.28 1486.45 L1455.28 946.746 L1377.54 946.746 L1377.54 946.746  Z\" fill=\"#009af9\" fill-rule=\"evenodd\" fill-opacity=\"1\"/>\n",
       "<polyline clip-path=\"url(#clip182)\" style=\"stroke:#000000; stroke-linecap:round; stroke-linejoin:round; stroke-width:4; stroke-opacity:1; fill:none\" points=\"1377.54,946.746 1377.54,1486.45 1455.28,1486.45 1455.28,946.746 1377.54,946.746 \"/>\n",
       "<path clip-path=\"url(#clip182)\" d=\"M1455.28 886.78 L1455.28 1486.45 L1533.02 1486.45 L1533.02 886.78 L1455.28 886.78 L1455.28 886.78  Z\" fill=\"#009af9\" fill-rule=\"evenodd\" fill-opacity=\"1\"/>\n",
       "<polyline clip-path=\"url(#clip182)\" style=\"stroke:#000000; stroke-linecap:round; stroke-linejoin:round; stroke-width:4; stroke-opacity:1; fill:none\" points=\"1455.28,886.78 1455.28,1486.45 1533.02,1486.45 1533.02,886.78 1455.28,886.78 \"/>\n",
       "<path clip-path=\"url(#clip182)\" d=\"M1533.02 946.746 L1533.02 1486.45 L1610.76 1486.45 L1610.76 946.746 L1533.02 946.746 L1533.02 946.746  Z\" fill=\"#009af9\" fill-rule=\"evenodd\" fill-opacity=\"1\"/>\n",
       "<polyline clip-path=\"url(#clip182)\" style=\"stroke:#000000; stroke-linecap:round; stroke-linejoin:round; stroke-width:4; stroke-opacity:1; fill:none\" points=\"1533.02,946.746 1533.02,1486.45 1610.76,1486.45 1610.76,946.746 1533.02,946.746 \"/>\n",
       "<path clip-path=\"url(#clip182)\" d=\"M1610.76 1090.67 L1610.76 1486.45 L1688.49 1486.45 L1688.49 1090.67 L1610.76 1090.67 L1610.76 1090.67  Z\" fill=\"#009af9\" fill-rule=\"evenodd\" fill-opacity=\"1\"/>\n",
       "<polyline clip-path=\"url(#clip182)\" style=\"stroke:#000000; stroke-linecap:round; stroke-linejoin:round; stroke-width:4; stroke-opacity:1; fill:none\" points=\"1610.76,1090.67 1610.76,1486.45 1688.49,1486.45 1688.49,1090.67 1610.76,1090.67 \"/>\n",
       "<path clip-path=\"url(#clip182)\" d=\"M1688.49 1138.64 L1688.49 1486.45 L1766.23 1486.45 L1766.23 1138.64 L1688.49 1138.64 L1688.49 1138.64  Z\" fill=\"#009af9\" fill-rule=\"evenodd\" fill-opacity=\"1\"/>\n",
       "<polyline clip-path=\"url(#clip182)\" style=\"stroke:#000000; stroke-linecap:round; stroke-linejoin:round; stroke-width:4; stroke-opacity:1; fill:none\" points=\"1688.49,1138.64 1688.49,1486.45 1766.23,1486.45 1766.23,1138.64 1688.49,1138.64 \"/>\n",
       "<path clip-path=\"url(#clip182)\" d=\"M1766.23 1246.58 L1766.23 1486.45 L1843.97 1486.45 L1843.97 1246.58 L1766.23 1246.58 L1766.23 1246.58  Z\" fill=\"#009af9\" fill-rule=\"evenodd\" fill-opacity=\"1\"/>\n",
       "<polyline clip-path=\"url(#clip182)\" style=\"stroke:#000000; stroke-linecap:round; stroke-linejoin:round; stroke-width:4; stroke-opacity:1; fill:none\" points=\"1766.23,1246.58 1766.23,1486.45 1843.97,1486.45 1843.97,1246.58 1766.23,1246.58 \"/>\n",
       "<path clip-path=\"url(#clip182)\" d=\"M1843.97 1330.53 L1843.97 1486.45 L1921.7 1486.45 L1921.7 1330.53 L1843.97 1330.53 L1843.97 1330.53  Z\" fill=\"#009af9\" fill-rule=\"evenodd\" fill-opacity=\"1\"/>\n",
       "<polyline clip-path=\"url(#clip182)\" style=\"stroke:#000000; stroke-linecap:round; stroke-linejoin:round; stroke-width:4; stroke-opacity:1; fill:none\" points=\"1843.97,1330.53 1843.97,1486.45 1921.7,1486.45 1921.7,1330.53 1843.97,1330.53 \"/>\n",
       "<path clip-path=\"url(#clip182)\" d=\"M1921.7 1390.5 L1921.7 1486.45 L1999.44 1486.45 L1999.44 1390.5 L1921.7 1390.5 L1921.7 1390.5  Z\" fill=\"#009af9\" fill-rule=\"evenodd\" fill-opacity=\"1\"/>\n",
       "<polyline clip-path=\"url(#clip182)\" style=\"stroke:#000000; stroke-linecap:round; stroke-linejoin:round; stroke-width:4; stroke-opacity:1; fill:none\" points=\"1921.7,1390.5 1921.7,1486.45 1999.44,1486.45 1999.44,1390.5 1921.7,1390.5 \"/>\n",
       "<path clip-path=\"url(#clip182)\" d=\"M1999.44 1402.49 L1999.44 1486.45 L2077.18 1486.45 L2077.18 1402.49 L1999.44 1402.49 L1999.44 1402.49  Z\" fill=\"#009af9\" fill-rule=\"evenodd\" fill-opacity=\"1\"/>\n",
       "<polyline clip-path=\"url(#clip182)\" style=\"stroke:#000000; stroke-linecap:round; stroke-linejoin:round; stroke-width:4; stroke-opacity:1; fill:none\" points=\"1999.44,1402.49 1999.44,1486.45 2077.18,1486.45 2077.18,1402.49 1999.44,1402.49 \"/>\n",
       "<path clip-path=\"url(#clip182)\" d=\"M2077.18 1414.49 L2077.18 1486.45 L2154.92 1486.45 L2154.92 1414.49 L2077.18 1414.49 L2077.18 1414.49  Z\" fill=\"#009af9\" fill-rule=\"evenodd\" fill-opacity=\"1\"/>\n",
       "<polyline clip-path=\"url(#clip182)\" style=\"stroke:#000000; stroke-linecap:round; stroke-linejoin:round; stroke-width:4; stroke-opacity:1; fill:none\" points=\"2077.18,1414.49 2077.18,1486.45 2154.92,1486.45 2154.92,1414.49 2077.18,1414.49 \"/>\n",
       "<path clip-path=\"url(#clip182)\" d=\"M2154.92 1474.45 L2154.92 1486.45 L2232.65 1486.45 L2232.65 1474.45 L2154.92 1474.45 L2154.92 1474.45  Z\" fill=\"#009af9\" fill-rule=\"evenodd\" fill-opacity=\"1\"/>\n",
       "<polyline clip-path=\"url(#clip182)\" style=\"stroke:#000000; stroke-linecap:round; stroke-linejoin:round; stroke-width:4; stroke-opacity:1; fill:none\" points=\"2154.92,1474.45 2154.92,1486.45 2232.65,1486.45 2232.65,1474.45 2154.92,1474.45 \"/>\n",
       "<circle clip-path=\"url(#clip182)\" style=\"fill:#009af9; stroke:none; fill-opacity:0\" cx=\"328.094\" cy=\"1474.45\" r=\"2\"/>\n",
       "<circle clip-path=\"url(#clip182)\" style=\"fill:#009af9; stroke:none; fill-opacity:0\" cx=\"405.831\" cy=\"1438.47\" r=\"2\"/>\n",
       "<circle clip-path=\"url(#clip182)\" style=\"fill:#009af9; stroke:none; fill-opacity:0\" cx=\"483.568\" cy=\"1402.49\" r=\"2\"/>\n",
       "<circle clip-path=\"url(#clip182)\" style=\"fill:#009af9; stroke:none; fill-opacity:0\" cx=\"561.305\" cy=\"1390.5\" r=\"2\"/>\n",
       "<circle clip-path=\"url(#clip182)\" style=\"fill:#009af9; stroke:none; fill-opacity:0\" cx=\"639.042\" cy=\"1318.54\" r=\"2\"/>\n",
       "<circle clip-path=\"url(#clip182)\" style=\"fill:#009af9; stroke:none; fill-opacity:0\" cx=\"716.779\" cy=\"1198.61\" r=\"2\"/>\n",
       "<circle clip-path=\"url(#clip182)\" style=\"fill:#009af9; stroke:none; fill-opacity:0\" cx=\"794.516\" cy=\"1078.67\" r=\"2\"/>\n",
       "<circle clip-path=\"url(#clip182)\" style=\"fill:#009af9; stroke:none; fill-opacity:0\" cx=\"872.253\" cy=\"1138.64\" r=\"2\"/>\n",
       "<circle clip-path=\"url(#clip182)\" style=\"fill:#009af9; stroke:none; fill-opacity:0\" cx=\"949.99\" cy=\"862.793\" r=\"2\"/>\n",
       "<circle clip-path=\"url(#clip182)\" style=\"fill:#009af9; stroke:none; fill-opacity:0\" cx=\"1027.73\" cy=\"1138.64\" r=\"2\"/>\n",
       "<circle clip-path=\"url(#clip182)\" style=\"fill:#009af9; stroke:none; fill-opacity:0\" cx=\"1105.46\" cy=\"922.76\" r=\"2\"/>\n",
       "<circle clip-path=\"url(#clip182)\" style=\"fill:#009af9; stroke:none; fill-opacity:0\" cx=\"1183.2\" cy=\"1102.66\" r=\"2\"/>\n",
       "<circle clip-path=\"url(#clip182)\" style=\"fill:#009af9; stroke:none; fill-opacity:0\" cx=\"1260.94\" cy=\"934.753\" r=\"2\"/>\n",
       "<circle clip-path=\"url(#clip182)\" style=\"fill:#009af9; stroke:none; fill-opacity:0\" cx=\"1338.68\" cy=\"994.72\" r=\"2\"/>\n",
       "<circle clip-path=\"url(#clip182)\" style=\"fill:#009af9; stroke:none; fill-opacity:0\" cx=\"1416.41\" cy=\"946.746\" r=\"2\"/>\n",
       "<circle clip-path=\"url(#clip182)\" style=\"fill:#009af9; stroke:none; fill-opacity:0\" cx=\"1494.15\" cy=\"886.78\" r=\"2\"/>\n",
       "<circle clip-path=\"url(#clip182)\" style=\"fill:#009af9; stroke:none; fill-opacity:0\" cx=\"1571.89\" cy=\"946.746\" r=\"2\"/>\n",
       "<circle clip-path=\"url(#clip182)\" style=\"fill:#009af9; stroke:none; fill-opacity:0\" cx=\"1649.62\" cy=\"1090.67\" r=\"2\"/>\n",
       "<circle clip-path=\"url(#clip182)\" style=\"fill:#009af9; stroke:none; fill-opacity:0\" cx=\"1727.36\" cy=\"1138.64\" r=\"2\"/>\n",
       "<circle clip-path=\"url(#clip182)\" style=\"fill:#009af9; stroke:none; fill-opacity:0\" cx=\"1805.1\" cy=\"1246.58\" r=\"2\"/>\n",
       "<circle clip-path=\"url(#clip182)\" style=\"fill:#009af9; stroke:none; fill-opacity:0\" cx=\"1882.84\" cy=\"1330.53\" r=\"2\"/>\n",
       "<circle clip-path=\"url(#clip182)\" style=\"fill:#009af9; stroke:none; fill-opacity:0\" cx=\"1960.57\" cy=\"1390.5\" r=\"2\"/>\n",
       "<circle clip-path=\"url(#clip182)\" style=\"fill:#009af9; stroke:none; fill-opacity:0\" cx=\"2038.31\" cy=\"1402.49\" r=\"2\"/>\n",
       "<circle clip-path=\"url(#clip182)\" style=\"fill:#009af9; stroke:none; fill-opacity:0\" cx=\"2116.05\" cy=\"1414.49\" r=\"2\"/>\n",
       "<circle clip-path=\"url(#clip182)\" style=\"fill:#009af9; stroke:none; fill-opacity:0\" cx=\"2193.78\" cy=\"1474.45\" r=\"2\"/>\n",
       "</svg>\n"
      ]
     },
     "execution_count": 19,
     "metadata": {},
     "output_type": "execute_result"
    }
   ],
   "source": [
    "histogram(A*ones(n,1), bins = (0.375:0.05:1.625),\n",
    "legend = false, ylim = (0,120))"
   ]
  },
  {
   "cell_type": "markdown",
   "metadata": {},
   "source": [
    "**Figure 12.1** Histogram of pixel illumination values using $p = 1$ (top) and $p̂$\n",
    "(bottom). The target intensity value is one."
   ]
  }
 ],
 "metadata": {
  "kernelspec": {
   "display_name": "Julia 1.9.3",
   "language": "julia",
   "name": "julia-1.9"
  },
  "language_info": {
   "file_extension": ".jl",
   "mimetype": "application/julia",
   "name": "julia",
   "version": "1.10.3"
  }
 },
 "nbformat": 4,
 "nbformat_minor": 4
}
