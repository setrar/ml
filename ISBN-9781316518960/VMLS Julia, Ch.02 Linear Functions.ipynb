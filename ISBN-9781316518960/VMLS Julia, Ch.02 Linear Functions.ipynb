{
 "cells": [
  {
   "cell_type": "markdown",
   "metadata": {},
   "source": [
    "## Chapter 2\n",
    "# Linear functions\n",
    "### 2.1 Linear functions"
   ]
  },
  {
   "cell_type": "markdown",
   "metadata": {},
   "source": [
    "**Functions in Julia.** Julia provides several methods for defining functions. A simple function given by an expression such as $f(x) = x_1 + x_2 − x^{2}_4$ can be defined in a single line."
   ]
  },
  {
   "cell_type": "code",
   "execution_count": 1,
   "metadata": {},
   "outputs": [
    {
     "data": {
      "text/plain": [
       "f (generic function with 1 method)"
      ]
     },
     "execution_count": 1,
     "metadata": {},
     "output_type": "execute_result"
    }
   ],
   "source": [
    "f(x) = x[1] + x[2] - x[4]^2"
   ]
  },
  {
   "cell_type": "code",
   "execution_count": 2,
   "metadata": {},
   "outputs": [
    {
     "data": {
      "text/plain": [
       "-5"
      ]
     },
     "execution_count": 2,
     "metadata": {},
     "output_type": "execute_result"
    }
   ],
   "source": [
    "f([-1,0,1,2])"
   ]
  },
  {
   "cell_type": "markdown",
   "metadata": {},
   "source": [
    "Since the function definition refers to the first, second, and fourth elements of the argument `x`, these have to be defined when you call or evaluate `f(x)`; you’ll get an error if, for example, `x` has dimension `3` or is a scalar.\n",
    "\n",
    "**Superposition.** Suppose `a` is an `n`-vector. The function $f(x) = a^Tx$ is linear, which means that for any `n`-vectors `x` and `y`, and any scalars $α$ and $β$, the superposition equality holds.\n",
    "\n",
    "$$f(αx+ βy) = αf(x) + βf(y)$$\n",
    "\n",
    "Superposition says that evaluating $f$ at a linear combination of two vectors is the same forming the linear combination of $f$ evaluated at the two vectors. Let’s define the inner product function $f$ for a specific value of `a`, and then verify superposition in Julia for specific values of $x, y, α$, and $β$. (This check does not show that the function is linear. It simply checks that superposition holds for these specific values.)"
   ]
  },
  {
   "cell_type": "code",
   "execution_count": 3,
   "metadata": {},
   "outputs": [
    {
     "data": {
      "text/plain": [
       "f (generic function with 1 method)"
      ]
     },
     "execution_count": 3,
     "metadata": {},
     "output_type": "execute_result"
    }
   ],
   "source": [
    "a = [-2, 0, 1, -3];\n",
    "f(x) = a'*x # Inner product function"
   ]
  },
  {
   "cell_type": "code",
   "execution_count": 4,
   "metadata": {},
   "outputs": [],
   "source": [
    "x = [2, 2, -1, 1]; y= [0, 1, -1, 0];\n",
    "alpha = 1.5; beta = -3.7;"
   ]
  },
  {
   "cell_type": "code",
   "execution_count": 5,
   "metadata": {},
   "outputs": [
    {
     "data": {
      "text/plain": [
       "(-8.3, -8.3, true)"
      ]
     },
     "execution_count": 5,
     "metadata": {},
     "output_type": "execute_result"
    }
   ],
   "source": [
    "lhs = f(alpha * x + beta * y)'\n",
    "rhs = alpha * f(x) + beta * f(y)'\n",
    "\n",
    "lhs, rhs, lhs==rhs"
   ]
  },
  {
   "cell_type": "markdown",
   "metadata": {},
   "source": [
    "For the function $f(x) = a^Tx$, we have $f(e_3) = a_3$. Let’s check that this holds in our example."
   ]
  },
  {
   "cell_type": "code",
   "execution_count": 6,
   "metadata": {},
   "outputs": [
    {
     "data": {
      "text/plain": [
       "1"
      ]
     },
     "execution_count": 6,
     "metadata": {},
     "output_type": "execute_result"
    }
   ],
   "source": [
    "e3 = [0, 0, 1, 0]\n",
    "f(e3)'"
   ]
  },
  {
   "cell_type": "markdown",
   "metadata": {},
   "source": [
    "**Examples.** Let’s define the average function in Julia, and check its value for a specific vector. (Julia’s `Statistics` package contains the average function, which is called mean.)"
   ]
  },
  {
   "cell_type": "code",
   "execution_count": 7,
   "metadata": {},
   "outputs": [
    {
     "data": {
      "text/plain": [
       "-0.25"
      ]
     },
     "execution_count": 7,
     "metadata": {},
     "output_type": "execute_result"
    }
   ],
   "source": [
    "avg(x) = (ones(length(x)) / length(x))'*x;\n",
    "x = [1, -3, 2, -1];\n",
    "avg(x)"
   ]
  },
  {
   "cell_type": "markdown",
   "metadata": {},
   "source": [
    "The average function can be implemented more concisely as `sum(x)/length(x)`. The `avg` function is part of the `VMLS` package; once you install and then add this package, you can use the `avg` function."
   ]
  },
  {
   "cell_type": "markdown",
   "metadata": {},
   "source": [
    "### 2.2 Taylor approximation"
   ]
  },
  {
   "cell_type": "markdown",
   "metadata": {},
   "source": [
    "**Taylor approximation.** The (first-order) Taylor approximation of a function $f$ : $R^n → R$, at the point $z$, is the affine function of $x$ given by\n",
    "\n",
    "$$f̂(x) = f(z) +∇f(z)^T (x − z).$$\n",
    "\n",
    "For $x$ near $z$, $f̂(x)$ is very close to $f(x)$. Let’s try a numerical example (see page [36](https://web.stanford.edu/\\\\%7Eboyd/vmls/vmls.pdf#section*.54)) using Julia."
   ]
  },
  {
   "cell_type": "code",
   "execution_count": 8,
   "metadata": {},
   "outputs": [
    {
     "data": {
      "text/plain": [
       "(3.718281828459045, 3.718281828459045)"
      ]
     },
     "execution_count": 8,
     "metadata": {},
     "output_type": "execute_result"
    }
   ],
   "source": [
    "f(x) = x[1] + exp(x[2]-x[1]); # A function\n",
    "# And its gradient\n",
    "grad_f(z) = [1-exp(z[2]-z[1]), exp(z[2]-z[1])];\n",
    "z = [1, 2];\n",
    "# Taylor approximation at z\n",
    "f_hat(x) = f(z) + grad_f(z)'*(x-z);\n",
    "# Let’s compare f and f_hat for some specific x’s\n",
    "f([1,2]), f_hat([1,2])"
   ]
  },
  {
   "cell_type": "code",
   "execution_count": 9,
   "metadata": {},
   "outputs": [
    {
     "data": {
      "text/plain": [
       "(3.7331947639642977, 3.732647465028226)"
      ]
     },
     "execution_count": 9,
     "metadata": {},
     "output_type": "execute_result"
    }
   ],
   "source": [
    "f([0.96,1.98]), f_hat([0.96,1.98])"
   ]
  },
  {
   "cell_type": "code",
   "execution_count": 10,
   "metadata": {
    "scrolled": true
   },
   "outputs": [
    {
     "data": {
      "text/plain": [
       "(3.845601015016916, 3.845464646743635)"
      ]
     },
     "execution_count": 10,
     "metadata": {},
     "output_type": "execute_result"
    }
   ],
   "source": [
    "f([1.10,2.11]), f_hat([1.10,2.11])"
   ]
  },
  {
   "cell_type": "markdown",
   "metadata": {},
   "source": [
    "### 2.3 Regression model\n",
    "\n",
    "**Regression model.** The regression model is the affine function of $x$ given by, $f(x) = x^Tβ + v$, where the $n$-vector $β$ and the scalar $v$ are the parameters in the model. The regression model is used to guess or approximate a real or observed value of the number $y$ that is associated with $x$. (We’ll see later how to find the parameters in a regression model, using data.)\n",
    "\n",
    "Let’s define the regression model for house sale prices described on page [39](https://web.stanford.edu/~boyd/vmls/vmls.pdf#section*.56) of  VMLS, and compare its prediction to the true house sale price $y$ for a few values of $x$."
   ]
  },
  {
   "cell_type": "code",
   "execution_count": 11,
   "metadata": {},
   "outputs": [
    {
     "data": {
      "text/plain": [
       "(213.61852000000002, 234.5)"
      ]
     },
     "execution_count": 11,
     "metadata": {},
     "output_type": "execute_result"
    }
   ],
   "source": [
    "# Parameters in regression model\n",
    "beta = [148.73, -18.85]; v = 54.40;\n",
    "y_hat(x) = x'*beta + v;\n",
    "# Evaluate regression model prediction\n",
    "x = [0.846, 1]; y = 115;\n",
    "y_hat(x), y\n",
    "x = [1.324,2]; y = 234.50;\n",
    "y_hat(x), y"
   ]
  },
  {
   "cell_type": "markdown",
   "metadata": {},
   "source": [
    "Our first prediction is pretty bad; our second one is better.\n",
    "\n",
    "A scatter plot of predicted and actual house prices (Figure [2.4](https://web.stanford.edu/\\\\%7Eboyd/vmls/vmls.pdf#figure.2.4) of VMLS) can be generated as follows. We use the VMLS function house_sales_data to obtain the vectors price, area, beds (see appendix A)"
   ]
  },
  {
   "cell_type": "code",
   "execution_count": 12,
   "metadata": {},
   "outputs": [
    {
     "ename": "LoadError",
     "evalue": "ArgumentError: Package VMLS not found in current path.\n- Run `import Pkg; Pkg.add(\"VMLS\")` to install the VMLS package.",
     "output_type": "error",
     "traceback": [
      "ArgumentError: Package VMLS not found in current path.\n- Run `import Pkg; Pkg.add(\"VMLS\")` to install the VMLS package.",
      "",
      "Stacktrace:",
      " [1] macro expansion",
      "   @ ./loading.jl:1772 [inlined]",
      " [2] macro expansion",
      "   @ ./lock.jl:267 [inlined]",
      " [3] __require(into::Module, mod::Symbol)",
      "   @ Base ./loading.jl:1753",
      " [4] #invoke_in_world#3",
      "   @ ./essentials.jl:926 [inlined]",
      " [5] invoke_in_world",
      "   @ ./essentials.jl:923 [inlined]",
      " [6] require(into::Module, mod::Symbol)",
      "   @ Base ./loading.jl:1746"
     ]
    }
   ],
   "source": [
    "using VMLS\n",
    "D = house_sales_data();"
   ]
  },
  {
   "cell_type": "code",
   "execution_count": 13,
   "metadata": {},
   "outputs": [
    {
     "ename": "LoadError",
     "evalue": "UndefVarError: `D` not defined",
     "output_type": "error",
     "traceback": [
      "UndefVarError: `D` not defined",
      "",
      "Stacktrace:",
      " [1] top-level scope",
      "   @ In[13]:1"
     ]
    }
   ],
   "source": [
    "price = D[\"price\"]"
   ]
  },
  {
   "cell_type": "code",
   "execution_count": 14,
   "metadata": {},
   "outputs": [
    {
     "ename": "LoadError",
     "evalue": "UndefVarError: `D` not defined",
     "output_type": "error",
     "traceback": [
      "UndefVarError: `D` not defined",
      "",
      "Stacktrace:",
      " [1] top-level scope",
      "   @ In[14]:1"
     ]
    }
   ],
   "source": [
    "area = D[\"area\"]"
   ]
  },
  {
   "cell_type": "code",
   "execution_count": 15,
   "metadata": {},
   "outputs": [
    {
     "ename": "LoadError",
     "evalue": "UndefVarError: `D` not defined",
     "output_type": "error",
     "traceback": [
      "UndefVarError: `D` not defined",
      "",
      "Stacktrace:",
      " [1] top-level scope",
      "   @ In[15]:1"
     ]
    }
   ],
   "source": [
    "beds = D[\"beds\"]"
   ]
  },
  {
   "cell_type": "code",
   "execution_count": 16,
   "metadata": {},
   "outputs": [
    {
     "ename": "LoadError",
     "evalue": "UndefVarError: `area` not defined",
     "output_type": "error",
     "traceback": [
      "UndefVarError: `area` not defined",
      "",
      "Stacktrace:",
      " [1] top-level scope",
      "   @ In[16]:2"
     ]
    }
   ],
   "source": [
    "v = 54.4017;\n",
    "beta = [ 147.7251, -18.8534 ];\n",
    "predicted = v .+ beta[1] * area + beta[2] * beds;\n",
    "using Plots\n",
    "scatter(price, predicted, lims = (0,800))\n",
    "plot!([0, 800], [0, 800], linestyle = :dash)\n",
    "# make axes equal and add labels\n",
    "plot!(xlims = (0,800), ylims = (0,800), size = (500,500))\n",
    "plot!(xlabel = \"Actual price\", ylabel = \"Predicted price\")"
   ]
  },
  {
   "cell_type": "markdown",
   "metadata": {},
   "source": [
    "**Figure 2.1** Scatter plot of actual and predicted sale prices for 774 houses sold in Sacramento during a five-day period."
   ]
  }
 ],
 "metadata": {
  "kernelspec": {
   "display_name": "Julia 1.9.3",
   "language": "julia",
   "name": "julia-1.9"
  },
  "language_info": {
   "file_extension": ".jl",
   "mimetype": "application/julia",
   "name": "julia",
   "version": "1.10.3"
  }
 },
 "nbformat": 4,
 "nbformat_minor": 4
}
