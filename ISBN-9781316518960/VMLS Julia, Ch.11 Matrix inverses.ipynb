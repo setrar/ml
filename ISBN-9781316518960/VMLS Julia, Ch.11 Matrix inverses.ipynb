{
 "cells": [
  {
   "cell_type": "code",
   "execution_count": 1,
   "metadata": {},
   "outputs": [],
   "source": [
    "using VMLS\n",
    "using LinearAlgebra"
   ]
  },
  {
   "cell_type": "markdown",
   "metadata": {},
   "source": [
    "## Chapter 11\n",
    "# Matrix inverses\n",
    "### 11.1 Left and right inverses\n",
    "We’ll see later how to find a left or right inverse, when one exists."
   ]
  },
  {
   "cell_type": "code",
   "execution_count": 2,
   "metadata": {},
   "outputs": [
    {
     "data": {
      "text/plain": [
       "3×2 Matrix{Int64}:\n",
       " -3  -4\n",
       "  4   6\n",
       "  1   1"
      ]
     },
     "execution_count": 2,
     "metadata": {},
     "output_type": "execute_result"
    }
   ],
   "source": [
    "A = [-3 -4; 4 6; 1 1]\n",
    "B = [-11 -10 16; 7 8 -11]/9 # A left inverse of A\n",
    "C = [0 -1 6; 0 1 -4]/2 # Another left inverse of A;\n",
    "A"
   ]
  },
  {
   "cell_type": "code",
   "execution_count": 3,
   "metadata": {},
   "outputs": [
    {
     "data": {
      "text/plain": [
       "2×3 Matrix{Float64}:\n",
       " -1.22222   -1.11111    1.77778\n",
       "  0.777778   0.888889  -1.22222"
      ]
     },
     "execution_count": 3,
     "metadata": {},
     "output_type": "execute_result"
    }
   ],
   "source": [
    "B"
   ]
  },
  {
   "cell_type": "code",
   "execution_count": 4,
   "metadata": {},
   "outputs": [
    {
     "data": {
      "text/plain": [
       "2×3 Matrix{Float64}:\n",
       " 0.0  -0.5   3.0\n",
       " 0.0   0.5  -2.0"
      ]
     },
     "execution_count": 4,
     "metadata": {},
     "output_type": "execute_result"
    }
   ],
   "source": [
    "C"
   ]
  },
  {
   "cell_type": "code",
   "execution_count": 5,
   "metadata": {},
   "outputs": [
    {
     "data": {
      "text/plain": [
       "([1.0 0.0; -4.440892098500626e-16 0.9999999999999996], [1.0 0.0; 0.0 1.0])"
      ]
     },
     "execution_count": 5,
     "metadata": {},
     "output_type": "execute_result"
    }
   ],
   "source": [
    "# Let’s check\n",
    "B*A, C*A"
   ]
  },
  {
   "cell_type": "markdown",
   "metadata": {},
   "source": [
    "### 11.2 Inverse\n",
    "\n",
    "If `A` is invertible, its inverse is given by `inv(A)` (and also `A^-1`). You’ll get an error if `A` is not invertible, or not square."
   ]
  },
  {
   "cell_type": "code",
   "execution_count": 6,
   "metadata": {},
   "outputs": [
    {
     "data": {
      "text/plain": [
       "3×3 Matrix{Float64}:\n",
       " 1.0  0.0          0.0\n",
       " 0.0  1.0          2.77556e-17\n",
       " 0.0  5.55112e-17  1.0"
      ]
     },
     "execution_count": 6,
     "metadata": {},
     "output_type": "execute_result"
    }
   ],
   "source": [
    "A = [1 -2 3; 0 2 2; -4 -4 -4]\n",
    "B = inv(A)\n",
    "B*A"
   ]
  },
  {
   "cell_type": "code",
   "execution_count": 7,
   "metadata": {},
   "outputs": [
    {
     "data": {
      "text/plain": [
       "3×3 Matrix{Float64}:\n",
       "  1.0           1.11022e-16  0.0\n",
       "  5.55112e-17   1.0          1.38778e-17\n",
       " -1.11022e-16  -2.22045e-16  1.0"
      ]
     },
     "execution_count": 7,
     "metadata": {},
     "output_type": "execute_result"
    }
   ],
   "source": [
    "A*B"
   ]
  },
  {
   "cell_type": "markdown",
   "metadata": {},
   "source": [
    "**Dual basis.** The next example illustrates the dual basis provided by the rows of the inverse $B = A^{−1}$. We calculate the expansion $x = (b^T_1 x)a_1 + · · ·+ (b^T_nx)a_n$ for a $3 × 3$ example (see page [205](https://web.stanford.edu/~boyd/vmls/vmls.pdf#section*.249) of VMLS)."
   ]
  },
  {
   "cell_type": "code",
   "execution_count": 8,
   "metadata": {},
   "outputs": [
    {
     "data": {
      "text/plain": [
       "3×3 Matrix{Int64}:\n",
       " 1   0   1\n",
       " 4  -3  -4\n",
       " 1  -1  -2"
      ]
     },
     "execution_count": 8,
     "metadata": {},
     "output_type": "execute_result"
    }
   ],
   "source": [
    "A = [ 1 0 1; 4 -3 -4; 1 -1 -2]"
   ]
  },
  {
   "cell_type": "code",
   "execution_count": 9,
   "metadata": {},
   "outputs": [
    {
     "data": {
      "text/plain": [
       "3×3 Matrix{Float64}:\n",
       "  2.0  -1.0   3.0\n",
       "  4.0  -3.0   8.0\n",
       " -1.0   1.0  -3.0"
      ]
     },
     "execution_count": 9,
     "metadata": {},
     "output_type": "execute_result"
    }
   ],
   "source": [
    "B = inv(A)"
   ]
  },
  {
   "cell_type": "code",
   "execution_count": 10,
   "metadata": {},
   "outputs": [
    {
     "data": {
      "text/plain": [
       "3-element Vector{Float64}:\n",
       "  0.2\n",
       " -0.3\n",
       "  1.2"
      ]
     },
     "execution_count": 10,
     "metadata": {},
     "output_type": "execute_result"
    }
   ],
   "source": [
    "x = [ 0.2, -0.3, 1.2]"
   ]
  },
  {
   "cell_type": "code",
   "execution_count": 11,
   "metadata": {},
   "outputs": [
    {
     "data": {
      "text/plain": [
       "3-element Vector{Float64}:\n",
       "  0.1999999999999993\n",
       " -0.29999999999999716\n",
       "  1.200000000000001"
      ]
     },
     "execution_count": 11,
     "metadata": {},
     "output_type": "execute_result"
    }
   ],
   "source": [
    "rhs = (B[1,:]'*x) * A[:,1] + (B[2,:]'*x) * A[:,2] + (B[3,:]'*x) * A[:,3]"
   ]
  },
  {
   "cell_type": "markdown",
   "metadata": {},
   "source": [
    "**Inverse via QR factorization.** The inverse of a matrix $A$ can be computed from\n",
    "its $QR$ factorization $A = QR$ via the formula $A^{−1} = R^{−1}Q^T$."
   ]
  },
  {
   "cell_type": "code",
   "execution_count": 12,
   "metadata": {},
   "outputs": [
    {
     "data": {
      "text/plain": [
       "3×3 Matrix{Float64}:\n",
       " -1.45282   0.777279  0.704602\n",
       " -0.478106  0.212672  1.01611\n",
       " -0.948302  1.01037   0.175663"
      ]
     },
     "execution_count": 12,
     "metadata": {},
     "output_type": "execute_result"
    }
   ],
   "source": [
    "A = randn(3,3);\n",
    "inv(A)"
   ]
  },
  {
   "cell_type": "code",
   "execution_count": 13,
   "metadata": {},
   "outputs": [
    {
     "data": {
      "text/plain": [
       "3×3 Matrix{Float64}:\n",
       " -1.45282   0.777279  0.704602\n",
       " -0.478106  0.212672  1.01611\n",
       " -0.948302  1.01037   0.175663"
      ]
     },
     "execution_count": 13,
     "metadata": {},
     "output_type": "execute_result"
    }
   ],
   "source": [
    "Q, R = qr(A);\n",
    "Q = Matrix(Q);\n",
    "inv(R)*Q'"
   ]
  },
  {
   "cell_type": "code",
   "execution_count": 14,
   "metadata": {},
   "outputs": [
    {
     "data": {
      "text/plain": [
       "3×3 Matrix{Float64}:\n",
       " 0.0  0.0  0.0\n",
       " 0.0  0.0  0.0\n",
       " 0.0  0.0  0.0"
      ]
     },
     "execution_count": 14,
     "metadata": {},
     "output_type": "execute_result"
    }
   ],
   "source": [
    "diff = inv(A) .- inv(R)*Q'\n",
    "[abs(round(x)) for x in diff]"
   ]
  },
  {
   "cell_type": "markdown",
   "metadata": {},
   "source": [
    "### 11.3 Solving linear equations\n",
    "**Back substitution.** Let’s first implement back substitution (VMLS Algorithm [11.1](https://web.stanford.edu/~boyd/vmls/vmls.pdf#algorithmctr.11.1)) in Julia, and check it. You won’t need this function, since Julia has a better implementation of it built in (via the backslash operation discussed below). We give it here only to demonstrate that it works."
   ]
  },
  {
   "cell_type": "code",
   "execution_count": 15,
   "metadata": {},
   "outputs": [
    {
     "data": {
      "text/plain": [
       "back_subst (generic function with 1 method)"
      ]
     },
     "execution_count": 15,
     "metadata": {},
     "output_type": "execute_result"
    }
   ],
   "source": [
    "function back_subst(R,b)\n",
    "n = length(b)\n",
    "x = zeros(n)\n",
    "for i=n:-1:1\n",
    "x[i] = (b[i] - R[i,i+1:n]'*x[i+1:n]) / R[i,i]\n",
    "end\n",
    "return x\n",
    "end"
   ]
  },
  {
   "cell_type": "code",
   "execution_count": 16,
   "metadata": {},
   "outputs": [
    {
     "data": {
      "text/plain": [
       "4×4 Matrix{Float64}:\n",
       " 1.40513  -0.425698  -1.1232     0.736444\n",
       " 0.0      -0.121381   0.108442   0.237875\n",
       " 0.0       0.0       -0.251507   1.98363\n",
       " 0.0       0.0        0.0       -0.495441"
      ]
     },
     "execution_count": 16,
     "metadata": {},
     "output_type": "execute_result"
    }
   ],
   "source": [
    "R = triu(randn(4,4)) # Random 4x4 upper triangular matrix"
   ]
  },
  {
   "cell_type": "code",
   "execution_count": 17,
   "metadata": {},
   "outputs": [
    {
     "data": {
      "text/plain": [
       "1.5700924586837751e-15"
      ]
     },
     "execution_count": 17,
     "metadata": {},
     "output_type": "execute_result"
    }
   ],
   "source": [
    "b = rand(4);\n",
    "x = back_subst(R,b);\n",
    "norm(R*x-b)"
   ]
  },
  {
   "cell_type": "markdown",
   "metadata": {},
   "source": [
    "The function `triu` gives the upper triangular part of a matrix, i.e., it zeros out the entries below the diagonal. \n",
    "\n",
    "**Backslash notation.** The Julia command for solving a set of linear equations $$Ax = b$$ is `x=A\\b`. This is faster than `x=inv(A)*b`, which first computes the inverse of $A$ and then multiplies it with $b$."
   ]
  },
  {
   "cell_type": "code",
   "execution_count": 18,
   "metadata": {},
   "outputs": [
    {
     "name": "stdout",
     "output_type": "stream",
     "text": [
      "  1.133438 seconds (968.09 k allocations: 254.618 MiB, 1.30% gc time, 32.12% compilation time)\n"
     ]
    },
    {
     "data": {
      "text/plain": [
       "3.4705760405262585e-9"
      ]
     },
     "execution_count": 18,
     "metadata": {},
     "output_type": "execute_result"
    }
   ],
   "source": [
    "n = 5000;\n",
    "A = randn(n,n); b = randn(n); # random set of equations\n",
    "@time x1 = A\\b;\n",
    "norm(b-A*x1)"
   ]
  },
  {
   "cell_type": "code",
   "execution_count": 19,
   "metadata": {},
   "outputs": [
    {
     "name": "stdout",
     "output_type": "stream",
     "text": [
      "  2.490758 seconds (8 allocations: 193.253 MiB, 2.17% gc time)\n"
     ]
    },
    {
     "data": {
      "text/plain": [
       "2.289418152608903e-9"
      ]
     },
     "execution_count": 19,
     "metadata": {},
     "output_type": "execute_result"
    }
   ],
   "source": [
    "@time x2 = inv(A)*b;\n",
    "norm(b-A*x2)"
   ]
  },
  {
   "cell_type": "markdown",
   "metadata": {},
   "source": [
    "Julia chooses a suitable algorithm for solving the equation after checking the\n",
    "properties of $A$. For example, it will use back substitution if $A$ is lower triangular.\n",
    "This explains the result in the following timing experiment."
   ]
  },
  {
   "cell_type": "code",
   "execution_count": 20,
   "metadata": {},
   "outputs": [
    {
     "name": "stdout",
     "output_type": "stream",
     "text": [
      "  0.013853 seconds (2 allocations: 39.172 KiB)\n",
      "  0.772526 seconds (6 allocations: 190.811 MiB)\n",
      "  0.049309 seconds (2 allocations: 78.172 KiB)\n",
      " 16.979523 seconds (6 allocations: 763.092 MiB, 0.35% gc time)\n"
     ]
    }
   ],
   "source": [
    "n = 5000;\n",
    "b = randn(n);\n",
    "A = tril(randn(n,n)); # random lower triangular matrix\n",
    "@time x = A\\b;\n",
    "A = randn(n,n); # random square matrix\n",
    "@time x = A\\b;\n",
    "n = 10000;\n",
    "b = randn(n);\n",
    "A = tril(randn(n,n)); # random lower triangular matrix\n",
    "@time x = A\\b;\n",
    "A = randn(n,n); # random square matrix\n",
    "@time x = A\\b;"
   ]
  },
  {
   "cell_type": "markdown",
   "metadata": {},
   "source": [
    "When we double the size from $n = 5000$ to $n = 10000$, the solution time for the\n",
    "triangular equation increases from $0.04$ seconds to $1.29$ seconds. This is a factor of\n",
    "about four, consistent with the $n^2$ complexity of backsubstitution. For the general\n",
    "square system, the solution times increases from $0.16$ seconds to $9.01$ seconds, i.e.,\n",
    "a factor of roughly eight, as we would expect given the order $n^3$ complexity.\n",
    "Factor-solve methods for multiple right-hand sides. A linear equation is solved\n",
    "by first factorizing $A$ and then solving several simpler equations with the factors\n",
    "of $A$. This is referred to as a factor-solve scheme. An important application is the\n",
    "solution of multiple linear equations with the same coefficient matrix and different\n",
    "right-hand sides."
   ]
  },
  {
   "cell_type": "code",
   "execution_count": 21,
   "metadata": {},
   "outputs": [
    {
     "name": "stdout",
     "output_type": "stream",
     "text": [
      "  2.318546 seconds (21.47 k allocations: 192.322 MiB, 1.00% compilation time)\n",
      "  2.331112 seconds (9 allocations: 190.850 MiB)\n",
      "  4.673407 seconds (141.40 k allocations: 391.594 MiB, 2.27% gc time, 1.69% compilation time)\n",
      "  2.355886 seconds (87.04 k allocations: 196.696 MiB, 5.14% compilation time)\n"
     ]
    }
   ],
   "source": [
    "n = 5000;\n",
    "A = randn(n,n); B = randn(n,2);\n",
    "# Solve with right-hand side B[:,1]\n",
    "@time x1 = A \\ B[:,1];\n",
    "# Solve with right-hand side B[:,2]\n",
    "@time x2 = A \\ B[:,2];\n",
    "# Naive approach for solving A*X = B\n",
    "@time X = [ A\\B[:,1] A\\B[:,2] ];\n",
    "# Factor-solve approach\n",
    "@time X = A \\ B;"
   ]
  },
  {
   "cell_type": "markdown",
   "metadata": {},
   "source": [
    "The factor-solve approach finds the solutions for the two right-hand sides in roughly\n",
    "the same time as the solution for one right-hand side. The solution time with the\n",
    "naïve approach is twice the time for one right-hand side.\n",
    "\n",
    "### 11.4 Examples\n",
    "**Polynomial interpolation.** We compute the interpolating polynomials in Figure [11.1](https://web.stanford.edu/~boyd/vmls/vmls.pdf#figure.11.1) of VMLS. The following code uses the functions vandermonde and linspace from the `VMLS` package. (Th function `linspace(a,b,n)` returns a vector with `n` equally spaced numbers in the interval [a, b].) The result is shown in Figure 11.1."
   ]
  },
  {
   "cell_type": "code",
   "execution_count": 22,
   "metadata": {},
   "outputs": [
    {
     "data": {
      "text/plain": [
       "4×4 Matrix{Float64}:\n",
       " 1.0  -1.1  1.21  -1.331\n",
       " 1.0  -0.4  0.16  -0.064\n",
       " 1.0   0.2  0.04   0.008\n",
       " 1.0   0.8  0.64   0.512"
      ]
     },
     "execution_count": 22,
     "metadata": {},
     "output_type": "execute_result"
    }
   ],
   "source": [
    "t = [ -1.1, -0.4, 0.2, 0.8 ];\n",
    "A = vandermonde(t, 4)"
   ]
  },
  {
   "cell_type": "code",
   "execution_count": 23,
   "metadata": {},
   "outputs": [
    {
     "data": {
      "text/plain": [
       "4-element Vector{Float64}:\n",
       "  1.210956879377932\n",
       " -0.8883105198894671\n",
       " -1.1096651886125564\n",
       "  1.3864790180579651"
      ]
     },
     "execution_count": 23,
     "metadata": {},
     "output_type": "execute_result"
    }
   ],
   "source": [
    "b1 = [ -1.0, 1.3, 1.0, 0.5 ];\n",
    "c1 = A \\ b1"
   ]
  },
  {
   "cell_type": "code",
   "execution_count": 24,
   "metadata": {},
   "outputs": [
    {
     "data": {
      "text/plain": [
       "4-element Vector{Float64}:\n",
       " -1.5412891202364891\n",
       " -3.1090546880020575\n",
       "  3.33847439110597\n",
       "  3.695135274082643"
      ]
     },
     "execution_count": 24,
     "metadata": {},
     "output_type": "execute_result"
    }
   ],
   "source": [
    "b2 = [ 1.0, 0.0, -2.0, 0 ];\n",
    "c2 = A \\ b2"
   ]
  },
  {
   "cell_type": "code",
   "execution_count": 25,
   "metadata": {},
   "outputs": [
    {
     "data": {
      "image/png": "[encoded data removed]",
      "image/svg+xml": [
       "<?xml version=\"1.0\" encoding=\"utf-8\"?>\n",
       "<svg xmlns=\"http://www.w3.org/2000/svg\" xmlns:xlink=\"http://www.w3.org/1999/xlink\" width=\"600\" height=\"400\" viewBox=\"0 0 2400 1600\">\n",
       "<defs>\n",
       "  <clipPath id=\"clip200\">\n",
       "    <rect x=\"0\" y=\"0\" width=\"2400\" height=\"1600\"/>\n",
       "  </clipPath>\n",
       "</defs>\n",
       "<path clip-path=\"url(#clip200)\" d=\"M0 1600 L2400 1600 L2400 8.88178e-14 L0 8.88178e-14  Z\" fill=\"#ffffff\" fill-rule=\"evenodd\" fill-opacity=\"1\"/>\n",
       "<defs>\n",
       "  <clipPath id=\"clip201\">\n",
       "    <rect x=\"480\" y=\"0\" width=\"1681\" height=\"1600\"/>\n",
       "  </clipPath>\n",
       "</defs>\n",
       "<path clip-path=\"url(#clip200)\" d=\"M147.108 1486.45 L2352.76 1486.45 L2352.76 47.2441 L147.108 47.2441  Z\" fill=\"#ffffff\" fill-rule=\"evenodd\" fill-opacity=\"1\"/>\n",
       "<defs>\n",
       "  <clipPath id=\"clip202\">\n",
       "    <rect x=\"147\" y=\"47\" width=\"2207\" height=\"1440\"/>\n",
       "  </clipPath>\n",
       "</defs>\n",
       "<polyline clip-path=\"url(#clip202)\" style=\"stroke:#000000; stroke-linecap:round; stroke-linejoin:round; stroke-width:2; stroke-opacity:0.1; fill:none\" points=\"382.932,1486.45 382.932,47.2441 \"/>\n",
       "<polyline clip-path=\"url(#clip202)\" style=\"stroke:#000000; stroke-linecap:round; stroke-linejoin:round; stroke-width:2; stroke-opacity:0.1; fill:none\" points=\"816.432,1486.45 816.432,47.2441 \"/>\n",
       "<polyline clip-path=\"url(#clip202)\" style=\"stroke:#000000; stroke-linecap:round; stroke-linejoin:round; stroke-width:2; stroke-opacity:0.1; fill:none\" points=\"1249.93,1486.45 1249.93,47.2441 \"/>\n",
       "<polyline clip-path=\"url(#clip202)\" style=\"stroke:#000000; stroke-linecap:round; stroke-linejoin:round; stroke-width:2; stroke-opacity:0.1; fill:none\" points=\"1683.43,1486.45 1683.43,47.2441 \"/>\n",
       "<polyline clip-path=\"url(#clip202)\" style=\"stroke:#000000; stroke-linecap:round; stroke-linejoin:round; stroke-width:2; stroke-opacity:0.1; fill:none\" points=\"2116.93,1486.45 2116.93,47.2441 \"/>\n",
       "<polyline clip-path=\"url(#clip200)\" style=\"stroke:#000000; stroke-linecap:round; stroke-linejoin:round; stroke-width:4; stroke-opacity:1; fill:none\" points=\"147.108,1486.45 2352.76,1486.45 \"/>\n",
       "<polyline clip-path=\"url(#clip200)\" style=\"stroke:#000000; stroke-linecap:round; stroke-linejoin:round; stroke-width:4; stroke-opacity:1; fill:none\" points=\"382.932,1486.45 382.932,1467.55 \"/>\n",
       "<polyline clip-path=\"url(#clip200)\" style=\"stroke:#000000; stroke-linecap:round; stroke-linejoin:round; stroke-width:4; stroke-opacity:1; fill:none\" points=\"816.432,1486.45 816.432,1467.55 \"/>\n",
       "<polyline clip-path=\"url(#clip200)\" style=\"stroke:#000000; stroke-linecap:round; stroke-linejoin:round; stroke-width:4; stroke-opacity:1; fill:none\" points=\"1249.93,1486.45 1249.93,1467.55 \"/>\n",
       "<polyline clip-path=\"url(#clip200)\" style=\"stroke:#000000; stroke-linecap:round; stroke-linejoin:round; stroke-width:4; stroke-opacity:1; fill:none\" points=\"1683.43,1486.45 1683.43,1467.55 \"/>\n",
       "<polyline clip-path=\"url(#clip200)\" style=\"stroke:#000000; stroke-linecap:round; stroke-linejoin:round; stroke-width:4; stroke-opacity:1; fill:none\" points=\"2116.93,1486.45 2116.93,1467.55 \"/>\n",
       "<path clip-path=\"url(#clip200)\" d=\"M329.46 1532.02 L359.135 1532.02 L359.135 1535.95 L329.46 1535.95 L329.46 1532.02 Z\" fill=\"#000000\" fill-rule=\"nonzero\" fill-opacity=\"1\" /><path clip-path=\"url(#clip200)\" d=\"M370.038 1544.91 L377.677 1544.91 L377.677 1518.55 L369.367 1520.21 L369.367 1515.95 L377.631 1514.29 L382.307 1514.29 L382.307 1544.91 L389.945 1544.91 L389.945 1548.85 L370.038 1548.85 L370.038 1544.91 Z\" fill=\"#000000\" fill-rule=\"nonzero\" fill-opacity=\"1\" /><path clip-path=\"url(#clip200)\" d=\"M399.39 1542.97 L404.274 1542.97 L404.274 1548.85 L399.39 1548.85 L399.39 1542.97 Z\" fill=\"#000000\" fill-rule=\"nonzero\" fill-opacity=\"1\" /><path clip-path=\"url(#clip200)\" d=\"M424.459 1517.37 Q420.848 1517.37 419.019 1520.93 Q417.214 1524.47 417.214 1531.6 Q417.214 1538.71 419.019 1542.27 Q420.848 1545.82 424.459 1545.82 Q428.093 1545.82 429.899 1542.27 Q431.728 1538.71 431.728 1531.6 Q431.728 1524.47 429.899 1520.93 Q428.093 1517.37 424.459 1517.37 M424.459 1513.66 Q430.269 1513.66 433.325 1518.27 Q436.404 1522.85 436.404 1531.6 Q436.404 1540.33 433.325 1544.94 Q430.269 1549.52 424.459 1549.52 Q418.649 1549.52 415.57 1544.94 Q412.515 1540.33 412.515 1531.6 Q412.515 1522.85 415.57 1518.27 Q418.649 1513.66 424.459 1513.66 Z\" fill=\"#000000\" fill-rule=\"nonzero\" fill-opacity=\"1\" /><path clip-path=\"url(#clip200)\" d=\"M763.457 1532.02 L793.133 1532.02 L793.133 1535.95 L763.457 1535.95 L763.457 1532.02 Z\" fill=\"#000000\" fill-rule=\"nonzero\" fill-opacity=\"1\" /><path clip-path=\"url(#clip200)\" d=\"M813.226 1517.37 Q809.615 1517.37 807.786 1520.93 Q805.98 1524.47 805.98 1531.6 Q805.98 1538.71 807.786 1542.27 Q809.615 1545.82 813.226 1545.82 Q816.86 1545.82 818.665 1542.27 Q820.494 1538.71 820.494 1531.6 Q820.494 1524.47 818.665 1520.93 Q816.86 1517.37 813.226 1517.37 M813.226 1513.66 Q819.036 1513.66 822.091 1518.27 Q825.17 1522.85 825.17 1531.6 Q825.17 1540.33 822.091 1544.94 Q819.036 1549.52 813.226 1549.52 Q807.415 1549.52 804.337 1544.94 Q801.281 1540.33 801.281 1531.6 Q801.281 1522.85 804.337 1518.27 Q807.415 1513.66 813.226 1513.66 Z\" fill=\"#000000\" fill-rule=\"nonzero\" fill-opacity=\"1\" /><path clip-path=\"url(#clip200)\" d=\"M833.388 1542.97 L838.272 1542.97 L838.272 1548.85 L833.388 1548.85 L833.388 1542.97 Z\" fill=\"#000000\" fill-rule=\"nonzero\" fill-opacity=\"1\" /><path clip-path=\"url(#clip200)\" d=\"M848.503 1514.29 L866.86 1514.29 L866.86 1518.22 L852.786 1518.22 L852.786 1526.7 Q853.804 1526.35 854.823 1526.19 Q855.841 1526 856.86 1526 Q862.647 1526 866.026 1529.17 Q869.406 1532.34 869.406 1537.76 Q869.406 1543.34 865.934 1546.44 Q862.462 1549.52 856.142 1549.52 Q853.966 1549.52 851.698 1549.15 Q849.452 1548.78 847.045 1548.04 L847.045 1543.34 Q849.128 1544.47 851.35 1545.03 Q853.573 1545.58 856.049 1545.58 Q860.054 1545.58 862.392 1543.48 Q864.73 1541.37 864.73 1537.76 Q864.73 1534.15 862.392 1532.04 Q860.054 1529.94 856.049 1529.94 Q854.175 1529.94 852.3 1530.35 Q850.448 1530.77 848.503 1531.65 L848.503 1514.29 Z\" fill=\"#000000\" fill-rule=\"nonzero\" fill-opacity=\"1\" /><path clip-path=\"url(#clip200)\" d=\"M1227.32 1517.37 Q1223.71 1517.37 1221.88 1520.93 Q1220.07 1524.47 1220.07 1531.6 Q1220.07 1538.71 1221.88 1542.27 Q1223.71 1545.82 1227.32 1545.82 Q1230.95 1545.82 1232.76 1542.27 Q1234.58 1538.71 1234.58 1531.6 Q1234.58 1524.47 1232.76 1520.93 Q1230.95 1517.37 1227.32 1517.37 M1227.32 1513.66 Q1233.13 1513.66 1236.18 1518.27 Q1239.26 1522.85 1239.26 1531.6 Q1239.26 1540.33 1236.18 1544.94 Q1233.13 1549.52 1227.32 1549.52 Q1221.51 1549.52 1218.43 1544.94 Q1215.37 1540.33 1215.37 1531.6 Q1215.37 1522.85 1218.43 1518.27 Q1221.51 1513.66 1227.32 1513.66 Z\" fill=\"#000000\" fill-rule=\"nonzero\" fill-opacity=\"1\" /><path clip-path=\"url(#clip200)\" d=\"M1247.48 1542.97 L1252.36 1542.97 L1252.36 1548.85 L1247.48 1548.85 L1247.48 1542.97 Z\" fill=\"#000000\" fill-rule=\"nonzero\" fill-opacity=\"1\" /><path clip-path=\"url(#clip200)\" d=\"M1272.55 1517.37 Q1268.94 1517.37 1267.11 1520.93 Q1265.3 1524.47 1265.3 1531.6 Q1265.3 1538.71 1267.11 1542.27 Q1268.94 1545.82 1272.55 1545.82 Q1276.18 1545.82 1277.99 1542.27 Q1279.82 1538.71 1279.82 1531.6 Q1279.82 1524.47 1277.99 1520.93 Q1276.18 1517.37 1272.55 1517.37 M1272.55 1513.66 Q1278.36 1513.66 1281.41 1518.27 Q1284.49 1522.85 1284.49 1531.6 Q1284.49 1540.33 1281.41 1544.94 Q1278.36 1549.52 1272.55 1549.52 Q1266.74 1549.52 1263.66 1544.94 Q1260.6 1540.33 1260.6 1531.6 Q1260.6 1522.85 1263.66 1518.27 Q1266.74 1513.66 1272.55 1513.66 Z\" fill=\"#000000\" fill-rule=\"nonzero\" fill-opacity=\"1\" /><path clip-path=\"url(#clip200)\" d=\"M1661.31 1517.37 Q1657.7 1517.37 1655.87 1520.93 Q1654.07 1524.47 1654.07 1531.6 Q1654.07 1538.71 1655.87 1542.27 Q1657.7 1545.82 1661.31 1545.82 Q1664.95 1545.82 1666.75 1542.27 Q1668.58 1538.71 1668.58 1531.6 Q1668.58 1524.47 1666.75 1520.93 Q1664.95 1517.37 1661.31 1517.37 M1661.31 1513.66 Q1667.12 1513.66 1670.18 1518.27 Q1673.26 1522.85 1673.26 1531.6 Q1673.26 1540.33 1670.18 1544.94 Q1667.12 1549.52 1661.31 1549.52 Q1655.5 1549.52 1652.43 1544.94 Q1649.37 1540.33 1649.37 1531.6 Q1649.37 1522.85 1652.43 1518.27 Q1655.5 1513.66 1661.31 1513.66 Z\" fill=\"#000000\" fill-rule=\"nonzero\" fill-opacity=\"1\" /><path clip-path=\"url(#clip200)\" d=\"M1681.48 1542.97 L1686.36 1542.97 L1686.36 1548.85 L1681.48 1548.85 L1681.48 1542.97 Z\" fill=\"#000000\" fill-rule=\"nonzero\" fill-opacity=\"1\" /><path clip-path=\"url(#clip200)\" d=\"M1696.59 1514.29 L1714.95 1514.29 L1714.95 1518.22 L1700.87 1518.22 L1700.87 1526.7 Q1701.89 1526.35 1702.91 1526.19 Q1703.93 1526 1704.95 1526 Q1710.73 1526 1714.11 1529.17 Q1717.49 1532.34 1717.49 1537.76 Q1717.49 1543.34 1714.02 1546.44 Q1710.55 1549.52 1704.23 1549.52 Q1702.05 1549.52 1699.79 1549.15 Q1697.54 1548.78 1695.13 1548.04 L1695.13 1543.34 Q1697.22 1544.47 1699.44 1545.03 Q1701.66 1545.58 1704.14 1545.58 Q1708.14 1545.58 1710.48 1543.48 Q1712.82 1541.37 1712.82 1537.76 Q1712.82 1534.15 1710.48 1532.04 Q1708.14 1529.94 1704.14 1529.94 Q1702.26 1529.94 1700.39 1530.35 Q1698.54 1530.77 1696.59 1531.65 L1696.59 1514.29 Z\" fill=\"#000000\" fill-rule=\"nonzero\" fill-opacity=\"1\" /><path clip-path=\"url(#clip200)\" d=\"M2084.08 1544.91 L2091.72 1544.91 L2091.72 1518.55 L2083.41 1520.21 L2083.41 1515.95 L2091.68 1514.29 L2096.35 1514.29 L2096.35 1544.91 L2103.99 1544.91 L2103.99 1548.85 L2084.08 1548.85 L2084.08 1544.91 Z\" fill=\"#000000\" fill-rule=\"nonzero\" fill-opacity=\"1\" /><path clip-path=\"url(#clip200)\" d=\"M2113.44 1542.97 L2118.32 1542.97 L2118.32 1548.85 L2113.44 1548.85 L2113.44 1542.97 Z\" fill=\"#000000\" fill-rule=\"nonzero\" fill-opacity=\"1\" /><path clip-path=\"url(#clip200)\" d=\"M2138.51 1517.37 Q2134.89 1517.37 2133.07 1520.93 Q2131.26 1524.47 2131.26 1531.6 Q2131.26 1538.71 2133.07 1542.27 Q2134.89 1545.82 2138.51 1545.82 Q2142.14 1545.82 2143.95 1542.27 Q2145.77 1538.71 2145.77 1531.6 Q2145.77 1524.47 2143.95 1520.93 Q2142.14 1517.37 2138.51 1517.37 M2138.51 1513.66 Q2144.32 1513.66 2147.37 1518.27 Q2150.45 1522.85 2150.45 1531.6 Q2150.45 1540.33 2147.37 1544.94 Q2144.32 1549.52 2138.51 1549.52 Q2132.7 1549.52 2129.62 1544.94 Q2126.56 1540.33 2126.56 1531.6 Q2126.56 1522.85 2129.62 1518.27 Q2132.7 1513.66 2138.51 1513.66 Z\" fill=\"#000000\" fill-rule=\"nonzero\" fill-opacity=\"1\" /><polyline clip-path=\"url(#clip202)\" style=\"stroke:#000000; stroke-linecap:round; stroke-linejoin:round; stroke-width:2; stroke-opacity:0.1; fill:none\" points=\"147.108,1433.11 2352.76,1433.11 \"/>\n",
       "<polyline clip-path=\"url(#clip202)\" style=\"stroke:#000000; stroke-linecap:round; stroke-linejoin:round; stroke-width:2; stroke-opacity:0.1; fill:none\" points=\"147.108,1093.45 2352.76,1093.45 \"/>\n",
       "<polyline clip-path=\"url(#clip202)\" style=\"stroke:#000000; stroke-linecap:round; stroke-linejoin:round; stroke-width:2; stroke-opacity:0.1; fill:none\" points=\"147.108,753.789 2352.76,753.789 \"/>\n",
       "<polyline clip-path=\"url(#clip202)\" style=\"stroke:#000000; stroke-linecap:round; stroke-linejoin:round; stroke-width:2; stroke-opacity:0.1; fill:none\" points=\"147.108,414.127 2352.76,414.127 \"/>\n",
       "<polyline clip-path=\"url(#clip202)\" style=\"stroke:#000000; stroke-linecap:round; stroke-linejoin:round; stroke-width:2; stroke-opacity:0.1; fill:none\" points=\"147.108,74.4649 2352.76,74.4649 \"/>\n",
       "<polyline clip-path=\"url(#clip200)\" style=\"stroke:#000000; stroke-linecap:round; stroke-linejoin:round; stroke-width:4; stroke-opacity:1; fill:none\" points=\"147.108,1486.45 147.108,47.2441 \"/>\n",
       "<polyline clip-path=\"url(#clip200)\" style=\"stroke:#000000; stroke-linecap:round; stroke-linejoin:round; stroke-width:4; stroke-opacity:1; fill:none\" points=\"147.108,1433.11 166.005,1433.11 \"/>\n",
       "<polyline clip-path=\"url(#clip200)\" style=\"stroke:#000000; stroke-linecap:round; stroke-linejoin:round; stroke-width:4; stroke-opacity:1; fill:none\" points=\"147.108,1093.45 166.005,1093.45 \"/>\n",
       "<polyline clip-path=\"url(#clip200)\" style=\"stroke:#000000; stroke-linecap:round; stroke-linejoin:round; stroke-width:4; stroke-opacity:1; fill:none\" points=\"147.108,753.789 166.005,753.789 \"/>\n",
       "<polyline clip-path=\"url(#clip200)\" style=\"stroke:#000000; stroke-linecap:round; stroke-linejoin:round; stroke-width:4; stroke-opacity:1; fill:none\" points=\"147.108,414.127 166.005,414.127 \"/>\n",
       "<polyline clip-path=\"url(#clip200)\" style=\"stroke:#000000; stroke-linecap:round; stroke-linejoin:round; stroke-width:4; stroke-opacity:1; fill:none\" points=\"147.108,74.4649 166.005,74.4649 \"/>\n",
       "<path clip-path=\"url(#clip200)\" d=\"M50.9921 1433.56 L80.6679 1433.56 L80.6679 1437.5 L50.9921 1437.5 L50.9921 1433.56 Z\" fill=\"#000000\" fill-rule=\"nonzero\" fill-opacity=\"1\" /><path clip-path=\"url(#clip200)\" d=\"M94.7882 1446.46 L111.108 1446.46 L111.108 1450.39 L89.1632 1450.39 L89.1632 1446.46 Q91.8252 1443.7 96.4085 1439.07 Q101.015 1434.42 102.196 1433.08 Q104.441 1430.55 105.321 1428.82 Q106.223 1427.06 106.223 1425.37 Q106.223 1422.62 104.279 1420.88 Q102.358 1419.14 99.2558 1419.14 Q97.0567 1419.14 94.603 1419.91 Q92.1725 1420.67 89.3947 1422.22 L89.3947 1417.5 Q92.2188 1416.37 94.6724 1415.79 Q97.1261 1415.21 99.1632 1415.21 Q104.534 1415.21 107.728 1417.89 Q110.922 1420.58 110.922 1425.07 Q110.922 1427.2 110.112 1429.12 Q109.325 1431.02 107.219 1433.61 Q106.64 1434.28 103.538 1437.5 Q100.436 1440.69 94.7882 1446.46 Z\" fill=\"#000000\" fill-rule=\"nonzero\" fill-opacity=\"1\" /><path clip-path=\"url(#clip200)\" d=\"M99.1632 1079.25 Q95.5521 1079.25 93.7234 1082.81 Q91.9178 1086.36 91.9178 1093.49 Q91.9178 1100.59 93.7234 1104.16 Q95.5521 1107.7 99.1632 1107.7 Q102.797 1107.7 104.603 1104.16 Q106.432 1100.59 106.432 1093.49 Q106.432 1086.36 104.603 1082.81 Q102.797 1079.25 99.1632 1079.25 M99.1632 1075.55 Q104.973 1075.55 108.029 1080.15 Q111.108 1084.74 111.108 1093.49 Q111.108 1102.21 108.029 1106.82 Q104.973 1111.4 99.1632 1111.4 Q93.353 1111.4 90.2743 1106.82 Q87.2188 1102.21 87.2188 1093.49 Q87.2188 1084.74 90.2743 1080.15 Q93.353 1075.55 99.1632 1075.55 Z\" fill=\"#000000\" fill-rule=\"nonzero\" fill-opacity=\"1\" /><path clip-path=\"url(#clip200)\" d=\"M94.7882 767.134 L111.108 767.134 L111.108 771.069 L89.1632 771.069 L89.1632 767.134 Q91.8252 764.379 96.4085 759.749 Q101.015 755.097 102.196 753.754 Q104.441 751.231 105.321 749.495 Q106.223 747.736 106.223 746.046 Q106.223 743.291 104.279 741.555 Q102.358 739.819 99.2558 739.819 Q97.0567 739.819 94.603 740.583 Q92.1725 741.347 89.3947 742.898 L89.3947 738.175 Q92.2188 737.041 94.6724 736.462 Q97.1261 735.884 99.1632 735.884 Q104.534 735.884 107.728 738.569 Q110.922 741.254 110.922 745.745 Q110.922 747.874 110.112 749.796 Q109.325 751.694 107.219 754.286 Q106.64 754.958 103.538 758.175 Q100.436 761.37 94.7882 767.134 Z\" fill=\"#000000\" fill-rule=\"nonzero\" fill-opacity=\"1\" /><path clip-path=\"url(#clip200)\" d=\"M101.524 400.921 L89.7188 419.37 L101.524 419.37 L101.524 400.921 M100.297 396.847 L106.177 396.847 L106.177 419.37 L111.108 419.37 L111.108 423.259 L106.177 423.259 L106.177 431.407 L101.524 431.407 L101.524 423.259 L85.9225 423.259 L85.9225 418.745 L100.297 396.847 Z\" fill=\"#000000\" fill-rule=\"nonzero\" fill-opacity=\"1\" /><path clip-path=\"url(#clip200)\" d=\"M99.5798 72.6015 Q96.4317 72.6015 94.5799 74.7542 Q92.7512 76.907 92.7512 80.657 Q92.7512 84.3838 94.5799 86.5597 Q96.4317 88.7125 99.5798 88.7125 Q102.728 88.7125 104.557 86.5597 Q106.408 84.3838 106.408 80.657 Q106.408 76.907 104.557 74.7542 Q102.728 72.6015 99.5798 72.6015 M108.862 57.9488 L108.862 62.208 Q107.103 61.3747 105.297 60.9349 Q103.515 60.4951 101.756 60.4951 Q97.1261 60.4951 94.6724 63.62 Q92.2419 66.745 91.8947 73.0644 Q93.2604 71.0506 95.3206 69.9857 Q97.3808 68.8978 99.8576 68.8978 Q105.066 68.8978 108.075 72.0691 Q111.108 75.2172 111.108 80.657 Q111.108 85.981 107.959 89.1986 Q104.811 92.4162 99.5798 92.4162 Q93.5845 92.4162 90.4132 87.8329 Q87.2419 83.2264 87.2419 74.4996 Q87.2419 66.3052 91.1308 61.4441 Q95.0197 56.5599 101.571 56.5599 Q103.33 56.5599 105.112 56.9071 Q106.918 57.2543 108.862 57.9488 Z\" fill=\"#000000\" fill-rule=\"nonzero\" fill-opacity=\"1\" /><polyline clip-path=\"url(#clip202)\" style=\"stroke:#009af9; stroke-linecap:round; stroke-linejoin:round; stroke-width:4; stroke-opacity:1; fill:none\" points=\"209.532,1385.02 211.614,1381.86 213.697,1378.71 215.78,1375.57 217.863,1372.44 219.946,1369.33 222.029,1366.23 224.112,1363.14 226.195,1360.06 228.278,1356.99 230.36,1353.94 232.443,1350.89 234.526,1347.86 236.609,1344.84 238.692,1341.83 240.775,1338.84 242.858,1335.85 244.941,1332.88 247.023,1329.92 249.106,1326.97 251.189,1324.03 253.272,1321.1 255.355,1318.19 257.438,1315.28 259.521,1312.39 261.604,1309.51 263.687,1306.64 265.769,1303.78 267.852,1300.94 269.935,1298.1 272.018,1295.28 274.101,1292.46 276.184,1289.66 278.267,1286.87 280.35,1284.1 282.432,1281.33 284.515,1278.57 286.598,1275.83 288.681,1273.1 290.764,1270.37 292.847,1267.66 294.93,1264.96 297.013,1262.27 299.096,1259.6 301.178,1256.93 303.261,1254.28 305.344,1251.63 307.427,1249 309.51,1246.38 311.593,1243.77 313.676,1241.17 315.759,1238.58 317.841,1236 319.924,1233.43 322.007,1230.88 324.09,1228.33 326.173,1225.8 328.256,1223.27 330.339,1220.76 332.422,1218.26 334.505,1215.77 336.587,1213.29 338.67,1210.82 340.753,1208.36 342.836,1205.91 344.919,1203.47 347.002,1201.05 349.085,1198.63 351.168,1196.23 353.25,1193.83 355.333,1191.45 357.416,1189.08 359.499,1186.71 361.582,1184.36 363.665,1182.02 365.748,1179.69 367.831,1177.37 369.914,1175.06 371.996,1172.76 374.079,1170.47 376.162,1168.19 378.245,1165.92 380.328,1163.66 382.411,1161.41 384.494,1159.18 386.577,1156.95 388.66,1154.73 390.742,1152.52 392.825,1150.33 394.908,1148.14 396.991,1145.97 399.074,1143.8 401.157,1141.64 403.24,1139.5 405.323,1137.36 407.405,1135.24 409.488,1133.12 411.571,1131.02 413.654,1128.92 415.737,1126.84 417.82,1124.76 419.903,1122.7 421.986,1120.64 424.069,1118.6 426.151,1116.56 428.234,1114.54 430.317,1112.52 432.4,1110.52 434.483,1108.52 436.566,1106.54 438.649,1104.56 440.732,1102.6 442.814,1100.64 444.897,1098.69 446.98,1096.76 449.063,1094.83 451.146,1092.91 453.229,1091.01 455.312,1089.11 457.395,1087.22 459.478,1085.34 461.56,1083.47 463.643,1081.61 465.726,1079.76 467.809,1077.92 469.892,1076.09 471.975,1074.27 474.058,1072.46 476.141,1070.66 478.223,1068.86 480.306,1067.08 482.389,1065.31 484.472,1063.54 486.555,1061.79 488.638,1060.04 490.721,1058.31 492.804,1056.58 494.887,1054.86 496.969,1053.15 499.052,1051.45 501.135,1049.76 503.218,1048.08 505.301,1046.41 507.384,1044.75 509.467,1043.09 511.55,1041.45 513.633,1039.81 515.715,1038.19 517.798,1036.57 519.881,1034.96 521.964,1033.37 524.047,1031.78 526.13,1030.19 528.213,1028.62 530.296,1027.06 532.378,1025.51 534.461,1023.96 536.544,1022.43 538.627,1020.9 540.71,1019.38 542.793,1017.87 544.876,1016.37 546.959,1014.88 549.042,1013.39 551.124,1011.92 553.207,1010.46 555.29,1009 557.373,1007.55 559.456,1006.11 561.539,1004.68 563.622,1003.26 565.705,1001.84 567.787,1000.44 569.87,999.044 571.953,997.656 574.036,996.277 576.119,994.906 578.202,993.544 580.285,992.191 582.368,990.846 584.451,989.509 586.533,988.181 588.616,986.861 590.699,985.549 592.782,984.246 594.865,982.952 596.948,981.665 599.031,980.387 601.114,979.118 603.196,977.856 605.279,976.603 607.362,975.358 609.445,974.121 611.528,972.893 613.611,971.672 615.694,970.46 617.777,969.256 619.86,968.06 621.942,966.872 624.025,965.693 626.108,964.521 628.191,963.357 630.274,962.202 632.357,961.054 634.44,959.914 636.523,958.783 638.605,957.659 640.688,956.543 642.771,955.435 644.854,954.335 646.937,953.243 649.02,952.159 651.103,951.082 653.186,950.014 655.269,948.953 657.351,947.9 659.434,946.854 661.517,945.817 663.6,944.787 665.683,943.764 667.766,942.75 669.849,941.743 671.932,940.744 674.015,939.752 676.097,938.768 678.18,937.791 680.263,936.822 682.346,935.861 684.429,934.907 686.512,933.961 688.595,933.022 690.678,932.09 692.76,931.166 694.843,930.25 696.926,929.34 699.009,928.438 701.092,927.544 703.175,926.657 705.258,925.777 707.341,924.904 709.424,924.039 711.506,923.181 713.589,922.33 715.672,921.487 717.755,920.65 719.838,919.821 721.921,918.999 724.004,918.184 726.087,917.377 728.169,916.576 730.252,915.782 732.335,914.996 734.418,914.216 736.501,913.444 738.584,912.678 740.667,911.92 742.75,911.168 744.833,910.424 746.915,909.686 748.998,908.956 751.081,908.232 753.164,907.515 755.247,906.805 757.33,906.101 759.413,905.405 761.496,904.715 763.578,904.032 765.661,903.356 767.744,902.687 769.827,902.024 771.91,901.368 773.993,900.719 776.076,900.076 778.159,899.44 780.242,898.81 782.324,898.187 784.407,897.571 786.49,896.961 788.573,896.358 790.656,895.762 792.739,895.171 794.822,894.588 796.905,894.01 798.988,893.439 801.07,892.875 803.153,892.317 805.236,891.765 807.319,891.22 809.402,890.681 811.485,890.148 813.568,889.622 815.651,889.102 817.733,888.588 819.816,888.081 821.899,887.579 823.982,887.084 826.065,886.595 828.148,886.113 830.231,885.636 832.314,885.165 834.397,884.701 836.479,884.243 838.562,883.79 840.645,883.344 842.728,882.904 844.811,882.47 846.894,882.041 848.977,881.619 851.06,881.203 853.142,880.792 855.225,880.388 857.308,879.989 859.391,879.597 861.474,879.21 863.557,878.829 865.64,878.454 867.723,878.084 869.806,877.72 871.888,877.363 873.971,877.01 876.054,876.664 878.137,876.323 880.22,875.988 882.303,875.658 884.386,875.335 886.469,875.016 888.551,874.704 890.634,874.397 892.717,874.095 894.8,873.799 896.883,873.509 898.966,873.224 901.049,872.944 903.132,872.67 905.215,872.402 907.297,872.139 909.38,871.881 911.463,871.629 913.546,871.382 915.629,871.14 917.712,870.903 919.795,870.672 921.878,870.447 923.961,870.226 926.043,870.011 928.126,869.801 930.209,869.596 932.292,869.396 934.375,869.202 936.458,869.012 938.541,868.828 940.624,868.649 942.706,868.475 944.789,868.306 946.872,868.142 948.955,867.983 951.038,867.829 953.121,867.68 955.204,867.536 957.287,867.397 959.37,867.263 961.452,867.134 963.535,867.01 965.618,866.89 967.701,866.776 969.784,866.666 971.867,866.561 973.95,866.461 976.033,866.365 978.115,866.275 980.198,866.189 982.281,866.108 984.364,866.031 986.447,865.959 988.53,865.892 990.613,865.83 992.696,865.772 994.779,865.718 996.861,865.67 998.944,865.625 1001.03,865.586 1003.11,865.551 1005.19,865.52 1007.28,865.494 1009.36,865.472 1011.44,865.455 1013.52,865.442 1015.61,865.434 1017.69,865.43 1019.77,865.43 1021.86,865.434 1023.94,865.443 1026.02,865.457 1028.1,865.474 1030.19,865.496 1032.27,865.522 1034.35,865.552 1036.44,865.587 1038.52,865.625 1040.6,865.668 1042.68,865.715 1044.77,865.766 1046.85,865.821 1048.93,865.881 1051.02,865.944 1053.1,866.011 1055.18,866.083 1057.27,866.158 1059.35,866.238 1061.43,866.321 1063.51,866.408 1065.6,866.499 1067.68,866.595 1069.76,866.694 1071.85,866.797 1073.93,866.903 1076.01,867.014 1078.09,867.128 1080.18,867.247 1082.26,867.368 1084.34,867.494 1086.43,867.624 1088.51,867.757 1090.59,867.894 1092.67,868.034 1094.76,868.178 1096.84,868.326 1098.92,868.478 1101.01,868.633 1103.09,868.791 1105.17,868.953 1107.25,869.119 1109.34,869.288 1111.42,869.461 1113.5,869.637 1115.59,869.817 1117.67,870 1119.75,870.187 1121.83,870.376 1123.92,870.57 1126,870.766 1128.08,870.966 1130.17,871.17 1132.25,871.376 1134.33,871.586 1136.41,871.799 1138.5,872.016 1140.58,872.235 1142.66,872.458 1144.75,872.684 1146.83,872.913 1148.91,873.146 1150.99,873.381 1153.08,873.62 1155.16,873.861 1157.24,874.106 1159.33,874.354 1161.41,874.605 1163.49,874.858 1165.57,875.115 1167.66,875.375 1169.74,875.638 1171.82,875.903 1173.91,876.172 1175.99,876.443 1178.07,876.717 1180.16,876.995 1182.24,877.275 1184.32,877.557 1186.4,877.843 1188.49,878.131 1190.57,878.422 1192.65,878.716 1194.74,879.013 1196.82,879.312 1198.9,879.614 1200.98,879.919 1203.07,880.226 1205.15,880.536 1207.23,880.848 1209.32,881.163 1211.4,881.481 1213.48,881.801 1215.56,882.123 1217.65,882.448 1219.73,882.776 1221.81,883.106 1223.9,883.439 1225.98,883.774 1228.06,884.111 1230.14,884.451 1232.23,884.793 1234.31,885.137 1236.39,885.484 1238.48,885.833 1240.56,886.184 1242.64,886.538 1244.72,886.893 1246.81,887.252 1248.89,887.612 1250.97,887.974 1253.06,888.339 1255.14,888.706 1257.22,889.074 1259.3,889.445 1261.39,889.818 1263.47,890.194 1265.55,890.571 1267.64,890.95 1269.72,891.331 1271.8,891.714 1273.88,892.1 1275.97,892.487 1278.05,892.876 1280.13,893.267 1282.22,893.66 1284.3,894.054 1286.38,894.451 1288.47,894.849 1290.55,895.25 1292.63,895.652 1294.71,896.055 1296.8,896.461 1298.88,896.868 1300.96,897.277 1303.05,897.688 1305.13,898.1 1307.21,898.514 1309.29,898.93 1311.38,899.347 1313.46,899.766 1315.54,900.187 1317.63,900.609 1319.71,901.032 1321.79,901.457 1323.87,901.884 1325.96,902.312 1328.04,902.741 1330.12,903.172 1332.21,903.605 1334.29,904.038 1336.37,904.474 1338.45,904.91 1340.54,905.348 1342.62,905.787 1344.7,906.228 1346.79,906.669 1348.87,907.112 1350.95,907.557 1353.03,908.002 1355.12,908.449 1357.2,908.897 1359.28,909.346 1361.37,909.796 1363.45,910.247 1365.53,910.7 1367.61,911.153 1369.7,911.608 1371.78,912.064 1373.86,912.52 1375.95,912.978 1378.03,913.437 1380.11,913.896 1382.19,914.357 1384.28,914.819 1386.36,915.281 1388.44,915.744 1390.53,916.209 1392.61,916.674 1394.69,917.14 1396.77,917.606 1398.86,918.074 1400.94,918.542 1403.02,919.011 1405.11,919.481 1407.19,919.951 1409.27,920.423 1411.36,920.894 1413.44,921.367 1415.52,921.84 1417.6,922.314 1419.69,922.788 1421.77,923.263 1423.85,923.739 1425.94,924.215 1428.02,924.691 1430.1,925.168 1432.18,925.646 1434.27,926.124 1436.35,926.602 1438.43,927.081 1440.52,927.561 1442.6,928.04 1444.68,928.52 1446.76,929.001 1448.85,929.481 1450.93,929.962 1453.01,930.444 1455.1,930.925 1457.18,931.407 1459.26,931.889 1461.34,932.371 1463.43,932.854 1465.51,933.336 1467.59,933.819 1469.68,934.302 1471.76,934.785 1473.84,935.268 1475.92,935.751 1478.01,936.234 1480.09,936.717 1482.17,937.2 1484.26,937.684 1486.34,938.167 1488.42,938.65 1490.5,939.133 1492.59,939.616 1494.67,940.099 1496.75,940.582 1498.84,941.064 1500.92,941.547 1503,942.029 1505.08,942.511 1507.17,942.993 1509.25,943.474 1511.33,943.956 1513.42,944.437 1515.5,944.917 1517.58,945.398 1519.67,945.878 1521.75,946.358 1523.83,946.837 1525.91,947.316 1528,947.794 1530.08,948.272 1532.16,948.75 1534.25,949.227 1536.33,949.704 1538.41,950.18 1540.49,950.655 1542.58,951.13 1544.66,951.605 1546.74,952.079 1548.83,952.552 1550.91,953.024 1552.99,953.496 1555.07,953.968 1557.16,954.438 1559.24,954.908 1561.32,955.377 1563.41,955.846 1565.49,956.313 1567.57,956.78 1569.65,957.246 1571.74,957.711 1573.82,958.175 1575.9,958.639 1577.99,959.101 1580.07,959.563 1582.15,960.024 1584.23,960.483 1586.32,960.942 1588.4,961.4 1590.48,961.857 1592.57,962.312 1594.65,962.767 1596.73,963.221 1598.81,963.673 1600.9,964.125 1602.98,964.575 1605.06,965.024 1607.15,965.472 1609.23,965.919 1611.31,966.365 1613.39,966.809 1615.48,967.252 1617.56,967.694 1619.64,968.135 1621.73,968.574 1623.81,969.012 1625.89,969.449 1627.98,969.884 1630.06,970.318 1632.14,970.75 1634.22,971.182 1636.31,971.611 1638.39,972.039 1640.47,972.466 1642.56,972.891 1644.64,973.315 1646.72,973.737 1648.8,974.158 1650.89,974.577 1652.97,974.994 1655.05,975.41 1657.14,975.824 1659.22,976.237 1661.3,976.648 1663.38,977.057 1665.47,977.464 1667.55,977.87 1669.63,978.274 1671.72,978.676 1673.8,979.077 1675.88,979.475 1677.96,979.872 1680.05,980.267 1682.13,980.66 1684.21,981.051 1686.3,981.44 1688.38,981.828 1690.46,982.213 1692.54,982.596 1694.63,982.978 1696.71,983.357 1698.79,983.735 1700.88,984.11 1702.96,984.483 1705.04,984.854 1707.12,985.223 1709.21,985.59 1711.29,985.955 1713.37,986.318 1715.46,986.678 1717.54,987.036 1719.62,987.392 1721.7,987.746 1723.79,988.098 1725.87,988.447 1727.95,988.794 1730.04,989.139 1732.12,989.481 1734.2,989.821 1736.28,990.158 1738.37,990.494 1740.45,990.826 1742.53,991.157 1744.62,991.484 1746.7,991.81 1748.78,992.133 1750.87,992.453 1752.95,992.771 1755.03,993.086 1757.11,993.399 1759.2,993.709 1761.28,994.016 1763.36,994.321 1765.45,994.623 1767.53,994.923 1769.61,995.22 1771.69,995.514 1773.78,995.805 1775.86,996.094 1777.94,996.38 1780.03,996.663 1782.11,996.943 1784.19,997.22 1786.27,997.495 1788.36,997.767 1790.44,998.035 1792.52,998.301 1794.61,998.564 1796.69,998.824 1798.77,999.081 1800.85,999.335 1802.94,999.587 1805.02,999.835 1807.1,1000.08 1809.19,1000.32 1811.27,1000.56 1813.35,1000.8 1815.43,1001.03 1817.52,1001.26 1819.6,1001.48 1821.68,1001.71 1823.77,1001.93 1825.85,1002.14 1827.93,1002.36 1830.01,1002.57 1832.1,1002.77 1834.18,1002.98 1836.26,1003.18 1838.35,1003.38 1840.43,1003.57 1842.51,1003.76 1844.59,1003.95 1846.68,1004.13 1848.76,1004.31 1850.84,1004.49 1852.93,1004.66 1855.01,1004.83 1857.09,1005 1859.18,1005.16 1861.26,1005.32 1863.34,1005.47 1865.42,1005.62 1867.51,1005.77 1869.59,1005.92 1871.67,1006.06 1873.76,1006.19 1875.84,1006.33 1877.92,1006.46 1880,1006.58 1882.09,1006.71 1884.17,1006.82 1886.25,1006.94 1888.34,1007.05 1890.42,1007.16 1892.5,1007.26 1894.58,1007.36 1896.67,1007.46 1898.75,1007.55 1900.83,1007.64 1902.92,1007.72 1905,1007.8 1907.08,1007.87 1909.16,1007.95 1911.25,1008.01 1913.33,1008.08 1915.41,1008.14 1917.5,1008.19 1919.58,1008.24 1921.66,1008.29 1923.74,1008.34 1925.83,1008.37 1927.91,1008.41 1929.99,1008.44 1932.08,1008.47 1934.16,1008.49 1936.24,1008.51 1938.32,1008.52 1940.41,1008.53 1942.49,1008.53 1944.57,1008.54 1946.66,1008.53 1948.74,1008.52 1950.82,1008.51 1952.9,1008.49 1954.99,1008.47 1957.07,1008.45 1959.15,1008.42 1961.24,1008.38 1963.32,1008.34 1965.4,1008.3 1967.48,1008.25 1969.57,1008.2 1971.65,1008.14 1973.73,1008.08 1975.82,1008.01 1977.9,1007.94 1979.98,1007.86 1982.07,1007.78 1984.15,1007.7 1986.23,1007.61 1988.31,1007.51 1990.4,1007.41 1992.48,1007.31 1994.56,1007.2 1996.65,1007.09 1998.73,1006.97 2000.81,1006.84 2002.89,1006.71 2004.98,1006.58 2007.06,1006.44 2009.14,1006.3 2011.23,1006.15 2013.31,1006 2015.39,1005.84 2017.47,1005.67 2019.56,1005.51 2021.64,1005.33 2023.72,1005.15 2025.81,1004.97 2027.89,1004.78 2029.97,1004.59 2032.05,1004.39 2034.14,1004.18 2036.22,1003.97 2038.3,1003.76 2040.39,1003.54 2042.47,1003.31 2044.55,1003.08 2046.63,1002.85 2048.72,1002.61 2050.8,1002.36 2052.88,1002.11 2054.97,1001.85 2057.05,1001.59 2059.13,1001.32 2061.21,1001.05 2063.3,1000.77 2065.38,1000.48 2067.46,1000.19 2069.55,999.898 2071.63,999.597 2073.71,999.29 2075.79,998.978 2077.88,998.661 2079.96,998.337 2082.04,998.008 2084.13,997.674 2086.21,997.334 2088.29,996.988 2090.38,996.636 2092.46,996.279 2094.54,995.916 2096.62,995.547 2098.71,995.172 2100.79,994.792 2102.87,994.405 2104.96,994.013 2107.04,993.615 2109.12,993.211 2111.2,992.801 2113.29,992.386 2115.37,991.964 2117.45,991.536 2119.54,991.103 2121.62,990.663 2123.7,990.217 2125.78,989.766 2127.87,989.308 2129.95,988.844 2132.03,988.374 2134.12,987.898 2136.2,987.416 2138.28,986.928 2140.36,986.433 2142.45,985.932 2144.53,985.425 2146.61,984.912 2148.7,984.393 2150.78,983.867 2152.86,983.335 2154.94,982.797 2157.03,982.252 2159.11,981.701 2161.19,981.143 2163.28,980.58 2165.36,980.009 2167.44,979.433 2169.52,978.85 2171.61,978.26 2173.69,977.664 2175.77,977.061 2177.86,976.452 2179.94,975.837 2182.02,975.214 2184.1,974.586 2186.19,973.95 2188.27,973.308 2190.35,972.659 2192.44,972.004 2194.52,971.342 2196.6,970.673 2198.69,969.998 2200.77,969.315 2202.85,968.626 2204.93,967.93 2207.02,967.228 2209.1,966.518 2211.18,965.802 2213.27,965.079 2215.35,964.349 2217.43,963.612 2219.51,962.868 2221.6,962.117 2223.68,961.359 2225.76,960.595 2227.85,959.823 2229.93,959.044 2232.01,958.258 2234.09,957.465 2236.18,956.665 2238.26,955.858 2240.34,955.044 2242.43,954.223 2244.51,953.394 2246.59,952.559 2248.67,951.716 2250.76,950.866 2252.84,950.008 2254.92,949.144 2257.01,948.272 2259.09,947.393 2261.17,946.506 2263.25,945.613 2265.34,944.711 2267.42,943.803 2269.5,942.887 2271.59,941.964 2273.67,941.033 2275.75,940.095 2277.83,939.149 2279.92,938.196 2282,937.235 2284.08,936.267 2286.17,935.291 2288.25,934.308 2290.33,933.317 \"/>\n",
       "<circle clip-path=\"url(#clip202)\" cx=\"296.232\" cy=\"1263.28\" r=\"14.4\" fill=\"#e26f46\" fill-rule=\"evenodd\" fill-opacity=\"1\" stroke=\"#000000\" stroke-opacity=\"1\" stroke-width=\"3.2\"/>\n",
       "<circle clip-path=\"url(#clip202)\" cx=\"903.132\" cy=\"872.67\" r=\"14.4\" fill=\"#e26f46\" fill-rule=\"evenodd\" fill-opacity=\"1\" stroke=\"#000000\" stroke-opacity=\"1\" stroke-width=\"3.2\"/>\n",
       "<circle clip-path=\"url(#clip202)\" cx=\"1423.33\" cy=\"923.62\" r=\"14.4\" fill=\"#e26f46\" fill-rule=\"evenodd\" fill-opacity=\"1\" stroke=\"#000000\" stroke-opacity=\"1\" stroke-width=\"3.2\"/>\n",
       "<circle clip-path=\"url(#clip202)\" cx=\"1943.53\" cy=\"1008.54\" r=\"14.4\" fill=\"#e26f46\" fill-rule=\"evenodd\" fill-opacity=\"1\" stroke=\"#000000\" stroke-opacity=\"1\" stroke-width=\"3.2\"/>\n",
       "<polyline clip-path=\"url(#clip202)\" style=\"stroke:#3da44d; stroke-linecap:round; stroke-linejoin:round; stroke-width:4; stroke-opacity:1; fill:none\" points=\"209.532,989.551 211.614,987.585 213.697,985.639 215.78,983.712 217.863,981.805 219.946,979.917 222.029,978.048 224.112,976.198 226.195,974.368 228.278,972.557 230.36,970.765 232.443,968.992 234.526,967.237 236.609,965.502 238.692,963.786 240.775,962.088 242.858,960.409 244.941,958.749 247.023,957.107 249.106,955.484 251.189,953.88 253.272,952.294 255.355,950.727 257.438,949.177 259.521,947.647 261.604,946.134 263.687,944.64 265.769,943.164 267.852,941.706 269.935,940.266 272.018,938.844 274.101,937.44 276.184,936.054 278.267,934.686 280.35,933.336 282.432,932.003 284.515,930.688 286.598,929.391 288.681,928.112 290.764,926.85 292.847,925.605 294.93,924.378 297.013,923.168 299.096,921.976 301.178,920.801 303.261,919.643 305.344,918.502 307.427,917.379 309.51,916.272 311.593,915.183 313.676,914.11 315.759,913.055 317.841,912.016 319.924,910.994 322.007,909.989 324.09,909.001 326.173,908.029 328.256,907.074 330.339,906.136 332.422,905.213 334.505,904.308 336.587,903.419 338.67,902.546 340.753,901.689 342.836,900.849 344.919,900.025 347.002,899.217 349.085,898.425 351.168,897.649 353.25,896.89 355.333,896.146 357.416,895.418 359.499,894.705 361.582,894.009 363.665,893.328 365.748,892.663 367.831,892.014 369.914,891.38 371.996,890.762 374.079,890.159 376.162,889.571 378.245,888.999 380.328,888.442 382.411,887.901 384.494,887.374 386.577,886.863 388.66,886.367 390.742,885.886 392.825,885.42 394.908,884.969 396.991,884.532 399.074,884.111 401.157,883.704 403.24,883.312 405.323,882.935 407.405,882.573 409.488,882.224 411.571,881.891 413.654,881.572 415.737,881.267 417.82,880.977 419.903,880.701 421.986,880.439 424.069,880.192 426.151,879.959 428.234,879.739 430.317,879.534 432.4,879.343 434.483,879.166 436.566,879.002 438.649,878.853 440.732,878.717 442.814,878.595 444.897,878.487 446.98,878.392 449.063,878.311 451.146,878.244 453.229,878.19 455.312,878.149 457.395,878.122 459.478,878.108 461.56,878.107 463.643,878.12 465.726,878.145 467.809,878.184 469.892,878.236 471.975,878.301 474.058,878.379 476.141,878.47 478.223,878.573 480.306,878.69 482.389,878.819 484.472,878.961 486.555,879.115 488.638,879.282 490.721,879.462 492.804,879.654 494.887,879.858 496.969,880.075 499.052,880.304 501.135,880.546 503.218,880.8 505.301,881.066 507.384,881.344 509.467,881.634 511.55,881.936 513.633,882.25 515.715,882.576 517.798,882.914 519.881,883.263 521.964,883.625 524.047,883.998 526.13,884.383 528.213,884.779 530.296,885.187 532.378,885.606 534.461,886.037 536.544,886.479 538.627,886.933 540.71,887.398 542.793,887.874 544.876,888.361 546.959,888.859 549.042,889.369 551.124,889.889 553.207,890.421 555.29,890.963 557.373,891.516 559.456,892.08 561.539,892.655 563.622,893.241 565.705,893.837 567.787,894.444 569.87,895.061 571.953,895.689 574.036,896.327 576.119,896.976 578.202,897.635 580.285,898.304 582.368,898.984 584.451,899.673 586.533,900.373 588.616,901.083 590.699,901.803 592.782,902.533 594.865,903.273 596.948,904.023 599.031,904.782 601.114,905.552 603.196,906.331 605.279,907.12 607.362,907.918 609.445,908.726 611.528,909.543 613.611,910.37 615.694,911.207 617.777,912.052 619.86,912.907 621.942,913.771 624.025,914.645 626.108,915.527 628.191,916.419 630.274,917.32 632.357,918.229 634.44,919.148 636.523,920.075 638.605,921.012 640.688,921.957 642.771,922.911 644.854,923.873 646.937,924.844 649.02,925.824 651.103,926.812 653.186,927.809 655.269,928.814 657.351,929.827 659.434,930.849 661.517,931.879 663.6,932.917 665.683,933.963 667.766,935.018 669.849,936.08 671.932,937.151 674.015,938.229 676.097,939.316 678.18,940.41 680.263,941.512 682.346,942.622 684.429,943.739 686.512,944.864 688.595,945.996 690.678,947.137 692.76,948.284 694.843,949.439 696.926,950.602 699.009,951.771 701.092,952.948 703.175,954.132 705.258,955.324 707.341,956.522 709.424,957.728 711.506,958.94 713.589,960.159 715.672,961.386 717.755,962.619 719.838,963.859 721.921,965.106 724.004,966.359 726.087,967.619 728.169,968.886 730.252,970.159 732.335,971.439 734.418,972.725 736.501,974.017 738.584,975.316 740.667,976.621 742.75,977.932 744.833,979.25 746.915,980.573 748.998,981.903 751.081,983.238 753.164,984.58 755.247,985.928 757.33,987.281 759.413,988.64 761.496,990.005 763.578,991.376 765.661,992.752 767.744,994.134 769.827,995.521 771.91,996.914 773.993,998.312 776.076,999.716 778.159,1001.12 780.242,1002.54 782.324,1003.96 784.407,1005.38 786.49,1006.81 788.573,1008.25 790.656,1009.69 792.739,1011.13 794.822,1012.58 796.905,1014.04 798.988,1015.5 801.07,1016.96 803.153,1018.43 805.236,1019.9 807.319,1021.38 809.402,1022.86 811.485,1024.35 813.568,1025.84 815.651,1027.34 817.733,1028.84 819.816,1030.34 821.899,1031.85 823.982,1033.37 826.065,1034.88 828.148,1036.41 830.231,1037.93 832.314,1039.46 834.397,1040.99 836.479,1042.53 838.562,1044.07 840.645,1045.62 842.728,1047.16 844.811,1048.72 846.894,1050.27 848.977,1051.83 851.06,1053.39 853.142,1054.96 855.225,1056.53 857.308,1058.1 859.391,1059.68 861.474,1061.26 863.557,1062.84 865.64,1064.43 867.723,1066.02 869.806,1067.61 871.888,1069.2 873.971,1070.8 876.054,1072.4 878.137,1074.01 880.22,1075.61 882.303,1077.22 884.386,1078.83 886.469,1080.45 888.551,1082.06 890.634,1083.68 892.717,1085.31 894.8,1086.93 896.883,1088.56 898.966,1090.19 901.049,1091.82 903.132,1093.45 905.215,1095.09 907.297,1096.72 909.38,1098.36 911.463,1100.01 913.546,1101.65 915.629,1103.29 917.712,1104.94 919.795,1106.59 921.878,1108.24 923.961,1109.89 926.043,1111.55 928.126,1113.2 930.209,1114.86 932.292,1116.52 934.375,1118.18 936.458,1119.84 938.541,1121.51 940.624,1123.17 942.706,1124.83 944.789,1126.5 946.872,1128.17 948.955,1129.84 951.038,1131.51 953.121,1133.18 955.204,1134.85 957.287,1136.52 959.37,1138.19 961.452,1139.87 963.535,1141.54 965.618,1143.22 967.701,1144.89 969.784,1146.57 971.867,1148.25 973.95,1149.92 976.033,1151.6 978.115,1153.28 980.198,1154.96 982.281,1156.64 984.364,1158.31 986.447,1159.99 988.53,1161.67 990.613,1163.35 992.696,1165.03 994.779,1166.71 996.861,1168.39 998.944,1170.06 1001.03,1171.74 1003.11,1173.42 1005.19,1175.1 1007.28,1176.77 1009.36,1178.45 1011.44,1180.13 1013.52,1181.8 1015.61,1183.48 1017.69,1185.15 1019.77,1186.82 1021.86,1188.5 1023.94,1190.17 1026.02,1191.84 1028.1,1193.51 1030.19,1195.18 1032.27,1196.85 1034.35,1198.51 1036.44,1200.18 1038.52,1201.84 1040.6,1203.51 1042.68,1205.17 1044.77,1206.83 1046.85,1208.49 1048.93,1210.15 1051.02,1211.8 1053.1,1213.46 1055.18,1215.11 1057.27,1216.76 1059.35,1218.41 1061.43,1220.06 1063.51,1221.7 1065.6,1223.35 1067.68,1224.99 1069.76,1226.63 1071.85,1228.27 1073.93,1229.91 1076.01,1231.54 1078.09,1233.17 1080.18,1234.8 1082.26,1236.43 1084.34,1238.05 1086.43,1239.68 1088.51,1241.3 1090.59,1242.91 1092.67,1244.53 1094.76,1246.14 1096.84,1247.75 1098.92,1249.36 1101.01,1250.96 1103.09,1252.56 1105.17,1254.16 1107.25,1255.76 1109.34,1257.35 1111.42,1258.94 1113.5,1260.53 1115.59,1262.11 1117.67,1263.69 1119.75,1265.27 1121.83,1266.84 1123.92,1268.41 1126,1269.98 1128.08,1271.55 1130.17,1273.11 1132.25,1274.66 1134.33,1276.22 1136.41,1277.76 1138.5,1279.31 1140.58,1280.85 1142.66,1282.39 1144.75,1283.93 1146.83,1285.46 1148.91,1286.98 1150.99,1288.5 1153.08,1290.02 1155.16,1291.54 1157.24,1293.05 1159.33,1294.55 1161.41,1296.06 1163.49,1297.55 1165.57,1299.05 1167.66,1300.53 1169.74,1302.02 1171.82,1303.5 1173.91,1304.97 1175.99,1306.44 1178.07,1307.91 1180.16,1309.37 1182.24,1310.83 1184.32,1312.28 1186.4,1313.72 1188.49,1315.16 1190.57,1316.6 1192.65,1318.03 1194.74,1319.46 1196.82,1320.88 1198.9,1322.29 1200.98,1323.71 1203.07,1325.11 1205.15,1326.51 1207.23,1327.9 1209.32,1329.29 1211.4,1330.68 1213.48,1332.06 1215.56,1333.43 1217.65,1334.79 1219.73,1336.15 1221.81,1337.51 1223.9,1338.86 1225.98,1340.2 1228.06,1341.54 1230.14,1342.87 1232.23,1344.2 1234.31,1345.52 1236.39,1346.83 1238.48,1348.14 1240.56,1349.44 1242.64,1350.73 1244.72,1352.02 1246.81,1353.3 1248.89,1354.57 1250.97,1355.84 1253.06,1357.1 1255.14,1358.36 1257.22,1359.61 1259.3,1360.85 1261.39,1362.09 1263.47,1363.31 1265.55,1364.54 1267.64,1365.75 1269.72,1366.96 1271.8,1368.16 1273.88,1369.35 1275.97,1370.54 1278.05,1371.72 1280.13,1372.89 1282.22,1374.05 1284.3,1375.21 1286.38,1376.36 1288.47,1377.5 1290.55,1378.64 1292.63,1379.76 1294.71,1380.88 1296.8,1381.99 1298.88,1383.1 1300.96,1384.2 1303.05,1385.28 1305.13,1386.36 1307.21,1387.44 1309.29,1388.5 1311.38,1389.56 1313.46,1390.61 1315.54,1391.65 1317.63,1392.68 1319.71,1393.7 1321.79,1394.72 1323.87,1395.73 1325.96,1396.73 1328.04,1397.72 1330.12,1398.7 1332.21,1399.67 1334.29,1400.64 1336.37,1401.59 1338.45,1402.54 1340.54,1403.48 1342.62,1404.41 1344.7,1405.33 1346.79,1406.24 1348.87,1407.15 1350.95,1408.04 1353.03,1408.93 1355.12,1409.8 1357.2,1410.67 1359.28,1411.53 1361.37,1412.38 1363.45,1413.21 1365.53,1414.04 1367.61,1414.86 1369.7,1415.67 1371.78,1416.48 1373.86,1417.27 1375.95,1418.05 1378.03,1418.82 1380.11,1419.58 1382.19,1420.34 1384.28,1421.08 1386.36,1421.81 1388.44,1422.53 1390.53,1423.25 1392.61,1423.95 1394.69,1424.64 1396.77,1425.33 1398.86,1426 1400.94,1426.66 1403.02,1427.31 1405.11,1427.95 1407.19,1428.58 1409.27,1429.2 1411.36,1429.81 1413.44,1430.41 1415.52,1431 1417.6,1431.58 1419.69,1432.15 1421.77,1432.7 1423.85,1433.25 1425.94,1433.78 1428.02,1434.31 1430.1,1434.82 1432.18,1435.32 1434.27,1435.81 1436.35,1436.29 1438.43,1436.76 1440.52,1437.21 1442.6,1437.66 1444.68,1438.09 1446.76,1438.52 1448.85,1438.93 1450.93,1439.33 1453.01,1439.72 1455.1,1440.09 1457.18,1440.46 1459.26,1440.81 1461.34,1441.15 1463.43,1441.48 1465.51,1441.8 1467.59,1442.1 1469.68,1442.4 1471.76,1442.68 1473.84,1442.95 1475.92,1443.21 1478.01,1443.45 1480.09,1443.68 1482.17,1443.9 1484.26,1444.11 1486.34,1444.31 1488.42,1444.49 1490.5,1444.66 1492.59,1444.82 1494.67,1444.96 1496.75,1445.1 1498.84,1445.22 1500.92,1445.32 1503,1445.42 1505.08,1445.5 1507.17,1445.57 1509.25,1445.62 1511.33,1445.67 1513.42,1445.7 1515.5,1445.71 1517.58,1445.72 1519.67,1445.71 1521.75,1445.68 1523.83,1445.65 1525.91,1445.6 1528,1445.53 1530.08,1445.45 1532.16,1445.36 1534.25,1445.26 1536.33,1445.14 1538.41,1445.01 1540.49,1444.86 1542.58,1444.7 1544.66,1444.53 1546.74,1444.34 1548.83,1444.14 1550.91,1443.93 1552.99,1443.7 1555.07,1443.45 1557.16,1443.2 1559.24,1442.93 1561.32,1442.64 1563.41,1442.34 1565.49,1442.02 1567.57,1441.69 1569.65,1441.35 1571.74,1440.99 1573.82,1440.62 1575.9,1440.23 1577.99,1439.83 1580.07,1439.41 1582.15,1438.98 1584.23,1438.53 1586.32,1438.07 1588.4,1437.59 1590.48,1437.1 1592.57,1436.59 1594.65,1436.07 1596.73,1435.54 1598.81,1434.98 1600.9,1434.42 1602.98,1433.83 1605.06,1433.23 1607.15,1432.62 1609.23,1431.99 1611.31,1431.35 1613.39,1430.68 1615.48,1430.01 1617.56,1429.32 1619.64,1428.61 1621.73,1427.89 1623.81,1427.15 1625.89,1426.39 1627.98,1425.62 1630.06,1424.83 1632.14,1424.03 1634.22,1423.21 1636.31,1422.37 1638.39,1421.52 1640.47,1420.65 1642.56,1419.77 1644.64,1418.87 1646.72,1417.95 1648.8,1417.02 1650.89,1416.07 1652.97,1415.1 1655.05,1414.12 1657.14,1413.12 1659.22,1412.1 1661.3,1411.06 1663.38,1410.01 1665.47,1408.95 1667.55,1407.86 1669.63,1406.76 1671.72,1405.64 1673.8,1404.51 1675.88,1403.35 1677.96,1402.18 1680.05,1401 1682.13,1399.79 1684.21,1398.57 1686.3,1397.33 1688.38,1396.07 1690.46,1394.8 1692.54,1393.5 1694.63,1392.2 1696.71,1390.87 1698.79,1389.52 1700.88,1388.16 1702.96,1386.78 1705.04,1385.38 1707.12,1383.96 1709.21,1382.53 1711.29,1381.08 1713.37,1379.6 1715.46,1378.12 1717.54,1376.61 1719.62,1375.08 1721.7,1373.54 1723.79,1371.98 1725.87,1370.4 1727.95,1368.8 1730.04,1367.18 1732.12,1365.54 1734.2,1363.89 1736.28,1362.21 1738.37,1360.52 1740.45,1358.81 1742.53,1357.08 1744.62,1355.33 1746.7,1353.56 1748.78,1351.78 1750.87,1349.97 1752.95,1348.15 1755.03,1346.3 1757.11,1344.44 1759.2,1342.56 1761.28,1340.66 1763.36,1338.73 1765.45,1336.79 1767.53,1334.83 1769.61,1332.85 1771.69,1330.85 1773.78,1328.84 1775.86,1326.8 1777.94,1324.74 1780.03,1322.66 1782.11,1320.56 1784.19,1318.45 1786.27,1316.31 1788.36,1314.15 1790.44,1311.97 1792.52,1309.78 1794.61,1307.56 1796.69,1305.32 1798.77,1303.06 1800.85,1300.78 1802.94,1298.48 1805.02,1296.16 1807.1,1293.82 1809.19,1291.46 1811.27,1289.08 1813.35,1286.68 1815.43,1284.26 1817.52,1281.82 1819.6,1279.35 1821.68,1276.87 1823.77,1274.36 1825.85,1271.84 1827.93,1269.29 1830.01,1266.72 1832.1,1264.13 1834.18,1261.52 1836.26,1258.89 1838.35,1256.24 1840.43,1253.56 1842.51,1250.87 1844.59,1248.15 1846.68,1245.41 1848.76,1242.65 1850.84,1239.87 1852.93,1237.07 1855.01,1234.24 1857.09,1231.39 1859.18,1228.53 1861.26,1225.64 1863.34,1222.72 1865.42,1219.79 1867.51,1216.83 1869.59,1213.86 1871.67,1210.86 1873.76,1207.83 1875.84,1204.79 1877.92,1201.72 1880,1198.64 1882.09,1195.52 1884.17,1192.39 1886.25,1189.23 1888.34,1186.06 1890.42,1182.86 1892.5,1179.63 1894.58,1176.39 1896.67,1173.12 1898.75,1169.82 1900.83,1166.51 1902.92,1163.17 1905,1159.81 1907.08,1156.43 1909.16,1153.02 1911.25,1149.59 1913.33,1146.14 1915.41,1142.67 1917.5,1139.17 1919.58,1135.64 1921.66,1132.1 1923.74,1128.53 1925.83,1124.94 1927.91,1121.32 1929.99,1117.68 1932.08,1114.02 1934.16,1110.33 1936.24,1106.62 1938.32,1102.89 1940.41,1099.13 1942.49,1095.35 1944.57,1091.54 1946.66,1087.72 1948.74,1083.86 1950.82,1079.98 1952.9,1076.08 1954.99,1072.16 1957.07,1068.21 1959.15,1064.23 1961.24,1060.23 1963.32,1056.21 1965.4,1052.16 1967.48,1048.09 1969.57,1044 1971.65,1039.87 1973.73,1035.73 1975.82,1031.56 1977.9,1027.36 1979.98,1023.14 1982.07,1018.9 1984.15,1014.63 1986.23,1010.33 1988.31,1006.02 1990.4,1001.67 1992.48,997.301 1994.56,992.906 1996.65,988.486 1998.73,984.041 2000.81,979.57 2002.89,975.074 2004.98,970.552 2007.06,966.006 2009.14,961.433 2011.23,956.835 2013.31,952.212 2015.39,947.562 2017.47,942.887 2019.56,938.186 2021.64,933.46 2023.72,928.707 2025.81,923.929 2027.89,919.124 2029.97,914.294 2032.05,909.437 2034.14,904.554 2036.22,899.645 2038.3,894.71 2040.39,889.749 2042.47,884.761 2044.55,879.747 2046.63,874.706 2048.72,869.639 2050.8,864.545 2052.88,859.424 2054.97,854.277 2057.05,849.103 2059.13,843.903 2061.21,838.675 2063.3,833.421 2065.38,828.14 2067.46,822.831 2069.55,817.496 2071.63,812.134 2073.71,806.744 2075.79,801.328 2077.88,795.884 2079.96,790.412 2082.04,784.914 2084.13,779.388 2086.21,773.834 2088.29,768.253 2090.38,762.645 2092.46,757.009 2094.54,751.345 2096.62,745.654 2098.71,739.934 2100.79,734.187 2102.87,728.412 2104.96,722.609 2107.04,716.779 2109.12,710.92 2111.2,705.033 2113.29,699.118 2115.37,693.174 2117.45,687.203 2119.54,681.203 2121.62,675.175 2123.7,669.118 2125.78,663.033 2127.87,656.92 2129.95,650.778 2132.03,644.607 2134.12,638.408 2136.2,632.18 2138.28,625.923 2140.36,619.638 2142.45,613.323 2144.53,606.98 2146.61,600.607 2148.7,594.206 2150.78,587.776 2152.86,581.316 2154.94,574.828 2157.03,568.31 2159.11,561.762 2161.19,555.186 2163.28,548.58 2165.36,541.944 2167.44,535.28 2169.52,528.585 2171.61,521.861 2173.69,515.108 2175.77,508.324 2177.86,501.511 2179.94,494.668 2182.02,487.795 2184.1,480.893 2186.19,473.96 2188.27,466.998 2190.35,460.005 2192.44,452.982 2194.52,445.929 2196.6,438.846 2198.69,431.732 2200.77,424.589 2202.85,417.414 2204.93,410.21 2207.02,402.975 2209.1,395.709 2211.18,388.413 2213.27,381.086 2215.35,373.728 2217.43,366.34 2219.51,358.921 2221.6,351.471 2223.68,343.99 2225.76,336.478 2227.85,328.936 2229.93,321.362 2232.01,313.757 2234.09,306.121 2236.18,298.453 2238.26,290.755 2240.34,283.025 2242.43,275.264 2244.51,267.471 2246.59,259.647 2248.67,251.791 2250.76,243.904 2252.84,235.985 2254.92,228.034 2257.01,220.052 2259.09,212.038 2261.17,203.992 2263.25,195.914 2265.34,187.804 2267.42,179.663 2269.5,171.489 2271.59,163.283 2273.67,155.045 2275.75,146.774 2277.83,138.472 2279.92,130.137 2282,121.77 2284.08,113.37 2286.17,104.938 2288.25,96.4735 2290.33,87.9763 \"/>\n",
       "<path clip-path=\"url(#clip202)\" d=\"M280.232 907.62 L280.232 939.62 L312.232 939.62 L312.232 907.62 L280.232 907.62 Z\" fill=\"#c271d2\" fill-rule=\"evenodd\" fill-opacity=\"1\" stroke=\"#000000\" stroke-opacity=\"1\" stroke-width=\"3.2\"/>\n",
       "<path clip-path=\"url(#clip202)\" d=\"M887.132 1077.45 L887.132 1109.45 L919.132 1109.45 L919.132 1077.45 L887.132 1077.45 Z\" fill=\"#c271d2\" fill-rule=\"evenodd\" fill-opacity=\"1\" stroke=\"#000000\" stroke-opacity=\"1\" stroke-width=\"3.2\"/>\n",
       "<path clip-path=\"url(#clip202)\" d=\"M1407.33 1417.11 L1407.33 1449.11 L1439.33 1449.11 L1439.33 1417.11 L1407.33 1417.11 Z\" fill=\"#c271d2\" fill-rule=\"evenodd\" fill-opacity=\"1\" stroke=\"#000000\" stroke-opacity=\"1\" stroke-width=\"3.2\"/>\n",
       "<path clip-path=\"url(#clip202)\" d=\"M1927.53 1077.45 L1927.53 1109.45 L1959.53 1109.45 L1959.53 1077.45 L1927.53 1077.45 Z\" fill=\"#c271d2\" fill-rule=\"evenodd\" fill-opacity=\"1\" stroke=\"#000000\" stroke-opacity=\"1\" stroke-width=\"3.2\"/>\n",
       "<path clip-path=\"url(#clip200)\" d=\"M220.629 354.418 L495.337 354.418 L495.337 95.2176 L220.629 95.2176  Z\" fill=\"#ffffff\" fill-rule=\"evenodd\" fill-opacity=\"1\"/>\n",
       "<polyline clip-path=\"url(#clip200)\" style=\"stroke:#000000; stroke-linecap:round; stroke-linejoin:round; stroke-width:4; stroke-opacity:1; fill:none\" points=\"220.629,354.418 495.337,354.418 495.337,95.2176 220.629,95.2176 220.629,354.418 \"/>\n",
       "<polyline clip-path=\"url(#clip200)\" style=\"stroke:#009af9; stroke-linecap:round; stroke-linejoin:round; stroke-width:4; stroke-opacity:1; fill:none\" points=\"245.136,147.058 392.18,147.058 \"/>\n",
       "<path clip-path=\"url(#clip200)\" d=\"M430.529 166.745 Q428.724 171.375 427.011 172.787 Q425.298 174.199 422.427 174.199 L419.025 174.199 L419.025 170.634 L421.525 170.634 Q423.284 170.634 424.256 169.8 Q425.228 168.967 426.409 165.865 L427.173 163.921 L416.687 138.412 L421.201 138.412 L429.302 158.689 L437.404 138.412 L441.918 138.412 L430.529 166.745 Z\" fill=\"#000000\" fill-rule=\"nonzero\" fill-opacity=\"1\" /><path clip-path=\"url(#clip200)\" d=\"M449.21 160.402 L456.849 160.402 L456.849 134.037 L448.538 135.703 L448.538 131.444 L456.802 129.778 L461.478 129.778 L461.478 160.402 L469.117 160.402 L469.117 164.338 L449.21 164.338 L449.21 160.402 Z\" fill=\"#000000\" fill-rule=\"nonzero\" fill-opacity=\"1\" /><circle clip-path=\"url(#clip200)\" cx=\"318.658\" cy=\"198.898\" r=\"20.48\" fill=\"#e26f46\" fill-rule=\"evenodd\" fill-opacity=\"1\" stroke=\"#000000\" stroke-opacity=\"1\" stroke-width=\"4.55111\"/>\n",
       "<path clip-path=\"url(#clip200)\" d=\"M430.529 218.585 Q428.724 223.215 427.011 224.627 Q425.298 226.039 422.427 226.039 L419.025 226.039 L419.025 222.474 L421.525 222.474 Q423.284 222.474 424.256 221.64 Q425.228 220.807 426.409 217.705 L427.173 215.761 L416.687 190.252 L421.201 190.252 L429.302 210.529 L437.404 190.252 L441.918 190.252 L430.529 218.585 Z\" fill=\"#000000\" fill-rule=\"nonzero\" fill-opacity=\"1\" /><path clip-path=\"url(#clip200)\" d=\"M452.427 212.242 L468.747 212.242 L468.747 216.178 L446.802 216.178 L446.802 212.242 Q449.464 209.488 454.048 204.858 Q458.654 200.205 459.835 198.863 Q462.08 196.34 462.96 194.604 Q463.862 192.844 463.862 191.155 Q463.862 188.4 461.918 186.664 Q459.997 184.928 456.895 184.928 Q454.696 184.928 452.242 185.692 Q449.812 186.455 447.034 188.006 L447.034 183.284 Q449.858 182.15 452.312 181.571 Q454.765 180.993 456.802 180.993 Q462.173 180.993 465.367 183.678 Q468.562 186.363 468.562 190.854 Q468.562 192.983 467.751 194.905 Q466.964 196.803 464.858 199.395 Q464.279 200.067 461.177 203.284 Q458.075 206.479 452.427 212.242 Z\" fill=\"#000000\" fill-rule=\"nonzero\" fill-opacity=\"1\" /><polyline clip-path=\"url(#clip200)\" style=\"stroke:#3da44d; stroke-linecap:round; stroke-linejoin:round; stroke-width:4; stroke-opacity:1; fill:none\" points=\"245.136,250.738 392.18,250.738 \"/>\n",
       "<path clip-path=\"url(#clip200)\" d=\"M430.529 270.425 Q428.724 275.055 427.011 276.467 Q425.298 277.879 422.427 277.879 L419.025 277.879 L419.025 274.314 L421.525 274.314 Q423.284 274.314 424.256 273.48 Q425.228 272.647 426.409 269.545 L427.173 267.601 L416.687 242.092 L421.201 242.092 L429.302 262.369 L437.404 242.092 L441.918 242.092 L430.529 270.425 Z\" fill=\"#000000\" fill-rule=\"nonzero\" fill-opacity=\"1\" /><path clip-path=\"url(#clip200)\" d=\"M462.566 249.383 Q465.923 250.101 467.798 252.369 Q469.696 254.638 469.696 257.971 Q469.696 263.087 466.177 265.888 Q462.659 268.689 456.177 268.689 Q454.001 268.689 451.687 268.249 Q449.395 267.832 446.941 266.976 L446.941 262.462 Q448.886 263.596 451.2 264.175 Q453.515 264.754 456.038 264.754 Q460.437 264.754 462.728 263.018 Q465.043 261.281 465.043 257.971 Q465.043 254.916 462.89 253.203 Q460.761 251.467 456.941 251.467 L452.913 251.467 L452.913 247.624 L457.126 247.624 Q460.575 247.624 462.404 246.258 Q464.233 244.87 464.233 242.277 Q464.233 239.615 462.335 238.203 Q460.46 236.768 456.941 236.768 Q455.02 236.768 452.821 237.184 Q450.622 237.601 447.983 238.481 L447.983 234.314 Q450.645 233.573 452.96 233.203 Q455.298 232.833 457.358 232.833 Q462.682 232.833 465.784 235.263 Q468.886 237.67 468.886 241.791 Q468.886 244.661 467.242 246.652 Q465.599 248.62 462.566 249.383 Z\" fill=\"#000000\" fill-rule=\"nonzero\" fill-opacity=\"1\" /><path clip-path=\"url(#clip200)\" d=\"M295.902 279.822 L295.902 325.333 L341.414 325.333 L341.414 279.822 L295.902 279.822 Z\" fill=\"#c271d2\" fill-rule=\"evenodd\" fill-opacity=\"1\" stroke=\"#000000\" stroke-opacity=\"1\" stroke-width=\"4.55111\"/>\n",
       "<path clip-path=\"url(#clip200)\" d=\"M430.529 322.265 Q428.724 326.895 427.011 328.307 Q425.298 329.719 422.427 329.719 L419.025 329.719 L419.025 326.154 L421.525 326.154 Q423.284 326.154 424.256 325.32 Q425.228 324.487 426.409 321.385 L427.173 319.441 L416.687 293.932 L421.201 293.932 L429.302 314.209 L437.404 293.932 L441.918 293.932 L430.529 322.265 Z\" fill=\"#000000\" fill-rule=\"nonzero\" fill-opacity=\"1\" /><path clip-path=\"url(#clip200)\" d=\"M461.247 289.372 L449.441 307.821 L461.247 307.821 L461.247 289.372 M460.02 285.298 L465.899 285.298 L465.899 307.821 L470.83 307.821 L470.83 311.709 L465.899 311.709 L465.899 319.858 L461.247 319.858 L461.247 311.709 L445.645 311.709 L445.645 307.196 L460.02 285.298 Z\" fill=\"#000000\" fill-rule=\"nonzero\" fill-opacity=\"1\" /></svg>\n"
      ],
      "text/html": [
       "<?xml version=\"1.0\" encoding=\"utf-8\"?>\n",
       "<svg xmlns=\"http://www.w3.org/2000/svg\" xmlns:xlink=\"http://www.w3.org/1999/xlink\" width=\"600\" height=\"400\" viewBox=\"0 0 2400 1600\">\n",
       "<defs>\n",
       "  <clipPath id=\"clip250\">\n",
       "    <rect x=\"0\" y=\"0\" width=\"2400\" height=\"1600\"/>\n",
       "  </clipPath>\n",
       "</defs>\n",
       "<path clip-path=\"url(#clip250)\" d=\"M0 1600 L2400 1600 L2400 8.88178e-14 L0 8.88178e-14  Z\" fill=\"#ffffff\" fill-rule=\"evenodd\" fill-opacity=\"1\"/>\n",
       "<defs>\n",
       "  <clipPath id=\"clip251\">\n",
       "    <rect x=\"480\" y=\"0\" width=\"1681\" height=\"1600\"/>\n",
       "  </clipPath>\n",
       "</defs>\n",
       "<path clip-path=\"url(#clip250)\" d=\"M147.108 1486.45 L2352.76 1486.45 L2352.76 47.2441 L147.108 47.2441  Z\" fill=\"#ffffff\" fill-rule=\"evenodd\" fill-opacity=\"1\"/>\n",
       "<defs>\n",
       "  <clipPath id=\"clip252\">\n",
       "    <rect x=\"147\" y=\"47\" width=\"2207\" height=\"1440\"/>\n",
       "  </clipPath>\n",
       "</defs>\n",
       "<polyline clip-path=\"url(#clip252)\" style=\"stroke:#000000; stroke-linecap:round; stroke-linejoin:round; stroke-width:2; stroke-opacity:0.1; fill:none\" points=\"382.932,1486.45 382.932,47.2441 \"/>\n",
       "<polyline clip-path=\"url(#clip252)\" style=\"stroke:#000000; stroke-linecap:round; stroke-linejoin:round; stroke-width:2; stroke-opacity:0.1; fill:none\" points=\"816.432,1486.45 816.432,47.2441 \"/>\n",
       "<polyline clip-path=\"url(#clip252)\" style=\"stroke:#000000; stroke-linecap:round; stroke-linejoin:round; stroke-width:2; stroke-opacity:0.1; fill:none\" points=\"1249.93,1486.45 1249.93,47.2441 \"/>\n",
       "<polyline clip-path=\"url(#clip252)\" style=\"stroke:#000000; stroke-linecap:round; stroke-linejoin:round; stroke-width:2; stroke-opacity:0.1; fill:none\" points=\"1683.43,1486.45 1683.43,47.2441 \"/>\n",
       "<polyline clip-path=\"url(#clip252)\" style=\"stroke:#000000; stroke-linecap:round; stroke-linejoin:round; stroke-width:2; stroke-opacity:0.1; fill:none\" points=\"2116.93,1486.45 2116.93,47.2441 \"/>\n",
       "<polyline clip-path=\"url(#clip250)\" style=\"stroke:#000000; stroke-linecap:round; stroke-linejoin:round; stroke-width:4; stroke-opacity:1; fill:none\" points=\"147.108,1486.45 2352.76,1486.45 \"/>\n",
       "<polyline clip-path=\"url(#clip250)\" style=\"stroke:#000000; stroke-linecap:round; stroke-linejoin:round; stroke-width:4; stroke-opacity:1; fill:none\" points=\"382.932,1486.45 382.932,1467.55 \"/>\n",
       "<polyline clip-path=\"url(#clip250)\" style=\"stroke:#000000; stroke-linecap:round; stroke-linejoin:round; stroke-width:4; stroke-opacity:1; fill:none\" points=\"816.432,1486.45 816.432,1467.55 \"/>\n",
       "<polyline clip-path=\"url(#clip250)\" style=\"stroke:#000000; stroke-linecap:round; stroke-linejoin:round; stroke-width:4; stroke-opacity:1; fill:none\" points=\"1249.93,1486.45 1249.93,1467.55 \"/>\n",
       "<polyline clip-path=\"url(#clip250)\" style=\"stroke:#000000; stroke-linecap:round; stroke-linejoin:round; stroke-width:4; stroke-opacity:1; fill:none\" points=\"1683.43,1486.45 1683.43,1467.55 \"/>\n",
       "<polyline clip-path=\"url(#clip250)\" style=\"stroke:#000000; stroke-linecap:round; stroke-linejoin:round; stroke-width:4; stroke-opacity:1; fill:none\" points=\"2116.93,1486.45 2116.93,1467.55 \"/>\n",
       "<path clip-path=\"url(#clip250)\" d=\"M329.46 1532.02 L359.135 1532.02 L359.135 1535.95 L329.46 1535.95 L329.46 1532.02 Z\" fill=\"#000000\" fill-rule=\"nonzero\" fill-opacity=\"1\" /><path clip-path=\"url(#clip250)\" d=\"M370.038 1544.91 L377.677 1544.91 L377.677 1518.55 L369.367 1520.21 L369.367 1515.95 L377.631 1514.29 L382.307 1514.29 L382.307 1544.91 L389.945 1544.91 L389.945 1548.85 L370.038 1548.85 L370.038 1544.91 Z\" fill=\"#000000\" fill-rule=\"nonzero\" fill-opacity=\"1\" /><path clip-path=\"url(#clip250)\" d=\"M399.39 1542.97 L404.274 1542.97 L404.274 1548.85 L399.39 1548.85 L399.39 1542.97 Z\" fill=\"#000000\" fill-rule=\"nonzero\" fill-opacity=\"1\" /><path clip-path=\"url(#clip250)\" d=\"M424.459 1517.37 Q420.848 1517.37 419.019 1520.93 Q417.214 1524.47 417.214 1531.6 Q417.214 1538.71 419.019 1542.27 Q420.848 1545.82 424.459 1545.82 Q428.093 1545.82 429.899 1542.27 Q431.728 1538.71 431.728 1531.6 Q431.728 1524.47 429.899 1520.93 Q428.093 1517.37 424.459 1517.37 M424.459 1513.66 Q430.269 1513.66 433.325 1518.27 Q436.404 1522.85 436.404 1531.6 Q436.404 1540.33 433.325 1544.94 Q430.269 1549.52 424.459 1549.52 Q418.649 1549.52 415.57 1544.94 Q412.515 1540.33 412.515 1531.6 Q412.515 1522.85 415.57 1518.27 Q418.649 1513.66 424.459 1513.66 Z\" fill=\"#000000\" fill-rule=\"nonzero\" fill-opacity=\"1\" /><path clip-path=\"url(#clip250)\" d=\"M763.457 1532.02 L793.133 1532.02 L793.133 1535.95 L763.457 1535.95 L763.457 1532.02 Z\" fill=\"#000000\" fill-rule=\"nonzero\" fill-opacity=\"1\" /><path clip-path=\"url(#clip250)\" d=\"M813.226 1517.37 Q809.615 1517.37 807.786 1520.93 Q805.98 1524.47 805.98 1531.6 Q805.98 1538.71 807.786 1542.27 Q809.615 1545.82 813.226 1545.82 Q816.86 1545.82 818.665 1542.27 Q820.494 1538.71 820.494 1531.6 Q820.494 1524.47 818.665 1520.93 Q816.86 1517.37 813.226 1517.37 M813.226 1513.66 Q819.036 1513.66 822.091 1518.27 Q825.17 1522.85 825.17 1531.6 Q825.17 1540.33 822.091 1544.94 Q819.036 1549.52 813.226 1549.52 Q807.415 1549.52 804.337 1544.94 Q801.281 1540.33 801.281 1531.6 Q801.281 1522.85 804.337 1518.27 Q807.415 1513.66 813.226 1513.66 Z\" fill=\"#000000\" fill-rule=\"nonzero\" fill-opacity=\"1\" /><path clip-path=\"url(#clip250)\" d=\"M833.388 1542.97 L838.272 1542.97 L838.272 1548.85 L833.388 1548.85 L833.388 1542.97 Z\" fill=\"#000000\" fill-rule=\"nonzero\" fill-opacity=\"1\" /><path clip-path=\"url(#clip250)\" d=\"M848.503 1514.29 L866.86 1514.29 L866.86 1518.22 L852.786 1518.22 L852.786 1526.7 Q853.804 1526.35 854.823 1526.19 Q855.841 1526 856.86 1526 Q862.647 1526 866.026 1529.17 Q869.406 1532.34 869.406 1537.76 Q869.406 1543.34 865.934 1546.44 Q862.462 1549.52 856.142 1549.52 Q853.966 1549.52 851.698 1549.15 Q849.452 1548.78 847.045 1548.04 L847.045 1543.34 Q849.128 1544.47 851.35 1545.03 Q853.573 1545.58 856.049 1545.58 Q860.054 1545.58 862.392 1543.48 Q864.73 1541.37 864.73 1537.76 Q864.73 1534.15 862.392 1532.04 Q860.054 1529.94 856.049 1529.94 Q854.175 1529.94 852.3 1530.35 Q850.448 1530.77 848.503 1531.65 L848.503 1514.29 Z\" fill=\"#000000\" fill-rule=\"nonzero\" fill-opacity=\"1\" /><path clip-path=\"url(#clip250)\" d=\"M1227.32 1517.37 Q1223.71 1517.37 1221.88 1520.93 Q1220.07 1524.47 1220.07 1531.6 Q1220.07 1538.71 1221.88 1542.27 Q1223.71 1545.82 1227.32 1545.82 Q1230.95 1545.82 1232.76 1542.27 Q1234.58 1538.71 1234.58 1531.6 Q1234.58 1524.47 1232.76 1520.93 Q1230.95 1517.37 1227.32 1517.37 M1227.32 1513.66 Q1233.13 1513.66 1236.18 1518.27 Q1239.26 1522.85 1239.26 1531.6 Q1239.26 1540.33 1236.18 1544.94 Q1233.13 1549.52 1227.32 1549.52 Q1221.51 1549.52 1218.43 1544.94 Q1215.37 1540.33 1215.37 1531.6 Q1215.37 1522.85 1218.43 1518.27 Q1221.51 1513.66 1227.32 1513.66 Z\" fill=\"#000000\" fill-rule=\"nonzero\" fill-opacity=\"1\" /><path clip-path=\"url(#clip250)\" d=\"M1247.48 1542.97 L1252.36 1542.97 L1252.36 1548.85 L1247.48 1548.85 L1247.48 1542.97 Z\" fill=\"#000000\" fill-rule=\"nonzero\" fill-opacity=\"1\" /><path clip-path=\"url(#clip250)\" d=\"M1272.55 1517.37 Q1268.94 1517.37 1267.11 1520.93 Q1265.3 1524.47 1265.3 1531.6 Q1265.3 1538.71 1267.11 1542.27 Q1268.94 1545.82 1272.55 1545.82 Q1276.18 1545.82 1277.99 1542.27 Q1279.82 1538.71 1279.82 1531.6 Q1279.82 1524.47 1277.99 1520.93 Q1276.18 1517.37 1272.55 1517.37 M1272.55 1513.66 Q1278.36 1513.66 1281.41 1518.27 Q1284.49 1522.85 1284.49 1531.6 Q1284.49 1540.33 1281.41 1544.94 Q1278.36 1549.52 1272.55 1549.52 Q1266.74 1549.52 1263.66 1544.94 Q1260.6 1540.33 1260.6 1531.6 Q1260.6 1522.85 1263.66 1518.27 Q1266.74 1513.66 1272.55 1513.66 Z\" fill=\"#000000\" fill-rule=\"nonzero\" fill-opacity=\"1\" /><path clip-path=\"url(#clip250)\" d=\"M1661.31 1517.37 Q1657.7 1517.37 1655.87 1520.93 Q1654.07 1524.47 1654.07 1531.6 Q1654.07 1538.71 1655.87 1542.27 Q1657.7 1545.82 1661.31 1545.82 Q1664.95 1545.82 1666.75 1542.27 Q1668.58 1538.71 1668.58 1531.6 Q1668.58 1524.47 1666.75 1520.93 Q1664.95 1517.37 1661.31 1517.37 M1661.31 1513.66 Q1667.12 1513.66 1670.18 1518.27 Q1673.26 1522.85 1673.26 1531.6 Q1673.26 1540.33 1670.18 1544.94 Q1667.12 1549.52 1661.31 1549.52 Q1655.5 1549.52 1652.43 1544.94 Q1649.37 1540.33 1649.37 1531.6 Q1649.37 1522.85 1652.43 1518.27 Q1655.5 1513.66 1661.31 1513.66 Z\" fill=\"#000000\" fill-rule=\"nonzero\" fill-opacity=\"1\" /><path clip-path=\"url(#clip250)\" d=\"M1681.48 1542.97 L1686.36 1542.97 L1686.36 1548.85 L1681.48 1548.85 L1681.48 1542.97 Z\" fill=\"#000000\" fill-rule=\"nonzero\" fill-opacity=\"1\" /><path clip-path=\"url(#clip250)\" d=\"M1696.59 1514.29 L1714.95 1514.29 L1714.95 1518.22 L1700.87 1518.22 L1700.87 1526.7 Q1701.89 1526.35 1702.91 1526.19 Q1703.93 1526 1704.95 1526 Q1710.73 1526 1714.11 1529.17 Q1717.49 1532.34 1717.49 1537.76 Q1717.49 1543.34 1714.02 1546.44 Q1710.55 1549.52 1704.23 1549.52 Q1702.05 1549.52 1699.79 1549.15 Q1697.54 1548.78 1695.13 1548.04 L1695.13 1543.34 Q1697.22 1544.47 1699.44 1545.03 Q1701.66 1545.58 1704.14 1545.58 Q1708.14 1545.58 1710.48 1543.48 Q1712.82 1541.37 1712.82 1537.76 Q1712.82 1534.15 1710.48 1532.04 Q1708.14 1529.94 1704.14 1529.94 Q1702.26 1529.94 1700.39 1530.35 Q1698.54 1530.77 1696.59 1531.65 L1696.59 1514.29 Z\" fill=\"#000000\" fill-rule=\"nonzero\" fill-opacity=\"1\" /><path clip-path=\"url(#clip250)\" d=\"M2084.08 1544.91 L2091.72 1544.91 L2091.72 1518.55 L2083.41 1520.21 L2083.41 1515.95 L2091.68 1514.29 L2096.35 1514.29 L2096.35 1544.91 L2103.99 1544.91 L2103.99 1548.85 L2084.08 1548.85 L2084.08 1544.91 Z\" fill=\"#000000\" fill-rule=\"nonzero\" fill-opacity=\"1\" /><path clip-path=\"url(#clip250)\" d=\"M2113.44 1542.97 L2118.32 1542.97 L2118.32 1548.85 L2113.44 1548.85 L2113.44 1542.97 Z\" fill=\"#000000\" fill-rule=\"nonzero\" fill-opacity=\"1\" /><path clip-path=\"url(#clip250)\" d=\"M2138.51 1517.37 Q2134.89 1517.37 2133.07 1520.93 Q2131.26 1524.47 2131.26 1531.6 Q2131.26 1538.71 2133.07 1542.27 Q2134.89 1545.82 2138.51 1545.82 Q2142.14 1545.82 2143.95 1542.27 Q2145.77 1538.71 2145.77 1531.6 Q2145.77 1524.47 2143.95 1520.93 Q2142.14 1517.37 2138.51 1517.37 M2138.51 1513.66 Q2144.32 1513.66 2147.37 1518.27 Q2150.45 1522.85 2150.45 1531.6 Q2150.45 1540.33 2147.37 1544.94 Q2144.32 1549.52 2138.51 1549.52 Q2132.7 1549.52 2129.62 1544.94 Q2126.56 1540.33 2126.56 1531.6 Q2126.56 1522.85 2129.62 1518.27 Q2132.7 1513.66 2138.51 1513.66 Z\" fill=\"#000000\" fill-rule=\"nonzero\" fill-opacity=\"1\" /><polyline clip-path=\"url(#clip252)\" style=\"stroke:#000000; stroke-linecap:round; stroke-linejoin:round; stroke-width:2; stroke-opacity:0.1; fill:none\" points=\"147.108,1433.11 2352.76,1433.11 \"/>\n",
       "<polyline clip-path=\"url(#clip252)\" style=\"stroke:#000000; stroke-linecap:round; stroke-linejoin:round; stroke-width:2; stroke-opacity:0.1; fill:none\" points=\"147.108,1093.45 2352.76,1093.45 \"/>\n",
       "<polyline clip-path=\"url(#clip252)\" style=\"stroke:#000000; stroke-linecap:round; stroke-linejoin:round; stroke-width:2; stroke-opacity:0.1; fill:none\" points=\"147.108,753.789 2352.76,753.789 \"/>\n",
       "<polyline clip-path=\"url(#clip252)\" style=\"stroke:#000000; stroke-linecap:round; stroke-linejoin:round; stroke-width:2; stroke-opacity:0.1; fill:none\" points=\"147.108,414.127 2352.76,414.127 \"/>\n",
       "<polyline clip-path=\"url(#clip252)\" style=\"stroke:#000000; stroke-linecap:round; stroke-linejoin:round; stroke-width:2; stroke-opacity:0.1; fill:none\" points=\"147.108,74.4649 2352.76,74.4649 \"/>\n",
       "<polyline clip-path=\"url(#clip250)\" style=\"stroke:#000000; stroke-linecap:round; stroke-linejoin:round; stroke-width:4; stroke-opacity:1; fill:none\" points=\"147.108,1486.45 147.108,47.2441 \"/>\n",
       "<polyline clip-path=\"url(#clip250)\" style=\"stroke:#000000; stroke-linecap:round; stroke-linejoin:round; stroke-width:4; stroke-opacity:1; fill:none\" points=\"147.108,1433.11 166.005,1433.11 \"/>\n",
       "<polyline clip-path=\"url(#clip250)\" style=\"stroke:#000000; stroke-linecap:round; stroke-linejoin:round; stroke-width:4; stroke-opacity:1; fill:none\" points=\"147.108,1093.45 166.005,1093.45 \"/>\n",
       "<polyline clip-path=\"url(#clip250)\" style=\"stroke:#000000; stroke-linecap:round; stroke-linejoin:round; stroke-width:4; stroke-opacity:1; fill:none\" points=\"147.108,753.789 166.005,753.789 \"/>\n",
       "<polyline clip-path=\"url(#clip250)\" style=\"stroke:#000000; stroke-linecap:round; stroke-linejoin:round; stroke-width:4; stroke-opacity:1; fill:none\" points=\"147.108,414.127 166.005,414.127 \"/>\n",
       "<polyline clip-path=\"url(#clip250)\" style=\"stroke:#000000; stroke-linecap:round; stroke-linejoin:round; stroke-width:4; stroke-opacity:1; fill:none\" points=\"147.108,74.4649 166.005,74.4649 \"/>\n",
       "<path clip-path=\"url(#clip250)\" d=\"M50.9921 1433.56 L80.6679 1433.56 L80.6679 1437.5 L50.9921 1437.5 L50.9921 1433.56 Z\" fill=\"#000000\" fill-rule=\"nonzero\" fill-opacity=\"1\" /><path clip-path=\"url(#clip250)\" d=\"M94.7882 1446.46 L111.108 1446.46 L111.108 1450.39 L89.1632 1450.39 L89.1632 1446.46 Q91.8252 1443.7 96.4085 1439.07 Q101.015 1434.42 102.196 1433.08 Q104.441 1430.55 105.321 1428.82 Q106.223 1427.06 106.223 1425.37 Q106.223 1422.62 104.279 1420.88 Q102.358 1419.14 99.2558 1419.14 Q97.0567 1419.14 94.603 1419.91 Q92.1725 1420.67 89.3947 1422.22 L89.3947 1417.5 Q92.2188 1416.37 94.6724 1415.79 Q97.1261 1415.21 99.1632 1415.21 Q104.534 1415.21 107.728 1417.89 Q110.922 1420.58 110.922 1425.07 Q110.922 1427.2 110.112 1429.12 Q109.325 1431.02 107.219 1433.61 Q106.64 1434.28 103.538 1437.5 Q100.436 1440.69 94.7882 1446.46 Z\" fill=\"#000000\" fill-rule=\"nonzero\" fill-opacity=\"1\" /><path clip-path=\"url(#clip250)\" d=\"M99.1632 1079.25 Q95.5521 1079.25 93.7234 1082.81 Q91.9178 1086.36 91.9178 1093.49 Q91.9178 1100.59 93.7234 1104.16 Q95.5521 1107.7 99.1632 1107.7 Q102.797 1107.7 104.603 1104.16 Q106.432 1100.59 106.432 1093.49 Q106.432 1086.36 104.603 1082.81 Q102.797 1079.25 99.1632 1079.25 M99.1632 1075.55 Q104.973 1075.55 108.029 1080.15 Q111.108 1084.74 111.108 1093.49 Q111.108 1102.21 108.029 1106.82 Q104.973 1111.4 99.1632 1111.4 Q93.353 1111.4 90.2743 1106.82 Q87.2188 1102.21 87.2188 1093.49 Q87.2188 1084.74 90.2743 1080.15 Q93.353 1075.55 99.1632 1075.55 Z\" fill=\"#000000\" fill-rule=\"nonzero\" fill-opacity=\"1\" /><path clip-path=\"url(#clip250)\" d=\"M94.7882 767.134 L111.108 767.134 L111.108 771.069 L89.1632 771.069 L89.1632 767.134 Q91.8252 764.379 96.4085 759.749 Q101.015 755.097 102.196 753.754 Q104.441 751.231 105.321 749.495 Q106.223 747.736 106.223 746.046 Q106.223 743.291 104.279 741.555 Q102.358 739.819 99.2558 739.819 Q97.0567 739.819 94.603 740.583 Q92.1725 741.347 89.3947 742.898 L89.3947 738.175 Q92.2188 737.041 94.6724 736.462 Q97.1261 735.884 99.1632 735.884 Q104.534 735.884 107.728 738.569 Q110.922 741.254 110.922 745.745 Q110.922 747.874 110.112 749.796 Q109.325 751.694 107.219 754.286 Q106.64 754.958 103.538 758.175 Q100.436 761.37 94.7882 767.134 Z\" fill=\"#000000\" fill-rule=\"nonzero\" fill-opacity=\"1\" /><path clip-path=\"url(#clip250)\" d=\"M101.524 400.921 L89.7188 419.37 L101.524 419.37 L101.524 400.921 M100.297 396.847 L106.177 396.847 L106.177 419.37 L111.108 419.37 L111.108 423.259 L106.177 423.259 L106.177 431.407 L101.524 431.407 L101.524 423.259 L85.9225 423.259 L85.9225 418.745 L100.297 396.847 Z\" fill=\"#000000\" fill-rule=\"nonzero\" fill-opacity=\"1\" /><path clip-path=\"url(#clip250)\" d=\"M99.5798 72.6015 Q96.4317 72.6015 94.5799 74.7542 Q92.7512 76.907 92.7512 80.657 Q92.7512 84.3838 94.5799 86.5597 Q96.4317 88.7125 99.5798 88.7125 Q102.728 88.7125 104.557 86.5597 Q106.408 84.3838 106.408 80.657 Q106.408 76.907 104.557 74.7542 Q102.728 72.6015 99.5798 72.6015 M108.862 57.9488 L108.862 62.208 Q107.103 61.3747 105.297 60.9349 Q103.515 60.4951 101.756 60.4951 Q97.1261 60.4951 94.6724 63.62 Q92.2419 66.745 91.8947 73.0644 Q93.2604 71.0506 95.3206 69.9857 Q97.3808 68.8978 99.8576 68.8978 Q105.066 68.8978 108.075 72.0691 Q111.108 75.2172 111.108 80.657 Q111.108 85.981 107.959 89.1986 Q104.811 92.4162 99.5798 92.4162 Q93.5845 92.4162 90.4132 87.8329 Q87.2419 83.2264 87.2419 74.4996 Q87.2419 66.3052 91.1308 61.4441 Q95.0197 56.5599 101.571 56.5599 Q103.33 56.5599 105.112 56.9071 Q106.918 57.2543 108.862 57.9488 Z\" fill=\"#000000\" fill-rule=\"nonzero\" fill-opacity=\"1\" /><polyline clip-path=\"url(#clip252)\" style=\"stroke:#009af9; stroke-linecap:round; stroke-linejoin:round; stroke-width:4; stroke-opacity:1; fill:none\" points=\"209.532,1385.02 211.614,1381.86 213.697,1378.71 215.78,1375.57 217.863,1372.44 219.946,1369.33 222.029,1366.23 224.112,1363.14 226.195,1360.06 228.278,1356.99 230.36,1353.94 232.443,1350.89 234.526,1347.86 236.609,1344.84 238.692,1341.83 240.775,1338.84 242.858,1335.85 244.941,1332.88 247.023,1329.92 249.106,1326.97 251.189,1324.03 253.272,1321.1 255.355,1318.19 257.438,1315.28 259.521,1312.39 261.604,1309.51 263.687,1306.64 265.769,1303.78 267.852,1300.94 269.935,1298.1 272.018,1295.28 274.101,1292.46 276.184,1289.66 278.267,1286.87 280.35,1284.1 282.432,1281.33 284.515,1278.57 286.598,1275.83 288.681,1273.1 290.764,1270.37 292.847,1267.66 294.93,1264.96 297.013,1262.27 299.096,1259.6 301.178,1256.93 303.261,1254.28 305.344,1251.63 307.427,1249 309.51,1246.38 311.593,1243.77 313.676,1241.17 315.759,1238.58 317.841,1236 319.924,1233.43 322.007,1230.88 324.09,1228.33 326.173,1225.8 328.256,1223.27 330.339,1220.76 332.422,1218.26 334.505,1215.77 336.587,1213.29 338.67,1210.82 340.753,1208.36 342.836,1205.91 344.919,1203.47 347.002,1201.05 349.085,1198.63 351.168,1196.23 353.25,1193.83 355.333,1191.45 357.416,1189.08 359.499,1186.71 361.582,1184.36 363.665,1182.02 365.748,1179.69 367.831,1177.37 369.914,1175.06 371.996,1172.76 374.079,1170.47 376.162,1168.19 378.245,1165.92 380.328,1163.66 382.411,1161.41 384.494,1159.18 386.577,1156.95 388.66,1154.73 390.742,1152.52 392.825,1150.33 394.908,1148.14 396.991,1145.97 399.074,1143.8 401.157,1141.64 403.24,1139.5 405.323,1137.36 407.405,1135.24 409.488,1133.12 411.571,1131.02 413.654,1128.92 415.737,1126.84 417.82,1124.76 419.903,1122.7 421.986,1120.64 424.069,1118.6 426.151,1116.56 428.234,1114.54 430.317,1112.52 432.4,1110.52 434.483,1108.52 436.566,1106.54 438.649,1104.56 440.732,1102.6 442.814,1100.64 444.897,1098.69 446.98,1096.76 449.063,1094.83 451.146,1092.91 453.229,1091.01 455.312,1089.11 457.395,1087.22 459.478,1085.34 461.56,1083.47 463.643,1081.61 465.726,1079.76 467.809,1077.92 469.892,1076.09 471.975,1074.27 474.058,1072.46 476.141,1070.66 478.223,1068.86 480.306,1067.08 482.389,1065.31 484.472,1063.54 486.555,1061.79 488.638,1060.04 490.721,1058.31 492.804,1056.58 494.887,1054.86 496.969,1053.15 499.052,1051.45 501.135,1049.76 503.218,1048.08 505.301,1046.41 507.384,1044.75 509.467,1043.09 511.55,1041.45 513.633,1039.81 515.715,1038.19 517.798,1036.57 519.881,1034.96 521.964,1033.37 524.047,1031.78 526.13,1030.19 528.213,1028.62 530.296,1027.06 532.378,1025.51 534.461,1023.96 536.544,1022.43 538.627,1020.9 540.71,1019.38 542.793,1017.87 544.876,1016.37 546.959,1014.88 549.042,1013.39 551.124,1011.92 553.207,1010.46 555.29,1009 557.373,1007.55 559.456,1006.11 561.539,1004.68 563.622,1003.26 565.705,1001.84 567.787,1000.44 569.87,999.044 571.953,997.656 574.036,996.277 576.119,994.906 578.202,993.544 580.285,992.191 582.368,990.846 584.451,989.509 586.533,988.181 588.616,986.861 590.699,985.549 592.782,984.246 594.865,982.952 596.948,981.665 599.031,980.387 601.114,979.118 603.196,977.856 605.279,976.603 607.362,975.358 609.445,974.121 611.528,972.893 613.611,971.672 615.694,970.46 617.777,969.256 619.86,968.06 621.942,966.872 624.025,965.693 626.108,964.521 628.191,963.357 630.274,962.202 632.357,961.054 634.44,959.914 636.523,958.783 638.605,957.659 640.688,956.543 642.771,955.435 644.854,954.335 646.937,953.243 649.02,952.159 651.103,951.082 653.186,950.014 655.269,948.953 657.351,947.9 659.434,946.854 661.517,945.817 663.6,944.787 665.683,943.764 667.766,942.75 669.849,941.743 671.932,940.744 674.015,939.752 676.097,938.768 678.18,937.791 680.263,936.822 682.346,935.861 684.429,934.907 686.512,933.961 688.595,933.022 690.678,932.09 692.76,931.166 694.843,930.25 696.926,929.34 699.009,928.438 701.092,927.544 703.175,926.657 705.258,925.777 707.341,924.904 709.424,924.039 711.506,923.181 713.589,922.33 715.672,921.487 717.755,920.65 719.838,919.821 721.921,918.999 724.004,918.184 726.087,917.377 728.169,916.576 730.252,915.782 732.335,914.996 734.418,914.216 736.501,913.444 738.584,912.678 740.667,911.92 742.75,911.168 744.833,910.424 746.915,909.686 748.998,908.956 751.081,908.232 753.164,907.515 755.247,906.805 757.33,906.101 759.413,905.405 761.496,904.715 763.578,904.032 765.661,903.356 767.744,902.687 769.827,902.024 771.91,901.368 773.993,900.719 776.076,900.076 778.159,899.44 780.242,898.81 782.324,898.187 784.407,897.571 786.49,896.961 788.573,896.358 790.656,895.762 792.739,895.171 794.822,894.588 796.905,894.01 798.988,893.439 801.07,892.875 803.153,892.317 805.236,891.765 807.319,891.22 809.402,890.681 811.485,890.148 813.568,889.622 815.651,889.102 817.733,888.588 819.816,888.081 821.899,887.579 823.982,887.084 826.065,886.595 828.148,886.113 830.231,885.636 832.314,885.165 834.397,884.701 836.479,884.243 838.562,883.79 840.645,883.344 842.728,882.904 844.811,882.47 846.894,882.041 848.977,881.619 851.06,881.203 853.142,880.792 855.225,880.388 857.308,879.989 859.391,879.597 861.474,879.21 863.557,878.829 865.64,878.454 867.723,878.084 869.806,877.72 871.888,877.363 873.971,877.01 876.054,876.664 878.137,876.323 880.22,875.988 882.303,875.658 884.386,875.335 886.469,875.016 888.551,874.704 890.634,874.397 892.717,874.095 894.8,873.799 896.883,873.509 898.966,873.224 901.049,872.944 903.132,872.67 905.215,872.402 907.297,872.139 909.38,871.881 911.463,871.629 913.546,871.382 915.629,871.14 917.712,870.903 919.795,870.672 921.878,870.447 923.961,870.226 926.043,870.011 928.126,869.801 930.209,869.596 932.292,869.396 934.375,869.202 936.458,869.012 938.541,868.828 940.624,868.649 942.706,868.475 944.789,868.306 946.872,868.142 948.955,867.983 951.038,867.829 953.121,867.68 955.204,867.536 957.287,867.397 959.37,867.263 961.452,867.134 963.535,867.01 965.618,866.89 967.701,866.776 969.784,866.666 971.867,866.561 973.95,866.461 976.033,866.365 978.115,866.275 980.198,866.189 982.281,866.108 984.364,866.031 986.447,865.959 988.53,865.892 990.613,865.83 992.696,865.772 994.779,865.718 996.861,865.67 998.944,865.625 1001.03,865.586 1003.11,865.551 1005.19,865.52 1007.28,865.494 1009.36,865.472 1011.44,865.455 1013.52,865.442 1015.61,865.434 1017.69,865.43 1019.77,865.43 1021.86,865.434 1023.94,865.443 1026.02,865.457 1028.1,865.474 1030.19,865.496 1032.27,865.522 1034.35,865.552 1036.44,865.587 1038.52,865.625 1040.6,865.668 1042.68,865.715 1044.77,865.766 1046.85,865.821 1048.93,865.881 1051.02,865.944 1053.1,866.011 1055.18,866.083 1057.27,866.158 1059.35,866.238 1061.43,866.321 1063.51,866.408 1065.6,866.499 1067.68,866.595 1069.76,866.694 1071.85,866.797 1073.93,866.903 1076.01,867.014 1078.09,867.128 1080.18,867.247 1082.26,867.368 1084.34,867.494 1086.43,867.624 1088.51,867.757 1090.59,867.894 1092.67,868.034 1094.76,868.178 1096.84,868.326 1098.92,868.478 1101.01,868.633 1103.09,868.791 1105.17,868.953 1107.25,869.119 1109.34,869.288 1111.42,869.461 1113.5,869.637 1115.59,869.817 1117.67,870 1119.75,870.187 1121.83,870.376 1123.92,870.57 1126,870.766 1128.08,870.966 1130.17,871.17 1132.25,871.376 1134.33,871.586 1136.41,871.799 1138.5,872.016 1140.58,872.235 1142.66,872.458 1144.75,872.684 1146.83,872.913 1148.91,873.146 1150.99,873.381 1153.08,873.62 1155.16,873.861 1157.24,874.106 1159.33,874.354 1161.41,874.605 1163.49,874.858 1165.57,875.115 1167.66,875.375 1169.74,875.638 1171.82,875.903 1173.91,876.172 1175.99,876.443 1178.07,876.717 1180.16,876.995 1182.24,877.275 1184.32,877.557 1186.4,877.843 1188.49,878.131 1190.57,878.422 1192.65,878.716 1194.74,879.013 1196.82,879.312 1198.9,879.614 1200.98,879.919 1203.07,880.226 1205.15,880.536 1207.23,880.848 1209.32,881.163 1211.4,881.481 1213.48,881.801 1215.56,882.123 1217.65,882.448 1219.73,882.776 1221.81,883.106 1223.9,883.439 1225.98,883.774 1228.06,884.111 1230.14,884.451 1232.23,884.793 1234.31,885.137 1236.39,885.484 1238.48,885.833 1240.56,886.184 1242.64,886.538 1244.72,886.893 1246.81,887.252 1248.89,887.612 1250.97,887.974 1253.06,888.339 1255.14,888.706 1257.22,889.074 1259.3,889.445 1261.39,889.818 1263.47,890.194 1265.55,890.571 1267.64,890.95 1269.72,891.331 1271.8,891.714 1273.88,892.1 1275.97,892.487 1278.05,892.876 1280.13,893.267 1282.22,893.66 1284.3,894.054 1286.38,894.451 1288.47,894.849 1290.55,895.25 1292.63,895.652 1294.71,896.055 1296.8,896.461 1298.88,896.868 1300.96,897.277 1303.05,897.688 1305.13,898.1 1307.21,898.514 1309.29,898.93 1311.38,899.347 1313.46,899.766 1315.54,900.187 1317.63,900.609 1319.71,901.032 1321.79,901.457 1323.87,901.884 1325.96,902.312 1328.04,902.741 1330.12,903.172 1332.21,903.605 1334.29,904.038 1336.37,904.474 1338.45,904.91 1340.54,905.348 1342.62,905.787 1344.7,906.228 1346.79,906.669 1348.87,907.112 1350.95,907.557 1353.03,908.002 1355.12,908.449 1357.2,908.897 1359.28,909.346 1361.37,909.796 1363.45,910.247 1365.53,910.7 1367.61,911.153 1369.7,911.608 1371.78,912.064 1373.86,912.52 1375.95,912.978 1378.03,913.437 1380.11,913.896 1382.19,914.357 1384.28,914.819 1386.36,915.281 1388.44,915.744 1390.53,916.209 1392.61,916.674 1394.69,917.14 1396.77,917.606 1398.86,918.074 1400.94,918.542 1403.02,919.011 1405.11,919.481 1407.19,919.951 1409.27,920.423 1411.36,920.894 1413.44,921.367 1415.52,921.84 1417.6,922.314 1419.69,922.788 1421.77,923.263 1423.85,923.739 1425.94,924.215 1428.02,924.691 1430.1,925.168 1432.18,925.646 1434.27,926.124 1436.35,926.602 1438.43,927.081 1440.52,927.561 1442.6,928.04 1444.68,928.52 1446.76,929.001 1448.85,929.481 1450.93,929.962 1453.01,930.444 1455.1,930.925 1457.18,931.407 1459.26,931.889 1461.34,932.371 1463.43,932.854 1465.51,933.336 1467.59,933.819 1469.68,934.302 1471.76,934.785 1473.84,935.268 1475.92,935.751 1478.01,936.234 1480.09,936.717 1482.17,937.2 1484.26,937.684 1486.34,938.167 1488.42,938.65 1490.5,939.133 1492.59,939.616 1494.67,940.099 1496.75,940.582 1498.84,941.064 1500.92,941.547 1503,942.029 1505.08,942.511 1507.17,942.993 1509.25,943.474 1511.33,943.956 1513.42,944.437 1515.5,944.917 1517.58,945.398 1519.67,945.878 1521.75,946.358 1523.83,946.837 1525.91,947.316 1528,947.794 1530.08,948.272 1532.16,948.75 1534.25,949.227 1536.33,949.704 1538.41,950.18 1540.49,950.655 1542.58,951.13 1544.66,951.605 1546.74,952.079 1548.83,952.552 1550.91,953.024 1552.99,953.496 1555.07,953.968 1557.16,954.438 1559.24,954.908 1561.32,955.377 1563.41,955.846 1565.49,956.313 1567.57,956.78 1569.65,957.246 1571.74,957.711 1573.82,958.175 1575.9,958.639 1577.99,959.101 1580.07,959.563 1582.15,960.024 1584.23,960.483 1586.32,960.942 1588.4,961.4 1590.48,961.857 1592.57,962.312 1594.65,962.767 1596.73,963.221 1598.81,963.673 1600.9,964.125 1602.98,964.575 1605.06,965.024 1607.15,965.472 1609.23,965.919 1611.31,966.365 1613.39,966.809 1615.48,967.252 1617.56,967.694 1619.64,968.135 1621.73,968.574 1623.81,969.012 1625.89,969.449 1627.98,969.884 1630.06,970.318 1632.14,970.75 1634.22,971.182 1636.31,971.611 1638.39,972.039 1640.47,972.466 1642.56,972.891 1644.64,973.315 1646.72,973.737 1648.8,974.158 1650.89,974.577 1652.97,974.994 1655.05,975.41 1657.14,975.824 1659.22,976.237 1661.3,976.648 1663.38,977.057 1665.47,977.464 1667.55,977.87 1669.63,978.274 1671.72,978.676 1673.8,979.077 1675.88,979.475 1677.96,979.872 1680.05,980.267 1682.13,980.66 1684.21,981.051 1686.3,981.44 1688.38,981.828 1690.46,982.213 1692.54,982.596 1694.63,982.978 1696.71,983.357 1698.79,983.735 1700.88,984.11 1702.96,984.483 1705.04,984.854 1707.12,985.223 1709.21,985.59 1711.29,985.955 1713.37,986.318 1715.46,986.678 1717.54,987.036 1719.62,987.392 1721.7,987.746 1723.79,988.098 1725.87,988.447 1727.95,988.794 1730.04,989.139 1732.12,989.481 1734.2,989.821 1736.28,990.158 1738.37,990.494 1740.45,990.826 1742.53,991.157 1744.62,991.484 1746.7,991.81 1748.78,992.133 1750.87,992.453 1752.95,992.771 1755.03,993.086 1757.11,993.399 1759.2,993.709 1761.28,994.016 1763.36,994.321 1765.45,994.623 1767.53,994.923 1769.61,995.22 1771.69,995.514 1773.78,995.805 1775.86,996.094 1777.94,996.38 1780.03,996.663 1782.11,996.943 1784.19,997.22 1786.27,997.495 1788.36,997.767 1790.44,998.035 1792.52,998.301 1794.61,998.564 1796.69,998.824 1798.77,999.081 1800.85,999.335 1802.94,999.587 1805.02,999.835 1807.1,1000.08 1809.19,1000.32 1811.27,1000.56 1813.35,1000.8 1815.43,1001.03 1817.52,1001.26 1819.6,1001.48 1821.68,1001.71 1823.77,1001.93 1825.85,1002.14 1827.93,1002.36 1830.01,1002.57 1832.1,1002.77 1834.18,1002.98 1836.26,1003.18 1838.35,1003.38 1840.43,1003.57 1842.51,1003.76 1844.59,1003.95 1846.68,1004.13 1848.76,1004.31 1850.84,1004.49 1852.93,1004.66 1855.01,1004.83 1857.09,1005 1859.18,1005.16 1861.26,1005.32 1863.34,1005.47 1865.42,1005.62 1867.51,1005.77 1869.59,1005.92 1871.67,1006.06 1873.76,1006.19 1875.84,1006.33 1877.92,1006.46 1880,1006.58 1882.09,1006.71 1884.17,1006.82 1886.25,1006.94 1888.34,1007.05 1890.42,1007.16 1892.5,1007.26 1894.58,1007.36 1896.67,1007.46 1898.75,1007.55 1900.83,1007.64 1902.92,1007.72 1905,1007.8 1907.08,1007.87 1909.16,1007.95 1911.25,1008.01 1913.33,1008.08 1915.41,1008.14 1917.5,1008.19 1919.58,1008.24 1921.66,1008.29 1923.74,1008.34 1925.83,1008.37 1927.91,1008.41 1929.99,1008.44 1932.08,1008.47 1934.16,1008.49 1936.24,1008.51 1938.32,1008.52 1940.41,1008.53 1942.49,1008.53 1944.57,1008.54 1946.66,1008.53 1948.74,1008.52 1950.82,1008.51 1952.9,1008.49 1954.99,1008.47 1957.07,1008.45 1959.15,1008.42 1961.24,1008.38 1963.32,1008.34 1965.4,1008.3 1967.48,1008.25 1969.57,1008.2 1971.65,1008.14 1973.73,1008.08 1975.82,1008.01 1977.9,1007.94 1979.98,1007.86 1982.07,1007.78 1984.15,1007.7 1986.23,1007.61 1988.31,1007.51 1990.4,1007.41 1992.48,1007.31 1994.56,1007.2 1996.65,1007.09 1998.73,1006.97 2000.81,1006.84 2002.89,1006.71 2004.98,1006.58 2007.06,1006.44 2009.14,1006.3 2011.23,1006.15 2013.31,1006 2015.39,1005.84 2017.47,1005.67 2019.56,1005.51 2021.64,1005.33 2023.72,1005.15 2025.81,1004.97 2027.89,1004.78 2029.97,1004.59 2032.05,1004.39 2034.14,1004.18 2036.22,1003.97 2038.3,1003.76 2040.39,1003.54 2042.47,1003.31 2044.55,1003.08 2046.63,1002.85 2048.72,1002.61 2050.8,1002.36 2052.88,1002.11 2054.97,1001.85 2057.05,1001.59 2059.13,1001.32 2061.21,1001.05 2063.3,1000.77 2065.38,1000.48 2067.46,1000.19 2069.55,999.898 2071.63,999.597 2073.71,999.29 2075.79,998.978 2077.88,998.661 2079.96,998.337 2082.04,998.008 2084.13,997.674 2086.21,997.334 2088.29,996.988 2090.38,996.636 2092.46,996.279 2094.54,995.916 2096.62,995.547 2098.71,995.172 2100.79,994.792 2102.87,994.405 2104.96,994.013 2107.04,993.615 2109.12,993.211 2111.2,992.801 2113.29,992.386 2115.37,991.964 2117.45,991.536 2119.54,991.103 2121.62,990.663 2123.7,990.217 2125.78,989.766 2127.87,989.308 2129.95,988.844 2132.03,988.374 2134.12,987.898 2136.2,987.416 2138.28,986.928 2140.36,986.433 2142.45,985.932 2144.53,985.425 2146.61,984.912 2148.7,984.393 2150.78,983.867 2152.86,983.335 2154.94,982.797 2157.03,982.252 2159.11,981.701 2161.19,981.143 2163.28,980.58 2165.36,980.009 2167.44,979.433 2169.52,978.85 2171.61,978.26 2173.69,977.664 2175.77,977.061 2177.86,976.452 2179.94,975.837 2182.02,975.214 2184.1,974.586 2186.19,973.95 2188.27,973.308 2190.35,972.659 2192.44,972.004 2194.52,971.342 2196.6,970.673 2198.69,969.998 2200.77,969.315 2202.85,968.626 2204.93,967.93 2207.02,967.228 2209.1,966.518 2211.18,965.802 2213.27,965.079 2215.35,964.349 2217.43,963.612 2219.51,962.868 2221.6,962.117 2223.68,961.359 2225.76,960.595 2227.85,959.823 2229.93,959.044 2232.01,958.258 2234.09,957.465 2236.18,956.665 2238.26,955.858 2240.34,955.044 2242.43,954.223 2244.51,953.394 2246.59,952.559 2248.67,951.716 2250.76,950.866 2252.84,950.008 2254.92,949.144 2257.01,948.272 2259.09,947.393 2261.17,946.506 2263.25,945.613 2265.34,944.711 2267.42,943.803 2269.5,942.887 2271.59,941.964 2273.67,941.033 2275.75,940.095 2277.83,939.149 2279.92,938.196 2282,937.235 2284.08,936.267 2286.17,935.291 2288.25,934.308 2290.33,933.317 \"/>\n",
       "<circle clip-path=\"url(#clip252)\" cx=\"296.232\" cy=\"1263.28\" r=\"14.4\" fill=\"#e26f46\" fill-rule=\"evenodd\" fill-opacity=\"1\" stroke=\"#000000\" stroke-opacity=\"1\" stroke-width=\"3.2\"/>\n",
       "<circle clip-path=\"url(#clip252)\" cx=\"903.132\" cy=\"872.67\" r=\"14.4\" fill=\"#e26f46\" fill-rule=\"evenodd\" fill-opacity=\"1\" stroke=\"#000000\" stroke-opacity=\"1\" stroke-width=\"3.2\"/>\n",
       "<circle clip-path=\"url(#clip252)\" cx=\"1423.33\" cy=\"923.62\" r=\"14.4\" fill=\"#e26f46\" fill-rule=\"evenodd\" fill-opacity=\"1\" stroke=\"#000000\" stroke-opacity=\"1\" stroke-width=\"3.2\"/>\n",
       "<circle clip-path=\"url(#clip252)\" cx=\"1943.53\" cy=\"1008.54\" r=\"14.4\" fill=\"#e26f46\" fill-rule=\"evenodd\" fill-opacity=\"1\" stroke=\"#000000\" stroke-opacity=\"1\" stroke-width=\"3.2\"/>\n",
       "<polyline clip-path=\"url(#clip252)\" style=\"stroke:#3da44d; stroke-linecap:round; stroke-linejoin:round; stroke-width:4; stroke-opacity:1; fill:none\" points=\"209.532,989.551 211.614,987.585 213.697,985.639 215.78,983.712 217.863,981.805 219.946,979.917 222.029,978.048 224.112,976.198 226.195,974.368 228.278,972.557 230.36,970.765 232.443,968.992 234.526,967.237 236.609,965.502 238.692,963.786 240.775,962.088 242.858,960.409 244.941,958.749 247.023,957.107 249.106,955.484 251.189,953.88 253.272,952.294 255.355,950.727 257.438,949.177 259.521,947.647 261.604,946.134 263.687,944.64 265.769,943.164 267.852,941.706 269.935,940.266 272.018,938.844 274.101,937.44 276.184,936.054 278.267,934.686 280.35,933.336 282.432,932.003 284.515,930.688 286.598,929.391 288.681,928.112 290.764,926.85 292.847,925.605 294.93,924.378 297.013,923.168 299.096,921.976 301.178,920.801 303.261,919.643 305.344,918.502 307.427,917.379 309.51,916.272 311.593,915.183 313.676,914.11 315.759,913.055 317.841,912.016 319.924,910.994 322.007,909.989 324.09,909.001 326.173,908.029 328.256,907.074 330.339,906.136 332.422,905.213 334.505,904.308 336.587,903.419 338.67,902.546 340.753,901.689 342.836,900.849 344.919,900.025 347.002,899.217 349.085,898.425 351.168,897.649 353.25,896.89 355.333,896.146 357.416,895.418 359.499,894.705 361.582,894.009 363.665,893.328 365.748,892.663 367.831,892.014 369.914,891.38 371.996,890.762 374.079,890.159 376.162,889.571 378.245,888.999 380.328,888.442 382.411,887.901 384.494,887.374 386.577,886.863 388.66,886.367 390.742,885.886 392.825,885.42 394.908,884.969 396.991,884.532 399.074,884.111 401.157,883.704 403.24,883.312 405.323,882.935 407.405,882.573 409.488,882.224 411.571,881.891 413.654,881.572 415.737,881.267 417.82,880.977 419.903,880.701 421.986,880.439 424.069,880.192 426.151,879.959 428.234,879.739 430.317,879.534 432.4,879.343 434.483,879.166 436.566,879.002 438.649,878.853 440.732,878.717 442.814,878.595 444.897,878.487 446.98,878.392 449.063,878.311 451.146,878.244 453.229,878.19 455.312,878.149 457.395,878.122 459.478,878.108 461.56,878.107 463.643,878.12 465.726,878.145 467.809,878.184 469.892,878.236 471.975,878.301 474.058,878.379 476.141,878.47 478.223,878.573 480.306,878.69 482.389,878.819 484.472,878.961 486.555,879.115 488.638,879.282 490.721,879.462 492.804,879.654 494.887,879.858 496.969,880.075 499.052,880.304 501.135,880.546 503.218,880.8 505.301,881.066 507.384,881.344 509.467,881.634 511.55,881.936 513.633,882.25 515.715,882.576 517.798,882.914 519.881,883.263 521.964,883.625 524.047,883.998 526.13,884.383 528.213,884.779 530.296,885.187 532.378,885.606 534.461,886.037 536.544,886.479 538.627,886.933 540.71,887.398 542.793,887.874 544.876,888.361 546.959,888.859 549.042,889.369 551.124,889.889 553.207,890.421 555.29,890.963 557.373,891.516 559.456,892.08 561.539,892.655 563.622,893.241 565.705,893.837 567.787,894.444 569.87,895.061 571.953,895.689 574.036,896.327 576.119,896.976 578.202,897.635 580.285,898.304 582.368,898.984 584.451,899.673 586.533,900.373 588.616,901.083 590.699,901.803 592.782,902.533 594.865,903.273 596.948,904.023 599.031,904.782 601.114,905.552 603.196,906.331 605.279,907.12 607.362,907.918 609.445,908.726 611.528,909.543 613.611,910.37 615.694,911.207 617.777,912.052 619.86,912.907 621.942,913.771 624.025,914.645 626.108,915.527 628.191,916.419 630.274,917.32 632.357,918.229 634.44,919.148 636.523,920.075 638.605,921.012 640.688,921.957 642.771,922.911 644.854,923.873 646.937,924.844 649.02,925.824 651.103,926.812 653.186,927.809 655.269,928.814 657.351,929.827 659.434,930.849 661.517,931.879 663.6,932.917 665.683,933.963 667.766,935.018 669.849,936.08 671.932,937.151 674.015,938.229 676.097,939.316 678.18,940.41 680.263,941.512 682.346,942.622 684.429,943.739 686.512,944.864 688.595,945.996 690.678,947.137 692.76,948.284 694.843,949.439 696.926,950.602 699.009,951.771 701.092,952.948 703.175,954.132 705.258,955.324 707.341,956.522 709.424,957.728 711.506,958.94 713.589,960.159 715.672,961.386 717.755,962.619 719.838,963.859 721.921,965.106 724.004,966.359 726.087,967.619 728.169,968.886 730.252,970.159 732.335,971.439 734.418,972.725 736.501,974.017 738.584,975.316 740.667,976.621 742.75,977.932 744.833,979.25 746.915,980.573 748.998,981.903 751.081,983.238 753.164,984.58 755.247,985.928 757.33,987.281 759.413,988.64 761.496,990.005 763.578,991.376 765.661,992.752 767.744,994.134 769.827,995.521 771.91,996.914 773.993,998.312 776.076,999.716 778.159,1001.12 780.242,1002.54 782.324,1003.96 784.407,1005.38 786.49,1006.81 788.573,1008.25 790.656,1009.69 792.739,1011.13 794.822,1012.58 796.905,1014.04 798.988,1015.5 801.07,1016.96 803.153,1018.43 805.236,1019.9 807.319,1021.38 809.402,1022.86 811.485,1024.35 813.568,1025.84 815.651,1027.34 817.733,1028.84 819.816,1030.34 821.899,1031.85 823.982,1033.37 826.065,1034.88 828.148,1036.41 830.231,1037.93 832.314,1039.46 834.397,1040.99 836.479,1042.53 838.562,1044.07 840.645,1045.62 842.728,1047.16 844.811,1048.72 846.894,1050.27 848.977,1051.83 851.06,1053.39 853.142,1054.96 855.225,1056.53 857.308,1058.1 859.391,1059.68 861.474,1061.26 863.557,1062.84 865.64,1064.43 867.723,1066.02 869.806,1067.61 871.888,1069.2 873.971,1070.8 876.054,1072.4 878.137,1074.01 880.22,1075.61 882.303,1077.22 884.386,1078.83 886.469,1080.45 888.551,1082.06 890.634,1083.68 892.717,1085.31 894.8,1086.93 896.883,1088.56 898.966,1090.19 901.049,1091.82 903.132,1093.45 905.215,1095.09 907.297,1096.72 909.38,1098.36 911.463,1100.01 913.546,1101.65 915.629,1103.29 917.712,1104.94 919.795,1106.59 921.878,1108.24 923.961,1109.89 926.043,1111.55 928.126,1113.2 930.209,1114.86 932.292,1116.52 934.375,1118.18 936.458,1119.84 938.541,1121.51 940.624,1123.17 942.706,1124.83 944.789,1126.5 946.872,1128.17 948.955,1129.84 951.038,1131.51 953.121,1133.18 955.204,1134.85 957.287,1136.52 959.37,1138.19 961.452,1139.87 963.535,1141.54 965.618,1143.22 967.701,1144.89 969.784,1146.57 971.867,1148.25 973.95,1149.92 976.033,1151.6 978.115,1153.28 980.198,1154.96 982.281,1156.64 984.364,1158.31 986.447,1159.99 988.53,1161.67 990.613,1163.35 992.696,1165.03 994.779,1166.71 996.861,1168.39 998.944,1170.06 1001.03,1171.74 1003.11,1173.42 1005.19,1175.1 1007.28,1176.77 1009.36,1178.45 1011.44,1180.13 1013.52,1181.8 1015.61,1183.48 1017.69,1185.15 1019.77,1186.82 1021.86,1188.5 1023.94,1190.17 1026.02,1191.84 1028.1,1193.51 1030.19,1195.18 1032.27,1196.85 1034.35,1198.51 1036.44,1200.18 1038.52,1201.84 1040.6,1203.51 1042.68,1205.17 1044.77,1206.83 1046.85,1208.49 1048.93,1210.15 1051.02,1211.8 1053.1,1213.46 1055.18,1215.11 1057.27,1216.76 1059.35,1218.41 1061.43,1220.06 1063.51,1221.7 1065.6,1223.35 1067.68,1224.99 1069.76,1226.63 1071.85,1228.27 1073.93,1229.91 1076.01,1231.54 1078.09,1233.17 1080.18,1234.8 1082.26,1236.43 1084.34,1238.05 1086.43,1239.68 1088.51,1241.3 1090.59,1242.91 1092.67,1244.53 1094.76,1246.14 1096.84,1247.75 1098.92,1249.36 1101.01,1250.96 1103.09,1252.56 1105.17,1254.16 1107.25,1255.76 1109.34,1257.35 1111.42,1258.94 1113.5,1260.53 1115.59,1262.11 1117.67,1263.69 1119.75,1265.27 1121.83,1266.84 1123.92,1268.41 1126,1269.98 1128.08,1271.55 1130.17,1273.11 1132.25,1274.66 1134.33,1276.22 1136.41,1277.76 1138.5,1279.31 1140.58,1280.85 1142.66,1282.39 1144.75,1283.93 1146.83,1285.46 1148.91,1286.98 1150.99,1288.5 1153.08,1290.02 1155.16,1291.54 1157.24,1293.05 1159.33,1294.55 1161.41,1296.06 1163.49,1297.55 1165.57,1299.05 1167.66,1300.53 1169.74,1302.02 1171.82,1303.5 1173.91,1304.97 1175.99,1306.44 1178.07,1307.91 1180.16,1309.37 1182.24,1310.83 1184.32,1312.28 1186.4,1313.72 1188.49,1315.16 1190.57,1316.6 1192.65,1318.03 1194.74,1319.46 1196.82,1320.88 1198.9,1322.29 1200.98,1323.71 1203.07,1325.11 1205.15,1326.51 1207.23,1327.9 1209.32,1329.29 1211.4,1330.68 1213.48,1332.06 1215.56,1333.43 1217.65,1334.79 1219.73,1336.15 1221.81,1337.51 1223.9,1338.86 1225.98,1340.2 1228.06,1341.54 1230.14,1342.87 1232.23,1344.2 1234.31,1345.52 1236.39,1346.83 1238.48,1348.14 1240.56,1349.44 1242.64,1350.73 1244.72,1352.02 1246.81,1353.3 1248.89,1354.57 1250.97,1355.84 1253.06,1357.1 1255.14,1358.36 1257.22,1359.61 1259.3,1360.85 1261.39,1362.09 1263.47,1363.31 1265.55,1364.54 1267.64,1365.75 1269.72,1366.96 1271.8,1368.16 1273.88,1369.35 1275.97,1370.54 1278.05,1371.72 1280.13,1372.89 1282.22,1374.05 1284.3,1375.21 1286.38,1376.36 1288.47,1377.5 1290.55,1378.64 1292.63,1379.76 1294.71,1380.88 1296.8,1381.99 1298.88,1383.1 1300.96,1384.2 1303.05,1385.28 1305.13,1386.36 1307.21,1387.44 1309.29,1388.5 1311.38,1389.56 1313.46,1390.61 1315.54,1391.65 1317.63,1392.68 1319.71,1393.7 1321.79,1394.72 1323.87,1395.73 1325.96,1396.73 1328.04,1397.72 1330.12,1398.7 1332.21,1399.67 1334.29,1400.64 1336.37,1401.59 1338.45,1402.54 1340.54,1403.48 1342.62,1404.41 1344.7,1405.33 1346.79,1406.24 1348.87,1407.15 1350.95,1408.04 1353.03,1408.93 1355.12,1409.8 1357.2,1410.67 1359.28,1411.53 1361.37,1412.38 1363.45,1413.21 1365.53,1414.04 1367.61,1414.86 1369.7,1415.67 1371.78,1416.48 1373.86,1417.27 1375.95,1418.05 1378.03,1418.82 1380.11,1419.58 1382.19,1420.34 1384.28,1421.08 1386.36,1421.81 1388.44,1422.53 1390.53,1423.25 1392.61,1423.95 1394.69,1424.64 1396.77,1425.33 1398.86,1426 1400.94,1426.66 1403.02,1427.31 1405.11,1427.95 1407.19,1428.58 1409.27,1429.2 1411.36,1429.81 1413.44,1430.41 1415.52,1431 1417.6,1431.58 1419.69,1432.15 1421.77,1432.7 1423.85,1433.25 1425.94,1433.78 1428.02,1434.31 1430.1,1434.82 1432.18,1435.32 1434.27,1435.81 1436.35,1436.29 1438.43,1436.76 1440.52,1437.21 1442.6,1437.66 1444.68,1438.09 1446.76,1438.52 1448.85,1438.93 1450.93,1439.33 1453.01,1439.72 1455.1,1440.09 1457.18,1440.46 1459.26,1440.81 1461.34,1441.15 1463.43,1441.48 1465.51,1441.8 1467.59,1442.1 1469.68,1442.4 1471.76,1442.68 1473.84,1442.95 1475.92,1443.21 1478.01,1443.45 1480.09,1443.68 1482.17,1443.9 1484.26,1444.11 1486.34,1444.31 1488.42,1444.49 1490.5,1444.66 1492.59,1444.82 1494.67,1444.96 1496.75,1445.1 1498.84,1445.22 1500.92,1445.32 1503,1445.42 1505.08,1445.5 1507.17,1445.57 1509.25,1445.62 1511.33,1445.67 1513.42,1445.7 1515.5,1445.71 1517.58,1445.72 1519.67,1445.71 1521.75,1445.68 1523.83,1445.65 1525.91,1445.6 1528,1445.53 1530.08,1445.45 1532.16,1445.36 1534.25,1445.26 1536.33,1445.14 1538.41,1445.01 1540.49,1444.86 1542.58,1444.7 1544.66,1444.53 1546.74,1444.34 1548.83,1444.14 1550.91,1443.93 1552.99,1443.7 1555.07,1443.45 1557.16,1443.2 1559.24,1442.93 1561.32,1442.64 1563.41,1442.34 1565.49,1442.02 1567.57,1441.69 1569.65,1441.35 1571.74,1440.99 1573.82,1440.62 1575.9,1440.23 1577.99,1439.83 1580.07,1439.41 1582.15,1438.98 1584.23,1438.53 1586.32,1438.07 1588.4,1437.59 1590.48,1437.1 1592.57,1436.59 1594.65,1436.07 1596.73,1435.54 1598.81,1434.98 1600.9,1434.42 1602.98,1433.83 1605.06,1433.23 1607.15,1432.62 1609.23,1431.99 1611.31,1431.35 1613.39,1430.68 1615.48,1430.01 1617.56,1429.32 1619.64,1428.61 1621.73,1427.89 1623.81,1427.15 1625.89,1426.39 1627.98,1425.62 1630.06,1424.83 1632.14,1424.03 1634.22,1423.21 1636.31,1422.37 1638.39,1421.52 1640.47,1420.65 1642.56,1419.77 1644.64,1418.87 1646.72,1417.95 1648.8,1417.02 1650.89,1416.07 1652.97,1415.1 1655.05,1414.12 1657.14,1413.12 1659.22,1412.1 1661.3,1411.06 1663.38,1410.01 1665.47,1408.95 1667.55,1407.86 1669.63,1406.76 1671.72,1405.64 1673.8,1404.51 1675.88,1403.35 1677.96,1402.18 1680.05,1401 1682.13,1399.79 1684.21,1398.57 1686.3,1397.33 1688.38,1396.07 1690.46,1394.8 1692.54,1393.5 1694.63,1392.2 1696.71,1390.87 1698.79,1389.52 1700.88,1388.16 1702.96,1386.78 1705.04,1385.38 1707.12,1383.96 1709.21,1382.53 1711.29,1381.08 1713.37,1379.6 1715.46,1378.12 1717.54,1376.61 1719.62,1375.08 1721.7,1373.54 1723.79,1371.98 1725.87,1370.4 1727.95,1368.8 1730.04,1367.18 1732.12,1365.54 1734.2,1363.89 1736.28,1362.21 1738.37,1360.52 1740.45,1358.81 1742.53,1357.08 1744.62,1355.33 1746.7,1353.56 1748.78,1351.78 1750.87,1349.97 1752.95,1348.15 1755.03,1346.3 1757.11,1344.44 1759.2,1342.56 1761.28,1340.66 1763.36,1338.73 1765.45,1336.79 1767.53,1334.83 1769.61,1332.85 1771.69,1330.85 1773.78,1328.84 1775.86,1326.8 1777.94,1324.74 1780.03,1322.66 1782.11,1320.56 1784.19,1318.45 1786.27,1316.31 1788.36,1314.15 1790.44,1311.97 1792.52,1309.78 1794.61,1307.56 1796.69,1305.32 1798.77,1303.06 1800.85,1300.78 1802.94,1298.48 1805.02,1296.16 1807.1,1293.82 1809.19,1291.46 1811.27,1289.08 1813.35,1286.68 1815.43,1284.26 1817.52,1281.82 1819.6,1279.35 1821.68,1276.87 1823.77,1274.36 1825.85,1271.84 1827.93,1269.29 1830.01,1266.72 1832.1,1264.13 1834.18,1261.52 1836.26,1258.89 1838.35,1256.24 1840.43,1253.56 1842.51,1250.87 1844.59,1248.15 1846.68,1245.41 1848.76,1242.65 1850.84,1239.87 1852.93,1237.07 1855.01,1234.24 1857.09,1231.39 1859.18,1228.53 1861.26,1225.64 1863.34,1222.72 1865.42,1219.79 1867.51,1216.83 1869.59,1213.86 1871.67,1210.86 1873.76,1207.83 1875.84,1204.79 1877.92,1201.72 1880,1198.64 1882.09,1195.52 1884.17,1192.39 1886.25,1189.23 1888.34,1186.06 1890.42,1182.86 1892.5,1179.63 1894.58,1176.39 1896.67,1173.12 1898.75,1169.82 1900.83,1166.51 1902.92,1163.17 1905,1159.81 1907.08,1156.43 1909.16,1153.02 1911.25,1149.59 1913.33,1146.14 1915.41,1142.67 1917.5,1139.17 1919.58,1135.64 1921.66,1132.1 1923.74,1128.53 1925.83,1124.94 1927.91,1121.32 1929.99,1117.68 1932.08,1114.02 1934.16,1110.33 1936.24,1106.62 1938.32,1102.89 1940.41,1099.13 1942.49,1095.35 1944.57,1091.54 1946.66,1087.72 1948.74,1083.86 1950.82,1079.98 1952.9,1076.08 1954.99,1072.16 1957.07,1068.21 1959.15,1064.23 1961.24,1060.23 1963.32,1056.21 1965.4,1052.16 1967.48,1048.09 1969.57,1044 1971.65,1039.87 1973.73,1035.73 1975.82,1031.56 1977.9,1027.36 1979.98,1023.14 1982.07,1018.9 1984.15,1014.63 1986.23,1010.33 1988.31,1006.02 1990.4,1001.67 1992.48,997.301 1994.56,992.906 1996.65,988.486 1998.73,984.041 2000.81,979.57 2002.89,975.074 2004.98,970.552 2007.06,966.006 2009.14,961.433 2011.23,956.835 2013.31,952.212 2015.39,947.562 2017.47,942.887 2019.56,938.186 2021.64,933.46 2023.72,928.707 2025.81,923.929 2027.89,919.124 2029.97,914.294 2032.05,909.437 2034.14,904.554 2036.22,899.645 2038.3,894.71 2040.39,889.749 2042.47,884.761 2044.55,879.747 2046.63,874.706 2048.72,869.639 2050.8,864.545 2052.88,859.424 2054.97,854.277 2057.05,849.103 2059.13,843.903 2061.21,838.675 2063.3,833.421 2065.38,828.14 2067.46,822.831 2069.55,817.496 2071.63,812.134 2073.71,806.744 2075.79,801.328 2077.88,795.884 2079.96,790.412 2082.04,784.914 2084.13,779.388 2086.21,773.834 2088.29,768.253 2090.38,762.645 2092.46,757.009 2094.54,751.345 2096.62,745.654 2098.71,739.934 2100.79,734.187 2102.87,728.412 2104.96,722.609 2107.04,716.779 2109.12,710.92 2111.2,705.033 2113.29,699.118 2115.37,693.174 2117.45,687.203 2119.54,681.203 2121.62,675.175 2123.7,669.118 2125.78,663.033 2127.87,656.92 2129.95,650.778 2132.03,644.607 2134.12,638.408 2136.2,632.18 2138.28,625.923 2140.36,619.638 2142.45,613.323 2144.53,606.98 2146.61,600.607 2148.7,594.206 2150.78,587.776 2152.86,581.316 2154.94,574.828 2157.03,568.31 2159.11,561.762 2161.19,555.186 2163.28,548.58 2165.36,541.944 2167.44,535.28 2169.52,528.585 2171.61,521.861 2173.69,515.108 2175.77,508.324 2177.86,501.511 2179.94,494.668 2182.02,487.795 2184.1,480.893 2186.19,473.96 2188.27,466.998 2190.35,460.005 2192.44,452.982 2194.52,445.929 2196.6,438.846 2198.69,431.732 2200.77,424.589 2202.85,417.414 2204.93,410.21 2207.02,402.975 2209.1,395.709 2211.18,388.413 2213.27,381.086 2215.35,373.728 2217.43,366.34 2219.51,358.921 2221.6,351.471 2223.68,343.99 2225.76,336.478 2227.85,328.936 2229.93,321.362 2232.01,313.757 2234.09,306.121 2236.18,298.453 2238.26,290.755 2240.34,283.025 2242.43,275.264 2244.51,267.471 2246.59,259.647 2248.67,251.791 2250.76,243.904 2252.84,235.985 2254.92,228.034 2257.01,220.052 2259.09,212.038 2261.17,203.992 2263.25,195.914 2265.34,187.804 2267.42,179.663 2269.5,171.489 2271.59,163.283 2273.67,155.045 2275.75,146.774 2277.83,138.472 2279.92,130.137 2282,121.77 2284.08,113.37 2286.17,104.938 2288.25,96.4735 2290.33,87.9763 \"/>\n",
       "<path clip-path=\"url(#clip252)\" d=\"M280.232 907.62 L280.232 939.62 L312.232 939.62 L312.232 907.62 L280.232 907.62 Z\" fill=\"#c271d2\" fill-rule=\"evenodd\" fill-opacity=\"1\" stroke=\"#000000\" stroke-opacity=\"1\" stroke-width=\"3.2\"/>\n",
       "<path clip-path=\"url(#clip252)\" d=\"M887.132 1077.45 L887.132 1109.45 L919.132 1109.45 L919.132 1077.45 L887.132 1077.45 Z\" fill=\"#c271d2\" fill-rule=\"evenodd\" fill-opacity=\"1\" stroke=\"#000000\" stroke-opacity=\"1\" stroke-width=\"3.2\"/>\n",
       "<path clip-path=\"url(#clip252)\" d=\"M1407.33 1417.11 L1407.33 1449.11 L1439.33 1449.11 L1439.33 1417.11 L1407.33 1417.11 Z\" fill=\"#c271d2\" fill-rule=\"evenodd\" fill-opacity=\"1\" stroke=\"#000000\" stroke-opacity=\"1\" stroke-width=\"3.2\"/>\n",
       "<path clip-path=\"url(#clip252)\" d=\"M1927.53 1077.45 L1927.53 1109.45 L1959.53 1109.45 L1959.53 1077.45 L1927.53 1077.45 Z\" fill=\"#c271d2\" fill-rule=\"evenodd\" fill-opacity=\"1\" stroke=\"#000000\" stroke-opacity=\"1\" stroke-width=\"3.2\"/>\n",
       "<path clip-path=\"url(#clip250)\" d=\"M220.629 354.418 L495.337 354.418 L495.337 95.2176 L220.629 95.2176  Z\" fill=\"#ffffff\" fill-rule=\"evenodd\" fill-opacity=\"1\"/>\n",
       "<polyline clip-path=\"url(#clip250)\" style=\"stroke:#000000; stroke-linecap:round; stroke-linejoin:round; stroke-width:4; stroke-opacity:1; fill:none\" points=\"220.629,354.418 495.337,354.418 495.337,95.2176 220.629,95.2176 220.629,354.418 \"/>\n",
       "<polyline clip-path=\"url(#clip250)\" style=\"stroke:#009af9; stroke-linecap:round; stroke-linejoin:round; stroke-width:4; stroke-opacity:1; fill:none\" points=\"245.136,147.058 392.18,147.058 \"/>\n",
       "<path clip-path=\"url(#clip250)\" d=\"M430.529 166.745 Q428.724 171.375 427.011 172.787 Q425.298 174.199 422.427 174.199 L419.025 174.199 L419.025 170.634 L421.525 170.634 Q423.284 170.634 424.256 169.8 Q425.228 168.967 426.409 165.865 L427.173 163.921 L416.687 138.412 L421.201 138.412 L429.302 158.689 L437.404 138.412 L441.918 138.412 L430.529 166.745 Z\" fill=\"#000000\" fill-rule=\"nonzero\" fill-opacity=\"1\" /><path clip-path=\"url(#clip250)\" d=\"M449.21 160.402 L456.849 160.402 L456.849 134.037 L448.538 135.703 L448.538 131.444 L456.802 129.778 L461.478 129.778 L461.478 160.402 L469.117 160.402 L469.117 164.338 L449.21 164.338 L449.21 160.402 Z\" fill=\"#000000\" fill-rule=\"nonzero\" fill-opacity=\"1\" /><circle clip-path=\"url(#clip250)\" cx=\"318.658\" cy=\"198.898\" r=\"20.48\" fill=\"#e26f46\" fill-rule=\"evenodd\" fill-opacity=\"1\" stroke=\"#000000\" stroke-opacity=\"1\" stroke-width=\"4.55111\"/>\n",
       "<path clip-path=\"url(#clip250)\" d=\"M430.529 218.585 Q428.724 223.215 427.011 224.627 Q425.298 226.039 422.427 226.039 L419.025 226.039 L419.025 222.474 L421.525 222.474 Q423.284 222.474 424.256 221.64 Q425.228 220.807 426.409 217.705 L427.173 215.761 L416.687 190.252 L421.201 190.252 L429.302 210.529 L437.404 190.252 L441.918 190.252 L430.529 218.585 Z\" fill=\"#000000\" fill-rule=\"nonzero\" fill-opacity=\"1\" /><path clip-path=\"url(#clip250)\" d=\"M452.427 212.242 L468.747 212.242 L468.747 216.178 L446.802 216.178 L446.802 212.242 Q449.464 209.488 454.048 204.858 Q458.654 200.205 459.835 198.863 Q462.08 196.34 462.96 194.604 Q463.862 192.844 463.862 191.155 Q463.862 188.4 461.918 186.664 Q459.997 184.928 456.895 184.928 Q454.696 184.928 452.242 185.692 Q449.812 186.455 447.034 188.006 L447.034 183.284 Q449.858 182.15 452.312 181.571 Q454.765 180.993 456.802 180.993 Q462.173 180.993 465.367 183.678 Q468.562 186.363 468.562 190.854 Q468.562 192.983 467.751 194.905 Q466.964 196.803 464.858 199.395 Q464.279 200.067 461.177 203.284 Q458.075 206.479 452.427 212.242 Z\" fill=\"#000000\" fill-rule=\"nonzero\" fill-opacity=\"1\" /><polyline clip-path=\"url(#clip250)\" style=\"stroke:#3da44d; stroke-linecap:round; stroke-linejoin:round; stroke-width:4; stroke-opacity:1; fill:none\" points=\"245.136,250.738 392.18,250.738 \"/>\n",
       "<path clip-path=\"url(#clip250)\" d=\"M430.529 270.425 Q428.724 275.055 427.011 276.467 Q425.298 277.879 422.427 277.879 L419.025 277.879 L419.025 274.314 L421.525 274.314 Q423.284 274.314 424.256 273.48 Q425.228 272.647 426.409 269.545 L427.173 267.601 L416.687 242.092 L421.201 242.092 L429.302 262.369 L437.404 242.092 L441.918 242.092 L430.529 270.425 Z\" fill=\"#000000\" fill-rule=\"nonzero\" fill-opacity=\"1\" /><path clip-path=\"url(#clip250)\" d=\"M462.566 249.383 Q465.923 250.101 467.798 252.369 Q469.696 254.638 469.696 257.971 Q469.696 263.087 466.177 265.888 Q462.659 268.689 456.177 268.689 Q454.001 268.689 451.687 268.249 Q449.395 267.832 446.941 266.976 L446.941 262.462 Q448.886 263.596 451.2 264.175 Q453.515 264.754 456.038 264.754 Q460.437 264.754 462.728 263.018 Q465.043 261.281 465.043 257.971 Q465.043 254.916 462.89 253.203 Q460.761 251.467 456.941 251.467 L452.913 251.467 L452.913 247.624 L457.126 247.624 Q460.575 247.624 462.404 246.258 Q464.233 244.87 464.233 242.277 Q464.233 239.615 462.335 238.203 Q460.46 236.768 456.941 236.768 Q455.02 236.768 452.821 237.184 Q450.622 237.601 447.983 238.481 L447.983 234.314 Q450.645 233.573 452.96 233.203 Q455.298 232.833 457.358 232.833 Q462.682 232.833 465.784 235.263 Q468.886 237.67 468.886 241.791 Q468.886 244.661 467.242 246.652 Q465.599 248.62 462.566 249.383 Z\" fill=\"#000000\" fill-rule=\"nonzero\" fill-opacity=\"1\" /><path clip-path=\"url(#clip250)\" d=\"M295.902 279.822 L295.902 325.333 L341.414 325.333 L341.414 279.822 L295.902 279.822 Z\" fill=\"#c271d2\" fill-rule=\"evenodd\" fill-opacity=\"1\" stroke=\"#000000\" stroke-opacity=\"1\" stroke-width=\"4.55111\"/>\n",
       "<path clip-path=\"url(#clip250)\" d=\"M430.529 322.265 Q428.724 326.895 427.011 328.307 Q425.298 329.719 422.427 329.719 L419.025 329.719 L419.025 326.154 L421.525 326.154 Q423.284 326.154 424.256 325.32 Q425.228 324.487 426.409 321.385 L427.173 319.441 L416.687 293.932 L421.201 293.932 L429.302 314.209 L437.404 293.932 L441.918 293.932 L430.529 322.265 Z\" fill=\"#000000\" fill-rule=\"nonzero\" fill-opacity=\"1\" /><path clip-path=\"url(#clip250)\" d=\"M461.247 289.372 L449.441 307.821 L461.247 307.821 L461.247 289.372 M460.02 285.298 L465.899 285.298 L465.899 307.821 L470.83 307.821 L470.83 311.709 L465.899 311.709 L465.899 319.858 L461.247 319.858 L461.247 311.709 L445.645 311.709 L445.645 307.196 L460.02 285.298 Z\" fill=\"#000000\" fill-rule=\"nonzero\" fill-opacity=\"1\" /></svg>\n"
      ]
     },
     "execution_count": 25,
     "metadata": {},
     "output_type": "execute_result"
    }
   ],
   "source": [
    "using Plots\n",
    "ts = linspace(-1.2, 1.2, 1000);\n",
    "p1 = c1[1] .+ c1[2]*ts + c1[3]*ts.^2 + c1[4]*ts.^3;\n",
    "plot(ts, p1)\n",
    "scatter!(t, b1)\n",
    "p2 = c2[1] .+ c2[2]*ts + c2[3]*ts.^2 + c2[4]*ts.^3;\n",
    "plot!(ts, p2)\n",
    "scatter!(t, b2, marker = :square)"
   ]
  },
  {
   "cell_type": "markdown",
   "metadata": {},
   "source": [
    "**Figure 11.1** Cubic interpolants through two sets of points, shown as circles\n",
    "and squares."
   ]
  },
  {
   "cell_type": "markdown",
   "metadata": {},
   "source": [
    "### 11.5 Pseudo-inverse\n",
    "In Julia, the pseudo-inverse of a matrix `A` is obtained with `pinv(A)`. We compute the pseudo-inverse for the example on page [216](https://web.stanford.edu/~boyd/vmls/vmls.pdf#section*.270) of VMLS using the `pinv` function, and via the formula $A† = R^{−1}Q^{T}$ , where $A = QR$ is the $QR$ factorization of $A$. "
   ]
  },
  {
   "cell_type": "code",
   "execution_count": 26,
   "metadata": {},
   "outputs": [
    {
     "data": {
      "text/plain": [
       "2×3 Matrix{Float64}:\n",
       " -1.22222   -1.11111    1.77778\n",
       "  0.777778   0.888889  -1.22222"
      ]
     },
     "execution_count": 26,
     "metadata": {},
     "output_type": "execute_result"
    }
   ],
   "source": [
    "A = [-3 -4; 4 6; 1 1]\n",
    "pinv(A)"
   ]
  },
  {
   "cell_type": "code",
   "execution_count": 27,
   "metadata": {},
   "outputs": [
    {
     "data": {
      "text/plain": [
       "3×2 Matrix{Float64}:\n",
       " -0.588348  -0.457604\n",
       "  0.784465  -0.522976\n",
       "  0.196116   0.719092"
      ]
     },
     "execution_count": 27,
     "metadata": {},
     "output_type": "execute_result"
    }
   ],
   "source": [
    "Q, R = qr(A);\n",
    "Q = Matrix(Q)"
   ]
  },
  {
   "cell_type": "code",
   "execution_count": 28,
   "metadata": {},
   "outputs": [
    {
     "data": {
      "text/plain": [
       "2×2 Matrix{Float64}:\n",
       " 5.09902   7.2563\n",
       " 0.0      -0.588348"
      ]
     },
     "execution_count": 28,
     "metadata": {},
     "output_type": "execute_result"
    }
   ],
   "source": [
    "R"
   ]
  },
  {
   "cell_type": "code",
   "execution_count": 29,
   "metadata": {},
   "outputs": [
    {
     "data": {
      "text/plain": [
       "2×3 Matrix{Float64}:\n",
       " -1.22222   -1.11111    1.77778\n",
       "  0.777778   0.888889  -1.22222"
      ]
     },
     "execution_count": 29,
     "metadata": {},
     "output_type": "execute_result"
    }
   ],
   "source": [
    "R \\ Q' # pseudo-inverse from QR factors"
   ]
  },
  {
   "cell_type": "code",
   "execution_count": null,
   "metadata": {},
   "outputs": [],
   "source": []
  }
 ],
 "metadata": {
  "kernelspec": {
   "display_name": "Julia 1.9.3",
   "language": "julia",
   "name": "julia-1.9"
  },
  "language_info": {
   "file_extension": ".jl",
   "mimetype": "application/julia",
   "name": "julia",
   "version": "1.10.3"
  }
 },
 "nbformat": 4,
 "nbformat_minor": 4
}
