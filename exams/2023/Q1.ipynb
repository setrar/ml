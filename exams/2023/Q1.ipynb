{
 "cells": [
  {
   "cell_type": "markdown",
   "id": "80a2ceee-93d6-4156-bf66-199064d2a89f",
   "metadata": {},
   "source": [
    "## 1. Good practices"
   ]
  },
  {
   "cell_type": "markdown",
   "id": "cb7c18b8-926e-4ea3-8f22-c328fffd2e2e",
   "metadata": {},
   "source": [
    "`(a)` [$1/2$ point] You have a linearly separable dataset with $ N \\gg D $. You want to use a linear kernel."
   ]
  },
  {
   "cell_type": "markdown",
   "id": "b84f464e-cee9-45b9-9923-b4c5e6485d22",
   "metadata": {},
   "source": [
    "&#x2705; Good practice. A linear kernel is suitable for a linearly separable dataset, and with $ N \\gg D $, the computational efficiency is favorable."
   ]
  },
  {
   "cell_type": "markdown",
   "id": "c99ed5de-b6d3-4b6f-94c7-4dbf66ba2ea9",
   "metadata": {},
   "source": [
    "`(b)` [$1/2$ point] You have a non-linearly separable dataset with $ N \\gg D $. You want to use a kNN."
   ]
  },
  {
   "cell_type": "markdown",
   "id": "49e8006f-a5b3-4b04-b301-fa6834c51697",
   "metadata": {},
   "source": [
    "&#x274C; Bad practice. For a non-linearly separable dataset, kNN may not perform well as it relies on local neighbors, and $ N \\gg D $ can make it computationally expensive."
   ]
  },
  {
   "cell_type": "markdown",
   "id": "3e920abe-1b70-41cf-a892-b7269da80df4",
   "metadata": {},
   "source": [
    "`(c)` [$1/2$ point] You do 5-fold cross validation to choose the value of $\\lambda$ for doing ridge regression to predict the winning time of the 100m during the Paris 2024 Olympic Games, using the 100m olympics dataset from MALIS course."
   ]
  },
  {
   "cell_type": "markdown",
   "id": "815e02e3-a34e-4f49-a9ca-7c42df486a99",
   "metadata": {},
   "source": [
    "&#x2705; Good practice. 5-fold cross-validation is a standard method to select hyperparameters like $ \\lambda $ in ridge regression, ensuring the model generalizes well on unseen data, balances bias and variance tradeoff."
   ]
  },
  {
   "cell_type": "markdown",
   "id": "640ab872-06e1-4247-9af3-62075293d007",
   "metadata": {},
   "source": [
    "`(d)` [$1/2$ point] You want to perform a simple linear regression to find out if the sport a student practices can predict whether they work pass or fail the MALIS course."
   ]
  },
  {
   "cell_type": "markdown",
   "id": "38f6b2c0-16fe-4b27-8369-1ae1ad42156e",
   "metadata": {},
   "source": [
    "&#x274C; Need more information. While simple linear regression can provide insights, the appropriateness depends on the relationship between the sport and the outcome, which is not provided."
   ]
  },
  {
   "cell_type": "markdown",
   "id": "846802d8-62c1-4866-814d-020502304a0b",
   "metadata": {},
   "source": [
    "`(e)` [$1/2$ point] You have a small dataset. You split it in training and test. You use a bagging technique and the out-of-bag error to perform model selection. You keep the test set to check the generelization error."
   ]
  },
  {
   "cell_type": "markdown",
   "id": "da8ca9d3-9c36-4b4d-97b1-ecb674b1d40e",
   "metadata": {},
   "source": [
    "&#x2705; Good practice. Using a bagging technique with out-of-bag error for model selection while keeping a separate test set for final evaluation is a robust method to estimate generalization error."
   ]
  },
  {
   "cell_type": "code",
   "execution_count": null,
   "id": "bb23aad1-9562-41b5-b381-504cf91708c4",
   "metadata": {},
   "outputs": [],
   "source": []
  }
 ],
 "metadata": {
  "kernelspec": {
   "display_name": "Julia 1.9.3",
   "language": "julia",
   "name": "julia-1.9"
  },
  "language_info": {
   "file_extension": ".jl",
   "mimetype": "application/julia",
   "name": "julia",
   "version": "1.10.3"
  }
 },
 "nbformat": 4,
 "nbformat_minor": 5
}
