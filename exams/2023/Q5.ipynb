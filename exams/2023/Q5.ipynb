{
 "cells": [
  {
   "cell_type": "markdown",
   "id": "7a724912-ff65-4ab1-b1c1-3d31520ccd9c",
   "metadata": {},
   "source": [
    "## 5. Multi-class Classification"
   ]
  },
  {
   "cell_type": "markdown",
   "id": "8720ecff-c3f8-4ea5-a7fc-1aa5cc7e03ea",
   "metadata": {},
   "source": [
    "`(a)`"
   ]
  },
  {
   "cell_type": "markdown",
   "id": "272eb107-8dec-4c29-9f65-4e9964156669",
   "metadata": {},
   "source": [
    "One-vs-All (OvA) Strategy: \n",
    "   - Train one binary classifier for each class (A, B, C, D).\n",
    "   - Each classifier $ C_i $ is trained to distinguish class $ i $ from the rest.\n",
    "   - During prediction, run all classifiers on a new photo. The classifier with the highest confidence score determines the predicted class.\n",
    "   - Training involves labeling instances of class $ i $ as positive and all other instances as negative for each classifier.\n"
   ]
  },
  {
   "cell_type": "markdown",
   "id": "fba165f6-0f51-4d2b-b908-4b7aa4b352e2",
   "metadata": {},
   "source": [
    "`(b)`"
   ]
  },
  {
   "cell_type": "markdown",
   "id": "0a997c12-d9a4-4327-a086-1652e2791181",
   "metadata": {},
   "source": [
    "Labels for training:\n",
    "   - A: 1 for class A, 0 for classes B, C, D.\n",
    "   - B: 1 for class B, 0 for classes A, C, D.\n",
    "   - C: 1 for class C, 0 for classes A, B, D.\n",
    "   - D: 1 for class D, 0 for classes A, B, C."
   ]
  },
  {
   "cell_type": "markdown",
   "id": "9dfceea7-72e5-4771-9c10-88de6a4834d2",
   "metadata": {},
   "source": [
    "`(c)`"
   ]
  },
  {
   "cell_type": "markdown",
   "id": "4819424e-0339-4a09-b39a-e0ea355e18d9",
   "metadata": {},
   "source": [
    "Split the dataset:\n",
    "   - Training set: 70% of the dataset (1400 photos).\n",
    "   - Validation set: 15% of the dataset (300 photos).\n",
    "   - Test set: 15% of the dataset (300 photos).\n",
    "   - Ensure each split maintains the class distribution (stratified split).\n"
   ]
  },
  {
   "cell_type": "code",
   "execution_count": null,
   "id": "053a43fc-627d-4f87-a515-7506df6e4c32",
   "metadata": {},
   "outputs": [],
   "source": []
  },
  {
   "cell_type": "markdown",
   "id": "3246e976-64e0-45cb-a319-5f252bf6e7f8",
   "metadata": {},
   "source": [
    "\n",
    "(d) Issues with overall accuracy:\n",
    "   - It may be problematic because of class imbalance (e.g., only 50 samples for D).\n",
    "   - An alternative measure: Use the F1-score, which considers both precision and recall, and is more informative for imbalanced datasets. Compute the F1-score for each class and consider the macro-average F1-score."
   ]
  },
  {
   "cell_type": "code",
   "execution_count": null,
   "id": "6fa6ce52-c62c-43a1-b74a-3a090b6b88c6",
   "metadata": {},
   "outputs": [],
   "source": []
  }
 ],
 "metadata": {
  "kernelspec": {
   "display_name": "Julia 1.9.3",
   "language": "julia",
   "name": "julia-1.9"
  },
  "language_info": {
   "file_extension": ".jl",
   "mimetype": "application/julia",
   "name": "julia",
   "version": "1.10.3"
  }
 },
 "nbformat": 4,
 "nbformat_minor": 5
}
