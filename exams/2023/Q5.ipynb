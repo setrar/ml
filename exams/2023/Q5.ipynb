{
 "cells": [
  {
   "cell_type": "markdown",
   "id": "7a724912-ff65-4ab1-b1c1-3d31520ccd9c",
   "metadata": {},
   "source": [
    "## 5. Multi-class Classification"
   ]
  },
  {
   "cell_type": "markdown",
   "id": "8ab82bc4-73ea-4ea9-a090-56380f895e8d",
   "metadata": {},
   "source": [
    "After finishing the MALIS course, you are hired by a company that is building a machine learning model to automatically identify if passengers respect the carry-on luggage rules from low cost arilines. The rules are the following:\n",
    "- Passenger has one valid carry-on. Passenger can board (A)\n",
    "- Passenger has two carry-on items. Boarding denied (B)\n",
    "- Passenger has a big carry-on that does not fit under the seat. Passenger to pay a fee (C)\n",
    "- Passenger has a heavy carry-on. Bag needs to be checked-in and pay a fee (D)\n",
    "\n",
    "Your first task in the company is to develop a classifier that given a photo of a passenger and their carry-on identifies will classify the photo into one of the categories described above. For that purpose, they provide you with a dataset of 2000 previously acquired photos, with 1000 from A, 500 from B, 450 from C and 50 from D.\n",
    "\n",
    "You realize that you only know how to train binary classifiers. As you do not want to be fired on the first day, you agree to develop this multi-class classisifer."
   ]
  },
  {
   "cell_type": "markdown",
   "id": "8720ecff-c3f8-4ea5-a7fc-1aa5cc7e03ea",
   "metadata": {},
   "source": [
    "`(a)` [2 points] Propose a strategy to solve multi-class classification problem using only binary classifiers. Be specific about how your strategy performs training and how it predicts the label of a new photo."
   ]
  },
  {
   "cell_type": "markdown",
   "id": "272eb107-8dec-4c29-9f65-4e9964156669",
   "metadata": {},
   "source": [
    "One-vs-All (OvA) Strategy: \n",
    "   - Train one binary classifier for each class (A, B, C, D).\n",
    "   - Each classifier $ C_i $ is trained to distinguish class $ i $ from the rest.\n",
    "   - During prediction, run all classifiers on a new photo. The classifier with the highest confidence score determines the predicted class.\n",
    "   - Training involves labeling instances of class $ i $ as positive and all other instances as negative for each classifier.\n"
   ]
  },
  {
   "cell_type": "markdown",
   "id": "ef6bb76b-350a-4f22-938d-6fd0605bfd41",
   "metadata": {},
   "source": [
    "**Strategy: One-vs-All (OvA) for Multi-Class Classification using Binary Classifiers**\n",
    "\n",
    "**Training:**\n",
    "1. Train four binary classifiers, one for each class (A, B, C, D):\n",
    "   - $ C_A $: Class A vs. Not A (Positive: A, Negative: B, C, D)\n",
    "   - $ C_B $: Class B vs. Not B (Positive: B, Negative: A, C, D)\n",
    "   - $ C_C $: Class C vs. Not C (Positive: C, Negative: A, B, D)\n",
    "   - $ C_D $: Class D vs. Not D (Positive: D, Negative: A, B, C)\n",
    "\n",
    "**Prediction:**\n",
    "1. Given a new photo $ x $, obtain scores from all classifiers:\n",
    "   - $ s_A(x) $: Score from $ C_A $\n",
    "   - $ s_B(x) $: Score from $ C_B $\n",
    "   - $ s_C(x) $: Score from $ C_C $\n",
    "   - $ s_D(x) $: Score from $ C_D $\n",
    "2. The predicted class is the one with the highest score:\n",
    "   $\n",
    "   \\text{Predicted class} = \\arg\\max \\{ s_A(x), s_B(x), s_C(x), s_D(x) \\}\n",
    "   $\n",
    "\n",
    "This method efficiently transforms the multi-class classification problem into multiple binary classifications and predicts the label based on the highest confidence score."
   ]
  },
  {
   "cell_type": "markdown",
   "id": "fba165f6-0f51-4d2b-b908-4b7aa4b352e2",
   "metadata": {},
   "source": [
    "`(b)` [1 point] Which labels ($y$) do you assign to each of the categories (A,B,C,D) for training?"
   ]
  },
  {
   "cell_type": "markdown",
   "id": "bf9831ea-4ce2-45f9-8c0f-d6d48f444afa",
   "metadata": {},
   "source": [
    "**Labels for Training:**\n",
    "\n",
    "1. **Classifier $ C_A $ (A vs. Not A)**\n",
    "   - Positive ($ y = 1 $): A\n",
    "   - Negative ($ y = 0 $): B, C, D\n",
    "\n",
    "2. **Classifier $ C_B $ (B vs. Not B)**\n",
    "   - Positive ($ y = 1 $): B\n",
    "   - Negative ($ y = 0 $): A, C, D\n",
    "\n",
    "3. **Classifier $ C_C $ (C vs. Not C)**\n",
    "   - Positive ($ y = 1 $): C\n",
    "   - Negative ($ y = 0 $): A, B, D\n",
    "\n",
    "4. **Classifier $ C_D $ (D vs. Not D)**\n",
    "   - Positive ($ y = 1 $): D\n",
    "   - Negative ($ y = 0 $): A, B, C"
   ]
  },
  {
   "cell_type": "markdown",
   "id": "9dfceea7-72e5-4771-9c10-88de6a4834d2",
   "metadata": {},
   "source": [
    "`(c)` How do you split the dataset into training, validation and testing?"
   ]
  },
  {
   "cell_type": "markdown",
   "id": "4819424e-0339-4a09-b39a-e0ea355e18d9",
   "metadata": {},
   "source": [
    "Split the dataset:\n",
    "   - Training set: 70% of the dataset (1400 photos).\n",
    "   - Validation set: 15% of the dataset (300 photos).\n",
    "   - Test set: 15% of the dataset (300 photos).\n",
    "   - Nnsure that each set contains a representative proportion of each class\n",
    "   - Ensure each split maintains the class distribution (stratified split).\n"
   ]
  },
  {
   "cell_type": "markdown",
   "id": "0eaa641d-dc36-4950-9f68-8454c63f65fb",
   "metadata": {},
   "source": [
    "**Dataset Split:**\n",
    "\n",
    "- **Training Set (70%):**\n",
    "  - Class A: 700 photos\n",
    "  - Class B: 350 photos\n",
    "  - Class C: 315 photos\n",
    "  - Class D: 35 photos\n",
    "  - **Total: 1400 photos**\n",
    "\n",
    "- **Validation Set (15%):**\n",
    "  - Class A: 150 photos\n",
    "  - Class B: 75 photos\n",
    "  - Class C: 68 photos\n",
    "  - Class D: 8 photos\n",
    "  - **Total: 301 photos**\n",
    "\n",
    "- **Testing Set (15%):**\n",
    "  - Class A: 150 photos\n",
    "  - Class B: 75 photos\n",
    "  - Class C: 68 photos\n",
    "  - Class D: 8 photos\n",
    "  - **Total: 301 photos**"
   ]
  },
  {
   "cell_type": "markdown",
   "id": "55806144-e346-4d3e-bfd9-524cf3bdc844",
   "metadata": {},
   "source": [
    "`(d)` [1 point] You use the overall classification accuracy to assess the generalization error of your classifier (correctly detected photos / all photos). Why this measure may be problematic? Can you propose another measure?"
   ]
  },
  {
   "cell_type": "markdown",
   "id": "3246e976-64e0-45cb-a319-5f252bf6e7f8",
   "metadata": {},
   "source": [
    "Issues with overall accuracy:\n",
    "   - It may be problematic because of class imbalance (e.g., only 50 samples for D).\n",
    "   - An alternative measure: Use the F1-score, which considers both precision and recall, and is more informative for imbalanced datasets. Compute the F1-score for each class and consider the macro-average F1-score."
   ]
  },
  {
   "cell_type": "markdown",
   "id": "2d1c4128-3046-4926-8177-1d187a537d03",
   "metadata": {},
   "source": [
    "Using overall classification accuracy to assess the generalization error of the classifier can be problematic in cases where there is a class imbalance in the dataset. In your dataset, classes have the following distribution:\n",
    "- Class A: 1000 photos\n",
    "- Class B: 500 photos\n",
    "- Class C: 450 photos\n",
    "- Class D: 50 photos\n",
    "\n",
    "This imbalance means that the classifier could achieve high overall accuracy by primarily focusing on correctly predicting the majority class (Class A), while performing poorly on the minority classes (especially Class D). As a result, the classifier's performance on the minority classes might be misrepresented.\n",
    "\n",
    "**Proposed Measure:**\n",
    "\n",
    "**F1 Score (Macro-Averaged):**\n",
    "The F1 score considers both precision and recall, and macro-averaging ensures that performance across all classes is taken into account equally, regardless of the class distribution.\n",
    "\n",
    "1. **Precision for each class**: $ \\text{Precision} = \\frac{\\text{True Positives}}{\\text{True Positives} + \\text{False Positives}} $\n",
    "2. **Recall for each class**: $ \\text{Recall} = \\frac{\\text{True Positives}}{\\text{True Positives} + \\text{False Negatives}} $\n",
    "3. **F1 Score for each class**: $ \\text{F1 Score} = 2 \\cdot \\frac{\\text{Precision} \\cdot \\text{Recall}}{\\text{Precision} + \\text{Recall}} $\n",
    "4. **Macro-Averaged F1 Score**: Average the F1 scores across all classes.\n",
    "\n",
    "This measure provides a better understanding of the classifier's performance across all classes, especially in imbalanced datasets.\n",
    "\n",
    "**Other Measures:**\n",
    "- **Confusion Matrix**: Provides a detailed breakdown of the classifier’s performance, showing the number of true positives, false positives, false negatives, and true negatives for each class.\n",
    "- **Precision-Recall Curve**: Useful for evaluating classifiers on imbalanced datasets.\n",
    "- **Balanced Accuracy**: Average of recall obtained on each class, which accounts for imbalances.\n",
    "\n",
    "These measures help provide a more nuanced evaluation of the classifier's performance across different classes."
   ]
  },
  {
   "cell_type": "code",
   "execution_count": null,
   "id": "8e392cda-ab1b-4a70-b80b-9507c6dae582",
   "metadata": {},
   "outputs": [],
   "source": []
  }
 ],
 "metadata": {
  "kernelspec": {
   "display_name": "Julia 1.9.3",
   "language": "julia",
   "name": "julia-1.9"
  },
  "language_info": {
   "file_extension": ".jl",
   "mimetype": "application/julia",
   "name": "julia",
   "version": "1.10.3"
  }
 },
 "nbformat": 4,
 "nbformat_minor": 5
}
