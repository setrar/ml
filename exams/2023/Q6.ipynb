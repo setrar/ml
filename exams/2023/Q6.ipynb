{
 "cells": [
  {
   "cell_type": "markdown",
   "id": "373e3747-d6c0-4ab6-94cd-56d7c3c9a00b",
   "metadata": {},
   "source": [
    "## 6. Joker card: Linear Regression with Laplacian Noise"
   ]
  },
  {
   "cell_type": "markdown",
   "id": "8fe130ab-f23b-4ef7-a4dc-0559db391481",
   "metadata": {},
   "source": [
    "\n",
    "\n",
    "(a) The likelihood function $\\mathcal{L}$ for the parameter $\\mathbf{w}$ is:\n",
    "$ \\mathcal{L}(\\mathbf{w}) = \\prod_{i=1}^{N} \\frac{1}{2\\beta} \\exp\\left( -\\frac{|y_i - \\mathbf{w}^T \\mathbf{x}_i|}{\\beta} \\right). $\n",
    "\n",
    "(b) The log likelihood function $\\log \\mathcal{L}$ for the parameter $\\mathbf{w}$ in the simplest form is:\n",
    "$ \\log \\mathcal{L}(\\mathbf{w}) = -N \\log(2\\beta) - \\frac{1}{\\beta} \\sum_{i=1}^{N} |y_i - \\mathbf{w}^T \\mathbf{x}_i|. $\n",
    "\n",
    "(c) The simplest loss function that can be used is the Least Absolute Deviations (LAD) loss:\n",
    "$ L(\\mathbf{w}) = \\sum_{i=1}^{N} |y_i - \\mathbf{w}^T \\mathbf{x}_i|. $\n",
    "This is different from the standard least squares regression, which uses the sum of squared errors (L2 norm) instead of the sum of absolute errors (L1 norm).\n",
    "\n",
    "(d) The batch gradient descent update rule to minimize the cost function from the previous point is:\n",
    "$ \\mathbf{w} \\leftarrow \\mathbf{w} - \\eta \\frac{\\partial L}{\\partial \\mathbf{w}}, $\n",
    "where the gradient is:\n",
    "$ \\frac{\\partial L}{\\partial \\mathbf{w}} = - \\sum_{i=1}^{N} \\text{sign}(y_i - \\mathbf{w}^T \\mathbf{x}_i) \\mathbf{x}_i. $\n",
    "Thus, the update rule becomes:\n",
    "$ \\mathbf{w} \\leftarrow \\mathbf{w} + \\eta \\sum_{i=1}^{N} \\text{sign}(y_i - \\mathbf{w}^T \\mathbf{x}_i) \\mathbf{x}_i. $"
   ]
  },
  {
   "cell_type": "code",
   "execution_count": null,
   "id": "f593d670-b68b-48ae-9e8d-71abb3bf64e2",
   "metadata": {},
   "outputs": [],
   "source": []
  }
 ],
 "metadata": {
  "kernelspec": {
   "display_name": "Julia 1.9.3",
   "language": "julia",
   "name": "julia-1.9"
  },
  "language_info": {
   "file_extension": ".jl",
   "mimetype": "application/julia",
   "name": "julia",
   "version": "1.10.3"
  }
 },
 "nbformat": 4,
 "nbformat_minor": 5
}
