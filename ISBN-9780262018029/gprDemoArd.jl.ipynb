{
 "cells": [
  {
   "cell_type": "code",
   "execution_count": 1,
   "id": "3d1d5bef-b081-43e7-9cb9-a59e5363bc0c",
   "metadata": {},
   "outputs": [],
   "source": [
    "using Plots\n",
    "using Random\n",
    "using LinearAlgebra"
   ]
  },
  {
   "cell_type": "code",
   "execution_count": 2,
   "id": "523735cf-944b-4da4-97a1-adf785432fe6",
   "metadata": {},
   "outputs": [],
   "source": [
    "# Setting the seed for reproducibility\n",
    "Random.seed!(37)\n",
    "\n",
    "n = 61^2; D = 2\n",
    "t = -3:0.1:3;\n"
   ]
  },
  {
   "cell_type": "code",
   "execution_count": 3,
   "id": "98e58c47-e4bf-463b-8d67-d8af3b7543a7",
   "metadata": {},
   "outputs": [],
   "source": [
    "\n",
    "x1, x2 = repeat(transpose(t), length(t), 1), repeat(t, 1, length(t))\n",
    "x = [x1[:] x2[:]]\n",
    "\n",
    "\n",
    "# First figure\n",
    "Q = sum([(repeat(x[:,d], 1, n) - repeat(x[:,d]', n, 1)).^2 for d in 1:D])\n",
    "Q = exp.(-0.5 .* Q)\n",
    "# Corrected reshape usage\n",
    "y = cholesky(Q + 1e-9 * I).L' * randn(n, 1)\n",
    "p1 = surface(t, t\n",
    "    , reshape(y, 61, 61), xlabel=\"input x1\", ylabel=\"input x2\", zlabel=\"output y\"\n",
    ")\n",
    "p1 = plot!(\n",
    "    aspect_ratio=:equal, xlims=(-3,3), ylims=(-3,3), zlims=(-2,2)\n",
    ");"
   ]
  },
  {
   "cell_type": "code",
   "execution_count": 4,
   "id": "2c2ce76e-eab8-4eb5-992a-0676fbe40669",
   "metadata": {},
   "outputs": [],
   "source": [
    "savefig(p1, \"images/gprDemoArd.png\");"
   ]
  },
  {
   "cell_type": "markdown",
   "id": "3a328c29-f878-457d-b233-537dd23b15f9",
   "metadata": {},
   "source": [
    "<img src=images/gprDemoArd.png width='75%' height='75%' > </img>"
   ]
  },
  {
   "cell_type": "code",
   "execution_count": 5,
   "id": "e2ef077e-0739-479e-84a9-9d7c6db4f1be",
   "metadata": {},
   "outputs": [],
   "source": [
    "# Second figure\n",
    "Random.seed!(34)\n",
    "Q = zeros(n, n)\n",
    "L1 = 1; L2 = 5\n",
    "Q += (repeat(x[:,1], 1, n) - repeat(x[:,1]', n, 1)).^2 / (L1^2)\n",
    "Q += (repeat(x[:,2], 1, n) - repeat(x[:,2]', n, 1)).^2 / (L2^2)\n",
    "Q = exp.(-0.5 .* Q)\n",
    "y = cholesky(Q + 1e-9 * I).L' * randn(n, 1)\n",
    "p2 = surface(t, t)\n",
    "p2 = plot!(\n",
    "    aspect_ratio=:equal, xlims=(-3,3), ylims=(-3,3), zlims=(-2,2)\n",
    ");"
   ]
  },
  {
   "cell_type": "markdown",
   "id": "e1855f94-a30e-4460-ad13-4bec87a8995f",
   "metadata": {},
   "source": [
    "# References\n",
    "\n",
    "- [ ] [gprDemoArd.m](https://github.com/probml/pmtk3/blob/master/demos/gprDemoArd.m)"
   ]
  },
  {
   "cell_type": "code",
   "execution_count": null,
   "id": "5f6e8e20-727c-4b5d-9ffb-228b3a18ccb3",
   "metadata": {},
   "outputs": [],
   "source": []
  }
 ],
 "metadata": {
  "kernelspec": {
   "display_name": "Julia 1.9.3",
   "language": "julia",
   "name": "julia-1.9"
  },
  "language_info": {
   "file_extension": ".jl",
   "mimetype": "application/julia",
   "name": "julia",
   "version": "1.10.2"
  }
 },
 "nbformat": 4,
 "nbformat_minor": 5
}
