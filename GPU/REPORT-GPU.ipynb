{
 "cells": [
  {
   "cell_type": "code",
   "execution_count": 63,
   "id": "5157a310-a566-40f9-b5f7-911fe0331f88",
   "metadata": {},
   "outputs": [],
   "source": [
    "using Plots\n",
    "using FFTW\n",
    "using LinearAlgebra"
   ]
  },
  {
   "cell_type": "markdown",
   "id": "83b6617a-197e-4a28-8d7f-b6eb05456ffe",
   "metadata": {},
   "source": [
    "&#x1F4D1; Note: the `operations.jl` source code helps writting mathematical symbols:\n",
    "For example:\n",
    "- `Fᴵ` replaces the `ifft` function (inverse Fourier Transform)\n",
    "- the convolution sign `⊗` is used rather than the `conv` function\n",
    "- the reverse sign `⦰` is also used to replace the `reverse` function\n",
    "- the concatenation sign `⧺` is used to make a vertical concatenation operation\n",
    "- the transpose function `(.)ᵀ` is use to transpose a vector or a matrix "
   ]
  },
  {
   "cell_type": "code",
   "execution_count": 64,
   "id": "4621ca06-d500-4b28-89d5-34fa9889a489",
   "metadata": {},
   "outputs": [],
   "source": [
    "include(\"../modules/operations.jl\");"
   ]
  },
  {
   "cell_type": "code",
   "execution_count": 65,
   "id": "abd5d899-b5d1-40f3-a9c7-567aa6ef236a",
   "metadata": {},
   "outputs": [],
   "source": [
    "using LaTeXStrings"
   ]
  },
  {
   "cell_type": "code",
   "execution_count": 66,
   "id": "ba6e00a3-3e03-4a1a-bbde-9b9593d50761",
   "metadata": {},
   "outputs": [],
   "source": [
    "using DSP"
   ]
  },
  {
   "cell_type": "markdown",
   "id": "47e7dbbe-f5d4-43af-8578-d38fea7db7e0",
   "metadata": {},
   "source": [
    "##### &#x0030;&#xFE0F;&#x20E3;  Implementing the Receiver from Lab1"
   ]
  },
  {
   "cell_type": "code",
   "execution_count": 67,
   "id": "51dca15f-307a-4636-9737-a2b2dd47bd2a",
   "metadata": {},
   "outputs": [
    {
     "name": "stdout",
     "output_type": "stream",
     "text": [
      "𝑓ₛ = 6.144e7\n",
      "Nᵨ = 0.01\n",
      "𝑁τ = 614400.0\n"
     ]
    }
   ],
   "source": [
    "𝑓ₛ = 61.44 * 1e6; @show 𝑓ₛ # samples/s\n",
    "Nᵨ = 1e-2; @show Nᵨ # typed \\N\\_rho for ratio to the sampling frequency in samples/s\n",
    "𝑁τ = Nᵨ * 𝑓ₛ ; @show 𝑁τ; # Periodicity \n",
    "𝐶ₚ = 144; # Cyclic Prefix"
   ]
  },
  {
   "cell_type": "code",
   "execution_count": 68,
   "id": "4e58928c-b736-43f8-9dfb-519e85f877c1",
   "metadata": {},
   "outputs": [
    {
     "name": "stdout",
     "output_type": "stream",
     "text": [
      "Nₒₛ = 2048\n",
      "𝑁ₚₛₛ = 2192\n"
     ]
    }
   ],
   "source": [
    "Nₒₛ = 2048; @show Nₒₛ;  # OFDM Symbol Size\n",
    "𝑁ₚₛₛ = Nₒₛ + 𝐶ₚ; @show 𝑁ₚₛₛ; # Duration = PSS Signal + Cyclic Prefix samples"
   ]
  },
  {
   "cell_type": "code",
   "execution_count": 69,
   "id": "82aa1767-4494-4493-8abf-a24c78903703",
   "metadata": {},
   "outputs": [],
   "source": [
    "## Receive the signal\n",
    "include(\"../data/julia/rxsignal_withchannelandfreqoff.jl\");"
   ]
  },
  {
   "cell_type": "code",
   "execution_count": 76,
   "id": "b6c37dbe-500b-4102-b193-8925e2000dd4",
   "metadata": {},
   "outputs": [
    {
     "data": {
      "text/plain": [
       "Matrix{ComplexF64}\u001b[90m (alias for \u001b[39m\u001b[90mArray{Complex{Float64}, 2}\u001b[39m\u001b[90m)\u001b[39m"
      ]
     },
     "execution_count": 76,
     "metadata": {},
     "output_type": "execute_result"
    }
   ],
   "source": [
    "typeof(rxs3)"
   ]
  },
  {
   "cell_type": "code",
   "execution_count": 77,
   "id": "9d16cab7-2a34-49b5-89ff-ce3f8c9a62bc",
   "metadata": {},
   "outputs": [
    {
     "data": {
      "text/plain": [
       "2-element Vector{ComplexF64}:\n",
       "  -7.30420513781688 + 19.17827614654979im\n",
       " -6.235568689840052 - 16.03725969281452im"
      ]
     },
     "execution_count": 77,
     "metadata": {},
     "output_type": "execute_result"
    }
   ],
   "source": [
    "vec(rxs3)[1:2]"
   ]
  },
  {
   "cell_type": "code",
   "execution_count": 90,
   "id": "af969a27-4820-49cb-b99b-6b001548a62e",
   "metadata": {},
   "outputs": [
    {
     "data": {
      "text/plain": [
       "616447-element Vector{ComplexF32}:\n",
       "  -7.304205f0 + 19.178276f0im\n",
       " -6.2355685f0 - 16.03726f0im\n",
       "  -2.258558f0 + 2.895619f0im\n",
       "  -7.150135f0 - 4.681072f0im\n",
       " -5.9986644f0 - 2.1136062f0im\n",
       "  1.9124045f0 + 11.702587f0im\n",
       " -27.349476f0 + 2.8440108f0im\n",
       "  21.337273f0 - 14.893436f0im\n",
       " -27.127567f0 - 0.23518242f0im\n",
       " -7.3059773f0 + 9.734681f0im\n",
       "  -3.887132f0 + 9.80836f0im\n",
       "  -3.943259f0 + 1.2724535f0im\n",
       "  -4.371416f0 - 9.179027f0im\n",
       "              ⋮\n",
       "  7.4728937f0 + 2.9326513f0im\n",
       " -3.9892952f0 + 3.2345488f0im\n",
       "   1.087239f0 + 4.362068f0im\n",
       " -3.4475145f0 + 11.3241f0im\n",
       "  3.3832786f0 - 0.13001971f0im\n",
       " -5.8508615f0 - 8.86564f0im\n",
       "   3.193117f0 + 2.1947856f0im\n",
       "  -6.394119f0 - 1.3345447f0im\n",
       "   9.183092f0 - 5.8471622f0im\n",
       "  1.9831575f0 + 11.299379f0im\n",
       " -13.366416f0 - 2.1861851f0im\n",
       "  4.0488343f0 + 10.654216f0im"
      ]
     },
     "execution_count": 90,
     "metadata": {},
     "output_type": "execute_result"
    }
   ],
   "source": [
    "# complex_f32_matrix = [ComplexF32(round(Int, real(c)), round(Int, imag(c))) for c in rxs3]\n",
    "complex_f32_matrix = [ComplexF32(real(c), imag(c)) for c in rxs3]\n",
    "typeof(complex_f32_matrix)\n",
    "vec(complex_f32_matrix)\n",
    "# sᵣₓ³ = MtlArray(vec(complex_i64_matrix)); # RX Received Signal 3 File Handle"
   ]
  },
  {
   "cell_type": "code",
   "execution_count": 91,
   "id": "4edade24-1491-4e74-888f-296efd87e546",
   "metadata": {},
   "outputs": [
    {
     "name": "stdout",
     "output_type": "stream",
     "text": [
      "(size(sᵣₓ³), typeof(sᵣₓ³)) = ((616447,), MtlVector{ComplexF32, Metal.MTL.MTLResourceStorageModePrivate})\n"
     ]
    }
   ],
   "source": [
    "## Assign the received signal a variable sᵣₓ³\n",
    "sᵣₓ³ = MtlArray(vec(complex_f32_matrix)); # RX Received Signal 3 File Handle\n",
    "@show size(sᵣₓ³), typeof(sᵣₓ³);"
   ]
  },
  {
   "cell_type": "code",
   "execution_count": 92,
   "id": "74147ffd-7d1a-4a68-abca-ac27fb59db37",
   "metadata": {},
   "outputs": [],
   "source": [
    "## Load the template signal\n",
    "include(\"../data/julia/pss2.jl\");"
   ]
  },
  {
   "cell_type": "code",
   "execution_count": 84,
   "id": "3da46b3f-addd-4d83-8b04-9a6488b7fac1",
   "metadata": {},
   "outputs": [],
   "source": [
    "using Metal"
   ]
  },
  {
   "cell_type": "code",
   "execution_count": 94,
   "id": "d56a5bb9-de8d-4fd4-bde2-ab071f8e43cb",
   "metadata": {},
   "outputs": [
    {
     "data": {
      "text/plain": [
       "2-element Vector{Complex{Int64}}:\n",
       " -363 + 0im\n",
       " -363 + 0im"
      ]
     },
     "execution_count": 94,
     "metadata": {},
     "output_type": "execute_result"
    }
   ],
   "source": [
    "pss_2[1:2]"
   ]
  },
  {
   "cell_type": "code",
   "execution_count": 93,
   "id": "19e5fcc9-e214-4785-a26a-c14ac3ef798a",
   "metadata": {},
   "outputs": [
    {
     "data": {
      "text/plain": [
       "2048-element Vector{ComplexF32}:\n",
       " -363.0f0 + 0.0f0im\n",
       " -363.0f0 + 0.0f0im\n",
       "  362.0f0 + 0.0f0im\n",
       "  362.0f0 + 0.0f0im\n",
       "  362.0f0 + 0.0f0im\n",
       "  362.0f0 + 0.0f0im\n",
       "  362.0f0 + 0.0f0im\n",
       " -363.0f0 + 0.0f0im\n",
       " -363.0f0 + 0.0f0im\n",
       "  362.0f0 + 0.0f0im\n",
       " -363.0f0 + 0.0f0im\n",
       " -363.0f0 + 0.0f0im\n",
       "  362.0f0 + 0.0f0im\n",
       "          ⋮\n",
       " -363.0f0 + 0.0f0im\n",
       " -363.0f0 + 0.0f0im\n",
       "  362.0f0 + 0.0f0im\n",
       "  362.0f0 + 0.0f0im\n",
       " -363.0f0 + 0.0f0im\n",
       "  362.0f0 + 0.0f0im\n",
       " -363.0f0 + 0.0f0im\n",
       "  362.0f0 + 0.0f0im\n",
       " -363.0f0 + 0.0f0im\n",
       " -363.0f0 + 0.0f0im\n",
       "  362.0f0 + 0.0f0im\n",
       "  362.0f0 + 0.0f0im"
      ]
     },
     "execution_count": 93,
     "metadata": {},
     "output_type": "execute_result"
    }
   ],
   "source": [
    "pss_complex_f32_matrix = [ComplexF32(real(c), imag(c)) for c in pss_2]\n",
    "typeof(pss_complex_f32_matrix)\n",
    "vec(pss_complex_f32_matrix)\n"
   ]
  },
  {
   "cell_type": "code",
   "execution_count": 100,
   "id": "809eeeb5-060f-420c-b5f2-7b825c27513a",
   "metadata": {},
   "outputs": [
    {
     "name": "stdout",
     "output_type": "stream",
     "text": [
      "typeof(s̃ₚₛₛ²) = MtlVector{ComplexF32, Metal.MTL.MTLResourceStorageModePrivate}\n"
     ]
    },
    {
     "data": {
      "text/plain": [
       "2-element MtlVector{ComplexF32, Metal.MTL.MTLResourceStorageModePrivate}:\n",
       " -363.0f0 + 0.0f0im\n",
       " -363.0f0 + 0.0f0im"
      ]
     },
     "execution_count": 100,
     "metadata": {},
     "output_type": "execute_result"
    }
   ],
   "source": [
    "# allocate + initialize\n",
    "pss_complex_f32_matrix\n",
    "s̃ₚₛₛ² = MtlArray(vec(pss_complex_f32_matrix)); @show typeof(s̃ₚₛₛ²);\n",
    "s̃ₚₛₛ²[1:2]\n",
    "# s̃ₚₛₛ² = MtlArray(pss_2); @show typeof(s̃ₚₛₛ²);"
   ]
  },
  {
   "cell_type": "code",
   "execution_count": 99,
   "id": "1322ff4d-1b11-46df-80c8-eb06b4a33e81",
   "metadata": {},
   "outputs": [
    {
     "ename": "LoadError",
     "evalue": "ArgumentError: cannot take the CPU address of a MtlVector{ComplexF32, Metal.MTL.MTLResourceStorageModePrivate}",
     "output_type": "error",
     "traceback": [
      "ArgumentError: cannot take the CPU address of a MtlVector{ComplexF32, Metal.MTL.MTLResourceStorageModePrivate}",
      "",
      "Stacktrace:",
      " [1] unsafe_convert(::Type{Ptr{ComplexF32}}, x::MtlVector{ComplexF32, Metal.MTL.MTLResourceStorageModePrivate})",
      "   @ Metal ~/.julia/packages/Metal/lnkVP/src/array.jl:148",
      " [2] macro expansion",
      "   @ ~/.julia/packages/FFTW/6nZei/src/fft.jl:652 [inlined]",
      " [3] (FFTW.cFFTWPlan{ComplexF32, 1, false, 1})(X::MtlVector{ComplexF32, Metal.MTL.MTLResourceStorageModePrivate}, Y::FFTW.FakeArray{ComplexF32, 1}, region::UnitRange{Int64}, flags::UInt32, timelimit::Float64)",
      "   @ FFTW ~/.julia/packages/FFTW/6nZei/src/FFTW.jl:49",
      " [4] plan_bfft(X::MtlVector{ComplexF32, Metal.MTL.MTLResourceStorageModePrivate}, region::UnitRange{Int64}; flags::UInt32, timelimit::Float64, num_threads::Nothing)",
      "   @ FFTW ~/.julia/packages/FFTW/6nZei/src/fft.jl:782",
      " [5] plan_bfft(X::MtlVector{ComplexF32, Metal.MTL.MTLResourceStorageModePrivate}, region::UnitRange{Int64})",
      "   @ FFTW ~/.julia/packages/FFTW/6nZei/src/fft.jl:772",
      " [6] plan_ifft(x::MtlVector{ComplexF32, Metal.MTL.MTLResourceStorageModePrivate}, region::UnitRange{Int64}; kws::@Kwargs{})",
      "   @ AbstractFFTs ~/.julia/packages/AbstractFFTs/4iQz5/src/definitions.jl:282",
      " [7] ifft(x::MtlVector{ComplexF32, Metal.MTL.MTLResourceStorageModePrivate}, region::UnitRange{Int64})",
      "   @ AbstractFFTs ~/.julia/packages/AbstractFFTs/4iQz5/src/definitions.jl:67",
      " [8] ifft(x::MtlVector{ComplexF32, Metal.MTL.MTLResourceStorageModePrivate})",
      "   @ AbstractFFTs ~/.julia/packages/AbstractFFTs/4iQz5/src/definitions.jl:66",
      " [9] top-level scope",
      "   @ In[99]:1"
     ]
    }
   ],
   "source": [
    "## Assign the reference signal to a variable s̃ₚₛₛ²\n",
    "## convert the signal in time domain\n",
    "\n",
    "s̃ₚₛₛ² = 𝓕⁻¹(s̃ₚₛₛ²);   # (inverse fourier transform) in time domain typed s\\tilde\n",
    "# s̃ₚₛₛ² ./= norm(s̃ₚₛₛ²);  @show size(s̃ₚₛₛ²), 𝐶ₚ-1    # Normalize\n",
    "# s̃ₚₛₛ² = s̃ₚₛₛ²[(end-(𝐶ₚ-1)):end] ⧺ s̃ₚₛₛ² # align verticaly end is 2048 FFT size\n",
    "# @show size(s̃ₚₛₛ²), typeof(s̃ₚₛₛ²); "
   ]
  },
  {
   "cell_type": "code",
   "execution_count": 87,
   "id": "abfef875-dc3b-41ed-ad56-ef2e07c7d975",
   "metadata": {},
   "outputs": [
    {
     "name": "stdout",
     "output_type": "stream",
     "text": [
      "(length(s̃ₚₛₛ²ˣ), typeof(s̃ₚₛₛ²ˣ)) = (2192, Vector{ComplexF64})\n"
     ]
    }
   ],
   "source": [
    "## Prepare the reference signal for convolution\n",
    "s̃ₚₛₛ²ˣ = (⦰(s̃ₚₛₛ²))ˣ; # reverse conjugate in one operation otherwise can lose peak\n",
    "@show length(s̃ₚₛₛ²ˣ), typeof(s̃ₚₛₛ²ˣ);"
   ]
  },
  {
   "cell_type": "code",
   "execution_count": 88,
   "id": "4092ec98-05ca-420f-b028-16815e10057a",
   "metadata": {},
   "outputs": [
    {
     "ename": "LoadError",
     "evalue": "Metal does not support Float64 values, try using Float32 instead",
     "output_type": "error",
     "traceback": [
      "Metal does not support Float64 values, try using Float32 instead",
      "",
      "Stacktrace:",
      "  [1] error(s::String)",
      "    @ Base ./error.jl:35",
      "  [2] check_eltype(T::Type)",
      "    @ Metal ~/.julia/packages/Metal/lnkVP/src/array.jl:32",
      "  [3] MtlVector{ComplexF64, Metal.MTL.MTLResourceStorageModePrivate}(::UndefInitializer, dims::Tuple{Int64})",
      "    @ Metal ~/.julia/packages/Metal/lnkVP/src/array.jl:50",
      "  [4] similar(::MtlVector{Complex{Int32}, Metal.MTL.MTLResourceStorageModePrivate}, ::Type{ComplexF64}, dims::Tuple{Int64}; storage::Metal.MTL.MTLResourceOptions)",
      "    @ Metal ~/.julia/packages/Metal/lnkVP/src/array.jl:127",
      "  [5] similar(::MtlVector{Complex{Int32}, Metal.MTL.MTLResourceStorageModePrivate}, ::Type{ComplexF64}, dims::Tuple{Int64})",
      "    @ Metal ~/.julia/packages/Metal/lnkVP/src/array.jl:127",
      "  [6] similar(a::MtlVector{Complex{Int32}, Metal.MTL.MTLResourceStorageModePrivate}, ::Type{ComplexF64})",
      "    @ Base ./abstractarray.jl:830",
      "  [7] AbstractVector{ComplexF64}(A::MtlVector{Complex{Int32}, Metal.MTL.MTLResourceStorageModePrivate})",
      "    @ Base ./array.jl:674",
      "  [8] (AbstractArray{ComplexF64})(A::MtlVector{Complex{Int32}, Metal.MTL.MTLResourceStorageModePrivate})",
      "    @ Core ./boot.jl:503",
      "  [9] convert(::Type{AbstractArray{ComplexF64}}, a::MtlVector{Complex{Int32}, Metal.MTL.MTLResourceStorageModePrivate})",
      "    @ Base ./abstractarray.jl:17",
      " [10] float(A::MtlVector{Complex{Int32}, Metal.MTL.MTLResourceStorageModePrivate})",
      "    @ Base ./float.jl:1120",
      " [11] conv(u::MtlVector{Complex{Int32}, Metal.MTL.MTLResourceStorageModePrivate}, v::Vector{ComplexF64})",
      "    @ DSP ~/.julia/packages/DSP/H0J1V/src/dspbase.jl:715",
      " [12] ⊗(a::MtlVector{Complex{Int32}, Metal.MTL.MTLResourceStorageModePrivate}, b::Vector{ComplexF64})",
      "    @ Main ~/Developer/DigiCom/Labs/modules/operations.jl:27",
      " [13] top-level scope",
      "    @ In[88]:2"
     ]
    }
   ],
   "source": [
    "## Perform the convolution between the 2 signals\n",
    "rᵣₓ³ = 10 * log10.(abs.( sᵣₓ³ ⊗ s̃ₚₛₛ²ˣ ))\n",
    "@show size( rᵣₓ³ ), typeof(rᵣₓ³); "
   ]
  },
  {
   "cell_type": "markdown",
   "id": "6ab2596e-5316-4b6a-acd3-cba315634f22",
   "metadata": {},
   "source": [
    "# &#x1F4DA; References"
   ]
  },
  {
   "cell_type": "markdown",
   "id": "5419923e-ead3-4cb0-9f4e-bf6d4bcfe42e",
   "metadata": {},
   "source": [
    "- [ ] [How can I define the frequency resolution in FFT? And what is the difference on interpreting the results between high and low frequency resolution?](https://www.researchgate.net/post/How-can-I-define-the-frequency-resolution-in-FFT-And-what-is-the-difference-on-interpreting-the-results-between-high-and-low-frequency-resolution)"
   ]
  },
  {
   "cell_type": "code",
   "execution_count": null,
   "id": "e3bac7e5-85f9-4b0e-87b8-4b24ba960c7e",
   "metadata": {},
   "outputs": [],
   "source": []
  }
 ],
 "metadata": {
  "kernelspec": {
   "display_name": "Julia 1.9.3",
   "language": "julia",
   "name": "julia-1.9"
  },
  "language_info": {
   "file_extension": ".jl",
   "mimetype": "application/julia",
   "name": "julia",
   "version": "1.10.1"
  }
 },
 "nbformat": 4,
 "nbformat_minor": 5
}
