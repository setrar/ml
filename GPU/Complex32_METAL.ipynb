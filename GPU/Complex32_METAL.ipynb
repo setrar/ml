{
 "cells": [
  {
   "cell_type": "code",
   "execution_count": 3,
   "id": "0c078c5a-2945-4cde-a6b9-41bcb1ed1403",
   "metadata": {},
   "outputs": [],
   "source": [
    "using Metal"
   ]
  },
  {
   "cell_type": "code",
   "execution_count": 22,
   "id": "cdee65c3-c44e-424b-b64b-891d8ff9a692",
   "metadata": {},
   "outputs": [
    {
     "data": {
      "text/plain": [
       "100×100 MtlMatrix{ComplexF32, Metal.MTL.MTLResourceStorageModePrivate}:\n",
       "  0.977442+0.614006im      0.93443+0.82943im    …     0.73069+0.9533im\n",
       "  0.167577+0.468204im     0.638027+0.640902im      0.00248784+0.627212im\n",
       "   0.81323+0.28363im      0.226113+0.310907im        0.754908+0.462331im\n",
       "   0.27067+0.317337im     0.482028+0.966509im         0.77668+0.403461im\n",
       "  0.506567+0.651994im     0.529827+0.242798im         0.73779+0.976926im\n",
       "  0.801376+0.848834im      0.55841+0.161018im   …    0.308568+0.303844im\n",
       "  0.101214+0.0144697im   0.0669337+0.734012im        0.465401+0.967292im\n",
       " 0.0105479+0.748269im     0.903633+0.554644im        0.513158+0.300114im\n",
       "  0.810752+0.432128im    0.0796281+0.106583im        0.331927+0.29005im\n",
       " 0.0684706+0.219253im     0.511619+0.569827im        0.117637+0.392099im\n",
       "  0.716025+0.0070377im    0.539724+0.731832im   …    0.349547+0.293543im\n",
       "  0.133046+0.364686im   0.00671208+0.405508im        0.525579+0.777705im\n",
       "  0.475772+0.454053im     0.741179+0.757881im        0.155032+0.238505im\n",
       "          ⋮                                     ⋱  \n",
       " 0.0533538+0.770669im     0.142315+0.488457im       0.0830315+0.497627im\n",
       "  0.152519+0.993976im      0.27652+0.22447im        0.0452106+0.187019im\n",
       "  0.206734+0.225406im      0.48842+0.746078im   …    0.102906+0.810097im\n",
       "  0.235341+0.303698im     0.564577+0.574099im        0.994202+0.357007im\n",
       "   0.40075+0.0851154im    0.546208+0.685523im       0.0149895+0.0581857im\n",
       "   0.40882+0.991822im     0.170125+0.780297im        0.796682+0.45269im\n",
       "  0.660668+0.566996im     0.571575+0.894277im        0.770432+0.290278im\n",
       " 0.0677276+0.340001im     0.118339+0.79595im    …    0.328622+0.0549788im\n",
       "  0.929016+0.246065im      0.25442+0.139315im        0.876243+0.143522im\n",
       "  0.379946+0.852639im     0.528825+0.424514im        0.895696+0.412786im\n",
       "  0.149676+0.580864im     0.463267+0.0985012im       0.838928+0.893016im\n",
       "  0.202923+0.348174im      0.14376+0.824326im        0.485988+0.409582im"
      ]
     },
     "execution_count": 22,
     "metadata": {},
     "output_type": "execute_result"
    }
   ],
   "source": [
    "a_m = MtlArray(rand(ComplexF32, 100, 100))"
   ]
  },
  {
   "cell_type": "code",
   "execution_count": 23,
   "id": "1f4cc5a9-ec7b-4917-9533-df34b92a920e",
   "metadata": {},
   "outputs": [
    {
     "data": {
      "text/plain": [
       "100×100 MtlMatrix{ComplexF32, Metal.MTL.MTLResourceStorageModePrivate}:\n",
       "  -7.28068+58.6422im    -8.7539+53.2734im  …   -3.47823+54.9998im\n",
       "  -1.85982+48.7699im   -3.45116+47.8152im       1.53619+47.6881im\n",
       "   -5.7824+49.1584im   -7.85035+50.4156im     -0.968397+47.6193im\n",
       "   2.08209+48.8813im   0.339833+47.4179im       5.53555+46.0279im\n",
       "    -3.908+55.0568im    -4.8555+53.845im      0.0182908+52.152im\n",
       "  -1.96376+51.0438im   -2.78042+51.839im   …   0.709864+50.3276im\n",
       "   -3.2606+52.7781im   -4.76459+50.165im        2.96896+48.5956im\n",
       "   -1.5869+49.0883im   -3.85265+47.6788im       2.26359+48.2145im\n",
       " -0.916568+51.0364im  -0.538198+49.6306im       5.62259+50.2187im\n",
       " -0.861343+46.5542im   -2.79157+47.6757im       1.22489+44.4106im\n",
       " -0.904326+48.9564im   -3.74329+51.3634im  …    1.95411+52.3495im\n",
       "  -5.22783+48.1801im     -4.945+47.3063im     -0.609676+47.9049im\n",
       "  -3.00292+53.4951im   -1.62659+50.9427im      0.724088+51.5539im\n",
       "          ⋮                                ⋱  \n",
       "  -4.17178+52.1347im    -6.6157+49.7524im     -0.246651+49.2426im\n",
       "  -4.38245+46.0259im    -3.5827+46.4601im      0.737948+45.5002im\n",
       "  0.334418+50.5221im   -1.50153+48.3867im  …   0.611825+48.9321im\n",
       "  -1.10553+47.4316im    -2.1281+48.5346im       5.57207+45.9315im\n",
       "  -6.26531+48.6313im   -5.02216+44.7877im     -0.310531+44.8185im\n",
       "  -4.70008+50.683im    -3.78742+51.3171im     -0.634075+49.2997im\n",
       "  -4.72415+52.8114im   -5.50256+51.5215im     -0.938676+49.823im\n",
       "   -5.5189+52.6805im   -5.90787+52.1207im  …   -2.26649+52.6288im\n",
       "   1.93263+46.1388im  -0.636367+47.2916im       5.12484+44.4884im\n",
       "   -6.0648+49.6004im   -7.72366+49.1248im      -2.77347+45.3442im\n",
       " -0.508771+47.7455im   -2.36803+48.7072im       2.88691+48.7709im\n",
       "  -6.13994+51.5651im   -6.90779+52.3481im      0.217794+50.5056im"
      ]
     },
     "execution_count": 23,
     "metadata": {},
     "output_type": "execute_result"
    }
   ],
   "source": [
    "b_m = a_m * a_m"
   ]
  },
  {
   "cell_type": "code",
   "execution_count": 24,
   "id": "fe43451b-0b7d-4e6c-aabc-ecaf212e9a7d",
   "metadata": {},
   "outputs": [
    {
     "data": {
      "text/plain": [
       "100×100 Matrix{ComplexF32}:\n",
       "  -7.28068+58.6422im    -8.7539+53.2734im  …   -3.47823+54.9998im\n",
       "  -1.85982+48.7699im   -3.45116+47.8152im       1.53619+47.6881im\n",
       "   -5.7824+49.1584im   -7.85035+50.4156im     -0.968397+47.6193im\n",
       "   2.08209+48.8813im   0.339833+47.4179im       5.53555+46.0279im\n",
       "    -3.908+55.0568im    -4.8555+53.845im      0.0182908+52.152im\n",
       "  -1.96376+51.0438im   -2.78042+51.839im   …   0.709864+50.3276im\n",
       "   -3.2606+52.7781im   -4.76459+50.165im        2.96896+48.5956im\n",
       "   -1.5869+49.0883im   -3.85265+47.6788im       2.26359+48.2145im\n",
       " -0.916568+51.0364im  -0.538198+49.6306im       5.62259+50.2187im\n",
       " -0.861343+46.5542im   -2.79157+47.6757im       1.22489+44.4106im\n",
       " -0.904326+48.9564im   -3.74329+51.3634im  …    1.95411+52.3495im\n",
       "  -5.22783+48.1801im     -4.945+47.3063im     -0.609676+47.9049im\n",
       "  -3.00292+53.4951im   -1.62659+50.9427im      0.724088+51.5539im\n",
       "          ⋮                                ⋱  \n",
       "  -4.17178+52.1347im    -6.6157+49.7524im     -0.246651+49.2426im\n",
       "  -4.38245+46.0259im    -3.5827+46.4601im      0.737948+45.5002im\n",
       "  0.334418+50.5221im   -1.50153+48.3867im  …   0.611825+48.9321im\n",
       "  -1.10553+47.4316im    -2.1281+48.5346im       5.57207+45.9315im\n",
       "  -6.26531+48.6313im   -5.02216+44.7877im     -0.310531+44.8185im\n",
       "  -4.70008+50.683im    -3.78742+51.3171im     -0.634075+49.2997im\n",
       "  -4.72415+52.8114im   -5.50256+51.5215im     -0.938676+49.823im\n",
       "   -5.5189+52.6805im   -5.90787+52.1207im  …   -2.26649+52.6288im\n",
       "   1.93263+46.1388im  -0.636367+47.2916im       5.12484+44.4884im\n",
       "   -6.0648+49.6004im   -7.72366+49.1248im      -2.77347+45.3442im\n",
       " -0.508771+47.7455im   -2.36803+48.7072im       2.88691+48.7709im\n",
       "  -6.13994+51.5651im   -6.90779+52.3481im      0.217794+50.5056im"
      ]
     },
     "execution_count": 24,
     "metadata": {},
     "output_type": "execute_result"
    }
   ],
   "source": [
    "b_c =Array(b_m)"
   ]
  },
  {
   "cell_type": "code",
   "execution_count": 33,
   "id": "5342bfb3-75b9-4f79-8503-657d90a30b24",
   "metadata": {},
   "outputs": [
    {
     "data": {
      "text/plain": [
       "1×100 MtlMatrix{ComplexF32, Metal.MTL.MTLResourceStorageModePrivate}:\n",
       " -1.66929f25+9.17442f24im  1.4741f21-4.21709f23im  …  4.19866f23-8.54321f23im"
      ]
     },
     "execution_count": 33,
     "metadata": {},
     "output_type": "execute_result"
    }
   ],
   "source": [
    "mapreduce(sin, +, b_m; dims=1)"
   ]
  },
  {
   "cell_type": "code",
   "execution_count": 34,
   "id": "87d0929a-6e7b-4e88-913d-278b408e33ad",
   "metadata": {},
   "outputs": [
    {
     "data": {
      "text/plain": [
       "100×100 MtlMatrix{ComplexF32, Metal.MTL.MTLResourceStorageModePrivate}:\n",
       "   2.3715f25-3.71384f25im  …   1.06668f23+1.14899f24im\n",
       "  2.25065f21-3.17571f20im     -7.11299f20+2.96213f20im\n",
       " -2.68693f21-2.00392f21im      3.69298f20-6.17211f20im\n",
       " -1.49757f21+2.05267f21im      4.58568f19-1.39109f20im\n",
       " -4.04171f23+1.15282f24im     -2.89486f22-6.03135f22im\n",
       "   2.2073f22-8.00216f20im  …  -9.80167f21-4.51578f21im\n",
       "  3.81909f22+1.19145f23im      4.84522f20+1.84685f21im\n",
       "  2.86224f21-1.2546f21im      -5.65914f20+1.17513f21im\n",
       "   1.0267f22-1.93714f22im      2.21944f21-9.42f21im\n",
       "  1.03832f20-2.25128f20im     -2.89638f19+2.41825f18im\n",
       "  1.25295f21-2.43563f21im  …   -5.6048f22+5.91739f22im\n",
       " -1.25551f21-1.08543f20im      1.71777f20-9.41467f20im\n",
       "  1.37834f23+2.16049f23im      -3.3624f22-1.49151f22im\n",
       "            ⋮              ⋱  \n",
       " -3.71773f22+5.42277f22im     -6.61975f20-3.58583f21im\n",
       "  -1.0604f20+1.00613f20im     -7.94713f19-3.39419f19im\n",
       " -9.06491f21-9.46857f21im  …  -2.30683f21-1.35089f21im\n",
       "   3.7315f20-4.64928f20im      3.70041f19-1.27767f20im\n",
       " -8.55506f20-1.78431f21im     -5.17424f18-4.3396f19im\n",
       " -1.39208f22+6.57936f21im      7.85478f20-3.78021f21im\n",
       " -1.18249f23+5.24449f22im      3.17767f21-5.68796f21im\n",
       " -1.05503f23-4.18101f22im  …   1.03961f23+2.83798f22im\n",
       " -1.15059f20+1.16363f20im      2.09306f19-2.34286f19im\n",
       " -3.14605f21-4.15923f21im      5.28995f19+5.16518f19im\n",
       "  6.48595f19-8.1343f20im       3.95056f20+2.24067f21im\n",
       " -2.01504f22-3.12686f22im     -7.77243f21-1.02881f22im"
      ]
     },
     "execution_count": 34,
     "metadata": {},
     "output_type": "execute_result"
    }
   ],
   "source": [
    "cos.(b_m .+ 2) .* 3"
   ]
  },
  {
   "cell_type": "code",
   "execution_count": 35,
   "id": "24209372-cb0a-4d70-a51f-3cb59d11fe97",
   "metadata": {},
   "outputs": [],
   "source": [
    "using FFTW"
   ]
  },
  {
   "cell_type": "code",
   "execution_count": 36,
   "id": "ad0ebd64-073e-43d0-aafa-8f938ee1f98d",
   "metadata": {},
   "outputs": [],
   "source": [
    "b_c_td = ifft(b_c); # a in time-domain"
   ]
  },
  {
   "cell_type": "code",
   "execution_count": 37,
   "id": "468e46cd-7083-44bd-a3ca-6633d7134bfb",
   "metadata": {},
   "outputs": [],
   "source": [
    "using Plots"
   ]
  },
  {
   "cell_type": "code",
   "execution_count": 38,
   "id": "f36babb3-f583-4675-9e64-528021cdac0b",
   "metadata": {},
   "outputs": [
    {
     "data": {
      "text/plain": [
       "\"/Users/valiha/Developer/DigiCom/Labs/TP2/images/plt_b_c_td.png\""
      ]
     },
     "execution_count": 38,
     "metadata": {},
     "output_type": "execute_result"
    }
   ],
   "source": [
    "plt_b_c_td =\n",
    "plot(abs.(b_c_td))\n",
    "savefig(plt_b_c_td,\"images/plt_b_c_td.png\")"
   ]
  },
  {
   "cell_type": "markdown",
   "id": "926c69d4-47ff-40fb-888b-d1ff2e60a85e",
   "metadata": {},
   "source": [
    "<img src=images/plt_b_c_td.png width='50%' height='50%' > </img>"
   ]
  },
  {
   "cell_type": "code",
   "execution_count": 39,
   "id": "f69388d4-9152-403f-a621-44750ee82ded",
   "metadata": {},
   "outputs": [
    {
     "ename": "LoadError",
     "evalue": "ArgumentError: cannot take the CPU address of a MtlMatrix{ComplexF32, Metal.MTL.MTLResourceStorageModePrivate}",
     "output_type": "error",
     "traceback": [
      "ArgumentError: cannot take the CPU address of a MtlMatrix{ComplexF32, Metal.MTL.MTLResourceStorageModePrivate}",
      "",
      "Stacktrace:",
      " [1] unsafe_convert(::Type{Ptr{ComplexF32}}, x::MtlMatrix{ComplexF32, Metal.MTL.MTLResourceStorageModePrivate})",
      "   @ Metal ~/.julia/packages/Metal/lnkVP/src/array.jl:148",
      " [2] macro expansion",
      "   @ ~/.julia/packages/FFTW/6nZei/src/fft.jl:652 [inlined]",
      " [3] (FFTW.cFFTWPlan{ComplexF32, 1, false, 2})(X::MtlMatrix{ComplexF32, Metal.MTL.MTLResourceStorageModePrivate}, Y::FFTW.FakeArray{ComplexF32, 2}, region::UnitRange{Int64}, flags::UInt32, timelimit::Float64)",
      "   @ FFTW ~/.julia/packages/FFTW/6nZei/src/FFTW.jl:49",
      " [4] plan_bfft(X::MtlMatrix{ComplexF32, Metal.MTL.MTLResourceStorageModePrivate}, region::UnitRange{Int64}; flags::UInt32, timelimit::Float64, num_threads::Nothing)",
      "   @ FFTW ~/.julia/packages/FFTW/6nZei/src/fft.jl:782",
      " [5] plan_bfft(X::MtlMatrix{ComplexF32, Metal.MTL.MTLResourceStorageModePrivate}, region::UnitRange{Int64})",
      "   @ FFTW ~/.julia/packages/FFTW/6nZei/src/fft.jl:772",
      " [6] plan_ifft(x::MtlMatrix{ComplexF32, Metal.MTL.MTLResourceStorageModePrivate}, region::UnitRange{Int64}; kws::@Kwargs{})",
      "   @ AbstractFFTs ~/.julia/packages/AbstractFFTs/4iQz5/src/definitions.jl:282",
      " [7] ifft(x::MtlMatrix{ComplexF32, Metal.MTL.MTLResourceStorageModePrivate}, region::UnitRange{Int64})",
      "   @ AbstractFFTs ~/.julia/packages/AbstractFFTs/4iQz5/src/definitions.jl:67",
      " [8] ifft(x::MtlMatrix{ComplexF32, Metal.MTL.MTLResourceStorageModePrivate})",
      "   @ AbstractFFTs ~/.julia/packages/AbstractFFTs/4iQz5/src/definitions.jl:66",
      " [9] top-level scope",
      "   @ In[39]:1"
     ]
    }
   ],
   "source": [
    "a_m_td = ifft(a_m); # a in time-domain"
   ]
  },
  {
   "cell_type": "markdown",
   "id": "376af9c5-aa6d-4e75-92cc-8eef2bd4a477",
   "metadata": {},
   "source": [
    "# &#x1F4DA; References\n",
    "- [ ] [Technical preview: Programming Apple M1 GPUs in Julia with Metal.jl](https://juliagpu.org/post/2022-06-24-metal/)"
   ]
  },
  {
   "cell_type": "code",
   "execution_count": null,
   "id": "3e872000-95c5-47d1-bb23-f335a66d3229",
   "metadata": {},
   "outputs": [],
   "source": []
  }
 ],
 "metadata": {
  "kernelspec": {
   "display_name": "Julia 1.9.3",
   "language": "julia",
   "name": "julia-1.9"
  },
  "language_info": {
   "file_extension": ".jl",
   "mimetype": "application/julia",
   "name": "julia",
   "version": "1.10.1"
  }
 },
 "nbformat": 4,
 "nbformat_minor": 5
}
