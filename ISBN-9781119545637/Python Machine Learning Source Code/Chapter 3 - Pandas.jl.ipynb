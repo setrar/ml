{
 "cells": [
  {
   "cell_type": "markdown",
   "metadata": {},
   "source": [
    "# Pandas Series"
   ]
  },
  {
   "cell_type": "code",
   "execution_count": 99,
   "metadata": {},
   "outputs": [],
   "source": [
    "# using Pkg\n",
    "# Pkg.add(\"DataFrames\")  # Install the DataFrames package if you haven't already"
   ]
  },
  {
   "cell_type": "code",
   "execution_count": 100,
   "metadata": {
    "editable": true,
    "slideshow": {
     "slide_type": ""
    },
    "tags": []
   },
   "outputs": [
    {
     "name": "stdout",
     "output_type": "stream",
     "text": [
      "\u001b[1m5×1 DataFrame\u001b[0m\n",
      "\u001b[1m Row \u001b[0m│\u001b[1m A     \u001b[0m\n",
      "     │\u001b[90m Int64 \u001b[0m\n",
      "─────┼───────\n",
      "   1 │     1\n",
      "   2 │     2\n",
      "   3 │     3\n",
      "   4 │     4\n",
      "   5 │     5"
     ]
    }
   ],
   "source": [
    "using DataFrames                         #  import pandas as pd\n",
    "series = DataFrame(A = [1, 2, 3, 4, 5])  # series = pd.Series([1,2,3,4,5])\n",
    "print(series)\n"
   ]
  },
  {
   "cell_type": "markdown",
   "metadata": {
    "collapsed": true,
    "jupyter": {
     "outputs_hidden": true
    }
   },
   "source": [
    "## Creating a Series Using a Specified Index"
   ]
  },
  {
   "cell_type": "code",
   "execution_count": 13,
   "metadata": {},
   "outputs": [
    {
     "name": "stdout",
     "output_type": "stream",
     "text": [
      "\u001b[1m5×2 DataFrame\u001b[0m\n",
      "\u001b[1m Row \u001b[0m│\u001b[1m Value \u001b[0m\u001b[1m Index \u001b[0m\n",
      "     │\u001b[90m Int64 \u001b[0m\u001b[90m Char  \u001b[0m\n",
      "─────┼──────────────\n",
      "   1 │     1  a\n",
      "   2 │     2  b\n",
      "   3 │     3  c\n",
      "   4 │     4  d\n",
      "   5 │     5  c"
     ]
    }
   ],
   "source": [
    "# series = pd.Series([1,2,3,4,5], index=['a','b','c','d','c'])  # note the duplicate index 'c'\n",
    "\n",
    "series = DataFrame(Value = [1, 2, 3, 4, 5], Index = ['a', 'b', 'c', 'd', 'c']) # note the duplicate index 'c'\n",
    "print(series)"
   ]
  },
  {
   "cell_type": "markdown",
   "metadata": {},
   "source": [
    "## Accessing Elements in a Series"
   ]
  },
  {
   "cell_type": "code",
   "execution_count": 17,
   "metadata": {},
   "outputs": [
    {
     "name": "stdout",
     "output_type": "stream",
     "text": [
      "3\n",
      "3"
     ]
    }
   ],
   "source": [
    "# print(series[2])          # 3\n",
    "# same as\n",
    "# print(series.iloc[2])     # 3  - based on the position of the index\n",
    "\n",
    "# Accessing the third element (1-based indexing in Julia)\n",
    "println(series[3, :Value])  # 3\n",
    "# same as\n",
    "print(series.Value[3])      # 3  - based on the position of the index\n"
   ]
  },
  {
   "cell_type": "code",
   "execution_count": 29,
   "metadata": {},
   "outputs": [
    {
     "name": "stdout",
     "output_type": "stream",
     "text": [
      "\u001b[1m1×2 DataFrame\u001b[0m\n",
      "\u001b[1m Row \u001b[0m│\u001b[1m Value \u001b[0m\u001b[1m Index \u001b[0m\n",
      "     │\u001b[90m Int64 \u001b[0m\u001b[90m Char  \u001b[0m\n",
      "─────┼──────────────\n",
      "   1 │     4  d\n",
      "[4]\n"
     ]
    }
   ],
   "source": [
    "# print(series['d'])        # 4\n",
    "println(filter(row -> row[:Index] == 'd', series))\n",
    "# same as\n",
    "# print(series.loc['d'])    # 4 - based on the label in the index\n",
    "println(series[series.Index .== 'd', :Value])\n"
   ]
  },
  {
   "cell_type": "code",
   "execution_count": 30,
   "metadata": {},
   "outputs": [
    {
     "name": "stdout",
     "output_type": "stream",
     "text": [
      "\u001b[1m2×2 DataFrame\u001b[0m\n",
      "\u001b[1m Row \u001b[0m│\u001b[1m Value \u001b[0m\u001b[1m Index \u001b[0m\n",
      "     │\u001b[90m Int64 \u001b[0m\u001b[90m Char  \u001b[0m\n",
      "─────┼──────────────\n",
      "   1 │     3  c\n",
      "   2 │     5  c\n"
     ]
    }
   ],
   "source": [
    "# print(series['c'])        # more than 1 row has the index 'c'\n",
    "println(filter(row -> row[:Index] == 'c', series))\n"
   ]
  },
  {
   "cell_type": "code",
   "execution_count": 32,
   "metadata": {},
   "outputs": [
    {
     "name": "stdout",
     "output_type": "stream",
     "text": [
      "\u001b[1m3×2 DataFrame\u001b[0m\n",
      "\u001b[1m Row \u001b[0m│\u001b[1m Value \u001b[0m\u001b[1m Index \u001b[0m\n",
      "     │\u001b[90m Int64 \u001b[0m\u001b[90m Char  \u001b[0m\n",
      "─────┼──────────────\n",
      "   1 │     3  c\n",
      "   2 │     4  d\n",
      "   3 │     5  c"
     ]
    }
   ],
   "source": [
    "# print(series[2:])         # returns a Series\n",
    "# print(series.iloc[2:])    # returns a Series\n",
    "\n",
    "# Here's how to replicate both series[2:] and series.iloc[2:] in Julia, \n",
    "# assuming you're working with a DataFrame that mimics a Series:\n",
    "\n",
    "print(series[3:end, :])   # returns a Series\n"
   ]
  },
  {
   "cell_type": "markdown",
   "metadata": {
    "collapsed": true,
    "jupyter": {
     "outputs_hidden": true
    }
   },
   "source": [
    "## Specifying a Datetime Range as the Index of a Series"
   ]
  },
  {
   "cell_type": "code",
   "execution_count": 35,
   "metadata": {},
   "outputs": [],
   "source": [
    "using Dates"
   ]
  },
  {
   "cell_type": "code",
   "execution_count": 36,
   "metadata": {},
   "outputs": [
    {
     "name": "stdout",
     "output_type": "stream",
     "text": [
      "2019-05-25\n",
      "2019-05-26\n",
      "2019-05-27\n",
      "2019-05-28\n",
      "2019-05-29\n",
      "2019-05-30\n",
      "2019-05-31\n",
      "2019-06-01\n",
      "2019-06-02\n",
      "2019-06-03\n",
      "2019-06-04\n",
      "2019-06-05\n"
     ]
    }
   ],
   "source": [
    "# dates1 = pd.date_range('20190525', periods=12)\n",
    "# print(dates1)\n",
    "\n",
    "# Start date\n",
    "start_date = Date(2019, 05, 25)\n",
    "\n",
    "# Create a range of dates\n",
    "dates1 = start_date:Day(1):(start_date + Day(11))  # 12 days including the start date\n",
    "\n",
    "# Print the dates\n",
    "foreach(println, dates1)\n"
   ]
  },
  {
   "cell_type": "code",
   "execution_count": 37,
   "metadata": {},
   "outputs": [
    {
     "name": "stdout",
     "output_type": "stream",
     "text": [
      "\u001b[1m12×2 DataFrame\u001b[0m\n",
      "\u001b[1m Row \u001b[0m│\u001b[1m Date       \u001b[0m\u001b[1m Value \u001b[0m\n",
      "     │\u001b[90m Date       \u001b[0m\u001b[90m Int64 \u001b[0m\n",
      "─────┼───────────────────\n",
      "   1 │ 2019-05-25      1\n",
      "   2 │ 2019-05-26      2\n",
      "   3 │ 2019-05-27      3\n",
      "   4 │ 2019-05-28      4\n",
      "   5 │ 2019-05-29      5\n",
      "   6 │ 2019-05-30      6\n",
      "   7 │ 2019-05-31      7\n",
      "   8 │ 2019-06-01      8\n",
      "   9 │ 2019-06-02      9\n",
      "  10 │ 2019-06-03     10\n",
      "  11 │ 2019-06-04     11\n",
      "  12 │ 2019-06-05     12"
     ]
    }
   ],
   "source": [
    "# series = pd.Series([1,2,3,4,5,6,7,8,9,10,11,12])\n",
    "# series.index = dates1\n",
    "\n",
    "series = DataFrame(Date=collect(dates1), Value=[1,2,3,4,5,6,7,8,9,10,11,12])\n",
    "print(series)\n"
   ]
  },
  {
   "cell_type": "markdown",
   "metadata": {
    "collapsed": true,
    "jupyter": {
     "outputs_hidden": true
    }
   },
   "source": [
    "## Date Ranges"
   ]
  },
  {
   "cell_type": "code",
   "execution_count": 59,
   "metadata": {},
   "outputs": [
    {
     "name": "stdout",
     "output_type": "stream",
     "text": [
      "2019-05-31\n",
      "2019-06-30\n",
      "2019-07-31\n",
      "2019-08-31\n",
      "2019-09-30\n",
      "2019-10-31\n",
      "2019-11-30\n",
      "2019-12-31\n",
      "2020-01-31\n",
      "2020-02-29\n",
      "2020-03-31\n",
      "2020-04-30\n"
     ]
    }
   ],
   "source": [
    "# dates2 = pd.date_range('2019-05-01', periods=12, freq='M')\n",
    "# print(dates2)\n",
    "dates2 = [lastdayofmonth(date) for date in \n",
    "            [Date(2019, 05, 01) + Month(i) for i in 0:11]\n",
    "    ]\n",
    "foreach(println, dates2)"
   ]
  },
  {
   "cell_type": "code",
   "execution_count": 62,
   "metadata": {},
   "outputs": [
    {
     "name": "stdout",
     "output_type": "stream",
     "text": [
      "2019-05-01\n",
      "2019-06-01\n",
      "2019-07-01\n",
      "2019-08-01\n",
      "2019-09-01\n",
      "2019-10-01\n",
      "2019-11-01\n",
      "2019-12-01\n",
      "2020-01-01\n",
      "2020-02-01\n",
      "2020-03-01\n",
      "2020-04-01\n"
     ]
    }
   ],
   "source": [
    "# dates2 = pd.date_range('2019-05-01', periods=12, freq='MS')\n",
    "# print(dates2)\n",
    "dates2 = [Date(2019, 05, 01) + Month(i) for i in 0:11]\n",
    "foreach(println, dates2)"
   ]
  },
  {
   "cell_type": "code",
   "execution_count": 58,
   "metadata": {},
   "outputs": [
    {
     "name": "stdout",
     "output_type": "stream",
     "text": [
      "2019-05-01\n",
      "2019-06-01\n",
      "2019-07-01\n",
      "2019-08-01\n",
      "2019-09-01\n",
      "2019-10-01\n",
      "2019-11-01\n",
      "2019-12-01\n",
      "2020-01-01\n",
      "2020-02-01\n",
      "2020-03-01\n",
      "2020-04-01\n"
     ]
    }
   ],
   "source": [
    "# dates2 = pd.date_range('05-01-2019', periods=12, freq='MS')\n",
    "# print(dates2)      \n",
    "dates2 = [Date(\"05-01-2019\", \"mm-dd-yyyy\") + Month(i) for i in 0:11]\n",
    "foreach(println, dates2)"
   ]
  },
  {
   "cell_type": "code",
   "execution_count": 63,
   "metadata": {},
   "outputs": [
    {
     "name": "stdout",
     "output_type": "stream",
     "text": [
      "2019-05-17T09:00:00\n",
      "2019-05-17T10:00:00\n",
      "2019-05-17T11:00:00\n",
      "2019-05-17T12:00:00\n",
      "2019-05-17T13:00:00\n",
      "2019-05-17T14:00:00\n",
      "2019-05-17T15:00:00\n",
      "2019-05-17T16:00:00\n"
     ]
    }
   ],
   "source": [
    "# dates3 = pd.date_range('2019/05/17 09:00:00', periods=8, freq='H')\n",
    "# print(dates3)\n",
    "dates3 = [DateTime(2019, 05, 17, 09, 00, 00) + Hour(i) for i in 0:7]\n",
    "foreach(println, dates3)"
   ]
  },
  {
   "cell_type": "markdown",
   "metadata": {
    "collapsed": true,
    "editable": true,
    "jupyter": {
     "outputs_hidden": true
    },
    "slideshow": {
     "slide_type": ""
    },
    "tags": []
   },
   "source": [
    "# Pandas DataFrame"
   ]
  },
  {
   "cell_type": "code",
   "execution_count": 65,
   "metadata": {},
   "outputs": [],
   "source": [
    "using Random"
   ]
  },
  {
   "cell_type": "code",
   "execution_count": 66,
   "metadata": {},
   "outputs": [
    {
     "name": "stdout",
     "output_type": "stream",
     "text": [
      "\u001b[1m10×4 DataFrame\u001b[0m\n",
      "\u001b[1m Row \u001b[0m│\u001b[1m A         \u001b[0m\u001b[1m B         \u001b[0m\u001b[1m C         \u001b[0m\u001b[1m D           \u001b[0m\n",
      "     │\u001b[90m Float64   \u001b[0m\u001b[90m Float64   \u001b[0m\u001b[90m Float64   \u001b[0m\u001b[90m Float64     \u001b[0m\n",
      "─────┼──────────────────────────────────────────────\n",
      "   1 │ -0.110226   0.493484   1.01082   -1.6779\n",
      "   2 │  0.84333    0.196549   0.514412  -0.832789\n",
      "   3 │  1.14813   -0.824376   0.140546  -1.38926\n",
      "   4 │ -0.313033  -0.109109  -0.226131  -0.00302539\n",
      "   5 │  1.32351   -0.380801  -0.30132    0.19167\n",
      "   6 │  0.492546  -0.512437   0.043593   0.225091\n",
      "   7 │  0.814076   0.838872  -1.05426    1.0918\n",
      "   8 │  0.731738  -0.247107  -1.01485   -1.49803\n",
      "   9 │ -2.22421    0.241925  -1.3615    -1.24107\n",
      "  10 │ -1.37047    1.15876   -0.846439  -0.671944\n"
     ]
    }
   ],
   "source": [
    "# import pandas as pd\n",
    "# import numpy as np\n",
    "\n",
    "# df = pd.DataFrame(np.random.randn(10,4),\n",
    "                  # columns=list('ABCD'))\n",
    "# print(df)\n",
    "\n",
    "# Create a DataFrame with random numbers and specified column names\n",
    "df = DataFrame(randn(10, 4), :auto)\n",
    "rename!(df, [:A, :B, :C, :D])\n",
    "\n",
    "# Print the DataFrame\n",
    "println(df)\n",
    "\n"
   ]
  },
  {
   "cell_type": "markdown",
   "metadata": {
    "collapsed": true,
    "editable": true,
    "jupyter": {
     "outputs_hidden": true
    },
    "slideshow": {
     "slide_type": ""
    },
    "tags": []
   },
   "source": [
    "## Specifying the Index in a DataFrame"
   ]
  },
  {
   "cell_type": "code",
   "execution_count": 68,
   "metadata": {},
   "outputs": [],
   "source": [
    "using CSV"
   ]
  },
  {
   "cell_type": "code",
   "execution_count": 69,
   "metadata": {},
   "outputs": [
    {
     "name": "stdout",
     "output_type": "stream",
     "text": [
      "\u001b[1m10×5 DataFrame\u001b[0m\n",
      "\u001b[1m Row \u001b[0m│\u001b[1m A         \u001b[0m\u001b[1m B         \u001b[0m\u001b[1m C         \u001b[0m\u001b[1m D         \u001b[0m\u001b[1m Date       \u001b[0m\n",
      "     │\u001b[90m Float64   \u001b[0m\u001b[90m Float64   \u001b[0m\u001b[90m Float64   \u001b[0m\u001b[90m Float64   \u001b[0m\u001b[90m Date       \u001b[0m\n",
      "─────┼────────────────────────────────────────────────────────\n",
      "   1 │  0.187497   1.12215   -0.988277  -1.98593   2019-05-25\n",
      "   2 │  0.360803  -0.562243  -0.340693  -0.986988  2019-05-26\n",
      "   3 │ -0.040627   0.067333  -0.452978   0.686223  2019-05-27\n",
      "   4 │ -0.279572  -0.702492   0.252265   0.958977  2019-05-28\n",
      "   5 │  0.537438  -1.73757    0.714727  -0.939288  2019-05-29\n",
      "   6 │  0.070011  -0.516443  -1.65569    0.246721  2019-05-30\n",
      "   7 │  0.001268   0.951517   2.10736   -0.108726  2019-05-31\n",
      "   8 │ -0.185258   0.85652   -0.686285   1.1042    2019-06-01\n",
      "   9 │  0.387023   1.70634   -2.45265    0.260466  2019-06-02\n",
      "  10 │ -1.05497    0.556775  -0.945219  -0.030295  2019-06-03\n"
     ]
    }
   ],
   "source": [
    "# df = pd.read_csv('data.csv')                   # load dataframe from CSV file\n",
    "# days = pd.date_range('20190525', periods=10)\n",
    "# df.index = days\n",
    "# print(df)\n",
    "\n",
    "df = CSV.read(\"data.csv\", DataFrame)          # load dataframe from CSV file\n",
    "start_date = Date(2019, 05, 25)\n",
    "days = start_date:Day(1):start_date + Day(9)  # 10 days starting from May 25, 2019\n",
    "df[!, :Date] = days\n",
    "println(df)"
   ]
  },
  {
   "cell_type": "code",
   "execution_count": 77,
   "metadata": {},
   "outputs": [
    {
     "name": "stdout",
     "output_type": "stream",
     "text": [
      "[Date(\"2019-05-25\"), Date(\"2019-05-26\"), Date(\"2019-05-27\"), Date(\"2019-05-28\"), Date(\"2019-05-29\"), Date(\"2019-05-30\"), Date(\"2019-05-31\"), Date(\"2019-06-01\"), Date(\"2019-06-02\"), Date(\"2019-06-03\")]\n"
     ]
    }
   ],
   "source": [
    "# print(df.index)\n",
    "println(df.Date)"
   ]
  },
  {
   "cell_type": "code",
   "execution_count": 85,
   "metadata": {},
   "outputs": [
    {
     "name": "stdout",
     "output_type": "stream",
     "text": [
      "\u001b[1m10×5 DataFrame\u001b[0m\n",
      "\u001b[1m Row \u001b[0m│\u001b[1m A         \u001b[0m\u001b[1m B         \u001b[0m\u001b[1m C         \u001b[0m\u001b[1m D         \u001b[0m\u001b[1m Date       \u001b[0m\n",
      "     │\u001b[90m Float64   \u001b[0m\u001b[90m Float64   \u001b[0m\u001b[90m Float64   \u001b[0m\u001b[90m Float64   \u001b[0m\u001b[90m Date       \u001b[0m\n",
      "─────┼────────────────────────────────────────────────────────\n",
      "   1 │  0.187497   1.12215   -0.988277  -1.98593   2019-05-25\n",
      "   2 │  0.360803  -0.562243  -0.340693  -0.986988  2019-05-26\n",
      "   3 │ -0.040627   0.067333  -0.452978   0.686223  2019-05-27\n",
      "   4 │ -0.279572  -0.702492   0.252265   0.958977  2019-05-28\n",
      "   5 │  0.537438  -1.73757    0.714727  -0.939288  2019-05-29\n",
      "   6 │  0.070011  -0.516443  -1.65569    0.246721  2019-05-30\n",
      "   7 │  0.001268   0.951517   2.10736   -0.108726  2019-05-31\n",
      "   8 │ -0.185258   0.85652   -0.686285   1.1042    2019-06-01\n",
      "   9 │  0.387023   1.70634   -2.45265    0.260466  2019-06-02\n",
      "  10 │ -1.05497    0.556775  -0.945219  -0.030295  2019-06-03\n"
     ]
    }
   ],
   "source": [
    "# print(df.values)\n",
    "println(df[!, :] )"
   ]
  },
  {
   "cell_type": "code",
   "execution_count": 87,
   "metadata": {},
   "outputs": [],
   "source": [
    "using Statistics"
   ]
  },
  {
   "cell_type": "code",
   "execution_count": 90,
   "metadata": {},
   "outputs": [
    {
     "data": {
      "text/html": [
       "<div><div style = \"float: left;\"><span>5×7 DataFrame</span></div><div style = \"clear: both;\"></div></div><div class = \"data-frame\" style = \"overflow-x: scroll;\"><table class = \"data-frame\" style = \"margin-bottom: 6px;\"><thead><tr class = \"header\"><th class = \"rowNumber\" style = \"font-weight: bold; text-align: right;\">Row</th><th style = \"text-align: left;\">variable</th><th style = \"text-align: left;\">mean</th><th style = \"text-align: left;\">min</th><th style = \"text-align: left;\">median</th><th style = \"text-align: left;\">max</th><th style = \"text-align: left;\">nmissing</th><th style = \"text-align: left;\">eltype</th></tr><tr class = \"subheader headerLastRow\"><th class = \"rowNumber\" style = \"font-weight: bold; text-align: right;\"></th><th title = \"Symbol\" style = \"text-align: left;\">Symbol</th><th title = \"Union{Nothing, Float64}\" style = \"text-align: left;\">Union…</th><th title = \"Any\" style = \"text-align: left;\">Any</th><th title = \"Union{Nothing, Float64}\" style = \"text-align: left;\">Union…</th><th title = \"Any\" style = \"text-align: left;\">Any</th><th title = \"Int64\" style = \"text-align: left;\">Int64</th><th title = \"DataType\" style = \"text-align: left;\">DataType</th></tr></thead><tbody><tr><td class = \"rowNumber\" style = \"font-weight: bold; text-align: right;\">1</td><td style = \"text-align: left;\">A</td><td style = \"text-align: left;\">-0.0016391</td><td style = \"text-align: left;\">-1.05497</td><td style = \"text-align: left;\">0.0356395</td><td style = \"text-align: left;\">0.537438</td><td style = \"text-align: right;\">0</td><td style = \"text-align: left;\">Float64</td></tr><tr><td class = \"rowNumber\" style = \"font-weight: bold; text-align: right;\">2</td><td style = \"text-align: left;\">B</td><td style = \"text-align: left;\">0.174188</td><td style = \"text-align: left;\">-1.73757</td><td style = \"text-align: left;\">0.312054</td><td style = \"text-align: left;\">1.70634</td><td style = \"text-align: right;\">0</td><td style = \"text-align: left;\">Float64</td></tr><tr><td class = \"rowNumber\" style = \"font-weight: bold; text-align: right;\">3</td><td style = \"text-align: left;\">C</td><td style = \"text-align: left;\">-0.444744</td><td style = \"text-align: left;\">-2.45265</td><td style = \"text-align: left;\">-0.569632</td><td style = \"text-align: left;\">2.10736</td><td style = \"text-align: right;\">0</td><td style = \"text-align: left;\">Float64</td></tr><tr><td class = \"rowNumber\" style = \"font-weight: bold; text-align: right;\">4</td><td style = \"text-align: left;\">D</td><td style = \"text-align: left;\">-0.0794649</td><td style = \"text-align: left;\">-1.98593</td><td style = \"text-align: left;\">0.108213</td><td style = \"text-align: left;\">1.1042</td><td style = \"text-align: right;\">0</td><td style = \"text-align: left;\">Float64</td></tr><tr><td class = \"rowNumber\" style = \"font-weight: bold; text-align: right;\">5</td><td style = \"text-align: left;\">Date</td><td style = \"font-style: italic; text-align: left;\"></td><td style = \"text-align: left;\">2019-05-25</td><td style = \"font-style: italic; text-align: left;\"></td><td style = \"text-align: left;\">2019-06-03</td><td style = \"text-align: right;\">0</td><td style = \"text-align: left;\">Date</td></tr></tbody></table></div>"
      ],
      "text/latex": [
       "\\begin{tabular}{r|ccccccc}\n",
       "\t& variable & mean & min & median & max & nmissing & eltype\\\\\n",
       "\t\\hline\n",
       "\t& Symbol & Union… & Any & Union… & Any & Int64 & DataType\\\\\n",
       "\t\\hline\n",
       "\t1 & A & -0.0016391 & -1.05497 & 0.0356395 & 0.537438 & 0 & Float64 \\\\\n",
       "\t2 & B & 0.174188 & -1.73757 & 0.312054 & 1.70634 & 0 & Float64 \\\\\n",
       "\t3 & C & -0.444744 & -2.45265 & -0.569632 & 2.10736 & 0 & Float64 \\\\\n",
       "\t4 & D & -0.0794649 & -1.98593 & 0.108213 & 1.1042 & 0 & Float64 \\\\\n",
       "\t5 & Date &  & 2019-05-25 &  & 2019-06-03 & 0 & Date \\\\\n",
       "\\end{tabular}\n"
      ],
      "text/plain": [
       "\u001b[1m5×7 DataFrame\u001b[0m\n",
       "\u001b[1m Row \u001b[0m│\u001b[1m variable \u001b[0m\u001b[1m mean       \u001b[0m\u001b[1m min        \u001b[0m\u001b[1m median    \u001b[0m\u001b[1m max        \u001b[0m\u001b[1m nmissing \u001b[0m\u001b[1m elty\u001b[0m ⋯\n",
       "     │\u001b[90m Symbol   \u001b[0m\u001b[90m Union…     \u001b[0m\u001b[90m Any        \u001b[0m\u001b[90m Union…    \u001b[0m\u001b[90m Any        \u001b[0m\u001b[90m Int64    \u001b[0m\u001b[90m Data\u001b[0m ⋯\n",
       "─────┼──────────────────────────────────────────────────────────────────────────\n",
       "   1 │ A         -0.0016391  -1.05497    0.0356395  0.537438           0  Floa ⋯\n",
       "   2 │ B         0.174188    -1.73757    0.312054   1.70634            0  Floa\n",
       "   3 │ C         -0.444744   -2.45265    -0.569632  2.10736            0  Floa\n",
       "   4 │ D         -0.0794649  -1.98593    0.108213   1.1042             0  Floa\n",
       "   5 │ Date     \u001b[90m            \u001b[0m 2019-05-25 \u001b[90m           \u001b[0m 2019-06-03         0  Date ⋯\n",
       "\u001b[36m                                                                1 column omitted\u001b[0m"
      ]
     },
     "execution_count": 90,
     "metadata": {},
     "output_type": "execute_result"
    }
   ],
   "source": [
    "# print(df.describe())\n",
    "\n",
    "describe(df)\n"
   ]
  },
  {
   "cell_type": "code",
   "execution_count": 91,
   "metadata": {},
   "outputs": [
    {
     "data": {
      "text/html": [
       "<div><div style = \"float: left;\"><span>5×16 DataFrame</span></div><div style = \"clear: both;\"></div></div><div class = \"data-frame\" style = \"overflow-x: scroll;\"><table class = \"data-frame\" style = \"margin-bottom: 6px;\"><thead><tr class = \"header\"><th class = \"rowNumber\" style = \"font-weight: bold; text-align: right;\">Row</th><th style = \"text-align: left;\">variable</th><th style = \"text-align: left;\">mean</th><th style = \"text-align: left;\">std</th><th style = \"text-align: left;\">min</th><th style = \"text-align: left;\">q25</th><th style = \"text-align: left;\">median</th><th style = \"text-align: left;\">q75</th><th style = \"text-align: left;\">max</th><th style = \"text-align: left;\">sum</th><th style = \"text-align: left;\">nunique</th><th style = \"text-align: left;\">nuniqueall</th><th style = \"text-align: left;\">nmissing</th><th style = \"text-align: left;\">nnonmissing</th><th style = \"text-align: left;\">first</th><th style = \"text-align: left;\">last</th><th style = \"text-align: left;\">eltype</th></tr><tr class = \"subheader headerLastRow\"><th class = \"rowNumber\" style = \"font-weight: bold; text-align: right;\"></th><th title = \"Symbol\" style = \"text-align: left;\">Symbol</th><th title = \"Union{Nothing, Float64}\" style = \"text-align: left;\">Union…</th><th title = \"Union{Nothing, Float64}\" style = \"text-align: left;\">Union…</th><th title = \"Any\" style = \"text-align: left;\">Any</th><th title = \"Union{Nothing, Float64}\" style = \"text-align: left;\">Union…</th><th title = \"Union{Nothing, Float64}\" style = \"text-align: left;\">Union…</th><th title = \"Union{Nothing, Float64}\" style = \"text-align: left;\">Union…</th><th title = \"Any\" style = \"text-align: left;\">Any</th><th title = \"Union{Nothing, Float64}\" style = \"text-align: left;\">Union…</th><th title = \"Union{Nothing, Int64}\" style = \"text-align: left;\">Union…</th><th title = \"Int64\" style = \"text-align: left;\">Int64</th><th title = \"Int64\" style = \"text-align: left;\">Int64</th><th title = \"Int64\" style = \"text-align: left;\">Int64</th><th title = \"Any\" style = \"text-align: left;\">Any</th><th title = \"Any\" style = \"text-align: left;\">Any</th><th title = \"DataType\" style = \"text-align: left;\">DataType</th></tr></thead><tbody><tr><td class = \"rowNumber\" style = \"font-weight: bold; text-align: right;\">1</td><td style = \"text-align: left;\">A</td><td style = \"text-align: left;\">-0.0016391</td><td style = \"text-align: left;\">0.451656</td><td style = \"text-align: left;\">-1.05497</td><td style = \"text-align: left;\">-0.1491</td><td style = \"text-align: left;\">0.0356395</td><td style = \"text-align: left;\">0.317476</td><td style = \"text-align: left;\">0.537438</td><td style = \"text-align: left;\">-0.016391</td><td style = \"font-style: italic; text-align: left;\"></td><td style = \"text-align: right;\">10</td><td style = \"text-align: right;\">0</td><td style = \"text-align: right;\">10</td><td style = \"text-align: left;\">0.187497</td><td style = \"text-align: left;\">-1.05497</td><td style = \"text-align: left;\">Float64</td></tr><tr><td class = \"rowNumber\" style = \"font-weight: bold; text-align: right;\">2</td><td style = \"text-align: left;\">B</td><td style = \"text-align: left;\">0.174188</td><td style = \"text-align: left;\">1.04968</td><td style = \"text-align: left;\">-1.73757</td><td style = \"text-align: left;\">-0.550793</td><td style = \"text-align: left;\">0.312054</td><td style = \"text-align: left;\">0.927768</td><td style = \"text-align: left;\">1.70634</td><td style = \"text-align: left;\">1.74188</td><td style = \"font-style: italic; text-align: left;\"></td><td style = \"text-align: right;\">10</td><td style = \"text-align: right;\">0</td><td style = \"text-align: right;\">10</td><td style = \"text-align: left;\">1.12215</td><td style = \"text-align: left;\">0.556775</td><td style = \"text-align: left;\">Float64</td></tr><tr><td class = \"rowNumber\" style = \"font-weight: bold; text-align: right;\">3</td><td style = \"text-align: left;\">C</td><td style = \"text-align: left;\">-0.444744</td><td style = \"text-align: left;\">1.2674</td><td style = \"text-align: left;\">-2.45265</td><td style = \"text-align: left;\">-0.977513</td><td style = \"text-align: left;\">-0.569632</td><td style = \"text-align: left;\">0.104026</td><td style = \"text-align: left;\">2.10736</td><td style = \"text-align: left;\">-4.44744</td><td style = \"font-style: italic; text-align: left;\"></td><td style = \"text-align: right;\">10</td><td style = \"text-align: right;\">0</td><td style = \"text-align: right;\">10</td><td style = \"text-align: left;\">-0.988277</td><td style = \"text-align: left;\">-0.945219</td><td style = \"text-align: left;\">Float64</td></tr><tr><td class = \"rowNumber\" style = \"font-weight: bold; text-align: right;\">4</td><td style = \"text-align: left;\">D</td><td style = \"text-align: left;\">-0.0794649</td><td style = \"text-align: left;\">0.971164</td><td style = \"text-align: left;\">-1.98593</td><td style = \"text-align: left;\">-0.731648</td><td style = \"text-align: left;\">0.108213</td><td style = \"text-align: left;\">0.579784</td><td style = \"text-align: left;\">1.1042</td><td style = \"text-align: left;\">-0.794649</td><td style = \"font-style: italic; text-align: left;\"></td><td style = \"text-align: right;\">10</td><td style = \"text-align: right;\">0</td><td style = \"text-align: right;\">10</td><td style = \"text-align: left;\">-1.98593</td><td style = \"text-align: left;\">-0.030295</td><td style = \"text-align: left;\">Float64</td></tr><tr><td class = \"rowNumber\" style = \"font-weight: bold; text-align: right;\">5</td><td style = \"text-align: left;\">Date</td><td style = \"font-style: italic; text-align: left;\"></td><td style = \"font-style: italic; text-align: left;\"></td><td style = \"text-align: left;\">2019-05-25</td><td style = \"font-style: italic; text-align: left;\"></td><td style = \"font-style: italic; text-align: left;\"></td><td style = \"font-style: italic; text-align: left;\"></td><td style = \"text-align: left;\">2019-06-03</td><td style = \"font-style: italic; text-align: left;\"></td><td style = \"text-align: left;\">10</td><td style = \"text-align: right;\">10</td><td style = \"text-align: right;\">0</td><td style = \"text-align: right;\">10</td><td style = \"text-align: left;\">2019-05-25</td><td style = \"text-align: left;\">2019-06-03</td><td style = \"text-align: left;\">Date</td></tr></tbody></table></div>"
      ],
      "text/latex": [
       "\\begin{tabular}{r|ccccccccc}\n",
       "\t& variable & mean & std & min & q25 & median & q75 & max & \\\\\n",
       "\t\\hline\n",
       "\t& Symbol & Union… & Union… & Any & Union… & Union… & Union… & Any & \\\\\n",
       "\t\\hline\n",
       "\t1 & A & -0.0016391 & 0.451656 & -1.05497 & -0.1491 & 0.0356395 & 0.317476 & 0.537438 & $\\dots$ \\\\\n",
       "\t2 & B & 0.174188 & 1.04968 & -1.73757 & -0.550793 & 0.312054 & 0.927768 & 1.70634 & $\\dots$ \\\\\n",
       "\t3 & C & -0.444744 & 1.2674 & -2.45265 & -0.977513 & -0.569632 & 0.104026 & 2.10736 & $\\dots$ \\\\\n",
       "\t4 & D & -0.0794649 & 0.971164 & -1.98593 & -0.731648 & 0.108213 & 0.579784 & 1.1042 & $\\dots$ \\\\\n",
       "\t5 & Date &  &  & 2019-05-25 &  &  &  & 2019-06-03 & $\\dots$ \\\\\n",
       "\\end{tabular}\n"
      ],
      "text/plain": [
       "\u001b[1m5×16 DataFrame\u001b[0m\n",
       "\u001b[1m Row \u001b[0m│\u001b[1m variable \u001b[0m\u001b[1m mean       \u001b[0m\u001b[1m std      \u001b[0m\u001b[1m min        \u001b[0m\u001b[1m q25       \u001b[0m\u001b[1m median    \u001b[0m\u001b[1m q75  \u001b[0m ⋯\n",
       "     │\u001b[90m Symbol   \u001b[0m\u001b[90m Union…     \u001b[0m\u001b[90m Union…   \u001b[0m\u001b[90m Any        \u001b[0m\u001b[90m Union…    \u001b[0m\u001b[90m Union…    \u001b[0m\u001b[90m Union\u001b[0m ⋯\n",
       "─────┼──────────────────────────────────────────────────────────────────────────\n",
       "   1 │ A         -0.0016391  0.451656  -1.05497    -0.1491    0.0356395  0.317 ⋯\n",
       "   2 │ B         0.174188    1.04968   -1.73757    -0.550793  0.312054   0.927\n",
       "   3 │ C         -0.444744   1.2674    -2.45265    -0.977513  -0.569632  0.104\n",
       "   4 │ D         -0.0794649  0.971164  -1.98593    -0.731648  0.108213   0.579\n",
       "   5 │ Date     \u001b[90m            \u001b[0m\u001b[90m          \u001b[0m 2019-05-25 \u001b[90m           \u001b[0m\u001b[90m           \u001b[0m\u001b[90m      \u001b[0m ⋯\n",
       "\u001b[36m                                                              10 columns omitted\u001b[0m"
      ]
     },
     "execution_count": 91,
     "metadata": {},
     "output_type": "execute_result"
    }
   ],
   "source": [
    "describe(df, :all)\n"
   ]
  },
  {
   "cell_type": "code",
   "execution_count": 96,
   "metadata": {},
   "outputs": [
    {
     "name": "stdout",
     "output_type": "stream",
     "text": [
      "\u001b[1m1×4 DataFrame\u001b[0m\n",
      "\u001b[1m Row \u001b[0m│\u001b[1m A          \u001b[0m\u001b[1m B        \u001b[0m\u001b[1m C         \u001b[0m\u001b[1m D          \u001b[0m\n",
      "     │\u001b[90m Float64    \u001b[0m\u001b[90m Float64  \u001b[0m\u001b[90m Float64   \u001b[0m\u001b[90m Float64    \u001b[0m\n",
      "─────┼─────────────────────────────────────────────\n",
      "   1 │ -0.0016391  0.174188  -0.444744  -0.0794649\n"
     ]
    }
   ],
   "source": [
    "# print(df.mean(0))    # 0 means compute the mean for each columns\n",
    "means = mapcols(mean, select(df, names(df, Number)))  # Compute mean for each numeric column, skipping missing values\n",
    "\n",
    "println(means)"
   ]
  },
  {
   "cell_type": "code",
   "execution_count": 98,
   "metadata": {},
   "outputs": [
    {
     "name": "stdout",
     "output_type": "stream",
     "text": [
      "[-0.416141, -0.38228025, 0.06498775000000001, 0.05729449999999997, -0.35617275000000004, -0.46385, 0.73785475, 0.272293, -0.024707000000000062, -0.36842825]\n"
     ]
    }
   ],
   "source": [
    "# print(df.mean(1))   # 1 means compute the mean for each row\n",
    "println(mean.(eachrow(select(df, names(df, Number)))))"
   ]
  },
  {
   "cell_type": "markdown",
   "metadata": {
    "collapsed": true,
    "jupyter": {
     "outputs_hidden": true
    }
   },
   "source": [
    "## Extracting from DataFrames"
   ]
  },
  {
   "cell_type": "markdown",
   "metadata": {
    "collapsed": true,
    "jupyter": {
     "outputs_hidden": true
    }
   },
   "source": [
    "### Selecting the First and Last Five Rows"
   ]
  },
  {
   "cell_type": "code",
   "execution_count": 20,
   "metadata": {},
   "outputs": [
    {
     "name": "stdout",
     "output_type": "stream",
     "text": [
      "                   A         B         C         D\n",
      "2019-05-25  0.187497  1.122150 -0.988277 -1.985934\n",
      "2019-05-26  0.360803 -0.562243 -0.340693 -0.986988\n",
      "2019-05-27 -0.040627  0.067333 -0.452978  0.686223\n",
      "2019-05-28 -0.279572 -0.702492  0.252265  0.958977\n",
      "2019-05-29  0.537438 -1.737568  0.714727 -0.939288\n"
     ]
    }
   ],
   "source": [
    "print(df.head())\n"
   ]
  },
  {
   "cell_type": "code",
   "execution_count": 21,
   "metadata": {},
   "outputs": [
    {
     "name": "stdout",
     "output_type": "stream",
     "text": [
      "                   A         B         C         D\n",
      "2019-05-25  0.187497  1.122150 -0.988277 -1.985934\n",
      "2019-05-26  0.360803 -0.562243 -0.340693 -0.986988\n",
      "2019-05-27 -0.040627  0.067333 -0.452978  0.686223\n",
      "2019-05-28 -0.279572 -0.702492  0.252265  0.958977\n",
      "2019-05-29  0.537438 -1.737568  0.714727 -0.939288\n",
      "2019-05-30  0.070011 -0.516443 -1.655689  0.246721\n",
      "2019-05-31  0.001268  0.951517  2.107360 -0.108726\n",
      "2019-06-01 -0.185258  0.856520 -0.686285  1.104195\n"
     ]
    }
   ],
   "source": [
    "print(df.head(8))     # prints out the first 8 rows\n"
   ]
  },
  {
   "cell_type": "code",
   "execution_count": 22,
   "metadata": {},
   "outputs": [
    {
     "name": "stdout",
     "output_type": "stream",
     "text": [
      "                   A         B         C         D\n",
      "2019-05-30  0.070011 -0.516443 -1.655689  0.246721\n",
      "2019-05-31  0.001268  0.951517  2.107360 -0.108726\n",
      "2019-06-01 -0.185258  0.856520 -0.686285  1.104195\n",
      "2019-06-02  0.387023  1.706336 -2.452653  0.260466\n",
      "2019-06-03 -1.054974  0.556775 -0.945219 -0.030295\n"
     ]
    }
   ],
   "source": [
    "print(df.tail())\n"
   ]
  },
  {
   "cell_type": "code",
   "execution_count": 23,
   "metadata": {},
   "outputs": [
    {
     "name": "stdout",
     "output_type": "stream",
     "text": [
      "                   A         B         C         D\n",
      "2019-05-27 -0.040627  0.067333 -0.452978  0.686223\n",
      "2019-05-28 -0.279572 -0.702492  0.252265  0.958977\n",
      "2019-05-29  0.537438 -1.737568  0.714727 -0.939288\n",
      "2019-05-30  0.070011 -0.516443 -1.655689  0.246721\n",
      "2019-05-31  0.001268  0.951517  2.107360 -0.108726\n",
      "2019-06-01 -0.185258  0.856520 -0.686285  1.104195\n",
      "2019-06-02  0.387023  1.706336 -2.452653  0.260466\n",
      "2019-06-03 -1.054974  0.556775 -0.945219 -0.030295\n"
     ]
    }
   ],
   "source": [
    "print(df.tail(8))     # prints out the last 8 rows\n"
   ]
  },
  {
   "cell_type": "markdown",
   "metadata": {
    "collapsed": true,
    "jupyter": {
     "outputs_hidden": true
    }
   },
   "source": [
    "### Selecting a Specific Column in a DataFrame"
   ]
  },
  {
   "cell_type": "code",
   "execution_count": 24,
   "metadata": {},
   "outputs": [
    {
     "name": "stdout",
     "output_type": "stream",
     "text": [
      "2019-05-25    0.187497\n",
      "2019-05-26    0.360803\n",
      "2019-05-27   -0.040627\n",
      "2019-05-28   -0.279572\n",
      "2019-05-29    0.537438\n",
      "2019-05-30    0.070011\n",
      "2019-05-31    0.001268\n",
      "2019-06-01   -0.185258\n",
      "2019-06-02    0.387023\n",
      "2019-06-03   -1.054974\n",
      "Freq: D, Name: A, dtype: float64\n",
      "2019-05-25    0.187497\n",
      "2019-05-26    0.360803\n",
      "2019-05-27   -0.040627\n",
      "2019-05-28   -0.279572\n",
      "2019-05-29    0.537438\n",
      "2019-05-30    0.070011\n",
      "2019-05-31    0.001268\n",
      "2019-06-01   -0.185258\n",
      "2019-06-02    0.387023\n",
      "2019-06-03   -1.054974\n",
      "Freq: D, Name: A, dtype: float64\n"
     ]
    }
   ],
   "source": [
    "print(df['A'])\n",
    "# same as\n",
    "print(df.A)\n"
   ]
  },
  {
   "cell_type": "code",
   "execution_count": 25,
   "metadata": {},
   "outputs": [
    {
     "name": "stdout",
     "output_type": "stream",
     "text": [
      "                   A         B\n",
      "2019-05-25  0.187497  1.122150\n",
      "2019-05-26  0.360803 -0.562243\n",
      "2019-05-27 -0.040627  0.067333\n",
      "2019-05-28 -0.279572 -0.702492\n",
      "2019-05-29  0.537438 -1.737568\n",
      "2019-05-30  0.070011 -0.516443\n",
      "2019-05-31  0.001268  0.951517\n",
      "2019-06-01 -0.185258  0.856520\n",
      "2019-06-02  0.387023  1.706336\n",
      "2019-06-03 -1.054974  0.556775\n"
     ]
    }
   ],
   "source": [
    "print(df[['A', 'B']])\n"
   ]
  },
  {
   "cell_type": "markdown",
   "metadata": {},
   "source": [
    "### Slicing Based on Row Number"
   ]
  },
  {
   "cell_type": "code",
   "execution_count": 26,
   "metadata": {},
   "outputs": [
    {
     "name": "stdout",
     "output_type": "stream",
     "text": [
      "                   A         B         C         D\n",
      "2019-05-27 -0.040627  0.067333 -0.452978  0.686223\n",
      "2019-05-28 -0.279572 -0.702492  0.252265  0.958977\n"
     ]
    }
   ],
   "source": [
    "print(df[2:4])\n"
   ]
  },
  {
   "cell_type": "code",
   "execution_count": 27,
   "metadata": {},
   "outputs": [
    {
     "name": "stdout",
     "output_type": "stream",
     "text": [
      "                   A         B         C         D\n",
      "2019-05-27 -0.040627  0.067333 -0.452978  0.686223\n",
      "2019-05-28 -0.279572 -0.702492  0.252265  0.958977\n"
     ]
    }
   ],
   "source": [
    "print(df.iloc[2:4])      # 2 rows\n"
   ]
  },
  {
   "cell_type": "code",
   "execution_count": 28,
   "metadata": {},
   "outputs": [
    {
     "name": "stdout",
     "output_type": "stream",
     "text": [
      "                   A         B         C         D\n",
      "2019-05-27 -0.040627  0.067333 -0.452978  0.686223\n",
      "2019-05-28 -0.279572 -0.702492  0.252265  0.958977\n",
      "2019-05-29  0.537438 -1.737568  0.714727 -0.939288\n"
     ]
    }
   ],
   "source": [
    "print(df.iloc[2:5])      # 3 rows\n"
   ]
  },
  {
   "cell_type": "code",
   "execution_count": 29,
   "metadata": {},
   "outputs": [
    {
     "name": "stdout",
     "output_type": "stream",
     "text": [
      "                   A         B         C         D\n",
      "2019-05-27 -0.040627  0.067333 -0.452978  0.686223\n",
      "2019-05-29  0.537438 -1.737568  0.714727 -0.939288\n"
     ]
    }
   ],
   "source": [
    "print(df.iloc[[2,4]])    # 2 rows\n"
   ]
  },
  {
   "cell_type": "code",
   "execution_count": 30,
   "metadata": {},
   "outputs": [
    {
     "name": "stdout",
     "output_type": "stream",
     "text": [
      "A   -0.040627\n",
      "B    0.067333\n",
      "C   -0.452978\n",
      "D    0.686223\n",
      "Name: 2019-05-27 00:00:00, dtype: float64\n"
     ]
    }
   ],
   "source": [
    "# print(df[[2,4]])   # error; need to use the iloc indexer\n",
    "print(df.iloc[2])    # prints out row number 2\n"
   ]
  },
  {
   "cell_type": "markdown",
   "metadata": {},
   "source": [
    "### Slicing Based on Row and Column Numbers"
   ]
  },
  {
   "cell_type": "code",
   "execution_count": 31,
   "metadata": {},
   "outputs": [
    {
     "name": "stdout",
     "output_type": "stream",
     "text": [
      "                   B         C         D\n",
      "2019-05-27  0.067333 -0.452978  0.686223\n",
      "2019-05-28 -0.702492  0.252265  0.958977\n"
     ]
    }
   ],
   "source": [
    "print(df.iloc[2:4, 1:4])        # 2 rows, 3 columns\n"
   ]
  },
  {
   "cell_type": "code",
   "execution_count": 32,
   "metadata": {},
   "outputs": [
    {
     "name": "stdout",
     "output_type": "stream",
     "text": [
      "                   B         D\n",
      "2019-05-27  0.067333  0.686223\n",
      "2019-05-29 -1.737568 -0.939288\n"
     ]
    }
   ],
   "source": [
    "print(df.iloc[[2,4], [1,3]])    # 2 rows, 2 columns\n"
   ]
  },
  {
   "cell_type": "markdown",
   "metadata": {
    "editable": true,
    "slideshow": {
     "slide_type": ""
    },
    "tags": []
   },
   "source": [
    "### Slicing Based on Labels"
   ]
  },
  {
   "cell_type": "code",
   "execution_count": 33,
   "metadata": {},
   "outputs": [
    {
     "name": "stdout",
     "output_type": "stream",
     "text": [
      "                   A         B         C         D\n",
      "2019-06-01 -0.185258  0.856520 -0.686285  1.104195\n",
      "2019-06-02  0.387023  1.706336 -2.452653  0.260466\n",
      "2019-06-03 -1.054974  0.556775 -0.945219 -0.030295\n"
     ]
    }
   ],
   "source": [
    "print(df['20190601':'20190603'])\n"
   ]
  },
  {
   "cell_type": "code",
   "execution_count": 34,
   "metadata": {},
   "outputs": [
    {
     "name": "stdout",
     "output_type": "stream",
     "text": [
      "                   A         B         C         D\n",
      "2019-06-01 -0.185258  0.856520 -0.686285  1.104195\n",
      "2019-06-02  0.387023  1.706336 -2.452653  0.260466\n",
      "2019-06-03 -1.054974  0.556775 -0.945219 -0.030295\n"
     ]
    }
   ],
   "source": [
    "print(df.loc['20190601':'20190603'])\n"
   ]
  },
  {
   "cell_type": "code",
   "execution_count": 35,
   "metadata": {},
   "outputs": [
    {
     "name": "stdout",
     "output_type": "stream",
     "text": [
      "                   A         B         C\n",
      "2019-06-01 -0.185258  0.856520 -0.686285\n",
      "2019-06-02  0.387023  1.706336 -2.452653\n",
      "2019-06-03 -1.054974  0.556775 -0.945219\n"
     ]
    }
   ],
   "source": [
    "print(df.loc['20190601':'20190603', 'A':'C'])\n"
   ]
  },
  {
   "cell_type": "code",
   "execution_count": 36,
   "metadata": {},
   "outputs": [
    {
     "name": "stdout",
     "output_type": "stream",
     "text": [
      "                   A         C\n",
      "2019-06-01 -0.185258 -0.686285\n",
      "2019-06-02  0.387023 -2.452653\n",
      "2019-06-03 -1.054974 -0.945219\n"
     ]
    }
   ],
   "source": [
    "print(df.loc['20190601':'20190603', ['A','C']])\n"
   ]
  },
  {
   "cell_type": "code",
   "execution_count": 37,
   "metadata": {},
   "outputs": [
    {
     "name": "stdout",
     "output_type": "stream",
     "text": [
      "A   -0.185258\n",
      "B    0.856520\n",
      "C   -0.686285\n",
      "D    1.104195\n",
      "Name: 2019-06-01 00:00:00, dtype: float64\n"
     ]
    }
   ],
   "source": [
    "print(df.loc['20190601'])\n"
   ]
  },
  {
   "cell_type": "code",
   "execution_count": 38,
   "metadata": {},
   "outputs": [],
   "source": [
    "# print(df.loc[['20190601','20190603']])   # KeyError\n"
   ]
  },
  {
   "cell_type": "code",
   "execution_count": 39,
   "metadata": {},
   "outputs": [
    {
     "name": "stdout",
     "output_type": "stream",
     "text": [
      "                   A         B         C         D\n",
      "2019-06-01 -0.185258  0.856520 -0.686285  1.104195\n",
      "2019-06-03 -1.054974  0.556775 -0.945219 -0.030295\n"
     ]
    }
   ],
   "source": [
    "from datetime import datetime\n",
    "date1 = datetime(2019, 6, 1, 0, 0, 0)\n",
    "date2 = datetime(2019, 6, 3, 0, 0, 0)\n",
    "print(df.loc[[date1,date2]])\n"
   ]
  },
  {
   "cell_type": "code",
   "execution_count": 40,
   "metadata": {},
   "outputs": [
    {
     "name": "stdout",
     "output_type": "stream",
     "text": [
      "A   -0.185258\n",
      "C   -0.686285\n",
      "Name: 2019-06-01 00:00:00, dtype: float64\n"
     ]
    }
   ],
   "source": [
    "print(df.loc[date1, ['A','C']])\n"
   ]
  },
  {
   "cell_type": "markdown",
   "metadata": {
    "collapsed": true,
    "jupyter": {
     "outputs_hidden": true
    }
   },
   "source": [
    "## Selecting a Single Cell in a DataFrame"
   ]
  },
  {
   "cell_type": "code",
   "execution_count": 41,
   "metadata": {},
   "outputs": [
    {
     "name": "stdout",
     "output_type": "stream",
     "text": [
      "0.556775\n"
     ]
    }
   ],
   "source": [
    "from datetime import datetime\n",
    "d = datetime(2019, 6, 3, 0, 0, 0)\n",
    "print(df.at[d,'B'])\n"
   ]
  },
  {
   "cell_type": "markdown",
   "metadata": {},
   "source": [
    "## Selecting Based on Cell Value"
   ]
  },
  {
   "cell_type": "code",
   "execution_count": 42,
   "metadata": {},
   "outputs": [
    {
     "name": "stdout",
     "output_type": "stream",
     "text": [
      "                   A         B         C         D\n",
      "2019-05-25  0.187497  1.122150 -0.988277 -1.985934\n",
      "2019-05-31  0.001268  0.951517  2.107360 -0.108726\n",
      "2019-06-02  0.387023  1.706336 -2.452653  0.260466\n"
     ]
    }
   ],
   "source": [
    "print(df[(df.A > 0) & (df.B>0)])\n"
   ]
  },
  {
   "cell_type": "markdown",
   "metadata": {},
   "source": [
    "## Transforming DataFrames"
   ]
  },
  {
   "cell_type": "code",
   "execution_count": 43,
   "metadata": {},
   "outputs": [
    {
     "name": "stdout",
     "output_type": "stream",
     "text": [
      "   2019-05-25  2019-05-26  2019-05-27  2019-05-28  2019-05-29  2019-05-30  \\\n",
      "A    0.187497    0.360803   -0.040627   -0.279572    0.537438    0.070011   \n",
      "B    1.122150   -0.562243    0.067333   -0.702492   -1.737568   -0.516443   \n",
      "C   -0.988277   -0.340693   -0.452978    0.252265    0.714727   -1.655689   \n",
      "D   -1.985934   -0.986988    0.686223    0.958977   -0.939288    0.246721   \n",
      "\n",
      "   2019-05-31  2019-06-01  2019-06-02  2019-06-03  \n",
      "A    0.001268   -0.185258    0.387023   -1.054974  \n",
      "B    0.951517    0.856520    1.706336    0.556775  \n",
      "C    2.107360   -0.686285   -2.452653   -0.945219  \n",
      "D   -0.108726    1.104195    0.260466   -0.030295  \n"
     ]
    }
   ],
   "source": [
    "print(df.transpose())\n"
   ]
  },
  {
   "cell_type": "code",
   "execution_count": 44,
   "metadata": {},
   "outputs": [
    {
     "name": "stdout",
     "output_type": "stream",
     "text": [
      "   2019-05-25  2019-05-26  2019-05-27  2019-05-28  2019-05-29  2019-05-30  \\\n",
      "A    0.187497    0.360803   -0.040627   -0.279572    0.537438    0.070011   \n",
      "B    1.122150   -0.562243    0.067333   -0.702492   -1.737568   -0.516443   \n",
      "C   -0.988277   -0.340693   -0.452978    0.252265    0.714727   -1.655689   \n",
      "D   -1.985934   -0.986988    0.686223    0.958977   -0.939288    0.246721   \n",
      "\n",
      "   2019-05-31  2019-06-01  2019-06-02  2019-06-03  \n",
      "A    0.001268   -0.185258    0.387023   -1.054974  \n",
      "B    0.951517    0.856520    1.706336    0.556775  \n",
      "C    2.107360   -0.686285   -2.452653   -0.945219  \n",
      "D   -0.108726    1.104195    0.260466   -0.030295  \n"
     ]
    }
   ],
   "source": [
    "print(df.T)\n"
   ]
  },
  {
   "cell_type": "code",
   "execution_count": 45,
   "metadata": {},
   "outputs": [],
   "source": [
    "def checkSeriesOrDataframe(var):\n",
    "    if isinstance(var, pd.DataFrame):\n",
    "        return 'Dataframe'\n",
    "    if isinstance(var, pd.Series):\n",
    "        return 'Series'\n"
   ]
  },
  {
   "cell_type": "markdown",
   "metadata": {},
   "source": [
    "## Sorting Data in a DataFrame"
   ]
  },
  {
   "cell_type": "markdown",
   "metadata": {},
   "source": [
    "### Sorting by Index"
   ]
  },
  {
   "cell_type": "code",
   "execution_count": 46,
   "metadata": {},
   "outputs": [
    {
     "name": "stdout",
     "output_type": "stream",
     "text": [
      "                   A         B         C         D\n",
      "2019-06-03 -1.054974  0.556775 -0.945219 -0.030295\n",
      "2019-06-02  0.387023  1.706336 -2.452653  0.260466\n",
      "2019-06-01 -0.185258  0.856520 -0.686285  1.104195\n",
      "2019-05-31  0.001268  0.951517  2.107360 -0.108726\n",
      "2019-05-30  0.070011 -0.516443 -1.655689  0.246721\n",
      "2019-05-29  0.537438 -1.737568  0.714727 -0.939288\n",
      "2019-05-28 -0.279572 -0.702492  0.252265  0.958977\n",
      "2019-05-27 -0.040627  0.067333 -0.452978  0.686223\n",
      "2019-05-26  0.360803 -0.562243 -0.340693 -0.986988\n",
      "2019-05-25  0.187497  1.122150 -0.988277 -1.985934\n"
     ]
    }
   ],
   "source": [
    "print(df.sort_index(axis=0, ascending=False))  # axis = 0 means sort by\n",
    "                                               # index\n"
   ]
  },
  {
   "cell_type": "code",
   "execution_count": 47,
   "metadata": {},
   "outputs": [
    {
     "name": "stdout",
     "output_type": "stream",
     "text": [
      "                   D         C         B         A\n",
      "2019-05-25 -1.985934 -0.988277  1.122150  0.187497\n",
      "2019-05-26 -0.986988 -0.340693 -0.562243  0.360803\n",
      "2019-05-27  0.686223 -0.452978  0.067333 -0.040627\n",
      "2019-05-28  0.958977  0.252265 -0.702492 -0.279572\n",
      "2019-05-29 -0.939288  0.714727 -1.737568  0.537438\n",
      "2019-05-30  0.246721 -1.655689 -0.516443  0.070011\n",
      "2019-05-31 -0.108726  2.107360  0.951517  0.001268\n",
      "2019-06-01  1.104195 -0.686285  0.856520 -0.185258\n",
      "2019-06-02  0.260466 -2.452653  1.706336  0.387023\n",
      "2019-06-03 -0.030295 -0.945219  0.556775 -1.054974\n"
     ]
    }
   ],
   "source": [
    "print(df.sort_index(axis=1, ascending=False))  # axis = 1 means sort by\n",
    "                                               # column\n"
   ]
  },
  {
   "cell_type": "markdown",
   "metadata": {},
   "source": [
    "### Sorting by Value"
   ]
  },
  {
   "cell_type": "code",
   "execution_count": 48,
   "metadata": {},
   "outputs": [
    {
     "name": "stdout",
     "output_type": "stream",
     "text": [
      "                   A         B         C         D\n",
      "2019-06-03 -1.054974  0.556775 -0.945219 -0.030295\n",
      "2019-05-28 -0.279572 -0.702492  0.252265  0.958977\n",
      "2019-06-01 -0.185258  0.856520 -0.686285  1.104195\n",
      "2019-05-27 -0.040627  0.067333 -0.452978  0.686223\n",
      "2019-05-31  0.001268  0.951517  2.107360 -0.108726\n",
      "2019-05-30  0.070011 -0.516443 -1.655689  0.246721\n",
      "2019-05-25  0.187497  1.122150 -0.988277 -1.985934\n",
      "2019-05-26  0.360803 -0.562243 -0.340693 -0.986988\n",
      "2019-06-02  0.387023  1.706336 -2.452653  0.260466\n",
      "2019-05-29  0.537438 -1.737568  0.714727 -0.939288\n"
     ]
    }
   ],
   "source": [
    "print(df.sort_values('A', axis=0))\n"
   ]
  },
  {
   "cell_type": "code",
   "execution_count": 49,
   "metadata": {},
   "outputs": [
    {
     "name": "stdout",
     "output_type": "stream",
     "text": [
      "                   C         A         B         D\n",
      "2019-05-25 -0.988277  0.187497  1.122150 -1.985934\n",
      "2019-05-26 -0.340693  0.360803 -0.562243 -0.986988\n",
      "2019-05-27 -0.452978 -0.040627  0.067333  0.686223\n",
      "2019-05-28  0.252265 -0.279572 -0.702492  0.958977\n",
      "2019-05-29  0.714727  0.537438 -1.737568 -0.939288\n",
      "2019-05-30 -1.655689  0.070011 -0.516443  0.246721\n",
      "2019-05-31  2.107360  0.001268  0.951517 -0.108726\n",
      "2019-06-01 -0.686285 -0.185258  0.856520  1.104195\n",
      "2019-06-02 -2.452653  0.387023  1.706336  0.260466\n",
      "2019-06-03 -0.945219 -1.054974  0.556775 -0.030295\n"
     ]
    }
   ],
   "source": [
    "print(df.sort_values('20190601', axis=1))\n"
   ]
  },
  {
   "cell_type": "markdown",
   "metadata": {},
   "source": [
    "## Applying Functions to a DataFrame"
   ]
  },
  {
   "cell_type": "code",
   "execution_count": 50,
   "metadata": {},
   "outputs": [],
   "source": [
    "import math\n",
    "sq_root = lambda x: math.sqrt(x) if x > 0 else x\n",
    "sq      = lambda x: x**2\n"
   ]
  },
  {
   "cell_type": "code",
   "execution_count": 51,
   "metadata": {},
   "outputs": [
    {
     "name": "stdout",
     "output_type": "stream",
     "text": [
      "2019-05-25    1.059316\n",
      "2019-05-26   -0.562243\n",
      "2019-05-27    0.259486\n",
      "2019-05-28   -0.702492\n",
      "2019-05-29   -1.737568\n",
      "2019-05-30   -0.516443\n",
      "2019-05-31    0.975457\n",
      "2019-06-01    0.925484\n",
      "2019-06-02    1.306268\n",
      "2019-06-03    0.746174\n",
      "Freq: D, Name: B, dtype: float64\n"
     ]
    }
   ],
   "source": [
    "print(df.B.apply(sq_root))\n"
   ]
  },
  {
   "cell_type": "code",
   "execution_count": 52,
   "metadata": {},
   "outputs": [
    {
     "name": "stdout",
     "output_type": "stream",
     "text": [
      "2019-05-25    1.259221\n",
      "2019-05-26    0.316117\n",
      "2019-05-27    0.004534\n",
      "2019-05-28    0.493495\n",
      "2019-05-29    3.019143\n",
      "2019-05-30    0.266713\n",
      "2019-05-31    0.905385\n",
      "2019-06-01    0.733627\n",
      "2019-06-02    2.911583\n",
      "2019-06-03    0.309998\n",
      "Freq: D, Name: B, dtype: float64\n"
     ]
    }
   ],
   "source": [
    "print(df.B.apply(sq))\n"
   ]
  },
  {
   "cell_type": "code",
   "execution_count": 53,
   "metadata": {},
   "outputs": [],
   "source": [
    "# df.apply(sq_root)    # ValueError\n"
   ]
  },
  {
   "cell_type": "code",
   "execution_count": 54,
   "metadata": {},
   "outputs": [
    {
     "data": {
      "text/html": [
       "<div>\n",
       "<style scoped>\n",
       "    .dataframe tbody tr th:only-of-type {\n",
       "        vertical-align: middle;\n",
       "    }\n",
       "\n",
       "    .dataframe tbody tr th {\n",
       "        vertical-align: top;\n",
       "    }\n",
       "\n",
       "    .dataframe thead th {\n",
       "        text-align: right;\n",
       "    }\n",
       "</style>\n",
       "<table border=\"1\" class=\"dataframe\">\n",
       "  <thead>\n",
       "    <tr style=\"text-align: right;\">\n",
       "      <th></th>\n",
       "      <th>A</th>\n",
       "      <th>B</th>\n",
       "      <th>C</th>\n",
       "      <th>D</th>\n",
       "    </tr>\n",
       "  </thead>\n",
       "  <tbody>\n",
       "    <tr>\n",
       "      <th>2019-05-25</th>\n",
       "      <td>0.035155</td>\n",
       "      <td>1.259221</td>\n",
       "      <td>0.976691</td>\n",
       "      <td>3.943934</td>\n",
       "    </tr>\n",
       "    <tr>\n",
       "      <th>2019-05-26</th>\n",
       "      <td>0.130179</td>\n",
       "      <td>0.316117</td>\n",
       "      <td>0.116072</td>\n",
       "      <td>0.974145</td>\n",
       "    </tr>\n",
       "    <tr>\n",
       "      <th>2019-05-27</th>\n",
       "      <td>0.001651</td>\n",
       "      <td>0.004534</td>\n",
       "      <td>0.205189</td>\n",
       "      <td>0.470902</td>\n",
       "    </tr>\n",
       "    <tr>\n",
       "      <th>2019-05-28</th>\n",
       "      <td>0.078161</td>\n",
       "      <td>0.493495</td>\n",
       "      <td>0.063638</td>\n",
       "      <td>0.919637</td>\n",
       "    </tr>\n",
       "    <tr>\n",
       "      <th>2019-05-29</th>\n",
       "      <td>0.288840</td>\n",
       "      <td>3.019143</td>\n",
       "      <td>0.510835</td>\n",
       "      <td>0.882262</td>\n",
       "    </tr>\n",
       "    <tr>\n",
       "      <th>2019-05-30</th>\n",
       "      <td>0.004902</td>\n",
       "      <td>0.266713</td>\n",
       "      <td>2.741306</td>\n",
       "      <td>0.060871</td>\n",
       "    </tr>\n",
       "    <tr>\n",
       "      <th>2019-05-31</th>\n",
       "      <td>0.000002</td>\n",
       "      <td>0.905385</td>\n",
       "      <td>4.440966</td>\n",
       "      <td>0.011821</td>\n",
       "    </tr>\n",
       "    <tr>\n",
       "      <th>2019-06-01</th>\n",
       "      <td>0.034321</td>\n",
       "      <td>0.733627</td>\n",
       "      <td>0.470987</td>\n",
       "      <td>1.219247</td>\n",
       "    </tr>\n",
       "    <tr>\n",
       "      <th>2019-06-02</th>\n",
       "      <td>0.149787</td>\n",
       "      <td>2.911583</td>\n",
       "      <td>6.015507</td>\n",
       "      <td>0.067843</td>\n",
       "    </tr>\n",
       "    <tr>\n",
       "      <th>2019-06-03</th>\n",
       "      <td>1.112970</td>\n",
       "      <td>0.309998</td>\n",
       "      <td>0.893439</td>\n",
       "      <td>0.000918</td>\n",
       "    </tr>\n",
       "  </tbody>\n",
       "</table>\n",
       "</div>"
      ],
      "text/plain": [
       "                   A         B         C         D\n",
       "2019-05-25  0.035155  1.259221  0.976691  3.943934\n",
       "2019-05-26  0.130179  0.316117  0.116072  0.974145\n",
       "2019-05-27  0.001651  0.004534  0.205189  0.470902\n",
       "2019-05-28  0.078161  0.493495  0.063638  0.919637\n",
       "2019-05-29  0.288840  3.019143  0.510835  0.882262\n",
       "2019-05-30  0.004902  0.266713  2.741306  0.060871\n",
       "2019-05-31  0.000002  0.905385  4.440966  0.011821\n",
       "2019-06-01  0.034321  0.733627  0.470987  1.219247\n",
       "2019-06-02  0.149787  2.911583  6.015507  0.067843\n",
       "2019-06-03  1.112970  0.309998  0.893439  0.000918"
      ]
     },
     "execution_count": 54,
     "metadata": {},
     "output_type": "execute_result"
    }
   ],
   "source": [
    "df.apply(sq)    \n"
   ]
  },
  {
   "cell_type": "code",
   "execution_count": 55,
   "metadata": {},
   "outputs": [
    {
     "name": "stdout",
     "output_type": "stream",
     "text": [
      "                   A         B         C         D\n",
      "2019-05-25  0.433009  1.059316 -0.988277 -1.985934\n",
      "2019-05-26  0.600669 -0.562243 -0.340693 -0.986988\n",
      "2019-05-27 -0.040627  0.259486 -0.452978  0.828386\n",
      "2019-05-28 -0.279572 -0.702492  0.502260  0.979274\n",
      "2019-05-29  0.733102 -1.737568  0.845415 -0.939288\n",
      "2019-05-30  0.264596 -0.516443 -1.655689  0.496710\n",
      "2019-05-31  0.035609  0.975457  1.451675 -0.108726\n",
      "2019-06-01 -0.185258  0.925484 -0.686285  1.050807\n",
      "2019-06-02  0.622112  1.306268 -2.452653  0.510359\n",
      "2019-06-03 -1.054974  0.746174 -0.945219 -0.030295\n"
     ]
    }
   ],
   "source": [
    "for column in df:\n",
    "    df[column] = df[column].apply(sq_root)\n",
    "print(df)\n"
   ]
  },
  {
   "cell_type": "code",
   "execution_count": 56,
   "metadata": {},
   "outputs": [
    {
     "name": "stdout",
     "output_type": "stream",
     "text": [
      "A    1.128665\n",
      "B    1.753438\n",
      "C   -4.722444\n",
      "D   -0.185696\n",
      "dtype: float64\n"
     ]
    }
   ],
   "source": [
    "print(df.apply(np.sum, axis=0))\n"
   ]
  },
  {
   "cell_type": "code",
   "execution_count": 57,
   "metadata": {},
   "outputs": [
    {
     "name": "stdout",
     "output_type": "stream",
     "text": [
      "2019-05-25   -1.481886\n",
      "2019-05-26   -1.289255\n",
      "2019-05-27    0.594267\n",
      "2019-05-28    0.499470\n",
      "2019-05-29   -1.098339\n",
      "2019-05-30   -1.410826\n",
      "2019-05-31    2.354015\n",
      "2019-06-01    1.104747\n",
      "2019-06-02   -0.013915\n",
      "2019-06-03   -1.284314\n",
      "Freq: D, dtype: float64\n"
     ]
    }
   ],
   "source": [
    "print(df.apply(np.sum, axis=1))\n"
   ]
  },
  {
   "cell_type": "markdown",
   "metadata": {},
   "source": [
    "## Adding and Removing Rows and Columns in a DataFrame"
   ]
  },
  {
   "cell_type": "code",
   "execution_count": 58,
   "metadata": {},
   "outputs": [
    {
     "name": "stdout",
     "output_type": "stream",
     "text": [
      "              name  year  reports\n",
      "Singapore    Janet  2012        6\n",
      "China          Nad  2012       13\n",
      "Japan      Timothy  2013       14\n",
      "Sweden        June  2014        1\n",
      "Norway         Amy  2014        7\n"
     ]
    }
   ],
   "source": [
    "import pandas as pd\n",
    "\n",
    "data = {'name': ['Janet', 'Nad', 'Timothy', 'June', 'Amy'],\n",
    "        'year': [2012, 2012, 2013, 2014, 2014],\n",
    "        'reports': [6, 13, 14, 1, 7]}\n",
    "\n",
    "df = pd.DataFrame(data, index =\n",
    "       ['Singapore', 'China', 'Japan', 'Sweden', 'Norway'])\n",
    "print(df)\n"
   ]
  },
  {
   "cell_type": "markdown",
   "metadata": {},
   "source": [
    "### Adding a Column"
   ]
  },
  {
   "cell_type": "code",
   "execution_count": 59,
   "metadata": {},
   "outputs": [
    {
     "name": "stdout",
     "output_type": "stream",
     "text": [
      "              name  year  reports     school\n",
      "Singapore    Janet  2012        6  Cambridge\n",
      "China          Nad  2012       13     Oxford\n",
      "Japan      Timothy  2013       14     Oxford\n",
      "Sweden        June  2014        1  Cambridge\n",
      "Norway         Amy  2014        7     Oxford\n"
     ]
    }
   ],
   "source": [
    "import numpy as np\n",
    "\n",
    "schools = np.array([\"Cambridge\",\"Oxford\",\"Oxford\",\"Cambridge\",\"Oxford\"])\n",
    "df[\"school\"] = schools\n",
    "print(df)\n"
   ]
  },
  {
   "cell_type": "markdown",
   "metadata": {},
   "source": [
    "### Removing Rows"
   ]
  },
  {
   "cell_type": "code",
   "execution_count": 60,
   "metadata": {},
   "outputs": [
    {
     "name": "stdout",
     "output_type": "stream",
     "text": [
      "            name  year  reports     school\n",
      "Singapore  Janet  2012        6  Cambridge\n",
      "Sweden      June  2014        1  Cambridge\n",
      "Norway       Amy  2014        7     Oxford\n"
     ]
    }
   ],
   "source": [
    "print(df.drop(['China', 'Japan']))  # drop rows based on value of index\n"
   ]
  },
  {
   "cell_type": "code",
   "execution_count": 61,
   "metadata": {},
   "outputs": [
    {
     "name": "stdout",
     "output_type": "stream",
     "text": [
      "              name  year  reports     school\n",
      "Singapore    Janet  2012        6  Cambridge\n",
      "Japan      Timothy  2013       14     Oxford\n",
      "Sweden        June  2014        1  Cambridge\n",
      "Norway         Amy  2014        7     Oxford\n"
     ]
    }
   ],
   "source": [
    "print(df[df.name != 'Nad'])         # drop row based on column value\n"
   ]
  },
  {
   "cell_type": "code",
   "execution_count": 62,
   "metadata": {},
   "outputs": [
    {
     "name": "stdout",
     "output_type": "stream",
     "text": [
      "              name  year  reports     school\n",
      "Singapore    Janet  2012        6  Cambridge\n",
      "Japan      Timothy  2013       14     Oxford\n",
      "Sweden        June  2014        1  Cambridge\n",
      "Norway         Amy  2014        7     Oxford\n"
     ]
    }
   ],
   "source": [
    "print(df.drop(df.index[1]))\n",
    "# same as df.drop['China']\n"
   ]
  },
  {
   "cell_type": "code",
   "execution_count": 63,
   "metadata": {},
   "outputs": [
    {
     "name": "stdout",
     "output_type": "stream",
     "text": [
      "            name  year  reports     school\n",
      "Singapore  Janet  2012        6  Cambridge\n",
      "Sweden      June  2014        1  Cambridge\n",
      "Norway       Amy  2014        7     Oxford\n"
     ]
    }
   ],
   "source": [
    "print(df.drop(df.index[[1,2]]))     # remove the second and third row\n"
   ]
  },
  {
   "cell_type": "code",
   "execution_count": 64,
   "metadata": {},
   "outputs": [
    {
     "name": "stdout",
     "output_type": "stream",
     "text": [
      "              name  year  reports     school\n",
      "Singapore    Janet  2012        6  Cambridge\n",
      "China          Nad  2012       13     Oxford\n",
      "Japan      Timothy  2013       14     Oxford\n",
      "Norway         Amy  2014        7     Oxford\n"
     ]
    }
   ],
   "source": [
    "print(df.drop(df.index[-2]))        # remove second last row\n"
   ]
  },
  {
   "cell_type": "markdown",
   "metadata": {},
   "source": [
    "### Removing Columns"
   ]
  },
  {
   "cell_type": "code",
   "execution_count": 65,
   "metadata": {},
   "outputs": [
    {
     "name": "stdout",
     "output_type": "stream",
     "text": [
      "              name  year     school\n",
      "Singapore    Janet  2012  Cambridge\n",
      "China          Nad  2012     Oxford\n",
      "Japan      Timothy  2013     Oxford\n",
      "Sweden        June  2014  Cambridge\n",
      "Norway         Amy  2014     Oxford\n"
     ]
    }
   ],
   "source": [
    "print(df.drop('reports', axis=1))   # drop column\n"
   ]
  },
  {
   "cell_type": "code",
   "execution_count": 66,
   "metadata": {},
   "outputs": [
    {
     "name": "stdout",
     "output_type": "stream",
     "text": [
      "              name  reports     school\n",
      "Singapore    Janet        6  Cambridge\n",
      "China          Nad       13     Oxford\n",
      "Japan      Timothy       14     Oxford\n",
      "Sweden        June        1  Cambridge\n",
      "Norway         Amy        7     Oxford\n"
     ]
    }
   ],
   "source": [
    "print(df.drop(df.columns[1], axis=1))       # drop using columns number\n"
   ]
  },
  {
   "cell_type": "code",
   "execution_count": 67,
   "metadata": {},
   "outputs": [
    {
     "name": "stdout",
     "output_type": "stream",
     "text": [
      "              name  reports\n",
      "Singapore    Janet        6\n",
      "China          Nad       13\n",
      "Japan      Timothy       14\n",
      "Sweden        June        1\n",
      "Norway         Amy        7\n"
     ]
    }
   ],
   "source": [
    "print(df.drop(df.columns[[1,3]], axis=1))   # drop multiple columns\n"
   ]
  },
  {
   "cell_type": "markdown",
   "metadata": {},
   "source": [
    "### Generating a Crosstab"
   ]
  },
  {
   "cell_type": "code",
   "execution_count": 68,
   "metadata": {},
   "outputs": [
    {
     "name": "stdout",
     "output_type": "stream",
     "text": [
      "   Gender  Team\n",
      "0    Male     1\n",
      "1    Male     2\n",
      "2  Female     3\n",
      "3  Female     3\n",
      "4  Female     1\n"
     ]
    }
   ],
   "source": [
    "df = pd.DataFrame(\n",
    "    {\n",
    "        \"Gender\": ['Male','Male','Female','Female','Female'],\n",
    "        \"Team\"  : [1,2,3,3,1]\n",
    "    })\n",
    "print(df)\n"
   ]
  },
  {
   "cell_type": "code",
   "execution_count": 69,
   "metadata": {},
   "outputs": [
    {
     "name": "stdout",
     "output_type": "stream",
     "text": [
      "Displaying the distribution of genders in each team\n",
      "Team    1  2  3\n",
      "Gender         \n",
      "Female  1  0  2\n",
      "Male    1  1  0\n"
     ]
    }
   ],
   "source": [
    "print(\"Displaying the distribution of genders in each team\")\n",
    "print(pd.crosstab(df.Gender, df.Team))\n"
   ]
  },
  {
   "cell_type": "code",
   "execution_count": 70,
   "metadata": {},
   "outputs": [
    {
     "name": "stdout",
     "output_type": "stream",
     "text": [
      "Gender  Female  Male\n",
      "Team                \n",
      "1            1     1\n",
      "2            0     1\n",
      "3            2     0\n"
     ]
    }
   ],
   "source": [
    "print(pd.crosstab(df.Team, df.Gender))\n"
   ]
  },
  {
   "cell_type": "markdown",
   "metadata": {},
   "source": [
    "# &#x1F4DA; References\n"
   ]
  },
  {
   "cell_type": "markdown",
   "metadata": {},
   "source": [
    "The equivalent of Python's pandas in Julia is the `DataFrames.jl` package. `DataFrames.jl` provides a comprehensive set of functions for data manipulation, filtering, grouping, and aggregation, similar to what pandas offers in the Python ecosystem. It is designed to work efficiently with tabular data and offers a convenient syntax for data manipulation tasks.\n",
    "\n",
    "### Key Features of `DataFrames.jl`:\n",
    "\n",
    "- **DataFrame Objects**: Like pandas DataFrames, `DataFrames.jl` allows for the storage and manipulation of tabular data in rows and columns.\n",
    "- **Data Manipulation**: Supports a wide range of operations for data manipulation, including filtering, adding/removing columns, merging, joining, grouping, and sorting.\n",
    "- **Missing Values**: Handles missing values gracefully, similar to pandas.\n",
    "- **Integration with Other Packages**: Works well with other packages in the Julia Data ecosystem, such as `CSV.jl` for reading and writing CSV files, `JSON.jl` for JSON data, and `SQLite.jl` or `MySQL.jl` for interacting with SQL databases.\n",
    "- **Performance**: Julia is known for its performance, and `DataFrames.jl` is designed to be fast for various data manipulation tasks, benefiting from Julia's just-in-time (JIT) compilation.\n",
    "\n",
    "### Getting Started with `DataFrames.jl`:\n",
    "\n",
    "To start using `DataFrames.jl`, you first need to install the package if you haven't already:\n",
    "\n",
    "```julia\n",
    "using Pkg\n",
    "Pkg.add(\"DataFrames\")\n",
    "```\n",
    "\n",
    "Then, you can import the package and start using it:\n",
    "\n",
    "```julia\n",
    "using DataFrames\n",
    "\n",
    "# Creating a DataFrame\n",
    "df = DataFrame(A = 1:4, B = [\"M\", \"F\", \"F\", \"M\"])\n",
    "\n",
    "# Display the DataFrame\n",
    "println(df)\n",
    "```\n",
    "\n",
    "### Example Usage:\n",
    "\n",
    "Here's a simple example that demonstrates some basic `DataFrames.jl` functionality:\n",
    "\n",
    "```julia\n",
    "# Create a new DataFrame\n",
    "df = DataFrame(Name = [\"John\", \"Jane\", \"Mary\"], Age = [28, 23, 25], Gender = [\"M\", \"F\", \"F\"])\n",
    "\n",
    "# Add a new column\n",
    "df[!, :Country] = [\"USA\", \"UK\", \"USA\"]\n",
    "\n",
    "# Filter rows\n",
    "filtered_df = filter(row -> row.Age > 24, df)\n",
    "\n",
    "# Group by and aggregate\n",
    "grouped_df = groupby(df, :Gender)\n",
    "aggregate(grouped_df, :Age, mean)\n",
    "```\n",
    "\n",
    "This shows how to create DataFrames, add columns, filter data, and perform group-by operations, which are common tasks in data analysis.\n",
    "\n",
    "`DataFrames.jl` is a powerful tool for data analysis and manipulation in Julia, offering functionalities that are similar to pandas but leveraging Julia's strengths in performance and numerical computation."
   ]
  },
  {
   "cell_type": "markdown",
   "metadata": {},
   "source": [
    "In Julia, the equivalent of pandas Series and DataFrames can be found in the `DataFrames.jl` package. While Julia's `DataFrames.jl` directly provides a counterpart to pandas DataFrames, the concept of a Series is handled slightly differently. Here's a breakdown:\n",
    "\n",
    "### DataFrames\n",
    "\n",
    "- **Pandas DataFrame in Python**: A two-dimensional, size-mutable, potentially heterogeneous tabular data structure with labeled axes (rows and columns). It is one of the most commonly used pandas objects for data manipulation and analysis.\n",
    "  \n",
    "- **DataFrame in Julia (`DataFrames.jl`)**: Very similar to pandas DataFrames, Julia's DataFrame is a two-dimensional table whose columns can contain different types of data. It supports a wide range of operations like selection, manipulation, aggregation, and plotting, making it the go-to structure for data analysis tasks in Julia.\n",
    "\n",
    "### Series\n",
    "\n",
    "- **Pandas Series in Python**: A one-dimensional array with axis labels, capable of holding any data type. It can be thought of as a column in a DataFrame.\n",
    "\n",
    "- **Julia Equivalent**: Julia does not have a direct equivalent to a pandas Series as a separate type. Instead, a DataFrame column in Julia, which can be accessed by the column name, serves a purpose similar to a Series. Additionally, for one-dimensional arrays with labels, you might use a combination of Julia's built-in `Array` or `Vector` types along with an index array, or use a `Dict` (dictionary) for labeled data.\n",
    "\n",
    "Here are examples to illustrate the equivalents:\n",
    "\n",
    "### Creating a DataFrame\n",
    "\n",
    "**Python with pandas:**\n",
    "\n",
    "```python\n",
    "import pandas as pd\n",
    "\n",
    "df = pd.DataFrame({'A': [1, 2, 3], 'B': ['a', 'b', 'c']})\n",
    "print(df)\n",
    "```\n",
    "\n",
    "**Julia with `DataFrames.jl`:**\n",
    "\n",
    "```julia\n",
    "using DataFrames\n",
    "\n",
    "df = DataFrame(A = [1, 2, 3], B = ['a', 'b', 'c'])\n",
    "println(df)\n",
    "```\n",
    "\n",
    "### Working with Series-like Data\n",
    "\n",
    "**Python with pandas:**\n",
    "\n",
    "```python\n",
    "import pandas as pd\n",
    "\n",
    "series = pd.Series([1, 2, 3], index=['a', 'b', 'c'])\n",
    "print(series)\n",
    "```\n",
    "\n",
    "**Julia Equivalent (using a Dict):**\n",
    "\n",
    "```julia\n",
    "series_dict = Dict('a' => 1, 'b' => 2, 'c' => 3)\n",
    "println(series_dict)\n",
    "```\n",
    "\n",
    "Or, if you are using a DataFrame and accessing a single column:\n",
    "\n",
    "```julia\n",
    "using DataFrames\n",
    "\n",
    "df = DataFrame(A = [1, 2, 3])\n",
    "println(df.A)  # Accessing column A which acts like a Series\n",
    "```\n",
    "\n",
    "In summary, while Julia's approach to handling tabular and labeled data is slightly different, the `DataFrames.jl` package provides functionality that allows Julia to perform data manipulation tasks similar to those in pandas, including handling DataFrame-like structures efficiently."
   ]
  },
  {
   "cell_type": "code",
   "execution_count": null,
   "metadata": {},
   "outputs": [],
   "source": []
  }
 ],
 "metadata": {
  "kernelspec": {
   "display_name": "Julia 1.9.3",
   "language": "julia",
   "name": "julia-1.9"
  },
  "language_info": {
   "file_extension": ".jl",
   "mimetype": "application/julia",
   "name": "julia",
   "version": "1.10.1"
  }
 },
 "nbformat": 4,
 "nbformat_minor": 4
}
