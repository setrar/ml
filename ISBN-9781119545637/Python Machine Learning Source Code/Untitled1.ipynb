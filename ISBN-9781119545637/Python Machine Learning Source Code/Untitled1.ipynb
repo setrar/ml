{
 "cells": [
  {
   "cell_type": "code",
   "execution_count": 65,
   "id": "ebaecbe7-6251-4543-88dc-9f5cbb7f0ea4",
   "metadata": {},
   "outputs": [
    {
     "data": {
      "text/plain": [
       "1×8 reshape(transpose(::Matrix{Int64}), 1, 8) with eltype Int64:\n",
       " 11  5  2  6  3  7  4  8"
      ]
     },
     "execution_count": 65,
     "metadata": {},
     "output_type": "execute_result"
    }
   ],
   "source": [
    "list1 = [[1,2,3,4], [5,6,7,8]]\n",
    "a1 = Array(list1)\n",
    "a1[1][1] = 11  # Change the first element to 11\n",
    "\n",
    "\n",
    "# Reshape a1 to a single row\n",
    "a1 = reshape(transpose(hcat(a1...)), 1, :)\n",
    "\n",
    "# println(a1_reshaped)\n",
    "# a11 = a1_reshaped[:]\n",
    "# a11\n",
    "# vec(a11)"
   ]
  },
  {
   "cell_type": "code",
   "execution_count": 50,
   "id": "39f9497c-beda-45c7-843f-1cc0ca031955",
   "metadata": {},
   "outputs": [
    {
     "name": "stdout",
     "output_type": "stream",
     "text": [
      "[1, 5, 2, 6, 3, 7, 4, 8]\n"
     ]
    }
   ],
   "source": [
    "a = [1 2 3 4; 5 6 7 8]\n",
    "flat_a = vec(a)\n",
    "\n",
    "println(flat_a)"
   ]
  },
  {
   "cell_type": "code",
   "execution_count": 47,
   "id": "f263d48b-7769-46a7-8a0b-3ef342bdcad5",
   "metadata": {},
   "outputs": [
    {
     "name": "stdout",
     "output_type": "stream",
     "text": [
      "search: \u001b[0m\u001b[1mv\u001b[22m\u001b[0m\u001b[1me\u001b[22m\u001b[0m\u001b[1mc\u001b[22m \u001b[0m\u001b[1mV\u001b[22m\u001b[0m\u001b[1me\u001b[22m\u001b[0m\u001b[1mc\u001b[22mtor \u001b[0m\u001b[1mV\u001b[22m\u001b[0m\u001b[1me\u001b[22m\u001b[0m\u001b[1mc\u001b[22mOrMat \u001b[0m\u001b[1mV\u001b[22m\u001b[0m\u001b[1me\u001b[22m\u001b[0m\u001b[1mc\u001b[22mElement Bit\u001b[0m\u001b[1mV\u001b[22m\u001b[0m\u001b[1me\u001b[22m\u001b[0m\u001b[1mc\u001b[22mtor Dense\u001b[0m\u001b[1mV\u001b[22m\u001b[0m\u001b[1me\u001b[22m\u001b[0m\u001b[1mc\u001b[22mtor Dense\u001b[0m\u001b[1mV\u001b[22m\u001b[0m\u001b[1me\u001b[22m\u001b[0m\u001b[1mc\u001b[22mOrMat\n",
      "\n"
     ]
    },
    {
     "data": {
      "text/latex": [
       "\\begin{verbatim}\n",
       "vec(a::AbstractArray) -> AbstractVector\n",
       "\\end{verbatim}\n",
       "Reshape the array \\texttt{a} as a one-dimensional column vector. Return \\texttt{a} if it is already an \\texttt{AbstractVector}. The resulting array shares the same underlying data as \\texttt{a}, so it will only be mutable if \\texttt{a} is mutable, in which case modifying one will also modify the other.\n",
       "\n",
       "\\section{Examples}\n",
       "\\begin{verbatim}\n",
       "julia> a = [1 2 3; 4 5 6]\n",
       "2×3 Matrix{Int64}:\n",
       " 1  2  3\n",
       " 4  5  6\n",
       "\n",
       "julia> vec(a)\n",
       "6-element Vector{Int64}:\n",
       " 1\n",
       " 4\n",
       " 2\n",
       " 5\n",
       " 3\n",
       " 6\n",
       "\n",
       "julia> vec(1:3)\n",
       "1:3\n",
       "\\end{verbatim}\n",
       "See also \\href{@ref}{\\texttt{reshape}}, \\href{@ref}{\\texttt{dropdims}}.\n",
       "\n"
      ],
      "text/markdown": [
       "```\n",
       "vec(a::AbstractArray) -> AbstractVector\n",
       "```\n",
       "\n",
       "Reshape the array `a` as a one-dimensional column vector. Return `a` if it is already an `AbstractVector`. The resulting array shares the same underlying data as `a`, so it will only be mutable if `a` is mutable, in which case modifying one will also modify the other.\n",
       "\n",
       "# Examples\n",
       "\n",
       "```jldoctest\n",
       "julia> a = [1 2 3; 4 5 6]\n",
       "2×3 Matrix{Int64}:\n",
       " 1  2  3\n",
       " 4  5  6\n",
       "\n",
       "julia> vec(a)\n",
       "6-element Vector{Int64}:\n",
       " 1\n",
       " 4\n",
       " 2\n",
       " 5\n",
       " 3\n",
       " 6\n",
       "\n",
       "julia> vec(1:3)\n",
       "1:3\n",
       "```\n",
       "\n",
       "See also [`reshape`](@ref), [`dropdims`](@ref).\n"
      ],
      "text/plain": [
       "\u001b[36m  vec(a::AbstractArray) -> AbstractVector\u001b[39m\n",
       "\n",
       "  Reshape the array \u001b[36ma\u001b[39m as a one-dimensional column vector. Return \u001b[36ma\u001b[39m if it is\n",
       "  already an \u001b[36mAbstractVector\u001b[39m. The resulting array shares the same underlying\n",
       "  data as \u001b[36ma\u001b[39m, so it will only be mutable if \u001b[36ma\u001b[39m is mutable, in which case\n",
       "  modifying one will also modify the other.\n",
       "\n",
       "\u001b[1m  Examples\u001b[22m\n",
       "\u001b[1m  ≡≡≡≡≡≡≡≡\u001b[22m\n",
       "\n",
       "\u001b[36m  julia> a = [1 2 3; 4 5 6]\u001b[39m\n",
       "\u001b[36m  2×3 Matrix{Int64}:\u001b[39m\n",
       "\u001b[36m   1  2  3\u001b[39m\n",
       "\u001b[36m   4  5  6\u001b[39m\n",
       "\u001b[36m  \u001b[39m\n",
       "\u001b[36m  julia> vec(a)\u001b[39m\n",
       "\u001b[36m  6-element Vector{Int64}:\u001b[39m\n",
       "\u001b[36m   1\u001b[39m\n",
       "\u001b[36m   4\u001b[39m\n",
       "\u001b[36m   2\u001b[39m\n",
       "\u001b[36m   5\u001b[39m\n",
       "\u001b[36m   3\u001b[39m\n",
       "\u001b[36m   6\u001b[39m\n",
       "\u001b[36m  \u001b[39m\n",
       "\u001b[36m  julia> vec(1:3)\u001b[39m\n",
       "\u001b[36m  1:3\u001b[39m\n",
       "\n",
       "  See also \u001b[36mreshape\u001b[39m, \u001b[36mdropdims\u001b[39m."
      ]
     },
     "execution_count": 47,
     "metadata": {},
     "output_type": "execute_result"
    }
   ],
   "source": [
    "? vec"
   ]
  },
  {
   "cell_type": "code",
   "execution_count": 22,
   "id": "8acdeceb-3023-41d1-b91f-4629b4a77d6f",
   "metadata": {},
   "outputs": [
    {
     "name": "stdout",
     "output_type": "stream",
     "text": [
      "[1 2 3; 5 7 9; 12 15 18]\n"
     ]
    }
   ],
   "source": [
    "# Define a 2D array\n",
    "a = [1 2 3; 4 5 6; 7 8 9]\n",
    "\n",
    "# Compute the cumulative sum over rows for each column\n",
    "cumulative_sum_rows = cumsum(a, dims=1)\n",
    "\n",
    "# Print the result\n",
    "println(cumulative_sum_rows)\n"
   ]
  },
  {
   "cell_type": "code",
   "execution_count": null,
   "id": "3691a816-c9d1-43a3-826f-4deaedaa0003",
   "metadata": {},
   "outputs": [],
   "source": []
  }
 ],
 "metadata": {
  "kernelspec": {
   "display_name": "Julia 1.9.3",
   "language": "julia",
   "name": "julia-1.9"
  },
  "language_info": {
   "file_extension": ".jl",
   "mimetype": "application/julia",
   "name": "julia",
   "version": "1.10.0"
  }
 },
 "nbformat": 4,
 "nbformat_minor": 5
}
