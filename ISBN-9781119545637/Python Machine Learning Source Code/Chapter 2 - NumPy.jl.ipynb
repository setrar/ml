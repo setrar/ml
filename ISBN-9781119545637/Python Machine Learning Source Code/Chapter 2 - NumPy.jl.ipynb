{
 "cells": [
  {
   "cell_type": "markdown",
   "metadata": {},
   "source": [
    "# Creating NumPy Arrays"
   ]
  },
  {
   "cell_type": "code",
   "execution_count": 1,
   "metadata": {},
   "outputs": [],
   "source": [
    "# import numpy as np"
   ]
  },
  {
   "cell_type": "markdown",
   "metadata": {},
   "source": [
    "In Julia, the direct equivalent to NumPy arrays from Python is simply Julia's native array type. Julia's built-in array functionality is comprehensive and includes many features for numerical computation that NumPy provides in Python. Julia arrays are natively multidimensional and can perform many operations that you would typically use NumPy for, such as element-wise operations, matrix algebra, and broadcasting, without the need for an external library.\n",
    "\n",
    "### Key Similarities\n",
    "\n",
    "- **Multidimensional**: Both Julia arrays and NumPy arrays can have any number of dimensions.\n",
    "- **Indexing and Slicing**: Julia arrays use 1-based indexing (similar to MATLAB and Fortran), while NumPy arrays are 0-based. Despite this difference, both support sophisticated indexing and slicing mechanisms.\n",
    "- **Broadcasting**: Both Julia and NumPy support broadcasting, allowing you to perform vectorized operations on arrays of different shapes. In Julia, broadcasting is indicated by dot syntax (e.g., `.+`, `.*`).\n",
    "- **Type-Agnostic**: Both systems allow arrays to hold any type of data, though they are most commonly used for numerical data. Both also support specifying the data type of the array elements.\n",
    "\n",
    "### Key Differences\n",
    "\n",
    "- **1-Based Indexing**: As mentioned, Julia uses 1-based indexing, which is the main syntactical difference from Python's 0-based indexing.\n",
    "- **Performance**: Julia is designed with performance in mind, especially for numerical computing. While NumPy is highly optimized and often uses C under the hood for performance, Julia's native arrays benefit directly from the language's performance characteristics without needing to bridge to C.\n",
    "- **Syntax and Language Integration**: Julia's syntax for array operations is more integrated into the language itself, avoiding the need for an external library for basic and advanced numerical operations.\n",
    "\n",
    "### Examples\n",
    "\n",
    "Creating and manipulating arrays in Julia:\n",
    "\n",
    "```julia\n",
    "# Creating a 1D array\n",
    "a = [1, 2, 3, 4, 5]\n",
    "\n",
    "# Creating a 2D array (matrix)\n",
    "b = [1 2 3; 4 5 6; 7 8 9]\n",
    "\n",
    "# Element-wise operations (broadcasting)\n",
    "c = a .+ 1\n",
    "\n",
    "# Matrix multiplication\n",
    "d = b * b\n",
    "```\n",
    "\n",
    "These examples show how Julia's native arrays can be used in a way that's conceptually similar to how NumPy arrays are used in Python, with some differences in syntax and functionality reflecting the distinct design philosophies of Julia and Python."
   ]
  },
  {
   "cell_type": "markdown",
   "metadata": {},
   "source": [
    "---"
   ]
  },
  {
   "cell_type": "markdown",
   "metadata": {},
   "source": [
    "&#x1F3F7; To achieve the same functionality in Julia as the Python code you've provided, which involves creating a range and inspecting its elements and shape, you would use the following Julia code:\n",
    "\n",
    "In this Julia code:\n",
    "- `0:9` creates a range object, similar to `np.arange(10)` in Python. However, Julia's range includes the start and is exclusive of the end by default, which aligns with the Python `range` behavior. To get an array from this range, we use `collect(a1)`.\n",
    "- `println` is used for printing in Julia, similar to `print` in Python.\n",
    "- `size(a1_array)` gives the dimensions of the array, which is similar to `.shape` in Python's NumPy arrays."
   ]
  },
  {
   "cell_type": "code",
   "execution_count": 2,
   "metadata": {},
   "outputs": [
    {
     "name": "stdout",
     "output_type": "stream",
     "text": [
      "[0, 1, 2, 3, 4, 5, 6, 7, 8, 9]\n",
      "(10,)\n"
     ]
    }
   ],
   "source": [
    "range_a1 = 0:9 # creates a range from 0 to 9\n",
    "\n",
    "# To create an array from the range and print it\n",
    "a1 = collect(range_a1)\n",
    "println(a1)  # [0, 1, 2, 3, 4, 5, 6, 7, 8, 9]\n",
    "\n",
    "# Print the shape (dimensions) of the array\n",
    "println(size(a1))  # (10,)"
   ]
  },
  {
   "cell_type": "code",
   "execution_count": 3,
   "metadata": {},
   "outputs": [
    {
     "name": "stdout",
     "output_type": "stream",
     "text": [
      "[0, 2, 4, 6, 8]\n"
     ]
    }
   ],
   "source": [
    "# Create a range from 0 to 8 with a step of 2\n",
    "range_a2 = 0:2:8\n",
    "\n",
    "# To create an array from the range and print it\n",
    "a2 = collect(range_a2)\n",
    "println(a2)  # [0, 2, 4, 6, 8]"
   ]
  },
  {
   "cell_type": "code",
   "execution_count": 4,
   "metadata": {},
   "outputs": [
    {
     "name": "stdout",
     "output_type": "stream",
     "text": [
      "[0.0, 0.0, 0.0, 0.0, 0.0]\n",
      "(5,)\n"
     ]
    }
   ],
   "source": [
    "a3 = zeros(5)             # create an array with all 0s\n",
    "println(a3)               # [ 0.  0.  0.  0.  0.]\n",
    "println(size(a3))         # (5,)"
   ]
  },
  {
   "cell_type": "code",
   "execution_count": 5,
   "metadata": {},
   "outputs": [
    {
     "name": "stdout",
     "output_type": "stream",
     "text": [
      "(2, 3)\n"
     ]
    },
    {
     "data": {
      "text/plain": [
       "2×3 Matrix{Float64}:\n",
       " 0.0  0.0  0.0\n",
       " 0.0  0.0  0.0"
      ]
     },
     "execution_count": 5,
     "metadata": {},
     "output_type": "execute_result"
    }
   ],
   "source": [
    "a4 = zeros(2, 3)          # array of rank 2 with all 0s; 2 rows and 3 columns\n",
    "println(size(a4))         # (2,3)\n",
    "a4"
   ]
  },
  {
   "cell_type": "code",
   "execution_count": 6,
   "metadata": {},
   "outputs": [
    {
     "data": {
      "text/plain": [
       "2×3 Matrix{Int64}:\n",
       " 8  8  8\n",
       " 8  8  8"
      ]
     },
     "execution_count": 6,
     "metadata": {},
     "output_type": "execute_result"
    }
   ],
   "source": [
    "# Create a 2-dimensional array of 2 rows and 3 columns, filled with 8s\n",
    "a5 = fill(8, (2, 3))     # array of rank 2 with all 8s\n",
    "a5"
   ]
  },
  {
   "cell_type": "code",
   "execution_count": 7,
   "metadata": {},
   "outputs": [],
   "source": [
    "using LinearAlgebra\n"
   ]
  },
  {
   "cell_type": "code",
   "execution_count": 8,
   "metadata": {},
   "outputs": [
    {
     "data": {
      "text/plain": [
       "4×4 Diagonal{Bool, Vector{Bool}}:\n",
       " 1  ⋅  ⋅  ⋅\n",
       " ⋅  1  ⋅  ⋅\n",
       " ⋅  ⋅  1  ⋅\n",
       " ⋅  ⋅  ⋅  1"
      ]
     },
     "execution_count": 8,
     "metadata": {},
     "output_type": "execute_result"
    }
   ],
   "source": [
    "a6 = LinearAlgebra.I(4)                # 4x4 identity matrix\n",
    "a6"
   ]
  },
  {
   "cell_type": "code",
   "execution_count": 9,
   "metadata": {},
   "outputs": [
    {
     "data": {
      "text/plain": [
       "2×4 Matrix{Float64}:\n",
       " 0.0450877  0.243293  0.675673  0.0709491\n",
       " 0.155687   0.620302  0.963692  0.13209"
      ]
     },
     "execution_count": 9,
     "metadata": {},
     "output_type": "execute_result"
    }
   ],
   "source": [
    "a7 = rand(2, 4)              # rank 2 array (2 rows 4 columns) with random values\n",
    "                             # in the half-open interval [0.0, 1.0)\n",
    "a7"
   ]
  },
  {
   "cell_type": "code",
   "execution_count": 10,
   "metadata": {},
   "outputs": [
    {
     "name": "stdout",
     "output_type": "stream",
     "text": [
      "[1, 2, 3, 4, 5]\n",
      "(5,)\n"
     ]
    }
   ],
   "source": [
    "list1 = [1,2,3,4,5]  # list1 is a list in Julia\n",
    "# In Julia, the list itself is already an array, so we can use it directly\n",
    "r1 = list1           # rank 1 array\n",
    "println(r1)          # [1 2 3 4 5]\n",
    "println(size(r1))"
   ]
  },
  {
   "cell_type": "markdown",
   "metadata": {},
   "source": [
    "## Array Indexing"
   ]
  },
  {
   "cell_type": "markdown",
   "metadata": {},
   "source": [
    "&#x1F3F7;   In Julia, arrays are `1-based indexing` (like MatLab), which means that the first element of an array is accessed with index 1, not 0 as in Python. Additionally, Julia does not support negative indexing directly as Python does. To access elements from the end of an array in Julia, you can use the `end` keyword or calculate the position from the length of the array. Here's how you can achieve the equivalent in Julia:\n",
    "\n",
    "This approach correctly accesses the first and second elements using `1-based indexing` and accesses the last and second-to-last elements using `end` and `end-1`, respectively."
   ]
  },
  {
   "cell_type": "code",
   "execution_count": 11,
   "metadata": {},
   "outputs": [
    {
     "name": "stdout",
     "output_type": "stream",
     "text": [
      "1\n",
      "2\n",
      "5\n",
      "4\n"
     ]
    }
   ],
   "source": [
    "println(r1[1])       # 1\n",
    "println(r1[2])       # 2\n",
    "\n",
    "# No negative indexing, Print elements from the end of the array\n",
    "println(r1[end])     # 5, equivalent to r1[-1] in Python\n",
    "println(r1[end-1])   # 4, equivalent to r1[-2] in Python"
   ]
  },
  {
   "cell_type": "code",
   "execution_count": 12,
   "metadata": {},
   "outputs": [
    {
     "name": "stdout",
     "output_type": "stream",
     "text": [
      "[1 2 3 4 5; 6 7 8 9 0]\n",
      "(2, 5)\n",
      "1\n",
      "2\n",
      "6\n"
     ]
    },
    {
     "data": {
      "text/plain": [
       "2×5 transpose(::Matrix{Int64}) with eltype Int64:\n",
       " 1  2  3  4  5\n",
       " 6  7  8  9  0"
      ]
     },
     "execution_count": 12,
     "metadata": {},
     "output_type": "execute_result"
    }
   ],
   "source": [
    "list2 = [6,7,8,9,0]\n",
    "\n",
    "# Create a rank 2 matrix from the two lists\n",
    "# This stacks vertically\n",
    "# r2 = [list1 list2]  # This stacks vertically. you can also use hcat(list1, list2)\n",
    "# @show (r2 == vcat(list1, list2))\n",
    "\n",
    "r2 = transpose([list1 list2]) # rank 2 matrix\n",
    "# r2 = vcat(transpose(list1), transpose(list2))\n",
    "\n",
    "println(r2)\n",
    "\n",
    "# Print the shape (dimensions) of the array\n",
    "println(size(r2))             # (2,5) - 2 rows and 5 columns  \n",
    "\n",
    "# Access and print specific elements using Julia's 1-based indexing\n",
    "println(r2[1, 1])             # 1\n",
    "println(r2[1, 2])             # 2\n",
    "println(r2[2, 1])             # 6\n",
    "r2"
   ]
  },
  {
   "cell_type": "code",
   "execution_count": 13,
   "metadata": {},
   "outputs": [
    {
     "name": "stdout",
     "output_type": "stream",
     "text": [
      "[3, 5]\n"
     ]
    }
   ],
   "source": [
    "list1 = [1,2,3,4,5]\n",
    "r1 = vec(list1)                 # transform to vector\n",
    "println(r1[[3, 5]])             # [3 5]  1-indexed based"
   ]
  },
  {
   "cell_type": "markdown",
   "metadata": {},
   "source": [
    "## Boolean Indexing"
   ]
  },
  {
   "cell_type": "code",
   "execution_count": 14,
   "metadata": {},
   "outputs": [
    {
     "name": "stdout",
     "output_type": "stream",
     "text": [
      "Bool[0, 0, 1, 1, 1]\n"
     ]
    }
   ],
   "source": [
    "println(r1 .> 2)     # [False False  True  True  True]\n"
   ]
  },
  {
   "cell_type": "code",
   "execution_count": 15,
   "metadata": {},
   "outputs": [
    {
     "name": "stdout",
     "output_type": "stream",
     "text": [
      "[3, 4, 5]\n"
     ]
    }
   ],
   "source": [
    "println(r1[r1 .> 2]) # [3 4 5]"
   ]
  },
  {
   "cell_type": "markdown",
   "metadata": {},
   "source": [
    "# Exercises\n",
    "***\n"
   ]
  },
  {
   "cell_type": "markdown",
   "metadata": {},
   "source": [
    "1. Print out all the odd number items in the r1 array\n",
    "2. Print out the last third number in the r1 array"
   ]
  },
  {
   "cell_type": "markdown",
   "metadata": {},
   "source": [
    "# Solutions\n",
    "---"
   ]
  },
  {
   "cell_type": "code",
   "execution_count": 16,
   "metadata": {},
   "outputs": [
    {
     "name": "stdout",
     "output_type": "stream",
     "text": [
      "[1, 3, 5]\n",
      "3\n"
     ]
    }
   ],
   "source": [
    "println(r1[r1 .% 2 .== 1])\n",
    "println(r1[end-2])      # -3 in Python (0-based indexing)"
   ]
  },
  {
   "cell_type": "markdown",
   "metadata": {},
   "source": [
    "---\n"
   ]
  },
  {
   "cell_type": "code",
   "execution_count": 17,
   "metadata": {},
   "outputs": [
    {
     "name": "stdout",
     "output_type": "stream",
     "text": [
      "[0, 1, 2, 3, 4, 5, 6, 7, 8, 9, 10, 11, 12, 13, 14, 15, 16, 17, 18, 19]\n"
     ]
    }
   ],
   "source": [
    "nums = collect(0:19) # np.arange(20) if forcing 0-based index\n",
    "println(nums)        # [ 0  1  2  3  4  5  6  7  8  9 10 11 12 13 14 15 16 17 18 19]"
   ]
  },
  {
   "cell_type": "code",
   "execution_count": 18,
   "metadata": {},
   "outputs": [
    {
     "name": "stdout",
     "output_type": "stream",
     "text": [
      "[1, 3, 5, 7, 9, 11, 13, 15, 17, 19]\n"
     ]
    }
   ],
   "source": [
    "odd_num = nums[nums .% 2 .== 1]\n",
    "println(odd_num)     # [ 1  3  5  7  9 11 13 15 17 19]"
   ]
  },
  {
   "cell_type": "markdown",
   "metadata": {},
   "source": [
    "## Slicing Arrays"
   ]
  },
  {
   "cell_type": "code",
   "execution_count": 19,
   "metadata": {},
   "outputs": [
    {
     "data": {
      "text/plain": [
       "3×5 Matrix{Int64}:\n",
       " 1  2  3  4  5\n",
       " 4  5  6  7  8\n",
       " 9  8  7  6  5"
      ]
     },
     "execution_count": 19,
     "metadata": {},
     "output_type": "execute_result"
    }
   ],
   "source": [
    "a = [1 2 3 4 5; \n",
    "     4 5 6 7 8; \n",
    "     9 8 7 6 5]  # rank 3 array\n",
    "a"
   ]
  },
  {
   "cell_type": "code",
   "execution_count": 20,
   "metadata": {},
   "outputs": [
    {
     "name": "stdout",
     "output_type": "stream",
     "text": [
      "[4 5 6; 9 8 7]\n"
     ]
    },
    {
     "data": {
      "text/plain": [
       "2×3 Matrix{Int64}:\n",
       " 4  5  6\n",
       " 9  8  7"
      ]
     },
     "execution_count": 20,
     "metadata": {},
     "output_type": "execute_result"
    }
   ],
   "source": [
    "b1 = a[2:3, 1:3]            # row 2 to 3 (inclusive) and first 3 columns\n",
    "println(b1)                 # in Python row 1 to 3 (not inclusive) and first 3 columns\n",
    "b1"
   ]
  },
  {
   "cell_type": "code",
   "execution_count": 21,
   "metadata": {},
   "outputs": [
    {
     "name": "stdout",
     "output_type": "stream",
     "text": [
      "[7 8; 6 5]\n"
     ]
    },
    {
     "data": {
      "text/plain": [
       "2×2 Matrix{Int64}:\n",
       " 7  8\n",
       " 6  5"
      ]
     },
     "execution_count": 21,
     "metadata": {},
     "output_type": "execute_result"
    }
   ],
   "source": [
    "b2 = a[end-1:end, end-1:end]   # Select the last two rows and the last two columns\n",
    "println(b2)                    # In python b2 = a[-2:,-2:]\n",
    "b2"
   ]
  },
  {
   "cell_type": "markdown",
   "metadata": {},
   "source": [
    "## NumPy Slice Is a Reference"
   ]
  },
  {
   "cell_type": "markdown",
   "metadata": {},
   "source": [
    "&#x1F3F7;   In Julia, slicing an array creates a copy, so modifications to the slice do not affect the original array. To modify the original array through a slice, use a view with `view` function or `@view` macro."
   ]
  },
  {
   "cell_type": "code",
   "execution_count": 22,
   "metadata": {},
   "outputs": [
    {
     "name": "stdout",
     "output_type": "stream",
     "text": [
      "[6 7 8; 7 6 5]\n"
     ]
    },
    {
     "data": {
      "text/plain": [
       "2×3 view(::Matrix{Int64}, 2:3, 3:5) with eltype Int64:\n",
       " 6  7  8\n",
       " 7  6  5"
      ]
     },
     "execution_count": 22,
     "metadata": {},
     "output_type": "execute_result"
    }
   ],
   "source": [
    "b3 = @view a[2:end, 3:end] # row 2 onwards and column 3 onwards (1-based index)\n",
    "                           # In Python: row 1 onwards and column 2 onwards (0-based index)\n",
    "                           # b3 is now pointing to a subset of a7\n",
    "println(b3)\n",
    "b3"
   ]
  },
  {
   "cell_type": "code",
   "execution_count": 23,
   "metadata": {},
   "outputs": [
    {
     "data": {
      "text/plain": [
       "3×5 Matrix{Int64}:\n",
       " 1  2  3  4   5\n",
       " 4  5  6  7  88\n",
       " 9  8  7  6   5"
      ]
     },
     "execution_count": 23,
     "metadata": {},
     "output_type": "execute_result"
    }
   ],
   "source": [
    "b3[1,3] = 88         # b3[1,3] is pointing to a[2,5]; modifying it will modify\n",
    "                     # the original array\n",
    "a                    # In Python, b3[0,2] is pointing to a[1,4]; "
   ]
  },
  {
   "cell_type": "code",
   "execution_count": 24,
   "metadata": {},
   "outputs": [
    {
     "name": "stdout",
     "output_type": "stream",
     "text": [
      "[9 8 7 6 5]\n",
      "(1, 5)"
     ]
    },
    {
     "data": {
      "text/plain": [
       "1×5 Matrix{Int64}:\n",
       " 9  8  7  6  5"
      ]
     },
     "execution_count": 24,
     "metadata": {},
     "output_type": "execute_result"
    }
   ],
   "source": [
    "b4 = a[3:end, :]       # row 3 onwards and all columns\n",
    "                       # In Python, row 2 onwards and all columns\n",
    "println(b4)            # b4 is rank 2 (i.e. Matrix)\n",
    "print(size(b4))        # Output In Python [[9 8 7 6 5]] Observe the double square brackets\n",
    "b4"
   ]
  },
  {
   "cell_type": "code",
   "execution_count": 25,
   "metadata": {},
   "outputs": [
    {
     "name": "stdout",
     "output_type": "stream",
     "text": [
      "[9, 8, 7, 6, 5]"
     ]
    }
   ],
   "source": [
    "b5 = a[3, :]         # row 3 and all columns (:)\n",
    "                     # In Python, row 2 and all columns\n",
    "print(b5)            # b5 is rank 1 (i.e. Vector)"
   ]
  },
  {
   "cell_type": "code",
   "execution_count": 26,
   "metadata": {},
   "outputs": [
    {
     "name": "stdout",
     "output_type": "stream",
     "text": [
      "(5,)\n"
     ]
    },
    {
     "data": {
      "text/plain": [
       "5-element Vector{Int64}:\n",
       " 9\n",
       " 8\n",
       " 7\n",
       " 6\n",
       " 5"
      ]
     },
     "execution_count": 26,
     "metadata": {},
     "output_type": "execute_result"
    }
   ],
   "source": [
    "println(size(b5))      # (5,)\n",
    "b5"
   ]
  },
  {
   "cell_type": "markdown",
   "metadata": {},
   "source": [
    "# Reshaping Arrays"
   ]
  },
  {
   "cell_type": "markdown",
   "metadata": {},
   "source": [
    "In Julia, to reshape an array `b5` into a 1-row 2D array, similar to NumPy's `reshape(1, -1)`, use:\n",
    "\n",
    "```julia\n",
    "b5_reshaped = reshape(b5, 1, :))\n",
    "```\n",
    "\n",
    "This keeps `b5`'s total number of elements, distributing them across 1 row."
   ]
  },
  {
   "cell_type": "code",
   "execution_count": 27,
   "metadata": {},
   "outputs": [
    {
     "name": "stdout",
     "output_type": "stream",
     "text": [
      "[9 8 7 6 5]\n"
     ]
    },
    {
     "data": {
      "text/plain": [
       "1×5 Matrix{Int64}:\n",
       " 9  8  7  6  5"
      ]
     },
     "execution_count": 27,
     "metadata": {},
     "output_type": "execute_result"
    }
   ],
   "source": [
    "b5 = reshape(b5, 1, :)\n",
    "println(b5)\n",
    "b5\n",
    "# Python           Julia\n",
    "# [[9 8 7 6 5]] is 1×5 Matrix{Int64}:\n",
    "#                   9  8  7  6  5"
   ]
  },
  {
   "cell_type": "code",
   "execution_count": 28,
   "metadata": {},
   "outputs": [
    {
     "data": {
      "text/plain": [
       "5-element Vector{Int64}:\n",
       " 9\n",
       " 8\n",
       " 7\n",
       " 6\n",
       " 5"
      ]
     },
     "execution_count": 28,
     "metadata": {},
     "output_type": "execute_result"
    }
   ],
   "source": [
    "b4 = vec(b4) # In Python b4.reshape(-1,)"
   ]
  },
  {
   "cell_type": "markdown",
   "metadata": {},
   "source": [
    "In Julia, to reshape an array `b4` into a 1-dimensional array (equivalent to Python's `reshape(-1,)`), you can use:\n",
    "\n",
    "```julia\n",
    "b4_flat = vec(b4)\n",
    "```\n",
    "\n",
    "or\n",
    "\n",
    "```julia\n",
    "b4_flat = reshape(b4, :)\n",
    "```\n",
    "\n",
    "Both methods will flatten `b4` into a 1D array."
   ]
  },
  {
   "cell_type": "markdown",
   "metadata": {},
   "source": [
    "# Array Maths"
   ]
  },
  {
   "cell_type": "code",
   "execution_count": 29,
   "metadata": {},
   "outputs": [
    {
     "name": "stdout",
     "output_type": "stream",
     "text": [
      "[8 10 12; 6 8 10]\n"
     ]
    },
    {
     "data": {
      "text/plain": [
       "2×3 Matrix{Int64}:\n",
       " 8  10  12\n",
       " 6   8  10"
      ]
     },
     "execution_count": 29,
     "metadata": {},
     "output_type": "execute_result"
    }
   ],
   "source": [
    "# Define the arrays\n",
    "x1 = [1 2 3; 4 5 6]\n",
    "y1 = [7 8 9; 2 3 4]\n",
    "\n",
    "# Print the result\n",
    "println(x1 + y1)\n",
    "x1 + y1"
   ]
  },
  {
   "cell_type": "code",
   "execution_count": 30,
   "metadata": {},
   "outputs": [],
   "source": [
    "x = [2,3]\n",
    "y = [4,2]\n",
    "z = x + y;\n"
   ]
  },
  {
   "cell_type": "code",
   "execution_count": 31,
   "metadata": {},
   "outputs": [
    {
     "data": {
      "text/plain": [
       "2×3 Matrix{Int64}:\n",
       " 8  10  12\n",
       " 6   8  10"
      ]
     },
     "execution_count": 31,
     "metadata": {},
     "output_type": "execute_result"
    }
   ],
   "source": [
    "x1 + y1"
   ]
  },
  {
   "cell_type": "code",
   "execution_count": 32,
   "metadata": {},
   "outputs": [
    {
     "name": "stdout",
     "output_type": "stream",
     "text": [
      "x1 .- y1 = [-6 -6 -6; 2 2 2]\n",
      "x1 .* y1 = [7 16 27; 8 15 24]\n",
      "x1 ./ y1 = [0.14285714285714285 0.25 0.3333333333333333; 2.0 1.6666666666666667 1.5]\n"
     ]
    }
   ],
   "source": [
    "@show (x1 .- y1)     # same as np.subtract(x1,y1)\n",
    "@show (x1 .* y1)     # same as np.multiply(x1,y1)\n",
    "@show (x1 ./ y1);    # same as np.divide(x1,y1)"
   ]
  },
  {
   "cell_type": "code",
   "execution_count": 33,
   "metadata": {},
   "outputs": [
    {
     "name": "stdout",
     "output_type": "stream",
     "text": [
      "[28.88888888888889, 14.518368892816563, 23.046874999999996]\n"
     ]
    }
   ],
   "source": [
    "# Define the arrays\n",
    "names = [\"Ann\", \"Joe\", \"Mark\"]\n",
    "heights = [1.5, 1.78, 1.6]\n",
    "weights = [65, 46, 59]\n",
    "\n",
    "# Calculate the BMI\n",
    "bmi = weights ./ (heights .^ 2)  # Note the use of broadcasting operators (.^ and ./)\n",
    "\n",
    "# Print the BMI\n",
    "println(bmi)                     # [ 28.88888889  14.51836889  23.046875  ]"
   ]
  },
  {
   "cell_type": "code",
   "execution_count": 34,
   "metadata": {},
   "outputs": [
    {
     "name": "stdout",
     "output_type": "stream",
     "text": [
      "Overweight: [\"Ann\"]\n",
      "Underweight: [\"Joe\"]\n",
      "Healthy: [\"Mark\"]\n"
     ]
    }
   ],
   "source": [
    "println(\"Overweight: \" , names[filter(i -> bmi[i] > 25, 1:length(names))])\n",
    "println(\"Underweight: \", names[filter(i -> bmi[i] < 18.5, 1:length(names))])\n",
    "println(\"Healthy: \"    , names[filter(i -> bmi[i] >= 18.5 && bmi[i] <= 25, 1:length(names))])"
   ]
  },
  {
   "cell_type": "markdown",
   "metadata": {},
   "source": [
    "# Dot Product"
   ]
  },
  {
   "cell_type": "code",
   "execution_count": 35,
   "metadata": {},
   "outputs": [
    {
     "data": {
      "text/plain": [
       "14"
      ]
     },
     "execution_count": 35,
     "metadata": {},
     "output_type": "execute_result"
    }
   ],
   "source": [
    "x = [2,3]\n",
    "y = [4,2]\n",
    "dot(x,y)  # 2x4 + 3x2 = 14 \n"
   ]
  },
  {
   "cell_type": "code",
   "execution_count": 36,
   "metadata": {},
   "outputs": [
    {
     "name": "stdout",
     "output_type": "stream",
     "text": [
      "[58 64; 139 154]\n"
     ]
    },
    {
     "data": {
      "text/plain": [
       "2×2 Matrix{Int64}:\n",
       "  58   64\n",
       " 139  154"
      ]
     },
     "execution_count": 36,
     "metadata": {},
     "output_type": "execute_result"
    }
   ],
   "source": [
    "x2 = [1 2 3; 4 5 6]\n",
    "y2 = [7 8; 9 10; 11 12]\n",
    "println(x2 * y2)  # matrix multiplication\n",
    "x2 * y2\n"
   ]
  },
  {
   "cell_type": "markdown",
   "metadata": {},
   "source": [
    "## Matrix"
   ]
  },
  {
   "cell_type": "code",
   "execution_count": 37,
   "metadata": {},
   "outputs": [],
   "source": [
    "# Define the matrices\n",
    "x2 = [1 2; 4 5]      # x2 = np.matrix([[1,2],[4,5]])\n",
    "y2 = [7 8; 2 3];      # y2 = np.matrix([[7,8],[2,3]])\n"
   ]
  },
  {
   "cell_type": "code",
   "execution_count": 38,
   "metadata": {},
   "outputs": [],
   "source": [
    "# x1 = np.array([[1,2],[4,5]])\n",
    "# y1 = np.array([[7,8],[2,3]])\n",
    "# x1 = np.asmatrix(x1)\n",
    "# y1 = np.asmatrix(y1)\n"
   ]
  },
  {
   "cell_type": "markdown",
   "metadata": {},
   "source": [
    "In Julia, there's no need to convert arrays to a matrix type for matrix operations because Julia's native arrays already support matrix arithmetic, including multiplication, addition, inversion, and more, directly. However, if you're looking for an equivalent way to ensure that your variables are treated specifically as matrices (for example, for clarity or to access certain matrix-specific functions), you can simply work with two-dimensional arrays, as Julia's array type is inherently multidimensional and behaves like a matrix when it has two dimensions.\n",
    "\n",
    "Here's how you can define and use two-dimensional arrays (matrices) in Julia, equivalent to the Python code you provided:\n",
    "\n",
    "```julia\n",
    "# Define the arrays as two-dimensional Julia arrays\n",
    "x1 = [1 2; 4 5]\n",
    "y1 = [7 8; 2 3]\n",
    "\n",
    "# Perform matrix operations directly\n",
    "# For example, matrix multiplication\n",
    "result = x1 * y1\n",
    "\n",
    "# Julia's arrays support matrix operations directly, so there's no need for a separate 'asmatrix' step\n",
    "println(result)\n",
    "```\n",
    "\n",
    "This code defines `x1` and `y1` as two-dimensional arrays and performs matrix multiplication directly with the `*` operator, showcasing the simplicity of matrix operations in Julia without the need for converting array types."
   ]
  },
  {
   "cell_type": "code",
   "execution_count": 39,
   "metadata": {},
   "outputs": [
    {
     "name": "stdout",
     "output_type": "stream",
     "text": [
      "[7 16; 8 15]\n",
      "[11 14; 38 47]\n"
     ]
    }
   ],
   "source": [
    "x1 = [1 2; 4 5]     # x1 = np.array([[1,2],[4,5]])\n",
    "y1 = [7 8; 2 3]     # y1 = np.array([[7,8],[2,3]])\n",
    "println(x1 .* y1)     # element-by-element multiplication\n",
    "\n",
    "x2 = [1 2; 4 5]     # x2 = np.matrix([[1,2],[4,5]])\n",
    "y2 = [7 8; 2 3]     # y2 = np.matrix([[7,8],[2,3]])\n",
    "\n",
    "println(x2 * y2)    # dot product; same as np.dot()\n"
   ]
  },
  {
   "cell_type": "markdown",
   "metadata": {},
   "source": [
    "## Cumulative Sum"
   ]
  },
  {
   "cell_type": "code",
   "execution_count": 40,
   "metadata": {},
   "outputs": [
    {
     "name": "stdout",
     "output_type": "stream",
     "text": [
      "[1 2 3; 4 5 6; 7 8 9]\n"
     ]
    },
    {
     "data": {
      "text/plain": [
       "3×3 Matrix{Int64}:\n",
       " 1  2  3\n",
       " 4  5  6\n",
       " 7  8  9"
      ]
     },
     "execution_count": 40,
     "metadata": {},
     "output_type": "execute_result"
    }
   ],
   "source": [
    "a = [1 2 3;4 5 6;7 8 9]   # a = np.array([(1,2,3),(4,5,6), (7,8,9)])\n",
    "println(a)\n",
    "a"
   ]
  },
  {
   "cell_type": "code",
   "execution_count": 41,
   "metadata": {},
   "outputs": [
    {
     "name": "stdout",
     "output_type": "stream",
     "text": [
      "[1, 3, 6, 10, 15, 21, 28, 36, 45]\n"
     ]
    }
   ],
   "source": [
    "println(cumsum(vec(transpose(a))))   # prints the cumulative sum of all the\n",
    "                                     # elements in the array\n",
    "                                     # [ 1  3  6 10 15 21 28 36 45]\n",
    "                                     # reshape(transpose(a),:)) can also be used"
   ]
  },
  {
   "cell_type": "markdown",
   "metadata": {},
   "source": [
    "&#x1F3F7;   In Julia, arrays are stored in column-major order by default, meaning operations like `reshape` or `vec` will flatten the array in column-major order. To flatten an array by row and then compute the cumulative sum, you can first transpose the array to switch rows and columns, flatten the transposed array, and then apply `cumsum`. Here's how you can do it:\n",
    "\n",
    "```julia\n",
    "# Define a 2D array\n",
    "a = [1 2 3; 4 5 6; 7 8 9]\n",
    "\n",
    "# Transpose, flatten the array by row, and compute the cumulative sum\n",
    "cumulative_sum = cumsum(reshape(transpose(a), :))\n",
    "\n",
    "# Print the result\n",
    "println(cumulative_sum)\n",
    "```\n",
    "\n",
    "In this code:\n",
    "- `transpose(a)` transposes the array `a`, switching its rows and columns.\n",
    "- `reshape(transpose(a), :)` flattens the transposed array, effectively flattening `a` by rows due to the prior transposition.\n",
    "- `cumsum` computes the cumulative sum over this flattened array.\n",
    "\n",
    "The output will be the cumulative sum as if the array was flattened by rows, not by columns:\n",
    "\n",
    "```\n",
    "[1, 3, 6, 10, 15, 21, 28, 36, 45]\n",
    "```\n",
    "\n",
    "This result matches the expected behavior of flattening by row in a row-major order context, even though Julia uses column-major order for storage."
   ]
  },
  {
   "cell_type": "code",
   "execution_count": 42,
   "metadata": {},
   "outputs": [
    {
     "name": "stdout",
     "output_type": "stream",
     "text": [
      "[1 2 3; 5 7 9; 12 15 18]\n"
     ]
    }
   ],
   "source": [
    "println(cumsum(a, dims=1))  # sum over rows for each of the 3 columns\n"
   ]
  },
  {
   "cell_type": "code",
   "execution_count": 43,
   "metadata": {},
   "outputs": [
    {
     "name": "stdout",
     "output_type": "stream",
     "text": [
      "[1 3 6; 4 9 15; 7 15 24]\n"
     ]
    }
   ],
   "source": [
    "println(cumsum(a, dims=2))  # sum over columns for each of the 3 rows\n"
   ]
  },
  {
   "cell_type": "markdown",
   "metadata": {},
   "source": [
    "## NumPy Sorting"
   ]
  },
  {
   "cell_type": "code",
   "execution_count": 44,
   "metadata": {},
   "outputs": [
    {
     "name": "stdout",
     "output_type": "stream",
     "text": [
      "[5, 12, 13, 34, 37]\n",
      "[34, 12, 37, 5, 13]\n"
     ]
    }
   ],
   "source": [
    "ages = [34, 12, 37, 5, 13]\n",
    "sorted_ages = sort(ages)      # does not modify the original array\n",
    "println(sorted_ages)          # [ 5, 12, 13, 34, 37]\n",
    "println(ages)                 # [34, 12, 37, 5, 13]\n"
   ]
  },
  {
   "cell_type": "code",
   "execution_count": 45,
   "metadata": {},
   "outputs": [
    {
     "name": "stdout",
     "output_type": "stream",
     "text": [
      "[5, 12, 13, 34, 37]"
     ]
    }
   ],
   "source": [
    "sort!(ages)                   # modifies the array\n",
    "print(ages)                   # [ 5, 12, 13, 34, 37]\n"
   ]
  },
  {
   "cell_type": "code",
   "execution_count": 46,
   "metadata": {},
   "outputs": [
    {
     "name": "stdout",
     "output_type": "stream",
     "text": [
      "[4, 2, 5, 1, 3]\n"
     ]
    }
   ],
   "source": [
    "ages = [34, 12, 37, 5, 13]\n",
    "println(sortperm(ages))         # In Python ages.argsort()\n",
    "                              # In Python [0-based index] returns [3 1 4 0 2]\n",
    "                              # In Julia [1-based index] returns [4, 2, 5, 1, 3]"
   ]
  },
  {
   "cell_type": "markdown",
   "metadata": {},
   "source": [
    "In Julia, to obtain the indices that would sort an array, you can use the `sortperm` function. This function returns an array of indices that sorts the array. \n",
    "\n",
    "This code snippet will output the indices of `ages` that would sort the array. Note that Julia uses `1-based indexing`, so the indices may appear different from Python's 0-based indexing, but the relative ordering is what matters for sorting purposes."
   ]
  },
  {
   "cell_type": "code",
   "execution_count": 47,
   "metadata": {},
   "outputs": [
    {
     "name": "stdout",
     "output_type": "stream",
     "text": [
      "[5, 12, 13, 34, 37]\n"
     ]
    }
   ],
   "source": [
    "println(ages[sortperm(ages)])   # [5, 12, 13, 34, 37]\n"
   ]
  },
  {
   "cell_type": "code",
   "execution_count": 48,
   "metadata": {},
   "outputs": [],
   "source": [
    "persons = [\"Johnny\", \"Mary\", \"Peter\", \"Will\", \"Joe\"]\n",
    "ages    = [34, 12, 37, 5, 13]\n",
    "heights = [1.76, 1.2, 1.68, 0.5, 1.25];\n"
   ]
  },
  {
   "cell_type": "code",
   "execution_count": 49,
   "metadata": {},
   "outputs": [],
   "source": [
    "sort_indices = sortperm(ages);   # performs a sort based on ages\n",
    "                                 # and returns an array of indices\n",
    "                                 # indicating the sort order\n"
   ]
  },
  {
   "cell_type": "code",
   "execution_count": 50,
   "metadata": {},
   "outputs": [
    {
     "name": "stdout",
     "output_type": "stream",
     "text": [
      "[\"Will\", \"Mary\", \"Joe\", \"Johnny\", \"Peter\"]\n",
      "[5, 12, 13, 34, 37]\n",
      "[0.5, 1.2, 1.25, 1.76, 1.68]\n"
     ]
    }
   ],
   "source": [
    "println(persons[sort_indices])    # [\"Will\", \"Mary\", \"Joe\", \"Johnny\", \"Peter\"]\n",
    "println(ages[sort_indices])       # [5, 12, 13, 34, 37]\n",
    "println(heights[sort_indices])    # [0.5, 1.2, 1.25, 1.76, 1.68]\n"
   ]
  },
  {
   "cell_type": "code",
   "execution_count": 51,
   "metadata": {},
   "outputs": [
    {
     "name": "stdout",
     "output_type": "stream",
     "text": [
      "[\"Joe\", \"Johnny\", \"Mary\", \"Peter\", \"Will\"]\n",
      "[13, 34, 12, 37, 5]\n",
      "[1.25, 1.76, 1.2, 1.68, 0.5]\n"
     ]
    }
   ],
   "source": [
    "sort_indices = sortperm(persons)   # sort based on names\n",
    "println(persons[sort_indices])     # [\"Joe\", \"Johnny\", \"Mary\", \"Peter\", \"Will\"]\n",
    "println(ages[sort_indices])        # [13, 34, 12, 37, 5]\n",
    "println(heights[sort_indices])     # 1.25, 1.76, 1.2, 1.68, 0.5]\n"
   ]
  },
  {
   "cell_type": "code",
   "execution_count": 52,
   "metadata": {},
   "outputs": [
    {
     "name": "stdout",
     "output_type": "stream",
     "text": [
      "[\"Will\", \"Peter\", \"Mary\", \"Johnny\", \"Joe\"]\n",
      "[5, 37, 12, 34, 13]\n",
      "[0.5, 1.68, 1.2, 1.76, 1.25]\n"
     ]
    }
   ],
   "source": [
    "reverse_sort_indices = sortperm(persons, rev=true) # reverse the order of a list\n",
    "println(persons[reverse_sort_indices])             # [\"Will\", \"Peter\", \"Mary\", \"Johnny\", \"Joe\"]\n",
    "println(ages[reverse_sort_indices])                # [5, 37, 12, 34, 13]\n",
    "println(heights[reverse_sort_indices])             # [0.5, 1.68, 1.2, 1.76, 1.25]\n"
   ]
  },
  {
   "cell_type": "markdown",
   "metadata": {},
   "source": [
    "# Array Assignment"
   ]
  },
  {
   "cell_type": "markdown",
   "metadata": {},
   "source": [
    "## Copying by Reference"
   ]
  },
  {
   "cell_type": "code",
   "execution_count": 53,
   "metadata": {},
   "outputs": [
    {
     "name": "stdout",
     "output_type": "stream",
     "text": [
      "[[1, 2, 3, 4], [5, 6, 7, 8]]\n"
     ]
    }
   ],
   "source": [
    "list1 = [[1,2,3,4], [5,6,7,8]]\n",
    "a1 = Array(list1)\n",
    "println(a1)\n"
   ]
  },
  {
   "cell_type": "code",
   "execution_count": 54,
   "metadata": {},
   "outputs": [
    {
     "name": "stdout",
     "output_type": "stream",
     "text": [
      "[[1, 2, 3, 4], [5, 6, 7, 8]]\n",
      "[[1, 2, 3, 4], [5, 6, 7, 8]]\n"
     ]
    }
   ],
   "source": [
    "a2 = a1             # creates a copy by reference\n",
    "println(a1)\n",
    "println(a2)\n"
   ]
  },
  {
   "cell_type": "code",
   "execution_count": 55,
   "metadata": {},
   "outputs": [
    {
     "name": "stdout",
     "output_type": "stream",
     "text": [
      "[[11, 2, 3, 4], [5, 6, 7, 8]]\n",
      "[[11, 2, 3, 4], [5, 6, 7, 8]]\n"
     ]
    }
   ],
   "source": [
    "a2[1][1] = 11      # make some changes to a2\n",
    "println(a1)          # affects a1\n",
    "println(a2)\n"
   ]
  },
  {
   "cell_type": "code",
   "execution_count": 56,
   "metadata": {},
   "outputs": [
    {
     "name": "stdout",
     "output_type": "stream",
     "text": [
      "[11 5 2 6 3 7 4 8]\n",
      "[11 5 2 6 3 7 4 8]\n"
     ]
    }
   ],
   "source": [
    "a1 = reshape(transpose(hcat(a1...)), 1, :) # Reshape to a column vector\n",
    "a2 = a1  # Now a2 references the reshaped a1\n",
    "println(a1)\n",
    "println(a2)         # a2 also changes shape"
   ]
  },
  {
   "cell_type": "markdown",
   "metadata": {},
   "source": [
    "Given that reshaping in Julia doesn't modify the original array, if you still want `a2` to reflect changes to `a1` (like a reshape), you'd need to work with array views or explicitly set `a2` to the reshaped version of a1 each time. "
   ]
  },
  {
   "cell_type": "markdown",
   "metadata": {},
   "source": [
    "## Copying by View (Shallow Copy)"
   ]
  },
  {
   "cell_type": "code",
   "execution_count": 57,
   "metadata": {},
   "outputs": [
    {
     "name": "stdout",
     "output_type": "stream",
     "text": [
      "[[1, 2, 3, 4], [5, 6, 7, 8]]\n",
      "[[1, 2, 3, 4], [5, 6, 7, 8]]\n"
     ]
    }
   ],
   "source": [
    "list1 = [[1,2,3,4], [5,6,7,8]]\n",
    "a1 = Array(list1)\n",
    "a2 = view(a1,:)    # creates a copy of a1 by reference; but changes\n",
    "                  # in dimension in a1 will not affect a2\n",
    "println(a1)\n",
    "println(a2)\n"
   ]
  },
  {
   "cell_type": "code",
   "execution_count": 58,
   "metadata": {},
   "outputs": [
    {
     "name": "stdout",
     "output_type": "stream",
     "text": [
      "[[11, 2, 3, 4], [5, 6, 7, 8]]\n",
      "[[11, 2, 3, 4], [5, 6, 7, 8]]\n"
     ]
    }
   ],
   "source": [
    "a1[1][1] = 11     # make some changes in a1\n",
    "println(a1)\n",
    "println(a2)         # changes is also seen in a2\n"
   ]
  },
  {
   "cell_type": "code",
   "execution_count": 59,
   "metadata": {},
   "outputs": [
    {
     "name": "stdout",
     "output_type": "stream",
     "text": [
      "[11 5 2 6 3 7 4 8][[11, 2, 3, 4], [5, 6, 7, 8]]"
     ]
    }
   ],
   "source": [
    "a1 = reshape(transpose(hcat(a1...)), 1, :) # Reshape to a column vector\n",
    "print(a1)\n",
    "print(a2)         # a2 does not change shape\n"
   ]
  },
  {
   "cell_type": "markdown",
   "metadata": {},
   "source": [
    "## Copying by Value (Deep Copy)"
   ]
  },
  {
   "cell_type": "code",
   "execution_count": 60,
   "metadata": {},
   "outputs": [
    {
     "data": {
      "text/plain": [
       "2-element Vector{Vector{Int64}}:\n",
       " [1, 2, 3, 4]\n",
       " [5, 6, 7, 8]"
      ]
     },
     "execution_count": 60,
     "metadata": {},
     "output_type": "execute_result"
    }
   ],
   "source": [
    "list1 = [[1,2,3,4], [5,6,7,8]]\n",
    "a1 = Array(list1)\n",
    "a2 = deepcopy(a1)     # create a copy of a1 by value (deep copy)\n"
   ]
  },
  {
   "cell_type": "code",
   "execution_count": 61,
   "metadata": {},
   "outputs": [
    {
     "name": "stdout",
     "output_type": "stream",
     "text": [
      "[[11, 2, 3, 4], [5, 6, 7, 8]]\n",
      "[[1, 2, 3, 4], [5, 6, 7, 8]]\n"
     ]
    }
   ],
   "source": [
    "a1[1][1] = 11     # make some changes in a1\n",
    "println(a1)\n",
    "println(a2)         # changes is not seen in a2\n"
   ]
  },
  {
   "cell_type": "code",
   "execution_count": 62,
   "metadata": {},
   "outputs": [
    {
     "name": "stdout",
     "output_type": "stream",
     "text": [
      "[11 5 2 6 3 7 4 8]\n",
      "[[1, 2, 3, 4], [5, 6, 7, 8]]\n"
     ]
    }
   ],
   "source": [
    "a1 = reshape(transpose(hcat(a1...)), 1, :) # Reshape to a column vector\n",
    "println(a1)\n",
    "println(a2)         # a2 does not change shape"
   ]
  },
  {
   "cell_type": "code",
   "execution_count": null,
   "metadata": {},
   "outputs": [],
   "source": []
  }
 ],
 "metadata": {
  "kernelspec": {
   "display_name": "Julia 1.9.3",
   "language": "julia",
   "name": "julia-1.9"
  },
  "language_info": {
   "file_extension": ".jl",
   "mimetype": "application/julia",
   "name": "julia",
   "version": "1.10.0"
  }
 },
 "nbformat": 4,
 "nbformat_minor": 4
}
